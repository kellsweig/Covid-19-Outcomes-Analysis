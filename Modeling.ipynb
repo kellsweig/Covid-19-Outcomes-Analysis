{
 "cells": [
  {
   "cell_type": "markdown",
   "id": "5ff23367-c0e2-4a3c-bb22-8c21939f2970",
   "metadata": {
    "tags": []
   },
   "source": [
    "# Modeling & Cleaning Issues:"
   ]
  },
  {
   "cell_type": "markdown",
   "id": "740d466f-dbb6-4f87-a1b9-42fe650ff974",
   "metadata": {},
   "source": [
    "### Data Cleaning for Cases and Deaths:\n",
    "Deaths and cases were cumulative to each date. To get just the cases in 2021, the cases and deaths in 2020 need to be subtracted. Same for 2022.\n",
    "\n",
    "This would explain why the cases and death numbers seem too high.\n",
    "\n",
    "This could also be part of the reason the models are not performing well at the county level.\n",
    "\n",
    "\n",
    "Do we want to examine total cases as our y variable (sum of 20, 21, and 22) or do we also separately want to examine early verses late pandemic outcomes? \n",
    "\n",
    "John- if for now you want to look at total pandemic outcomes and keep it simple- you could treat case rate or death rate as cases_2022/population or deaths_2022/ population and just drop 2020 and 2021. these numbers were cumulative and would have included the totals for the prior years. \n"
   ]
  },
  {
   "cell_type": "markdown",
   "id": "d93bbc0e-d395-439e-b12b-a7b27b7a6e31",
   "metadata": {},
   "source": [
    "## Next Steps:\n",
    "\n",
    "1. Retry merging the county datasets on countyFIPS not on county. We lost almost half the dataset in the merge and i think we can retain a lot more of this by merging on the fips code instead of dropping the fips code\n",
    "\n",
    "2. I have simplified county vax data saved. I have the vax rates by county from Sept 2021 saved as county_vax_2021 and for 2022 saved as county_vax_2022. County_vax_2021 only includes the percent of the pop that received the first dose and the percent of 65 and older who received the first dose while the 2022 dataset also includes boosters etc. However, there was more missing data in 2022 so we may just want to use 2021.\n",
    "3. John- I saw your comment on PCA. I agree that could help simplify certain steps for the model. Let me know if you want me to take a grouping of columns (especially the pre-existing conditions, employment rates etc) and try to reduce the dimensionality so we can focus on other columns. \n",
    "4. What do you think about taking state out of the X variable?\n",
    "5. Do we want to manufacture a binarized mask column where if mask > 0 "
   ]
  },
  {
   "cell_type": "code",
   "execution_count": 1,
   "id": "03122f4b-3b5e-4bb4-b396-5c44f3f45e1f",
   "metadata": {
    "tags": []
   },
   "outputs": [],
   "source": [
    "# Imports\n",
    "import pandas as pd\n",
    "import numpy as np\n",
    "import matplotlib.pyplot as plt\n",
    "import seaborn as sns\n",
    "\n",
    "from sklearn.linear_model import LinearRegression\n",
    "from sklearn.model_selection import train_test_split\n",
    "from sklearn import metrics\n",
    "import statsmodels.api as sm\n",
    "\n",
    "from sklearn.neighbors import KNeighborsRegressor\n",
    "from sklearn.model_selection import train_test_split, cross_val_score\n",
    "from sklearn.preprocessing import StandardScaler\n",
    "\n",
    "from sklearn.tree import DecisionTreeRegressor, plot_tree\n",
    "from sklearn.ensemble import BaggingRegressor\n",
    "from sklearn.model_selection import GridSearchCV, RandomizedSearchCV\n",
    "\n",
    "from sklearn.ensemble import VotingRegressor\n",
    "\n",
    "from sklearn.ensemble import RandomForestRegressor, ExtraTreesRegressor\n",
    "from sklearn.ensemble import AdaBoostRegressor, GradientBoostingRegressor\n"
   ]
  },
  {
   "cell_type": "code",
   "execution_count": 2,
   "id": "73be39fe-bd0b-42fc-b106-9fd5a0983265",
   "metadata": {
    "tags": []
   },
   "outputs": [],
   "source": [
    "new_pop = pd.read_csv('./Data/population_w_percent.csv')\n",
    "new_pop['pop %'] = new_pop['pop %']/100\n",
    "pop_percent = new_pop.drop(columns=['County Name', 'State', 'population', 'Total Population'])\n"
   ]
  },
  {
   "cell_type": "code",
   "execution_count": 3,
   "id": "0fd4ceb6-fb2d-4c8a-ae50-6cd409251435",
   "metadata": {
    "tags": []
   },
   "outputs": [],
   "source": [
    "cases = pd.read_csv('./Ignore/covid_confirmed_usafacts.csv')\n",
    "cases['County'] = cases['County Name'].str.replace(r'\\bCounty\\b', '', regex=True).str.strip()\n",
    "\n",
    "cases = pd.merge(cases, pop_percent, how = 'left', on='countyFIPS').copy()"
   ]
  },
  {
   "cell_type": "code",
   "execution_count": 4,
   "id": "6af6255c-0638-4f90-8599-c5bc194ad5e4",
   "metadata": {
    "tags": []
   },
   "outputs": [],
   "source": [
    "state_name = {\n",
    "    'AL':'Alabama',\n",
    "    'AK':'Alaska',\n",
    "    'AZ':'Arizona',\n",
    "    'AR':'Arkansas',\n",
    "    'CA':'California',\n",
    "    'CO':'Colorado',\n",
    "    'CT':'Connecticut',\n",
    "    'DE':'Delaware',\n",
    "    'DC':'District of Columbia',\n",
    "    'FL':'Florida',\n",
    "    'GA':'Georgia',\n",
    "    'HI':'Hawaii',\n",
    "    'ID':'Idaho',\n",
    "    'IL':'Illinois',\n",
    "    'IN':'Indiana',\n",
    "    'IA':'Iowa',\n",
    "    'KS':'Kansas',\n",
    "    'KY':'Kentucky',\n",
    "    'LA':'Louisiana',\n",
    "    'ME':'Maine',\n",
    "    'MD':'Maryland',\n",
    "    'MA':'Massachusetts',\n",
    "    'MI':'Michigan',\n",
    "    'MN':'Minnesota',\n",
    "    'MS':'Mississippi',\n",
    "    'MO':'Missouri',\n",
    "    'MT':'Montana',\n",
    "    'NE':'Nebraska',\n",
    "    'NV':'Nevada',\n",
    "    'NH':'New Hampshire',\n",
    "    'NJ':'New Jersey',\n",
    "    'NM':'New Mexico',\n",
    "    'NY':'New York',\n",
    "    'NC':'North Carolina',\n",
    "    'ND':'North Dakota',\n",
    "    'OH':'Ohio',\n",
    "    'OK':'Oklahoma',\n",
    "    'OR':'Oregon',\n",
    "    'PA':'Pennsylvania',\n",
    "    'RI':'Rhode Island',\n",
    "    'SC':'South Carolina',\n",
    "    'SD':'South Dakota',\n",
    "    'TN':'Tennessee',\n",
    "    'TX':'Texas',\n",
    "    'UT':'Utah',\n",
    "    'VT':'Vermont',\n",
    "    'VA':'Virginia',\n",
    "    'WA':'Washington',\n",
    "    'WV':'West Virginia',\n",
    "    'WI':'Wisconsin',\n",
    "    'WY':'Wyoming'\n",
    "}\n",
    "\n",
    "state_abbreviations = list(state_name.keys())"
   ]
  },
  {
   "cell_type": "code",
   "execution_count": 5,
   "id": "405f2606-5a44-47ac-827e-5e5f35c549bc",
   "metadata": {
    "tags": []
   },
   "outputs": [],
   "source": [
    "cases_2020 = cases[['countyFIPS', 'County', 'State', 'StateFIPS', '2020-12-31', 'pop %']].copy()\n",
    "cases_2020.rename(columns = {'2020-12-31': 'cases_2020', 'pop %': 'pop_per'}, inplace =True)"
   ]
  },
  {
   "cell_type": "code",
   "execution_count": 6,
   "id": "fb313488-7179-4cff-ac74-fde2ae5343a9",
   "metadata": {
    "tags": []
   },
   "outputs": [],
   "source": [
    "for state_abbr in state_abbreviations:\n",
    "    # Calculate total_unallocated for the current state\n",
    "    total_unallocated = cases_2020.loc[\n",
    "        (cases_2020['State'] == state_abbr) & (cases_2020['County'] == 'Statewide Unallocated'),\n",
    "        'cases_2020'\n",
    "    ].values[0]\n",
    "    \n",
    "    county_list = cases_2020.loc[cases_2020['State'] == state_abbr, 'County'].unique()\n",
    "    \n",
    "    for county in county_list:\n",
    "        cases_2020.loc[\n",
    "            (cases_2020['State'] == state_abbr) & (cases_2020['County'] == county),\n",
    "            'cases_2020'\n",
    "        ] += total_unallocated * cases_2020.loc[\n",
    "            (cases_2020['State'] == state_abbr) & (cases_2020['County'] == county),\n",
    "            'pop_per'\n",
    "        ]"
   ]
  },
  {
   "cell_type": "code",
   "execution_count": 7,
   "id": "14a60e3d-d1f9-43b3-b71d-a31aecc7f685",
   "metadata": {
    "tags": []
   },
   "outputs": [],
   "source": [
    "cases_2020 = cases_2020.drop_duplicates()"
   ]
  },
  {
   "cell_type": "code",
   "execution_count": 8,
   "id": "7b70cf2a-0755-408b-8011-08b8ee954898",
   "metadata": {
    "tags": []
   },
   "outputs": [],
   "source": [
    "cases_2021 = cases[['countyFIPS', 'County', 'State', 'StateFIPS', '2021-12-31', 'pop %']].copy()\n",
    "cases_2021.rename(columns = {'2021-12-31': 'cases_2021', 'pop %': 'pop_per'}, inplace =True)"
   ]
  },
  {
   "cell_type": "code",
   "execution_count": 9,
   "id": "4d7cba28-705c-400f-9504-154370dd68d0",
   "metadata": {
    "tags": []
   },
   "outputs": [],
   "source": [
    "for state_abbr in state_abbreviations:\n",
    "    # Calculate total_unallocated for the current state\n",
    "    total_unallocated = cases_2021.loc[\n",
    "        (cases_2021['State'] == state_abbr) & (cases_2021['County'] == 'Statewide Unallocated'),\n",
    "        'cases_2021'\n",
    "    ].values[0]\n",
    "    \n",
    "    county_list = cases_2021.loc[cases_2021['State'] == state_abbr, 'County'].unique()\n",
    "    \n",
    "    for county in county_list:\n",
    "        cases_2021.loc[\n",
    "            (cases_2021['State'] == state_abbr) & (cases_2021['County'] == county),\n",
    "            'cases_2021'\n",
    "        ] += total_unallocated * cases_2021.loc[\n",
    "            (cases_2021['State'] == state_abbr) & (cases_2021['County'] == county),\n",
    "            'pop_per'\n",
    "        ]"
   ]
  },
  {
   "cell_type": "code",
   "execution_count": 10,
   "id": "b32040b4-9460-480a-ab81-d66858b3c757",
   "metadata": {
    "tags": []
   },
   "outputs": [],
   "source": [
    "cases_2021 = cases_2021.drop_duplicates()"
   ]
  },
  {
   "cell_type": "code",
   "execution_count": 11,
   "id": "7515be17-49d9-4b15-8fc2-1f05858c8e77",
   "metadata": {
    "tags": []
   },
   "outputs": [],
   "source": [
    "cases_2022 = cases[['countyFIPS', 'County', 'State', 'StateFIPS', '2022-12-31', 'pop %']].copy()\n",
    "cases_2022.rename(columns = {'2022-12-31': 'cases_2022', 'pop %': 'pop_per'}, inplace =True)"
   ]
  },
  {
   "cell_type": "code",
   "execution_count": 12,
   "id": "6fe88235-bfb5-4b2c-a392-710ef3a3b6f3",
   "metadata": {
    "tags": []
   },
   "outputs": [],
   "source": [
    "for state_abbr in state_abbreviations:\n",
    "    # Calculate total_unallocated for the current state\n",
    "    total_unallocated = cases_2022.loc[\n",
    "        (cases_2022['State'] == state_abbr) & (cases_2022['County'] == 'Statewide Unallocated'),\n",
    "        'cases_2022'\n",
    "    ].values[0]\n",
    "    \n",
    "    county_list = cases_2022.loc[cases_2022['State'] == state_abbr, 'County'].unique()\n",
    "    \n",
    "    for county in county_list:\n",
    "        cases_2022.loc[\n",
    "            (cases_2022['State'] == state_abbr) & (cases_2022['County'] == county),\n",
    "            'cases_2022'\n",
    "        ] += total_unallocated * cases_2022.loc[\n",
    "            (cases_2022['State'] == state_abbr) & (cases_2022['County'] == county),\n",
    "            'pop_per'\n",
    "        ]"
   ]
  },
  {
   "cell_type": "code",
   "execution_count": 13,
   "id": "8394ec12-9adb-467e-9994-c11c965dec1d",
   "metadata": {
    "tags": []
   },
   "outputs": [
    {
     "data": {
      "text/html": [
       "<div>\n",
       "<style scoped>\n",
       "    .dataframe tbody tr th:only-of-type {\n",
       "        vertical-align: middle;\n",
       "    }\n",
       "\n",
       "    .dataframe tbody tr th {\n",
       "        vertical-align: top;\n",
       "    }\n",
       "\n",
       "    .dataframe thead th {\n",
       "        text-align: right;\n",
       "    }\n",
       "</style>\n",
       "<table border=\"1\" class=\"dataframe\">\n",
       "  <thead>\n",
       "    <tr style=\"text-align: right;\">\n",
       "      <th></th>\n",
       "      <th>countyFIPS</th>\n",
       "      <th>County_x</th>\n",
       "      <th>State_x</th>\n",
       "      <th>StateFIPS_x</th>\n",
       "      <th>cases_2020</th>\n",
       "      <th>cases_2021</th>\n",
       "      <th>cases_2022</th>\n",
       "      <th>pop_per</th>\n",
       "    </tr>\n",
       "  </thead>\n",
       "  <tbody>\n",
       "    <tr>\n",
       "      <th>0</th>\n",
       "      <td>0</td>\n",
       "      <td>Statewide Unallocated</td>\n",
       "      <td>AL</td>\n",
       "      <td>1</td>\n",
       "      <td>0.0</td>\n",
       "      <td>0.0</td>\n",
       "      <td>0.0</td>\n",
       "      <td>0.0</td>\n",
       "    </tr>\n",
       "    <tr>\n",
       "      <th>1</th>\n",
       "      <td>0</td>\n",
       "      <td>Statewide Unallocated</td>\n",
       "      <td>AL</td>\n",
       "      <td>1</td>\n",
       "      <td>0.0</td>\n",
       "      <td>0.0</td>\n",
       "      <td>0.0</td>\n",
       "      <td>0.0</td>\n",
       "    </tr>\n",
       "    <tr>\n",
       "      <th>2</th>\n",
       "      <td>0</td>\n",
       "      <td>Statewide Unallocated</td>\n",
       "      <td>AL</td>\n",
       "      <td>1</td>\n",
       "      <td>0.0</td>\n",
       "      <td>0.0</td>\n",
       "      <td>1000.0</td>\n",
       "      <td>0.0</td>\n",
       "    </tr>\n",
       "    <tr>\n",
       "      <th>3</th>\n",
       "      <td>0</td>\n",
       "      <td>Statewide Unallocated</td>\n",
       "      <td>AL</td>\n",
       "      <td>1</td>\n",
       "      <td>0.0</td>\n",
       "      <td>0.0</td>\n",
       "      <td>3033.0</td>\n",
       "      <td>0.0</td>\n",
       "    </tr>\n",
       "    <tr>\n",
       "      <th>4</th>\n",
       "      <td>0</td>\n",
       "      <td>Statewide Unallocated</td>\n",
       "      <td>AL</td>\n",
       "      <td>1</td>\n",
       "      <td>0.0</td>\n",
       "      <td>0.0</td>\n",
       "      <td>4479.0</td>\n",
       "      <td>0.0</td>\n",
       "    </tr>\n",
       "  </tbody>\n",
       "</table>\n",
       "</div>"
      ],
      "text/plain": [
       "   countyFIPS               County_x State_x  StateFIPS_x  cases_2020  \\\n",
       "0           0  Statewide Unallocated      AL            1         0.0   \n",
       "1           0  Statewide Unallocated      AL            1         0.0   \n",
       "2           0  Statewide Unallocated      AL            1         0.0   \n",
       "3           0  Statewide Unallocated      AL            1         0.0   \n",
       "4           0  Statewide Unallocated      AL            1         0.0   \n",
       "\n",
       "   cases_2021  cases_2022  pop_per  \n",
       "0         0.0         0.0      0.0  \n",
       "1         0.0         0.0      0.0  \n",
       "2         0.0      1000.0      0.0  \n",
       "3         0.0      3033.0      0.0  \n",
       "4         0.0      4479.0      0.0  "
      ]
     },
     "execution_count": 13,
     "metadata": {},
     "output_type": "execute_result"
    }
   ],
   "source": [
    "cases_2022 = cases_2022.drop_duplicates()\n",
    "\n",
    "merged_cases = pd.merge(cases_2020, cases_2021, how='left', on='countyFIPS')\n",
    "county_cases = pd.merge(merged_cases, cases_2022, how='left', on='countyFIPS')\n",
    "\n",
    "county_cases.drop(columns = ['County','State', 'StateFIPS', 'pop_per_x', 'County_y', 'State_y', 'StateFIPS_y',\n",
    "                  'pop_per_y'], inplace=True)\n",
    "county_cases.head()\n"
   ]
  },
  {
   "cell_type": "code",
   "execution_count": 14,
   "id": "cb3625e3-e73f-40bb-97c9-e86a086e7e4c",
   "metadata": {
    "tags": []
   },
   "outputs": [],
   "source": [
    "columns_to_check_duplicates = ['countyFIPS', 'County_x', 'State_x', 'StateFIPS_x']\n",
    "county_cases.drop_duplicates(subset=columns_to_check_duplicates, keep='first', inplace=True)\n"
   ]
  },
  {
   "cell_type": "code",
   "execution_count": 15,
   "id": "fc2ce466-80f4-4192-a22f-a2f938712735",
   "metadata": {
    "tags": []
   },
   "outputs": [
    {
     "data": {
      "text/plain": [
       "(3193, 8)"
      ]
     },
     "execution_count": 15,
     "metadata": {},
     "output_type": "execute_result"
    }
   ],
   "source": [
    "county_cases.shape"
   ]
  },
  {
   "cell_type": "code",
   "execution_count": 16,
   "id": "dd598e9b-3265-4d4b-b310-60438128484c",
   "metadata": {
    "tags": []
   },
   "outputs": [
    {
     "data": {
      "text/html": [
       "<div>\n",
       "<style scoped>\n",
       "    .dataframe tbody tr th:only-of-type {\n",
       "        vertical-align: middle;\n",
       "    }\n",
       "\n",
       "    .dataframe tbody tr th {\n",
       "        vertical-align: top;\n",
       "    }\n",
       "\n",
       "    .dataframe thead th {\n",
       "        text-align: right;\n",
       "    }\n",
       "</style>\n",
       "<table border=\"1\" class=\"dataframe\">\n",
       "  <thead>\n",
       "    <tr style=\"text-align: right;\">\n",
       "      <th></th>\n",
       "      <th>countyFIPS</th>\n",
       "      <th>County_x</th>\n",
       "      <th>State_x</th>\n",
       "      <th>StateFIPS_x</th>\n",
       "      <th>cases_2020</th>\n",
       "      <th>cases_2021</th>\n",
       "      <th>cases_2022</th>\n",
       "      <th>pop_per</th>\n",
       "    </tr>\n",
       "  </thead>\n",
       "  <tbody>\n",
       "    <tr>\n",
       "      <th>0</th>\n",
       "      <td>0</td>\n",
       "      <td>Statewide Unallocated</td>\n",
       "      <td>AL</td>\n",
       "      <td>1</td>\n",
       "      <td>0.0</td>\n",
       "      <td>0.0</td>\n",
       "      <td>0.0</td>\n",
       "      <td>0.000000</td>\n",
       "    </tr>\n",
       "    <tr>\n",
       "      <th>2601</th>\n",
       "      <td>1001</td>\n",
       "      <td>Autauga</td>\n",
       "      <td>AL</td>\n",
       "      <td>1</td>\n",
       "      <td>4190.0</td>\n",
       "      <td>11018.0</td>\n",
       "      <td>18961.0</td>\n",
       "      <td>0.011394</td>\n",
       "    </tr>\n",
       "    <tr>\n",
       "      <th>2602</th>\n",
       "      <td>1003</td>\n",
       "      <td>Baldwin</td>\n",
       "      <td>AL</td>\n",
       "      <td>1</td>\n",
       "      <td>13601.0</td>\n",
       "      <td>39911.0</td>\n",
       "      <td>67496.0</td>\n",
       "      <td>0.045528</td>\n",
       "    </tr>\n",
       "    <tr>\n",
       "      <th>2603</th>\n",
       "      <td>1005</td>\n",
       "      <td>Barbour</td>\n",
       "      <td>AL</td>\n",
       "      <td>1</td>\n",
       "      <td>1514.0</td>\n",
       "      <td>3860.0</td>\n",
       "      <td>7027.0</td>\n",
       "      <td>0.005035</td>\n",
       "    </tr>\n",
       "    <tr>\n",
       "      <th>2604</th>\n",
       "      <td>1007</td>\n",
       "      <td>Bibb</td>\n",
       "      <td>AL</td>\n",
       "      <td>1</td>\n",
       "      <td>1834.0</td>\n",
       "      <td>4533.0</td>\n",
       "      <td>7692.0</td>\n",
       "      <td>0.004567</td>\n",
       "    </tr>\n",
       "  </tbody>\n",
       "</table>\n",
       "</div>"
      ],
      "text/plain": [
       "      countyFIPS               County_x State_x  StateFIPS_x  cases_2020  \\\n",
       "0              0  Statewide Unallocated      AL            1         0.0   \n",
       "2601        1001                Autauga      AL            1      4190.0   \n",
       "2602        1003                Baldwin      AL            1     13601.0   \n",
       "2603        1005                Barbour      AL            1      1514.0   \n",
       "2604        1007                   Bibb      AL            1      1834.0   \n",
       "\n",
       "      cases_2021  cases_2022   pop_per  \n",
       "0            0.0         0.0  0.000000  \n",
       "2601     11018.0     18961.0  0.011394  \n",
       "2602     39911.0     67496.0  0.045528  \n",
       "2603      3860.0      7027.0  0.005035  \n",
       "2604      4533.0      7692.0  0.004567  "
      ]
     },
     "execution_count": 16,
     "metadata": {},
     "output_type": "execute_result"
    }
   ],
   "source": [
    "county_cases.head()"
   ]
  },
  {
   "cell_type": "code",
   "execution_count": 17,
   "id": "656abb5c-02ee-4380-ac9a-958f6256bc11",
   "metadata": {
    "tags": []
   },
   "outputs": [],
   "source": [
    "county_cases.rename(columns = {'County_x' : 'County', 'State_x': 'State', 'StateFIPS_x': 'StateFIPS'}, inplace =True)\n"
   ]
  },
  {
   "cell_type": "code",
   "execution_count": 18,
   "id": "788ed9cf-7686-4fd8-833e-0d72632c6a07",
   "metadata": {
    "tags": []
   },
   "outputs": [
    {
     "data": {
      "text/plain": [
       "(3193, 8)"
      ]
     },
     "execution_count": 18,
     "metadata": {},
     "output_type": "execute_result"
    }
   ],
   "source": [
    "county_cases = county_cases.drop_duplicates()\n",
    "county_cases.shape"
   ]
  },
  {
   "cell_type": "code",
   "execution_count": 19,
   "id": "06c2b7a5-bf26-4501-ac2e-e0a58f0e393b",
   "metadata": {
    "tags": []
   },
   "outputs": [],
   "source": [
    "rank = pd.read_csv('./Data/2019 County Health Rankings Data - cleaned.csv')\n"
   ]
  },
  {
   "cell_type": "code",
   "execution_count": 20,
   "id": "9b629d48-2af3-4f4c-a1ba-cfc5af28d5bb",
   "metadata": {
    "tags": []
   },
   "outputs": [],
   "source": [
    "deaths = pd.read_csv('./Ignore/covid_deaths_usafacts.csv')\n",
    "\n",
    "for i in range(5, len(deaths.columns)):\n",
    "    deaths[deaths.columns[i]] = deaths[deaths.columns[i]] + deaths[deaths.columns[i - 1]]"
   ]
  },
  {
   "cell_type": "code",
   "execution_count": 21,
   "id": "9572e521-ff33-4375-8486-dd92ac834a5d",
   "metadata": {
    "tags": []
   },
   "outputs": [
    {
     "name": "stderr",
     "output_type": "stream",
     "text": [
      "C:\\Users\\kaitl\\AppData\\Local\\Temp\\ipykernel_20292\\548819128.py:1: PerformanceWarning: DataFrame is highly fragmented.  This is usually the result of calling `frame.insert` many times, which has poor performance.  Consider joining all columns at once using pd.concat(axis=1) instead. To get a de-fragmented frame, use `newframe = frame.copy()`\n",
      "  deaths['County'] = deaths['County Name'].str.replace(r'\\bCounty\\b', '', regex=True).str.strip()\n"
     ]
    }
   ],
   "source": [
    "deaths['County'] = deaths['County Name'].str.replace(r'\\bCounty\\b', '', regex=True).str.strip()\n",
    "deaths = pd.merge(deaths, pop_percent, how = 'left', on='countyFIPS').copy()\n"
   ]
  },
  {
   "cell_type": "code",
   "execution_count": 22,
   "id": "e5150394-d2d1-493f-bbb0-3e23e82ea748",
   "metadata": {
    "tags": []
   },
   "outputs": [],
   "source": [
    "deaths_2020 = deaths[['countyFIPS', 'County', 'State', 'StateFIPS', '2020-12-31', 'pop %']].copy()\n",
    "deaths_2020.rename(columns = {'2020-12-31': 'deaths_2020', 'pop %': 'pop_per'}, inplace =True)\n",
    "for state_abbr in state_abbreviations:\n",
    "    # Calculate total_unallocated for the current state\n",
    "    total_unallocated = deaths_2020.loc[\n",
    "        (deaths_2020['State'] == state_abbr) & (deaths_2020['County'] == 'Statewide Unallocated'),\n",
    "        'deaths_2020'\n",
    "    ].values[0]\n",
    "    \n",
    "    county_list = deaths_2020.loc[deaths_2020['State'] == state_abbr, 'County'].unique()\n",
    "    \n",
    "    for county in county_list:\n",
    "        deaths_2020.loc[\n",
    "            (deaths_2020['State'] == state_abbr) & (deaths_2020['County'] == county),\n",
    "            'deaths_2020'\n",
    "        ] += total_unallocated * deaths_2020.loc[\n",
    "            (deaths_2020['State'] == state_abbr) & (deaths_2020['County'] == county),\n",
    "            'pop_per'\n",
    "        ]"
   ]
  },
  {
   "cell_type": "code",
   "execution_count": 23,
   "id": "8907f6ed-f598-4691-8b31-fafc85b664c1",
   "metadata": {
    "tags": []
   },
   "outputs": [],
   "source": [
    "deaths_2020 = deaths_2020.drop_duplicates()\n"
   ]
  },
  {
   "cell_type": "code",
   "execution_count": 24,
   "id": "ae709d65-6164-43f5-8a84-78d6d2f1f0fc",
   "metadata": {
    "tags": []
   },
   "outputs": [],
   "source": [
    "deaths_2021 = deaths[['countyFIPS', 'County', 'State', 'StateFIPS', '2021-12-31', 'pop %']].copy()\n",
    "deaths_2021.rename(columns = {'2021-12-31': 'deaths_2021', 'pop %': 'pop_per'}, inplace =True)\n",
    "for state_abbr in state_abbreviations:\n",
    "    # Calculate total_unallocated for the current state\n",
    "    total_unallocated = deaths_2021.loc[\n",
    "        (deaths_2021['State'] == state_abbr) & (deaths_2021['County'] == 'Statewide Unallocated'),\n",
    "        'deaths_2021'\n",
    "    ].values[0]\n",
    "    \n",
    "    county_list = deaths_2021.loc[deaths_2021['State'] == state_abbr, 'County'].unique()\n",
    "    \n",
    "    for county in county_list:\n",
    "        deaths_2021.loc[\n",
    "            (deaths_2021['State'] == state_abbr) & (deaths_2021['County'] == county),\n",
    "            'deaths_2021'\n",
    "        ] += total_unallocated * deaths_2021.loc[\n",
    "            (deaths_2021['State'] == state_abbr) & (deaths_2021['County'] == county),\n",
    "            'pop_per'\n",
    "        ]\n",
    "\n",
    "deaths_2021 = deaths_2021.drop_duplicates()\n"
   ]
  },
  {
   "cell_type": "code",
   "execution_count": 25,
   "id": "526a6f50-564c-46d6-9daf-75d0d45a28d1",
   "metadata": {
    "tags": []
   },
   "outputs": [],
   "source": [
    "deaths_2022 = deaths[['countyFIPS', 'County', 'State', 'StateFIPS', '2022-12-31', 'pop %']].copy()\n",
    "deaths_2022.rename(columns = {'2022-12-31': 'deaths_2022', 'pop %': 'pop_per'}, inplace =True)\n",
    "for state_abbr in state_abbreviations:\n",
    "    # Calculate total_unallocated for the current state\n",
    "    total_unallocated = deaths_2022.loc[\n",
    "        (deaths_2022['State'] == state_abbr) & (deaths_2022['County'] == 'Statewide Unallocated'),\n",
    "        'deaths_2022'\n",
    "    ].values[0]\n",
    "    \n",
    "    county_list = deaths_2022.loc[deaths_2022['State'] == state_abbr, 'County'].unique()\n",
    "    \n",
    "    for county in county_list:\n",
    "        deaths_2022.loc[\n",
    "            (deaths_2022['State'] == state_abbr) & (deaths_2022['County'] == county),\n",
    "            'deaths_2022'\n",
    "        ] += total_unallocated * deaths_2022.loc[\n",
    "            (deaths_2022['State'] == state_abbr) & (deaths_2022['County'] == county),\n",
    "            'pop_per'\n",
    "        ]\n",
    "        \n",
    "deaths_2022 = deaths_2022.drop_duplicates()\n"
   ]
  },
  {
   "cell_type": "code",
   "execution_count": 26,
   "id": "08844e85-7b61-4b33-a1bd-fb86d6e6c7e0",
   "metadata": {
    "tags": []
   },
   "outputs": [
    {
     "data": {
      "text/html": [
       "<div>\n",
       "<style scoped>\n",
       "    .dataframe tbody tr th:only-of-type {\n",
       "        vertical-align: middle;\n",
       "    }\n",
       "\n",
       "    .dataframe tbody tr th {\n",
       "        vertical-align: top;\n",
       "    }\n",
       "\n",
       "    .dataframe thead th {\n",
       "        text-align: right;\n",
       "    }\n",
       "</style>\n",
       "<table border=\"1\" class=\"dataframe\">\n",
       "  <thead>\n",
       "    <tr style=\"text-align: right;\">\n",
       "      <th></th>\n",
       "      <th>countyFIPS</th>\n",
       "      <th>County_x</th>\n",
       "      <th>State_x</th>\n",
       "      <th>StateFIPS_x</th>\n",
       "      <th>deaths_2020</th>\n",
       "      <th>deaths_2021</th>\n",
       "      <th>deaths_2022</th>\n",
       "      <th>pop_per</th>\n",
       "    </tr>\n",
       "  </thead>\n",
       "  <tbody>\n",
       "    <tr>\n",
       "      <th>0</th>\n",
       "      <td>0</td>\n",
       "      <td>Statewide Unallocated</td>\n",
       "      <td>AL</td>\n",
       "      <td>1</td>\n",
       "      <td>0.0</td>\n",
       "      <td>0.0</td>\n",
       "      <td>0.0</td>\n",
       "      <td>0.0</td>\n",
       "    </tr>\n",
       "    <tr>\n",
       "      <th>1</th>\n",
       "      <td>0</td>\n",
       "      <td>Statewide Unallocated</td>\n",
       "      <td>AL</td>\n",
       "      <td>1</td>\n",
       "      <td>0.0</td>\n",
       "      <td>0.0</td>\n",
       "      <td>618.0</td>\n",
       "      <td>0.0</td>\n",
       "    </tr>\n",
       "    <tr>\n",
       "      <th>2</th>\n",
       "      <td>0</td>\n",
       "      <td>Statewide Unallocated</td>\n",
       "      <td>AL</td>\n",
       "      <td>1</td>\n",
       "      <td>0.0</td>\n",
       "      <td>0.0</td>\n",
       "      <td>380.0</td>\n",
       "      <td>0.0</td>\n",
       "    </tr>\n",
       "    <tr>\n",
       "      <th>3</th>\n",
       "      <td>0</td>\n",
       "      <td>Statewide Unallocated</td>\n",
       "      <td>AL</td>\n",
       "      <td>1</td>\n",
       "      <td>0.0</td>\n",
       "      <td>0.0</td>\n",
       "      <td>11.0</td>\n",
       "      <td>0.0</td>\n",
       "    </tr>\n",
       "    <tr>\n",
       "      <th>4</th>\n",
       "      <td>0</td>\n",
       "      <td>Statewide Unallocated</td>\n",
       "      <td>AL</td>\n",
       "      <td>1</td>\n",
       "      <td>0.0</td>\n",
       "      <td>0.0</td>\n",
       "      <td>2348.0</td>\n",
       "      <td>0.0</td>\n",
       "    </tr>\n",
       "  </tbody>\n",
       "</table>\n",
       "</div>"
      ],
      "text/plain": [
       "   countyFIPS               County_x State_x  StateFIPS_x  deaths_2020  \\\n",
       "0           0  Statewide Unallocated      AL            1          0.0   \n",
       "1           0  Statewide Unallocated      AL            1          0.0   \n",
       "2           0  Statewide Unallocated      AL            1          0.0   \n",
       "3           0  Statewide Unallocated      AL            1          0.0   \n",
       "4           0  Statewide Unallocated      AL            1          0.0   \n",
       "\n",
       "   deaths_2021  deaths_2022  pop_per  \n",
       "0          0.0          0.0      0.0  \n",
       "1          0.0        618.0      0.0  \n",
       "2          0.0        380.0      0.0  \n",
       "3          0.0         11.0      0.0  \n",
       "4          0.0       2348.0      0.0  "
      ]
     },
     "execution_count": 26,
     "metadata": {},
     "output_type": "execute_result"
    }
   ],
   "source": [
    "merged_deaths = pd.merge(deaths_2020, deaths_2021, how='left', on='countyFIPS')\n",
    "county_deaths = pd.merge(merged_deaths, deaths_2022, how='left', on='countyFIPS')\n",
    "county_deaths.drop(columns = ['County','State', 'StateFIPS', 'pop_per_x', 'County_y', 'State_y', 'StateFIPS_y',\n",
    "                  'pop_per_y'], inplace=True)\n",
    "county_deaths.head()"
   ]
  },
  {
   "cell_type": "code",
   "execution_count": 27,
   "id": "dda67b63-5b4f-4369-894f-0ba994fd8f99",
   "metadata": {
    "tags": []
   },
   "outputs": [
    {
     "data": {
      "text/html": [
       "<div>\n",
       "<style scoped>\n",
       "    .dataframe tbody tr th:only-of-type {\n",
       "        vertical-align: middle;\n",
       "    }\n",
       "\n",
       "    .dataframe tbody tr th {\n",
       "        vertical-align: top;\n",
       "    }\n",
       "\n",
       "    .dataframe thead th {\n",
       "        text-align: right;\n",
       "    }\n",
       "</style>\n",
       "<table border=\"1\" class=\"dataframe\">\n",
       "  <thead>\n",
       "    <tr style=\"text-align: right;\">\n",
       "      <th></th>\n",
       "      <th>countyFIPS</th>\n",
       "      <th>County</th>\n",
       "      <th>State</th>\n",
       "      <th>StateFIPS</th>\n",
       "      <th>deaths_2020</th>\n",
       "      <th>deaths_2021</th>\n",
       "      <th>deaths_2022</th>\n",
       "      <th>pop_per</th>\n",
       "    </tr>\n",
       "  </thead>\n",
       "  <tbody>\n",
       "    <tr>\n",
       "      <th>0</th>\n",
       "      <td>0</td>\n",
       "      <td>Statewide Unallocated</td>\n",
       "      <td>AL</td>\n",
       "      <td>1</td>\n",
       "      <td>0.0</td>\n",
       "      <td>0.0</td>\n",
       "      <td>0.0</td>\n",
       "      <td>0.000000</td>\n",
       "    </tr>\n",
       "    <tr>\n",
       "      <th>2601</th>\n",
       "      <td>1001</td>\n",
       "      <td>Autauga</td>\n",
       "      <td>AL</td>\n",
       "      <td>1</td>\n",
       "      <td>5631.0</td>\n",
       "      <td>47405.0</td>\n",
       "      <td>124934.0</td>\n",
       "      <td>0.011394</td>\n",
       "    </tr>\n",
       "    <tr>\n",
       "      <th>2602</th>\n",
       "      <td>1003</td>\n",
       "      <td>Baldwin</td>\n",
       "      <td>AL</td>\n",
       "      <td>1</td>\n",
       "      <td>12412.0</td>\n",
       "      <td>148723.0</td>\n",
       "      <td>397246.0</td>\n",
       "      <td>0.045528</td>\n",
       "    </tr>\n",
       "    <tr>\n",
       "      <th>2603</th>\n",
       "      <td>1005</td>\n",
       "      <td>Barbour</td>\n",
       "      <td>AL</td>\n",
       "      <td>1</td>\n",
       "      <td>2035.0</td>\n",
       "      <td>24364.0</td>\n",
       "      <td>60044.0</td>\n",
       "      <td>0.005035</td>\n",
       "    </tr>\n",
       "    <tr>\n",
       "      <th>2604</th>\n",
       "      <td>1007</td>\n",
       "      <td>Bibb</td>\n",
       "      <td>AL</td>\n",
       "      <td>1</td>\n",
       "      <td>2678.0</td>\n",
       "      <td>28085.0</td>\n",
       "      <td>65964.0</td>\n",
       "      <td>0.004567</td>\n",
       "    </tr>\n",
       "  </tbody>\n",
       "</table>\n",
       "</div>"
      ],
      "text/plain": [
       "      countyFIPS                 County State  StateFIPS  deaths_2020  \\\n",
       "0              0  Statewide Unallocated    AL          1          0.0   \n",
       "2601        1001                Autauga    AL          1       5631.0   \n",
       "2602        1003                Baldwin    AL          1      12412.0   \n",
       "2603        1005                Barbour    AL          1       2035.0   \n",
       "2604        1007                   Bibb    AL          1       2678.0   \n",
       "\n",
       "      deaths_2021  deaths_2022   pop_per  \n",
       "0             0.0          0.0  0.000000  \n",
       "2601      47405.0     124934.0  0.011394  \n",
       "2602     148723.0     397246.0  0.045528  \n",
       "2603      24364.0      60044.0  0.005035  \n",
       "2604      28085.0      65964.0  0.004567  "
      ]
     },
     "execution_count": 27,
     "metadata": {},
     "output_type": "execute_result"
    }
   ],
   "source": [
    "columns_to_check_duplicates = ['countyFIPS', 'County_x', 'State_x', 'StateFIPS_x']\n",
    "\n",
    "county_deaths.drop_duplicates(subset=columns_to_check_duplicates, keep='first', inplace=True)\n",
    "\n",
    "county_deaths.rename(columns = {'County_x' : 'County', 'State_x': 'State', 'StateFIPS_x': 'StateFIPS'}, inplace =True)\n",
    "\n",
    "county_deaths = county_deaths.drop_duplicates()\n",
    "county_deaths.head()"
   ]
  },
  {
   "cell_type": "code",
   "execution_count": 28,
   "id": "3c36c75f-6609-42a0-b574-ce3c271857a7",
   "metadata": {
    "tags": []
   },
   "outputs": [
    {
     "name": "stdout",
     "output_type": "stream",
     "text": [
      "(3193, 8)\n",
      "(3193, 8)\n"
     ]
    }
   ],
   "source": [
    "print(county_deaths.shape)\n",
    "print(county_cases.shape)"
   ]
  },
  {
   "cell_type": "code",
   "execution_count": 29,
   "id": "cd529ef4-315b-457a-a0af-88173174fafc",
   "metadata": {
    "tags": []
   },
   "outputs": [],
   "source": [
    "county_cases.drop(columns = ['StateFIPS','pop_per'], inplace=True)\n",
    "county_deaths.drop(columns = ['County', 'countyFIPS', 'State','StateFIPS','pop_per'], inplace=True)"
   ]
  },
  {
   "cell_type": "code",
   "execution_count": 30,
   "id": "cc8182ab-1a68-4b2c-86ca-2ca43b40a82e",
   "metadata": {
    "tags": []
   },
   "outputs": [],
   "source": [
    "cases_deaths = pd.concat([county_cases,county_deaths], axis=1, join='outer')\n"
   ]
  },
  {
   "cell_type": "code",
   "execution_count": 31,
   "id": "fe61119b-57d6-42c0-bbf6-075e73819212",
   "metadata": {
    "tags": []
   },
   "outputs": [
    {
     "data": {
      "text/plain": [
       "(3193, 9)"
      ]
     },
     "execution_count": 31,
     "metadata": {},
     "output_type": "execute_result"
    }
   ],
   "source": [
    "cases_deaths.shape"
   ]
  },
  {
   "cell_type": "code",
   "execution_count": 32,
   "id": "31cd079f-f1ee-4bcf-82c2-e50e4a73eef6",
   "metadata": {
    "tags": []
   },
   "outputs": [
    {
     "data": {
      "text/html": [
       "<div>\n",
       "<style scoped>\n",
       "    .dataframe tbody tr th:only-of-type {\n",
       "        vertical-align: middle;\n",
       "    }\n",
       "\n",
       "    .dataframe tbody tr th {\n",
       "        vertical-align: top;\n",
       "    }\n",
       "\n",
       "    .dataframe thead th {\n",
       "        text-align: right;\n",
       "    }\n",
       "</style>\n",
       "<table border=\"1\" class=\"dataframe\">\n",
       "  <thead>\n",
       "    <tr style=\"text-align: right;\">\n",
       "      <th></th>\n",
       "      <th>FIPS</th>\n",
       "      <th>State</th>\n",
       "      <th>County</th>\n",
       "      <th>Years of Potential Life Lost Rate (premature death)</th>\n",
       "      <th>YPLL Rate (Black)</th>\n",
       "      <th>YPLL Rate (Hispanic)</th>\n",
       "      <th>YPLL Rate (White)</th>\n",
       "      <th>% Fair/Poor Health</th>\n",
       "      <th>percent_smokers</th>\n",
       "      <th>percent_obese</th>\n",
       "      <th>...</th>\n",
       "      <th>percent 65 and over</th>\n",
       "      <th>percent African American</th>\n",
       "      <th>percent American Indian/Alaskan Native</th>\n",
       "      <th>percent Asian</th>\n",
       "      <th>percent Native Hawaiian/Other Pacific Islander</th>\n",
       "      <th>percent Hispanic</th>\n",
       "      <th>percent Non-Hispanic White</th>\n",
       "      <th>percent Not Proficient in English</th>\n",
       "      <th>percent Female</th>\n",
       "      <th>number Rural</th>\n",
       "    </tr>\n",
       "  </thead>\n",
       "  <tbody>\n",
       "    <tr>\n",
       "      <th>0</th>\n",
       "      <td>1001</td>\n",
       "      <td>Alabama</td>\n",
       "      <td>Autauga</td>\n",
       "      <td>8824.0</td>\n",
       "      <td>10471.0</td>\n",
       "      <td>NaN</td>\n",
       "      <td>8707.0</td>\n",
       "      <td>18</td>\n",
       "      <td>19</td>\n",
       "      <td>38</td>\n",
       "      <td>...</td>\n",
       "      <td>15.1</td>\n",
       "      <td>19.3</td>\n",
       "      <td>0.5</td>\n",
       "      <td>1.3</td>\n",
       "      <td>0.1</td>\n",
       "      <td>2.9</td>\n",
       "      <td>74.5</td>\n",
       "      <td>1</td>\n",
       "      <td>51.3</td>\n",
       "      <td>22921.0</td>\n",
       "    </tr>\n",
       "    <tr>\n",
       "      <th>1</th>\n",
       "      <td>1003</td>\n",
       "      <td>Alabama</td>\n",
       "      <td>Baldwin</td>\n",
       "      <td>7225.0</td>\n",
       "      <td>10042.0</td>\n",
       "      <td>3087.0</td>\n",
       "      <td>7278.0</td>\n",
       "      <td>18</td>\n",
       "      <td>17</td>\n",
       "      <td>31</td>\n",
       "      <td>...</td>\n",
       "      <td>19.9</td>\n",
       "      <td>9.0</td>\n",
       "      <td>0.8</td>\n",
       "      <td>1.2</td>\n",
       "      <td>0.1</td>\n",
       "      <td>4.6</td>\n",
       "      <td>83.0</td>\n",
       "      <td>0</td>\n",
       "      <td>51.5</td>\n",
       "      <td>77060.0</td>\n",
       "    </tr>\n",
       "    <tr>\n",
       "      <th>2</th>\n",
       "      <td>1005</td>\n",
       "      <td>Alabama</td>\n",
       "      <td>Barbour</td>\n",
       "      <td>9586.0</td>\n",
       "      <td>11333.0</td>\n",
       "      <td>NaN</td>\n",
       "      <td>7310.0</td>\n",
       "      <td>26</td>\n",
       "      <td>22</td>\n",
       "      <td>44</td>\n",
       "      <td>...</td>\n",
       "      <td>18.8</td>\n",
       "      <td>47.9</td>\n",
       "      <td>0.7</td>\n",
       "      <td>0.5</td>\n",
       "      <td>0.2</td>\n",
       "      <td>4.2</td>\n",
       "      <td>46.0</td>\n",
       "      <td>1</td>\n",
       "      <td>47.2</td>\n",
       "      <td>18613.0</td>\n",
       "    </tr>\n",
       "    <tr>\n",
       "      <th>3</th>\n",
       "      <td>1007</td>\n",
       "      <td>Alabama</td>\n",
       "      <td>Bibb</td>\n",
       "      <td>11784.0</td>\n",
       "      <td>14813.0</td>\n",
       "      <td>NaN</td>\n",
       "      <td>11328.0</td>\n",
       "      <td>20</td>\n",
       "      <td>20</td>\n",
       "      <td>38</td>\n",
       "      <td>...</td>\n",
       "      <td>16.0</td>\n",
       "      <td>21.5</td>\n",
       "      <td>0.4</td>\n",
       "      <td>0.2</td>\n",
       "      <td>0.1</td>\n",
       "      <td>2.6</td>\n",
       "      <td>74.3</td>\n",
       "      <td>0</td>\n",
       "      <td>46.5</td>\n",
       "      <td>15663.0</td>\n",
       "    </tr>\n",
       "    <tr>\n",
       "      <th>4</th>\n",
       "      <td>1009</td>\n",
       "      <td>Alabama</td>\n",
       "      <td>Blount</td>\n",
       "      <td>10908.0</td>\n",
       "      <td>NaN</td>\n",
       "      <td>5620.0</td>\n",
       "      <td>11336.0</td>\n",
       "      <td>21</td>\n",
       "      <td>20</td>\n",
       "      <td>34</td>\n",
       "      <td>...</td>\n",
       "      <td>17.8</td>\n",
       "      <td>1.5</td>\n",
       "      <td>0.6</td>\n",
       "      <td>0.3</td>\n",
       "      <td>0.1</td>\n",
       "      <td>9.6</td>\n",
       "      <td>86.9</td>\n",
       "      <td>2</td>\n",
       "      <td>50.7</td>\n",
       "      <td>51562.0</td>\n",
       "    </tr>\n",
       "  </tbody>\n",
       "</table>\n",
       "<p>5 rows × 73 columns</p>\n",
       "</div>"
      ],
      "text/plain": [
       "   FIPS    State   County  \\\n",
       "0  1001  Alabama  Autauga   \n",
       "1  1003  Alabama  Baldwin   \n",
       "2  1005  Alabama  Barbour   \n",
       "3  1007  Alabama     Bibb   \n",
       "4  1009  Alabama   Blount   \n",
       "\n",
       "   Years of Potential Life Lost Rate (premature death)  YPLL Rate (Black)  \\\n",
       "0                                             8824.0              10471.0   \n",
       "1                                             7225.0              10042.0   \n",
       "2                                             9586.0              11333.0   \n",
       "3                                            11784.0              14813.0   \n",
       "4                                            10908.0                  NaN   \n",
       "\n",
       "   YPLL Rate (Hispanic)  YPLL Rate (White)  % Fair/Poor Health  \\\n",
       "0                   NaN             8707.0                  18   \n",
       "1                3087.0             7278.0                  18   \n",
       "2                   NaN             7310.0                  26   \n",
       "3                   NaN            11328.0                  20   \n",
       "4                5620.0            11336.0                  21   \n",
       "\n",
       "   percent_smokers  percent_obese  ...  percent 65 and over  \\\n",
       "0               19             38  ...                 15.1   \n",
       "1               17             31  ...                 19.9   \n",
       "2               22             44  ...                 18.8   \n",
       "3               20             38  ...                 16.0   \n",
       "4               20             34  ...                 17.8   \n",
       "\n",
       "   percent African American  percent American Indian/Alaskan Native  \\\n",
       "0                      19.3                                     0.5   \n",
       "1                       9.0                                     0.8   \n",
       "2                      47.9                                     0.7   \n",
       "3                      21.5                                     0.4   \n",
       "4                       1.5                                     0.6   \n",
       "\n",
       "   percent Asian  percent Native Hawaiian/Other Pacific Islander  \\\n",
       "0            1.3                                             0.1   \n",
       "1            1.2                                             0.1   \n",
       "2            0.5                                             0.2   \n",
       "3            0.2                                             0.1   \n",
       "4            0.3                                             0.1   \n",
       "\n",
       "   percent Hispanic  percent Non-Hispanic White  \\\n",
       "0               2.9                        74.5   \n",
       "1               4.6                        83.0   \n",
       "2               4.2                        46.0   \n",
       "3               2.6                        74.3   \n",
       "4               9.6                        86.9   \n",
       "\n",
       "  percent Not Proficient in English  percent Female  number Rural  \n",
       "0                                 1            51.3       22921.0  \n",
       "1                                 0            51.5       77060.0  \n",
       "2                                 1            47.2       18613.0  \n",
       "3                                 0            46.5       15663.0  \n",
       "4                                 2            50.7       51562.0  \n",
       "\n",
       "[5 rows x 73 columns]"
      ]
     },
     "execution_count": 32,
     "metadata": {},
     "output_type": "execute_result"
    }
   ],
   "source": [
    "rank.head()"
   ]
  },
  {
   "cell_type": "code",
   "execution_count": 33,
   "id": "97799dff-8ddf-4676-a6c4-8e664fb65b94",
   "metadata": {
    "tags": []
   },
   "outputs": [],
   "source": [
    "cases_deaths.rename(columns={'countyFIPS': 'FIPS'},inplace=True)"
   ]
  },
  {
   "cell_type": "code",
   "execution_count": 34,
   "id": "95e4658a-227e-4c5d-b222-0ea1ea851883",
   "metadata": {
    "tags": []
   },
   "outputs": [
    {
     "data": {
      "text/plain": [
       "(3142, 81)"
      ]
     },
     "execution_count": 34,
     "metadata": {},
     "output_type": "execute_result"
    }
   ],
   "source": [
    "rcd = pd.merge(rank,cases_deaths, how='inner', on='FIPS')\n",
    "rcd.shape"
   ]
  },
  {
   "cell_type": "code",
   "execution_count": 35,
   "id": "c641e897-e765-4abb-9c46-418139cd6218",
   "metadata": {
    "tags": []
   },
   "outputs": [
    {
     "data": {
      "text/html": [
       "<div>\n",
       "<style scoped>\n",
       "    .dataframe tbody tr th:only-of-type {\n",
       "        vertical-align: middle;\n",
       "    }\n",
       "\n",
       "    .dataframe tbody tr th {\n",
       "        vertical-align: top;\n",
       "    }\n",
       "\n",
       "    .dataframe thead th {\n",
       "        text-align: right;\n",
       "    }\n",
       "</style>\n",
       "<table border=\"1\" class=\"dataframe\">\n",
       "  <thead>\n",
       "    <tr style=\"text-align: right;\">\n",
       "      <th></th>\n",
       "      <th>FIPS</th>\n",
       "      <th>State_x</th>\n",
       "      <th>County_x</th>\n",
       "      <th>Years of Potential Life Lost Rate (premature death)</th>\n",
       "      <th>YPLL Rate (Black)</th>\n",
       "      <th>YPLL Rate (Hispanic)</th>\n",
       "      <th>YPLL Rate (White)</th>\n",
       "      <th>% Fair/Poor Health</th>\n",
       "      <th>percent_smokers</th>\n",
       "      <th>percent_obese</th>\n",
       "      <th>...</th>\n",
       "      <th>percent Female</th>\n",
       "      <th>number Rural</th>\n",
       "      <th>County_y</th>\n",
       "      <th>State_y</th>\n",
       "      <th>cases_2020</th>\n",
       "      <th>cases_2021</th>\n",
       "      <th>cases_2022</th>\n",
       "      <th>deaths_2020</th>\n",
       "      <th>deaths_2021</th>\n",
       "      <th>deaths_2022</th>\n",
       "    </tr>\n",
       "  </thead>\n",
       "  <tbody>\n",
       "    <tr>\n",
       "      <th>0</th>\n",
       "      <td>1001</td>\n",
       "      <td>Alabama</td>\n",
       "      <td>Autauga</td>\n",
       "      <td>8824.0</td>\n",
       "      <td>10471.0</td>\n",
       "      <td>NaN</td>\n",
       "      <td>8707.0</td>\n",
       "      <td>18</td>\n",
       "      <td>19</td>\n",
       "      <td>38</td>\n",
       "      <td>...</td>\n",
       "      <td>51.3</td>\n",
       "      <td>22921.0</td>\n",
       "      <td>Autauga</td>\n",
       "      <td>AL</td>\n",
       "      <td>4190.0</td>\n",
       "      <td>11018.0</td>\n",
       "      <td>18961.0</td>\n",
       "      <td>5631.0</td>\n",
       "      <td>47405.0</td>\n",
       "      <td>124934.0</td>\n",
       "    </tr>\n",
       "    <tr>\n",
       "      <th>1</th>\n",
       "      <td>1003</td>\n",
       "      <td>Alabama</td>\n",
       "      <td>Baldwin</td>\n",
       "      <td>7225.0</td>\n",
       "      <td>10042.0</td>\n",
       "      <td>3087.0</td>\n",
       "      <td>7278.0</td>\n",
       "      <td>18</td>\n",
       "      <td>17</td>\n",
       "      <td>31</td>\n",
       "      <td>...</td>\n",
       "      <td>51.5</td>\n",
       "      <td>77060.0</td>\n",
       "      <td>Baldwin</td>\n",
       "      <td>AL</td>\n",
       "      <td>13601.0</td>\n",
       "      <td>39911.0</td>\n",
       "      <td>67496.0</td>\n",
       "      <td>12412.0</td>\n",
       "      <td>148723.0</td>\n",
       "      <td>397246.0</td>\n",
       "    </tr>\n",
       "    <tr>\n",
       "      <th>2</th>\n",
       "      <td>1005</td>\n",
       "      <td>Alabama</td>\n",
       "      <td>Barbour</td>\n",
       "      <td>9586.0</td>\n",
       "      <td>11333.0</td>\n",
       "      <td>NaN</td>\n",
       "      <td>7310.0</td>\n",
       "      <td>26</td>\n",
       "      <td>22</td>\n",
       "      <td>44</td>\n",
       "      <td>...</td>\n",
       "      <td>47.2</td>\n",
       "      <td>18613.0</td>\n",
       "      <td>Barbour</td>\n",
       "      <td>AL</td>\n",
       "      <td>1514.0</td>\n",
       "      <td>3860.0</td>\n",
       "      <td>7027.0</td>\n",
       "      <td>2035.0</td>\n",
       "      <td>24364.0</td>\n",
       "      <td>60044.0</td>\n",
       "    </tr>\n",
       "    <tr>\n",
       "      <th>3</th>\n",
       "      <td>1007</td>\n",
       "      <td>Alabama</td>\n",
       "      <td>Bibb</td>\n",
       "      <td>11784.0</td>\n",
       "      <td>14813.0</td>\n",
       "      <td>NaN</td>\n",
       "      <td>11328.0</td>\n",
       "      <td>20</td>\n",
       "      <td>20</td>\n",
       "      <td>38</td>\n",
       "      <td>...</td>\n",
       "      <td>46.5</td>\n",
       "      <td>15663.0</td>\n",
       "      <td>Bibb</td>\n",
       "      <td>AL</td>\n",
       "      <td>1834.0</td>\n",
       "      <td>4533.0</td>\n",
       "      <td>7692.0</td>\n",
       "      <td>2678.0</td>\n",
       "      <td>28085.0</td>\n",
       "      <td>65964.0</td>\n",
       "    </tr>\n",
       "    <tr>\n",
       "      <th>4</th>\n",
       "      <td>1009</td>\n",
       "      <td>Alabama</td>\n",
       "      <td>Blount</td>\n",
       "      <td>10908.0</td>\n",
       "      <td>NaN</td>\n",
       "      <td>5620.0</td>\n",
       "      <td>11336.0</td>\n",
       "      <td>21</td>\n",
       "      <td>20</td>\n",
       "      <td>34</td>\n",
       "      <td>...</td>\n",
       "      <td>50.7</td>\n",
       "      <td>51562.0</td>\n",
       "      <td>Blount</td>\n",
       "      <td>AL</td>\n",
       "      <td>4641.0</td>\n",
       "      <td>11256.0</td>\n",
       "      <td>17731.0</td>\n",
       "      <td>3855.0</td>\n",
       "      <td>56300.0</td>\n",
       "      <td>144559.0</td>\n",
       "    </tr>\n",
       "  </tbody>\n",
       "</table>\n",
       "<p>5 rows × 81 columns</p>\n",
       "</div>"
      ],
      "text/plain": [
       "   FIPS  State_x County_x  \\\n",
       "0  1001  Alabama  Autauga   \n",
       "1  1003  Alabama  Baldwin   \n",
       "2  1005  Alabama  Barbour   \n",
       "3  1007  Alabama     Bibb   \n",
       "4  1009  Alabama   Blount   \n",
       "\n",
       "   Years of Potential Life Lost Rate (premature death)  YPLL Rate (Black)  \\\n",
       "0                                             8824.0              10471.0   \n",
       "1                                             7225.0              10042.0   \n",
       "2                                             9586.0              11333.0   \n",
       "3                                            11784.0              14813.0   \n",
       "4                                            10908.0                  NaN   \n",
       "\n",
       "   YPLL Rate (Hispanic)  YPLL Rate (White)  % Fair/Poor Health  \\\n",
       "0                   NaN             8707.0                  18   \n",
       "1                3087.0             7278.0                  18   \n",
       "2                   NaN             7310.0                  26   \n",
       "3                   NaN            11328.0                  20   \n",
       "4                5620.0            11336.0                  21   \n",
       "\n",
       "   percent_smokers  percent_obese  ...  percent Female  number Rural  \\\n",
       "0               19             38  ...            51.3       22921.0   \n",
       "1               17             31  ...            51.5       77060.0   \n",
       "2               22             44  ...            47.2       18613.0   \n",
       "3               20             38  ...            46.5       15663.0   \n",
       "4               20             34  ...            50.7       51562.0   \n",
       "\n",
       "   County_y  State_y  cases_2020  cases_2021  cases_2022 deaths_2020  \\\n",
       "0   Autauga       AL      4190.0     11018.0     18961.0      5631.0   \n",
       "1   Baldwin       AL     13601.0     39911.0     67496.0     12412.0   \n",
       "2   Barbour       AL      1514.0      3860.0      7027.0      2035.0   \n",
       "3      Bibb       AL      1834.0      4533.0      7692.0      2678.0   \n",
       "4    Blount       AL      4641.0     11256.0     17731.0      3855.0   \n",
       "\n",
       "   deaths_2021  deaths_2022  \n",
       "0      47405.0     124934.0  \n",
       "1     148723.0     397246.0  \n",
       "2      24364.0      60044.0  \n",
       "3      28085.0      65964.0  \n",
       "4      56300.0     144559.0  \n",
       "\n",
       "[5 rows x 81 columns]"
      ]
     },
     "execution_count": 35,
     "metadata": {},
     "output_type": "execute_result"
    }
   ],
   "source": [
    "rcd.head()"
   ]
  },
  {
   "cell_type": "code",
   "execution_count": 36,
   "id": "c09bfdeb-6eb1-41cc-8541-66a72ff3c8dc",
   "metadata": {
    "tags": []
   },
   "outputs": [
    {
     "name": "stdout",
     "output_type": "stream",
     "text": [
      "<class 'pandas.core.frame.DataFrame'>\n",
      "Int64Index: 3142 entries, 0 to 3141\n",
      "Data columns (total 81 columns):\n",
      " #   Column                                               Non-Null Count  Dtype  \n",
      "---  ------                                               --------------  -----  \n",
      " 0   FIPS                                                 3142 non-null   int64  \n",
      " 1   State_x                                              3142 non-null   object \n",
      " 2   County_x                                             3142 non-null   object \n",
      " 3   Years of Potential Life Lost Rate (premature death)  2908 non-null   float64\n",
      " 4   YPLL Rate (Black)                                    1351 non-null   float64\n",
      " 5   YPLL Rate (Hispanic)                                 837 non-null    float64\n",
      " 6   YPLL Rate (White)                                    1578 non-null   float64\n",
      " 7   % Fair/Poor Health                                   3142 non-null   int64  \n",
      " 8   percent_smokers                                      3142 non-null   int64  \n",
      " 9   percent_obese                                        3142 non-null   int64  \n",
      " 10  Food Environment Index                               3123 non-null   float64\n",
      " 11  % Physically Inactive                                3142 non-null   int64  \n",
      " 12  percent Excessive Drinking                           3142 non-null   int64  \n",
      " 13  Number Uninsured                                     3141 non-null   float64\n",
      " 14  Percent Uninsured                                    3141 non-null   float64\n",
      " 15  Number Primary Care Physicians                       3005 non-null   float64\n",
      " 16  PCP Rate                                             3007 non-null   float64\n",
      " 17  PCP Ratio                                            3007 non-null   object \n",
      " 18  Preventable Hosp stays Rate                          3104 non-null   float64\n",
      " 19  Preventable Hosp. Rate (Black)                       1481 non-null   float64\n",
      " 20  Preventable Hosp. Rate (Hispanic)                    1017 non-null   float64\n",
      " 21  Preventable Hosp. Rate (White)                       1775 non-null   float64\n",
      " 22  Percent Vaccinated Flu                               3126 non-null   float64\n",
      " 23  Percent Vaccinated Flu (Black)                       1851 non-null   float64\n",
      " 24  Percent  Vaccinated (Hispanic) Flu                   1837 non-null   float64\n",
      " 25  Percent Vaccinated (White) Flu                       2299 non-null   float64\n",
      " 26  High School Graduation Rate                          3043 non-null   float64\n",
      " 27  Number Some College                                  3142 non-null   int64  \n",
      " 28  Percent Some College                                 3142 non-null   int64  \n",
      " 29  Number Unemployed                                    3141 non-null   float64\n",
      " 30  Labor Force                                          3141 non-null   float64\n",
      " 31  Percent Unemployed                                   3141 non-null   float64\n",
      " 32  80th Percentile Income                               3142 non-null   int64  \n",
      " 33  20th Percentile Income                               3142 non-null   int64  \n",
      " 34  Income Ratio                                         3142 non-null   float64\n",
      " 35  Average Daily PM2.5                                  3108 non-null   float64\n",
      " 36  Presence of water violation                          3099 non-null   object \n",
      " 37  Percent Severe Housing Problems                      3142 non-null   int64  \n",
      " 38  Severe Housing Cost Burden                           3142 non-null   int64  \n",
      " 39  Overcrowding                                         3142 non-null   int64  \n",
      " 40  Inadequate Facilities                                3142 non-null   int64  \n",
      " 41  Life Expectancy                                      3073 non-null   float64\n",
      " 42  95% CI - Low                                         3073 non-null   float64\n",
      " 43  95% CI - High                                        3073 non-null   float64\n",
      " 44  Life Expectancy (Black)                              1339 non-null   float64\n",
      " 45  Life Expectancy (Hispanic)                           1247 non-null   float64\n",
      " 46  Life Expectancy (White)                              1726 non-null   float64\n",
      " 47  Number pre-mature Deaths                             3081 non-null   float64\n",
      " 48  Percent Diabetic                                     3142 non-null   int64  \n",
      " 49  Number HIV Cases                                     2424 non-null   float64\n",
      " 50  HIV Prevalence Rate                                  2424 non-null   float64\n",
      " 51  Percent Food Insecure                                3142 non-null   int64  \n",
      " 52  Percent Insufficient Sleep                           3142 non-null   int64  \n",
      " 53  Percent Uninsured Adults                             3141 non-null   float64\n",
      " 54  Percent Uninsured children                           3141 non-null   float64\n",
      " 55  Median Household Income                              3141 non-null   float64\n",
      " 56  Household income (Black)                             1935 non-null   float64\n",
      " 57  Household income (Hispanic)                          2450 non-null   float64\n",
      " 58  Household income (White)                             2736 non-null   float64\n",
      " 59  Segregation index black/white                        2059 non-null   float64\n",
      " 60  Segregation Index non-white/ white                   2795 non-null   float64\n",
      " 61  Population                                           3142 non-null   int64  \n",
      " 62  percent < 18                                         3142 non-null   float64\n",
      " 63  percent 65 and over                                  3142 non-null   float64\n",
      " 64  percent African American                             3142 non-null   float64\n",
      " 65  percent American Indian/Alaskan Native               3142 non-null   float64\n",
      " 66  percent Asian                                        3142 non-null   float64\n",
      " 67  percent Native Hawaiian/Other Pacific Islander       3142 non-null   float64\n",
      " 68  percent Hispanic                                     3142 non-null   float64\n",
      " 69  percent Non-Hispanic White                           3142 non-null   float64\n",
      " 70  percent Not Proficient in English                    3142 non-null   int64  \n",
      " 71  percent Female                                       3142 non-null   float64\n",
      " 72  number Rural                                         3135 non-null   float64\n",
      " 73  County_y                                             3142 non-null   object \n",
      " 74  State_y                                              3142 non-null   object \n",
      " 75  cases_2020                                           3142 non-null   float64\n",
      " 76  cases_2021                                           3142 non-null   float64\n",
      " 77  cases_2022                                           3142 non-null   float64\n",
      " 78  deaths_2020                                          3142 non-null   float64\n",
      " 79  deaths_2021                                          3142 non-null   float64\n",
      " 80  deaths_2022                                          3142 non-null   float64\n",
      "dtypes: float64(56), int64(19), object(6)\n",
      "memory usage: 2.0+ MB\n"
     ]
    }
   ],
   "source": [
    "rcd.info()"
   ]
  },
  {
   "cell_type": "code",
   "execution_count": 37,
   "id": "7460d4b9-4639-4d38-8c11-f7892d309728",
   "metadata": {
    "tags": []
   },
   "outputs": [],
   "source": [
    "mask = pd.read_csv('./Data/county_mask_mandata.csv')\n",
    "#We can't drop state, some states have counties with the same name...\n",
    "mask = mask.rename(columns = {'Count' : 'Masks'})\n",
    "mask['County'] = mask['County'].str.replace(r'\\bCounty\\b', '', regex=True).str.strip()\n"
   ]
  },
  {
   "cell_type": "code",
   "execution_count": 38,
   "id": "364e9eab-8e04-4f47-9cf1-20d62e58f331",
   "metadata": {
    "tags": []
   },
   "outputs": [
    {
     "data": {
      "text/html": [
       "<div>\n",
       "<style scoped>\n",
       "    .dataframe tbody tr th:only-of-type {\n",
       "        vertical-align: middle;\n",
       "    }\n",
       "\n",
       "    .dataframe tbody tr th {\n",
       "        vertical-align: top;\n",
       "    }\n",
       "\n",
       "    .dataframe thead th {\n",
       "        text-align: right;\n",
       "    }\n",
       "</style>\n",
       "<table border=\"1\" class=\"dataframe\">\n",
       "  <thead>\n",
       "    <tr style=\"text-align: right;\">\n",
       "      <th></th>\n",
       "      <th>State</th>\n",
       "      <th>County</th>\n",
       "      <th>Masks</th>\n",
       "    </tr>\n",
       "  </thead>\n",
       "  <tbody>\n",
       "    <tr>\n",
       "      <th>0</th>\n",
       "      <td>AL</td>\n",
       "      <td>Autauga</td>\n",
       "      <td>267</td>\n",
       "    </tr>\n",
       "    <tr>\n",
       "      <th>1</th>\n",
       "      <td>AL</td>\n",
       "      <td>Baldwin</td>\n",
       "      <td>267</td>\n",
       "    </tr>\n",
       "    <tr>\n",
       "      <th>2</th>\n",
       "      <td>AL</td>\n",
       "      <td>Barbour</td>\n",
       "      <td>267</td>\n",
       "    </tr>\n",
       "    <tr>\n",
       "      <th>3</th>\n",
       "      <td>AL</td>\n",
       "      <td>Bibb</td>\n",
       "      <td>267</td>\n",
       "    </tr>\n",
       "    <tr>\n",
       "      <th>4</th>\n",
       "      <td>AL</td>\n",
       "      <td>Blount</td>\n",
       "      <td>267</td>\n",
       "    </tr>\n",
       "  </tbody>\n",
       "</table>\n",
       "</div>"
      ],
      "text/plain": [
       "  State   County  Masks\n",
       "0    AL  Autauga    267\n",
       "1    AL  Baldwin    267\n",
       "2    AL  Barbour    267\n",
       "3    AL     Bibb    267\n",
       "4    AL   Blount    267"
      ]
     },
     "execution_count": 38,
     "metadata": {},
     "output_type": "execute_result"
    }
   ],
   "source": [
    "mask.head()"
   ]
  },
  {
   "cell_type": "code",
   "execution_count": 39,
   "id": "1bd2c446-013a-41c8-9917-6da25b204153",
   "metadata": {
    "tags": []
   },
   "outputs": [
    {
     "data": {
      "text/plain": [
       "FIPS                                                      0\n",
       "State_x                                                   0\n",
       "County_x                                                  0\n",
       "Years of Potential Life Lost Rate (premature death)     234\n",
       "YPLL Rate (Black)                                      1791\n",
       "                                                       ... \n",
       "cases_2021                                                0\n",
       "cases_2022                                                0\n",
       "deaths_2020                                               0\n",
       "deaths_2021                                               0\n",
       "deaths_2022                                               0\n",
       "Length: 81, dtype: int64"
      ]
     },
     "execution_count": 39,
     "metadata": {},
     "output_type": "execute_result"
    }
   ],
   "source": [
    "rcd.isna().sum()"
   ]
  },
  {
   "cell_type": "code",
   "execution_count": 40,
   "id": "30b0a83c-6f38-404c-9f9f-389b96ec82ce",
   "metadata": {
    "tags": []
   },
   "outputs": [
    {
     "name": "stdout",
     "output_type": "stream",
     "text": [
      "Index(['Years of Potential Life Lost Rate (premature death)',\n",
      "       'YPLL Rate (Black)', 'YPLL Rate (Hispanic)', 'YPLL Rate (White)',\n",
      "       'Food Environment Index', 'Number Uninsured', 'Percent Uninsured',\n",
      "       'Number Primary Care Physicians', 'PCP Rate', 'PCP Ratio',\n",
      "       'Preventable Hosp stays Rate', 'Preventable Hosp. Rate (Black)',\n",
      "       'Preventable Hosp. Rate (Hispanic)', 'Preventable Hosp. Rate (White)',\n",
      "       'Percent Vaccinated Flu', 'Percent Vaccinated Flu (Black)',\n",
      "       'Percent  Vaccinated (Hispanic) Flu', 'Percent Vaccinated (White) Flu',\n",
      "       'High School Graduation Rate', 'Number Unemployed', 'Labor Force',\n",
      "       'Percent Unemployed', 'Average Daily PM2.5',\n",
      "       'Presence of water violation', 'Life Expectancy', '95% CI - Low',\n",
      "       '95% CI - High', 'Life Expectancy (Black)',\n",
      "       'Life Expectancy (Hispanic)', 'Life Expectancy (White)',\n",
      "       'Number pre-mature Deaths', 'Number HIV Cases', 'HIV Prevalence Rate',\n",
      "       'Percent Uninsured Adults', 'Percent Uninsured children',\n",
      "       'Median Household Income', 'Household income (Black)',\n",
      "       'Household income (Hispanic)', 'Household income (White)',\n",
      "       'Segregation index black/white', 'Segregation Index non-white/ white',\n",
      "       'number Rural'],\n",
      "      dtype='object')\n"
     ]
    }
   ],
   "source": [
    "# Look at just the columns with missing data\n",
    "missing_columns = rcd.columns[rcd.isnull().any()]\n",
    "print(missing_columns)\n",
    "\n",
    "# We will have to address each of these columns if john did not already"
   ]
  },
  {
   "cell_type": "code",
   "execution_count": 41,
   "id": "357fcecb-0477-42ce-b404-1b26237b75ac",
   "metadata": {
    "tags": []
   },
   "outputs": [
    {
     "data": {
      "text/html": [
       "<div>\n",
       "<style scoped>\n",
       "    .dataframe tbody tr th:only-of-type {\n",
       "        vertical-align: middle;\n",
       "    }\n",
       "\n",
       "    .dataframe tbody tr th {\n",
       "        vertical-align: top;\n",
       "    }\n",
       "\n",
       "    .dataframe thead th {\n",
       "        text-align: right;\n",
       "    }\n",
       "</style>\n",
       "<table border=\"1\" class=\"dataframe\">\n",
       "  <thead>\n",
       "    <tr style=\"text-align: right;\">\n",
       "      <th></th>\n",
       "      <th>FIPS</th>\n",
       "      <th>State_x</th>\n",
       "      <th>County_x</th>\n",
       "      <th>Years of Potential Life Lost Rate (premature death)</th>\n",
       "      <th>YPLL Rate (Black)</th>\n",
       "      <th>YPLL Rate (Hispanic)</th>\n",
       "      <th>YPLL Rate (White)</th>\n",
       "      <th>% Fair/Poor Health</th>\n",
       "      <th>percent_smokers</th>\n",
       "      <th>percent_obese</th>\n",
       "      <th>...</th>\n",
       "      <th>percent Female</th>\n",
       "      <th>number Rural</th>\n",
       "      <th>County_y</th>\n",
       "      <th>State_y</th>\n",
       "      <th>cases_2020</th>\n",
       "      <th>cases_2021</th>\n",
       "      <th>cases_2022</th>\n",
       "      <th>deaths_2020</th>\n",
       "      <th>deaths_2021</th>\n",
       "      <th>deaths_2022</th>\n",
       "    </tr>\n",
       "  </thead>\n",
       "  <tbody>\n",
       "    <tr>\n",
       "      <th>0</th>\n",
       "      <td>1001</td>\n",
       "      <td>Alabama</td>\n",
       "      <td>Autauga</td>\n",
       "      <td>8824.0</td>\n",
       "      <td>10471.0</td>\n",
       "      <td>NaN</td>\n",
       "      <td>8707.0</td>\n",
       "      <td>18</td>\n",
       "      <td>19</td>\n",
       "      <td>38</td>\n",
       "      <td>...</td>\n",
       "      <td>51.3</td>\n",
       "      <td>22921.0</td>\n",
       "      <td>Autauga</td>\n",
       "      <td>AL</td>\n",
       "      <td>4190.0</td>\n",
       "      <td>11018.0</td>\n",
       "      <td>18961.0</td>\n",
       "      <td>5631.0</td>\n",
       "      <td>47405.0</td>\n",
       "      <td>124934.0</td>\n",
       "    </tr>\n",
       "    <tr>\n",
       "      <th>1</th>\n",
       "      <td>1003</td>\n",
       "      <td>Alabama</td>\n",
       "      <td>Baldwin</td>\n",
       "      <td>7225.0</td>\n",
       "      <td>10042.0</td>\n",
       "      <td>3087.0</td>\n",
       "      <td>7278.0</td>\n",
       "      <td>18</td>\n",
       "      <td>17</td>\n",
       "      <td>31</td>\n",
       "      <td>...</td>\n",
       "      <td>51.5</td>\n",
       "      <td>77060.0</td>\n",
       "      <td>Baldwin</td>\n",
       "      <td>AL</td>\n",
       "      <td>13601.0</td>\n",
       "      <td>39911.0</td>\n",
       "      <td>67496.0</td>\n",
       "      <td>12412.0</td>\n",
       "      <td>148723.0</td>\n",
       "      <td>397246.0</td>\n",
       "    </tr>\n",
       "    <tr>\n",
       "      <th>2</th>\n",
       "      <td>1005</td>\n",
       "      <td>Alabama</td>\n",
       "      <td>Barbour</td>\n",
       "      <td>9586.0</td>\n",
       "      <td>11333.0</td>\n",
       "      <td>NaN</td>\n",
       "      <td>7310.0</td>\n",
       "      <td>26</td>\n",
       "      <td>22</td>\n",
       "      <td>44</td>\n",
       "      <td>...</td>\n",
       "      <td>47.2</td>\n",
       "      <td>18613.0</td>\n",
       "      <td>Barbour</td>\n",
       "      <td>AL</td>\n",
       "      <td>1514.0</td>\n",
       "      <td>3860.0</td>\n",
       "      <td>7027.0</td>\n",
       "      <td>2035.0</td>\n",
       "      <td>24364.0</td>\n",
       "      <td>60044.0</td>\n",
       "    </tr>\n",
       "    <tr>\n",
       "      <th>3</th>\n",
       "      <td>1007</td>\n",
       "      <td>Alabama</td>\n",
       "      <td>Bibb</td>\n",
       "      <td>11784.0</td>\n",
       "      <td>14813.0</td>\n",
       "      <td>NaN</td>\n",
       "      <td>11328.0</td>\n",
       "      <td>20</td>\n",
       "      <td>20</td>\n",
       "      <td>38</td>\n",
       "      <td>...</td>\n",
       "      <td>46.5</td>\n",
       "      <td>15663.0</td>\n",
       "      <td>Bibb</td>\n",
       "      <td>AL</td>\n",
       "      <td>1834.0</td>\n",
       "      <td>4533.0</td>\n",
       "      <td>7692.0</td>\n",
       "      <td>2678.0</td>\n",
       "      <td>28085.0</td>\n",
       "      <td>65964.0</td>\n",
       "    </tr>\n",
       "    <tr>\n",
       "      <th>4</th>\n",
       "      <td>1009</td>\n",
       "      <td>Alabama</td>\n",
       "      <td>Blount</td>\n",
       "      <td>10908.0</td>\n",
       "      <td>NaN</td>\n",
       "      <td>5620.0</td>\n",
       "      <td>11336.0</td>\n",
       "      <td>21</td>\n",
       "      <td>20</td>\n",
       "      <td>34</td>\n",
       "      <td>...</td>\n",
       "      <td>50.7</td>\n",
       "      <td>51562.0</td>\n",
       "      <td>Blount</td>\n",
       "      <td>AL</td>\n",
       "      <td>4641.0</td>\n",
       "      <td>11256.0</td>\n",
       "      <td>17731.0</td>\n",
       "      <td>3855.0</td>\n",
       "      <td>56300.0</td>\n",
       "      <td>144559.0</td>\n",
       "    </tr>\n",
       "  </tbody>\n",
       "</table>\n",
       "<p>5 rows × 81 columns</p>\n",
       "</div>"
      ],
      "text/plain": [
       "   FIPS  State_x County_x  \\\n",
       "0  1001  Alabama  Autauga   \n",
       "1  1003  Alabama  Baldwin   \n",
       "2  1005  Alabama  Barbour   \n",
       "3  1007  Alabama     Bibb   \n",
       "4  1009  Alabama   Blount   \n",
       "\n",
       "   Years of Potential Life Lost Rate (premature death)  YPLL Rate (Black)  \\\n",
       "0                                             8824.0              10471.0   \n",
       "1                                             7225.0              10042.0   \n",
       "2                                             9586.0              11333.0   \n",
       "3                                            11784.0              14813.0   \n",
       "4                                            10908.0                  NaN   \n",
       "\n",
       "   YPLL Rate (Hispanic)  YPLL Rate (White)  % Fair/Poor Health  \\\n",
       "0                   NaN             8707.0                  18   \n",
       "1                3087.0             7278.0                  18   \n",
       "2                   NaN             7310.0                  26   \n",
       "3                   NaN            11328.0                  20   \n",
       "4                5620.0            11336.0                  21   \n",
       "\n",
       "   percent_smokers  percent_obese  ...  percent Female  number Rural  \\\n",
       "0               19             38  ...            51.3       22921.0   \n",
       "1               17             31  ...            51.5       77060.0   \n",
       "2               22             44  ...            47.2       18613.0   \n",
       "3               20             38  ...            46.5       15663.0   \n",
       "4               20             34  ...            50.7       51562.0   \n",
       "\n",
       "   County_y  State_y  cases_2020  cases_2021  cases_2022 deaths_2020  \\\n",
       "0   Autauga       AL      4190.0     11018.0     18961.0      5631.0   \n",
       "1   Baldwin       AL     13601.0     39911.0     67496.0     12412.0   \n",
       "2   Barbour       AL      1514.0      3860.0      7027.0      2035.0   \n",
       "3      Bibb       AL      1834.0      4533.0      7692.0      2678.0   \n",
       "4    Blount       AL      4641.0     11256.0     17731.0      3855.0   \n",
       "\n",
       "   deaths_2021  deaths_2022  \n",
       "0      47405.0     124934.0  \n",
       "1     148723.0     397246.0  \n",
       "2      24364.0      60044.0  \n",
       "3      28085.0      65964.0  \n",
       "4      56300.0     144559.0  \n",
       "\n",
       "[5 rows x 81 columns]"
      ]
     },
     "execution_count": 41,
     "metadata": {},
     "output_type": "execute_result"
    }
   ],
   "source": [
    "rcd.head()"
   ]
  },
  {
   "cell_type": "code",
   "execution_count": 42,
   "id": "8d79ab20-95ab-48f6-b1c2-47edcf568aa2",
   "metadata": {
    "tags": []
   },
   "outputs": [],
   "source": [
    "rcd.rename(columns={'County_x': 'County'}, inplace=True)"
   ]
  },
  {
   "cell_type": "code",
   "execution_count": 43,
   "id": "a5458ad5-173a-476c-9fbe-90258410a469",
   "metadata": {
    "tags": []
   },
   "outputs": [
    {
     "data": {
      "text/plain": [
       "(3142, 81)"
      ]
     },
     "execution_count": 43,
     "metadata": {},
     "output_type": "execute_result"
    }
   ],
   "source": [
    "rcd.shape"
   ]
  },
  {
   "cell_type": "code",
   "execution_count": 44,
   "id": "38204d5a-d690-4304-9bfd-36cd89ddc9bf",
   "metadata": {
    "tags": []
   },
   "outputs": [
    {
     "data": {
      "text/plain": [
       "(2423, 3)"
      ]
     },
     "execution_count": 44,
     "metadata": {},
     "output_type": "execute_result"
    }
   ],
   "source": [
    "mask.shape"
   ]
  },
  {
   "cell_type": "code",
   "execution_count": 45,
   "id": "9fd6addb-9cfb-41fc-b34c-c9b929757b43",
   "metadata": {},
   "outputs": [
    {
     "data": {
      "text/html": [
       "<div>\n",
       "<style scoped>\n",
       "    .dataframe tbody tr th:only-of-type {\n",
       "        vertical-align: middle;\n",
       "    }\n",
       "\n",
       "    .dataframe tbody tr th {\n",
       "        vertical-align: top;\n",
       "    }\n",
       "\n",
       "    .dataframe thead th {\n",
       "        text-align: right;\n",
       "    }\n",
       "</style>\n",
       "<table border=\"1\" class=\"dataframe\">\n",
       "  <thead>\n",
       "    <tr style=\"text-align: right;\">\n",
       "      <th></th>\n",
       "      <th>State</th>\n",
       "      <th>County</th>\n",
       "      <th>Masks</th>\n",
       "    </tr>\n",
       "  </thead>\n",
       "  <tbody>\n",
       "    <tr>\n",
       "      <th>0</th>\n",
       "      <td>AL</td>\n",
       "      <td>Autauga</td>\n",
       "      <td>267</td>\n",
       "    </tr>\n",
       "    <tr>\n",
       "      <th>1</th>\n",
       "      <td>AL</td>\n",
       "      <td>Baldwin</td>\n",
       "      <td>267</td>\n",
       "    </tr>\n",
       "    <tr>\n",
       "      <th>2</th>\n",
       "      <td>AL</td>\n",
       "      <td>Barbour</td>\n",
       "      <td>267</td>\n",
       "    </tr>\n",
       "    <tr>\n",
       "      <th>3</th>\n",
       "      <td>AL</td>\n",
       "      <td>Bibb</td>\n",
       "      <td>267</td>\n",
       "    </tr>\n",
       "    <tr>\n",
       "      <th>4</th>\n",
       "      <td>AL</td>\n",
       "      <td>Blount</td>\n",
       "      <td>267</td>\n",
       "    </tr>\n",
       "  </tbody>\n",
       "</table>\n",
       "</div>"
      ],
      "text/plain": [
       "  State   County  Masks\n",
       "0    AL  Autauga    267\n",
       "1    AL  Baldwin    267\n",
       "2    AL  Barbour    267\n",
       "3    AL     Bibb    267\n",
       "4    AL   Blount    267"
      ]
     },
     "execution_count": 45,
     "metadata": {},
     "output_type": "execute_result"
    }
   ],
   "source": [
    "mask.head()"
   ]
  },
  {
   "cell_type": "code",
   "execution_count": 46,
   "id": "14c82eac-e7f6-4e7a-98ae-57f5a82f80b5",
   "metadata": {
    "tags": []
   },
   "outputs": [
    {
     "data": {
      "text/html": [
       "<div>\n",
       "<style scoped>\n",
       "    .dataframe tbody tr th:only-of-type {\n",
       "        vertical-align: middle;\n",
       "    }\n",
       "\n",
       "    .dataframe tbody tr th {\n",
       "        vertical-align: top;\n",
       "    }\n",
       "\n",
       "    .dataframe thead th {\n",
       "        text-align: right;\n",
       "    }\n",
       "</style>\n",
       "<table border=\"1\" class=\"dataframe\">\n",
       "  <thead>\n",
       "    <tr style=\"text-align: right;\">\n",
       "      <th></th>\n",
       "      <th>FIPS</th>\n",
       "      <th>State_x</th>\n",
       "      <th>County</th>\n",
       "      <th>Years of Potential Life Lost Rate (premature death)</th>\n",
       "      <th>YPLL Rate (Black)</th>\n",
       "      <th>YPLL Rate (Hispanic)</th>\n",
       "      <th>YPLL Rate (White)</th>\n",
       "      <th>% Fair/Poor Health</th>\n",
       "      <th>percent_smokers</th>\n",
       "      <th>percent_obese</th>\n",
       "      <th>...</th>\n",
       "      <th>percent Female</th>\n",
       "      <th>number Rural</th>\n",
       "      <th>County_y</th>\n",
       "      <th>State_y</th>\n",
       "      <th>cases_2020</th>\n",
       "      <th>cases_2021</th>\n",
       "      <th>cases_2022</th>\n",
       "      <th>deaths_2020</th>\n",
       "      <th>deaths_2021</th>\n",
       "      <th>deaths_2022</th>\n",
       "    </tr>\n",
       "  </thead>\n",
       "  <tbody>\n",
       "    <tr>\n",
       "      <th>0</th>\n",
       "      <td>1001</td>\n",
       "      <td>Alabama</td>\n",
       "      <td>Autauga</td>\n",
       "      <td>8824.0</td>\n",
       "      <td>10471.0</td>\n",
       "      <td>NaN</td>\n",
       "      <td>8707.0</td>\n",
       "      <td>18</td>\n",
       "      <td>19</td>\n",
       "      <td>38</td>\n",
       "      <td>...</td>\n",
       "      <td>51.3</td>\n",
       "      <td>22921.0</td>\n",
       "      <td>Autauga</td>\n",
       "      <td>AL</td>\n",
       "      <td>4190.0</td>\n",
       "      <td>11018.0</td>\n",
       "      <td>18961.0</td>\n",
       "      <td>5631.0</td>\n",
       "      <td>47405.0</td>\n",
       "      <td>124934.0</td>\n",
       "    </tr>\n",
       "    <tr>\n",
       "      <th>1</th>\n",
       "      <td>1003</td>\n",
       "      <td>Alabama</td>\n",
       "      <td>Baldwin</td>\n",
       "      <td>7225.0</td>\n",
       "      <td>10042.0</td>\n",
       "      <td>3087.0</td>\n",
       "      <td>7278.0</td>\n",
       "      <td>18</td>\n",
       "      <td>17</td>\n",
       "      <td>31</td>\n",
       "      <td>...</td>\n",
       "      <td>51.5</td>\n",
       "      <td>77060.0</td>\n",
       "      <td>Baldwin</td>\n",
       "      <td>AL</td>\n",
       "      <td>13601.0</td>\n",
       "      <td>39911.0</td>\n",
       "      <td>67496.0</td>\n",
       "      <td>12412.0</td>\n",
       "      <td>148723.0</td>\n",
       "      <td>397246.0</td>\n",
       "    </tr>\n",
       "    <tr>\n",
       "      <th>2</th>\n",
       "      <td>1005</td>\n",
       "      <td>Alabama</td>\n",
       "      <td>Barbour</td>\n",
       "      <td>9586.0</td>\n",
       "      <td>11333.0</td>\n",
       "      <td>NaN</td>\n",
       "      <td>7310.0</td>\n",
       "      <td>26</td>\n",
       "      <td>22</td>\n",
       "      <td>44</td>\n",
       "      <td>...</td>\n",
       "      <td>47.2</td>\n",
       "      <td>18613.0</td>\n",
       "      <td>Barbour</td>\n",
       "      <td>AL</td>\n",
       "      <td>1514.0</td>\n",
       "      <td>3860.0</td>\n",
       "      <td>7027.0</td>\n",
       "      <td>2035.0</td>\n",
       "      <td>24364.0</td>\n",
       "      <td>60044.0</td>\n",
       "    </tr>\n",
       "    <tr>\n",
       "      <th>3</th>\n",
       "      <td>1007</td>\n",
       "      <td>Alabama</td>\n",
       "      <td>Bibb</td>\n",
       "      <td>11784.0</td>\n",
       "      <td>14813.0</td>\n",
       "      <td>NaN</td>\n",
       "      <td>11328.0</td>\n",
       "      <td>20</td>\n",
       "      <td>20</td>\n",
       "      <td>38</td>\n",
       "      <td>...</td>\n",
       "      <td>46.5</td>\n",
       "      <td>15663.0</td>\n",
       "      <td>Bibb</td>\n",
       "      <td>AL</td>\n",
       "      <td>1834.0</td>\n",
       "      <td>4533.0</td>\n",
       "      <td>7692.0</td>\n",
       "      <td>2678.0</td>\n",
       "      <td>28085.0</td>\n",
       "      <td>65964.0</td>\n",
       "    </tr>\n",
       "    <tr>\n",
       "      <th>4</th>\n",
       "      <td>1009</td>\n",
       "      <td>Alabama</td>\n",
       "      <td>Blount</td>\n",
       "      <td>10908.0</td>\n",
       "      <td>NaN</td>\n",
       "      <td>5620.0</td>\n",
       "      <td>11336.0</td>\n",
       "      <td>21</td>\n",
       "      <td>20</td>\n",
       "      <td>34</td>\n",
       "      <td>...</td>\n",
       "      <td>50.7</td>\n",
       "      <td>51562.0</td>\n",
       "      <td>Blount</td>\n",
       "      <td>AL</td>\n",
       "      <td>4641.0</td>\n",
       "      <td>11256.0</td>\n",
       "      <td>17731.0</td>\n",
       "      <td>3855.0</td>\n",
       "      <td>56300.0</td>\n",
       "      <td>144559.0</td>\n",
       "    </tr>\n",
       "  </tbody>\n",
       "</table>\n",
       "<p>5 rows × 81 columns</p>\n",
       "</div>"
      ],
      "text/plain": [
       "   FIPS  State_x   County  \\\n",
       "0  1001  Alabama  Autauga   \n",
       "1  1003  Alabama  Baldwin   \n",
       "2  1005  Alabama  Barbour   \n",
       "3  1007  Alabama     Bibb   \n",
       "4  1009  Alabama   Blount   \n",
       "\n",
       "   Years of Potential Life Lost Rate (premature death)  YPLL Rate (Black)  \\\n",
       "0                                             8824.0              10471.0   \n",
       "1                                             7225.0              10042.0   \n",
       "2                                             9586.0              11333.0   \n",
       "3                                            11784.0              14813.0   \n",
       "4                                            10908.0                  NaN   \n",
       "\n",
       "   YPLL Rate (Hispanic)  YPLL Rate (White)  % Fair/Poor Health  \\\n",
       "0                   NaN             8707.0                  18   \n",
       "1                3087.0             7278.0                  18   \n",
       "2                   NaN             7310.0                  26   \n",
       "3                   NaN            11328.0                  20   \n",
       "4                5620.0            11336.0                  21   \n",
       "\n",
       "   percent_smokers  percent_obese  ...  percent Female  number Rural  \\\n",
       "0               19             38  ...            51.3       22921.0   \n",
       "1               17             31  ...            51.5       77060.0   \n",
       "2               22             44  ...            47.2       18613.0   \n",
       "3               20             38  ...            46.5       15663.0   \n",
       "4               20             34  ...            50.7       51562.0   \n",
       "\n",
       "   County_y  State_y  cases_2020  cases_2021  cases_2022 deaths_2020  \\\n",
       "0   Autauga       AL      4190.0     11018.0     18961.0      5631.0   \n",
       "1   Baldwin       AL     13601.0     39911.0     67496.0     12412.0   \n",
       "2   Barbour       AL      1514.0      3860.0      7027.0      2035.0   \n",
       "3      Bibb       AL      1834.0      4533.0      7692.0      2678.0   \n",
       "4    Blount       AL      4641.0     11256.0     17731.0      3855.0   \n",
       "\n",
       "   deaths_2021  deaths_2022  \n",
       "0      47405.0     124934.0  \n",
       "1     148723.0     397246.0  \n",
       "2      24364.0      60044.0  \n",
       "3      28085.0      65964.0  \n",
       "4      56300.0     144559.0  \n",
       "\n",
       "[5 rows x 81 columns]"
      ]
     },
     "execution_count": 46,
     "metadata": {},
     "output_type": "execute_result"
    }
   ],
   "source": [
    "rcd.head()"
   ]
  },
  {
   "cell_type": "code",
   "execution_count": 47,
   "id": "3fcfac27-5236-4bdf-afff-ba0daa46b8ca",
   "metadata": {
    "tags": []
   },
   "outputs": [],
   "source": [
    "rcd.rename(columns={'State_y': 'State'}, inplace=True)"
   ]
  },
  {
   "cell_type": "code",
   "execution_count": 48,
   "id": "7568c7e3-9a98-40e6-90dd-33388f2bbd90",
   "metadata": {
    "tags": []
   },
   "outputs": [
    {
     "data": {
      "text/html": [
       "<div>\n",
       "<style scoped>\n",
       "    .dataframe tbody tr th:only-of-type {\n",
       "        vertical-align: middle;\n",
       "    }\n",
       "\n",
       "    .dataframe tbody tr th {\n",
       "        vertical-align: top;\n",
       "    }\n",
       "\n",
       "    .dataframe thead th {\n",
       "        text-align: right;\n",
       "    }\n",
       "</style>\n",
       "<table border=\"1\" class=\"dataframe\">\n",
       "  <thead>\n",
       "    <tr style=\"text-align: right;\">\n",
       "      <th></th>\n",
       "      <th>FIPS</th>\n",
       "      <th>State_x</th>\n",
       "      <th>County</th>\n",
       "      <th>Years of Potential Life Lost Rate (premature death)</th>\n",
       "      <th>YPLL Rate (Black)</th>\n",
       "      <th>YPLL Rate (Hispanic)</th>\n",
       "      <th>YPLL Rate (White)</th>\n",
       "      <th>% Fair/Poor Health</th>\n",
       "      <th>percent_smokers</th>\n",
       "      <th>percent_obese</th>\n",
       "      <th>...</th>\n",
       "      <th>percent Female</th>\n",
       "      <th>number Rural</th>\n",
       "      <th>County_y</th>\n",
       "      <th>State</th>\n",
       "      <th>cases_2020</th>\n",
       "      <th>cases_2021</th>\n",
       "      <th>cases_2022</th>\n",
       "      <th>deaths_2020</th>\n",
       "      <th>deaths_2021</th>\n",
       "      <th>deaths_2022</th>\n",
       "    </tr>\n",
       "  </thead>\n",
       "  <tbody>\n",
       "    <tr>\n",
       "      <th>0</th>\n",
       "      <td>1001</td>\n",
       "      <td>Alabama</td>\n",
       "      <td>Autauga</td>\n",
       "      <td>8824.0</td>\n",
       "      <td>10471.0</td>\n",
       "      <td>NaN</td>\n",
       "      <td>8707.0</td>\n",
       "      <td>18</td>\n",
       "      <td>19</td>\n",
       "      <td>38</td>\n",
       "      <td>...</td>\n",
       "      <td>51.3</td>\n",
       "      <td>22921.0</td>\n",
       "      <td>Autauga</td>\n",
       "      <td>AL</td>\n",
       "      <td>4190.0</td>\n",
       "      <td>11018.0</td>\n",
       "      <td>18961.0</td>\n",
       "      <td>5631.0</td>\n",
       "      <td>47405.0</td>\n",
       "      <td>124934.0</td>\n",
       "    </tr>\n",
       "    <tr>\n",
       "      <th>1</th>\n",
       "      <td>1003</td>\n",
       "      <td>Alabama</td>\n",
       "      <td>Baldwin</td>\n",
       "      <td>7225.0</td>\n",
       "      <td>10042.0</td>\n",
       "      <td>3087.0</td>\n",
       "      <td>7278.0</td>\n",
       "      <td>18</td>\n",
       "      <td>17</td>\n",
       "      <td>31</td>\n",
       "      <td>...</td>\n",
       "      <td>51.5</td>\n",
       "      <td>77060.0</td>\n",
       "      <td>Baldwin</td>\n",
       "      <td>AL</td>\n",
       "      <td>13601.0</td>\n",
       "      <td>39911.0</td>\n",
       "      <td>67496.0</td>\n",
       "      <td>12412.0</td>\n",
       "      <td>148723.0</td>\n",
       "      <td>397246.0</td>\n",
       "    </tr>\n",
       "    <tr>\n",
       "      <th>2</th>\n",
       "      <td>1005</td>\n",
       "      <td>Alabama</td>\n",
       "      <td>Barbour</td>\n",
       "      <td>9586.0</td>\n",
       "      <td>11333.0</td>\n",
       "      <td>NaN</td>\n",
       "      <td>7310.0</td>\n",
       "      <td>26</td>\n",
       "      <td>22</td>\n",
       "      <td>44</td>\n",
       "      <td>...</td>\n",
       "      <td>47.2</td>\n",
       "      <td>18613.0</td>\n",
       "      <td>Barbour</td>\n",
       "      <td>AL</td>\n",
       "      <td>1514.0</td>\n",
       "      <td>3860.0</td>\n",
       "      <td>7027.0</td>\n",
       "      <td>2035.0</td>\n",
       "      <td>24364.0</td>\n",
       "      <td>60044.0</td>\n",
       "    </tr>\n",
       "    <tr>\n",
       "      <th>3</th>\n",
       "      <td>1007</td>\n",
       "      <td>Alabama</td>\n",
       "      <td>Bibb</td>\n",
       "      <td>11784.0</td>\n",
       "      <td>14813.0</td>\n",
       "      <td>NaN</td>\n",
       "      <td>11328.0</td>\n",
       "      <td>20</td>\n",
       "      <td>20</td>\n",
       "      <td>38</td>\n",
       "      <td>...</td>\n",
       "      <td>46.5</td>\n",
       "      <td>15663.0</td>\n",
       "      <td>Bibb</td>\n",
       "      <td>AL</td>\n",
       "      <td>1834.0</td>\n",
       "      <td>4533.0</td>\n",
       "      <td>7692.0</td>\n",
       "      <td>2678.0</td>\n",
       "      <td>28085.0</td>\n",
       "      <td>65964.0</td>\n",
       "    </tr>\n",
       "    <tr>\n",
       "      <th>4</th>\n",
       "      <td>1009</td>\n",
       "      <td>Alabama</td>\n",
       "      <td>Blount</td>\n",
       "      <td>10908.0</td>\n",
       "      <td>NaN</td>\n",
       "      <td>5620.0</td>\n",
       "      <td>11336.0</td>\n",
       "      <td>21</td>\n",
       "      <td>20</td>\n",
       "      <td>34</td>\n",
       "      <td>...</td>\n",
       "      <td>50.7</td>\n",
       "      <td>51562.0</td>\n",
       "      <td>Blount</td>\n",
       "      <td>AL</td>\n",
       "      <td>4641.0</td>\n",
       "      <td>11256.0</td>\n",
       "      <td>17731.0</td>\n",
       "      <td>3855.0</td>\n",
       "      <td>56300.0</td>\n",
       "      <td>144559.0</td>\n",
       "    </tr>\n",
       "  </tbody>\n",
       "</table>\n",
       "<p>5 rows × 81 columns</p>\n",
       "</div>"
      ],
      "text/plain": [
       "   FIPS  State_x   County  \\\n",
       "0  1001  Alabama  Autauga   \n",
       "1  1003  Alabama  Baldwin   \n",
       "2  1005  Alabama  Barbour   \n",
       "3  1007  Alabama     Bibb   \n",
       "4  1009  Alabama   Blount   \n",
       "\n",
       "   Years of Potential Life Lost Rate (premature death)  YPLL Rate (Black)  \\\n",
       "0                                             8824.0              10471.0   \n",
       "1                                             7225.0              10042.0   \n",
       "2                                             9586.0              11333.0   \n",
       "3                                            11784.0              14813.0   \n",
       "4                                            10908.0                  NaN   \n",
       "\n",
       "   YPLL Rate (Hispanic)  YPLL Rate (White)  % Fair/Poor Health  \\\n",
       "0                   NaN             8707.0                  18   \n",
       "1                3087.0             7278.0                  18   \n",
       "2                   NaN             7310.0                  26   \n",
       "3                   NaN            11328.0                  20   \n",
       "4                5620.0            11336.0                  21   \n",
       "\n",
       "   percent_smokers  percent_obese  ...  percent Female  number Rural  \\\n",
       "0               19             38  ...            51.3       22921.0   \n",
       "1               17             31  ...            51.5       77060.0   \n",
       "2               22             44  ...            47.2       18613.0   \n",
       "3               20             38  ...            46.5       15663.0   \n",
       "4               20             34  ...            50.7       51562.0   \n",
       "\n",
       "   County_y  State  cases_2020  cases_2021  cases_2022 deaths_2020  \\\n",
       "0   Autauga     AL      4190.0     11018.0     18961.0      5631.0   \n",
       "1   Baldwin     AL     13601.0     39911.0     67496.0     12412.0   \n",
       "2   Barbour     AL      1514.0      3860.0      7027.0      2035.0   \n",
       "3      Bibb     AL      1834.0      4533.0      7692.0      2678.0   \n",
       "4    Blount     AL      4641.0     11256.0     17731.0      3855.0   \n",
       "\n",
       "   deaths_2021  deaths_2022  \n",
       "0      47405.0     124934.0  \n",
       "1     148723.0     397246.0  \n",
       "2      24364.0      60044.0  \n",
       "3      28085.0      65964.0  \n",
       "4      56300.0     144559.0  \n",
       "\n",
       "[5 rows x 81 columns]"
      ]
     },
     "execution_count": 48,
     "metadata": {},
     "output_type": "execute_result"
    }
   ],
   "source": [
    "rcd.head()"
   ]
  },
  {
   "cell_type": "code",
   "execution_count": 49,
   "id": "5c7cec52-fa68-42ef-88f3-fb8d57dd05ad",
   "metadata": {
    "tags": []
   },
   "outputs": [],
   "source": [
    "county_data = pd.merge(rcd,mask, on=['State', 'County'], how='left')\n"
   ]
  },
  {
   "cell_type": "code",
   "execution_count": 50,
   "id": "1903a091-8818-4359-9006-5985d7e46c0f",
   "metadata": {
    "tags": []
   },
   "outputs": [
    {
     "data": {
      "text/plain": [
       "(3142, 82)"
      ]
     },
     "execution_count": 50,
     "metadata": {},
     "output_type": "execute_result"
    }
   ],
   "source": [
    "county_data.shape"
   ]
  },
  {
   "cell_type": "code",
   "execution_count": 51,
   "id": "534b3497-8f26-4b57-bacd-63593bcce94d",
   "metadata": {
    "tags": []
   },
   "outputs": [
    {
     "data": {
      "text/html": [
       "<div>\n",
       "<style scoped>\n",
       "    .dataframe tbody tr th:only-of-type {\n",
       "        vertical-align: middle;\n",
       "    }\n",
       "\n",
       "    .dataframe tbody tr th {\n",
       "        vertical-align: top;\n",
       "    }\n",
       "\n",
       "    .dataframe thead th {\n",
       "        text-align: right;\n",
       "    }\n",
       "</style>\n",
       "<table border=\"1\" class=\"dataframe\">\n",
       "  <thead>\n",
       "    <tr style=\"text-align: right;\">\n",
       "      <th></th>\n",
       "      <th>FIPS</th>\n",
       "      <th>State_x</th>\n",
       "      <th>County</th>\n",
       "      <th>Years of Potential Life Lost Rate (premature death)</th>\n",
       "      <th>YPLL Rate (Black)</th>\n",
       "      <th>YPLL Rate (Hispanic)</th>\n",
       "      <th>YPLL Rate (White)</th>\n",
       "      <th>% Fair/Poor Health</th>\n",
       "      <th>percent_smokers</th>\n",
       "      <th>percent_obese</th>\n",
       "      <th>...</th>\n",
       "      <th>number Rural</th>\n",
       "      <th>County_y</th>\n",
       "      <th>State</th>\n",
       "      <th>cases_2020</th>\n",
       "      <th>cases_2021</th>\n",
       "      <th>cases_2022</th>\n",
       "      <th>deaths_2020</th>\n",
       "      <th>deaths_2021</th>\n",
       "      <th>deaths_2022</th>\n",
       "      <th>Masks</th>\n",
       "    </tr>\n",
       "  </thead>\n",
       "  <tbody>\n",
       "    <tr>\n",
       "      <th>0</th>\n",
       "      <td>1001</td>\n",
       "      <td>Alabama</td>\n",
       "      <td>Autauga</td>\n",
       "      <td>8824.0</td>\n",
       "      <td>10471.0</td>\n",
       "      <td>NaN</td>\n",
       "      <td>8707.0</td>\n",
       "      <td>18</td>\n",
       "      <td>19</td>\n",
       "      <td>38</td>\n",
       "      <td>...</td>\n",
       "      <td>22921.0</td>\n",
       "      <td>Autauga</td>\n",
       "      <td>AL</td>\n",
       "      <td>4190.0</td>\n",
       "      <td>11018.0</td>\n",
       "      <td>18961.0</td>\n",
       "      <td>5631.0</td>\n",
       "      <td>47405.0</td>\n",
       "      <td>124934.0</td>\n",
       "      <td>267.0</td>\n",
       "    </tr>\n",
       "    <tr>\n",
       "      <th>1</th>\n",
       "      <td>1003</td>\n",
       "      <td>Alabama</td>\n",
       "      <td>Baldwin</td>\n",
       "      <td>7225.0</td>\n",
       "      <td>10042.0</td>\n",
       "      <td>3087.0</td>\n",
       "      <td>7278.0</td>\n",
       "      <td>18</td>\n",
       "      <td>17</td>\n",
       "      <td>31</td>\n",
       "      <td>...</td>\n",
       "      <td>77060.0</td>\n",
       "      <td>Baldwin</td>\n",
       "      <td>AL</td>\n",
       "      <td>13601.0</td>\n",
       "      <td>39911.0</td>\n",
       "      <td>67496.0</td>\n",
       "      <td>12412.0</td>\n",
       "      <td>148723.0</td>\n",
       "      <td>397246.0</td>\n",
       "      <td>267.0</td>\n",
       "    </tr>\n",
       "    <tr>\n",
       "      <th>2</th>\n",
       "      <td>1005</td>\n",
       "      <td>Alabama</td>\n",
       "      <td>Barbour</td>\n",
       "      <td>9586.0</td>\n",
       "      <td>11333.0</td>\n",
       "      <td>NaN</td>\n",
       "      <td>7310.0</td>\n",
       "      <td>26</td>\n",
       "      <td>22</td>\n",
       "      <td>44</td>\n",
       "      <td>...</td>\n",
       "      <td>18613.0</td>\n",
       "      <td>Barbour</td>\n",
       "      <td>AL</td>\n",
       "      <td>1514.0</td>\n",
       "      <td>3860.0</td>\n",
       "      <td>7027.0</td>\n",
       "      <td>2035.0</td>\n",
       "      <td>24364.0</td>\n",
       "      <td>60044.0</td>\n",
       "      <td>267.0</td>\n",
       "    </tr>\n",
       "    <tr>\n",
       "      <th>3</th>\n",
       "      <td>1007</td>\n",
       "      <td>Alabama</td>\n",
       "      <td>Bibb</td>\n",
       "      <td>11784.0</td>\n",
       "      <td>14813.0</td>\n",
       "      <td>NaN</td>\n",
       "      <td>11328.0</td>\n",
       "      <td>20</td>\n",
       "      <td>20</td>\n",
       "      <td>38</td>\n",
       "      <td>...</td>\n",
       "      <td>15663.0</td>\n",
       "      <td>Bibb</td>\n",
       "      <td>AL</td>\n",
       "      <td>1834.0</td>\n",
       "      <td>4533.0</td>\n",
       "      <td>7692.0</td>\n",
       "      <td>2678.0</td>\n",
       "      <td>28085.0</td>\n",
       "      <td>65964.0</td>\n",
       "      <td>267.0</td>\n",
       "    </tr>\n",
       "    <tr>\n",
       "      <th>4</th>\n",
       "      <td>1009</td>\n",
       "      <td>Alabama</td>\n",
       "      <td>Blount</td>\n",
       "      <td>10908.0</td>\n",
       "      <td>NaN</td>\n",
       "      <td>5620.0</td>\n",
       "      <td>11336.0</td>\n",
       "      <td>21</td>\n",
       "      <td>20</td>\n",
       "      <td>34</td>\n",
       "      <td>...</td>\n",
       "      <td>51562.0</td>\n",
       "      <td>Blount</td>\n",
       "      <td>AL</td>\n",
       "      <td>4641.0</td>\n",
       "      <td>11256.0</td>\n",
       "      <td>17731.0</td>\n",
       "      <td>3855.0</td>\n",
       "      <td>56300.0</td>\n",
       "      <td>144559.0</td>\n",
       "      <td>267.0</td>\n",
       "    </tr>\n",
       "  </tbody>\n",
       "</table>\n",
       "<p>5 rows × 82 columns</p>\n",
       "</div>"
      ],
      "text/plain": [
       "   FIPS  State_x   County  \\\n",
       "0  1001  Alabama  Autauga   \n",
       "1  1003  Alabama  Baldwin   \n",
       "2  1005  Alabama  Barbour   \n",
       "3  1007  Alabama     Bibb   \n",
       "4  1009  Alabama   Blount   \n",
       "\n",
       "   Years of Potential Life Lost Rate (premature death)  YPLL Rate (Black)  \\\n",
       "0                                             8824.0              10471.0   \n",
       "1                                             7225.0              10042.0   \n",
       "2                                             9586.0              11333.0   \n",
       "3                                            11784.0              14813.0   \n",
       "4                                            10908.0                  NaN   \n",
       "\n",
       "   YPLL Rate (Hispanic)  YPLL Rate (White)  % Fair/Poor Health  \\\n",
       "0                   NaN             8707.0                  18   \n",
       "1                3087.0             7278.0                  18   \n",
       "2                   NaN             7310.0                  26   \n",
       "3                   NaN            11328.0                  20   \n",
       "4                5620.0            11336.0                  21   \n",
       "\n",
       "   percent_smokers  percent_obese  ...  number Rural  County_y  State  \\\n",
       "0               19             38  ...       22921.0   Autauga     AL   \n",
       "1               17             31  ...       77060.0   Baldwin     AL   \n",
       "2               22             44  ...       18613.0   Barbour     AL   \n",
       "3               20             38  ...       15663.0      Bibb     AL   \n",
       "4               20             34  ...       51562.0    Blount     AL   \n",
       "\n",
       "   cases_2020  cases_2021  cases_2022  deaths_2020 deaths_2021  deaths_2022  \\\n",
       "0      4190.0     11018.0     18961.0       5631.0     47405.0     124934.0   \n",
       "1     13601.0     39911.0     67496.0      12412.0    148723.0     397246.0   \n",
       "2      1514.0      3860.0      7027.0       2035.0     24364.0      60044.0   \n",
       "3      1834.0      4533.0      7692.0       2678.0     28085.0      65964.0   \n",
       "4      4641.0     11256.0     17731.0       3855.0     56300.0     144559.0   \n",
       "\n",
       "   Masks  \n",
       "0  267.0  \n",
       "1  267.0  \n",
       "2  267.0  \n",
       "3  267.0  \n",
       "4  267.0  \n",
       "\n",
       "[5 rows x 82 columns]"
      ]
     },
     "execution_count": 51,
     "metadata": {},
     "output_type": "execute_result"
    }
   ],
   "source": [
    "county_data.head()"
   ]
  },
  {
   "cell_type": "code",
   "execution_count": 52,
   "id": "1080ab51-0e11-4d0d-9617-dcdd95f6939f",
   "metadata": {
    "tags": []
   },
   "outputs": [
    {
     "data": {
      "text/plain": [
       "910"
      ]
     },
     "execution_count": 52,
     "metadata": {},
     "output_type": "execute_result"
    }
   ],
   "source": [
    "county_data['Masks'].isna().sum()"
   ]
  },
  {
   "cell_type": "code",
   "execution_count": 53,
   "id": "2a16b178-ec4e-412a-b5b3-21dc69311270",
   "metadata": {
    "tags": []
   },
   "outputs": [],
   "source": [
    "county_data['Masks'].fillna(0, inplace=True)"
   ]
  },
  {
   "cell_type": "code",
   "execution_count": 54,
   "id": "31595f9f-8672-4a9d-b68c-f71491a1a1c2",
   "metadata": {
    "tags": []
   },
   "outputs": [
    {
     "data": {
      "text/plain": [
       "0"
      ]
     },
     "execution_count": 54,
     "metadata": {},
     "output_type": "execute_result"
    }
   ],
   "source": [
    "county_data['Masks'].isna().sum()"
   ]
  },
  {
   "cell_type": "code",
   "execution_count": 55,
   "id": "62dcdd5d-7549-4d60-88b6-8e36a7d0b841",
   "metadata": {
    "tags": []
   },
   "outputs": [],
   "source": [
    "county_vax = pd.read_csv('Data/Cleaned/county_vax_2021.csv')"
   ]
  },
  {
   "cell_type": "code",
   "execution_count": 56,
   "id": "01b43787-1492-4328-86ab-e7b613890e9b",
   "metadata": {
    "tags": []
   },
   "outputs": [
    {
     "data": {
      "text/plain": [
       "(3274, 5)"
      ]
     },
     "execution_count": 56,
     "metadata": {},
     "output_type": "execute_result"
    }
   ],
   "source": [
    "county_vax.shape"
   ]
  },
  {
   "cell_type": "code",
   "execution_count": 57,
   "id": "9531ae9a-f1c0-453e-80f3-a7e4bf10bfe9",
   "metadata": {
    "tags": []
   },
   "outputs": [
    {
     "data": {
      "text/plain": [
       "FIPS                                      0\n",
       "Recip_County                              0\n",
       "Recip_State                               0\n",
       "Administered_Dose1_Pop_Pct                0\n",
       "Administered_Dose1_Recip_65PlusPop_Pct    0\n",
       "dtype: int64"
      ]
     },
     "execution_count": 57,
     "metadata": {},
     "output_type": "execute_result"
    }
   ],
   "source": [
    "county_vax.isna().sum()"
   ]
  },
  {
   "cell_type": "code",
   "execution_count": 69,
   "id": "d04c1497-85ee-4cbf-8812-4e0712a32258",
   "metadata": {
    "tags": []
   },
   "outputs": [],
   "source": [
    "county_vax.rename(columns={'Recip_County': 'County', 'Recip_State': 'State'}, inplace=True)"
   ]
  },
  {
   "cell_type": "code",
   "execution_count": 70,
   "id": "52420fbc-8a96-4fc2-a44c-451210b6713b",
   "metadata": {
    "tags": []
   },
   "outputs": [
    {
     "data": {
      "text/html": [
       "<div>\n",
       "<style scoped>\n",
       "    .dataframe tbody tr th:only-of-type {\n",
       "        vertical-align: middle;\n",
       "    }\n",
       "\n",
       "    .dataframe tbody tr th {\n",
       "        vertical-align: top;\n",
       "    }\n",
       "\n",
       "    .dataframe thead th {\n",
       "        text-align: right;\n",
       "    }\n",
       "</style>\n",
       "<table border=\"1\" class=\"dataframe\">\n",
       "  <thead>\n",
       "    <tr style=\"text-align: right;\">\n",
       "      <th></th>\n",
       "      <th>FIPS</th>\n",
       "      <th>County</th>\n",
       "      <th>State</th>\n",
       "      <th>Administered_Dose1_Pop_Pct</th>\n",
       "      <th>Administered_Dose1_Recip_65PlusPop_Pct</th>\n",
       "    </tr>\n",
       "  </thead>\n",
       "  <tbody>\n",
       "    <tr>\n",
       "      <th>0</th>\n",
       "      <td>2013</td>\n",
       "      <td>Aleutians East Borough</td>\n",
       "      <td>AK</td>\n",
       "      <td>74.1</td>\n",
       "      <td>47.3</td>\n",
       "    </tr>\n",
       "    <tr>\n",
       "      <th>1</th>\n",
       "      <td>2016</td>\n",
       "      <td>Aleutians West Census Area</td>\n",
       "      <td>AK</td>\n",
       "      <td>64.9</td>\n",
       "      <td>65.2</td>\n",
       "    </tr>\n",
       "    <tr>\n",
       "      <th>2</th>\n",
       "      <td>2020</td>\n",
       "      <td>Anchorage Municipality</td>\n",
       "      <td>AK</td>\n",
       "      <td>60.7</td>\n",
       "      <td>92.3</td>\n",
       "    </tr>\n",
       "    <tr>\n",
       "      <th>3</th>\n",
       "      <td>2050</td>\n",
       "      <td>Bethel Census Area</td>\n",
       "      <td>AK</td>\n",
       "      <td>60.4</td>\n",
       "      <td>87.2</td>\n",
       "    </tr>\n",
       "    <tr>\n",
       "      <th>4</th>\n",
       "      <td>2060</td>\n",
       "      <td>Bristol Bay Borough</td>\n",
       "      <td>AK</td>\n",
       "      <td>99.9</td>\n",
       "      <td>90.4</td>\n",
       "    </tr>\n",
       "  </tbody>\n",
       "</table>\n",
       "</div>"
      ],
      "text/plain": [
       "   FIPS                      County State  Administered_Dose1_Pop_Pct  \\\n",
       "0  2013      Aleutians East Borough    AK                        74.1   \n",
       "1  2016  Aleutians West Census Area    AK                        64.9   \n",
       "2  2020      Anchorage Municipality    AK                        60.7   \n",
       "3  2050          Bethel Census Area    AK                        60.4   \n",
       "4  2060         Bristol Bay Borough    AK                        99.9   \n",
       "\n",
       "   Administered_Dose1_Recip_65PlusPop_Pct  \n",
       "0                                    47.3  \n",
       "1                                    65.2  \n",
       "2                                    92.3  \n",
       "3                                    87.2  \n",
       "4                                    90.4  "
      ]
     },
     "execution_count": 70,
     "metadata": {},
     "output_type": "execute_result"
    }
   ],
   "source": [
    "county_vax.head()"
   ]
  },
  {
   "cell_type": "code",
   "execution_count": 62,
   "id": "01187807-8dab-4766-8f89-03612d360c0d",
   "metadata": {
    "tags": []
   },
   "outputs": [
    {
     "name": "stdout",
     "output_type": "stream",
     "text": [
      "<class 'pandas.core.frame.DataFrame'>\n",
      "RangeIndex: 3274 entries, 0 to 3273\n",
      "Data columns (total 5 columns):\n",
      " #   Column                                  Non-Null Count  Dtype  \n",
      "---  ------                                  --------------  -----  \n",
      " 0   FIPS                                    3274 non-null   object \n",
      " 1   Recip_County                            3274 non-null   object \n",
      " 2   Recip_State                             3274 non-null   object \n",
      " 3   Administered_Dose1_Pop_Pct              3274 non-null   float64\n",
      " 4   Administered_Dose1_Recip_65PlusPop_Pct  3274 non-null   float64\n",
      "dtypes: float64(2), object(3)\n",
      "memory usage: 128.0+ KB\n"
     ]
    }
   ],
   "source": [
    "county_vax.info()"
   ]
  },
  {
   "cell_type": "code",
   "execution_count": 58,
   "id": "8604bc12-8972-4722-88dc-943096b836b8",
   "metadata": {
    "tags": []
   },
   "outputs": [
    {
     "name": "stdout",
     "output_type": "stream",
     "text": [
      "<class 'pandas.core.frame.DataFrame'>\n",
      "Int64Index: 3142 entries, 0 to 3141\n",
      "Data columns (total 82 columns):\n",
      " #   Column                                               Non-Null Count  Dtype  \n",
      "---  ------                                               --------------  -----  \n",
      " 0   FIPS                                                 3142 non-null   int64  \n",
      " 1   State_x                                              3142 non-null   object \n",
      " 2   County                                               3142 non-null   object \n",
      " 3   Years of Potential Life Lost Rate (premature death)  2908 non-null   float64\n",
      " 4   YPLL Rate (Black)                                    1351 non-null   float64\n",
      " 5   YPLL Rate (Hispanic)                                 837 non-null    float64\n",
      " 6   YPLL Rate (White)                                    1578 non-null   float64\n",
      " 7   % Fair/Poor Health                                   3142 non-null   int64  \n",
      " 8   percent_smokers                                      3142 non-null   int64  \n",
      " 9   percent_obese                                        3142 non-null   int64  \n",
      " 10  Food Environment Index                               3123 non-null   float64\n",
      " 11  % Physically Inactive                                3142 non-null   int64  \n",
      " 12  percent Excessive Drinking                           3142 non-null   int64  \n",
      " 13  Number Uninsured                                     3141 non-null   float64\n",
      " 14  Percent Uninsured                                    3141 non-null   float64\n",
      " 15  Number Primary Care Physicians                       3005 non-null   float64\n",
      " 16  PCP Rate                                             3007 non-null   float64\n",
      " 17  PCP Ratio                                            3007 non-null   object \n",
      " 18  Preventable Hosp stays Rate                          3104 non-null   float64\n",
      " 19  Preventable Hosp. Rate (Black)                       1481 non-null   float64\n",
      " 20  Preventable Hosp. Rate (Hispanic)                    1017 non-null   float64\n",
      " 21  Preventable Hosp. Rate (White)                       1775 non-null   float64\n",
      " 22  Percent Vaccinated Flu                               3126 non-null   float64\n",
      " 23  Percent Vaccinated Flu (Black)                       1851 non-null   float64\n",
      " 24  Percent  Vaccinated (Hispanic) Flu                   1837 non-null   float64\n",
      " 25  Percent Vaccinated (White) Flu                       2299 non-null   float64\n",
      " 26  High School Graduation Rate                          3043 non-null   float64\n",
      " 27  Number Some College                                  3142 non-null   int64  \n",
      " 28  Percent Some College                                 3142 non-null   int64  \n",
      " 29  Number Unemployed                                    3141 non-null   float64\n",
      " 30  Labor Force                                          3141 non-null   float64\n",
      " 31  Percent Unemployed                                   3141 non-null   float64\n",
      " 32  80th Percentile Income                               3142 non-null   int64  \n",
      " 33  20th Percentile Income                               3142 non-null   int64  \n",
      " 34  Income Ratio                                         3142 non-null   float64\n",
      " 35  Average Daily PM2.5                                  3108 non-null   float64\n",
      " 36  Presence of water violation                          3099 non-null   object \n",
      " 37  Percent Severe Housing Problems                      3142 non-null   int64  \n",
      " 38  Severe Housing Cost Burden                           3142 non-null   int64  \n",
      " 39  Overcrowding                                         3142 non-null   int64  \n",
      " 40  Inadequate Facilities                                3142 non-null   int64  \n",
      " 41  Life Expectancy                                      3073 non-null   float64\n",
      " 42  95% CI - Low                                         3073 non-null   float64\n",
      " 43  95% CI - High                                        3073 non-null   float64\n",
      " 44  Life Expectancy (Black)                              1339 non-null   float64\n",
      " 45  Life Expectancy (Hispanic)                           1247 non-null   float64\n",
      " 46  Life Expectancy (White)                              1726 non-null   float64\n",
      " 47  Number pre-mature Deaths                             3081 non-null   float64\n",
      " 48  Percent Diabetic                                     3142 non-null   int64  \n",
      " 49  Number HIV Cases                                     2424 non-null   float64\n",
      " 50  HIV Prevalence Rate                                  2424 non-null   float64\n",
      " 51  Percent Food Insecure                                3142 non-null   int64  \n",
      " 52  Percent Insufficient Sleep                           3142 non-null   int64  \n",
      " 53  Percent Uninsured Adults                             3141 non-null   float64\n",
      " 54  Percent Uninsured children                           3141 non-null   float64\n",
      " 55  Median Household Income                              3141 non-null   float64\n",
      " 56  Household income (Black)                             1935 non-null   float64\n",
      " 57  Household income (Hispanic)                          2450 non-null   float64\n",
      " 58  Household income (White)                             2736 non-null   float64\n",
      " 59  Segregation index black/white                        2059 non-null   float64\n",
      " 60  Segregation Index non-white/ white                   2795 non-null   float64\n",
      " 61  Population                                           3142 non-null   int64  \n",
      " 62  percent < 18                                         3142 non-null   float64\n",
      " 63  percent 65 and over                                  3142 non-null   float64\n",
      " 64  percent African American                             3142 non-null   float64\n",
      " 65  percent American Indian/Alaskan Native               3142 non-null   float64\n",
      " 66  percent Asian                                        3142 non-null   float64\n",
      " 67  percent Native Hawaiian/Other Pacific Islander       3142 non-null   float64\n",
      " 68  percent Hispanic                                     3142 non-null   float64\n",
      " 69  percent Non-Hispanic White                           3142 non-null   float64\n",
      " 70  percent Not Proficient in English                    3142 non-null   int64  \n",
      " 71  percent Female                                       3142 non-null   float64\n",
      " 72  number Rural                                         3135 non-null   float64\n",
      " 73  County_y                                             3142 non-null   object \n",
      " 74  State                                                3142 non-null   object \n",
      " 75  cases_2020                                           3142 non-null   float64\n",
      " 76  cases_2021                                           3142 non-null   float64\n",
      " 77  cases_2022                                           3142 non-null   float64\n",
      " 78  deaths_2020                                          3142 non-null   float64\n",
      " 79  deaths_2021                                          3142 non-null   float64\n",
      " 80  deaths_2022                                          3142 non-null   float64\n",
      " 81  Masks                                                3142 non-null   float64\n",
      "dtypes: float64(57), int64(19), object(6)\n",
      "memory usage: 2.0+ MB\n"
     ]
    }
   ],
   "source": [
    "county_data.info()"
   ]
  },
  {
   "cell_type": "code",
   "execution_count": 63,
   "id": "defb3531-c48a-422c-9416-019bfbdfde7c",
   "metadata": {
    "tags": []
   },
   "outputs": [],
   "source": [
    "county_data['FIPS'] = county_data['FIPS'].astype('object')"
   ]
  },
  {
   "cell_type": "code",
   "execution_count": 60,
   "id": "0af13bd9-1567-4c6f-8ff9-e1dc7fe23b06",
   "metadata": {},
   "outputs": [],
   "source": [
    "county_data.drop(columns=['State_x', 'County_y'], inplace=True)"
   ]
  },
  {
   "cell_type": "code",
   "execution_count": 74,
   "id": "cbf9fdc6-6be9-49d5-835c-e569180227de",
   "metadata": {
    "tags": []
   },
   "outputs": [
    {
     "data": {
      "text/html": [
       "<div>\n",
       "<style scoped>\n",
       "    .dataframe tbody tr th:only-of-type {\n",
       "        vertical-align: middle;\n",
       "    }\n",
       "\n",
       "    .dataframe tbody tr th {\n",
       "        vertical-align: top;\n",
       "    }\n",
       "\n",
       "    .dataframe thead th {\n",
       "        text-align: right;\n",
       "    }\n",
       "</style>\n",
       "<table border=\"1\" class=\"dataframe\">\n",
       "  <thead>\n",
       "    <tr style=\"text-align: right;\">\n",
       "      <th></th>\n",
       "      <th>FIPS</th>\n",
       "      <th>County</th>\n",
       "      <th>State</th>\n",
       "      <th>Administered_Dose1_Pop_Pct</th>\n",
       "      <th>Administered_Dose1_Recip_65PlusPop_Pct</th>\n",
       "    </tr>\n",
       "  </thead>\n",
       "  <tbody>\n",
       "    <tr>\n",
       "      <th>0</th>\n",
       "      <td>2013</td>\n",
       "      <td>Aleutians East Borough</td>\n",
       "      <td>AK</td>\n",
       "      <td>74.1</td>\n",
       "      <td>47.3</td>\n",
       "    </tr>\n",
       "    <tr>\n",
       "      <th>1</th>\n",
       "      <td>2016</td>\n",
       "      <td>Aleutians West Census Area</td>\n",
       "      <td>AK</td>\n",
       "      <td>64.9</td>\n",
       "      <td>65.2</td>\n",
       "    </tr>\n",
       "    <tr>\n",
       "      <th>2</th>\n",
       "      <td>2020</td>\n",
       "      <td>Anchorage Municipality</td>\n",
       "      <td>AK</td>\n",
       "      <td>60.7</td>\n",
       "      <td>92.3</td>\n",
       "    </tr>\n",
       "    <tr>\n",
       "      <th>3</th>\n",
       "      <td>2050</td>\n",
       "      <td>Bethel Census Area</td>\n",
       "      <td>AK</td>\n",
       "      <td>60.4</td>\n",
       "      <td>87.2</td>\n",
       "    </tr>\n",
       "    <tr>\n",
       "      <th>4</th>\n",
       "      <td>2060</td>\n",
       "      <td>Bristol Bay Borough</td>\n",
       "      <td>AK</td>\n",
       "      <td>99.9</td>\n",
       "      <td>90.4</td>\n",
       "    </tr>\n",
       "  </tbody>\n",
       "</table>\n",
       "</div>"
      ],
      "text/plain": [
       "   FIPS                      County State  Administered_Dose1_Pop_Pct  \\\n",
       "0  2013      Aleutians East Borough    AK                        74.1   \n",
       "1  2016  Aleutians West Census Area    AK                        64.9   \n",
       "2  2020      Anchorage Municipality    AK                        60.7   \n",
       "3  2050          Bethel Census Area    AK                        60.4   \n",
       "4  2060         Bristol Bay Borough    AK                        99.9   \n",
       "\n",
       "   Administered_Dose1_Recip_65PlusPop_Pct  \n",
       "0                                    47.3  \n",
       "1                                    65.2  \n",
       "2                                    92.3  \n",
       "3                                    87.2  \n",
       "4                                    90.4  "
      ]
     },
     "execution_count": 74,
     "metadata": {},
     "output_type": "execute_result"
    }
   ],
   "source": [
    "county_vax.head()"
   ]
  },
  {
   "cell_type": "code",
   "execution_count": 75,
   "id": "19078aec-2e68-4888-b94b-4b495e971efb",
   "metadata": {
    "tags": []
   },
   "outputs": [],
   "source": [
    "county_vax = county_vax.sort_values(by='FIPS', ascending=True)"
   ]
  },
  {
   "cell_type": "code",
   "execution_count": 76,
   "id": "e079ff07-9333-45f9-a5a0-56e0d4ef666d",
   "metadata": {
    "tags": []
   },
   "outputs": [
    {
     "data": {
      "text/html": [
       "<div>\n",
       "<style scoped>\n",
       "    .dataframe tbody tr th:only-of-type {\n",
       "        vertical-align: middle;\n",
       "    }\n",
       "\n",
       "    .dataframe tbody tr th {\n",
       "        vertical-align: top;\n",
       "    }\n",
       "\n",
       "    .dataframe thead th {\n",
       "        text-align: right;\n",
       "    }\n",
       "</style>\n",
       "<table border=\"1\" class=\"dataframe\">\n",
       "  <thead>\n",
       "    <tr style=\"text-align: right;\">\n",
       "      <th></th>\n",
       "      <th>FIPS</th>\n",
       "      <th>County</th>\n",
       "      <th>State</th>\n",
       "      <th>Administered_Dose1_Pop_Pct</th>\n",
       "      <th>Administered_Dose1_Recip_65PlusPop_Pct</th>\n",
       "    </tr>\n",
       "  </thead>\n",
       "  <tbody>\n",
       "    <tr>\n",
       "      <th>326</th>\n",
       "      <td>10001</td>\n",
       "      <td>Kent County</td>\n",
       "      <td>DE</td>\n",
       "      <td>51.3</td>\n",
       "      <td>83.7</td>\n",
       "    </tr>\n",
       "    <tr>\n",
       "      <th>327</th>\n",
       "      <td>10003</td>\n",
       "      <td>New Castle County</td>\n",
       "      <td>DE</td>\n",
       "      <td>65.9</td>\n",
       "      <td>94.6</td>\n",
       "    </tr>\n",
       "    <tr>\n",
       "      <th>328</th>\n",
       "      <td>10005</td>\n",
       "      <td>Sussex County</td>\n",
       "      <td>DE</td>\n",
       "      <td>65.3</td>\n",
       "      <td>97.2</td>\n",
       "    </tr>\n",
       "    <tr>\n",
       "      <th>30</th>\n",
       "      <td>1001</td>\n",
       "      <td>Autauga County</td>\n",
       "      <td>AL</td>\n",
       "      <td>42.2</td>\n",
       "      <td>73.8</td>\n",
       "    </tr>\n",
       "    <tr>\n",
       "      <th>31</th>\n",
       "      <td>1003</td>\n",
       "      <td>Baldwin County</td>\n",
       "      <td>AL</td>\n",
       "      <td>53.2</td>\n",
       "      <td>89.9</td>\n",
       "    </tr>\n",
       "  </tbody>\n",
       "</table>\n",
       "</div>"
      ],
      "text/plain": [
       "      FIPS             County State  Administered_Dose1_Pop_Pct  \\\n",
       "326  10001        Kent County    DE                        51.3   \n",
       "327  10003  New Castle County    DE                        65.9   \n",
       "328  10005      Sussex County    DE                        65.3   \n",
       "30    1001     Autauga County    AL                        42.2   \n",
       "31    1003     Baldwin County    AL                        53.2   \n",
       "\n",
       "     Administered_Dose1_Recip_65PlusPop_Pct  \n",
       "326                                    83.7  \n",
       "327                                    94.6  \n",
       "328                                    97.2  \n",
       "30                                     73.8  \n",
       "31                                     89.9  "
      ]
     },
     "execution_count": 76,
     "metadata": {},
     "output_type": "execute_result"
    }
   ],
   "source": [
    "county_vax.head()"
   ]
  },
  {
   "cell_type": "code",
   "execution_count": 78,
   "id": "05ebc2d4-ff90-48da-84e0-97b665cca7a9",
   "metadata": {
    "tags": []
   },
   "outputs": [],
   "source": [
    "county_vax['County'] = county_vax['County'].str.replace(r'\\bCounty\\b', '', regex=True).str.strip()"
   ]
  },
  {
   "cell_type": "code",
   "execution_count": 79,
   "id": "ea3f4f58-a419-4166-9ee7-eefbd8c1b701",
   "metadata": {
    "tags": []
   },
   "outputs": [
    {
     "data": {
      "text/html": [
       "<div>\n",
       "<style scoped>\n",
       "    .dataframe tbody tr th:only-of-type {\n",
       "        vertical-align: middle;\n",
       "    }\n",
       "\n",
       "    .dataframe tbody tr th {\n",
       "        vertical-align: top;\n",
       "    }\n",
       "\n",
       "    .dataframe thead th {\n",
       "        text-align: right;\n",
       "    }\n",
       "</style>\n",
       "<table border=\"1\" class=\"dataframe\">\n",
       "  <thead>\n",
       "    <tr style=\"text-align: right;\">\n",
       "      <th></th>\n",
       "      <th>FIPS</th>\n",
       "      <th>County</th>\n",
       "      <th>State</th>\n",
       "      <th>Administered_Dose1_Pop_Pct</th>\n",
       "      <th>Administered_Dose1_Recip_65PlusPop_Pct</th>\n",
       "    </tr>\n",
       "  </thead>\n",
       "  <tbody>\n",
       "    <tr>\n",
       "      <th>326</th>\n",
       "      <td>10001</td>\n",
       "      <td>Kent</td>\n",
       "      <td>DE</td>\n",
       "      <td>51.3</td>\n",
       "      <td>83.7</td>\n",
       "    </tr>\n",
       "    <tr>\n",
       "      <th>327</th>\n",
       "      <td>10003</td>\n",
       "      <td>New Castle</td>\n",
       "      <td>DE</td>\n",
       "      <td>65.9</td>\n",
       "      <td>94.6</td>\n",
       "    </tr>\n",
       "    <tr>\n",
       "      <th>328</th>\n",
       "      <td>10005</td>\n",
       "      <td>Sussex</td>\n",
       "      <td>DE</td>\n",
       "      <td>65.3</td>\n",
       "      <td>97.2</td>\n",
       "    </tr>\n",
       "    <tr>\n",
       "      <th>30</th>\n",
       "      <td>1001</td>\n",
       "      <td>Autauga</td>\n",
       "      <td>AL</td>\n",
       "      <td>42.2</td>\n",
       "      <td>73.8</td>\n",
       "    </tr>\n",
       "    <tr>\n",
       "      <th>31</th>\n",
       "      <td>1003</td>\n",
       "      <td>Baldwin</td>\n",
       "      <td>AL</td>\n",
       "      <td>53.2</td>\n",
       "      <td>89.9</td>\n",
       "    </tr>\n",
       "  </tbody>\n",
       "</table>\n",
       "</div>"
      ],
      "text/plain": [
       "      FIPS      County State  Administered_Dose1_Pop_Pct  \\\n",
       "326  10001        Kent    DE                        51.3   \n",
       "327  10003  New Castle    DE                        65.9   \n",
       "328  10005      Sussex    DE                        65.3   \n",
       "30    1001     Autauga    AL                        42.2   \n",
       "31    1003     Baldwin    AL                        53.2   \n",
       "\n",
       "     Administered_Dose1_Recip_65PlusPop_Pct  \n",
       "326                                    83.7  \n",
       "327                                    94.6  \n",
       "328                                    97.2  \n",
       "30                                     73.8  \n",
       "31                                     89.9  "
      ]
     },
     "execution_count": 79,
     "metadata": {},
     "output_type": "execute_result"
    }
   ],
   "source": [
    "county_vax.head()"
   ]
  },
  {
   "cell_type": "code",
   "execution_count": 71,
   "id": "20a75e27-e694-43b3-9f6e-32e6ce1b1040",
   "metadata": {
    "tags": []
   },
   "outputs": [
    {
     "data": {
      "text/html": [
       "<div>\n",
       "<style scoped>\n",
       "    .dataframe tbody tr th:only-of-type {\n",
       "        vertical-align: middle;\n",
       "    }\n",
       "\n",
       "    .dataframe tbody tr th {\n",
       "        vertical-align: top;\n",
       "    }\n",
       "\n",
       "    .dataframe thead th {\n",
       "        text-align: right;\n",
       "    }\n",
       "</style>\n",
       "<table border=\"1\" class=\"dataframe\">\n",
       "  <thead>\n",
       "    <tr style=\"text-align: right;\">\n",
       "      <th></th>\n",
       "      <th>FIPS</th>\n",
       "      <th>County</th>\n",
       "      <th>Years of Potential Life Lost Rate (premature death)</th>\n",
       "      <th>YPLL Rate (Black)</th>\n",
       "      <th>YPLL Rate (Hispanic)</th>\n",
       "      <th>YPLL Rate (White)</th>\n",
       "      <th>% Fair/Poor Health</th>\n",
       "      <th>percent_smokers</th>\n",
       "      <th>percent_obese</th>\n",
       "      <th>Food Environment Index</th>\n",
       "      <th>...</th>\n",
       "      <th>percent Female</th>\n",
       "      <th>number Rural</th>\n",
       "      <th>State</th>\n",
       "      <th>cases_2020</th>\n",
       "      <th>cases_2021</th>\n",
       "      <th>cases_2022</th>\n",
       "      <th>deaths_2020</th>\n",
       "      <th>deaths_2021</th>\n",
       "      <th>deaths_2022</th>\n",
       "      <th>Masks</th>\n",
       "    </tr>\n",
       "  </thead>\n",
       "  <tbody>\n",
       "    <tr>\n",
       "      <th>0</th>\n",
       "      <td>1001</td>\n",
       "      <td>Autauga</td>\n",
       "      <td>8824.0</td>\n",
       "      <td>10471.0</td>\n",
       "      <td>NaN</td>\n",
       "      <td>8707.0</td>\n",
       "      <td>18</td>\n",
       "      <td>19</td>\n",
       "      <td>38</td>\n",
       "      <td>7.2</td>\n",
       "      <td>...</td>\n",
       "      <td>51.3</td>\n",
       "      <td>22921.0</td>\n",
       "      <td>AL</td>\n",
       "      <td>4190.0</td>\n",
       "      <td>11018.0</td>\n",
       "      <td>18961.0</td>\n",
       "      <td>5631.0</td>\n",
       "      <td>47405.0</td>\n",
       "      <td>124934.0</td>\n",
       "      <td>267.0</td>\n",
       "    </tr>\n",
       "    <tr>\n",
       "      <th>1</th>\n",
       "      <td>1003</td>\n",
       "      <td>Baldwin</td>\n",
       "      <td>7225.0</td>\n",
       "      <td>10042.0</td>\n",
       "      <td>3087.0</td>\n",
       "      <td>7278.0</td>\n",
       "      <td>18</td>\n",
       "      <td>17</td>\n",
       "      <td>31</td>\n",
       "      <td>8.0</td>\n",
       "      <td>...</td>\n",
       "      <td>51.5</td>\n",
       "      <td>77060.0</td>\n",
       "      <td>AL</td>\n",
       "      <td>13601.0</td>\n",
       "      <td>39911.0</td>\n",
       "      <td>67496.0</td>\n",
       "      <td>12412.0</td>\n",
       "      <td>148723.0</td>\n",
       "      <td>397246.0</td>\n",
       "      <td>267.0</td>\n",
       "    </tr>\n",
       "    <tr>\n",
       "      <th>2</th>\n",
       "      <td>1005</td>\n",
       "      <td>Barbour</td>\n",
       "      <td>9586.0</td>\n",
       "      <td>11333.0</td>\n",
       "      <td>NaN</td>\n",
       "      <td>7310.0</td>\n",
       "      <td>26</td>\n",
       "      <td>22</td>\n",
       "      <td>44</td>\n",
       "      <td>5.6</td>\n",
       "      <td>...</td>\n",
       "      <td>47.2</td>\n",
       "      <td>18613.0</td>\n",
       "      <td>AL</td>\n",
       "      <td>1514.0</td>\n",
       "      <td>3860.0</td>\n",
       "      <td>7027.0</td>\n",
       "      <td>2035.0</td>\n",
       "      <td>24364.0</td>\n",
       "      <td>60044.0</td>\n",
       "      <td>267.0</td>\n",
       "    </tr>\n",
       "    <tr>\n",
       "      <th>3</th>\n",
       "      <td>1007</td>\n",
       "      <td>Bibb</td>\n",
       "      <td>11784.0</td>\n",
       "      <td>14813.0</td>\n",
       "      <td>NaN</td>\n",
       "      <td>11328.0</td>\n",
       "      <td>20</td>\n",
       "      <td>20</td>\n",
       "      <td>38</td>\n",
       "      <td>7.6</td>\n",
       "      <td>...</td>\n",
       "      <td>46.5</td>\n",
       "      <td>15663.0</td>\n",
       "      <td>AL</td>\n",
       "      <td>1834.0</td>\n",
       "      <td>4533.0</td>\n",
       "      <td>7692.0</td>\n",
       "      <td>2678.0</td>\n",
       "      <td>28085.0</td>\n",
       "      <td>65964.0</td>\n",
       "      <td>267.0</td>\n",
       "    </tr>\n",
       "    <tr>\n",
       "      <th>4</th>\n",
       "      <td>1009</td>\n",
       "      <td>Blount</td>\n",
       "      <td>10908.0</td>\n",
       "      <td>NaN</td>\n",
       "      <td>5620.0</td>\n",
       "      <td>11336.0</td>\n",
       "      <td>21</td>\n",
       "      <td>20</td>\n",
       "      <td>34</td>\n",
       "      <td>8.5</td>\n",
       "      <td>...</td>\n",
       "      <td>50.7</td>\n",
       "      <td>51562.0</td>\n",
       "      <td>AL</td>\n",
       "      <td>4641.0</td>\n",
       "      <td>11256.0</td>\n",
       "      <td>17731.0</td>\n",
       "      <td>3855.0</td>\n",
       "      <td>56300.0</td>\n",
       "      <td>144559.0</td>\n",
       "      <td>267.0</td>\n",
       "    </tr>\n",
       "  </tbody>\n",
       "</table>\n",
       "<p>5 rows × 80 columns</p>\n",
       "</div>"
      ],
      "text/plain": [
       "   FIPS   County  Years of Potential Life Lost Rate (premature death)  \\\n",
       "0  1001  Autauga                                             8824.0     \n",
       "1  1003  Baldwin                                             7225.0     \n",
       "2  1005  Barbour                                             9586.0     \n",
       "3  1007     Bibb                                            11784.0     \n",
       "4  1009   Blount                                            10908.0     \n",
       "\n",
       "   YPLL Rate (Black)  YPLL Rate (Hispanic)  YPLL Rate (White)  \\\n",
       "0            10471.0                   NaN             8707.0   \n",
       "1            10042.0                3087.0             7278.0   \n",
       "2            11333.0                   NaN             7310.0   \n",
       "3            14813.0                   NaN            11328.0   \n",
       "4                NaN                5620.0            11336.0   \n",
       "\n",
       "   % Fair/Poor Health  percent_smokers  percent_obese  Food Environment Index  \\\n",
       "0                  18               19             38                     7.2   \n",
       "1                  18               17             31                     8.0   \n",
       "2                  26               22             44                     5.6   \n",
       "3                  20               20             38                     7.6   \n",
       "4                  21               20             34                     8.5   \n",
       "\n",
       "   ...  percent Female  number Rural  State  cases_2020  cases_2021  \\\n",
       "0  ...            51.3       22921.0     AL      4190.0     11018.0   \n",
       "1  ...            51.5       77060.0     AL     13601.0     39911.0   \n",
       "2  ...            47.2       18613.0     AL      1514.0      3860.0   \n",
       "3  ...            46.5       15663.0     AL      1834.0      4533.0   \n",
       "4  ...            50.7       51562.0     AL      4641.0     11256.0   \n",
       "\n",
       "   cases_2022 deaths_2020  deaths_2021  deaths_2022  Masks  \n",
       "0     18961.0      5631.0      47405.0     124934.0  267.0  \n",
       "1     67496.0     12412.0     148723.0     397246.0  267.0  \n",
       "2      7027.0      2035.0      24364.0      60044.0  267.0  \n",
       "3      7692.0      2678.0      28085.0      65964.0  267.0  \n",
       "4     17731.0      3855.0      56300.0     144559.0  267.0  \n",
       "\n",
       "[5 rows x 80 columns]"
      ]
     },
     "execution_count": 71,
     "metadata": {},
     "output_type": "execute_result"
    }
   ],
   "source": [
    "county_data.head()"
   ]
  },
  {
   "cell_type": "code",
   "execution_count": 83,
   "id": "7e2ca49c-35c3-479a-ae2f-9721e2bb4dc4",
   "metadata": {
    "tags": []
   },
   "outputs": [
    {
     "name": "stdout",
     "output_type": "stream",
     "text": [
      "(3001, 83)\n"
     ]
    },
    {
     "data": {
      "text/html": [
       "<div>\n",
       "<style scoped>\n",
       "    .dataframe tbody tr th:only-of-type {\n",
       "        vertical-align: middle;\n",
       "    }\n",
       "\n",
       "    .dataframe tbody tr th {\n",
       "        vertical-align: top;\n",
       "    }\n",
       "\n",
       "    .dataframe thead th {\n",
       "        text-align: right;\n",
       "    }\n",
       "</style>\n",
       "<table border=\"1\" class=\"dataframe\">\n",
       "  <thead>\n",
       "    <tr style=\"text-align: right;\">\n",
       "      <th></th>\n",
       "      <th>FIPS_x</th>\n",
       "      <th>County</th>\n",
       "      <th>Years of Potential Life Lost Rate (premature death)</th>\n",
       "      <th>YPLL Rate (Black)</th>\n",
       "      <th>YPLL Rate (Hispanic)</th>\n",
       "      <th>YPLL Rate (White)</th>\n",
       "      <th>% Fair/Poor Health</th>\n",
       "      <th>percent_smokers</th>\n",
       "      <th>percent_obese</th>\n",
       "      <th>Food Environment Index</th>\n",
       "      <th>...</th>\n",
       "      <th>cases_2020</th>\n",
       "      <th>cases_2021</th>\n",
       "      <th>cases_2022</th>\n",
       "      <th>deaths_2020</th>\n",
       "      <th>deaths_2021</th>\n",
       "      <th>deaths_2022</th>\n",
       "      <th>Masks</th>\n",
       "      <th>FIPS_y</th>\n",
       "      <th>Administered_Dose1_Pop_Pct</th>\n",
       "      <th>Administered_Dose1_Recip_65PlusPop_Pct</th>\n",
       "    </tr>\n",
       "  </thead>\n",
       "  <tbody>\n",
       "    <tr>\n",
       "      <th>0</th>\n",
       "      <td>1001</td>\n",
       "      <td>Autauga</td>\n",
       "      <td>8824.0</td>\n",
       "      <td>10471.0</td>\n",
       "      <td>NaN</td>\n",
       "      <td>8707.0</td>\n",
       "      <td>18</td>\n",
       "      <td>19</td>\n",
       "      <td>38</td>\n",
       "      <td>7.2</td>\n",
       "      <td>...</td>\n",
       "      <td>4190.0</td>\n",
       "      <td>11018.0</td>\n",
       "      <td>18961.0</td>\n",
       "      <td>5631.0</td>\n",
       "      <td>47405.0</td>\n",
       "      <td>124934.0</td>\n",
       "      <td>267.0</td>\n",
       "      <td>1001</td>\n",
       "      <td>42.2</td>\n",
       "      <td>73.8</td>\n",
       "    </tr>\n",
       "    <tr>\n",
       "      <th>1</th>\n",
       "      <td>1003</td>\n",
       "      <td>Baldwin</td>\n",
       "      <td>7225.0</td>\n",
       "      <td>10042.0</td>\n",
       "      <td>3087.0</td>\n",
       "      <td>7278.0</td>\n",
       "      <td>18</td>\n",
       "      <td>17</td>\n",
       "      <td>31</td>\n",
       "      <td>8.0</td>\n",
       "      <td>...</td>\n",
       "      <td>13601.0</td>\n",
       "      <td>39911.0</td>\n",
       "      <td>67496.0</td>\n",
       "      <td>12412.0</td>\n",
       "      <td>148723.0</td>\n",
       "      <td>397246.0</td>\n",
       "      <td>267.0</td>\n",
       "      <td>1003</td>\n",
       "      <td>53.2</td>\n",
       "      <td>89.9</td>\n",
       "    </tr>\n",
       "    <tr>\n",
       "      <th>2</th>\n",
       "      <td>1005</td>\n",
       "      <td>Barbour</td>\n",
       "      <td>9586.0</td>\n",
       "      <td>11333.0</td>\n",
       "      <td>NaN</td>\n",
       "      <td>7310.0</td>\n",
       "      <td>26</td>\n",
       "      <td>22</td>\n",
       "      <td>44</td>\n",
       "      <td>5.6</td>\n",
       "      <td>...</td>\n",
       "      <td>1514.0</td>\n",
       "      <td>3860.0</td>\n",
       "      <td>7027.0</td>\n",
       "      <td>2035.0</td>\n",
       "      <td>24364.0</td>\n",
       "      <td>60044.0</td>\n",
       "      <td>267.0</td>\n",
       "      <td>1005</td>\n",
       "      <td>44.5</td>\n",
       "      <td>75.3</td>\n",
       "    </tr>\n",
       "    <tr>\n",
       "      <th>3</th>\n",
       "      <td>1007</td>\n",
       "      <td>Bibb</td>\n",
       "      <td>11784.0</td>\n",
       "      <td>14813.0</td>\n",
       "      <td>NaN</td>\n",
       "      <td>11328.0</td>\n",
       "      <td>20</td>\n",
       "      <td>20</td>\n",
       "      <td>38</td>\n",
       "      <td>7.6</td>\n",
       "      <td>...</td>\n",
       "      <td>1834.0</td>\n",
       "      <td>4533.0</td>\n",
       "      <td>7692.0</td>\n",
       "      <td>2678.0</td>\n",
       "      <td>28085.0</td>\n",
       "      <td>65964.0</td>\n",
       "      <td>267.0</td>\n",
       "      <td>1007</td>\n",
       "      <td>36.6</td>\n",
       "      <td>64.2</td>\n",
       "    </tr>\n",
       "    <tr>\n",
       "      <th>4</th>\n",
       "      <td>1009</td>\n",
       "      <td>Blount</td>\n",
       "      <td>10908.0</td>\n",
       "      <td>NaN</td>\n",
       "      <td>5620.0</td>\n",
       "      <td>11336.0</td>\n",
       "      <td>21</td>\n",
       "      <td>20</td>\n",
       "      <td>34</td>\n",
       "      <td>8.5</td>\n",
       "      <td>...</td>\n",
       "      <td>4641.0</td>\n",
       "      <td>11256.0</td>\n",
       "      <td>17731.0</td>\n",
       "      <td>3855.0</td>\n",
       "      <td>56300.0</td>\n",
       "      <td>144559.0</td>\n",
       "      <td>267.0</td>\n",
       "      <td>1009</td>\n",
       "      <td>31.9</td>\n",
       "      <td>56.6</td>\n",
       "    </tr>\n",
       "  </tbody>\n",
       "</table>\n",
       "<p>5 rows × 83 columns</p>\n",
       "</div>"
      ],
      "text/plain": [
       "  FIPS_x   County  Years of Potential Life Lost Rate (premature death)  \\\n",
       "0   1001  Autauga                                             8824.0     \n",
       "1   1003  Baldwin                                             7225.0     \n",
       "2   1005  Barbour                                             9586.0     \n",
       "3   1007     Bibb                                            11784.0     \n",
       "4   1009   Blount                                            10908.0     \n",
       "\n",
       "   YPLL Rate (Black)  YPLL Rate (Hispanic)  YPLL Rate (White)  \\\n",
       "0            10471.0                   NaN             8707.0   \n",
       "1            10042.0                3087.0             7278.0   \n",
       "2            11333.0                   NaN             7310.0   \n",
       "3            14813.0                   NaN            11328.0   \n",
       "4                NaN                5620.0            11336.0   \n",
       "\n",
       "   % Fair/Poor Health  percent_smokers  percent_obese  Food Environment Index  \\\n",
       "0                  18               19             38                     7.2   \n",
       "1                  18               17             31                     8.0   \n",
       "2                  26               22             44                     5.6   \n",
       "3                  20               20             38                     7.6   \n",
       "4                  21               20             34                     8.5   \n",
       "\n",
       "   ...  cases_2020  cases_2021  cases_2022  deaths_2020  deaths_2021  \\\n",
       "0  ...      4190.0     11018.0     18961.0       5631.0      47405.0   \n",
       "1  ...     13601.0     39911.0     67496.0      12412.0     148723.0   \n",
       "2  ...      1514.0      3860.0      7027.0       2035.0      24364.0   \n",
       "3  ...      1834.0      4533.0      7692.0       2678.0      28085.0   \n",
       "4  ...      4641.0     11256.0     17731.0       3855.0      56300.0   \n",
       "\n",
       "   deaths_2022  Masks  FIPS_y  Administered_Dose1_Pop_Pct  \\\n",
       "0     124934.0  267.0    1001                        42.2   \n",
       "1     397246.0  267.0    1003                        53.2   \n",
       "2      60044.0  267.0    1005                        44.5   \n",
       "3      65964.0  267.0    1007                        36.6   \n",
       "4     144559.0  267.0    1009                        31.9   \n",
       "\n",
       "   Administered_Dose1_Recip_65PlusPop_Pct  \n",
       "0                                    73.8  \n",
       "1                                    89.9  \n",
       "2                                    75.3  \n",
       "3                                    64.2  \n",
       "4                                    56.6  \n",
       "\n",
       "[5 rows x 83 columns]"
      ]
     },
     "execution_count": 83,
     "metadata": {},
     "output_type": "execute_result"
    }
   ],
   "source": [
    "df = pd.merge(county_data, county_vax, how='inner', on=['State', 'County'])\n",
    "print(df.shape)\n",
    "df.head()"
   ]
  },
  {
   "cell_type": "code",
   "execution_count": 73,
   "id": "6bf50774-9caf-41a3-b21a-313d65c42e05",
   "metadata": {
    "tags": []
   },
   "outputs": [
    {
     "name": "stdout",
     "output_type": "stream",
     "text": [
      "<class 'pandas.core.frame.DataFrame'>\n",
      "Int64Index: 3142 entries, 0 to 3141\n",
      "Data columns (total 83 columns):\n",
      " #   Column                                               Non-Null Count  Dtype  \n",
      "---  ------                                               --------------  -----  \n",
      " 0   FIPS_x                                               3142 non-null   object \n",
      " 1   County                                               3142 non-null   object \n",
      " 2   Years of Potential Life Lost Rate (premature death)  2908 non-null   float64\n",
      " 3   YPLL Rate (Black)                                    1351 non-null   float64\n",
      " 4   YPLL Rate (Hispanic)                                 837 non-null    float64\n",
      " 5   YPLL Rate (White)                                    1578 non-null   float64\n",
      " 6   % Fair/Poor Health                                   3142 non-null   int64  \n",
      " 7   percent_smokers                                      3142 non-null   int64  \n",
      " 8   percent_obese                                        3142 non-null   int64  \n",
      " 9   Food Environment Index                               3123 non-null   float64\n",
      " 10  % Physically Inactive                                3142 non-null   int64  \n",
      " 11  percent Excessive Drinking                           3142 non-null   int64  \n",
      " 12  Number Uninsured                                     3141 non-null   float64\n",
      " 13  Percent Uninsured                                    3141 non-null   float64\n",
      " 14  Number Primary Care Physicians                       3005 non-null   float64\n",
      " 15  PCP Rate                                             3007 non-null   float64\n",
      " 16  PCP Ratio                                            3007 non-null   object \n",
      " 17  Preventable Hosp stays Rate                          3104 non-null   float64\n",
      " 18  Preventable Hosp. Rate (Black)                       1481 non-null   float64\n",
      " 19  Preventable Hosp. Rate (Hispanic)                    1017 non-null   float64\n",
      " 20  Preventable Hosp. Rate (White)                       1775 non-null   float64\n",
      " 21  Percent Vaccinated Flu                               3126 non-null   float64\n",
      " 22  Percent Vaccinated Flu (Black)                       1851 non-null   float64\n",
      " 23  Percent  Vaccinated (Hispanic) Flu                   1837 non-null   float64\n",
      " 24  Percent Vaccinated (White) Flu                       2299 non-null   float64\n",
      " 25  High School Graduation Rate                          3043 non-null   float64\n",
      " 26  Number Some College                                  3142 non-null   int64  \n",
      " 27  Percent Some College                                 3142 non-null   int64  \n",
      " 28  Number Unemployed                                    3141 non-null   float64\n",
      " 29  Labor Force                                          3141 non-null   float64\n",
      " 30  Percent Unemployed                                   3141 non-null   float64\n",
      " 31  80th Percentile Income                               3142 non-null   int64  \n",
      " 32  20th Percentile Income                               3142 non-null   int64  \n",
      " 33  Income Ratio                                         3142 non-null   float64\n",
      " 34  Average Daily PM2.5                                  3108 non-null   float64\n",
      " 35  Presence of water violation                          3099 non-null   object \n",
      " 36  Percent Severe Housing Problems                      3142 non-null   int64  \n",
      " 37  Severe Housing Cost Burden                           3142 non-null   int64  \n",
      " 38  Overcrowding                                         3142 non-null   int64  \n",
      " 39  Inadequate Facilities                                3142 non-null   int64  \n",
      " 40  Life Expectancy                                      3073 non-null   float64\n",
      " 41  95% CI - Low                                         3073 non-null   float64\n",
      " 42  95% CI - High                                        3073 non-null   float64\n",
      " 43  Life Expectancy (Black)                              1339 non-null   float64\n",
      " 44  Life Expectancy (Hispanic)                           1247 non-null   float64\n",
      " 45  Life Expectancy (White)                              1726 non-null   float64\n",
      " 46  Number pre-mature Deaths                             3081 non-null   float64\n",
      " 47  Percent Diabetic                                     3142 non-null   int64  \n",
      " 48  Number HIV Cases                                     2424 non-null   float64\n",
      " 49  HIV Prevalence Rate                                  2424 non-null   float64\n",
      " 50  Percent Food Insecure                                3142 non-null   int64  \n",
      " 51  Percent Insufficient Sleep                           3142 non-null   int64  \n",
      " 52  Percent Uninsured Adults                             3141 non-null   float64\n",
      " 53  Percent Uninsured children                           3141 non-null   float64\n",
      " 54  Median Household Income                              3141 non-null   float64\n",
      " 55  Household income (Black)                             1935 non-null   float64\n",
      " 56  Household income (Hispanic)                          2450 non-null   float64\n",
      " 57  Household income (White)                             2736 non-null   float64\n",
      " 58  Segregation index black/white                        2059 non-null   float64\n",
      " 59  Segregation Index non-white/ white                   2795 non-null   float64\n",
      " 60  Population                                           3142 non-null   int64  \n",
      " 61  percent < 18                                         3142 non-null   float64\n",
      " 62  percent 65 and over                                  3142 non-null   float64\n",
      " 63  percent African American                             3142 non-null   float64\n",
      " 64  percent American Indian/Alaskan Native               3142 non-null   float64\n",
      " 65  percent Asian                                        3142 non-null   float64\n",
      " 66  percent Native Hawaiian/Other Pacific Islander       3142 non-null   float64\n",
      " 67  percent Hispanic                                     3142 non-null   float64\n",
      " 68  percent Non-Hispanic White                           3142 non-null   float64\n",
      " 69  percent Not Proficient in English                    3142 non-null   int64  \n",
      " 70  percent Female                                       3142 non-null   float64\n",
      " 71  number Rural                                         3135 non-null   float64\n",
      " 72  State                                                3142 non-null   object \n",
      " 73  cases_2020                                           3142 non-null   float64\n",
      " 74  cases_2021                                           3142 non-null   float64\n",
      " 75  cases_2022                                           3142 non-null   float64\n",
      " 76  deaths_2020                                          3142 non-null   float64\n",
      " 77  deaths_2021                                          3142 non-null   float64\n",
      " 78  deaths_2022                                          3142 non-null   float64\n",
      " 79  Masks                                                3142 non-null   float64\n",
      " 80  FIPS_y                                               2 non-null      object \n",
      " 81  Administered_Dose1_Pop_Pct                           2 non-null      float64\n",
      " 82  Administered_Dose1_Recip_65PlusPop_Pct               2 non-null      float64\n",
      "dtypes: float64(59), int64(18), object(6)\n",
      "memory usage: 2.0+ MB\n"
     ]
    }
   ],
   "source": [
    "df.info()"
   ]
  },
  {
   "cell_type": "code",
   "execution_count": 85,
   "id": "c768df39-8f56-4dd8-82c8-0a6b80b1c996",
   "metadata": {
    "tags": []
   },
   "outputs": [
    {
     "data": {
      "text/plain": [
       "(3001, 83)"
      ]
     },
     "execution_count": 85,
     "metadata": {},
     "output_type": "execute_result"
    }
   ],
   "source": [
    "df.shape"
   ]
  },
  {
   "cell_type": "code",
   "execution_count": 84,
   "id": "ebd633b1-abe8-4b0e-8355-e90ae0a7ec8c",
   "metadata": {
    "tags": []
   },
   "outputs": [],
   "source": [
    "df.to_csv('Data/Cleaned/county_df.csv', index=False)"
   ]
  },
  {
   "cell_type": "code",
   "execution_count": 82,
   "id": "1897e317-da47-413e-bbc4-e7399d8e526f",
   "metadata": {
    "tags": []
   },
   "outputs": [
    {
     "data": {
      "text/plain": [
       "FIPS_x                                                    0\n",
       "County                                                    0\n",
       "Years of Potential Life Lost Rate (premature death)     234\n",
       "YPLL Rate (Black)                                      1791\n",
       "YPLL Rate (Hispanic)                                   2305\n",
       "                                                       ... \n",
       "deaths_2022                                               0\n",
       "Masks                                                     0\n",
       "FIPS_y                                                  141\n",
       "Administered_Dose1_Pop_Pct                              141\n",
       "Administered_Dose1_Recip_65PlusPop_Pct                  141\n",
       "Length: 83, dtype: int64"
      ]
     },
     "execution_count": 82,
     "metadata": {},
     "output_type": "execute_result"
    }
   ],
   "source": [
    "df.isna().sum()"
   ]
  },
  {
   "cell_type": "code",
   "execution_count": null,
   "id": "a96c708e-3316-4721-819c-cdf6a7ad7fb7",
   "metadata": {},
   "outputs": [],
   "source": []
  },
  {
   "cell_type": "code",
   "execution_count": 32,
   "id": "95b255d1-608d-42a2-a948-db22b823dfdf",
   "metadata": {
    "tags": []
   },
   "outputs": [
    {
     "data": {
      "text/html": [
       "<div>\n",
       "<style scoped>\n",
       "    .dataframe tbody tr th:only-of-type {\n",
       "        vertical-align: middle;\n",
       "    }\n",
       "\n",
       "    .dataframe tbody tr th {\n",
       "        vertical-align: top;\n",
       "    }\n",
       "\n",
       "    .dataframe thead th {\n",
       "        text-align: right;\n",
       "    }\n",
       "</style>\n",
       "<table border=\"1\" class=\"dataframe\">\n",
       "  <thead>\n",
       "    <tr style=\"text-align: right;\">\n",
       "      <th></th>\n",
       "      <th>FIPS_x</th>\n",
       "      <th>County</th>\n",
       "      <th>Years of Potential Life Lost Rate (premature death)</th>\n",
       "      <th>YPLL Rate (Black)</th>\n",
       "      <th>YPLL Rate (Hispanic)</th>\n",
       "      <th>YPLL Rate (White)</th>\n",
       "      <th>% Fair/Poor Health</th>\n",
       "      <th>percent_smokers</th>\n",
       "      <th>percent_obese</th>\n",
       "      <th>Food Environment Index</th>\n",
       "      <th>...</th>\n",
       "      <th>cases_2020</th>\n",
       "      <th>cases_2021</th>\n",
       "      <th>cases_2022</th>\n",
       "      <th>deaths_2020</th>\n",
       "      <th>deaths_2021</th>\n",
       "      <th>deaths_2022</th>\n",
       "      <th>Masks</th>\n",
       "      <th>FIPS_y</th>\n",
       "      <th>Administered_Dose1_Pop_Pct</th>\n",
       "      <th>Administered_Dose1_Recip_65PlusPop_Pct</th>\n",
       "    </tr>\n",
       "  </thead>\n",
       "  <tbody>\n",
       "    <tr>\n",
       "      <th>0</th>\n",
       "      <td>1001</td>\n",
       "      <td>Autauga</td>\n",
       "      <td>8824.0</td>\n",
       "      <td>10471.0</td>\n",
       "      <td>NaN</td>\n",
       "      <td>8707.0</td>\n",
       "      <td>18</td>\n",
       "      <td>19</td>\n",
       "      <td>38</td>\n",
       "      <td>7.2</td>\n",
       "      <td>...</td>\n",
       "      <td>4190.0</td>\n",
       "      <td>11018.0</td>\n",
       "      <td>18961.0</td>\n",
       "      <td>5631.0</td>\n",
       "      <td>47405.0</td>\n",
       "      <td>124934.0</td>\n",
       "      <td>267.0</td>\n",
       "      <td>1001</td>\n",
       "      <td>42.2</td>\n",
       "      <td>73.8</td>\n",
       "    </tr>\n",
       "    <tr>\n",
       "      <th>1</th>\n",
       "      <td>1003</td>\n",
       "      <td>Baldwin</td>\n",
       "      <td>7225.0</td>\n",
       "      <td>10042.0</td>\n",
       "      <td>3087.0</td>\n",
       "      <td>7278.0</td>\n",
       "      <td>18</td>\n",
       "      <td>17</td>\n",
       "      <td>31</td>\n",
       "      <td>8.0</td>\n",
       "      <td>...</td>\n",
       "      <td>13601.0</td>\n",
       "      <td>39911.0</td>\n",
       "      <td>67496.0</td>\n",
       "      <td>12412.0</td>\n",
       "      <td>148723.0</td>\n",
       "      <td>397246.0</td>\n",
       "      <td>267.0</td>\n",
       "      <td>1003</td>\n",
       "      <td>53.2</td>\n",
       "      <td>89.9</td>\n",
       "    </tr>\n",
       "    <tr>\n",
       "      <th>2</th>\n",
       "      <td>1005</td>\n",
       "      <td>Barbour</td>\n",
       "      <td>9586.0</td>\n",
       "      <td>11333.0</td>\n",
       "      <td>NaN</td>\n",
       "      <td>7310.0</td>\n",
       "      <td>26</td>\n",
       "      <td>22</td>\n",
       "      <td>44</td>\n",
       "      <td>5.6</td>\n",
       "      <td>...</td>\n",
       "      <td>1514.0</td>\n",
       "      <td>3860.0</td>\n",
       "      <td>7027.0</td>\n",
       "      <td>2035.0</td>\n",
       "      <td>24364.0</td>\n",
       "      <td>60044.0</td>\n",
       "      <td>267.0</td>\n",
       "      <td>1005</td>\n",
       "      <td>44.5</td>\n",
       "      <td>75.3</td>\n",
       "    </tr>\n",
       "    <tr>\n",
       "      <th>3</th>\n",
       "      <td>1007</td>\n",
       "      <td>Bibb</td>\n",
       "      <td>11784.0</td>\n",
       "      <td>14813.0</td>\n",
       "      <td>NaN</td>\n",
       "      <td>11328.0</td>\n",
       "      <td>20</td>\n",
       "      <td>20</td>\n",
       "      <td>38</td>\n",
       "      <td>7.6</td>\n",
       "      <td>...</td>\n",
       "      <td>1834.0</td>\n",
       "      <td>4533.0</td>\n",
       "      <td>7692.0</td>\n",
       "      <td>2678.0</td>\n",
       "      <td>28085.0</td>\n",
       "      <td>65964.0</td>\n",
       "      <td>267.0</td>\n",
       "      <td>1007</td>\n",
       "      <td>36.6</td>\n",
       "      <td>64.2</td>\n",
       "    </tr>\n",
       "    <tr>\n",
       "      <th>4</th>\n",
       "      <td>1009</td>\n",
       "      <td>Blount</td>\n",
       "      <td>10908.0</td>\n",
       "      <td>NaN</td>\n",
       "      <td>5620.0</td>\n",
       "      <td>11336.0</td>\n",
       "      <td>21</td>\n",
       "      <td>20</td>\n",
       "      <td>34</td>\n",
       "      <td>8.5</td>\n",
       "      <td>...</td>\n",
       "      <td>4641.0</td>\n",
       "      <td>11256.0</td>\n",
       "      <td>17731.0</td>\n",
       "      <td>3855.0</td>\n",
       "      <td>56300.0</td>\n",
       "      <td>144559.0</td>\n",
       "      <td>267.0</td>\n",
       "      <td>1009</td>\n",
       "      <td>31.9</td>\n",
       "      <td>56.6</td>\n",
       "    </tr>\n",
       "  </tbody>\n",
       "</table>\n",
       "<p>5 rows × 83 columns</p>\n",
       "</div>"
      ],
      "text/plain": [
       "   FIPS_x   County  Years of Potential Life Lost Rate (premature death)  \\\n",
       "0    1001  Autauga                                             8824.0     \n",
       "1    1003  Baldwin                                             7225.0     \n",
       "2    1005  Barbour                                             9586.0     \n",
       "3    1007     Bibb                                            11784.0     \n",
       "4    1009   Blount                                            10908.0     \n",
       "\n",
       "   YPLL Rate (Black)  YPLL Rate (Hispanic)  YPLL Rate (White)  \\\n",
       "0            10471.0                   NaN             8707.0   \n",
       "1            10042.0                3087.0             7278.0   \n",
       "2            11333.0                   NaN             7310.0   \n",
       "3            14813.0                   NaN            11328.0   \n",
       "4                NaN                5620.0            11336.0   \n",
       "\n",
       "   % Fair/Poor Health  percent_smokers  percent_obese  Food Environment Index  \\\n",
       "0                  18               19             38                     7.2   \n",
       "1                  18               17             31                     8.0   \n",
       "2                  26               22             44                     5.6   \n",
       "3                  20               20             38                     7.6   \n",
       "4                  21               20             34                     8.5   \n",
       "\n",
       "   ...  cases_2020  cases_2021  cases_2022  deaths_2020  deaths_2021  \\\n",
       "0  ...      4190.0     11018.0     18961.0       5631.0      47405.0   \n",
       "1  ...     13601.0     39911.0     67496.0      12412.0     148723.0   \n",
       "2  ...      1514.0      3860.0      7027.0       2035.0      24364.0   \n",
       "3  ...      1834.0      4533.0      7692.0       2678.0      28085.0   \n",
       "4  ...      4641.0     11256.0     17731.0       3855.0      56300.0   \n",
       "\n",
       "   deaths_2022  Masks  FIPS_y  Administered_Dose1_Pop_Pct  \\\n",
       "0     124934.0  267.0    1001                        42.2   \n",
       "1     397246.0  267.0    1003                        53.2   \n",
       "2      60044.0  267.0    1005                        44.5   \n",
       "3      65964.0  267.0    1007                        36.6   \n",
       "4     144559.0  267.0    1009                        31.9   \n",
       "\n",
       "   Administered_Dose1_Recip_65PlusPop_Pct  \n",
       "0                                    73.8  \n",
       "1                                    89.9  \n",
       "2                                    75.3  \n",
       "3                                    64.2  \n",
       "4                                    56.6  \n",
       "\n",
       "[5 rows x 83 columns]"
      ]
     },
     "execution_count": 32,
     "metadata": {},
     "output_type": "execute_result"
    }
   ],
   "source": [
    "df = pd.read_csv('Data/Cleaned/county_df.csv')\n",
    "df.head()"
   ]
  },
  {
   "cell_type": "code",
   "execution_count": null,
   "id": "4a4d5b0c-d587-4a34-b4d4-3516237cd957",
   "metadata": {},
   "outputs": [],
   "source": []
  },
  {
   "cell_type": "code",
   "execution_count": 33,
   "id": "d637d8e4-0d42-4486-9503-1f67a9ec0014",
   "metadata": {
    "tags": []
   },
   "outputs": [],
   "source": [
    "# Drop rows that we will not be using\n",
    "df.drop(columns = ['County', 'YPLL Rate (Black)', 'YPLL Rate (Hispanic)', 'YPLL Rate (White)', 'Number Uninsured', 'Number Primary Care Physicians', \n",
    "                        'Preventable Hosp. Rate (Black)', 'Preventable Hosp. Rate (Hispanic)', 'Preventable Hosp. Rate (White)',  'Percent Vaccinated Flu (Black)', \n",
    "                        'Percent  Vaccinated (Hispanic) Flu', 'Percent Vaccinated (White) Flu', 'Number Some College', 'Number Unemployed', 'Labor Force', 'PCP Ratio',\n",
    "                        '80th Percentile Income', '20th Percentile Income', '95% CI - Low', '95% CI - High', 'Life Expectancy (Black)', 'Life Expectancy (Hispanic)', \n",
    "                        'Life Expectancy (White)', 'Number HIV Cases', 'Household income (Black)', 'Household income (Hispanic)', 'Household income (White)'], inplace = True)"
   ]
  },
  {
   "cell_type": "code",
   "execution_count": 5,
   "id": "91227aa7-8054-4ff5-9740-47f73a44a249",
   "metadata": {
    "tags": []
   },
   "outputs": [
    {
     "data": {
      "text/plain": [
       "(3001, 56)"
      ]
     },
     "execution_count": 5,
     "metadata": {},
     "output_type": "execute_result"
    }
   ],
   "source": [
    "df.shape"
   ]
  },
  {
   "cell_type": "code",
   "execution_count": 6,
   "id": "9eac0b6e-8c9a-4058-86a8-3f0f55fd069c",
   "metadata": {
    "tags": []
   },
   "outputs": [
    {
     "data": {
      "text/plain": [
       "FIPS_x                                                    0\n",
       "Years of Potential Life Lost Rate (premature death)     218\n",
       "% Fair/Poor Health                                        0\n",
       "percent_smokers                                           0\n",
       "percent_obese                                             0\n",
       "Food Environment Index                                   17\n",
       "% Physically Inactive                                     0\n",
       "percent Excessive Drinking                                0\n",
       "Percent Uninsured                                         0\n",
       "PCP Rate                                                127\n",
       "Preventable Hosp stays Rate                              23\n",
       "Percent Vaccinated Flu                                    2\n",
       "High School Graduation Rate                              94\n",
       "Percent Some College                                      0\n",
       "Percent Unemployed                                        0\n",
       "Income Ratio                                              0\n",
       "Average Daily PM2.5                                       0\n",
       "Presence of water violation                               0\n",
       "Percent Severe Housing Problems                           0\n",
       "Severe Housing Cost Burden                                0\n",
       "Overcrowding                                              0\n",
       "Inadequate Facilities                                     0\n",
       "Life Expectancy                                          64\n",
       "Number pre-mature Deaths                                 56\n",
       "Percent Diabetic                                          0\n",
       "HIV Prevalence Rate                                     693\n",
       "Percent Food Insecure                                     0\n",
       "Percent Insufficient Sleep                                0\n",
       "Percent Uninsured Adults                                  0\n",
       "Percent Uninsured children                                0\n",
       "Median Household Income                                   0\n",
       "Segregation index black/white                          1058\n",
       "Segregation Index non-white/ white                      333\n",
       "Population                                                0\n",
       "percent < 18                                              0\n",
       "percent 65 and over                                       0\n",
       "percent African American                                  0\n",
       "percent American Indian/Alaskan Native                    0\n",
       "percent Asian                                             0\n",
       "percent Native Hawaiian/Other Pacific Islander            0\n",
       "percent Hispanic                                          0\n",
       "percent Non-Hispanic White                                0\n",
       "percent Not Proficient in English                         0\n",
       "percent Female                                            0\n",
       "number Rural                                              1\n",
       "State                                                     0\n",
       "cases_2020                                                0\n",
       "cases_2021                                                0\n",
       "cases_2022                                                0\n",
       "deaths_2020                                               0\n",
       "deaths_2021                                               0\n",
       "deaths_2022                                               0\n",
       "Masks                                                     0\n",
       "FIPS_y                                                    0\n",
       "Administered_Dose1_Pop_Pct                                0\n",
       "Administered_Dose1_Recip_65PlusPop_Pct                    0\n",
       "dtype: int64"
      ]
     },
     "execution_count": 6,
     "metadata": {},
     "output_type": "execute_result"
    }
   ],
   "source": [
    "df.isna().sum()"
   ]
  },
  {
   "cell_type": "code",
   "execution_count": 34,
   "id": "a237c4d6-d974-4754-9722-7ac17c6264dc",
   "metadata": {
    "tags": []
   },
   "outputs": [],
   "source": [
    "df.drop(columns=['FIPS_y', 'Segregation index black/white', 'cases_2020', 'cases_2021', 'deaths_2020', 'deaths_2021',\n",
    "                 'deaths_2022'], inplace=True)"
   ]
  },
  {
   "cell_type": "code",
   "execution_count": 35,
   "id": "f7d9a192-c644-46fe-a72c-efc4e82ef8d1",
   "metadata": {
    "tags": []
   },
   "outputs": [],
   "source": [
    "df.dropna(inplace=True)"
   ]
  },
  {
   "cell_type": "code",
   "execution_count": 9,
   "id": "b2e9998c-6935-4936-bf64-d45026e747f0",
   "metadata": {
    "tags": []
   },
   "outputs": [
    {
     "data": {
      "text/plain": [
       "(2206, 49)"
      ]
     },
     "execution_count": 9,
     "metadata": {},
     "output_type": "execute_result"
    }
   ],
   "source": [
    "df.shape"
   ]
  },
  {
   "cell_type": "code",
   "execution_count": 10,
   "id": "4b3842dc-8157-4f39-8d94-14bab30ba0b4",
   "metadata": {
    "tags": []
   },
   "outputs": [],
   "source": [
    "df.to_csv('Data/Cleaned/county_no_missings.csv', index=False)"
   ]
  },
  {
   "cell_type": "code",
   "execution_count": 36,
   "id": "f37ad51e-8e9a-40ff-a64b-6a04e05b744a",
   "metadata": {},
   "outputs": [
    {
     "ename": "KeyError",
     "evalue": "\"None of ['FIPS'] are in the columns\"",
     "output_type": "error",
     "traceback": [
      "\u001b[1;31m---------------------------------------------------------------------------\u001b[0m",
      "\u001b[1;31mKeyError\u001b[0m                                  Traceback (most recent call last)",
      "Cell \u001b[1;32mIn[36], line 2\u001b[0m\n\u001b[0;32m      1\u001b[0m \u001b[38;5;66;03m# Make FIPS index \u001b[39;00m\n\u001b[1;32m----> 2\u001b[0m df\u001b[38;5;241m.\u001b[39mset_index(\u001b[38;5;124m'\u001b[39m\u001b[38;5;124mFIPS\u001b[39m\u001b[38;5;124m'\u001b[39m, inplace\u001b[38;5;241m=\u001b[39m\u001b[38;5;28;01mTrue\u001b[39;00m)\n",
      "File \u001b[1;32m~\\anaconda3\\Lib\\site-packages\\pandas\\util\\_decorators.py:331\u001b[0m, in \u001b[0;36mdeprecate_nonkeyword_arguments.<locals>.decorate.<locals>.wrapper\u001b[1;34m(*args, **kwargs)\u001b[0m\n\u001b[0;32m    325\u001b[0m \u001b[38;5;28;01mif\u001b[39;00m \u001b[38;5;28mlen\u001b[39m(args) \u001b[38;5;241m>\u001b[39m num_allow_args:\n\u001b[0;32m    326\u001b[0m     warnings\u001b[38;5;241m.\u001b[39mwarn(\n\u001b[0;32m    327\u001b[0m         msg\u001b[38;5;241m.\u001b[39mformat(arguments\u001b[38;5;241m=\u001b[39m_format_argument_list(allow_args)),\n\u001b[0;32m    328\u001b[0m         \u001b[38;5;167;01mFutureWarning\u001b[39;00m,\n\u001b[0;32m    329\u001b[0m         stacklevel\u001b[38;5;241m=\u001b[39mfind_stack_level(),\n\u001b[0;32m    330\u001b[0m     )\n\u001b[1;32m--> 331\u001b[0m \u001b[38;5;28;01mreturn\u001b[39;00m func(\u001b[38;5;241m*\u001b[39margs, \u001b[38;5;241m*\u001b[39m\u001b[38;5;241m*\u001b[39mkwargs)\n",
      "File \u001b[1;32m~\\anaconda3\\Lib\\site-packages\\pandas\\core\\frame.py:6012\u001b[0m, in \u001b[0;36mDataFrame.set_index\u001b[1;34m(self, keys, drop, append, inplace, verify_integrity)\u001b[0m\n\u001b[0;32m   6009\u001b[0m                 missing\u001b[38;5;241m.\u001b[39mappend(col)\n\u001b[0;32m   6011\u001b[0m \u001b[38;5;28;01mif\u001b[39;00m missing:\n\u001b[1;32m-> 6012\u001b[0m     \u001b[38;5;28;01mraise\u001b[39;00m \u001b[38;5;167;01mKeyError\u001b[39;00m(\u001b[38;5;124mf\u001b[39m\u001b[38;5;124m\"\u001b[39m\u001b[38;5;124mNone of \u001b[39m\u001b[38;5;132;01m{\u001b[39;00mmissing\u001b[38;5;132;01m}\u001b[39;00m\u001b[38;5;124m are in the columns\u001b[39m\u001b[38;5;124m\"\u001b[39m)\n\u001b[0;32m   6014\u001b[0m \u001b[38;5;28;01mif\u001b[39;00m inplace:\n\u001b[0;32m   6015\u001b[0m     frame \u001b[38;5;241m=\u001b[39m \u001b[38;5;28mself\u001b[39m\n",
      "\u001b[1;31mKeyError\u001b[0m: \"None of ['FIPS'] are in the columns\""
     ]
    }
   ],
   "source": [
    "# Make FIPS index \n",
    "df.set_index('FIPS', inplace=True)"
   ]
  },
  {
   "cell_type": "code",
   "execution_count": 37,
   "id": "02da6571-4824-406d-994e-e2581762afde",
   "metadata": {},
   "outputs": [],
   "source": [
    "# Create new columns for per populaltion stats - YPL, Number pre-mature Deaths, Number rural \n",
    "df['YPL'] = df['Years of Potential Life Lost Rate (premature death)']/df['Population']\n",
    "df['pre mature deaths'] = df['Number pre-mature Deaths']/df['Population']\n",
    "df['rural'] = df['number Rural']/df['Population']\n",
    "\n",
    "df.drop(columns = ['Years of Potential Life Lost Rate (premature death)', 'Number pre-mature Deaths', 'number Rural'], inplace = True)"
   ]
  },
  {
   "cell_type": "code",
   "execution_count": 38,
   "id": "0b96dada-9f43-4753-99b4-edbe05bcffab",
   "metadata": {},
   "outputs": [],
   "source": [
    "# Dummify State and Presence of water violation\n",
    "#df = pd.get_dummies(columns = ['State'], data = df, drop_first=True)\n",
    "df['water'] = df['Presence of water violation'].map({'No': 0, 'Yes': 1})\n",
    "df.drop(columns = ['Presence of water violation'], inplace = True)"
   ]
  },
  {
   "cell_type": "code",
   "execution_count": 39,
   "id": "160f918d-b53f-47c2-a283-1b8712f11604",
   "metadata": {},
   "outputs": [],
   "source": [
    "# Calculate total cases and deaths, and convert to % of population \n",
    "#df['cases'] = df['cases_2020'] + df['cases_2021'] + df['cases_2022']\n",
    "#df['deaths'] = df['deaths_2020'] + df['deaths_2021'] + df['deaths_2022']\n",
    "\n",
    "df['case_rate'] = df['cases_2022']/df['Population']\n",
    "#df['death_rate'] = df['deaths']/df['Population']\n",
    "\n",
    "# Deaths seem to be off? More deaths than population \n",
    "#df.drop(columns = ['cases_2020', 'cases_2021', 'cases_2022', 'deaths_2020', 'deaths_2021', 'deaths_2022', 'cases', 'deaths'], inplace = True)\n",
    "df.drop(columns = ['cases_2022'], inplace=True)"
   ]
  },
  {
   "cell_type": "code",
   "execution_count": 40,
   "id": "fb796472-49a1-4b2a-a469-0e469aa6ed92",
   "metadata": {},
   "outputs": [
    {
     "data": {
      "text/plain": [
       "(2206, 49)"
      ]
     },
     "execution_count": 40,
     "metadata": {},
     "output_type": "execute_result"
    }
   ],
   "source": [
    "# Drop Na values (1850 rows -> 1807)\n",
    "df.dropna(inplace=True)\n",
    "df.shape"
   ]
  },
  {
   "cell_type": "code",
   "execution_count": 15,
   "id": "d7b777f7-f93c-4afd-93db-815c5b941b08",
   "metadata": {
    "tags": []
   },
   "outputs": [
    {
     "name": "stdout",
     "output_type": "stream",
     "text": [
      "<class 'pandas.core.frame.DataFrame'>\n",
      "Int64Index: 2206 entries, 0 to 2997\n",
      "Data columns (total 49 columns):\n",
      " #   Column                                          Non-Null Count  Dtype  \n",
      "---  ------                                          --------------  -----  \n",
      " 0   FIPS_x                                          2206 non-null   int64  \n",
      " 1   % Fair/Poor Health                              2206 non-null   int64  \n",
      " 2   percent_smokers                                 2206 non-null   int64  \n",
      " 3   percent_obese                                   2206 non-null   int64  \n",
      " 4   Food Environment Index                          2206 non-null   float64\n",
      " 5   % Physically Inactive                           2206 non-null   int64  \n",
      " 6   percent Excessive Drinking                      2206 non-null   int64  \n",
      " 7   Percent Uninsured                               2206 non-null   float64\n",
      " 8   PCP Rate                                        2206 non-null   float64\n",
      " 9   Preventable Hosp stays Rate                     2206 non-null   float64\n",
      " 10  Percent Vaccinated Flu                          2206 non-null   float64\n",
      " 11  High School Graduation Rate                     2206 non-null   float64\n",
      " 12  Percent Some College                            2206 non-null   int64  \n",
      " 13  Percent Unemployed                              2206 non-null   float64\n",
      " 14  Income Ratio                                    2206 non-null   float64\n",
      " 15  Average Daily PM2.5                             2206 non-null   float64\n",
      " 16  Percent Severe Housing Problems                 2206 non-null   int64  \n",
      " 17  Severe Housing Cost Burden                      2206 non-null   int64  \n",
      " 18  Overcrowding                                    2206 non-null   int64  \n",
      " 19  Inadequate Facilities                           2206 non-null   int64  \n",
      " 20  Life Expectancy                                 2206 non-null   float64\n",
      " 21  Percent Diabetic                                2206 non-null   int64  \n",
      " 22  HIV Prevalence Rate                             2206 non-null   float64\n",
      " 23  Percent Food Insecure                           2206 non-null   int64  \n",
      " 24  Percent Insufficient Sleep                      2206 non-null   int64  \n",
      " 25  Percent Uninsured Adults                        2206 non-null   float64\n",
      " 26  Percent Uninsured children                      2206 non-null   float64\n",
      " 27  Median Household Income                         2206 non-null   float64\n",
      " 28  Segregation Index non-white/ white              2206 non-null   float64\n",
      " 29  Population                                      2206 non-null   int64  \n",
      " 30  percent < 18                                    2206 non-null   float64\n",
      " 31  percent 65 and over                             2206 non-null   float64\n",
      " 32  percent African American                        2206 non-null   float64\n",
      " 33  percent American Indian/Alaskan Native          2206 non-null   float64\n",
      " 34  percent Asian                                   2206 non-null   float64\n",
      " 35  percent Native Hawaiian/Other Pacific Islander  2206 non-null   float64\n",
      " 36  percent Hispanic                                2206 non-null   float64\n",
      " 37  percent Non-Hispanic White                      2206 non-null   float64\n",
      " 38  percent Not Proficient in English               2206 non-null   int64  \n",
      " 39  percent Female                                  2206 non-null   float64\n",
      " 40  State                                           2206 non-null   object \n",
      " 41  Masks                                           2206 non-null   float64\n",
      " 42  Administered_Dose1_Pop_Pct                      2206 non-null   float64\n",
      " 43  Administered_Dose1_Recip_65PlusPop_Pct          2206 non-null   float64\n",
      " 44  YPL                                             2206 non-null   float64\n",
      " 45  pre mature deaths                               2206 non-null   float64\n",
      " 46  rural                                           2206 non-null   float64\n",
      " 47  water                                           2206 non-null   int64  \n",
      " 48  case_rate                                       2206 non-null   float64\n",
      "dtypes: float64(31), int64(17), object(1)\n",
      "memory usage: 861.7+ KB\n"
     ]
    }
   ],
   "source": [
    "df.info()"
   ]
  },
  {
   "cell_type": "code",
   "execution_count": 41,
   "id": "16415f8f-dbb7-435a-8c62-de1efd24e05e",
   "metadata": {},
   "outputs": [],
   "source": [
    "# y variable will be case rate or death rate\n",
    "y = df['case_rate']\n",
    "# y = df['death_rate']\n",
    "\n",
    "# X variables\n",
    "X = df.drop(columns = ['case_rate', 'State', 'FIPS_x'])\n",
    "\n",
    "# TTS\n",
    "X_train, X_test, y_train, y_test = train_test_split(X, y, random_state = 42)"
   ]
  },
  {
   "cell_type": "code",
   "execution_count": 18,
   "id": "6dfe31a7-dd3a-40eb-bf42-a3b463d882cd",
   "metadata": {},
   "outputs": [
    {
     "data": {
      "text/html": [
       "<style>#sk-container-id-1 {color: black;}#sk-container-id-1 pre{padding: 0;}#sk-container-id-1 div.sk-toggleable {background-color: white;}#sk-container-id-1 label.sk-toggleable__label {cursor: pointer;display: block;width: 100%;margin-bottom: 0;padding: 0.3em;box-sizing: border-box;text-align: center;}#sk-container-id-1 label.sk-toggleable__label-arrow:before {content: \"▸\";float: left;margin-right: 0.25em;color: #696969;}#sk-container-id-1 label.sk-toggleable__label-arrow:hover:before {color: black;}#sk-container-id-1 div.sk-estimator:hover label.sk-toggleable__label-arrow:before {color: black;}#sk-container-id-1 div.sk-toggleable__content {max-height: 0;max-width: 0;overflow: hidden;text-align: left;background-color: #f0f8ff;}#sk-container-id-1 div.sk-toggleable__content pre {margin: 0.2em;color: black;border-radius: 0.25em;background-color: #f0f8ff;}#sk-container-id-1 input.sk-toggleable__control:checked~div.sk-toggleable__content {max-height: 200px;max-width: 100%;overflow: auto;}#sk-container-id-1 input.sk-toggleable__control:checked~label.sk-toggleable__label-arrow:before {content: \"▾\";}#sk-container-id-1 div.sk-estimator input.sk-toggleable__control:checked~label.sk-toggleable__label {background-color: #d4ebff;}#sk-container-id-1 div.sk-label input.sk-toggleable__control:checked~label.sk-toggleable__label {background-color: #d4ebff;}#sk-container-id-1 input.sk-hidden--visually {border: 0;clip: rect(1px 1px 1px 1px);clip: rect(1px, 1px, 1px, 1px);height: 1px;margin: -1px;overflow: hidden;padding: 0;position: absolute;width: 1px;}#sk-container-id-1 div.sk-estimator {font-family: monospace;background-color: #f0f8ff;border: 1px dotted black;border-radius: 0.25em;box-sizing: border-box;margin-bottom: 0.5em;}#sk-container-id-1 div.sk-estimator:hover {background-color: #d4ebff;}#sk-container-id-1 div.sk-parallel-item::after {content: \"\";width: 100%;border-bottom: 1px solid gray;flex-grow: 1;}#sk-container-id-1 div.sk-label:hover label.sk-toggleable__label {background-color: #d4ebff;}#sk-container-id-1 div.sk-serial::before {content: \"\";position: absolute;border-left: 1px solid gray;box-sizing: border-box;top: 0;bottom: 0;left: 50%;z-index: 0;}#sk-container-id-1 div.sk-serial {display: flex;flex-direction: column;align-items: center;background-color: white;padding-right: 0.2em;padding-left: 0.2em;position: relative;}#sk-container-id-1 div.sk-item {position: relative;z-index: 1;}#sk-container-id-1 div.sk-parallel {display: flex;align-items: stretch;justify-content: center;background-color: white;position: relative;}#sk-container-id-1 div.sk-item::before, #sk-container-id-1 div.sk-parallel-item::before {content: \"\";position: absolute;border-left: 1px solid gray;box-sizing: border-box;top: 0;bottom: 0;left: 50%;z-index: -1;}#sk-container-id-1 div.sk-parallel-item {display: flex;flex-direction: column;z-index: 1;position: relative;background-color: white;}#sk-container-id-1 div.sk-parallel-item:first-child::after {align-self: flex-end;width: 50%;}#sk-container-id-1 div.sk-parallel-item:last-child::after {align-self: flex-start;width: 50%;}#sk-container-id-1 div.sk-parallel-item:only-child::after {width: 0;}#sk-container-id-1 div.sk-dashed-wrapped {border: 1px dashed gray;margin: 0 0.4em 0.5em 0.4em;box-sizing: border-box;padding-bottom: 0.4em;background-color: white;}#sk-container-id-1 div.sk-label label {font-family: monospace;font-weight: bold;display: inline-block;line-height: 1.2em;}#sk-container-id-1 div.sk-label-container {text-align: center;}#sk-container-id-1 div.sk-container {/* jupyter's `normalize.less` sets `[hidden] { display: none; }` but bootstrap.min.css set `[hidden] { display: none !important; }` so we also need the `!important` here to be able to override the default hidden behavior on the sphinx rendered scikit-learn.org. See: https://github.com/scikit-learn/scikit-learn/issues/21755 */display: inline-block !important;position: relative;}#sk-container-id-1 div.sk-text-repr-fallback {display: none;}</style><div id=\"sk-container-id-1\" class=\"sk-top-container\"><div class=\"sk-text-repr-fallback\"><pre>LinearRegression()</pre><b>In a Jupyter environment, please rerun this cell to show the HTML representation or trust the notebook. <br />On GitHub, the HTML representation is unable to render, please try loading this page with nbviewer.org.</b></div><div class=\"sk-container\" hidden><div class=\"sk-item\"><div class=\"sk-estimator sk-toggleable\"><input class=\"sk-toggleable__control sk-hidden--visually\" id=\"sk-estimator-id-1\" type=\"checkbox\" checked><label for=\"sk-estimator-id-1\" class=\"sk-toggleable__label sk-toggleable__label-arrow\">LinearRegression</label><div class=\"sk-toggleable__content\"><pre>LinearRegression()</pre></div></div></div></div></div>"
      ],
      "text/plain": [
       "LinearRegression()"
      ]
     },
     "execution_count": 18,
     "metadata": {},
     "output_type": "execute_result"
    }
   ],
   "source": [
    "lr = LinearRegression()\n",
    "lr.fit(X_train, y_train)"
   ]
  },
  {
   "cell_type": "code",
   "execution_count": 19,
   "id": "3961ed4b-9af2-4c3e-ad41-3865641ba58f",
   "metadata": {
    "tags": []
   },
   "outputs": [
    {
     "data": {
      "text/plain": [
       "0.26270450775966503"
      ]
     },
     "execution_count": 19,
     "metadata": {},
     "output_type": "execute_result"
    }
   ],
   "source": [
    "lr.score(X_train, y_train)"
   ]
  },
  {
   "cell_type": "code",
   "execution_count": 20,
   "id": "daab016c-63b1-4f20-8edc-fe1aac5c98fe",
   "metadata": {
    "tags": []
   },
   "outputs": [
    {
     "data": {
      "text/plain": [
       "0.2701059985910884"
      ]
     },
     "execution_count": 20,
     "metadata": {},
     "output_type": "execute_result"
    }
   ],
   "source": [
    "lr.score(X_test, y_test)"
   ]
  },
  {
   "cell_type": "code",
   "execution_count": 42,
   "id": "1fcaa0b2-bf86-4d22-8138-bb5d78ce95c9",
   "metadata": {
    "tags": []
   },
   "outputs": [
    {
     "data": {
      "text/html": [
       "<style>#sk-container-id-4 {color: black;}#sk-container-id-4 pre{padding: 0;}#sk-container-id-4 div.sk-toggleable {background-color: white;}#sk-container-id-4 label.sk-toggleable__label {cursor: pointer;display: block;width: 100%;margin-bottom: 0;padding: 0.3em;box-sizing: border-box;text-align: center;}#sk-container-id-4 label.sk-toggleable__label-arrow:before {content: \"▸\";float: left;margin-right: 0.25em;color: #696969;}#sk-container-id-4 label.sk-toggleable__label-arrow:hover:before {color: black;}#sk-container-id-4 div.sk-estimator:hover label.sk-toggleable__label-arrow:before {color: black;}#sk-container-id-4 div.sk-toggleable__content {max-height: 0;max-width: 0;overflow: hidden;text-align: left;background-color: #f0f8ff;}#sk-container-id-4 div.sk-toggleable__content pre {margin: 0.2em;color: black;border-radius: 0.25em;background-color: #f0f8ff;}#sk-container-id-4 input.sk-toggleable__control:checked~div.sk-toggleable__content {max-height: 200px;max-width: 100%;overflow: auto;}#sk-container-id-4 input.sk-toggleable__control:checked~label.sk-toggleable__label-arrow:before {content: \"▾\";}#sk-container-id-4 div.sk-estimator input.sk-toggleable__control:checked~label.sk-toggleable__label {background-color: #d4ebff;}#sk-container-id-4 div.sk-label input.sk-toggleable__control:checked~label.sk-toggleable__label {background-color: #d4ebff;}#sk-container-id-4 input.sk-hidden--visually {border: 0;clip: rect(1px 1px 1px 1px);clip: rect(1px, 1px, 1px, 1px);height: 1px;margin: -1px;overflow: hidden;padding: 0;position: absolute;width: 1px;}#sk-container-id-4 div.sk-estimator {font-family: monospace;background-color: #f0f8ff;border: 1px dotted black;border-radius: 0.25em;box-sizing: border-box;margin-bottom: 0.5em;}#sk-container-id-4 div.sk-estimator:hover {background-color: #d4ebff;}#sk-container-id-4 div.sk-parallel-item::after {content: \"\";width: 100%;border-bottom: 1px solid gray;flex-grow: 1;}#sk-container-id-4 div.sk-label:hover label.sk-toggleable__label {background-color: #d4ebff;}#sk-container-id-4 div.sk-serial::before {content: \"\";position: absolute;border-left: 1px solid gray;box-sizing: border-box;top: 0;bottom: 0;left: 50%;z-index: 0;}#sk-container-id-4 div.sk-serial {display: flex;flex-direction: column;align-items: center;background-color: white;padding-right: 0.2em;padding-left: 0.2em;position: relative;}#sk-container-id-4 div.sk-item {position: relative;z-index: 1;}#sk-container-id-4 div.sk-parallel {display: flex;align-items: stretch;justify-content: center;background-color: white;position: relative;}#sk-container-id-4 div.sk-item::before, #sk-container-id-4 div.sk-parallel-item::before {content: \"\";position: absolute;border-left: 1px solid gray;box-sizing: border-box;top: 0;bottom: 0;left: 50%;z-index: -1;}#sk-container-id-4 div.sk-parallel-item {display: flex;flex-direction: column;z-index: 1;position: relative;background-color: white;}#sk-container-id-4 div.sk-parallel-item:first-child::after {align-self: flex-end;width: 50%;}#sk-container-id-4 div.sk-parallel-item:last-child::after {align-self: flex-start;width: 50%;}#sk-container-id-4 div.sk-parallel-item:only-child::after {width: 0;}#sk-container-id-4 div.sk-dashed-wrapped {border: 1px dashed gray;margin: 0 0.4em 0.5em 0.4em;box-sizing: border-box;padding-bottom: 0.4em;background-color: white;}#sk-container-id-4 div.sk-label label {font-family: monospace;font-weight: bold;display: inline-block;line-height: 1.2em;}#sk-container-id-4 div.sk-label-container {text-align: center;}#sk-container-id-4 div.sk-container {/* jupyter's `normalize.less` sets `[hidden] { display: none; }` but bootstrap.min.css set `[hidden] { display: none !important; }` so we also need the `!important` here to be able to override the default hidden behavior on the sphinx rendered scikit-learn.org. See: https://github.com/scikit-learn/scikit-learn/issues/21755 */display: inline-block !important;position: relative;}#sk-container-id-4 div.sk-text-repr-fallback {display: none;}</style><div id=\"sk-container-id-4\" class=\"sk-top-container\"><div class=\"sk-text-repr-fallback\"><pre>RandomForestRegressor()</pre><b>In a Jupyter environment, please rerun this cell to show the HTML representation or trust the notebook. <br />On GitHub, the HTML representation is unable to render, please try loading this page with nbviewer.org.</b></div><div class=\"sk-container\" hidden><div class=\"sk-item\"><div class=\"sk-estimator sk-toggleable\"><input class=\"sk-toggleable__control sk-hidden--visually\" id=\"sk-estimator-id-4\" type=\"checkbox\" checked><label for=\"sk-estimator-id-4\" class=\"sk-toggleable__label sk-toggleable__label-arrow\">RandomForestRegressor</label><div class=\"sk-toggleable__content\"><pre>RandomForestRegressor()</pre></div></div></div></div></div>"
      ],
      "text/plain": [
       "RandomForestRegressor()"
      ]
     },
     "execution_count": 42,
     "metadata": {},
     "output_type": "execute_result"
    }
   ],
   "source": [
    "rf= RandomForestRegressor()\n",
    "rf.fit(X_train, y_train)"
   ]
  },
  {
   "cell_type": "code",
   "execution_count": 43,
   "id": "e84eb08e-30d9-4e34-a420-1abebecc4d2a",
   "metadata": {
    "tags": []
   },
   "outputs": [
    {
     "data": {
      "text/html": [
       "<style>#sk-container-id-5 {color: black;}#sk-container-id-5 pre{padding: 0;}#sk-container-id-5 div.sk-toggleable {background-color: white;}#sk-container-id-5 label.sk-toggleable__label {cursor: pointer;display: block;width: 100%;margin-bottom: 0;padding: 0.3em;box-sizing: border-box;text-align: center;}#sk-container-id-5 label.sk-toggleable__label-arrow:before {content: \"▸\";float: left;margin-right: 0.25em;color: #696969;}#sk-container-id-5 label.sk-toggleable__label-arrow:hover:before {color: black;}#sk-container-id-5 div.sk-estimator:hover label.sk-toggleable__label-arrow:before {color: black;}#sk-container-id-5 div.sk-toggleable__content {max-height: 0;max-width: 0;overflow: hidden;text-align: left;background-color: #f0f8ff;}#sk-container-id-5 div.sk-toggleable__content pre {margin: 0.2em;color: black;border-radius: 0.25em;background-color: #f0f8ff;}#sk-container-id-5 input.sk-toggleable__control:checked~div.sk-toggleable__content {max-height: 200px;max-width: 100%;overflow: auto;}#sk-container-id-5 input.sk-toggleable__control:checked~label.sk-toggleable__label-arrow:before {content: \"▾\";}#sk-container-id-5 div.sk-estimator input.sk-toggleable__control:checked~label.sk-toggleable__label {background-color: #d4ebff;}#sk-container-id-5 div.sk-label input.sk-toggleable__control:checked~label.sk-toggleable__label {background-color: #d4ebff;}#sk-container-id-5 input.sk-hidden--visually {border: 0;clip: rect(1px 1px 1px 1px);clip: rect(1px, 1px, 1px, 1px);height: 1px;margin: -1px;overflow: hidden;padding: 0;position: absolute;width: 1px;}#sk-container-id-5 div.sk-estimator {font-family: monospace;background-color: #f0f8ff;border: 1px dotted black;border-radius: 0.25em;box-sizing: border-box;margin-bottom: 0.5em;}#sk-container-id-5 div.sk-estimator:hover {background-color: #d4ebff;}#sk-container-id-5 div.sk-parallel-item::after {content: \"\";width: 100%;border-bottom: 1px solid gray;flex-grow: 1;}#sk-container-id-5 div.sk-label:hover label.sk-toggleable__label {background-color: #d4ebff;}#sk-container-id-5 div.sk-serial::before {content: \"\";position: absolute;border-left: 1px solid gray;box-sizing: border-box;top: 0;bottom: 0;left: 50%;z-index: 0;}#sk-container-id-5 div.sk-serial {display: flex;flex-direction: column;align-items: center;background-color: white;padding-right: 0.2em;padding-left: 0.2em;position: relative;}#sk-container-id-5 div.sk-item {position: relative;z-index: 1;}#sk-container-id-5 div.sk-parallel {display: flex;align-items: stretch;justify-content: center;background-color: white;position: relative;}#sk-container-id-5 div.sk-item::before, #sk-container-id-5 div.sk-parallel-item::before {content: \"\";position: absolute;border-left: 1px solid gray;box-sizing: border-box;top: 0;bottom: 0;left: 50%;z-index: -1;}#sk-container-id-5 div.sk-parallel-item {display: flex;flex-direction: column;z-index: 1;position: relative;background-color: white;}#sk-container-id-5 div.sk-parallel-item:first-child::after {align-self: flex-end;width: 50%;}#sk-container-id-5 div.sk-parallel-item:last-child::after {align-self: flex-start;width: 50%;}#sk-container-id-5 div.sk-parallel-item:only-child::after {width: 0;}#sk-container-id-5 div.sk-dashed-wrapped {border: 1px dashed gray;margin: 0 0.4em 0.5em 0.4em;box-sizing: border-box;padding-bottom: 0.4em;background-color: white;}#sk-container-id-5 div.sk-label label {font-family: monospace;font-weight: bold;display: inline-block;line-height: 1.2em;}#sk-container-id-5 div.sk-label-container {text-align: center;}#sk-container-id-5 div.sk-container {/* jupyter's `normalize.less` sets `[hidden] { display: none; }` but bootstrap.min.css set `[hidden] { display: none !important; }` so we also need the `!important` here to be able to override the default hidden behavior on the sphinx rendered scikit-learn.org. See: https://github.com/scikit-learn/scikit-learn/issues/21755 */display: inline-block !important;position: relative;}#sk-container-id-5 div.sk-text-repr-fallback {display: none;}</style><div id=\"sk-container-id-5\" class=\"sk-top-container\"><div class=\"sk-text-repr-fallback\"><pre>RandomForestRegressor()</pre><b>In a Jupyter environment, please rerun this cell to show the HTML representation or trust the notebook. <br />On GitHub, the HTML representation is unable to render, please try loading this page with nbviewer.org.</b></div><div class=\"sk-container\" hidden><div class=\"sk-item\"><div class=\"sk-estimator sk-toggleable\"><input class=\"sk-toggleable__control sk-hidden--visually\" id=\"sk-estimator-id-5\" type=\"checkbox\" checked><label for=\"sk-estimator-id-5\" class=\"sk-toggleable__label sk-toggleable__label-arrow\">RandomForestRegressor</label><div class=\"sk-toggleable__content\"><pre>RandomForestRegressor()</pre></div></div></div></div></div>"
      ],
      "text/plain": [
       "RandomForestRegressor()"
      ]
     },
     "execution_count": 43,
     "metadata": {},
     "output_type": "execute_result"
    }
   ],
   "source": [
    "rf.fit(X_train, y_train)"
   ]
  },
  {
   "cell_type": "code",
   "execution_count": 44,
   "id": "a362c317-ca6f-4212-8fab-c60ba97003df",
   "metadata": {
    "tags": []
   },
   "outputs": [
    {
     "data": {
      "text/plain": [
       "0.43365180096314926"
      ]
     },
     "execution_count": 44,
     "metadata": {},
     "output_type": "execute_result"
    }
   ],
   "source": [
    "rf.score(X_test, y_test)"
   ]
  },
  {
   "cell_type": "code",
   "execution_count": 21,
   "id": "81ac4473-4db0-4302-b787-0c7b27645839",
   "metadata": {
    "tags": []
   },
   "outputs": [
    {
     "name": "stdout",
     "output_type": "stream",
     "text": [
      "                            OLS Regression Results                            \n",
      "==============================================================================\n",
      "Dep. Variable:              case_rate   R-squared:                       0.270\n",
      "Model:                            OLS   Adj. R-squared:                  0.255\n",
      "Method:                 Least Squares   F-statistic:                     17.37\n",
      "Date:                Sun, 05 Nov 2023   Prob (F-statistic):          5.01e-115\n",
      "Time:                        14:29:14   Log-Likelihood:                 2823.5\n",
      "No. Observations:                2206   AIC:                            -5553.\n",
      "Df Residuals:                    2159   BIC:                            -5285.\n",
      "Df Model:                          46                                         \n",
      "Covariance Type:            nonrobust                                         \n",
      "==================================================================================================================\n",
      "                                                     coef    std err          t      P>|t|      [0.025      0.975]\n",
      "------------------------------------------------------------------------------------------------------------------\n",
      "const                                             -0.3882      0.270     -1.439      0.150      -0.917       0.141\n",
      "% Fair/Poor Health                                 0.0066      0.001      5.668      0.000       0.004       0.009\n",
      "percent_smokers                                   -0.0012      0.001     -1.162      0.245      -0.003       0.001\n",
      "percent_obese                                     -0.0008      0.001     -1.377      0.169      -0.002       0.000\n",
      "Food Environment Index                            -0.0063      0.004     -1.661      0.097      -0.014       0.001\n",
      "% Physically Inactive                              0.0024      0.001      4.250      0.000       0.001       0.004\n",
      "percent Excessive Drinking                        -0.0008      0.001     -0.974      0.330      -0.002       0.001\n",
      "Percent Uninsured                                  0.0037      0.004      0.967      0.334      -0.004       0.011\n",
      "PCP Rate                                        1.568e-05   6.28e-05      0.250      0.803      -0.000       0.000\n",
      "Preventable Hosp stays Rate                     4.831e-06    1.2e-06      4.011      0.000    2.47e-06    7.19e-06\n",
      "Percent Vaccinated Flu                             0.0003      0.000      1.189      0.234      -0.000       0.001\n",
      "High School Graduation Rate                        0.0006      0.000      2.310      0.021    9.46e-05       0.001\n",
      "Percent Some College                               0.0006      0.000      1.990      0.047    8.29e-06       0.001\n",
      "Percent Unemployed                                -0.0043      0.002     -2.875      0.004      -0.007      -0.001\n",
      "Income Ratio                                       0.0005      0.003      0.146      0.884      -0.006       0.007\n",
      "Average Daily PM2.5                               -0.0005      0.001     -0.456      0.648      -0.003       0.002\n",
      "Percent Severe Housing Problems                   -0.0001      0.002     -0.056      0.955      -0.005       0.005\n",
      "Severe Housing Cost Burden                        -0.0040      0.002     -1.737      0.083      -0.009       0.001\n",
      "Overcrowding                                       0.0011      0.002      0.468      0.640      -0.004       0.006\n",
      "Inadequate Facilities                             -0.0005      0.002     -0.211      0.833      -0.005       0.004\n",
      "Life Expectancy                                    0.0018      0.002      0.871      0.384      -0.002       0.006\n",
      "Percent Diabetic                                  -0.0006      0.001     -0.471      0.638      -0.003       0.002\n",
      "HIV Prevalence Rate                            -1.098e-05   1.16e-05     -0.949      0.343   -3.37e-05    1.17e-05\n",
      "Percent Food Insecure                             -0.0016      0.001     -1.355      0.175      -0.004       0.001\n",
      "Percent Insufficient Sleep                        -0.0013      0.001     -1.723      0.085      -0.003       0.000\n",
      "Percent Uninsured Adults                          -0.0020      0.003     -0.721      0.471      -0.007       0.003\n",
      "Percent Uninsured children                        -0.0056      0.002     -3.434      0.001      -0.009      -0.002\n",
      "Median Household Income                        -1.694e-07   2.51e-07     -0.676      0.499   -6.61e-07    3.22e-07\n",
      "Segregation Index non-white/ white                 0.0001      0.000      0.799      0.424      -0.000       0.000\n",
      "Population                                      1.382e-08    4.9e-09      2.818      0.005     4.2e-09    2.34e-08\n",
      "percent < 18                                      -0.0014      0.001     -1.344      0.179      -0.003       0.001\n",
      "percent 65 and over                               -0.0034      0.001     -4.048      0.000      -0.005      -0.002\n",
      "percent African American                           0.0062      0.002      3.393      0.001       0.003       0.010\n",
      "percent American Indian/Alaskan Native             0.0086      0.002      4.386      0.000       0.005       0.012\n",
      "percent Asian                                      0.0046      0.002      2.187      0.029       0.000       0.009\n",
      "percent Native Hawaiian/Other Pacific Islander    -0.0222      0.009     -2.379      0.017      -0.040      -0.004\n",
      "percent Hispanic                                   0.0070      0.002      3.917      0.000       0.004       0.011\n",
      "percent Non-Hispanic White                         0.0069      0.002      3.726      0.000       0.003       0.010\n",
      "percent Not Proficient in English                 -0.0017      0.001     -1.371      0.170      -0.004       0.001\n",
      "percent Female                                    -0.0023      0.001     -2.071      0.038      -0.004      -0.000\n",
      "Masks                                            5.68e-05   1.32e-05      4.310      0.000     3.1e-05    8.27e-05\n",
      "Administered_Dose1_Pop_Pct                      -2.91e-05      0.000     -0.129      0.897      -0.000       0.000\n",
      "Administered_Dose1_Recip_65PlusPop_Pct             0.0006      0.000      4.475      0.000       0.000       0.001\n",
      "YPL                                               -0.0057      0.007     -0.824      0.410      -0.019       0.008\n",
      "pre mature deaths                                  1.9947      1.464      1.363      0.173      -0.876       4.865\n",
      "rural                                             -0.0350      0.010     -3.426      0.001      -0.055      -0.015\n",
      "water                                             -0.0031      0.003     -0.953      0.341      -0.009       0.003\n",
      "==============================================================================\n",
      "Omnibus:                     3012.174   Durbin-Watson:                   1.740\n",
      "Prob(Omnibus):                  0.000   Jarque-Bera (JB):          2094346.932\n",
      "Skew:                           7.213   Prob(JB):                         0.00\n",
      "Kurtosis:                     153.257   Cond. No.                     4.22e+08\n",
      "==============================================================================\n",
      "\n",
      "Notes:\n",
      "[1] Standard Errors assume that the covariance matrix of the errors is correctly specified.\n",
      "[2] The condition number is large, 4.22e+08. This might indicate that there are\n",
      "strong multicollinearity or other numerical problems.\n"
     ]
    }
   ],
   "source": [
    "X = sm.add_constant(X)  \n",
    "model = sm.OLS(y, X).fit()\n",
    "summary_table = model.summary()\n",
    "print(summary_table)"
   ]
  },
  {
   "cell_type": "code",
   "execution_count": 22,
   "id": "a5a2d48c-a7a1-4dab-b091-2c5013389a6d",
   "metadata": {
    "tags": []
   },
   "outputs": [],
   "source": [
    "df.drop(columns=['percent_smokers', 'percent_obese', 'Food Environment Index', 'Percent Vaccinated Flu', \n",
    "                 'Income Ratio', 'Average Daily PM2.5', 'Percent Severe Housing Problems', 'Severe Housing Cost Burden',\n",
    "                 'Overcrowding', 'Inadequate Facilities', 'Percent Diabetic', 'HIV Prevalence Rate', 'Percent Food Insecure',\n",
    "                 'Percent Uninsured Adults', 'Median Household Income', 'Segregation Index non-white/ white', 'Population', 'YPL'], inplace=True)"
   ]
  },
  {
   "cell_type": "code",
   "execution_count": 25,
   "id": "1523d1fd-c9e5-4f5f-9fa4-5c67cddfcae7",
   "metadata": {
    "tags": []
   },
   "outputs": [],
   "source": [
    "y = df['case_rate']\n",
    "# y = df['death_rate']\n",
    "\n",
    "# X variables\n",
    "X = df.drop(columns = ['case_rate', 'State', 'FIPS_x'])\n",
    "\n",
    "# TTS\n",
    "X_train, X_test, y_train, y_test = train_test_split(X, y, random_state = 42)"
   ]
  },
  {
   "cell_type": "code",
   "execution_count": 26,
   "id": "fa08abe6-7085-4e60-af17-ecb21626ac02",
   "metadata": {
    "tags": []
   },
   "outputs": [
    {
     "data": {
      "text/html": [
       "<style>#sk-container-id-2 {color: black;}#sk-container-id-2 pre{padding: 0;}#sk-container-id-2 div.sk-toggleable {background-color: white;}#sk-container-id-2 label.sk-toggleable__label {cursor: pointer;display: block;width: 100%;margin-bottom: 0;padding: 0.3em;box-sizing: border-box;text-align: center;}#sk-container-id-2 label.sk-toggleable__label-arrow:before {content: \"▸\";float: left;margin-right: 0.25em;color: #696969;}#sk-container-id-2 label.sk-toggleable__label-arrow:hover:before {color: black;}#sk-container-id-2 div.sk-estimator:hover label.sk-toggleable__label-arrow:before {color: black;}#sk-container-id-2 div.sk-toggleable__content {max-height: 0;max-width: 0;overflow: hidden;text-align: left;background-color: #f0f8ff;}#sk-container-id-2 div.sk-toggleable__content pre {margin: 0.2em;color: black;border-radius: 0.25em;background-color: #f0f8ff;}#sk-container-id-2 input.sk-toggleable__control:checked~div.sk-toggleable__content {max-height: 200px;max-width: 100%;overflow: auto;}#sk-container-id-2 input.sk-toggleable__control:checked~label.sk-toggleable__label-arrow:before {content: \"▾\";}#sk-container-id-2 div.sk-estimator input.sk-toggleable__control:checked~label.sk-toggleable__label {background-color: #d4ebff;}#sk-container-id-2 div.sk-label input.sk-toggleable__control:checked~label.sk-toggleable__label {background-color: #d4ebff;}#sk-container-id-2 input.sk-hidden--visually {border: 0;clip: rect(1px 1px 1px 1px);clip: rect(1px, 1px, 1px, 1px);height: 1px;margin: -1px;overflow: hidden;padding: 0;position: absolute;width: 1px;}#sk-container-id-2 div.sk-estimator {font-family: monospace;background-color: #f0f8ff;border: 1px dotted black;border-radius: 0.25em;box-sizing: border-box;margin-bottom: 0.5em;}#sk-container-id-2 div.sk-estimator:hover {background-color: #d4ebff;}#sk-container-id-2 div.sk-parallel-item::after {content: \"\";width: 100%;border-bottom: 1px solid gray;flex-grow: 1;}#sk-container-id-2 div.sk-label:hover label.sk-toggleable__label {background-color: #d4ebff;}#sk-container-id-2 div.sk-serial::before {content: \"\";position: absolute;border-left: 1px solid gray;box-sizing: border-box;top: 0;bottom: 0;left: 50%;z-index: 0;}#sk-container-id-2 div.sk-serial {display: flex;flex-direction: column;align-items: center;background-color: white;padding-right: 0.2em;padding-left: 0.2em;position: relative;}#sk-container-id-2 div.sk-item {position: relative;z-index: 1;}#sk-container-id-2 div.sk-parallel {display: flex;align-items: stretch;justify-content: center;background-color: white;position: relative;}#sk-container-id-2 div.sk-item::before, #sk-container-id-2 div.sk-parallel-item::before {content: \"\";position: absolute;border-left: 1px solid gray;box-sizing: border-box;top: 0;bottom: 0;left: 50%;z-index: -1;}#sk-container-id-2 div.sk-parallel-item {display: flex;flex-direction: column;z-index: 1;position: relative;background-color: white;}#sk-container-id-2 div.sk-parallel-item:first-child::after {align-self: flex-end;width: 50%;}#sk-container-id-2 div.sk-parallel-item:last-child::after {align-self: flex-start;width: 50%;}#sk-container-id-2 div.sk-parallel-item:only-child::after {width: 0;}#sk-container-id-2 div.sk-dashed-wrapped {border: 1px dashed gray;margin: 0 0.4em 0.5em 0.4em;box-sizing: border-box;padding-bottom: 0.4em;background-color: white;}#sk-container-id-2 div.sk-label label {font-family: monospace;font-weight: bold;display: inline-block;line-height: 1.2em;}#sk-container-id-2 div.sk-label-container {text-align: center;}#sk-container-id-2 div.sk-container {/* jupyter's `normalize.less` sets `[hidden] { display: none; }` but bootstrap.min.css set `[hidden] { display: none !important; }` so we also need the `!important` here to be able to override the default hidden behavior on the sphinx rendered scikit-learn.org. See: https://github.com/scikit-learn/scikit-learn/issues/21755 */display: inline-block !important;position: relative;}#sk-container-id-2 div.sk-text-repr-fallback {display: none;}</style><div id=\"sk-container-id-2\" class=\"sk-top-container\"><div class=\"sk-text-repr-fallback\"><pre>LinearRegression()</pre><b>In a Jupyter environment, please rerun this cell to show the HTML representation or trust the notebook. <br />On GitHub, the HTML representation is unable to render, please try loading this page with nbviewer.org.</b></div><div class=\"sk-container\" hidden><div class=\"sk-item\"><div class=\"sk-estimator sk-toggleable\"><input class=\"sk-toggleable__control sk-hidden--visually\" id=\"sk-estimator-id-2\" type=\"checkbox\" checked><label for=\"sk-estimator-id-2\" class=\"sk-toggleable__label sk-toggleable__label-arrow\">LinearRegression</label><div class=\"sk-toggleable__content\"><pre>LinearRegression()</pre></div></div></div></div></div>"
      ],
      "text/plain": [
       "LinearRegression()"
      ]
     },
     "execution_count": 26,
     "metadata": {},
     "output_type": "execute_result"
    }
   ],
   "source": [
    "lr = LinearRegression()\n",
    "lr.fit(X_train, y_train)"
   ]
  },
  {
   "cell_type": "code",
   "execution_count": 27,
   "id": "34c92769-8708-48e0-a2f6-2743c07d5817",
   "metadata": {
    "tags": []
   },
   "outputs": [
    {
     "data": {
      "text/plain": [
       "0.2399278910281264"
      ]
     },
     "execution_count": 27,
     "metadata": {},
     "output_type": "execute_result"
    }
   ],
   "source": [
    "lr.score(X_train, y_train)"
   ]
  },
  {
   "cell_type": "code",
   "execution_count": 28,
   "id": "9e73d0e2-eaa4-49da-9537-e9cb630509d1",
   "metadata": {
    "tags": []
   },
   "outputs": [
    {
     "data": {
      "text/plain": [
       "0.27555533361788864"
      ]
     },
     "execution_count": 28,
     "metadata": {},
     "output_type": "execute_result"
    }
   ],
   "source": [
    "lr.score(X_test, y_test)"
   ]
  },
  {
   "cell_type": "code",
   "execution_count": 29,
   "id": "a073f7e9-e20b-49d4-aa6b-1c3f54c8d3ce",
   "metadata": {
    "tags": []
   },
   "outputs": [
    {
     "data": {
      "text/html": [
       "<style>#sk-container-id-3 {color: black;}#sk-container-id-3 pre{padding: 0;}#sk-container-id-3 div.sk-toggleable {background-color: white;}#sk-container-id-3 label.sk-toggleable__label {cursor: pointer;display: block;width: 100%;margin-bottom: 0;padding: 0.3em;box-sizing: border-box;text-align: center;}#sk-container-id-3 label.sk-toggleable__label-arrow:before {content: \"▸\";float: left;margin-right: 0.25em;color: #696969;}#sk-container-id-3 label.sk-toggleable__label-arrow:hover:before {color: black;}#sk-container-id-3 div.sk-estimator:hover label.sk-toggleable__label-arrow:before {color: black;}#sk-container-id-3 div.sk-toggleable__content {max-height: 0;max-width: 0;overflow: hidden;text-align: left;background-color: #f0f8ff;}#sk-container-id-3 div.sk-toggleable__content pre {margin: 0.2em;color: black;border-radius: 0.25em;background-color: #f0f8ff;}#sk-container-id-3 input.sk-toggleable__control:checked~div.sk-toggleable__content {max-height: 200px;max-width: 100%;overflow: auto;}#sk-container-id-3 input.sk-toggleable__control:checked~label.sk-toggleable__label-arrow:before {content: \"▾\";}#sk-container-id-3 div.sk-estimator input.sk-toggleable__control:checked~label.sk-toggleable__label {background-color: #d4ebff;}#sk-container-id-3 div.sk-label input.sk-toggleable__control:checked~label.sk-toggleable__label {background-color: #d4ebff;}#sk-container-id-3 input.sk-hidden--visually {border: 0;clip: rect(1px 1px 1px 1px);clip: rect(1px, 1px, 1px, 1px);height: 1px;margin: -1px;overflow: hidden;padding: 0;position: absolute;width: 1px;}#sk-container-id-3 div.sk-estimator {font-family: monospace;background-color: #f0f8ff;border: 1px dotted black;border-radius: 0.25em;box-sizing: border-box;margin-bottom: 0.5em;}#sk-container-id-3 div.sk-estimator:hover {background-color: #d4ebff;}#sk-container-id-3 div.sk-parallel-item::after {content: \"\";width: 100%;border-bottom: 1px solid gray;flex-grow: 1;}#sk-container-id-3 div.sk-label:hover label.sk-toggleable__label {background-color: #d4ebff;}#sk-container-id-3 div.sk-serial::before {content: \"\";position: absolute;border-left: 1px solid gray;box-sizing: border-box;top: 0;bottom: 0;left: 50%;z-index: 0;}#sk-container-id-3 div.sk-serial {display: flex;flex-direction: column;align-items: center;background-color: white;padding-right: 0.2em;padding-left: 0.2em;position: relative;}#sk-container-id-3 div.sk-item {position: relative;z-index: 1;}#sk-container-id-3 div.sk-parallel {display: flex;align-items: stretch;justify-content: center;background-color: white;position: relative;}#sk-container-id-3 div.sk-item::before, #sk-container-id-3 div.sk-parallel-item::before {content: \"\";position: absolute;border-left: 1px solid gray;box-sizing: border-box;top: 0;bottom: 0;left: 50%;z-index: -1;}#sk-container-id-3 div.sk-parallel-item {display: flex;flex-direction: column;z-index: 1;position: relative;background-color: white;}#sk-container-id-3 div.sk-parallel-item:first-child::after {align-self: flex-end;width: 50%;}#sk-container-id-3 div.sk-parallel-item:last-child::after {align-self: flex-start;width: 50%;}#sk-container-id-3 div.sk-parallel-item:only-child::after {width: 0;}#sk-container-id-3 div.sk-dashed-wrapped {border: 1px dashed gray;margin: 0 0.4em 0.5em 0.4em;box-sizing: border-box;padding-bottom: 0.4em;background-color: white;}#sk-container-id-3 div.sk-label label {font-family: monospace;font-weight: bold;display: inline-block;line-height: 1.2em;}#sk-container-id-3 div.sk-label-container {text-align: center;}#sk-container-id-3 div.sk-container {/* jupyter's `normalize.less` sets `[hidden] { display: none; }` but bootstrap.min.css set `[hidden] { display: none !important; }` so we also need the `!important` here to be able to override the default hidden behavior on the sphinx rendered scikit-learn.org. See: https://github.com/scikit-learn/scikit-learn/issues/21755 */display: inline-block !important;position: relative;}#sk-container-id-3 div.sk-text-repr-fallback {display: none;}</style><div id=\"sk-container-id-3\" class=\"sk-top-container\"><div class=\"sk-text-repr-fallback\"><pre>RandomForestRegressor()</pre><b>In a Jupyter environment, please rerun this cell to show the HTML representation or trust the notebook. <br />On GitHub, the HTML representation is unable to render, please try loading this page with nbviewer.org.</b></div><div class=\"sk-container\" hidden><div class=\"sk-item\"><div class=\"sk-estimator sk-toggleable\"><input class=\"sk-toggleable__control sk-hidden--visually\" id=\"sk-estimator-id-3\" type=\"checkbox\" checked><label for=\"sk-estimator-id-3\" class=\"sk-toggleable__label sk-toggleable__label-arrow\">RandomForestRegressor</label><div class=\"sk-toggleable__content\"><pre>RandomForestRegressor()</pre></div></div></div></div></div>"
      ],
      "text/plain": [
       "RandomForestRegressor()"
      ]
     },
     "execution_count": 29,
     "metadata": {},
     "output_type": "execute_result"
    }
   ],
   "source": [
    "rf =RandomForestRegressor()\n",
    "rf.fit(X_train, y_train)"
   ]
  },
  {
   "cell_type": "code",
   "execution_count": 30,
   "id": "078f7b16-ebee-487d-bbe9-33355bd2dabf",
   "metadata": {
    "tags": []
   },
   "outputs": [
    {
     "data": {
      "text/plain": [
       "0.9018713434115848"
      ]
     },
     "execution_count": 30,
     "metadata": {},
     "output_type": "execute_result"
    }
   ],
   "source": [
    "rf.score(X_train, y_train)"
   ]
  },
  {
   "cell_type": "code",
   "execution_count": 31,
   "id": "f8f87344-b7a0-40fd-be8e-d64010a98d04",
   "metadata": {
    "tags": []
   },
   "outputs": [
    {
     "data": {
      "text/plain": [
       "0.4991858901130415"
      ]
     },
     "execution_count": 31,
     "metadata": {},
     "output_type": "execute_result"
    }
   ],
   "source": [
    "rf.score(X_test, y_test)"
   ]
  },
  {
   "cell_type": "code",
   "execution_count": null,
   "id": "347398bc-137f-43c4-b7bc-696164dabe32",
   "metadata": {},
   "outputs": [],
   "source": []
  }
 ],
 "metadata": {
  "kernelspec": {
   "display_name": "Python 3 (ipykernel)",
   "language": "python",
   "name": "python3"
  },
  "language_info": {
   "codemirror_mode": {
    "name": "ipython",
    "version": 3
   },
   "file_extension": ".py",
   "mimetype": "text/x-python",
   "name": "python",
   "nbconvert_exporter": "python",
   "pygments_lexer": "ipython3",
   "version": "3.11.4"
  }
 },
 "nbformat": 4,
 "nbformat_minor": 5
}
