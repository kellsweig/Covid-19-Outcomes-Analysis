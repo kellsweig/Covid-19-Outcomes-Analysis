{
 "cells": [
  {
   "cell_type": "markdown",
   "id": "5ff23367-c0e2-4a3c-bb22-8c21939f2970",
   "metadata": {
    "tags": []
   },
   "source": [
    "# Modeling & Cleaning Issues:"
   ]
  },
  {
   "cell_type": "markdown",
   "id": "740d466f-dbb6-4f87-a1b9-42fe650ff974",
   "metadata": {},
   "source": [
    "### Data Cleaning for Cases and Deaths:\n",
    "Deaths and cases were cumulative to each date. To get just the cases in 2021, the cases and deaths in 2020 need to be subtracted. Same for 2022.\n",
    "\n",
    "This would explain why the cases and death numbers seem too high.\n",
    "\n",
    "This could also be part of the reason the models are not performing well at the county level.\n",
    "\n",
    "\n",
    "Do we want to examine total cases as our y variable (sum of 20, 21, and 22) or do we also separately want to examine early verses late pandemic outcomes? \n",
    "\n",
    "John- if for now you want to look at total pandemic outcomes and keep it simple- you could treat case rate or death rate as cases_2022/population or deaths_2022/ population and just drop 2020 and 2021. these numbers were cumulative and would have included the totals for the prior years. \n"
   ]
  },
  {
   "cell_type": "markdown",
   "id": "d93bbc0e-d395-439e-b12b-a7b27b7a6e31",
   "metadata": {},
   "source": [
    "## Next Steps:\n",
    "\n",
    "1. Retry merging the county datasets on countyFIPS not on county. We lost almost half the dataset in the merge and i think we can retain a lot more of this by merging on the fips code instead of dropping the fips code\n",
    "\n",
    "2. I have simplified county vax data saved. I have the vax rates by county from Sept 2021 saved as county_vax_2021 and for 2022 saved as county_vax_2022. County_vax_2021 only includes the percent of the pop that received the first dose and the percent of 65 and older who received the first dose while the 2022 dataset also includes boosters etc. However, there was more missing data in 2022 so we may just want to use 2021.\n",
    "3. John- I saw your comment on PCA. I agree that could help simplify certain steps for the model. Let me know if you want me to take a grouping of columns (especially the pre-existing conditions, employment rates etc) and try to reduce the dimensionality so we can focus on other columns. \n",
    "4. What do you think about taking state out of the X variable?\n",
    "5. Do we want to manufacture a binarized mask column where if mask > 0 "
   ]
  },
  {
   "cell_type": "code",
   "execution_count": 2,
   "id": "03122f4b-3b5e-4bb4-b396-5c44f3f45e1f",
   "metadata": {
    "tags": []
   },
   "outputs": [],
   "source": [
    "# Imports\n",
    "import pandas as pd\n",
    "import numpy as np\n",
    "import matplotlib.pyplot as plt\n",
    "import seaborn as sns\n",
    "\n",
    "from sklearn.linear_model import LinearRegression\n",
    "from sklearn.model_selection import train_test_split\n",
    "from sklearn import metrics\n",
    "import statsmodels.api as sm\n",
    "\n",
    "from sklearn.neighbors import KNeighborsRegressor\n",
    "from sklearn.model_selection import train_test_split, cross_val_score\n",
    "from sklearn.preprocessing import StandardScaler\n",
    "\n",
    "from sklearn.tree import DecisionTreeRegressor, plot_tree\n",
    "from sklearn.ensemble import BaggingRegressor\n",
    "from sklearn.model_selection import GridSearchCV, RandomizedSearchCV\n",
    "\n",
    "from sklearn.ensemble import VotingRegressor\n",
    "\n",
    "from sklearn.ensemble import RandomForestRegressor, ExtraTreesRegressor\n",
    "from sklearn.ensemble import AdaBoostRegressor, GradientBoostingRegressor\n"
   ]
  },
  {
   "cell_type": "code",
   "execution_count": 3,
   "id": "95b255d1-608d-42a2-a948-db22b823dfdf",
   "metadata": {
    "tags": []
   },
   "outputs": [
    {
     "data": {
      "text/html": [
       "<div>\n",
       "<style scoped>\n",
       "    .dataframe tbody tr th:only-of-type {\n",
       "        vertical-align: middle;\n",
       "    }\n",
       "\n",
       "    .dataframe tbody tr th {\n",
       "        vertical-align: top;\n",
       "    }\n",
       "\n",
       "    .dataframe thead th {\n",
       "        text-align: right;\n",
       "    }\n",
       "</style>\n",
       "<table border=\"1\" class=\"dataframe\">\n",
       "  <thead>\n",
       "    <tr style=\"text-align: right;\">\n",
       "      <th></th>\n",
       "      <th>Unnamed: 0</th>\n",
       "      <th>FIPS</th>\n",
       "      <th>State</th>\n",
       "      <th>County</th>\n",
       "      <th>Years of Potential Life Lost Rate (premature death)</th>\n",
       "      <th>YPLL Rate (Black)</th>\n",
       "      <th>YPLL Rate (Hispanic)</th>\n",
       "      <th>YPLL Rate (White)</th>\n",
       "      <th>% Fair/Poor Health</th>\n",
       "      <th>percent_smokers</th>\n",
       "      <th>...</th>\n",
       "      <th>percent Not Proficient in English</th>\n",
       "      <th>percent Female</th>\n",
       "      <th>number Rural</th>\n",
       "      <th>cases_2020</th>\n",
       "      <th>cases_2021</th>\n",
       "      <th>cases_2022</th>\n",
       "      <th>deaths_2020</th>\n",
       "      <th>deaths_2021</th>\n",
       "      <th>deaths_2022</th>\n",
       "      <th>Masks</th>\n",
       "    </tr>\n",
       "  </thead>\n",
       "  <tbody>\n",
       "    <tr>\n",
       "      <th>0</th>\n",
       "      <td>0</td>\n",
       "      <td>1001</td>\n",
       "      <td>Alabama</td>\n",
       "      <td>Autauga</td>\n",
       "      <td>8824.0</td>\n",
       "      <td>10471.0</td>\n",
       "      <td>0.0</td>\n",
       "      <td>8707.0</td>\n",
       "      <td>18</td>\n",
       "      <td>19</td>\n",
       "      <td>...</td>\n",
       "      <td>1</td>\n",
       "      <td>51.3</td>\n",
       "      <td>22921.0</td>\n",
       "      <td>4190.0</td>\n",
       "      <td>11018.0</td>\n",
       "      <td>18961.0</td>\n",
       "      <td>5631.0</td>\n",
       "      <td>47405.0</td>\n",
       "      <td>124934.0</td>\n",
       "      <td>267.0</td>\n",
       "    </tr>\n",
       "    <tr>\n",
       "      <th>1</th>\n",
       "      <td>1</td>\n",
       "      <td>1003</td>\n",
       "      <td>Alabama</td>\n",
       "      <td>Baldwin</td>\n",
       "      <td>7225.0</td>\n",
       "      <td>10042.0</td>\n",
       "      <td>3087.0</td>\n",
       "      <td>7278.0</td>\n",
       "      <td>18</td>\n",
       "      <td>17</td>\n",
       "      <td>...</td>\n",
       "      <td>0</td>\n",
       "      <td>51.5</td>\n",
       "      <td>77060.0</td>\n",
       "      <td>13601.0</td>\n",
       "      <td>39911.0</td>\n",
       "      <td>67496.0</td>\n",
       "      <td>12412.0</td>\n",
       "      <td>148723.0</td>\n",
       "      <td>397246.0</td>\n",
       "      <td>267.0</td>\n",
       "    </tr>\n",
       "    <tr>\n",
       "      <th>2</th>\n",
       "      <td>2</td>\n",
       "      <td>1005</td>\n",
       "      <td>Alabama</td>\n",
       "      <td>Barbour</td>\n",
       "      <td>9586.0</td>\n",
       "      <td>11333.0</td>\n",
       "      <td>0.0</td>\n",
       "      <td>7310.0</td>\n",
       "      <td>26</td>\n",
       "      <td>22</td>\n",
       "      <td>...</td>\n",
       "      <td>1</td>\n",
       "      <td>47.2</td>\n",
       "      <td>18613.0</td>\n",
       "      <td>1514.0</td>\n",
       "      <td>3860.0</td>\n",
       "      <td>7027.0</td>\n",
       "      <td>2035.0</td>\n",
       "      <td>24364.0</td>\n",
       "      <td>60044.0</td>\n",
       "      <td>267.0</td>\n",
       "    </tr>\n",
       "    <tr>\n",
       "      <th>3</th>\n",
       "      <td>4</td>\n",
       "      <td>1007</td>\n",
       "      <td>Alabama</td>\n",
       "      <td>Bibb</td>\n",
       "      <td>11784.0</td>\n",
       "      <td>14813.0</td>\n",
       "      <td>0.0</td>\n",
       "      <td>11328.0</td>\n",
       "      <td>20</td>\n",
       "      <td>20</td>\n",
       "      <td>...</td>\n",
       "      <td>0</td>\n",
       "      <td>46.5</td>\n",
       "      <td>15663.0</td>\n",
       "      <td>1834.0</td>\n",
       "      <td>4533.0</td>\n",
       "      <td>7692.0</td>\n",
       "      <td>2678.0</td>\n",
       "      <td>28085.0</td>\n",
       "      <td>65964.0</td>\n",
       "      <td>267.0</td>\n",
       "    </tr>\n",
       "    <tr>\n",
       "      <th>4</th>\n",
       "      <td>5</td>\n",
       "      <td>1009</td>\n",
       "      <td>Alabama</td>\n",
       "      <td>Blount</td>\n",
       "      <td>10908.0</td>\n",
       "      <td>0.0</td>\n",
       "      <td>5620.0</td>\n",
       "      <td>11336.0</td>\n",
       "      <td>21</td>\n",
       "      <td>20</td>\n",
       "      <td>...</td>\n",
       "      <td>2</td>\n",
       "      <td>50.7</td>\n",
       "      <td>51562.0</td>\n",
       "      <td>4641.0</td>\n",
       "      <td>11256.0</td>\n",
       "      <td>17731.0</td>\n",
       "      <td>3855.0</td>\n",
       "      <td>56300.0</td>\n",
       "      <td>144559.0</td>\n",
       "      <td>267.0</td>\n",
       "    </tr>\n",
       "  </tbody>\n",
       "</table>\n",
       "<p>5 rows × 81 columns</p>\n",
       "</div>"
      ],
      "text/plain": [
       "   Unnamed: 0  FIPS    State   County  \\\n",
       "0           0  1001  Alabama  Autauga   \n",
       "1           1  1003  Alabama  Baldwin   \n",
       "2           2  1005  Alabama  Barbour   \n",
       "3           4  1007  Alabama     Bibb   \n",
       "4           5  1009  Alabama   Blount   \n",
       "\n",
       "   Years of Potential Life Lost Rate (premature death)  YPLL Rate (Black)  \\\n",
       "0                                             8824.0              10471.0   \n",
       "1                                             7225.0              10042.0   \n",
       "2                                             9586.0              11333.0   \n",
       "3                                            11784.0              14813.0   \n",
       "4                                            10908.0                  0.0   \n",
       "\n",
       "   YPLL Rate (Hispanic)  YPLL Rate (White)  % Fair/Poor Health  \\\n",
       "0                   0.0             8707.0                  18   \n",
       "1                3087.0             7278.0                  18   \n",
       "2                   0.0             7310.0                  26   \n",
       "3                   0.0            11328.0                  20   \n",
       "4                5620.0            11336.0                  21   \n",
       "\n",
       "   percent_smokers  ...  percent Not Proficient in English  percent Female  \\\n",
       "0               19  ...                                  1            51.3   \n",
       "1               17  ...                                  0            51.5   \n",
       "2               22  ...                                  1            47.2   \n",
       "3               20  ...                                  0            46.5   \n",
       "4               20  ...                                  2            50.7   \n",
       "\n",
       "   number Rural  cases_2020  cases_2021  cases_2022  deaths_2020  deaths_2021  \\\n",
       "0       22921.0      4190.0     11018.0     18961.0       5631.0      47405.0   \n",
       "1       77060.0     13601.0     39911.0     67496.0      12412.0     148723.0   \n",
       "2       18613.0      1514.0      3860.0      7027.0       2035.0      24364.0   \n",
       "3       15663.0      1834.0      4533.0      7692.0       2678.0      28085.0   \n",
       "4       51562.0      4641.0     11256.0     17731.0       3855.0      56300.0   \n",
       "\n",
       "  deaths_2022  Masks  \n",
       "0    124934.0  267.0  \n",
       "1    397246.0  267.0  \n",
       "2     60044.0  267.0  \n",
       "3     65964.0  267.0  \n",
       "4    144559.0  267.0  \n",
       "\n",
       "[5 rows x 81 columns]"
      ]
     },
     "execution_count": 3,
     "metadata": {},
     "output_type": "execute_result"
    }
   ],
   "source": [
    "df = pd.read_csv('Data/County_Data_needsVAXmerge.csv')\n",
    "df.head()"
   ]
  },
  {
   "cell_type": "code",
   "execution_count": 4,
   "id": "d637d8e4-0d42-4486-9503-1f67a9ec0014",
   "metadata": {
    "tags": []
   },
   "outputs": [],
   "source": [
    "# Drop rows that we will not be using\n",
    "df.drop(columns = ['Unnamed: 0', 'County', 'YPLL Rate (Black)', 'YPLL Rate (Hispanic)', 'YPLL Rate (White)', 'Number Uninsured', 'Number Primary Care Physicians', \n",
    "                        'Preventable Hosp. Rate (Black)', 'Preventable Hosp. Rate (Hispanic)', 'Preventable Hosp. Rate (White)',  'Percent Vaccinated Flu (Black)', \n",
    "                        'Percent  Vaccinated (Hispanic) Flu', 'Percent Vaccinated (White) Flu', 'Number Some College', 'Number Unemployed', 'Labor Force', 'PCP Ratio',\n",
    "                        '80th Percentile Income', '20th Percentile Income', '95% CI - Low', '95% CI - High', 'Life Expectancy (Black)', 'Life Expectancy (Hispanic)', \n",
    "                        'Life Expectancy (White)', 'Number HIV Cases', 'Household income (Black)', 'Household income (Hispanic)', 'Household income (White)'], inplace = True)"
   ]
  },
  {
   "cell_type": "code",
   "execution_count": 5,
   "id": "91227aa7-8054-4ff5-9740-47f73a44a249",
   "metadata": {
    "tags": []
   },
   "outputs": [
    {
     "data": {
      "text/plain": [
       "(1850, 53)"
      ]
     },
     "execution_count": 5,
     "metadata": {},
     "output_type": "execute_result"
    }
   ],
   "source": [
    "df.shape"
   ]
  },
  {
   "cell_type": "code",
   "execution_count": 6,
   "id": "9eac0b6e-8c9a-4058-86a8-3f0f55fd069c",
   "metadata": {
    "tags": []
   },
   "outputs": [
    {
     "data": {
      "text/plain": [
       "FIPS                                                   0\n",
       "State                                                  0\n",
       "Years of Potential Life Lost Rate (premature death)    0\n",
       "% Fair/Poor Health                                     0\n",
       "percent_smokers                                        0\n",
       "percent_obese                                          0\n",
       "Food Environment Index                                 0\n",
       "% Physically Inactive                                  0\n",
       "percent Excessive Drinking                             0\n",
       "Percent Uninsured                                      0\n",
       "PCP Rate                                               0\n",
       "Preventable Hosp stays Rate                            0\n",
       "Percent Vaccinated Flu                                 0\n",
       "High School Graduation Rate                            0\n",
       "Percent Some College                                   0\n",
       "Percent Unemployed                                     0\n",
       "Income Ratio                                           0\n",
       "Average Daily PM2.5                                    0\n",
       "Presence of water violation                            0\n",
       "Percent Severe Housing Problems                        0\n",
       "Severe Housing Cost Burden                             0\n",
       "Overcrowding                                           0\n",
       "Inadequate Facilities                                  0\n",
       "Life Expectancy                                        0\n",
       "Number pre-mature Deaths                               0\n",
       "Percent Diabetic                                       0\n",
       "HIV Prevalence Rate                                    0\n",
       "Percent Food Insecure                                  0\n",
       "Percent Insufficient Sleep                             0\n",
       "Percent Uninsured Adults                               0\n",
       "Percent Uninsured children                             0\n",
       "Median Household Income                                0\n",
       "Segregation index black/white                          0\n",
       "Segregation Index non-white/ white                     0\n",
       "Population                                             0\n",
       "percent < 18                                           0\n",
       "percent 65 and over                                    0\n",
       "percent African American                               0\n",
       "percent American Indian/Alaskan Native                 0\n",
       "percent Asian                                          0\n",
       "percent Native Hawaiian/Other Pacific Islander         0\n",
       "percent Hispanic                                       0\n",
       "percent Non-Hispanic White                             0\n",
       "percent Not Proficient in English                      0\n",
       "percent Female                                         0\n",
       "number Rural                                           0\n",
       "cases_2020                                             0\n",
       "cases_2021                                             0\n",
       "cases_2022                                             0\n",
       "deaths_2020                                            0\n",
       "deaths_2021                                            0\n",
       "deaths_2022                                            0\n",
       "Masks                                                  0\n",
       "dtype: int64"
      ]
     },
     "execution_count": 6,
     "metadata": {},
     "output_type": "execute_result"
    }
   ],
   "source": [
    "df.isna().sum()"
   ]
  },
  {
   "cell_type": "code",
   "execution_count": null,
   "id": "f37ad51e-8e9a-40ff-a64b-6a04e05b744a",
   "metadata": {},
   "outputs": [],
   "source": [
    "# Make FIPS index \n",
    "df.set_index('FIPS', inplace=True)"
   ]
  },
  {
   "cell_type": "code",
   "execution_count": null,
   "id": "02da6571-4824-406d-994e-e2581762afde",
   "metadata": {},
   "outputs": [],
   "source": [
    "# Create new columns for per populaltion stats - YPL, Number pre-mature Deaths, Number rural \n",
    "df['YPL'] = df['Years of Potential Life Lost Rate (premature death)']/df['Population']\n",
    "df['pre mature deaths'] = df['Number pre-mature Deaths']/df['Population']\n",
    "df['rural'] = df['number Rural']/df['Population']\n",
    "\n",
    "df.drop(columns = ['Years of Potential Life Lost Rate (premature death)', 'Number pre-mature Deaths', 'number Rural'], inplace = True)"
   ]
  },
  {
   "cell_type": "code",
   "execution_count": null,
   "id": "0b96dada-9f43-4753-99b4-edbe05bcffab",
   "metadata": {},
   "outputs": [],
   "source": [
    "# Dummify State and Presence of water violation\n",
    "df = pd.get_dummies(columns = ['State'], data = df, drop_first=True)\n",
    "df['water'] = df['Presence of water violation'].map({'No': 0, 'Yes': 1})\n",
    "df.drop(columns = ['Presence of water violation'], inplace = True)"
   ]
  },
  {
   "cell_type": "code",
   "execution_count": null,
   "id": "160f918d-b53f-47c2-a283-1b8712f11604",
   "metadata": {},
   "outputs": [],
   "source": [
    "# Calculate total cases and deaths, and convert to % of population \n",
    "df['cases'] = df['cases_2020'] + df['cases_2021'] + df['cases_2022']\n",
    "df['deaths'] = df['deaths_2020'] + df['deaths_2021'] + df['deaths_2022']\n",
    "\n",
    "df['case_rate'] = df['cases']/df['Population']\n",
    "df['death_rate'] = df['deaths']/df['Population']\n",
    "\n",
    "# Deaths seem to be off? More deaths than population \n",
    "df.drop(columns = ['cases_2020', 'cases_2021', 'cases_2022', 'deaths_2020', 'deaths_2021', 'deaths_2022', 'cases', 'deaths'], inplace = True)"
   ]
  },
  {
   "cell_type": "code",
   "execution_count": null,
   "id": "fb796472-49a1-4b2a-a469-0e469aa6ed92",
   "metadata": {},
   "outputs": [],
   "source": [
    "# Drop Na values (1850 rows -> 1807)\n",
    "df.dropna(inplace=True)\n",
    "df.shape"
   ]
  },
  {
   "cell_type": "code",
   "execution_count": null,
   "id": "16415f8f-dbb7-435a-8c62-de1efd24e05e",
   "metadata": {},
   "outputs": [],
   "source": [
    "# y variable will be case rate or death rate\n",
    "y = df['case_rate']\n",
    "# y = df['death_rate']\n",
    "\n",
    "# X variables\n",
    "X = df.drop(columns = ['case_rate', 'death_rate'])\n",
    "\n",
    "# TTS\n",
    "X_train, X_test, y_train, y_test = train_test_split(X, y, random_state = 42)"
   ]
  },
  {
   "cell_type": "code",
   "execution_count": null,
   "id": "6dfe31a7-dd3a-40eb-bf42-a3b463d882cd",
   "metadata": {},
   "outputs": [],
   "source": [
    "lr = LinearRegression()\n",
    "lr.fit(X_train, y_train)"
   ]
  }
 ],
 "metadata": {
  "kernelspec": {
   "display_name": "Python 3 (ipykernel)",
   "language": "python",
   "name": "python3"
  },
  "language_info": {
   "codemirror_mode": {
    "name": "ipython",
    "version": 3
   },
   "file_extension": ".py",
   "mimetype": "text/x-python",
   "name": "python",
   "nbconvert_exporter": "python",
   "pygments_lexer": "ipython3",
   "version": "3.11.4"
  }
 },
 "nbformat": 4,
 "nbformat_minor": 5
}
