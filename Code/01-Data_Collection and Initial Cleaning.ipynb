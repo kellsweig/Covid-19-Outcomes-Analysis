{
 "cells": [
  {
   "cell_type": "markdown",
   "id": "42668bd0",
   "metadata": {},
   "source": [
    "### Imports"
   ]
  },
  {
   "cell_type": "code",
   "execution_count": 1,
   "id": "deca56ed",
   "metadata": {},
   "outputs": [],
   "source": [
    "import pandas as pd\n",
    "import numpy as np\n",
    "import requests\n",
    "from bs4 import BeautifulSoup\n",
    "\n",
    "pd.set_option('display.max_columns', None)\n",
    "pd.set_option('display.max_rows', None)"
   ]
  },
  {
   "cell_type": "markdown",
   "id": "f79a5a4c",
   "metadata": {},
   "source": [
    "# State Level Data"
   ]
  },
  {
   "cell_type": "markdown",
   "id": "188cb7d6",
   "metadata": {},
   "source": [
    "### Census Population"
   ]
  },
  {
   "cell_type": "markdown",
   "id": "6d5f9e91",
   "metadata": {},
   "source": [
    "##### 2020"
   ]
  },
  {
   "cell_type": "code",
   "execution_count": 2,
   "id": "7d9d0d68",
   "metadata": {},
   "outputs": [],
   "source": [
    "url = 'https://www.census.gov/quickfacts/quickfacts/geo/dashboard/US/POP010220'\n",
    "res = requests.get(url)"
   ]
  },
  {
   "cell_type": "code",
   "execution_count": 3,
   "id": "ee84caf0",
   "metadata": {},
   "outputs": [
    {
     "data": {
      "text/plain": [
       "'29145505'"
      ]
     },
     "execution_count": 3,
     "metadata": {},
     "output_type": "execute_result"
    }
   ],
   "source": [
    "soup = BeautifulSoup(res.content)\n",
    "table = soup.find(attrs={'class':'qf-graph-scroll'})\n",
    "# soup.find_all(attrs={'class':'qf-positive'})\n",
    "tbody = table.find_all(attrs={'class':\"qf-graph-geo\"})\n",
    "tr = tbody[1]\n",
    "state = tr.find('a').attrs['data-title']\n",
    "tr.find(attrs={'class':'qf-positive'}).attrs['data-value']"
   ]
  },
  {
   "cell_type": "code",
   "execution_count": 4,
   "id": "759dd130",
   "metadata": {},
   "outputs": [
    {
     "data": {
      "text/html": [
       "<div>\n",
       "<style scoped>\n",
       "    .dataframe tbody tr th:only-of-type {\n",
       "        vertical-align: middle;\n",
       "    }\n",
       "\n",
       "    .dataframe tbody tr th {\n",
       "        vertical-align: top;\n",
       "    }\n",
       "\n",
       "    .dataframe thead th {\n",
       "        text-align: right;\n",
       "    }\n",
       "</style>\n",
       "<table border=\"1\" class=\"dataframe\">\n",
       "  <thead>\n",
       "    <tr style=\"text-align: right;\">\n",
       "      <th></th>\n",
       "      <th>State</th>\n",
       "      <th>2020 Population</th>\n",
       "    </tr>\n",
       "  </thead>\n",
       "  <tbody>\n",
       "    <tr>\n",
       "      <th>0</th>\n",
       "      <td>California</td>\n",
       "      <td>39538223</td>\n",
       "    </tr>\n",
       "    <tr>\n",
       "      <th>1</th>\n",
       "      <td>Texas</td>\n",
       "      <td>29145505</td>\n",
       "    </tr>\n",
       "    <tr>\n",
       "      <th>2</th>\n",
       "      <td>Florida</td>\n",
       "      <td>21538187</td>\n",
       "    </tr>\n",
       "    <tr>\n",
       "      <th>3</th>\n",
       "      <td>New York</td>\n",
       "      <td>20201249</td>\n",
       "    </tr>\n",
       "    <tr>\n",
       "      <th>4</th>\n",
       "      <td>Pennsylvania</td>\n",
       "      <td>13002700</td>\n",
       "    </tr>\n",
       "  </tbody>\n",
       "</table>\n",
       "</div>"
      ],
      "text/plain": [
       "          State 2020 Population\n",
       "0    California        39538223\n",
       "1         Texas        29145505\n",
       "2       Florida        21538187\n",
       "3      New York        20201249\n",
       "4  Pennsylvania        13002700"
      ]
     },
     "execution_count": 4,
     "metadata": {},
     "output_type": "execute_result"
    }
   ],
   "source": [
    "pop_2020 = []\n",
    "for tr in tbody:\n",
    "    state = tr.find('a').attrs['data-title']\n",
    "    pop = tr.find(attrs={'class':'qf-positive'}).attrs['data-value']\n",
    "    \n",
    "    state_pop = {'State': state, '2020 Population': pop}\n",
    "    pop_2020.append(state_pop)\n",
    "\n",
    "pop_2020 = pd.DataFrame(pop_2020)\n",
    "pop_2020.head()"
   ]
  },
  {
   "cell_type": "markdown",
   "id": "4e9d39c1",
   "metadata": {},
   "source": [
    "##### 2010"
   ]
  },
  {
   "cell_type": "code",
   "execution_count": 5,
   "id": "6bef1b32",
   "metadata": {},
   "outputs": [],
   "source": [
    "url2 = 'https://www.census.gov/quickfacts/quickfacts/geo/dashboard/US/POP010210'\n",
    "res2 = requests.get(url2)"
   ]
  },
  {
   "cell_type": "code",
   "execution_count": 6,
   "id": "14f31262",
   "metadata": {},
   "outputs": [],
   "source": [
    "soup2 = BeautifulSoup(res2.content)\n",
    "table2 = soup2.find(attrs={'class':'qf-graph-scroll'})\n",
    "tbody2 = table2.find_all(attrs={'class':\"qf-graph-geo\"})"
   ]
  },
  {
   "cell_type": "code",
   "execution_count": 7,
   "id": "79380d36",
   "metadata": {},
   "outputs": [
    {
     "data": {
      "text/html": [
       "<div>\n",
       "<style scoped>\n",
       "    .dataframe tbody tr th:only-of-type {\n",
       "        vertical-align: middle;\n",
       "    }\n",
       "\n",
       "    .dataframe tbody tr th {\n",
       "        vertical-align: top;\n",
       "    }\n",
       "\n",
       "    .dataframe thead th {\n",
       "        text-align: right;\n",
       "    }\n",
       "</style>\n",
       "<table border=\"1\" class=\"dataframe\">\n",
       "  <thead>\n",
       "    <tr style=\"text-align: right;\">\n",
       "      <th></th>\n",
       "      <th>State</th>\n",
       "      <th>2010 Population</th>\n",
       "      <th>2020 Population</th>\n",
       "    </tr>\n",
       "  </thead>\n",
       "  <tbody>\n",
       "    <tr>\n",
       "      <th>0</th>\n",
       "      <td>California</td>\n",
       "      <td>37253956</td>\n",
       "      <td>39538223</td>\n",
       "    </tr>\n",
       "    <tr>\n",
       "      <th>1</th>\n",
       "      <td>Texas</td>\n",
       "      <td>25145561</td>\n",
       "      <td>29145505</td>\n",
       "    </tr>\n",
       "    <tr>\n",
       "      <th>2</th>\n",
       "      <td>New York</td>\n",
       "      <td>19378102</td>\n",
       "      <td>20201249</td>\n",
       "    </tr>\n",
       "    <tr>\n",
       "      <th>3</th>\n",
       "      <td>Florida</td>\n",
       "      <td>18801310</td>\n",
       "      <td>21538187</td>\n",
       "    </tr>\n",
       "    <tr>\n",
       "      <th>4</th>\n",
       "      <td>Illinois</td>\n",
       "      <td>12830632</td>\n",
       "      <td>12812508</td>\n",
       "    </tr>\n",
       "  </tbody>\n",
       "</table>\n",
       "</div>"
      ],
      "text/plain": [
       "        State 2010 Population 2020 Population\n",
       "0  California        37253956        39538223\n",
       "1       Texas        25145561        29145505\n",
       "2    New York        19378102        20201249\n",
       "3     Florida        18801310        21538187\n",
       "4    Illinois        12830632        12812508"
      ]
     },
     "execution_count": 7,
     "metadata": {},
     "output_type": "execute_result"
    }
   ],
   "source": [
    "pop_2010 = []\n",
    "for tr in tbody2:\n",
    "    state = tr.find('a').attrs['data-title']\n",
    "    pop = tr.find(attrs={'class':'qf-positive'}).attrs['data-value']\n",
    "    \n",
    "    state_pop = {'State': state, '2010 Population': pop}\n",
    "    pop_2010.append(state_pop)\n",
    "\n",
    "pop_2010 = pd.DataFrame(pop_2010)\n",
    "\n",
    "population = pd.merge(pop_2010, pop_2020)\n",
    "population.head()"
   ]
  },
  {
   "cell_type": "code",
   "execution_count": 8,
   "id": "f2500923",
   "metadata": {},
   "outputs": [
    {
     "data": {
      "text/plain": [
       "State              object\n",
       "2010 Population    object\n",
       "2020 Population    object\n",
       "dtype: object"
      ]
     },
     "execution_count": 8,
     "metadata": {},
     "output_type": "execute_result"
    }
   ],
   "source": [
    "population.dtypes"
   ]
  },
  {
   "cell_type": "code",
   "execution_count": 10,
   "id": "a05dc5f0",
   "metadata": {},
   "outputs": [],
   "source": [
    "population[['2010 Population', '2020 Population']] = population[['2010 Population',\n",
    "                                                                 '2020 Population']].astype(int)\n",
    "population.to_csv('../Data/Population_data_2010_&_2020.csv', index=False)"
   ]
  },
  {
   "cell_type": "markdown",
   "id": "e0daee33",
   "metadata": {},
   "source": [
    "## Pre-Existing Medical Conditions"
   ]
  },
  {
   "cell_type": "markdown",
   "id": "cdf14531-f3a5-4f05-b374-8b10f90b8572",
   "metadata": {},
   "source": [
    "### Asthma"
   ]
  },
  {
   "cell_type": "markdown",
   "id": "4432fb35",
   "metadata": {},
   "source": [
    "CSV files with information on asthma, diabetes, cancer, copd, heart disease, kidney disease incident rates/ prevalence rates were downloaded from the CDC website. These csv files are each approximately 40 MB with responses to various questions, rates by demographic as well as overall population totals for more than a decade. Each dataset must be cleaned and unecessary information dropped to reduce the files to a manageable size."
   ]
  },
  {
   "cell_type": "code",
   "execution_count": null,
   "id": "eeec511d",
   "metadata": {},
   "outputs": [],
   "source": [
    "asthma = pd.read_csv('Ignore/Asthma.csv')\n",
    "asthma.shape"
   ]
  },
  {
   "cell_type": "code",
   "execution_count": null,
   "id": "5a36d3d8",
   "metadata": {},
   "outputs": [],
   "source": [
    "asthma.head()"
   ]
  },
  {
   "cell_type": "code",
   "execution_count": null,
   "id": "e6f61932",
   "metadata": {},
   "outputs": [],
   "source": [
    "asthma.Question.value_counts()"
   ]
  },
  {
   "cell_type": "code",
   "execution_count": null,
   "id": "05843f10",
   "metadata": {},
   "outputs": [],
   "source": [
    "asthma.describe()"
   ]
  },
  {
   "cell_type": "code",
   "execution_count": null,
   "id": "dce70f21",
   "metadata": {},
   "outputs": [],
   "source": [
    "# We only need data for pre-existing conditions for 1 year\n",
    "asthma = asthma[asthma['YearStart'] == 2019]"
   ]
  },
  {
   "cell_type": "code",
   "execution_count": null,
   "id": "8fa2fde5",
   "metadata": {},
   "outputs": [],
   "source": [
    "asthma.shape"
   ]
  },
  {
   "cell_type": "code",
   "execution_count": null,
   "id": "fec36bac",
   "metadata": {},
   "outputs": [],
   "source": [
    "asthma.YearStart.value_counts()"
   ]
  },
  {
   "cell_type": "code",
   "execution_count": null,
   "id": "311a2220",
   "metadata": {},
   "outputs": [],
   "source": [
    "asthma = asthma[['YearStart', 'LocationAbbr', 'LocationDesc', 'Question', 'DataValue',\n",
    "                 'Stratification1', 'DataValueType']]\n",
    "asthma.head(), astha.shape"
   ]
  },
  {
   "cell_type": "code",
   "execution_count": null,
   "id": "ff28ce5b",
   "metadata": {},
   "outputs": [],
   "source": [
    "asthma['LocationDesc'].nunique()"
   ]
  },
  {
   "cell_type": "code",
   "execution_count": null,
   "id": "9973caa6",
   "metadata": {},
   "outputs": [],
   "source": [
    "asthma.drop_duplicates(inplace=True)\n",
    "asthma = asthma[asthma['Stratification1'] == 'Overall']\n",
    "asthma.shape"
   ]
  },
  {
   "cell_type": "markdown",
   "id": "1d7a9b6f-8b9f-44f2-bd69-a482e0d70bf2",
   "metadata": {},
   "source": [
    "### Defining a cleaning function for all pre-existing medical condition data\n",
    "Data for a range of medical conditions at the state level were all collected from the CDC site. Information for each disease was downloaded as a CSV with similar columns and structure to the asthma dataset. Using the steps above, each dataset was cleaned with a cleaning function."
   ]
  },
  {
   "cell_type": "code",
   "execution_count": null,
   "id": "eb83fb1c-d980-460a-9a1d-5faaf1be04fb",
   "metadata": {},
   "outputs": [],
   "source": [
    "def cleaning(df):\n",
    "    print(df.shape)\n",
    "    df = df[df['YearStart'] == 2019]\n",
    "    print(df.shape)\n",
    "    df = df[['YearStart', 'LocationAbbr', 'LocationDesc', 'Question', 'DataValue', 'Stratification1', 'DataValueType']]\n",
    "    print(df.shape)\n",
    "    df = df[df['Stratification1'] == 'Overall']\n",
    "    return df  \n",
    "               "
   ]
  },
  {
   "cell_type": "markdown",
   "id": "c58f7e27-0f28-4e9b-ab4f-793d38b64b56",
   "metadata": {},
   "source": [
    "The pre-existing conditions are:\n",
    "- cardiovascular disease\n",
    "- high blood pressure\n",
    "- COPD\n",
    "- Diabetes\n",
    "- Kidney Disease\n",
    "\n",
    "These conditions were chosen as these conditions are known to exacerbate the impacts of coronavirus and individuals with these conditions were more likely to have more severe cases and to die if infected with coronavirus. \n",
    "\n",
    "Immunization data including influenza vaccination rates was also collected. "
   ]
  },
  {
   "cell_type": "code",
   "execution_count": null,
   "id": "53e02fba",
   "metadata": {},
   "outputs": [],
   "source": [
    "heart = pd.read_csv('Ignore/Cardiovascular.csv')\n",
    "heart.head()"
   ]
  },
  {
   "cell_type": "code",
   "execution_count": null,
   "id": "eb772fde",
   "metadata": {},
   "outputs": [],
   "source": [
    "# Splitting cardiac dataset into deaths from cardio diseases and diagnosed prevalence of hypertension\n",
    "cardiac_mortality = heart[heart['Question'] == 'Mortality from total cardiovascular diseases']\n",
    "print(cardiac_mortality.shape)\n",
    "\n",
    "high_blood_pressure = heart[heart['Question']== 'Awareness of high blood pressure among adults aged >= 18 years']\n",
    "print(high_blood_pressure.shape)"
   ]
  },
  {
   "cell_type": "code",
   "execution_count": null,
   "id": "16ad7479",
   "metadata": {},
   "outputs": [],
   "source": [
    "copd = pd.read_csv('Ignore/COPD.csv')\n",
    "copd.shape"
   ]
  },
  {
   "cell_type": "code",
   "execution_count": null,
   "id": "80de5187",
   "metadata": {},
   "outputs": [],
   "source": [
    "copd.Question.value_counts()\n",
    "copd = copd[copd['Question']== 'Prevalence of chronic obstructive pulmonary disease among adults >= 18']\n",
    "copd.shape"
   ]
  },
  {
   "cell_type": "code",
   "execution_count": null,
   "id": "04bc88cd",
   "metadata": {},
   "outputs": [],
   "source": [
    "diabetes = pd.read_csv('Ignore/Diabetes.csv')\n",
    "diabetes.shape"
   ]
  },
  {
   "cell_type": "code",
   "execution_count": null,
   "id": "700ebac1",
   "metadata": {},
   "outputs": [],
   "source": [
    "diabetes['Question'].value_counts()\n",
    "diabetes = diabetes[diabetes['Question']== 'Prevalence of diagnosed diabetes among adults aged >= 18 years']\n",
    "diabetes.shape"
   ]
  },
  {
   "cell_type": "code",
   "execution_count": null,
   "id": "b1191da1",
   "metadata": {},
   "outputs": [],
   "source": [
    "kidney = pd.read_csv('Ignore/Kidney.csv')"
   ]
  },
  {
   "cell_type": "code",
   "execution_count": null,
   "id": "3b7bd558",
   "metadata": {},
   "outputs": [],
   "source": [
    "kidney['Question'].value_counts()\n",
    "kidney = kidney[kidney['Question']== 'Prevalence of chronic kidney disease among adults aged >= 18 years']\n",
    "kidney.shape"
   ]
  },
  {
   "cell_type": "code",
   "execution_count": null,
   "id": "d2670a8e-e882-42a3-aafb-ed4967eabad7",
   "metadata": {},
   "outputs": [],
   "source": [
    "cardiac_mortality = cleaning(cardiac_mortality)\n",
    "high_blood_pressure = cleaning(high_blood_pressure)\n",
    "copd = cleaning(copd)\n",
    "diabetes = cleaning(diabetes)\n",
    "immun = cleaning(immun)\n",
    "kidney = cleaning(kidney)"
   ]
  },
  {
   "cell_type": "code",
   "execution_count": null,
   "id": "b438966a-e247-4479-806a-1fc34a776d06",
   "metadata": {},
   "outputs": [],
   "source": [
    "#Examining the size of each dataset to ensure cleaning function worked\n",
    "\n",
    "print(asthma.shape)\n",
    "#print(cancer.shape)\n",
    "print(cardiac_mortality.shape)\n",
    "print(high_blood_pressure.shape)\n",
    "print(copd.shape)\n",
    "print(diabetes.shape)\n",
    "print(immun.shape)\n",
    "print(kidney.shape)"
   ]
  },
  {
   "cell_type": "code",
   "execution_count": null,
   "id": "153c0af9-d9e4-4717-bef8-fee22a101df3",
   "metadata": {},
   "outputs": [],
   "source": [
    "def adj(df):\n",
    "    adj_df = df[df['DataValueType'] == 'Age-adjusted Prevalence'].copy()\n",
    "    adj_df.drop(columns=['LocationAbbr', 'DataValueType', 'Stratification1'], inplace=True)\n",
    "    return adj_df\n",
    "\n",
    "def crude(df):\n",
    "    crude_df = df[df['DataValueType'] == 'Prevalence'].copy()\n",
    "    crude_df.drop(columns=['LocationAbbr', 'DataValueType', 'Stratification1'], inplace=True)\n",
    "    return crude_df\n",
    "\n",
    "# Cardiac mortality is 'Age-adjusted Rate' and 'Crude Rate' not 'Prevalence'- fix this in final code"
   ]
  },
  {
   "cell_type": "markdown",
   "id": "c68eb99d-9d22-4931-8d60-fb8d9b954a67",
   "metadata": {},
   "source": [
    "### Saving the datasets to the Data folder\n",
    "Once the file size of each dataset was reduced enough and the features were reduced to those pertaining to the problem, the pre-existing conditions were saved as csvs separated as raw and age-adjusted numbers. "
   ]
  },
  {
   "cell_type": "code",
   "execution_count": null,
   "id": "da0928e8-567f-4cd0-85e9-0e80b09ca0c0",
   "metadata": {},
   "outputs": [],
   "source": [
    "def process_dataframes(dataframe_list):\n",
    "    results = {} \n",
    "    for name, df in dataframe_list.items():\n",
    "        adj_result = adj(df)\n",
    "        crude_result = crude(df)\n",
    "        results[name] = {'adj': adj_result, 'crude': crude_result}\n",
    "    return results\n",
    "\n",
    "# Create a list of DataFrames \n",
    "dataframe_list = {\n",
    "    'copd': copd,\n",
    "    'asthma': asthma,\n",
    "    'high_blood_pressure': high_blood_pressure,\n",
    "    'diabetes': diabetes,\n",
    "    'immun': immun,\n",
    "    'kidney': kidney\n",
    "}\n",
    "# Process the list of DataFrames\n",
    "results = process_dataframes(dataframe_list)\n",
    "\n",
    "# Save the results to CSV\n",
    "for name, result in results.items():\n",
    "    result['adj'].to_csv(f'Data/Raw/{name}_adj.csv', index = False)\n",
    "    result['crude'].to_csv(f'Data/Raw/{name}_crude.csv', index = False)"
   ]
  },
  {
   "cell_type": "code",
   "execution_count": null,
   "id": "f3a2069e-f3f6-4bc6-ad68-3b4c30a72199",
   "metadata": {},
   "outputs": [],
   "source": [
    "cardiac_mortality = cardiac_mortality[cardiac_mortality['DataValueType'] == 'Age-adjusted Rate']\n",
    "cardiac_mortality.drop(columns=['LocationAbbr', 'DataValueType', 'Stratification1'], inplace=True)\n",
    "cardiac_mortality.to_csv('Data/Raw/cardiac_mortality_adj.csv', index = False)"
   ]
  },
  {
   "cell_type": "code",
   "execution_count": null,
   "id": "52d625c3-d98e-41ac-9b4c-bbae596c90ad",
   "metadata": {},
   "outputs": [],
   "source": []
  },
  {
   "cell_type": "markdown",
   "id": "fd9339fd",
   "metadata": {},
   "source": [
    "### Population Density"
   ]
  },
  {
   "cell_type": "code",
   "execution_count": 11,
   "id": "bf565f57",
   "metadata": {},
   "outputs": [],
   "source": [
    "url3 = 'https://wisevoter.com/state-rankings/population-density-by-state/'\n",
    "res3 = requests.get(url3)\n",
    "soup3 = BeautifulSoup(res3.content)"
   ]
  },
  {
   "cell_type": "code",
   "execution_count": 12,
   "id": "a377bdd2",
   "metadata": {},
   "outputs": [],
   "source": [
    "table3 = soup3.find('table', attrs={'id': 'shdb-on-page-table'})\n",
    "tbody = table3.find('tbody')\n",
    "trs = tbody.find_all('tr')"
   ]
  },
  {
   "cell_type": "code",
   "execution_count": 13,
   "id": "41324b60",
   "metadata": {},
   "outputs": [
    {
     "data": {
      "text/html": [
       "<div>\n",
       "<style scoped>\n",
       "    .dataframe tbody tr th:only-of-type {\n",
       "        vertical-align: middle;\n",
       "    }\n",
       "\n",
       "    .dataframe tbody tr th {\n",
       "        vertical-align: top;\n",
       "    }\n",
       "\n",
       "    .dataframe thead th {\n",
       "        text-align: right;\n",
       "    }\n",
       "</style>\n",
       "<table border=\"1\" class=\"dataframe\">\n",
       "  <thead>\n",
       "    <tr style=\"text-align: right;\">\n",
       "      <th></th>\n",
       "      <th>State</th>\n",
       "      <th>Population Density per mi²</th>\n",
       "    </tr>\n",
       "  </thead>\n",
       "  <tbody>\n",
       "    <tr>\n",
       "      <th>0</th>\n",
       "      <td>New Jersey</td>\n",
       "      <td>1,283.4</td>\n",
       "    </tr>\n",
       "    <tr>\n",
       "      <th>1</th>\n",
       "      <td>Rhode Island</td>\n",
       "      <td>1,074.3</td>\n",
       "    </tr>\n",
       "    <tr>\n",
       "      <th>2</th>\n",
       "      <td>Massachusetts</td>\n",
       "      <td>919.82</td>\n",
       "    </tr>\n",
       "    <tr>\n",
       "      <th>3</th>\n",
       "      <td>Connecticut</td>\n",
       "      <td>746.7</td>\n",
       "    </tr>\n",
       "    <tr>\n",
       "      <th>4</th>\n",
       "      <td>Maryland</td>\n",
       "      <td>648.84</td>\n",
       "    </tr>\n",
       "  </tbody>\n",
       "</table>\n",
       "</div>"
      ],
      "text/plain": [
       "           State Population Density per mi²\n",
       "0     New Jersey                    1,283.4\n",
       "1   Rhode Island                    1,074.3\n",
       "2  Massachusetts                     919.82\n",
       "3    Connecticut                      746.7\n",
       "4       Maryland                     648.84"
      ]
     },
     "execution_count": 13,
     "metadata": {},
     "output_type": "execute_result"
    }
   ],
   "source": [
    "pop_density = []\n",
    "for tr in trs:\n",
    "    state = tr.find(attrs={'class':'shdb-on-page-table-body-Geo'}).text\n",
    "    density = tr.find(attrs={'class':'shdb-on-page-table-body-Data'}).text.split()[0]\n",
    "    \n",
    "    state_density = {'State':state, 'Population Density per mi²': density}\n",
    "    pop_density.append(state_density)\n",
    "Pop_density = pd.DataFrame(pop_density)\n",
    "Pop_density.head()"
   ]
  },
  {
   "cell_type": "code",
   "execution_count": 18,
   "id": "48fb85c9",
   "metadata": {},
   "outputs": [
    {
     "data": {
      "text/plain": [
       "State                          object\n",
       "Population Density per mi²    float64\n",
       "dtype: object"
      ]
     },
     "execution_count": 18,
     "metadata": {},
     "output_type": "execute_result"
    }
   ],
   "source": [
    "Pop_density.dtypes"
   ]
  },
  {
   "cell_type": "code",
   "execution_count": 21,
   "id": "02159709",
   "metadata": {},
   "outputs": [],
   "source": [
    "Pop_density.to_csv('../Data/Population_Density_data.csv', index=False)"
   ]
  },
  {
   "cell_type": "markdown",
   "id": "7c0403c2",
   "metadata": {},
   "source": [
    "# County Level Data"
   ]
  },
  {
   "cell_type": "markdown",
   "id": "501153a2-be96-4170-8eb2-6ae871f84cbb",
   "metadata": {},
   "source": [
    "### Mask Data"
   ]
  },
  {
   "cell_type": "code",
   "execution_count": null,
   "id": "09fd0e36-188a-4a6a-a7f9-4cddd4c2ebb8",
   "metadata": {},
   "outputs": [],
   "source": [
    "county_mask = pd.read_csv('Ignore/U.S._State_and_Territorial_Public_Mask_Mandates_From_April_10__2020_through_August_15__2021_by_County_by_Day.csv')\n",
    "county_mask"
   ]
  },
  {
   "cell_type": "code",
   "execution_count": null,
   "id": "435c3629-24c1-4af1-8fb7-a2fed23e3dbe",
   "metadata": {},
   "outputs": [],
   "source": [
    "# Chat GPT was consulted to create more efficient code which ran faster\n",
    "def mandate_length(data):\n",
    "    county_counts = {}\n",
    "    for index, row in data.iterrows():\n",
    "        county_name = row['County_Name']\n",
    "        mask_required = row['Face_Masks_Required_in_Public']\n",
    "        state = row['State_Tribe_Territory']\n",
    "        \n",
    "        if mask_required == 'Yes':\n",
    "            if county_name in county_counts:\n",
    "                county_counts[county_name]['Count'] += 1\n",
    "            else:\n",
    "                county_counts[county_name] = {'State': state, 'Count': 1}\n",
    "\n",
    "    county_counts_list = [{'State': v['State'], 'County': k, 'Count': v['Count']} for k, v in county_counts.items()]\n",
    "\n",
    "    return pd.DataFrame(county_counts_list)\n",
    "\n",
    "county_counts_df = mandate_length(county_mask)"
   ]
  },
  {
   "cell_type": "code",
   "execution_count": null,
   "id": "86d8c68e-2470-4c3f-99d9-59fbacca4696",
   "metadata": {},
   "outputs": [],
   "source": [
    "county_counts_df.to_csv('Data/county_mask_mandata.csv', index=False)"
   ]
  },
  {
   "cell_type": "markdown",
   "id": "6a3d9fd0",
   "metadata": {},
   "source": [
    "## Covid Vaccination Rates by county"
   ]
  },
  {
   "cell_type": "code",
   "execution_count": null,
   "id": "d1f6eaa2",
   "metadata": {},
   "outputs": [],
   "source": [
    "covid_vax = pd.read_csv('Ignore/COVID-19_Vaccinations_by_county.csv')\n",
    "covid_vax.shape()"
   ]
  },
  {
   "cell_type": "code",
   "execution_count": null,
   "id": "5c829900",
   "metadata": {},
   "outputs": [],
   "source": [
    "covid_vax.head()"
   ]
  },
  {
   "cell_type": "code",
   "execution_count": null,
   "id": "a42300bb",
   "metadata": {},
   "outputs": [],
   "source": [
    "# keeping 9/18/2021 & 12/28/2022 \n",
    "early_vax = covid_vax[covid_vax['Date'] == '9/18/2021'].copy()\n",
    "late_vax = covid_vax[covid_vax['Date'] == '12/28/2022'].copy()"
   ]
  },
  {
   "cell_type": "code",
   "execution_count": null,
   "id": "c3375191",
   "metadata": {},
   "outputs": [],
   "source": [
    "early_vax.drop(columns=['Series_Complete_Pop_Pct',\n",
    "                        'Series_Complete_65PlusPop_Pct'], inplace = True)\n",
    "early_vax.head()"
   ]
  },
  {
   "cell_type": "code",
   "execution_count": null,
   "id": "008ac7b5",
   "metadata": {},
   "outputs": [],
   "source": [
    "late_vax.drop(columns=['Date', 'MMWR_week', 'Series_Complete_65PlusPop_Pct', 'Census2019', 'Census2019_65PlusPop'], inplace=True)\n",
    "late_vax.head()"
   ]
  },
  {
   "cell_type": "code",
   "execution_count": null,
   "id": "61623401",
   "metadata": {},
   "outputs": [],
   "source": [
    "early_vax.to_csv('../Data/Raw/early_vax_2021.csv', index=False)\n",
    "late_vax.tocsv('../Data/Raw/late_vax_2022.csv', index=False)"
   ]
  },
  {
   "cell_type": "markdown",
   "id": "9c8a7424",
   "metadata": {},
   "source": [
    "## Population"
   ]
  },
  {
   "cell_type": "code",
   "execution_count": 1,
   "id": "153f1ad7",
   "metadata": {},
   "outputs": [
    {
     "ename": "NameError",
     "evalue": "name 'pd' is not defined",
     "output_type": "error",
     "traceback": [
      "\u001b[0;31m---------------------------------------------------------------------------\u001b[0m",
      "\u001b[0;31mNameError\u001b[0m                                 Traceback (most recent call last)",
      "Cell \u001b[0;32mIn[1], line 1\u001b[0m\n\u001b[0;32m----> 1\u001b[0m pop \u001b[38;5;241m=\u001b[39m pd\u001b[38;5;241m.\u001b[39mread_csv(\u001b[38;5;124m'\u001b[39m\u001b[38;5;124m./Ignore/covid_county_population_usafacts.csv\u001b[39m\u001b[38;5;124m'\u001b[39m)\n\u001b[1;32m      2\u001b[0m pop\u001b[38;5;241m.\u001b[39mdescribe()\n",
      "\u001b[0;31mNameError\u001b[0m: name 'pd' is not defined"
     ]
    }
   ],
   "source": [
    "pop = pd.read_csv('./Ignore/covid_county_population_usafacts.csv')\n",
    "pop.describe()"
   ]
  },
  {
   "cell_type": "code",
   "execution_count": null,
   "id": "662b78a5",
   "metadata": {},
   "outputs": [],
   "source": [
    "pop.head()"
   ]
  },
  {
   "cell_type": "code",
   "execution_count": null,
   "id": "79a36b9b",
   "metadata": {},
   "outputs": [],
   "source": [
    "# States dic\n",
    "state_name = {\n",
    "    'AL':'Alabama',\n",
    "    'AK':'Alaska',\n",
    "    'AZ':'Arizona',\n",
    "    'AR':'Arkansas',\n",
    "    'CA':'California',\n",
    "    'CO':'Colorado',\n",
    "    'CT':'Connecticut',\n",
    "    'DE':'Delaware',\n",
    "    'DC':'District of Columbia',\n",
    "    'FL':'Florida',\n",
    "    'GA':'Georgia',\n",
    "    'HI':'Hawaii',\n",
    "    'ID':'Idaho',\n",
    "    'IL':'Illinois',\n",
    "    'IN':'Indiana',\n",
    "    'IA':'Iowa',\n",
    "    'KS':'Kansas',\n",
    "    'KY':'Kentucky',\n",
    "    'LA':'Louisiana',\n",
    "    'ME':'Maine',\n",
    "    'MD':'Maryland',\n",
    "    'MA':'Massachusetts',\n",
    "    'MI':'Michigan',\n",
    "    'MN':'Minnesota',\n",
    "    'MS':'Mississippi',\n",
    "    'MO':'Missouri',\n",
    "    'MT':'Montana',\n",
    "    'NE':'Nebraska',\n",
    "    'NV':'Nevada',\n",
    "    'NH':'New Hampshire',\n",
    "    'NJ':'New Jersey',\n",
    "    'NM':'New Mexico',\n",
    "    'NY':'New York',\n",
    "    'NC':'North Carolina',\n",
    "    'ND':'North Dakota',\n",
    "    'OH':'Ohio',\n",
    "    'OK':'Oklahoma',\n",
    "    'OR':'Oregon',\n",
    "    'PA':'Pennsylvania',\n",
    "    'RI':'Rhode Island',\n",
    "    'SC':'South Carolina',\n",
    "    'SD':'South Dakota',\n",
    "    'TN':'Tennessee',\n",
    "    'TX':'Texas',\n",
    "    'UT':'Utah',\n",
    "    'VT':'Vermont',\n",
    "    'VA':'Virginia',\n",
    "    'WA':'Washington',\n",
    "    'WV':'West Virginia',\n",
    "    'WI':'Wisconsin',\n",
    "    'WY':'Wyoming'\n",
    "}"
   ]
  },
  {
   "cell_type": "code",
   "execution_count": null,
   "id": "22b91577",
   "metadata": {},
   "outputs": [],
   "source": [
    "state_pop_sum = {}\n",
    "for index, row in pop.iterrows():\n",
    "    state_abbr = row['State'] \n",
    "    tot_pop = row['population']  \n",
    "    \n",
    "    if state_abbr in state_pop_sum:\n",
    "        state_pop_sum[state_abbr] += tot_pop\n",
    "    else:\n",
    "        state_pop_sum[state_abbr] = tot_pop\n",
    "\n",
    "for state, pop_sum in state_pop_sum.items():\n",
    "    print(f\"{state}: {pop_sum}\")"
   ]
  },
  {
   "cell_type": "code",
   "execution_count": null,
   "id": "a1cb9879",
   "metadata": {},
   "outputs": [],
   "source": [
    "tot_pop = pd.DataFrame(list(state_pop_sum.items()), columns=['State', 'Total Population'])\n",
    "tot_pop.head()"
   ]
  },
  {
   "cell_type": "code",
   "execution_count": null,
   "id": "e875c3d5",
   "metadata": {},
   "outputs": [],
   "source": [
    "merged_pop = pd.merge(pop, tot_pop, on='State')\n",
    "merged_pop.head()"
   ]
  },
  {
   "cell_type": "code",
   "execution_count": null,
   "id": "df88a2f8",
   "metadata": {},
   "outputs": [],
   "source": [
    "merged_pop['pop %'] = (merged_pop['population'] / merged_pop['Total Population'])*100\n",
    "merged_pop.head()"
   ]
  },
  {
   "cell_type": "code",
   "execution_count": null,
   "id": "2f49271a",
   "metadata": {},
   "outputs": [],
   "source": [
    "merged_pop.to_csv('./Data/population_w_percent.csv', index = False)"
   ]
  },
  {
   "cell_type": "markdown",
   "id": "1d27058b-b4dc-4072-8deb-eff38b07d877",
   "metadata": {
    "tags": []
   },
   "source": [
    "## Covid Cases by County"
   ]
  },
  {
   "cell_type": "code",
   "execution_count": null,
   "id": "ea1924da-3e6d-48e3-8675-3838238479b0",
   "metadata": {
    "tags": []
   },
   "outputs": [],
   "source": [
    "cases = pd.read_csv('Ignore/covid_confirmed_usafacts.csv')\n",
    "cases.head()\n",
    "\n",
    "cases['County'] = cases['County Name'].str.replace(r'\\bCounty\\b', '', regex=True).str.strip()\n",
    "\n",
    "new_pop = pd.read_csv('./Data/population_w_percent.csv')\n",
    "new_pop['pop %'] = new_pop['pop %']/100\n",
    "pop_percent = new_pop.drop(columns=['County Name', 'State', 'population', 'Total Population'])\n"
   ]
  },
  {
   "cell_type": "code",
   "execution_count": null,
   "id": "9d05925e-865d-434c-a943-1313e5770991",
   "metadata": {},
   "outputs": [],
   "source": [
    "cases = pd.merge(cases, pop_percent, how = 'left', on='countyFIPS').copy()"
   ]
  },
  {
   "cell_type": "code",
   "execution_count": null,
   "id": "309f6a86-0123-414c-8d8e-13e225cb17a3",
   "metadata": {},
   "outputs": [],
   "source": [
    "cases_2020 = cases[['countyFIPS', 'County', 'State', 'StateFIPS', '2020-12-31', 'pop %']].copy()\n",
    "cases_2020.rename(columns = {'2020-12-31': 'cases_2020', 'pop %': 'pop_per'}, inplace =True)"
   ]
  },
  {
   "cell_type": "code",
   "execution_count": null,
   "id": "20c2c002-90f8-4a16-8238-d155c1f3c7dd",
   "metadata": {},
   "outputs": [],
   "source": [
    "for state_abbr in state_abbreviations:\n",
    "    # Calculate total_unallocated for the current state\n",
    "    total_unallocated = cases_2020.loc[\n",
    "        (cases_2020['State'] == state_abbr) & (cases_2020['County'] == 'Statewide Unallocated'),\n",
    "        'cases_2020'\n",
    "    ].values[0]\n",
    "    \n",
    "    county_list = cases_2020.loc[cases_2020['State'] == state_abbr, 'County'].unique()\n",
    "    \n",
    "    for county in county_list:\n",
    "        cases_2020.loc[\n",
    "            (cases_2020['State'] == state_abbr) & (cases_2020['County'] == county),\n",
    "            'cases_2020'\n",
    "        ] += total_unallocated * cases_2020.loc[\n",
    "            (cases_2020['State'] == state_abbr) & (cases_2020['County'] == county),\n",
    "            'pop_per'\n",
    "        ]\n",
    "        \n",
    "cases_2020 = cases_2020.drop_duplicates()"
   ]
  },
  {
   "cell_type": "code",
   "execution_count": null,
   "id": "782b82f1-270c-4a3c-9aa4-2a7d31e756ea",
   "metadata": {},
   "outputs": [],
   "source": [
    "cases_2021 = cases[['countyFIPS', 'County', 'State', 'StateFIPS', '2021-12-31', 'pop %']].copy()\n",
    "cases_2021.rename(columns = {'2021-12-31': 'cases_2021', 'pop %': 'pop_per'}, inplace =True)\n",
    "\n",
    "for state_abbr in state_abbreviations:\n",
    "    # Calculate total_unallocated for the current state\n",
    "    total_unallocated = cases_2021.loc[\n",
    "        (cases_2021['State'] == state_abbr) & (cases_2021['County'] == 'Statewide Unallocated'),\n",
    "        'cases_2021'\n",
    "    ].values[0]\n",
    "    \n",
    "    county_list = cases_2021.loc[cases_2021['State'] == state_abbr, 'County'].unique()\n",
    "    \n",
    "    for county in county_list:\n",
    "        cases_2021.loc[\n",
    "            (cases_2021['State'] == state_abbr) & (cases_2021['County'] == county),\n",
    "            'cases_2021'\n",
    "        ] += total_unallocated * cases_2021.loc[\n",
    "            (cases_2021['State'] == state_abbr) & (cases_2021['County'] == county),\n",
    "            'pop_per'\n",
    "        ]\n",
    "\n",
    "cases_2021 = cases_2021.drop_duplicates()       "
   ]
  },
  {
   "cell_type": "code",
   "execution_count": null,
   "id": "c43a5fb9-dd50-4515-a97a-15e55138f7cd",
   "metadata": {},
   "outputs": [],
   "source": [
    "cases_2022 = cases[['countyFIPS', 'County', 'State', 'StateFIPS', '2022-12-31', 'pop %']].copy()\n",
    "cases_2022.rename(columns = {'2022-12-31': 'cases_2022', 'pop %': 'pop_per'}, inplace =True)"
   ]
  },
  {
   "cell_type": "code",
   "execution_count": null,
   "id": "85f7404c-b03b-45d6-b502-2254a2d9d18f",
   "metadata": {},
   "outputs": [],
   "source": [
    "for state_abbr in state_abbreviations:\n",
    "    # Calculate total_unallocated for the current state\n",
    "    total_unallocated = cases_2022.loc[\n",
    "        (cases_2022['State'] == state_abbr) & (cases_2022['County'] == 'Statewide Unallocated'),\n",
    "        'cases_2022'\n",
    "    ].values[0]\n",
    "    \n",
    "    county_list = cases_2022.loc[cases_2022['State'] == state_abbr, 'County'].unique()\n",
    "    \n",
    "    for county in county_list:\n",
    "        cases_2022.loc[\n",
    "            (cases_2022['State'] == state_abbr) & (cases_2022['County'] == county),\n",
    "            'cases_2022'\n",
    "        ] += total_unallocated * cases_2022.loc[\n",
    "            (cases_2022['State'] == state_abbr) & (cases_2022['County'] == county),\n",
    "            'pop_per'\n",
    "        ]\n",
    "cases_2022 = cases_2022.drop_duplicates()\n",
    "\n",
    "merged_cases = pd.merge(cases_2020, cases_2021, how='left', on='countyFIPS')\n",
    "county_cases = pd.merge(merged_cases, cases_2022, how='left', on='countyFIPS')\n",
    "\n",
    "county_cases.drop(columns = ['County','State', 'StateFIPS', 'pop_per_x', 'County_y', 'State_y', 'StateFIPS_y',\n",
    "                  'pop_per_y'], inplace=True)\n",
    "county_cases.head()"
   ]
  },
  {
   "cell_type": "code",
   "execution_count": null,
   "id": "74b55f5f-2e3e-437d-bcee-19662d5f765f",
   "metadata": {},
   "outputs": [],
   "source": [
    "columns_to_check_duplicates = ['countyFIPS', 'County_x', 'State_x', 'StateFIPS_x']\n",
    "county_cases.drop_duplicates(subset=columns_to_check_duplicates, keep='first', inplace=True)\n",
    "county_cases.rename(columns = {'County_x' : 'County', 'State_x': 'State', 'StateFIPS_x': 'StateFIPS'}, inplace =True)\n"
   ]
  },
  {
   "cell_type": "code",
   "execution_count": null,
   "id": "39eea4d1-4689-4c02-956a-b3a9861df5d0",
   "metadata": {},
   "outputs": [],
   "source": [
    "county_cases = county_cases.drop_duplicates()\n",
    "county_cases.shape"
   ]
  },
  {
   "cell_type": "code",
   "execution_count": null,
   "id": "09e676fc-eb4d-4069-a95a-748d0b991490",
   "metadata": {},
   "outputs": [],
   "source": [
    "rank = pd.read_csv('./Data/2019 County Health Rankings Data - cleaned.csv')"
   ]
  },
  {
   "cell_type": "code",
   "execution_count": null,
   "id": "72a1eb48-9e51-47fc-a545-fa50da7783f1",
   "metadata": {},
   "outputs": [],
   "source": []
  },
  {
   "cell_type": "markdown",
   "id": "39a5c694",
   "metadata": {},
   "source": [
    "## Deaths by County"
   ]
  },
  {
   "cell_type": "code",
   "execution_count": null,
   "id": "ae1eac74",
   "metadata": {},
   "outputs": [],
   "source": [
    "deaths = pd.read_csv('./Ignore/covid_deaths_usafacts.csv')\n",
    "deaths"
   ]
  },
  {
   "cell_type": "code",
   "execution_count": null,
   "id": "d9a0531d",
   "metadata": {},
   "outputs": [],
   "source": [
    "deaths['County'] = deaths['County Name'].str.replace(r'\\bCounty\\b', '', regex=True).str.strip()\n",
    "deaths = pd.merge(deaths, pop_percent, how = 'left', on='countyFIPS').copy()\n"
   ]
  },
  {
   "cell_type": "code",
   "execution_count": null,
   "id": "18f3a66a",
   "metadata": {},
   "outputs": [],
   "source": [
    "deaths_2020 = deaths[['countyFIPS', 'County', 'State', 'StateFIPS', '2020-12-31', 'pop %']].copy()\n",
    "deaths_2020.rename(columns = {'2020-12-31': 'deaths_2020', 'pop %': 'pop_per'}, inplace =True)\n",
    "for state_abbr in state_abbreviations:\n",
    "    # Calculate total_unallocated for the current state\n",
    "    total_unallocated = deaths_2020.loc[\n",
    "        (deaths_2020['State'] == state_abbr) & (deaths_2020['County'] == 'Statewide Unallocated'),\n",
    "        'deaths_2020'\n",
    "    ].values[0]\n",
    "    \n",
    "    county_list = deaths_2020.loc[deaths_2020['State'] == state_abbr, 'County'].unique()\n",
    "    \n",
    "    for county in county_list:\n",
    "        deaths_2020.loc[\n",
    "            (deaths_2020['State'] == state_abbr) & (deaths_2020['County'] == county),\n",
    "            'deaths_2020'\n",
    "        ] += total_unallocated * deaths_2020.loc[\n",
    "            (deaths_2020['State'] == state_abbr) & (deaths_2020['County'] == county),\n",
    "            'pop_per'\n",
    "        ]"
   ]
  },
  {
   "cell_type": "code",
   "execution_count": null,
   "id": "1215565c",
   "metadata": {},
   "outputs": [],
   "source": [
    "deaths_2020 = deaths_2020.drop_duplicates()\n",
    "\n",
    "deaths_2021 = deaths[['countyFIPS', 'County', 'State', 'StateFIPS', '2021-12-31', 'pop %']].copy()\n",
    "deaths_2021.rename(columns = {'2021-12-31': 'deaths_2021', 'pop %': 'pop_per'}, inplace =True)\n",
    "for state_abbr in state_abbreviations:\n",
    "    # Calculate total_unallocated for the current state\n",
    "    total_unallocated = deaths_2021.loc[\n",
    "        (deaths_2021['State'] == state_abbr) & (deaths_2021['County'] == 'Statewide Unallocated'),\n",
    "        'deaths_2021'\n",
    "    ].values[0]\n",
    "    \n",
    "    county_list = deaths_2021.loc[deaths_2021['State'] == state_abbr, 'County'].unique()\n",
    "    \n",
    "    for county in county_list:\n",
    "        deaths_2021.loc[\n",
    "            (deaths_2021['State'] == state_abbr) & (deaths_2021['County'] == county),\n",
    "            'deaths_2021'\n",
    "        ] += total_unallocated * deaths_2021.loc[\n",
    "            (deaths_2021['State'] == state_abbr) & (deaths_2021['County'] == county),\n",
    "            'pop_per'\n",
    "        ]\n",
    "\n",
    "deaths_2021 = deaths_2021.drop_duplicates()\n"
   ]
  },
  {
   "cell_type": "code",
   "execution_count": null,
   "id": "5d363f94-67a2-4a4a-a6e2-eab728eccc33",
   "metadata": {},
   "outputs": [],
   "source": [
    "deaths_2022 = deaths[['countyFIPS', 'County', 'State', 'StateFIPS', '2022-12-31', 'pop %']].copy()\n",
    "deaths_2022.rename(columns = {'2022-12-31': 'deaths_2022', 'pop %': 'pop_per'}, inplace =True)\n",
    "for state_abbr in state_abbreviations:\n",
    "    # Calculate total_unallocated for the current state\n",
    "    total_unallocated = deaths_2022.loc[\n",
    "        (deaths_2022['State'] == state_abbr) & (deaths_2022['County'] == 'Statewide Unallocated'),\n",
    "        'deaths_2022'\n",
    "    ].values[0]\n",
    "    \n",
    "    county_list = deaths_2022.loc[deaths_2022['State'] == state_abbr, 'County'].unique()\n",
    "    \n",
    "    for county in county_list:\n",
    "        deaths_2022.loc[\n",
    "            (deaths_2022['State'] == state_abbr) & (deaths_2022['County'] == county),\n",
    "            'deaths_2022'\n",
    "        ] += total_unallocated * deaths_2022.loc[\n",
    "            (deaths_2022['State'] == state_abbr) & (deaths_2022['County'] == county),\n",
    "            'pop_per'\n",
    "        ]\n",
    "        \n",
    "deaths_2022 = deaths_2022.drop_duplicates()\n"
   ]
  },
  {
   "cell_type": "code",
   "execution_count": null,
   "id": "a8348055-3766-45b8-8c81-426cb4f53234",
   "metadata": {},
   "outputs": [],
   "source": [
    "merged_deaths = pd.merge(deaths_2020, deaths_2021, how='left', on='countyFIPS')\n",
    "county_deaths = pd.merge(merged_deaths, deaths_2022, how='left', on='countyFIPS')\n",
    "county_deaths.drop(columns = ['County','State', 'StateFIPS', 'pop_per_x', 'County_y', 'State_y', 'StateFIPS_y',\n",
    "                  'pop_per_y'], inplace=True)\n",
    "county_deaths.head()"
   ]
  },
  {
   "cell_type": "code",
   "execution_count": null,
   "id": "408fb9bd-f90c-47fb-bd09-889e4c900f47",
   "metadata": {},
   "outputs": [],
   "source": [
    "columns_to_check_duplicates = ['countyFIPS', 'County_x', 'State_x', 'StateFIPS_x']\n",
    "\n",
    "county_deaths.drop_duplicates(subset=columns_to_check_duplicates, keep='first', inplace=True)\n",
    "\n",
    "county_deaths.rename(columns = {'County_x' : 'County', 'State_x': 'State', 'StateFIPS_x': 'StateFIPS'}, inplace =True)\n",
    "\n",
    "county_deaths = county_deaths.drop_duplicates()\n",
    "county_deaths.head()"
   ]
  },
  {
   "cell_type": "code",
   "execution_count": null,
   "id": "402fb711-dd16-408b-b3d4-c667f2effce2",
   "metadata": {},
   "outputs": [],
   "source": [
    "print(county_deaths.shape)\n",
    "print(county_cases.shape)"
   ]
  },
  {
   "cell_type": "code",
   "execution_count": null,
   "id": "068a7c78-14bc-4e06-ab91-ca389b31da70",
   "metadata": {},
   "outputs": [],
   "source": [
    "county_cases.drop(columns = ['StateFIPS','pop_per'], inplace=True)\n",
    "county_deaths.drop(columns = ['County', 'countyFIPS', 'State','StateFIPS','pop_per'], inplace=True)"
   ]
  },
  {
   "cell_type": "code",
   "execution_count": null,
   "id": "4a536ebb-8e8a-4a21-adc2-d1614b55d5ff",
   "metadata": {},
   "outputs": [],
   "source": [
    "cases_deaths = pd.concat([county_cases,county_deaths], axis=1, join='outer')\n"
   ]
  },
  {
   "cell_type": "code",
   "execution_count": null,
   "id": "8b4070ed-7053-4add-89f5-1c2ee7847568",
   "metadata": {},
   "outputs": [],
   "source": [
    "cases_deaths.rename(columns={'countyFIPS': 'FIPS'},inplace=True)"
   ]
  },
  {
   "cell_type": "code",
   "execution_count": null,
   "id": "0b64b77f-fbfa-4586-96e7-d95759465db8",
   "metadata": {},
   "outputs": [],
   "source": [
    "rcd = pd.merge(rank,cases_deaths, how='inner', on='FIPS')\n",
    "rcd.shape"
   ]
  },
  {
   "cell_type": "code",
   "execution_count": null,
   "id": "e3fe60f2-7272-4cb8-a9db-e6e90eb72b3c",
   "metadata": {},
   "outputs": [],
   "source": [
    "mask = pd.read_csv('./Data/county_mask_mandata.csv')\n",
    "#We can't drop state, some states have counties with the same name...\n",
    "mask = mask.rename(columns = {'Count' : 'Masks'})\n",
    "mask['County'] = mask['County'].str.replace(r'\\bCounty\\b', '', regex=True).str.strip()\n"
   ]
  },
  {
   "cell_type": "code",
   "execution_count": null,
   "id": "86b85031-9f17-45ec-9c6e-73faeecee711",
   "metadata": {},
   "outputs": [],
   "source": []
  }
 ],
 "metadata": {
  "kernelspec": {
   "display_name": "Python 3 (ipykernel)",
   "language": "python",
   "name": "python3"
  },
  "language_info": {
   "codemirror_mode": {
    "name": "ipython",
    "version": 3
   },
   "file_extension": ".py",
   "mimetype": "text/x-python",
   "name": "python",
   "nbconvert_exporter": "python",
   "pygments_lexer": "ipython3",
   "version": "3.11.4"
  }
 },
 "nbformat": 4,
 "nbformat_minor": 5
}
