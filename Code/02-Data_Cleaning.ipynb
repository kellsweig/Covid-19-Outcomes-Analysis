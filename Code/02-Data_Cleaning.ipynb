{
 "cells": [
  {
   "cell_type": "markdown",
   "id": "fc87a0e6",
   "metadata": {},
   "source": [
    "### Imports"
   ]
  },
  {
   "cell_type": "code",
   "execution_count": 2,
   "id": "2a14f001",
   "metadata": {},
   "outputs": [],
   "source": [
    "import pandas as pd\n",
    "import numpy as np"
   ]
  },
  {
   "cell_type": "markdown",
   "id": "adbb5fef",
   "metadata": {},
   "source": [
    "# State Level Data"
   ]
  },
  {
   "cell_type": "markdown",
   "id": "3b821983-7d33-4aeb-9905-bef359669fde",
   "metadata": {
    "tags": []
   },
   "source": [
    "## Pre-Existing Health Conditions Datasets:"
   ]
  },
  {
   "cell_type": "markdown",
   "id": "f9b73951-0f87-475c-9382-8217c7c3f016",
   "metadata": {
    "tags": []
   },
   "source": [
    "#### For pre-existing conditions & immunizations:\n",
    "1. choose crude or adj\n",
    "2. drop old index\n",
    "3. rename data value to question\n",
    "4. drop year and question columns\n",
    "5. For total number of incident data -> after concatening with population data, convert to rate"
   ]
  },
  {
   "cell_type": "markdown",
   "id": "a0cd00d9-7dc1-400d-a4c6-5b67548ca20d",
   "metadata": {},
   "source": [
    "*Crude are the raw numbers. Adj are these numbers adjusted/ standardized based on population's age distribution. We can retain the crude numbers however the age adjusted numbers will probably be better for cross comparison*"
   ]
  },
  {
   "cell_type": "code",
   "execution_count": null,
   "id": "dd7a2ec1-a1b7-4aca-abcc-8c848d8a8faa",
   "metadata": {},
   "outputs": [],
   "source": [
    "asthma = pd.read_csv('Data/Raw/asthma_adj.csv')\n",
    "asthma.rename(columns={\n",
    "    'DataValue':'asthma_prevalence',\n",
    "    'LocationDesc':'Location'}, inplace=True)"
   ]
  },
  {
   "cell_type": "code",
   "execution_count": null,
   "id": "24bab1cd-be3a-4138-9769-dda60e2ac46b",
   "metadata": {},
   "outputs": [],
   "source": [
    "asthma.drop(columns=['YearStart', 'Question'], inplace=True)\n",
    "asthma.head()"
   ]
  },
  {
   "cell_type": "code",
   "execution_count": null,
   "id": "33acf70c-0794-42ca-ab9a-8316cdfbcf92",
   "metadata": {},
   "outputs": [],
   "source": [
    "high_bp = pd.read_csv('Data/Raw/high_blood_pressure_adj.csv')\n",
    "high_bp.head()"
   ]
  },
  {
   "cell_type": "code",
   "execution_count": null,
   "id": "656ff27e-843a-4ecf-865b-26e358d64dec",
   "metadata": {},
   "outputs": [],
   "source": [
    "high_bp.rename(columns={\n",
    "    'DataValue':'high_bp_prevalence',\n",
    "    'LocationDesc':'Location'}, inplace=True)\n",
    "high_bp.drop(columns=['YearStart', 'Question'], inplace=True)\n",
    "high_bp.head()"
   ]
  },
  {
   "cell_type": "code",
   "execution_count": null,
   "id": "8decc865-9a16-4efa-a3c1-7b77630fe6fd",
   "metadata": {},
   "outputs": [],
   "source": [
    "cardiac_mortality = pd.read_csv('Data/Raw/cardiac_mortality_adj.csv')\n",
    "cardiac_mortality.rename(columns={\n",
    "    'DataValue':'cardiac_mortality_rate',\n",
    "    'LocationDesc':'Location'}, inplace=True)\n",
    "cardiac_mortality.drop(columns=['YearStart', 'Question'], inplace=True)\n",
    "cardiac_mortality.head()"
   ]
  },
  {
   "cell_type": "code",
   "execution_count": null,
   "id": "2fbb109b-609c-4f10-9b56-79ba851ca969",
   "metadata": {},
   "outputs": [],
   "source": [
    "diabetes = pd.read_csv('Data/Raw/diabetes_adj.csv')\n",
    "diabetes.head()\n",
    "diabetes.rename(columns={\n",
    "    'DataValue':'diabetes_prevalence',\n",
    "    'LocationDesc':'Location'}, inplace=True)"
   ]
  },
  {
   "cell_type": "code",
   "execution_count": null,
   "id": "00f3ceec-03b3-42e2-a56f-dfadeaf18fb1",
   "metadata": {},
   "outputs": [],
   "source": [
    "diabetes.drop(columns=['YearStart', 'Question'], inplace=True)\n",
    "diabetes.head()"
   ]
  },
  {
   "cell_type": "code",
   "execution_count": null,
   "id": "cc0bc56e-35ae-4c4f-9480-61448d69cc85",
   "metadata": {},
   "outputs": [],
   "source": [
    "kidney = pd.read_csv('Data/Raw/kidney_adj.csv')\n",
    "kidney.head()"
   ]
  },
  {
   "cell_type": "code",
   "execution_count": null,
   "id": "685b69b8-1014-4575-b65d-dc93bec0c1dc",
   "metadata": {},
   "outputs": [],
   "source": [
    "kidney.rename(columns={\n",
    "    'DataValue':'kidney_disease_prevalence',\n",
    "    'LocationDesc':'Location'}, inplace=True)"
   ]
  },
  {
   "cell_type": "code",
   "execution_count": null,
   "id": "ee6ddf02-6013-4ba1-abd7-c19e1d52b582",
   "metadata": {},
   "outputs": [],
   "source": [
    "kidney.drop(columns=['YearStart', 'Question'], inplace=True)\n",
    "kidney.head()"
   ]
  },
  {
   "cell_type": "code",
   "execution_count": null,
   "id": "149dbded-bf03-46ed-b95f-82babe85f6dc",
   "metadata": {},
   "outputs": [],
   "source": [
    "copd = pd.read_csv('Data/Raw/copd_adj.csv')\n",
    "copd.rename(columns={\n",
    "    'DataValue':'copd_prevalence',\n",
    "    'LocationDesc':'Location'}, inplace=True)\n",
    "copd.drop(columns=['YearStart', 'Question'], inplace=True)\n",
    "copd.head()"
   ]
  },
  {
   "cell_type": "code",
   "execution_count": null,
   "id": "519abc88-8598-48df-b2ec-444b88f07244",
   "metadata": {},
   "outputs": [],
   "source": [
    "immun = pd.read_csv('Data/Raw/immun_adj.csv')\n",
    "immun.rename(columns={\n",
    "    'DataValue':'flu_vaccination_rate_2019',\n",
    "    'LocationDesc':'Location'}, inplace=True)\n",
    "immun.drop(columns=['YearStart', 'Question'], inplace=True)\n",
    "immun.head()"
   ]
  },
  {
   "cell_type": "code",
   "execution_count": null,
   "id": "d0a57051-8959-46f6-a542-ac9de16dc6dc",
   "metadata": {},
   "outputs": [],
   "source": [
    "pre_con = pd.merge(immun, asthma, on='Location', how='inner')\n",
    "\n",
    "dataframes_to_merge = [cardiac_mortality, high_bp, copd, kidney, diabetes]\n",
    "\n",
    "for df in dataframes_to_merge:\n",
    "    pre_con = pd.merge(pre_con, df, on='Location', how='inner')"
   ]
  },
  {
   "cell_type": "code",
   "execution_count": null,
   "id": "3c712795-762d-41b0-9fc0-b1672c1563f3",
   "metadata": {},
   "outputs": [],
   "source": [
    "pre_con.head()"
   ]
  },
  {
   "cell_type": "code",
   "execution_count": null,
   "id": "3d866eb1-69c0-40f4-a79b-c4bd67e8d633",
   "metadata": {},
   "outputs": [],
   "source": [
    "pre_con.to_csv('Data/cleaned_pre_condtions.csv', index = True)"
   ]
  },
  {
   "cell_type": "markdown",
   "id": "2bc2f9f4-0195-45d0-8194-e555758e7ace",
   "metadata": {},
   "source": [
    "## Insurance rates by state"
   ]
  },
  {
   "cell_type": "code",
   "execution_count": null,
   "id": "4700fabd-895e-4bdb-a5b5-28c66d159f20",
   "metadata": {},
   "outputs": [],
   "source": [
    "insur_2019 = pd.read_csv('Data/Raw/2019_insurance.csv')\n",
    "insur_2019.head()"
   ]
  },
  {
   "cell_type": "code",
   "execution_count": null,
   "id": "1983eb0c-d612-4379-8386-7adfb106fc30",
   "metadata": {},
   "outputs": [],
   "source": [
    "insur_2021 = pd.read_csv('Data/Raw/2021_insurance.csv')"
   ]
  },
  {
   "cell_type": "code",
   "execution_count": null,
   "id": "6d3ddce6-af9f-4fb9-9d56-dca215ff1520",
   "metadata": {},
   "outputs": [],
   "source": [
    "insur = pd.merge(insur_2019, insur_2021, how ='inner', on ='Location', suffixes=('_2019', '_2021'))\n",
    "insur.head()"
   ]
  },
  {
   "cell_type": "code",
   "execution_count": null,
   "id": "60086d33-de9d-4872-8df6-b0e0e659483a",
   "metadata": {},
   "outputs": [],
   "source": [
    "insur.drop(columns =['Year_2019', 'Year_2021'], inplace=True)"
   ]
  },
  {
   "cell_type": "code",
   "execution_count": null,
   "id": "e2108ba6-4606-4b05-af5b-386289e7f7ca",
   "metadata": {},
   "outputs": [],
   "source": [
    "insur.to_csv('Data/cleaned_insur.csv', index = False)"
   ]
  },
  {
   "cell_type": "code",
   "execution_count": null,
   "id": "0a106eb6-72b4-4ca4-b4ae-8113bfbde6b5",
   "metadata": {},
   "outputs": [],
   "source": []
  },
  {
   "cell_type": "code",
   "execution_count": null,
   "id": "63e0dee0-1e1e-4978-a8bc-06769929d2fc",
   "metadata": {},
   "outputs": [],
   "source": []
  },
  {
   "cell_type": "code",
   "execution_count": null,
   "id": "c68888e3-052b-4f5e-8d0a-a86d658a4d73",
   "metadata": {},
   "outputs": [],
   "source": []
  },
  {
   "cell_type": "code",
   "execution_count": null,
   "id": "5bc576de-be1e-456a-b404-010b4335d4c6",
   "metadata": {},
   "outputs": [],
   "source": []
  },
  {
   "cell_type": "markdown",
   "id": "d2114c2c",
   "metadata": {},
   "source": [
    "### Covid Deaths by State"
   ]
  },
  {
   "cell_type": "code",
   "execution_count": null,
   "id": "63af84e5-6baf-4295-9e26-c3282e31ec61",
   "metadata": {},
   "outputs": [],
   "source": [
    "deaths_covid = pd.read_csv('"
   ]
  },
  {
   "cell_type": "code",
   "execution_count": null,
   "id": "d70b0fe9",
   "metadata": {},
   "outputs": [],
   "source": [
    "deaths_covid = deaths_covid.pivot(index='State', columns='Location', \n",
    "                                  values=['All causes', 'covid'])\n",
    "\n",
    "deaths_covid.columns = ['_'.join(map(str, col)) for col in deaths_covid.columns]\n",
    "deaths_covid = deaths_covid.reset_index()\n",
    "deaths_covid.rename(columns={'State': 'Location'}, inplace=True)\n",
    "deaths_covid.rename(columns={\n",
    "    'All causes_2020': 'all_causes_2020',\n",
    "    'All causes_2021': 'all_causes_2021',\n",
    "    'All causes_2022': 'all_causes_2022',\n",
    "    'covid_2020': 'covid_2020',\n",
    "    'covid_2021': 'covid_2021',\n",
    "    'covid_2022': 'covid_2022',\n",
    "}, inplace=True)\n",
    "deaths_covid.head()"
   ]
  },
  {
   "cell_type": "code",
   "execution_count": null,
   "id": "2bc55618",
   "metadata": {},
   "outputs": [],
   "source": []
  },
  {
   "cell_type": "markdown",
   "id": "1db5b5cc-b941-4ce7-b1b3-b44dea29fb56",
   "metadata": {},
   "source": [
    "# Merging the Cleaned State Data into 1 df"
   ]
  },
  {
   "cell_type": "code",
   "execution_count": null,
   "id": "8a45da91-726b-44eb-bd99-35c81496a79b",
   "metadata": {},
   "outputs": [],
   "source": [
    "merged_data.drop(columns=['Unnamed: 0'], inplace=True)\n",
    "merged_data.head()"
   ]
  },
  {
   "cell_type": "code",
   "execution_count": null,
   "id": "78d44119-2aef-4036-b03b-96a83abb8376",
   "metadata": {},
   "outputs": [],
   "source": []
  },
  {
   "cell_type": "markdown",
   "id": "40381ec4",
   "metadata": {},
   "source": [
    "# County level Data"
   ]
  },
  {
   "cell_type": "code",
   "execution_count": null,
   "id": "e52f467b",
   "metadata": {},
   "outputs": [],
   "source": []
  },
  {
   "cell_type": "code",
   "execution_count": null,
   "id": "6f62e573",
   "metadata": {},
   "outputs": [],
   "source": []
  },
  {
   "cell_type": "code",
   "execution_count": null,
   "id": "48b15168",
   "metadata": {},
   "outputs": [],
   "source": []
  },
  {
   "cell_type": "code",
   "execution_count": null,
   "id": "187dc5a1",
   "metadata": {},
   "outputs": [],
   "source": []
  },
  {
   "cell_type": "code",
   "execution_count": null,
   "id": "add7936f",
   "metadata": {},
   "outputs": [],
   "source": []
  },
  {
   "cell_type": "markdown",
   "id": "c1945d94",
   "metadata": {},
   "source": [
    "### Merging Data"
   ]
  },
  {
   "cell_type": "code",
   "execution_count": 6,
   "id": "48264128",
   "metadata": {},
   "outputs": [
    {
     "data": {
      "text/html": [
       "<div>\n",
       "<style scoped>\n",
       "    .dataframe tbody tr th:only-of-type {\n",
       "        vertical-align: middle;\n",
       "    }\n",
       "\n",
       "    .dataframe tbody tr th {\n",
       "        vertical-align: top;\n",
       "    }\n",
       "\n",
       "    .dataframe thead th {\n",
       "        text-align: right;\n",
       "    }\n",
       "</style>\n",
       "<table border=\"1\" class=\"dataframe\">\n",
       "  <thead>\n",
       "    <tr style=\"text-align: right;\">\n",
       "      <th></th>\n",
       "      <th>FIPS_x</th>\n",
       "      <th>County</th>\n",
       "      <th>Years of Potential Life Lost Rate (premature death)</th>\n",
       "      <th>YPLL Rate (Black)</th>\n",
       "      <th>YPLL Rate (Hispanic)</th>\n",
       "      <th>YPLL Rate (White)</th>\n",
       "      <th>% Fair/Poor Health</th>\n",
       "      <th>percent_smokers</th>\n",
       "      <th>percent_obese</th>\n",
       "      <th>Food Environment Index</th>\n",
       "      <th>...</th>\n",
       "      <th>cases_2020</th>\n",
       "      <th>cases_2021</th>\n",
       "      <th>cases_2022</th>\n",
       "      <th>deaths_2020</th>\n",
       "      <th>deaths_2021</th>\n",
       "      <th>deaths_2022</th>\n",
       "      <th>Masks</th>\n",
       "      <th>FIPS_y</th>\n",
       "      <th>Administered_Dose1_Pop_Pct</th>\n",
       "      <th>Administered_Dose1_Recip_65PlusPop_Pct</th>\n",
       "    </tr>\n",
       "  </thead>\n",
       "  <tbody>\n",
       "    <tr>\n",
       "      <th>0</th>\n",
       "      <td>1001</td>\n",
       "      <td>Autauga</td>\n",
       "      <td>8824.0</td>\n",
       "      <td>10471.0</td>\n",
       "      <td>NaN</td>\n",
       "      <td>8707.0</td>\n",
       "      <td>18</td>\n",
       "      <td>19</td>\n",
       "      <td>38</td>\n",
       "      <td>7.2</td>\n",
       "      <td>...</td>\n",
       "      <td>4190.0</td>\n",
       "      <td>11018.0</td>\n",
       "      <td>18961.0</td>\n",
       "      <td>48.0</td>\n",
       "      <td>160.0</td>\n",
       "      <td>230.0</td>\n",
       "      <td>267.0</td>\n",
       "      <td>1001</td>\n",
       "      <td>42.2</td>\n",
       "      <td>73.8</td>\n",
       "    </tr>\n",
       "    <tr>\n",
       "      <th>1</th>\n",
       "      <td>1003</td>\n",
       "      <td>Baldwin</td>\n",
       "      <td>7225.0</td>\n",
       "      <td>10042.0</td>\n",
       "      <td>3087.0</td>\n",
       "      <td>7278.0</td>\n",
       "      <td>18</td>\n",
       "      <td>17</td>\n",
       "      <td>31</td>\n",
       "      <td>8.0</td>\n",
       "      <td>...</td>\n",
       "      <td>13601.0</td>\n",
       "      <td>39911.0</td>\n",
       "      <td>67496.0</td>\n",
       "      <td>161.0</td>\n",
       "      <td>593.0</td>\n",
       "      <td>719.0</td>\n",
       "      <td>267.0</td>\n",
       "      <td>1003</td>\n",
       "      <td>53.2</td>\n",
       "      <td>89.9</td>\n",
       "    </tr>\n",
       "    <tr>\n",
       "      <th>2</th>\n",
       "      <td>1005</td>\n",
       "      <td>Barbour</td>\n",
       "      <td>9586.0</td>\n",
       "      <td>11333.0</td>\n",
       "      <td>NaN</td>\n",
       "      <td>7310.0</td>\n",
       "      <td>26</td>\n",
       "      <td>22</td>\n",
       "      <td>44</td>\n",
       "      <td>5.6</td>\n",
       "      <td>...</td>\n",
       "      <td>1514.0</td>\n",
       "      <td>3860.0</td>\n",
       "      <td>7027.0</td>\n",
       "      <td>32.0</td>\n",
       "      <td>81.0</td>\n",
       "      <td>103.0</td>\n",
       "      <td>267.0</td>\n",
       "      <td>1005</td>\n",
       "      <td>44.5</td>\n",
       "      <td>75.3</td>\n",
       "    </tr>\n",
       "    <tr>\n",
       "      <th>3</th>\n",
       "      <td>1007</td>\n",
       "      <td>Bibb</td>\n",
       "      <td>11784.0</td>\n",
       "      <td>14813.0</td>\n",
       "      <td>NaN</td>\n",
       "      <td>11328.0</td>\n",
       "      <td>20</td>\n",
       "      <td>20</td>\n",
       "      <td>38</td>\n",
       "      <td>7.6</td>\n",
       "      <td>...</td>\n",
       "      <td>1834.0</td>\n",
       "      <td>4533.0</td>\n",
       "      <td>7692.0</td>\n",
       "      <td>46.0</td>\n",
       "      <td>95.0</td>\n",
       "      <td>108.0</td>\n",
       "      <td>267.0</td>\n",
       "      <td>1007</td>\n",
       "      <td>36.6</td>\n",
       "      <td>64.2</td>\n",
       "    </tr>\n",
       "    <tr>\n",
       "      <th>4</th>\n",
       "      <td>1009</td>\n",
       "      <td>Blount</td>\n",
       "      <td>10908.0</td>\n",
       "      <td>NaN</td>\n",
       "      <td>5620.0</td>\n",
       "      <td>11336.0</td>\n",
       "      <td>21</td>\n",
       "      <td>20</td>\n",
       "      <td>34</td>\n",
       "      <td>8.5</td>\n",
       "      <td>...</td>\n",
       "      <td>4641.0</td>\n",
       "      <td>11256.0</td>\n",
       "      <td>17731.0</td>\n",
       "      <td>63.0</td>\n",
       "      <td>198.0</td>\n",
       "      <td>260.0</td>\n",
       "      <td>267.0</td>\n",
       "      <td>1009</td>\n",
       "      <td>31.9</td>\n",
       "      <td>56.6</td>\n",
       "    </tr>\n",
       "  </tbody>\n",
       "</table>\n",
       "<p>5 rows × 83 columns</p>\n",
       "</div>"
      ],
      "text/plain": [
       "   FIPS_x   County  Years of Potential Life Lost Rate (premature death)  \\\n",
       "0    1001  Autauga                                             8824.0     \n",
       "1    1003  Baldwin                                             7225.0     \n",
       "2    1005  Barbour                                             9586.0     \n",
       "3    1007     Bibb                                            11784.0     \n",
       "4    1009   Blount                                            10908.0     \n",
       "\n",
       "   YPLL Rate (Black)  YPLL Rate (Hispanic)  YPLL Rate (White)  \\\n",
       "0            10471.0                   NaN             8707.0   \n",
       "1            10042.0                3087.0             7278.0   \n",
       "2            11333.0                   NaN             7310.0   \n",
       "3            14813.0                   NaN            11328.0   \n",
       "4                NaN                5620.0            11336.0   \n",
       "\n",
       "   % Fair/Poor Health  percent_smokers  percent_obese  Food Environment Index  \\\n",
       "0                  18               19             38                     7.2   \n",
       "1                  18               17             31                     8.0   \n",
       "2                  26               22             44                     5.6   \n",
       "3                  20               20             38                     7.6   \n",
       "4                  21               20             34                     8.5   \n",
       "\n",
       "   ...  cases_2020  cases_2021  cases_2022  deaths_2020  deaths_2021  \\\n",
       "0  ...      4190.0     11018.0     18961.0         48.0        160.0   \n",
       "1  ...     13601.0     39911.0     67496.0        161.0        593.0   \n",
       "2  ...      1514.0      3860.0      7027.0         32.0         81.0   \n",
       "3  ...      1834.0      4533.0      7692.0         46.0         95.0   \n",
       "4  ...      4641.0     11256.0     17731.0         63.0        198.0   \n",
       "\n",
       "   deaths_2022  Masks  FIPS_y  Administered_Dose1_Pop_Pct  \\\n",
       "0        230.0  267.0    1001                        42.2   \n",
       "1        719.0  267.0    1003                        53.2   \n",
       "2        103.0  267.0    1005                        44.5   \n",
       "3        108.0  267.0    1007                        36.6   \n",
       "4        260.0  267.0    1009                        31.9   \n",
       "\n",
       "   Administered_Dose1_Recip_65PlusPop_Pct  \n",
       "0                                    73.8  \n",
       "1                                    89.9  \n",
       "2                                    75.3  \n",
       "3                                    64.2  \n",
       "4                                    56.6  \n",
       "\n",
       "[5 rows x 83 columns]"
      ]
     },
     "execution_count": 6,
     "metadata": {},
     "output_type": "execute_result"
    }
   ],
   "source": [
    "df = pd.read_csv('../Data/Cleaned/county_df2.csv')\n",
    "df.head()"
   ]
  },
  {
   "cell_type": "code",
   "execution_count": 7,
   "id": "efc156d2",
   "metadata": {},
   "outputs": [],
   "source": [
    "# Drop rows that we will not be using 'Segregation index black/white',\n",
    "df.drop(columns = ['County', 'YPLL Rate (Black)', 'YPLL Rate (Hispanic)', 'YPLL Rate (White)', 'Number Uninsured', 'Number Primary Care Physicians', 'FIPS_y', 'Number pre-mature Deaths',\n",
    "                        'Preventable Hosp. Rate (Black)', 'Preventable Hosp. Rate (Hispanic)', 'Preventable Hosp. Rate (White)',  'Percent Vaccinated Flu (Black)', 'Percent Uninsured',\n",
    "                        'Percent  Vaccinated (Hispanic) Flu', 'Percent Vaccinated (White) Flu', 'Number Some College', 'Number Unemployed', 'Labor Force', 'PCP Ratio', \n",
    "                        '80th Percentile Income', '20th Percentile Income', '95% CI - Low', '95% CI - High', 'Life Expectancy (Black)', 'Life Expectancy (Hispanic)', \n",
    "                        'Life Expectancy (White)', 'Number HIV Cases', 'Household income (Black)', 'Household income (Hispanic)', 'Household income (White)'], inplace = True)"
   ]
  },
  {
   "cell_type": "code",
   "execution_count": 8,
   "id": "6bfa86e5",
   "metadata": {},
   "outputs": [
    {
     "data": {
      "text/plain": [
       "(1828, 47)"
      ]
     },
     "execution_count": 8,
     "metadata": {},
     "output_type": "execute_result"
    }
   ],
   "source": [
    "# Make FIPS index \n",
    "df.set_index('FIPS_x', inplace=True)\n",
    "\n",
    "# Dummify  Presence of water violation\n",
    "df['water'] = df['Presence of water violation'].map({'No': 0, 'Yes': 1})\n",
    "df.drop(columns = ['Presence of water violation', 'State'], inplace = True)\n",
    "\n",
    "# Set case and deaths\n",
    "df['cases'] = df['cases_2022']\n",
    "df['deaths'] = df['deaths_2022']\n",
    "df.drop(columns = ['cases_2020', 'cases_2021', 'cases_2022', 'deaths_2020', 'deaths_2021', 'deaths_2022'], inplace = True)\n",
    "\n",
    "# Drop NA values\n",
    "df.dropna(inplace=True)\n",
    "df.shape"
   ]
  },
  {
   "cell_type": "code",
   "execution_count": 9,
   "id": "29fe58a9-0ab5-4a26-8ba8-4fecffab60e6",
   "metadata": {
    "tags": []
   },
   "outputs": [],
   "source": [
    "df.to_csv('../Data/Cleaned/county_df3.csv')"
   ]
  },
  {
   "cell_type": "code",
   "execution_count": null,
   "id": "0f91387d-92ce-4024-94e6-5554e1c0666d",
   "metadata": {},
   "outputs": [],
   "source": []
  }
 ],
 "metadata": {
  "kernelspec": {
   "display_name": "Python 3 (ipykernel)",
   "language": "python",
   "name": "python3"
  },
  "language_info": {
   "codemirror_mode": {
    "name": "ipython",
    "version": 3
   },
   "file_extension": ".py",
   "mimetype": "text/x-python",
   "name": "python",
   "nbconvert_exporter": "python",
   "pygments_lexer": "ipython3",
   "version": "3.11.4"
  }
 },
 "nbformat": 4,
 "nbformat_minor": 5
}
