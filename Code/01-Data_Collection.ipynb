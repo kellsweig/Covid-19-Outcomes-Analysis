{
 "cells": [
  {
   "cell_type": "markdown",
   "id": "42668bd0",
   "metadata": {},
   "source": [
    "### Imports"
   ]
  },
  {
   "cell_type": "code",
   "execution_count": 1,
   "id": "deca56ed",
   "metadata": {},
   "outputs": [],
   "source": [
    "import pandas as pd\n",
    "import numpy as np\n",
    "import requests\n",
    "from bs4 import BeautifulSoup\n",
    "\n",
    "pd.set_option('display.max_columns', None)\n",
    "pd.set_option('display.max_rows', None)"
   ]
  },
  {
   "cell_type": "markdown",
   "id": "f79a5a4c",
   "metadata": {},
   "source": [
    "# State Level Data"
   ]
  },
  {
   "cell_type": "markdown",
   "id": "188cb7d6",
   "metadata": {},
   "source": [
    "### Census Population"
   ]
  },
  {
   "cell_type": "markdown",
   "id": "6d5f9e91",
   "metadata": {},
   "source": [
    "##### 2020"
   ]
  },
  {
   "cell_type": "code",
   "execution_count": 2,
   "id": "7d9d0d68",
   "metadata": {},
   "outputs": [],
   "source": [
    "url = 'https://www.census.gov/quickfacts/quickfacts/geo/dashboard/US/POP010220'\n",
    "res = requests.get(url)"
   ]
  },
  {
   "cell_type": "code",
   "execution_count": 3,
   "id": "ee84caf0",
   "metadata": {},
   "outputs": [
    {
     "data": {
      "text/plain": [
       "'29145505'"
      ]
     },
     "execution_count": 3,
     "metadata": {},
     "output_type": "execute_result"
    }
   ],
   "source": [
    "soup = BeautifulSoup(res.content)\n",
    "table = soup.find(attrs={'class':'qf-graph-scroll'})\n",
    "# soup.find_all(attrs={'class':'qf-positive'})\n",
    "tbody = table.find_all(attrs={'class':\"qf-graph-geo\"})\n",
    "tr = tbody[1]\n",
    "state = tr.find('a').attrs['data-title']\n",
    "tr.find(attrs={'class':'qf-positive'}).attrs['data-value']"
   ]
  },
  {
   "cell_type": "code",
   "execution_count": 4,
   "id": "759dd130",
   "metadata": {},
   "outputs": [
    {
     "data": {
      "text/html": [
       "<div>\n",
       "<style scoped>\n",
       "    .dataframe tbody tr th:only-of-type {\n",
       "        vertical-align: middle;\n",
       "    }\n",
       "\n",
       "    .dataframe tbody tr th {\n",
       "        vertical-align: top;\n",
       "    }\n",
       "\n",
       "    .dataframe thead th {\n",
       "        text-align: right;\n",
       "    }\n",
       "</style>\n",
       "<table border=\"1\" class=\"dataframe\">\n",
       "  <thead>\n",
       "    <tr style=\"text-align: right;\">\n",
       "      <th></th>\n",
       "      <th>State</th>\n",
       "      <th>2020 Population</th>\n",
       "    </tr>\n",
       "  </thead>\n",
       "  <tbody>\n",
       "    <tr>\n",
       "      <th>0</th>\n",
       "      <td>California</td>\n",
       "      <td>39538223</td>\n",
       "    </tr>\n",
       "    <tr>\n",
       "      <th>1</th>\n",
       "      <td>Texas</td>\n",
       "      <td>29145505</td>\n",
       "    </tr>\n",
       "    <tr>\n",
       "      <th>2</th>\n",
       "      <td>Florida</td>\n",
       "      <td>21538187</td>\n",
       "    </tr>\n",
       "    <tr>\n",
       "      <th>3</th>\n",
       "      <td>New York</td>\n",
       "      <td>20201249</td>\n",
       "    </tr>\n",
       "    <tr>\n",
       "      <th>4</th>\n",
       "      <td>Pennsylvania</td>\n",
       "      <td>13002700</td>\n",
       "    </tr>\n",
       "  </tbody>\n",
       "</table>\n",
       "</div>"
      ],
      "text/plain": [
       "          State 2020 Population\n",
       "0    California        39538223\n",
       "1         Texas        29145505\n",
       "2       Florida        21538187\n",
       "3      New York        20201249\n",
       "4  Pennsylvania        13002700"
      ]
     },
     "execution_count": 4,
     "metadata": {},
     "output_type": "execute_result"
    }
   ],
   "source": [
    "pop_2020 = []\n",
    "for tr in tbody:\n",
    "    state = tr.find('a').attrs['data-title']\n",
    "    pop = tr.find(attrs={'class':'qf-positive'}).attrs['data-value']\n",
    "    \n",
    "    state_pop = {'State': state, '2020 Population': pop}\n",
    "    pop_2020.append(state_pop)\n",
    "\n",
    "pop_2020 = pd.DataFrame(pop_2020)\n",
    "pop_2020.head()"
   ]
  },
  {
   "cell_type": "markdown",
   "id": "4e9d39c1",
   "metadata": {},
   "source": [
    "##### 2010"
   ]
  },
  {
   "cell_type": "code",
   "execution_count": 5,
   "id": "6bef1b32",
   "metadata": {},
   "outputs": [],
   "source": [
    "url2 = 'https://www.census.gov/quickfacts/quickfacts/geo/dashboard/US/POP010210'\n",
    "res2 = requests.get(url2)"
   ]
  },
  {
   "cell_type": "code",
   "execution_count": 6,
   "id": "14f31262",
   "metadata": {},
   "outputs": [],
   "source": [
    "soup2 = BeautifulSoup(res2.content)\n",
    "table2 = soup2.find(attrs={'class':'qf-graph-scroll'})\n",
    "tbody2 = table2.find_all(attrs={'class':\"qf-graph-geo\"})"
   ]
  },
  {
   "cell_type": "code",
   "execution_count": 7,
   "id": "79380d36",
   "metadata": {},
   "outputs": [
    {
     "data": {
      "text/html": [
       "<div>\n",
       "<style scoped>\n",
       "    .dataframe tbody tr th:only-of-type {\n",
       "        vertical-align: middle;\n",
       "    }\n",
       "\n",
       "    .dataframe tbody tr th {\n",
       "        vertical-align: top;\n",
       "    }\n",
       "\n",
       "    .dataframe thead th {\n",
       "        text-align: right;\n",
       "    }\n",
       "</style>\n",
       "<table border=\"1\" class=\"dataframe\">\n",
       "  <thead>\n",
       "    <tr style=\"text-align: right;\">\n",
       "      <th></th>\n",
       "      <th>State</th>\n",
       "      <th>2010 Population</th>\n",
       "      <th>2020 Population</th>\n",
       "    </tr>\n",
       "  </thead>\n",
       "  <tbody>\n",
       "    <tr>\n",
       "      <th>0</th>\n",
       "      <td>California</td>\n",
       "      <td>37253956</td>\n",
       "      <td>39538223</td>\n",
       "    </tr>\n",
       "    <tr>\n",
       "      <th>1</th>\n",
       "      <td>Texas</td>\n",
       "      <td>25145561</td>\n",
       "      <td>29145505</td>\n",
       "    </tr>\n",
       "    <tr>\n",
       "      <th>2</th>\n",
       "      <td>New York</td>\n",
       "      <td>19378102</td>\n",
       "      <td>20201249</td>\n",
       "    </tr>\n",
       "    <tr>\n",
       "      <th>3</th>\n",
       "      <td>Florida</td>\n",
       "      <td>18801310</td>\n",
       "      <td>21538187</td>\n",
       "    </tr>\n",
       "    <tr>\n",
       "      <th>4</th>\n",
       "      <td>Illinois</td>\n",
       "      <td>12830632</td>\n",
       "      <td>12812508</td>\n",
       "    </tr>\n",
       "  </tbody>\n",
       "</table>\n",
       "</div>"
      ],
      "text/plain": [
       "        State 2010 Population 2020 Population\n",
       "0  California        37253956        39538223\n",
       "1       Texas        25145561        29145505\n",
       "2    New York        19378102        20201249\n",
       "3     Florida        18801310        21538187\n",
       "4    Illinois        12830632        12812508"
      ]
     },
     "execution_count": 7,
     "metadata": {},
     "output_type": "execute_result"
    }
   ],
   "source": [
    "pop_2010 = []\n",
    "for tr in tbody2:\n",
    "    state = tr.find('a').attrs['data-title']\n",
    "    pop = tr.find(attrs={'class':'qf-positive'}).attrs['data-value']\n",
    "    \n",
    "    state_pop = {'State': state, '2010 Population': pop}\n",
    "    pop_2010.append(state_pop)\n",
    "\n",
    "pop_2010 = pd.DataFrame(pop_2010)\n",
    "\n",
    "population = pd.merge(pop_2010, pop_2020)\n",
    "population.head()"
   ]
  },
  {
   "cell_type": "code",
   "execution_count": 8,
   "id": "f2500923",
   "metadata": {},
   "outputs": [
    {
     "data": {
      "text/plain": [
       "State              object\n",
       "2010 Population    object\n",
       "2020 Population    object\n",
       "dtype: object"
      ]
     },
     "execution_count": 8,
     "metadata": {},
     "output_type": "execute_result"
    }
   ],
   "source": [
    "population.dtypes"
   ]
  },
  {
   "cell_type": "code",
   "execution_count": 10,
   "id": "a05dc5f0",
   "metadata": {},
   "outputs": [],
   "source": [
    "population[['2010 Population', '2020 Population']] = population[['2010 Population',\n",
    "                                                                 '2020 Population']].astype(int)\n",
    "population.to_csv('../Data/Population_data_2010_&_2020.csv', index=False)"
   ]
  },
  {
   "cell_type": "markdown",
   "id": "e0daee33",
   "metadata": {},
   "source": [
    "### Asthma"
   ]
  },
  {
   "cell_type": "markdown",
   "id": "4432fb35",
   "metadata": {},
   "source": [
    "CSV files with information on asthma, diabetes, cancer, copd, heart disease, kidney disease incident rates/ prevalence rates were downloaded from the CDC website. These csv files are each approximately 40 MB with responses to various questions, rates by demographic as well as overall population totals for more than a decade. Each dataset must be cleaned and unecessary information dropped to reduce the files to a manageable size."
   ]
  },
  {
   "cell_type": "code",
   "execution_count": null,
   "id": "eeec511d",
   "metadata": {},
   "outputs": [],
   "source": [
    "asthma = pd.read_csv('Ignore/Asthma.csv')\n",
    "asthma.shape"
   ]
  },
  {
   "cell_type": "code",
   "execution_count": null,
   "id": "5a36d3d8",
   "metadata": {},
   "outputs": [],
   "source": [
    "asthma.head()"
   ]
  },
  {
   "cell_type": "code",
   "execution_count": null,
   "id": "e6f61932",
   "metadata": {},
   "outputs": [],
   "source": [
    "asthma.Question.value_counts()"
   ]
  },
  {
   "cell_type": "code",
   "execution_count": null,
   "id": "05843f10",
   "metadata": {},
   "outputs": [],
   "source": [
    "asthma.describe()"
   ]
  },
  {
   "cell_type": "code",
   "execution_count": null,
   "id": "dce70f21",
   "metadata": {},
   "outputs": [],
   "source": [
    "# We only need data for pre-existing conditions for 1 year\n",
    "asthma = asthma[asthma['YearStart'] == 2019]"
   ]
  },
  {
   "cell_type": "code",
   "execution_count": null,
   "id": "8fa2fde5",
   "metadata": {},
   "outputs": [],
   "source": [
    "asthma.shape"
   ]
  },
  {
   "cell_type": "code",
   "execution_count": null,
   "id": "fec36bac",
   "metadata": {},
   "outputs": [],
   "source": [
    "asthma.YearStart.value_counts()"
   ]
  },
  {
   "cell_type": "code",
   "execution_count": null,
   "id": "311a2220",
   "metadata": {},
   "outputs": [],
   "source": [
    "asthma = asthma[['YearStart', 'LocationAbbr', 'LocationDesc', 'Question', 'DataValue',\n",
    "                 'Stratification1', 'DataValueType']]\n",
    "asthma.head(), astha.shape"
   ]
  },
  {
   "cell_type": "code",
   "execution_count": null,
   "id": "ff28ce5b",
   "metadata": {},
   "outputs": [],
   "source": [
    "asthma['LocationDesc'].nunique()"
   ]
  },
  {
   "cell_type": "code",
   "execution_count": null,
   "id": "9973caa6",
   "metadata": {},
   "outputs": [],
   "source": [
    "asthma.drop_duplicates(inplace=True)\n",
    "asthma = asthma[asthma['Stratification1'] == 'Overall']\n",
    "asthma.shape"
   ]
  },
  {
   "cell_type": "markdown",
   "id": "85621d4a",
   "metadata": {},
   "source": [
    "### Cardiovascular"
   ]
  },
  {
   "cell_type": "code",
   "execution_count": null,
   "id": "53e02fba",
   "metadata": {},
   "outputs": [],
   "source": [
    "heart = pd.read_csv('Ignore/Cardiovascular.csv')\n",
    "heart.head()"
   ]
  },
  {
   "cell_type": "code",
   "execution_count": null,
   "id": "eb772fde",
   "metadata": {},
   "outputs": [],
   "source": [
    "# Splitting cardiac dataset into deaths from cardio diseases and diagnosed prevalence of hypertension\n",
    "cardiac_mortality = heart[heart['Question'] == 'Mortality from total cardiovascular diseases']\n",
    "print(cardiac_mortality.shape)\n",
    "\n",
    "high_blood_pressure = heart[heart['Question']== 'Awareness of high blood pressure among adults aged >= 18 years']\n",
    "print(high_blood_pressure.shape)"
   ]
  },
  {
   "cell_type": "code",
   "execution_count": null,
   "id": "16ad7479",
   "metadata": {},
   "outputs": [],
   "source": [
    "copd = pd.read_csv('Ignore/COPD.csv')\n",
    "copd.shape"
   ]
  },
  {
   "cell_type": "code",
   "execution_count": null,
   "id": "80de5187",
   "metadata": {},
   "outputs": [],
   "source": [
    "copd.Question.value_counts()\n",
    "copd = copd[copd['Question']== 'Prevalence of chronic obstructive pulmonary disease among adults >= 18']\n",
    "copd.shape"
   ]
  },
  {
   "cell_type": "code",
   "execution_count": null,
   "id": "04bc88cd",
   "metadata": {},
   "outputs": [],
   "source": [
    "diabetes = pd.read_csv('Ignore/Diabetes.csv')\n",
    "diabetes.shape"
   ]
  },
  {
   "cell_type": "code",
   "execution_count": null,
   "id": "700ebac1",
   "metadata": {},
   "outputs": [],
   "source": [
    "diabetes['Question'].value_counts()\n",
    "diabetes = diabetes[diabetes['Question']== 'Prevalence of diagnosed diabetes among adults aged >= 18 years']\n",
    "diabetes.shape"
   ]
  },
  {
   "cell_type": "code",
   "execution_count": null,
   "id": "b1191da1",
   "metadata": {},
   "outputs": [],
   "source": [
    "kidney = pd.read_csv('Ignore/Kidney.csv')"
   ]
  },
  {
   "cell_type": "code",
   "execution_count": null,
   "id": "3b7bd558",
   "metadata": {},
   "outputs": [],
   "source": [
    "kidney['Question'].value_counts()\n",
    "kidney = kidney[kidney['Question']== 'Prevalence of chronic kidney disease among adults aged >= 18 years']\n",
    "kidney.shape"
   ]
  },
  {
   "cell_type": "markdown",
   "id": "fd9339fd",
   "metadata": {},
   "source": [
    "### Population Density"
   ]
  },
  {
   "cell_type": "code",
   "execution_count": 11,
   "id": "bf565f57",
   "metadata": {},
   "outputs": [],
   "source": [
    "url3 = 'https://wisevoter.com/state-rankings/population-density-by-state/'\n",
    "res3 = requests.get(url3)\n",
    "soup3 = BeautifulSoup(res3.content)"
   ]
  },
  {
   "cell_type": "code",
   "execution_count": 12,
   "id": "a377bdd2",
   "metadata": {},
   "outputs": [],
   "source": [
    "table3 = soup3.find('table', attrs={'id': 'shdb-on-page-table'})\n",
    "tbody = table3.find('tbody')\n",
    "trs = tbody.find_all('tr')"
   ]
  },
  {
   "cell_type": "code",
   "execution_count": 13,
   "id": "41324b60",
   "metadata": {},
   "outputs": [
    {
     "data": {
      "text/html": [
       "<div>\n",
       "<style scoped>\n",
       "    .dataframe tbody tr th:only-of-type {\n",
       "        vertical-align: middle;\n",
       "    }\n",
       "\n",
       "    .dataframe tbody tr th {\n",
       "        vertical-align: top;\n",
       "    }\n",
       "\n",
       "    .dataframe thead th {\n",
       "        text-align: right;\n",
       "    }\n",
       "</style>\n",
       "<table border=\"1\" class=\"dataframe\">\n",
       "  <thead>\n",
       "    <tr style=\"text-align: right;\">\n",
       "      <th></th>\n",
       "      <th>State</th>\n",
       "      <th>Population Density per mi²</th>\n",
       "    </tr>\n",
       "  </thead>\n",
       "  <tbody>\n",
       "    <tr>\n",
       "      <th>0</th>\n",
       "      <td>New Jersey</td>\n",
       "      <td>1,283.4</td>\n",
       "    </tr>\n",
       "    <tr>\n",
       "      <th>1</th>\n",
       "      <td>Rhode Island</td>\n",
       "      <td>1,074.3</td>\n",
       "    </tr>\n",
       "    <tr>\n",
       "      <th>2</th>\n",
       "      <td>Massachusetts</td>\n",
       "      <td>919.82</td>\n",
       "    </tr>\n",
       "    <tr>\n",
       "      <th>3</th>\n",
       "      <td>Connecticut</td>\n",
       "      <td>746.7</td>\n",
       "    </tr>\n",
       "    <tr>\n",
       "      <th>4</th>\n",
       "      <td>Maryland</td>\n",
       "      <td>648.84</td>\n",
       "    </tr>\n",
       "  </tbody>\n",
       "</table>\n",
       "</div>"
      ],
      "text/plain": [
       "           State Population Density per mi²\n",
       "0     New Jersey                    1,283.4\n",
       "1   Rhode Island                    1,074.3\n",
       "2  Massachusetts                     919.82\n",
       "3    Connecticut                      746.7\n",
       "4       Maryland                     648.84"
      ]
     },
     "execution_count": 13,
     "metadata": {},
     "output_type": "execute_result"
    }
   ],
   "source": [
    "pop_density = []\n",
    "for tr in trs:\n",
    "    state = tr.find(attrs={'class':'shdb-on-page-table-body-Geo'}).text\n",
    "    density = tr.find(attrs={'class':'shdb-on-page-table-body-Data'}).text.split()[0]\n",
    "    \n",
    "    state_density = {'State':state, 'Population Density per mi²': density}\n",
    "    pop_density.append(state_density)\n",
    "Pop_density = pd.DataFrame(pop_density)\n",
    "Pop_density.head()"
   ]
  },
  {
   "cell_type": "code",
   "execution_count": 18,
   "id": "48fb85c9",
   "metadata": {},
   "outputs": [
    {
     "data": {
      "text/plain": [
       "State                          object\n",
       "Population Density per mi²    float64\n",
       "dtype: object"
      ]
     },
     "execution_count": 18,
     "metadata": {},
     "output_type": "execute_result"
    }
   ],
   "source": [
    "Pop_density.dtypes"
   ]
  },
  {
   "cell_type": "code",
   "execution_count": 21,
   "id": "02159709",
   "metadata": {},
   "outputs": [],
   "source": [
    "Pop_density.to_csv('../Data/Population_Density_data.csv', index=False)"
   ]
  },
  {
   "cell_type": "markdown",
   "id": "7c0403c2",
   "metadata": {},
   "source": [
    "# County Level Data"
   ]
  },
  {
   "cell_type": "markdown",
   "id": "6a3d9fd0",
   "metadata": {},
   "source": [
    "## Covid Vaccination Rates by county"
   ]
  },
  {
   "cell_type": "code",
   "execution_count": null,
   "id": "d1f6eaa2",
   "metadata": {},
   "outputs": [],
   "source": [
    "covid_vax = pd.read_csv('Ignore/COVID-19_Vaccinations_by_county.csv')\n",
    "covid_vax.shape()"
   ]
  },
  {
   "cell_type": "code",
   "execution_count": null,
   "id": "5c829900",
   "metadata": {},
   "outputs": [],
   "source": [
    "covid_vax.head()"
   ]
  },
  {
   "cell_type": "code",
   "execution_count": null,
   "id": "a42300bb",
   "metadata": {},
   "outputs": [],
   "source": [
    "# keeping 9/18/2021 & 12/28/2022 \n",
    "early_vax = covid_vax[covid_vax['Date'] == '9/18/2021'].copy()\n",
    "late_vax = covid_vax[covid_vax['Date'] == '12/28/2022'].copy()"
   ]
  },
  {
   "cell_type": "code",
   "execution_count": null,
   "id": "c3375191",
   "metadata": {},
   "outputs": [],
   "source": [
    "early_vax.drop(columns=['Series_Complete_Pop_Pct',\n",
    "                        'Series_Complete_65PlusPop_Pct'], inplace = True)\n",
    "early_vax.head()"
   ]
  },
  {
   "cell_type": "code",
   "execution_count": null,
   "id": "008ac7b5",
   "metadata": {},
   "outputs": [],
   "source": [
    "late_vax.drop(columns=['Date', 'MMWR_week', 'Series_Complete_65PlusPop_Pct', 'Census2019', 'Census2019_65PlusPop'], inplace=True)\n",
    "late_vax.head()"
   ]
  },
  {
   "cell_type": "code",
   "execution_count": null,
   "id": "61623401",
   "metadata": {},
   "outputs": [],
   "source": [
    "early_vax.to_csv('../Data/Raw/early_vax_2021.csv', index=False)\n",
    "late_vax.tocsv('../Data/Raw/late_vax_2022.csv', index=False)"
   ]
  },
  {
   "cell_type": "markdown",
   "id": "24f25c27",
   "metadata": {},
   "source": [
    "## Covid Cases"
   ]
  },
  {
   "cell_type": "code",
   "execution_count": null,
   "id": "60e1a6d0",
   "metadata": {},
   "outputs": [],
   "source": [
    "cases = pd.read_csv('Ignore/covid_confirmed_usafacts.csv')\n",
    "cases.head()"
   ]
  },
  {
   "cell_type": "code",
   "execution_count": null,
   "id": "c2b71605",
   "metadata": {},
   "outputs": [],
   "source": [
    "cases['County'] = cases['County Name'].str.replace(r'\\bCounty\\b', '', regex=True).str.strip()"
   ]
  },
  {
   "cell_type": "code",
   "execution_count": null,
   "id": "72fa663f",
   "metadata": {},
   "outputs": [],
   "source": []
  },
  {
   "cell_type": "markdown",
   "id": "9c8a7424",
   "metadata": {},
   "source": [
    "## Population"
   ]
  },
  {
   "cell_type": "code",
   "execution_count": 1,
   "id": "153f1ad7",
   "metadata": {},
   "outputs": [
    {
     "ename": "NameError",
     "evalue": "name 'pd' is not defined",
     "output_type": "error",
     "traceback": [
      "\u001b[0;31m---------------------------------------------------------------------------\u001b[0m",
      "\u001b[0;31mNameError\u001b[0m                                 Traceback (most recent call last)",
      "Cell \u001b[0;32mIn[1], line 1\u001b[0m\n\u001b[0;32m----> 1\u001b[0m pop \u001b[38;5;241m=\u001b[39m pd\u001b[38;5;241m.\u001b[39mread_csv(\u001b[38;5;124m'\u001b[39m\u001b[38;5;124m./Ignore/covid_county_population_usafacts.csv\u001b[39m\u001b[38;5;124m'\u001b[39m)\n\u001b[1;32m      2\u001b[0m pop\u001b[38;5;241m.\u001b[39mdescribe()\n",
      "\u001b[0;31mNameError\u001b[0m: name 'pd' is not defined"
     ]
    }
   ],
   "source": [
    "pop = pd.read_csv('./Ignore/covid_county_population_usafacts.csv')\n",
    "pop.describe()"
   ]
  },
  {
   "cell_type": "code",
   "execution_count": null,
   "id": "662b78a5",
   "metadata": {},
   "outputs": [],
   "source": [
    "pop.head()"
   ]
  },
  {
   "cell_type": "code",
   "execution_count": null,
   "id": "79a36b9b",
   "metadata": {},
   "outputs": [],
   "source": [
    "# States dic\n",
    "state_name = {\n",
    "    'AL':'Alabama',\n",
    "    'AK':'Alaska',\n",
    "    'AZ':'Arizona',\n",
    "    'AR':'Arkansas',\n",
    "    'CA':'California',\n",
    "    'CO':'Colorado',\n",
    "    'CT':'Connecticut',\n",
    "    'DE':'Delaware',\n",
    "    'DC':'District of Columbia',\n",
    "    'FL':'Florida',\n",
    "    'GA':'Georgia',\n",
    "    'HI':'Hawaii',\n",
    "    'ID':'Idaho',\n",
    "    'IL':'Illinois',\n",
    "    'IN':'Indiana',\n",
    "    'IA':'Iowa',\n",
    "    'KS':'Kansas',\n",
    "    'KY':'Kentucky',\n",
    "    'LA':'Louisiana',\n",
    "    'ME':'Maine',\n",
    "    'MD':'Maryland',\n",
    "    'MA':'Massachusetts',\n",
    "    'MI':'Michigan',\n",
    "    'MN':'Minnesota',\n",
    "    'MS':'Mississippi',\n",
    "    'MO':'Missouri',\n",
    "    'MT':'Montana',\n",
    "    'NE':'Nebraska',\n",
    "    'NV':'Nevada',\n",
    "    'NH':'New Hampshire',\n",
    "    'NJ':'New Jersey',\n",
    "    'NM':'New Mexico',\n",
    "    'NY':'New York',\n",
    "    'NC':'North Carolina',\n",
    "    'ND':'North Dakota',\n",
    "    'OH':'Ohio',\n",
    "    'OK':'Oklahoma',\n",
    "    'OR':'Oregon',\n",
    "    'PA':'Pennsylvania',\n",
    "    'RI':'Rhode Island',\n",
    "    'SC':'South Carolina',\n",
    "    'SD':'South Dakota',\n",
    "    'TN':'Tennessee',\n",
    "    'TX':'Texas',\n",
    "    'UT':'Utah',\n",
    "    'VT':'Vermont',\n",
    "    'VA':'Virginia',\n",
    "    'WA':'Washington',\n",
    "    'WV':'West Virginia',\n",
    "    'WI':'Wisconsin',\n",
    "    'WY':'Wyoming'\n",
    "}"
   ]
  },
  {
   "cell_type": "code",
   "execution_count": null,
   "id": "22b91577",
   "metadata": {},
   "outputs": [],
   "source": [
    "state_pop_sum = {}\n",
    "for index, row in pop.iterrows():\n",
    "    state_abbr = row['State'] \n",
    "    tot_pop = row['population']  \n",
    "    \n",
    "    if state_abbr in state_pop_sum:\n",
    "        state_pop_sum[state_abbr] += tot_pop\n",
    "    else:\n",
    "        state_pop_sum[state_abbr] = tot_pop\n",
    "\n",
    "for state, pop_sum in state_pop_sum.items():\n",
    "    print(f\"{state}: {pop_sum}\")"
   ]
  },
  {
   "cell_type": "code",
   "execution_count": null,
   "id": "a1cb9879",
   "metadata": {},
   "outputs": [],
   "source": [
    "tot_pop = pd.DataFrame(list(state_pop_sum.items()), columns=['State', 'Total Population'])\n",
    "tot_pop.head()"
   ]
  },
  {
   "cell_type": "code",
   "execution_count": null,
   "id": "e875c3d5",
   "metadata": {},
   "outputs": [],
   "source": [
    "merged_pop = pd.merge(pop, tot_pop, on='State')\n",
    "merged_pop.head()"
   ]
  },
  {
   "cell_type": "code",
   "execution_count": null,
   "id": "df88a2f8",
   "metadata": {},
   "outputs": [],
   "source": [
    "merged_pop['pop %'] = (merged_pop['population'] / merged_pop['Total Population'])*100\n",
    "merged_pop.head()"
   ]
  },
  {
   "cell_type": "code",
   "execution_count": null,
   "id": "2f49271a",
   "metadata": {},
   "outputs": [],
   "source": [
    "merged_pop.to_csv('./Data/population_w_percent.csv', index = False)"
   ]
  },
  {
   "cell_type": "markdown",
   "id": "39a5c694",
   "metadata": {},
   "source": [
    "## Deaths by County"
   ]
  },
  {
   "cell_type": "code",
   "execution_count": null,
   "id": "ae1eac74",
   "metadata": {},
   "outputs": [],
   "source": [
    "deaths = pd.read_csv('./Ignore/covid_deaths_usafacts.csv')\n",
    "deaths"
   ]
  },
  {
   "cell_type": "code",
   "execution_count": null,
   "id": "d9a0531d",
   "metadata": {},
   "outputs": [],
   "source": [
    "for i in range(5, len(deaths.columns)):\n",
    "    deaths[deaths.columns[i]] = deaths[deaths.columns[i]] + deaths[deaths.columns[i - 1]]\n",
    "\n",
    "deaths.head()"
   ]
  },
  {
   "cell_type": "code",
   "execution_count": null,
   "id": "18f3a66a",
   "metadata": {},
   "outputs": [],
   "source": [
    "deaths['County'] = deaths['County Name'].str.replace(r'\\bCounty\\b', '', regex=True).str.strip()\n",
    "deaths.head()"
   ]
  },
  {
   "cell_type": "code",
   "execution_count": null,
   "id": "1215565c",
   "metadata": {},
   "outputs": [],
   "source": []
  }
 ],
 "metadata": {
  "kernelspec": {
   "display_name": "Python 3 (ipykernel)",
   "language": "python",
   "name": "python3"
  },
  "language_info": {
   "codemirror_mode": {
    "name": "ipython",
    "version": 3
   },
   "file_extension": ".py",
   "mimetype": "text/x-python",
   "name": "python",
   "nbconvert_exporter": "python",
   "pygments_lexer": "ipython3",
   "version": "3.11.4"
  }
 },
 "nbformat": 4,
 "nbformat_minor": 5
}
