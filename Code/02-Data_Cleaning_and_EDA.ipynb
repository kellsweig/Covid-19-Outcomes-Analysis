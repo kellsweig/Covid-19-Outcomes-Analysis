{
 "cells": [
  {
   "cell_type": "markdown",
   "id": "fc87a0e6",
   "metadata": {},
   "source": [
    "### Imports"
   ]
  },
  {
   "cell_type": "code",
   "execution_count": 2,
   "id": "2a14f001",
   "metadata": {},
   "outputs": [],
   "source": [
    "import pandas as pd\n",
    "import numpy as np"
   ]
  },
  {
   "cell_type": "markdown",
   "id": "adbb5fef",
   "metadata": {},
   "source": [
    "# State Level Data"
   ]
  },
  {
   "cell_type": "markdown",
   "id": "3b821983-7d33-4aeb-9905-bef359669fde",
   "metadata": {
    "tags": []
   },
   "source": [
    "## Pre-Existing Health Conditions Datasets:"
   ]
  },
  {
   "cell_type": "markdown",
   "id": "f9b73951-0f87-475c-9382-8217c7c3f016",
   "metadata": {
    "tags": []
   },
   "source": [
    "#### For pre-existing conditions & immunizations:\n",
    "1. choose crude or adj\n",
    "2. drop old index\n",
    "3. rename data value to question\n",
    "4. drop year and question columns\n",
    "5. For total number of incident data -> after concatening with population data, convert to rate"
   ]
  },
  {
   "cell_type": "markdown",
   "id": "a0cd00d9-7dc1-400d-a4c6-5b67548ca20d",
   "metadata": {},
   "source": [
    "*Crude are the raw numbers. Adj are these numbers adjusted/ standardized based on population's age distribution. We can retain the crude numbers however the age adjusted numbers will probably be better for cross comparison*"
   ]
  },
  {
   "cell_type": "code",
   "execution_count": null,
   "id": "dd7a2ec1-a1b7-4aca-abcc-8c848d8a8faa",
   "metadata": {},
   "outputs": [],
   "source": [
    "asthma = pd.read_csv('Data/Raw/asthma_adj.csv')\n",
    "asthma.rename(columns={\n",
    "    'DataValue':'asthma_prevalence',\n",
    "    'LocationDesc':'Location'}, inplace=True)"
   ]
  },
  {
   "cell_type": "code",
   "execution_count": null,
   "id": "24bab1cd-be3a-4138-9769-dda60e2ac46b",
   "metadata": {},
   "outputs": [],
   "source": [
    "asthma.drop(columns=['YearStart', 'Question'], inplace=True)\n",
    "asthma.head()"
   ]
  },
  {
   "cell_type": "code",
   "execution_count": null,
   "id": "33acf70c-0794-42ca-ab9a-8316cdfbcf92",
   "metadata": {},
   "outputs": [],
   "source": [
    "high_bp = pd.read_csv('Data/Raw/high_blood_pressure_adj.csv')\n",
    "high_bp.head()"
   ]
  },
  {
   "cell_type": "code",
   "execution_count": null,
   "id": "656ff27e-843a-4ecf-865b-26e358d64dec",
   "metadata": {},
   "outputs": [],
   "source": [
    "high_bp.rename(columns={\n",
    "    'DataValue':'high_bp_prevalence',\n",
    "    'LocationDesc':'Location'}, inplace=True)\n",
    "high_bp.drop(columns=['YearStart', 'Question'], inplace=True)\n",
    "high_bp.head()"
   ]
  },
  {
   "cell_type": "code",
   "execution_count": null,
   "id": "8decc865-9a16-4efa-a3c1-7b77630fe6fd",
   "metadata": {},
   "outputs": [],
   "source": [
    "cardiac_mortality = pd.read_csv('Data/Raw/cardiac_mortality_adj.csv')\n",
    "cardiac_mortality.rename(columns={\n",
    "    'DataValue':'cardiac_mortality_rate',\n",
    "    'LocationDesc':'Location'}, inplace=True)\n",
    "cardiac_mortality.drop(columns=['YearStart', 'Question'], inplace=True)\n",
    "cardiac_mortality.head()"
   ]
  },
  {
   "cell_type": "code",
   "execution_count": null,
   "id": "2fbb109b-609c-4f10-9b56-79ba851ca969",
   "metadata": {},
   "outputs": [],
   "source": [
    "diabetes = pd.read_csv('Data/Raw/diabetes_adj.csv')\n",
    "diabetes.head()\n",
    "diabetes.rename(columns={\n",
    "    'DataValue':'diabetes_prevalence',\n",
    "    'LocationDesc':'Location'}, inplace=True)"
   ]
  },
  {
   "cell_type": "code",
   "execution_count": null,
   "id": "00f3ceec-03b3-42e2-a56f-dfadeaf18fb1",
   "metadata": {},
   "outputs": [],
   "source": [
    "diabetes.drop(columns=['YearStart', 'Question'], inplace=True)\n",
    "diabetes.head()"
   ]
  },
  {
   "cell_type": "code",
   "execution_count": null,
   "id": "cc0bc56e-35ae-4c4f-9480-61448d69cc85",
   "metadata": {},
   "outputs": [],
   "source": [
    "kidney = pd.read_csv('Data/Raw/kidney_adj.csv')\n",
    "kidney.head()"
   ]
  },
  {
   "cell_type": "code",
   "execution_count": null,
   "id": "685b69b8-1014-4575-b65d-dc93bec0c1dc",
   "metadata": {},
   "outputs": [],
   "source": [
    "kidney.rename(columns={\n",
    "    'DataValue':'kidney_disease_prevalence',\n",
    "    'LocationDesc':'Location'}, inplace=True)"
   ]
  },
  {
   "cell_type": "code",
   "execution_count": null,
   "id": "ee6ddf02-6013-4ba1-abd7-c19e1d52b582",
   "metadata": {},
   "outputs": [],
   "source": [
    "kidney.drop(columns=['YearStart', 'Question'], inplace=True)\n",
    "kidney.head()"
   ]
  },
  {
   "cell_type": "code",
   "execution_count": null,
   "id": "149dbded-bf03-46ed-b95f-82babe85f6dc",
   "metadata": {},
   "outputs": [],
   "source": [
    "copd = pd.read_csv('Data/Raw/copd_adj.csv')\n",
    "copd.rename(columns={\n",
    "    'DataValue':'copd_prevalence',\n",
    "    'LocationDesc':'Location'}, inplace=True)\n",
    "copd.drop(columns=['YearStart', 'Question'], inplace=True)\n",
    "copd.head()"
   ]
  },
  {
   "cell_type": "code",
   "execution_count": null,
   "id": "519abc88-8598-48df-b2ec-444b88f07244",
   "metadata": {},
   "outputs": [],
   "source": [
    "immun = pd.read_csv('Data/Raw/immun_adj.csv')\n",
    "immun.rename(columns={\n",
    "    'DataValue':'flu_vaccination_rate_2019',\n",
    "    'LocationDesc':'Location'}, inplace=True)\n",
    "immun.drop(columns=['YearStart', 'Question'], inplace=True)\n",
    "immun.head()"
   ]
  },
  {
   "cell_type": "code",
   "execution_count": null,
   "id": "d0a57051-8959-46f6-a542-ac9de16dc6dc",
   "metadata": {},
   "outputs": [],
   "source": [
    "pre_con = pd.merge(immun, asthma, on='Location', how='inner')\n",
    "\n",
    "dataframes_to_merge = [cardiac_mortality, high_bp, copd, kidney, diabetes]\n",
    "\n",
    "for df in dataframes_to_merge:\n",
    "    pre_con = pd.merge(pre_con, df, on='Location', how='inner')"
   ]
  },
  {
   "cell_type": "code",
   "execution_count": null,
   "id": "3c712795-762d-41b0-9fc0-b1672c1563f3",
   "metadata": {},
   "outputs": [],
   "source": [
    "pre_con.head()"
   ]
  },
  {
   "cell_type": "code",
   "execution_count": null,
   "id": "3d866eb1-69c0-40f4-a79b-c4bd67e8d633",
   "metadata": {},
   "outputs": [],
   "source": [
    "pre_con.to_csv('Data/cleaned_pre_condtions.csv', index = True)"
   ]
  },
  {
   "cell_type": "markdown",
   "id": "2bc2f9f4-0195-45d0-8194-e555758e7ace",
   "metadata": {},
   "source": [
    "## Insurance rates by state"
   ]
  },
  {
   "cell_type": "code",
   "execution_count": null,
   "id": "4700fabd-895e-4bdb-a5b5-28c66d159f20",
   "metadata": {},
   "outputs": [],
   "source": [
    "insur_2019 = pd.read_csv('Data/Raw/2019_insurance.csv')\n",
    "insur_2019.head()"
   ]
  },
  {
   "cell_type": "code",
   "execution_count": null,
   "id": "1983eb0c-d612-4379-8386-7adfb106fc30",
   "metadata": {},
   "outputs": [],
   "source": [
    "insur_2021 = pd.read_csv('Data/Raw/2021_insurance.csv')"
   ]
  },
  {
   "cell_type": "code",
   "execution_count": null,
   "id": "6d3ddce6-af9f-4fb9-9d56-dca215ff1520",
   "metadata": {},
   "outputs": [],
   "source": [
    "insur = pd.merge(insur_2019, insur_2021, how ='inner', on ='Location', suffixes=('_2019', '_2021'))\n",
    "insur.head()"
   ]
  },
  {
   "cell_type": "code",
   "execution_count": null,
   "id": "60086d33-de9d-4872-8df6-b0e0e659483a",
   "metadata": {},
   "outputs": [],
   "source": [
    "insur.drop(columns =['Year_2019', 'Year_2021'], inplace=True)"
   ]
  },
  {
   "cell_type": "code",
   "execution_count": null,
   "id": "e2108ba6-4606-4b05-af5b-386289e7f7ca",
   "metadata": {},
   "outputs": [],
   "source": [
    "insur.to_csv('Data/cleaned_insur.csv', index = False)"
   ]
  },
  {
   "cell_type": "markdown",
   "id": "11491f62-a78b-44c8-a986-0b4d4296fa72",
   "metadata": {},
   "source": [
    "## Covid Vaccines by State"
   ]
  },
  {
   "cell_type": "code",
   "execution_count": null,
   "id": "5bc576de-be1e-456a-b404-010b4335d4c6",
   "metadata": {},
   "outputs": [],
   "source": [
    "ea = pd.read_csv('Data/Raw/Executive Approval.csv')"
   ]
  },
  {
   "cell_type": "code",
   "execution_count": null,
   "id": "8fec7a41-3aaa-459f-8ba3-3e41dc9449d8",
   "metadata": {},
   "outputs": [],
   "source": [
    "hb = pd.read_csv('Data/Raw/Health Behavior.csv')"
   ]
  },
  {
   "cell_type": "code",
   "execution_count": null,
   "id": "c096dc05-5af5-4138-93d8-9b64e2811af3",
   "metadata": {},
   "outputs": [],
   "source": [
    "phb = pd.read_csv('Data/Raw/Public Health Measures.csv')\n",
    "phb.head()"
   ]
  },
  {
   "cell_type": "code",
   "execution_count": null,
   "id": "5ca14e80-b968-42a2-a0bd-b8be7fc58672",
   "metadata": {},
   "outputs": [],
   "source": [
    "ea_2020 = ea[ea['Start_Date'] == '2020-04-16'].copy()\n",
    "ea_2020.head()"
   ]
  },
  {
   "cell_type": "code",
   "execution_count": null,
   "id": "5f35dc01-e093-4ca0-8032-cf94e20cee66",
   "metadata": {},
   "outputs": [],
   "source": [
    "ea_2020.shape"
   ]
  },
  {
   "cell_type": "code",
   "execution_count": null,
   "id": "252028ac-87fa-4be1-9ed8-0bae62378ef8",
   "metadata": {},
   "outputs": [],
   "source": [
    "ea_2020.drop(columns=['Wave_time', 'StateFIPS', 'Start_Date', 'End_Date', 'N_State'], inplace=True)"
   ]
  },
  {
   "cell_type": "code",
   "execution_count": null,
   "id": "fee3dfd4-673a-453a-ac51-ef64de5a0a2b",
   "metadata": {},
   "outputs": [],
   "source": [
    "hb_2020 = hb[hb['Start_Date'] == '2020-04-16'].copy()\n",
    "hb_2020.drop(columns=['Wave_time', 'StateFIPS', 'Start_Date', 'End_Date', 'N_state'], inplace=True)\n",
    "hb_2020.head()"
   ]
  },
  {
   "cell_type": "code",
   "execution_count": null,
   "id": "6f2aa73e-c887-4f51-8544-c202d19485ce",
   "metadata": {},
   "outputs": [],
   "source": [
    "phb_2020 = phb[phb['Start_Date'] == '2020-12-16'].copy()\n",
    "phb_2020.drop(columns=['Wave_time', 'StateFIPS', 'Start_Date', 'End_Date', 'N_State'], inplace=True)\n",
    "phb_2020.head()"
   ]
  },
  {
   "cell_type": "code",
   "execution_count": null,
   "id": "c33f59b6-5225-43a7-a38a-8a350fef3e99",
   "metadata": {},
   "outputs": [],
   "source": [
    "print(ea_2020.shape)\n",
    "print(phb_2020.shape)\n",
    "print(hb_2020.shape)"
   ]
  },
  {
   "cell_type": "code",
   "execution_count": null,
   "id": "4cbbdc06-5d09-4ded-b1eb-5e74465714ce",
   "metadata": {},
   "outputs": [],
   "source": [
    "health_behavior = pd.merge(ea_2020, hb_2020, how = 'left', on = 'State')"
   ]
  },
  {
   "cell_type": "code",
   "execution_count": null,
   "id": "c7a5d625-8db8-4ecf-9d56-4d0273cb986b",
   "metadata": {},
   "outputs": [],
   "source": [
    "health_behavior.head()"
   ]
  },
  {
   "cell_type": "code",
   "execution_count": null,
   "id": "2bb3968f-2c8b-4561-8baa-3c3f66076325",
   "metadata": {},
   "outputs": [],
   "source": [
    "health_behavior.shape"
   ]
  },
  {
   "cell_type": "code",
   "execution_count": null,
   "id": "10d27d40-19d3-448d-b2fc-40e166eaf0a8",
   "metadata": {},
   "outputs": [],
   "source": [
    "health_behavior.rename(columns={'State' : 'Location'}, inplace = True)"
   ]
  },
  {
   "cell_type": "code",
   "execution_count": null,
   "id": "b4d2f5c4-b140-456f-8e6b-686daf57a612",
   "metadata": {},
   "outputs": [],
   "source": [
    "health_behavior.to_csv('Data/Cleaned/cleaned_health_behavior.csv', index=False)\n",
    "health_behavior.head()"
   ]
  },
  {
   "cell_type": "code",
   "execution_count": null,
   "id": "e9e9b857-9453-4ce1-a801-7956473d6fbd",
   "metadata": {},
   "outputs": [],
   "source": []
  },
  {
   "cell_type": "markdown",
   "id": "b59ab4d2-e94c-471f-b26f-a20933dda15e",
   "metadata": {
    "tags": []
   },
   "source": [
    "### Total Physicians "
   ]
  },
  {
   "cell_type": "code",
   "execution_count": null,
   "id": "ba4190a6-182a-426a-a026-9921eef53569",
   "metadata": {},
   "outputs": [],
   "source": [
    "df = pd.read_csv('data/Raw/total physician.csv')"
   ]
  },
  {
   "cell_type": "code",
   "execution_count": null,
   "id": "78b636dd-dfdb-440e-a69b-ad760a5a476c",
   "metadata": {},
   "outputs": [],
   "source": [
    "df.drop(columns=['Unnamed: 9'],inplace=True)"
   ]
  },
  {
   "cell_type": "code",
   "execution_count": null,
   "id": "fe1ed40d-5e46-4036-8943-ba775297b314",
   "metadata": {},
   "outputs": [],
   "source": [
    "df.drop(columns=['Unnamed: 4'], inplace=True)"
   ]
  },
  {
   "cell_type": "code",
   "execution_count": null,
   "id": "2e636772-4f2a-4762-844d-7b434f917041",
   "metadata": {},
   "outputs": [],
   "source": [
    "df = df.drop(df.index[-1])"
   ]
  },
  {
   "cell_type": "code",
   "execution_count": null,
   "id": "2c6651e5-6202-407d-9891-28ac88fed747",
   "metadata": {},
   "outputs": [],
   "source": [
    "df = df.drop(df.index[:3])"
   ]
  },
  {
   "cell_type": "code",
   "execution_count": null,
   "id": "78f0d85f-d76a-4e0d-8f20-dcbc5b0b6fc8",
   "metadata": {},
   "outputs": [],
   "source": [
    "df = df.reset_index(drop=True)"
   ]
  },
  {
   "cell_type": "code",
   "execution_count": null,
   "id": "1841495f-0dfc-4fa4-a63c-0feee3818156",
   "metadata": {},
   "outputs": [],
   "source": [
    "df = df.drop(df.index[39])"
   ]
  },
  {
   "cell_type": "code",
   "execution_count": null,
   "id": "2766ae7b-30f5-434e-ab66-b27c96019ca9",
   "metadata": {},
   "outputs": [],
   "source": [
    "df = df.reset_index(drop=True)"
   ]
  },
  {
   "cell_type": "code",
   "execution_count": null,
   "id": "7514b612-64b3-4816-bd1e-884ffa82e929",
   "metadata": {},
   "outputs": [],
   "source": [
    "# rankings_pd.rename(columns = {'test':'TEST'}, inplace = True)\n",
    "df.rename(columns={\n",
    "    'Unnamed: 0':'Location',\n",
    "    'Unnamed: 1':'Population',\n",
    "    'Unnamed: 2':'Physicians',\n",
    "    'Unnamed: 3':'Physicians Rate',\n",
    "    'Unnamed: 5':'Active MO',\n",
    "    'Unnamed: 6':'Active MO Rate',\n",
    "    'Unnamed: 7':'Active DO',\n",
    "    'Unnamed: 8':'Active DO Rate'\n",
    "}, inplace=True)"
   ]
  },
  {
   "cell_type": "code",
   "execution_count": null,
   "id": "3be52018-61c0-4fca-9c53-278ad7fc0c75",
   "metadata": {},
   "outputs": [],
   "source": [
    "df.drop(columns=['Population'],inplace=True)"
   ]
  },
  {
   "cell_type": "code",
   "execution_count": null,
   "id": "51660965-65ab-4f75-8a8d-cb9c29a65f70",
   "metadata": {},
   "outputs": [],
   "source": [
    "df = pd.DataFrame(df)"
   ]
  },
  {
   "cell_type": "code",
   "execution_count": null,
   "id": "dc9ed3ed-b353-4e62-a0e8-8a1292bd5c5d",
   "metadata": {},
   "outputs": [],
   "source": [
    "df.to_csv('Data/cleaned_total_physician.csv',index=False)"
   ]
  },
  {
   "cell_type": "markdown",
   "id": "59ebca8e-7320-46de-aefc-b5884bff7bd8",
   "metadata": {},
   "source": [
    "### Cleaning Income per Capita"
   ]
  },
  {
   "cell_type": "code",
   "execution_count": null,
   "id": "f9a98de8-826f-445a-aa68-a063026979c4",
   "metadata": {},
   "outputs": [],
   "source": [
    "income = pd.read_csv('Data/Raw/Income per capita.csv')"
   ]
  },
  {
   "cell_type": "code",
   "execution_count": null,
   "id": "94db3032-1b06-4c8d-b5ab-30664c9ba71d",
   "metadata": {},
   "outputs": [],
   "source": [
    "income = income.drop(income.index[0])"
   ]
  },
  {
   "cell_type": "code",
   "execution_count": null,
   "id": "eb1c5fa6-1d5c-4287-a3be-d57327a4d2fb",
   "metadata": {},
   "outputs": [],
   "source": [
    "income.drop(columns=['State or DC'],inplace=True)"
   ]
  },
  {
   "cell_type": "code",
   "execution_count": null,
   "id": "b7add3a4-1607-4cf8-b08b-306dd5218f64",
   "metadata": {},
   "outputs": [],
   "source": [
    "income.rename(columns={\n",
    "    'Unnamed: 1':'Location',\n",
    "    'Unnamed: 2':'Inc_Per_Cap_2020',\n",
    "    'Unnamed: 3':'Inc_Per_Cap_2021',\n",
    "    'Unnamed: 4':'Inc_Per_CAp_2022'\n",
    "},inplace=True)"
   ]
  },
  {
   "cell_type": "code",
   "execution_count": null,
   "id": "de25bbab-3d6f-4b96-baa5-fc74fe20c8fe",
   "metadata": {},
   "outputs": [],
   "source": [
    "income = income.reset_index(drop=True);"
   ]
  },
  {
   "cell_type": "code",
   "execution_count": null,
   "id": "7fc82a74-6b05-4a53-b3b9-e16eeca2a905",
   "metadata": {},
   "outputs": [],
   "source": [
    "income.to_csv('Data/cleaned_income.csv',index=False)"
   ]
  },
  {
   "cell_type": "markdown",
   "id": "725eb60c-f9b6-4246-9650-4257b04d746f",
   "metadata": {},
   "source": [
    "### Cleaning Total Employment"
   ]
  },
  {
   "cell_type": "code",
   "execution_count": null,
   "id": "32bca981-245c-40be-a176-c14397bd526f",
   "metadata": {},
   "outputs": [],
   "source": [
    "employment = pd.read_csv('Data/Raw/total employment.csv')"
   ]
  },
  {
   "cell_type": "code",
   "execution_count": null,
   "id": "27584623-86f8-45d5-83be-3260df32ff5a",
   "metadata": {},
   "outputs": [],
   "source": [
    "employment = employment.drop(employment.index[0])"
   ]
  },
  {
   "cell_type": "code",
   "execution_count": null,
   "id": "bd84c4e2-ef5c-4c70-b39c-67a82602c075",
   "metadata": {},
   "outputs": [],
   "source": [
    "employment.drop(columns=['State or DC'],inplace=True)"
   ]
  },
  {
   "cell_type": "code",
   "execution_count": null,
   "id": "b88b7c2b-e414-4043-a795-0b9bed392a34",
   "metadata": {},
   "outputs": [],
   "source": [
    "employment.rename(columns={\n",
    "    'Unnamed: 1':'Location',\n",
    "    'Unnamed: 2':'Employment_2020',\n",
    "    'Unnamed: 3':'Employment_2021',\n",
    "    'Unnamed: 4':'Employment_2022'\n",
    "},inplace=True)"
   ]
  },
  {
   "cell_type": "code",
   "execution_count": null,
   "id": "a72da1c3-5a90-4796-9a7d-49687462c641",
   "metadata": {},
   "outputs": [],
   "source": [
    "employment = employment.reset_index(drop=True);"
   ]
  },
  {
   "cell_type": "code",
   "execution_count": null,
   "id": "0c781ad1-5ab2-4182-a1d1-2c175f7bdc3c",
   "metadata": {},
   "outputs": [],
   "source": [
    "employment.to_csv('Data/cleaned_employment.csv',index=False)"
   ]
  },
  {
   "cell_type": "markdown",
   "id": "f5f3832b-9757-4221-873d-f9dab1b1ccaa",
   "metadata": {},
   "source": [
    "### Cleaning Life Expectancy"
   ]
  },
  {
   "cell_type": "code",
   "execution_count": null,
   "id": "9b1eada7-eb74-4777-af00-ea4b4d60c71c",
   "metadata": {},
   "outputs": [],
   "source": [
    "life = pd.read_csv('Data/Raw/life_expectancy.csv')"
   ]
  },
  {
   "cell_type": "code",
   "execution_count": null,
   "id": "1205b0a6-7c89-4ff0-87f0-c077c7a5d876",
   "metadata": {},
   "outputs": [],
   "source": [
    "life.drop(columns=['URL'],inplace=True)"
   ]
  },
  {
   "cell_type": "code",
   "execution_count": null,
   "id": "b1300947-781a-4200-a496-d4fc74f21e23",
   "metadata": {},
   "outputs": [],
   "source": [
    "life.STATE.unique()"
   ]
  },
  {
   "cell_type": "code",
   "execution_count": null,
   "id": "c93b043e-b4db-44c6-919d-deee7da4d7d0",
   "metadata": {},
   "outputs": [],
   "source": [
    "state_name = {\n",
    "    'AL':'Alabama',\n",
    "    'AK':'Alaska',\n",
    "    'AZ':'Arizona',\n",
    "    'AR':'Arkansas',\n",
    "    'CA':'California',\n",
    "    'CO':'Colorado',\n",
    "    'CT':'Connecticut',\n",
    "    'DE':'Delaware',\n",
    "    'DC':'District of Columbia',\n",
    "    'FL':'Florida',\n",
    "    'GA':'Georgia',\n",
    "    'HI':'Hawaii',\n",
    "    'ID':'Idaho',\n",
    "    'IL':'Illinois',\n",
    "    'IN':'Indiana',\n",
    "    'IA':'Iowa',\n",
    "    'KS':'Kansas',\n",
    "    'KY':'Kentucky',\n",
    "    'LA':'Louisiana',\n",
    "    'ME':'Maine',\n",
    "    'MD':'Maryland',\n",
    "    'MA':'Massachusetts',\n",
    "    'MI':'Michigan',\n",
    "    'MN':'Minnesota',\n",
    "    'MS':'Mississippi',\n",
    "    'MO':'Missouri',\n",
    "    'MT':'Montana',\n",
    "    'NE':'Nebraska',\n",
    "    'NV':'Nevada',\n",
    "    'NH':'New Hampshire',\n",
    "    'NJ':'New Jersey',\n",
    "    'NM':'New Mexico',\n",
    "    'NY':'New York',\n",
    "    'NC':'North Carolina',\n",
    "    'ND':'North Dakota',\n",
    "    'OH':'Ohio',\n",
    "    'OK':'Oklahoma',\n",
    "    'OR':'Oregon',\n",
    "    'PA':'Pennsylvania',\n",
    "    'RI':'Rhode Island',\n",
    "    'SC':'South Carolina',\n",
    "    'SD':'South Dakota',\n",
    "    'TN':'Tennessee',\n",
    "    'TX':'Texas',\n",
    "    'UT':'Utah',\n",
    "    'VT':'Vermont',\n",
    "    'VA':'Virginia',\n",
    "    'WA':'Washington',\n",
    "    'WV':'West Virginia',\n",
    "    'WI':'Wisconsin',\n",
    "    'WY':'Wyoming'\n",
    "}"
   ]
  },
  {
   "cell_type": "code",
   "execution_count": null,
   "id": "f8b023e0-e955-470b-9f58-7a6fbe4bcaa6",
   "metadata": {},
   "outputs": [],
   "source": [
    "life['States'] = life['STATE'].map(state_name)"
   ]
  },
  {
   "cell_type": "code",
   "execution_count": null,
   "id": "46880f89-dbfa-46f5-9bb8-b98c33042183",
   "metadata": {},
   "outputs": [],
   "source": [
    "life.drop(columns=['STATE'],inplace=True)"
   ]
  },
  {
   "cell_type": "code",
   "execution_count": null,
   "id": "6d47c9ba-b03f-4a5f-bf1f-0290bda6411e",
   "metadata": {},
   "outputs": [],
   "source": [
    "life_2020 = df4.head(50)"
   ]
  },
  {
   "cell_type": "code",
   "execution_count": null,
   "id": "29a798f0-15df-4491-a14d-f2d7bfbe160e",
   "metadata": {},
   "outputs": [],
   "source": [
    "life_2020.drop(columns=['YEAR'],inplace=True)"
   ]
  },
  {
   "cell_type": "code",
   "execution_count": null,
   "id": "d9382bb0-2ec1-4159-ac12-3197fb43ade3",
   "metadata": {},
   "outputs": [],
   "source": [
    "life_2020 = life_2020[['States', 'RATE']]"
   ]
  },
  {
   "cell_type": "code",
   "execution_count": null,
   "id": "cfe822d0-5561-401e-b176-4de4f1d8a379",
   "metadata": {},
   "outputs": [],
   "source": [
    "life_2020 = life_2020.reset_index(drop=True);"
   ]
  },
  {
   "cell_type": "code",
   "execution_count": null,
   "id": "2befd3cd-ecf0-4d1c-9936-cc6aba89513c",
   "metadata": {},
   "outputs": [],
   "source": [
    "life_2020.rename(columns={'RATE':'Life_Exp_2020'},inplace=True)"
   ]
  },
  {
   "cell_type": "code",
   "execution_count": null,
   "id": "06ba6e81-5f01-46ad-b5a3-34daa4089aa4",
   "metadata": {},
   "outputs": [],
   "source": [
    "life_2019 = df4.iloc[50:100]"
   ]
  },
  {
   "cell_type": "code",
   "execution_count": null,
   "id": "2bde5a32-f92e-4267-b632-03cb167ada50",
   "metadata": {},
   "outputs": [],
   "source": [
    "life_2019.drop(columns=['YEAR'],inplace=True)"
   ]
  },
  {
   "cell_type": "code",
   "execution_count": null,
   "id": "c72f09b5-6b78-4a35-99c2-c38542e6a916",
   "metadata": {},
   "outputs": [],
   "source": [
    "life_2019 = life_2019[['States', 'RATE']]"
   ]
  },
  {
   "cell_type": "code",
   "execution_count": null,
   "id": "f5df10ca-933a-47c0-b300-3027121f13b0",
   "metadata": {},
   "outputs": [],
   "source": [
    "life_2019 = life_2019.reset_index(drop=True);"
   ]
  },
  {
   "cell_type": "code",
   "execution_count": null,
   "id": "b576bb03-429b-42aa-8d94-4be69fa8c8ca",
   "metadata": {},
   "outputs": [],
   "source": [
    "life_2019.rename(columns={'RATE':'Life_Exp_2019'},inplace=True)"
   ]
  },
  {
   "cell_type": "code",
   "execution_count": null,
   "id": "1e217221-d2d4-4dc7-b130-c44ed529577a",
   "metadata": {},
   "outputs": [],
   "source": [
    "life_2018 = df4.iloc[100:150]"
   ]
  },
  {
   "cell_type": "code",
   "execution_count": null,
   "id": "3fa8c06d-d370-4224-8904-81052976a595",
   "metadata": {},
   "outputs": [],
   "source": [
    "life_2018.drop(columns=['YEAR'],inplace=True)"
   ]
  },
  {
   "cell_type": "code",
   "execution_count": null,
   "id": "a6e07f8e-f048-4f50-b280-56812245cc7d",
   "metadata": {},
   "outputs": [],
   "source": [
    "life_2018 = life_2018[['States', 'RATE']]"
   ]
  },
  {
   "cell_type": "code",
   "execution_count": null,
   "id": "6ed8f8ea-a93d-4aeb-a0f1-d5dd1442b65e",
   "metadata": {},
   "outputs": [],
   "source": [
    "life_2018 = life_2018.reset_index(drop=True);"
   ]
  },
  {
   "cell_type": "code",
   "execution_count": null,
   "id": "5db4d237-c8e8-49ee-b1e8-1845d4b6af9b",
   "metadata": {},
   "outputs": [],
   "source": [
    "life_2018.rename(columns={'RATE':'Life_Exp_2018'},inplace=True)"
   ]
  },
  {
   "cell_type": "code",
   "execution_count": null,
   "id": "624bc2c8-c9ee-40ff-8d2b-17dd254141c4",
   "metadata": {},
   "outputs": [],
   "source": [
    "life_2018.head()"
   ]
  },
  {
   "cell_type": "code",
   "execution_count": null,
   "id": "aa3e20bd-fc27-4ac5-a30e-0cd6ea96a62e",
   "metadata": {},
   "outputs": [],
   "source": [
    "life_exp = pd.concat([life_2020, life_2019, life_2018], axis=1)"
   ]
  },
  {
   "cell_type": "code",
   "execution_count": null,
   "id": "92f8e282-0eb3-4731-98e7-ff451571b433",
   "metadata": {},
   "outputs": [],
   "source": [
    "life_exp = life_exp.loc[:, ~life_exp.columns.duplicated()]"
   ]
  },
  {
   "cell_type": "code",
   "execution_count": null,
   "id": "2981ce63-16f7-4f23-ab14-dacac737097e",
   "metadata": {},
   "outputs": [],
   "source": [
    "# Add a new row for the \"District of Columbia\"\n",
    "new_row = pd.DataFrame({'States': 'District of Columbia'}, index=[len(life_exp)])\n",
    "life_exp = pd.concat([life_exp.iloc[:8], new_row, life_exp.iloc[8:]])"
   ]
  },
  {
   "cell_type": "code",
   "execution_count": null,
   "id": "ecccc662-db6b-4708-8a1e-eaab97d2a1dd",
   "metadata": {},
   "outputs": [],
   "source": [
    "life_exp.reset_index(drop=True);"
   ]
  },
  {
   "cell_type": "code",
   "execution_count": null,
   "id": "f029568a-eb7c-4a15-a144-e44e546560df",
   "metadata": {},
   "outputs": [],
   "source": [
    "life_exp.rename(columns={'States':'Location'},inplace=True)"
   ]
  },
  {
   "cell_type": "code",
   "execution_count": null,
   "id": "244f1945-f062-4014-ae8b-37a37fa50f33",
   "metadata": {},
   "outputs": [],
   "source": [
    "life_exp.to_csv('Data/cleaned_Life_Expentency.csv',index=False)"
   ]
  },
  {
   "cell_type": "code",
   "execution_count": null,
   "id": "f1aa11b1-c483-4d96-aa8b-24e022cda9c1",
   "metadata": {},
   "outputs": [],
   "source": []
  },
  {
   "cell_type": "markdown",
   "id": "d2114c2c",
   "metadata": {},
   "source": [
    "### Covid Deaths by State"
   ]
  },
  {
   "cell_type": "code",
   "execution_count": null,
   "id": "63af84e5-6baf-4295-9e26-c3282e31ec61",
   "metadata": {},
   "outputs": [],
   "source": [
    "deaths_covid = pd.read_csv('"
   ]
  },
  {
   "cell_type": "code",
   "execution_count": null,
   "id": "d70b0fe9",
   "metadata": {},
   "outputs": [],
   "source": [
    "deaths_covid = deaths_covid.pivot(index='State', columns='Location', \n",
    "                                  values=['All causes', 'covid'])\n",
    "\n",
    "deaths_covid.columns = ['_'.join(map(str, col)) for col in deaths_covid.columns]\n",
    "deaths_covid = deaths_covid.reset_index()\n",
    "deaths_covid.rename(columns={'State': 'Location'}, inplace=True)\n",
    "deaths_covid.rename(columns={\n",
    "    'All causes_2020': 'all_causes_2020',\n",
    "    'All causes_2021': 'all_causes_2021',\n",
    "    'All causes_2022': 'all_causes_2022',\n",
    "    'covid_2020': 'covid_2020',\n",
    "    'covid_2021': 'covid_2021',\n",
    "    'covid_2022': 'covid_2022',\n",
    "}, inplace=True)\n",
    "deaths_covid.head()"
   ]
  },
  {
   "cell_type": "code",
   "execution_count": null,
   "id": "2bc55618",
   "metadata": {},
   "outputs": [],
   "source": []
  },
  {
   "cell_type": "markdown",
   "id": "1db5b5cc-b941-4ce7-b1b3-b44dea29fb56",
   "metadata": {},
   "source": [
    "## Merging the Cleaned State Data into 1 df"
   ]
  },
  {
   "cell_type": "code",
   "execution_count": null,
   "id": "8a45da91-726b-44eb-bd99-35c81496a79b",
   "metadata": {},
   "outputs": [],
   "source": [
    "def merge_dataframes():\n",
    "    employ = pd.read_csv('Data/Cleaned/cleaned_employment.csv')\n",
    "    income = pd.read_csv('Data/Cleaned/cleaned_income.csv')\n",
    "    life = pd.read_csv('Data/Cleaned/cleaned_Life_Expentency.csv')\n",
    "    insur = pd.read_csv('Data/Cleaned/cleaned_insur.csv')\n",
    "    pop_dense = pd.read_csv('Data/Cleaned/cleaned_pop_dense.csv')\n",
    "    pop_size = pd.read_csv('Data/Cleaned/cleaned_pop_size.csv')\n",
    "    pre_cond = pd.read_csv('Data/Cleaned/cleaned_pre_condtions.csv')\n",
    "    total_phys = pd.read_csv('Data/Cleaned/cleaned_total_physician.csv')\n",
    "    \n",
    "    merged_df = employ.merge(income, on='Location').merge(life, on='Location').merge(insur, on='Location') \\\n",
    "        .merge(pop_dense, on='Location').merge(pop_size, on='Location').merge(pre_cond, on='Location') \\\n",
    "        .merge(total_phys, on='Location').merge(excess_deaths, on='Location')\n",
    "\n",
    "    return merged_df\n",
    "merged_data = merge_dataframes()"
   ]
  },
  {
   "cell_type": "code",
   "execution_count": null,
   "id": "78d44119-2aef-4036-b03b-96a83abb8376",
   "metadata": {},
   "outputs": [],
   "source": [
    "merged_data.drop(columns=['Unnamed: 0'], inplace=True)\n",
    "merged_data.head()"
   ]
  },
  {
   "cell_type": "code",
   "execution_count": null,
   "id": "8dea8ca1-1583-40fc-aebb-108bc10d4c8e",
   "metadata": {},
   "outputs": [],
   "source": [
    "vax_state = pd.read_csv('Data/Cleaned/vax_state.csv')\n",
    "vax_state.head()"
   ]
  },
  {
   "cell_type": "code",
   "execution_count": null,
   "id": "7aeeb8a6-d0c0-453e-93d1-472e64e01d05",
   "metadata": {},
   "outputs": [],
   "source": [
    "state_name = {\n",
    "    'AL':'Alabama',\n",
    "    'AK':'Alaska',\n",
    "    'AZ':'Arizona',\n",
    "    'AR':'Arkansas',\n",
    "    'CA':'California',\n",
    "    'CO':'Colorado',\n",
    "    'CT':'Connecticut',\n",
    "    'DE':'Delaware',\n",
    "    'DC':'District of Columbia',\n",
    "    'FL':'Florida',\n",
    "    'GA':'Georgia',\n",
    "    'HI':'Hawaii',\n",
    "    'ID':'Idaho',\n",
    "    'IL':'Illinois',\n",
    "    'IN':'Indiana',\n",
    "    'IA':'Iowa',\n",
    "    'KS':'Kansas',\n",
    "    'KY':'Kentucky',\n",
    "    'LA':'Louisiana',\n",
    "    'ME':'Maine',\n",
    "    'MD':'Maryland',\n",
    "    'MA':'Massachusetts',\n",
    "    'MI':'Michigan',\n",
    "    'MN':'Minnesota',\n",
    "    'MS':'Mississippi',\n",
    "    'MO':'Missouri',\n",
    "    'MT':'Montana',\n",
    "    'NE':'Nebraska',\n",
    "    'NV':'Nevada',\n",
    "    'NH':'New Hampshire',\n",
    "    'NJ':'New Jersey',\n",
    "    'NM':'New Mexico',\n",
    "    'NY':'New York',\n",
    "    'NC':'North Carolina',\n",
    "    'ND':'North Dakota',\n",
    "    'OH':'Ohio',\n",
    "    'OK':'Oklahoma',\n",
    "    'OR':'Oregon',\n",
    "    'PA':'Pennsylvania',\n",
    "    'RI':'Rhode Island',\n",
    "    'SC':'South Carolina',\n",
    "    'SD':'South Dakota',\n",
    "    'TN':'Tennessee',\n",
    "    'TX':'Texas',\n",
    "    'UT':'Utah',\n",
    "    'VT':'Vermont',\n",
    "    'VA':'Virginia',\n",
    "    'WA':'Washington',\n",
    "    'WV':'West Virginia',\n",
    "    'WI':'Wisconsin',\n",
    "    'WY':'Wyoming'\n",
    "}\n",
    "vax_state['Location'] = vax_state['Location'].map(state_name)"
   ]
  },
  {
   "cell_type": "code",
   "execution_count": null,
   "id": "5b06a9c6-353b-4c94-8f42-bb640907cb02",
   "metadata": {},
   "outputs": [],
   "source": [
    "state_mask = pd.read_csv('Data/Cleaned/cleaned_mask.csv')\n",
    "merged_data = merged_data.merge(vax_state, on='Location').merge(state_mask, on='Location')\n",
    "merged_data.head()"
   ]
  },
  {
   "cell_type": "code",
   "execution_count": null,
   "id": "b44abd0c-57ca-491b-ac58-f0f0998952fa",
   "metadata": {},
   "outputs": [],
   "source": [
    "merged_data['Population Density per mi²'] = merged_data['Population Density per mi²'].str.replace(',', '', regex=True).astype(float)\n",
    "merged_data['Physicians'] = merged_data['Physicians'].str.replace(',', '', regex=True).astype(float)\n",
    "merged_data['Active DO'] = merged_data['Active DO'].str.replace(',', '', regex=True).astype(float)\n",
    "merged_data['Active MO'] = merged_data['Active MO'].str.replace(',', '', regex=True).astype(float)\n",
    "merged_data['Mandatory'] = merged_data['Mandatory'].map({'Yes':1, 'No':0})"
   ]
  },
  {
   "cell_type": "code",
   "execution_count": null,
   "id": "cf3385b1-75cc-4635-8360-b69030daf455",
   "metadata": {},
   "outputs": [],
   "source": [
    "merged_data.dtypes"
   ]
  },
  {
   "cell_type": "code",
   "execution_count": null,
   "id": "a945a01a-2fdf-448d-a70a-1eba9f67f1ab",
   "metadata": {},
   "outputs": [],
   "source": [
    "merged_data.isnull().sum()"
   ]
  },
  {
   "cell_type": "code",
   "execution_count": null,
   "id": "70c0c7fb-1f81-4b57-84d0-883f592fbadd",
   "metadata": {},
   "outputs": [],
   "source": [
    "merged_data['asthma_prevalence'].fillna(8.4, inplace=True)\n",
    "merged_data['kidney_disease_prevalence'].fillna(52.1, inplace=True)\n",
    "merged_data['flu_vaccination_rate_2019'].fillna(38, inplace=True)\n",
    "merged_data['high_bp_prevalence'].fillna(33, inplace=True)\n",
    "merged_data['copd_prevalence'].fillna(5.2, inplace =True)\n",
    "merged_data['diabetes_prevalence'].fillna(9.5, inplace=True)"
   ]
  },
  {
   "cell_type": "code",
   "execution_count": null,
   "id": "12f4b8e0-7aed-412c-8ed8-0ae3e87e525a",
   "metadata": {},
   "outputs": [],
   "source": [
    "merged_data.to_csv('Data/Merged_state_data.csv', index=False)"
   ]
  },
  {
   "cell_type": "code",
   "execution_count": null,
   "id": "d1fd967b-7848-4966-83e5-c4d3a33c7cff",
   "metadata": {},
   "outputs": [],
   "source": []
  },
  {
   "cell_type": "code",
   "execution_count": null,
   "id": "fd445d0c-0d67-47c4-af78-4987dff5f663",
   "metadata": {},
   "outputs": [],
   "source": [
    "merged = pd.read_csv('Data/Merged_state_data.csv')\n",
    "merged.head()"
   ]
  },
  {
   "cell_type": "code",
   "execution_count": null,
   "id": "2d5fb0e7-af44-42fd-bf3e-a33599d57361",
   "metadata": {},
   "outputs": [],
   "source": [
    "merged = pd.merge(merged, health_behavior, how = 'left', on= 'Location')"
   ]
  },
  {
   "cell_type": "code",
   "execution_count": null,
   "id": "b4cb7100-65af-4c4f-bf47-6f516c1198e1",
   "metadata": {},
   "outputs": [],
   "source": [
    "merged = pd.read_csv('Data/merged_state_with_health.csv')"
   ]
  },
  {
   "cell_type": "code",
   "execution_count": null,
   "id": "6a01de96-9669-4d20-bebb-7726edc32c1d",
   "metadata": {},
   "outputs": [],
   "source": []
  },
  {
   "cell_type": "code",
   "execution_count": null,
   "id": "add437b0-98e0-4198-ba16-fde1296b23f3",
   "metadata": {},
   "outputs": [],
   "source": [
    "df = pd.read_csv('Data/merged_state_with_health.csv')\n",
    "df.head()"
   ]
  },
  {
   "cell_type": "code",
   "execution_count": null,
   "id": "5b86de5c-8161-413f-a089-ba63486b47af",
   "metadata": {},
   "outputs": [],
   "source": [
    "df = df.merge(deaths_covid, on='Location')\n",
    "df.head()"
   ]
  },
  {
   "cell_type": "code",
   "execution_count": null,
   "id": "1bc088dd-98d3-44a6-9380-1b2e0f5afa10",
   "metadata": {},
   "outputs": [],
   "source": [
    "#df.drop('Mask_Mandate', inplace = True)\n",
    "df['Population Density per mi²'] = df['Population Density per mi²'].str.replace(',', '', regex=True).astype(float)\n",
    "df['Physicians'] = df['Physicians'].str.replace(',', '', regex=True).astype(float)\n",
    "df['Active DO'] = df['Active DO'].str.replace(',', '', regex=True).astype(float)\n",
    "df['Active MO'] = df['Active MO'].str.replace(',', '', regex=True).astype(float)\n",
    "df['Mandatory'] = df['Mandatory'].map({'Yes':1, 'No':0})"
   ]
  },
  {
   "cell_type": "code",
   "execution_count": null,
   "id": "308a0305-50d7-4741-8829-9d357bdcc0b2",
   "metadata": {},
   "outputs": [],
   "source": [
    "df.to_csv('Data/merged_state_final.csv', index=False)"
   ]
  },
  {
   "cell_type": "code",
   "execution_count": null,
   "id": "c14d8183-6917-4a99-885c-de9dda82b2e5",
   "metadata": {},
   "outputs": [],
   "source": []
  },
  {
   "cell_type": "markdown",
   "id": "40381ec4",
   "metadata": {},
   "source": [
    "# County level Data"
   ]
  },
  {
   "cell_type": "markdown",
   "id": "c1945d94",
   "metadata": {},
   "source": [
    "### Further Cleaning County Level Data"
   ]
  },
  {
   "cell_type": "code",
   "execution_count": 6,
   "id": "48264128",
   "metadata": {},
   "outputs": [
    {
     "data": {
      "text/html": [
       "<div>\n",
       "<style scoped>\n",
       "    .dataframe tbody tr th:only-of-type {\n",
       "        vertical-align: middle;\n",
       "    }\n",
       "\n",
       "    .dataframe tbody tr th {\n",
       "        vertical-align: top;\n",
       "    }\n",
       "\n",
       "    .dataframe thead th {\n",
       "        text-align: right;\n",
       "    }\n",
       "</style>\n",
       "<table border=\"1\" class=\"dataframe\">\n",
       "  <thead>\n",
       "    <tr style=\"text-align: right;\">\n",
       "      <th></th>\n",
       "      <th>FIPS_x</th>\n",
       "      <th>County</th>\n",
       "      <th>Years of Potential Life Lost Rate (premature death)</th>\n",
       "      <th>YPLL Rate (Black)</th>\n",
       "      <th>YPLL Rate (Hispanic)</th>\n",
       "      <th>YPLL Rate (White)</th>\n",
       "      <th>% Fair/Poor Health</th>\n",
       "      <th>percent_smokers</th>\n",
       "      <th>percent_obese</th>\n",
       "      <th>Food Environment Index</th>\n",
       "      <th>...</th>\n",
       "      <th>cases_2020</th>\n",
       "      <th>cases_2021</th>\n",
       "      <th>cases_2022</th>\n",
       "      <th>deaths_2020</th>\n",
       "      <th>deaths_2021</th>\n",
       "      <th>deaths_2022</th>\n",
       "      <th>Masks</th>\n",
       "      <th>FIPS_y</th>\n",
       "      <th>Administered_Dose1_Pop_Pct</th>\n",
       "      <th>Administered_Dose1_Recip_65PlusPop_Pct</th>\n",
       "    </tr>\n",
       "  </thead>\n",
       "  <tbody>\n",
       "    <tr>\n",
       "      <th>0</th>\n",
       "      <td>1001</td>\n",
       "      <td>Autauga</td>\n",
       "      <td>8824.0</td>\n",
       "      <td>10471.0</td>\n",
       "      <td>NaN</td>\n",
       "      <td>8707.0</td>\n",
       "      <td>18</td>\n",
       "      <td>19</td>\n",
       "      <td>38</td>\n",
       "      <td>7.2</td>\n",
       "      <td>...</td>\n",
       "      <td>4190.0</td>\n",
       "      <td>11018.0</td>\n",
       "      <td>18961.0</td>\n",
       "      <td>48.0</td>\n",
       "      <td>160.0</td>\n",
       "      <td>230.0</td>\n",
       "      <td>267.0</td>\n",
       "      <td>1001</td>\n",
       "      <td>42.2</td>\n",
       "      <td>73.8</td>\n",
       "    </tr>\n",
       "    <tr>\n",
       "      <th>1</th>\n",
       "      <td>1003</td>\n",
       "      <td>Baldwin</td>\n",
       "      <td>7225.0</td>\n",
       "      <td>10042.0</td>\n",
       "      <td>3087.0</td>\n",
       "      <td>7278.0</td>\n",
       "      <td>18</td>\n",
       "      <td>17</td>\n",
       "      <td>31</td>\n",
       "      <td>8.0</td>\n",
       "      <td>...</td>\n",
       "      <td>13601.0</td>\n",
       "      <td>39911.0</td>\n",
       "      <td>67496.0</td>\n",
       "      <td>161.0</td>\n",
       "      <td>593.0</td>\n",
       "      <td>719.0</td>\n",
       "      <td>267.0</td>\n",
       "      <td>1003</td>\n",
       "      <td>53.2</td>\n",
       "      <td>89.9</td>\n",
       "    </tr>\n",
       "    <tr>\n",
       "      <th>2</th>\n",
       "      <td>1005</td>\n",
       "      <td>Barbour</td>\n",
       "      <td>9586.0</td>\n",
       "      <td>11333.0</td>\n",
       "      <td>NaN</td>\n",
       "      <td>7310.0</td>\n",
       "      <td>26</td>\n",
       "      <td>22</td>\n",
       "      <td>44</td>\n",
       "      <td>5.6</td>\n",
       "      <td>...</td>\n",
       "      <td>1514.0</td>\n",
       "      <td>3860.0</td>\n",
       "      <td>7027.0</td>\n",
       "      <td>32.0</td>\n",
       "      <td>81.0</td>\n",
       "      <td>103.0</td>\n",
       "      <td>267.0</td>\n",
       "      <td>1005</td>\n",
       "      <td>44.5</td>\n",
       "      <td>75.3</td>\n",
       "    </tr>\n",
       "    <tr>\n",
       "      <th>3</th>\n",
       "      <td>1007</td>\n",
       "      <td>Bibb</td>\n",
       "      <td>11784.0</td>\n",
       "      <td>14813.0</td>\n",
       "      <td>NaN</td>\n",
       "      <td>11328.0</td>\n",
       "      <td>20</td>\n",
       "      <td>20</td>\n",
       "      <td>38</td>\n",
       "      <td>7.6</td>\n",
       "      <td>...</td>\n",
       "      <td>1834.0</td>\n",
       "      <td>4533.0</td>\n",
       "      <td>7692.0</td>\n",
       "      <td>46.0</td>\n",
       "      <td>95.0</td>\n",
       "      <td>108.0</td>\n",
       "      <td>267.0</td>\n",
       "      <td>1007</td>\n",
       "      <td>36.6</td>\n",
       "      <td>64.2</td>\n",
       "    </tr>\n",
       "    <tr>\n",
       "      <th>4</th>\n",
       "      <td>1009</td>\n",
       "      <td>Blount</td>\n",
       "      <td>10908.0</td>\n",
       "      <td>NaN</td>\n",
       "      <td>5620.0</td>\n",
       "      <td>11336.0</td>\n",
       "      <td>21</td>\n",
       "      <td>20</td>\n",
       "      <td>34</td>\n",
       "      <td>8.5</td>\n",
       "      <td>...</td>\n",
       "      <td>4641.0</td>\n",
       "      <td>11256.0</td>\n",
       "      <td>17731.0</td>\n",
       "      <td>63.0</td>\n",
       "      <td>198.0</td>\n",
       "      <td>260.0</td>\n",
       "      <td>267.0</td>\n",
       "      <td>1009</td>\n",
       "      <td>31.9</td>\n",
       "      <td>56.6</td>\n",
       "    </tr>\n",
       "  </tbody>\n",
       "</table>\n",
       "<p>5 rows × 83 columns</p>\n",
       "</div>"
      ],
      "text/plain": [
       "   FIPS_x   County  Years of Potential Life Lost Rate (premature death)  \\\n",
       "0    1001  Autauga                                             8824.0     \n",
       "1    1003  Baldwin                                             7225.0     \n",
       "2    1005  Barbour                                             9586.0     \n",
       "3    1007     Bibb                                            11784.0     \n",
       "4    1009   Blount                                            10908.0     \n",
       "\n",
       "   YPLL Rate (Black)  YPLL Rate (Hispanic)  YPLL Rate (White)  \\\n",
       "0            10471.0                   NaN             8707.0   \n",
       "1            10042.0                3087.0             7278.0   \n",
       "2            11333.0                   NaN             7310.0   \n",
       "3            14813.0                   NaN            11328.0   \n",
       "4                NaN                5620.0            11336.0   \n",
       "\n",
       "   % Fair/Poor Health  percent_smokers  percent_obese  Food Environment Index  \\\n",
       "0                  18               19             38                     7.2   \n",
       "1                  18               17             31                     8.0   \n",
       "2                  26               22             44                     5.6   \n",
       "3                  20               20             38                     7.6   \n",
       "4                  21               20             34                     8.5   \n",
       "\n",
       "   ...  cases_2020  cases_2021  cases_2022  deaths_2020  deaths_2021  \\\n",
       "0  ...      4190.0     11018.0     18961.0         48.0        160.0   \n",
       "1  ...     13601.0     39911.0     67496.0        161.0        593.0   \n",
       "2  ...      1514.0      3860.0      7027.0         32.0         81.0   \n",
       "3  ...      1834.0      4533.0      7692.0         46.0         95.0   \n",
       "4  ...      4641.0     11256.0     17731.0         63.0        198.0   \n",
       "\n",
       "   deaths_2022  Masks  FIPS_y  Administered_Dose1_Pop_Pct  \\\n",
       "0        230.0  267.0    1001                        42.2   \n",
       "1        719.0  267.0    1003                        53.2   \n",
       "2        103.0  267.0    1005                        44.5   \n",
       "3        108.0  267.0    1007                        36.6   \n",
       "4        260.0  267.0    1009                        31.9   \n",
       "\n",
       "   Administered_Dose1_Recip_65PlusPop_Pct  \n",
       "0                                    73.8  \n",
       "1                                    89.9  \n",
       "2                                    75.3  \n",
       "3                                    64.2  \n",
       "4                                    56.6  \n",
       "\n",
       "[5 rows x 83 columns]"
      ]
     },
     "execution_count": 6,
     "metadata": {},
     "output_type": "execute_result"
    }
   ],
   "source": [
    "df = pd.read_csv('../Data/Cleaned/county_df2.csv')\n",
    "df.head()"
   ]
  },
  {
   "cell_type": "code",
   "execution_count": 7,
   "id": "efc156d2",
   "metadata": {},
   "outputs": [],
   "source": [
    "# Drop rows that we will not be using 'Segregation index black/white',\n",
    "df.drop(columns = ['County', 'YPLL Rate (Black)', 'YPLL Rate (Hispanic)', 'YPLL Rate (White)', 'Number Uninsured', 'Number Primary Care Physicians', 'FIPS_y', 'Number pre-mature Deaths',\n",
    "                        'Preventable Hosp. Rate (Black)', 'Preventable Hosp. Rate (Hispanic)', 'Preventable Hosp. Rate (White)',  'Percent Vaccinated Flu (Black)', 'Percent Uninsured',\n",
    "                        'Percent  Vaccinated (Hispanic) Flu', 'Percent Vaccinated (White) Flu', 'Number Some College', 'Number Unemployed', 'Labor Force', 'PCP Ratio', \n",
    "                        '80th Percentile Income', '20th Percentile Income', '95% CI - Low', '95% CI - High', 'Life Expectancy (Black)', 'Life Expectancy (Hispanic)', \n",
    "                        'Life Expectancy (White)', 'Number HIV Cases', 'Household income (Black)', 'Household income (Hispanic)', 'Household income (White)'], inplace = True)"
   ]
  },
  {
   "cell_type": "code",
   "execution_count": 8,
   "id": "6bfa86e5",
   "metadata": {},
   "outputs": [
    {
     "data": {
      "text/plain": [
       "(1828, 47)"
      ]
     },
     "execution_count": 8,
     "metadata": {},
     "output_type": "execute_result"
    }
   ],
   "source": [
    "# Make FIPS index \n",
    "df.set_index('FIPS_x', inplace=True)\n",
    "\n",
    "# Dummify  Presence of water violation\n",
    "df['water'] = df['Presence of water violation'].map({'No': 0, 'Yes': 1})\n",
    "df.drop(columns = ['Presence of water violation', 'State'], inplace = True)\n",
    "\n",
    "# Set case and deaths\n",
    "df['cases'] = df['cases_2022']\n",
    "df['deaths'] = df['deaths_2022']\n",
    "df.drop(columns = ['cases_2020', 'cases_2021', 'cases_2022', 'deaths_2020', 'deaths_2021', 'deaths_2022'], inplace = True)\n",
    "\n",
    "# Drop NA values\n",
    "df.dropna(inplace=True)\n",
    "df.shape"
   ]
  },
  {
   "cell_type": "code",
   "execution_count": 9,
   "id": "29fe58a9-0ab5-4a26-8ba8-4fecffab60e6",
   "metadata": {
    "tags": []
   },
   "outputs": [],
   "source": [
    "df.to_csv('../Data/Cleaned/county_df3.csv')"
   ]
  },
  {
   "cell_type": "markdown",
   "id": "03f6298b-d752-4d5b-8e87-a1372c245c4f",
   "metadata": {},
   "source": [
    "# Exploratory Data Analysis"
   ]
  },
  {
   "cell_type": "markdown",
   "id": "52f06ea5-9a7b-4cd5-93f9-f02ee936521b",
   "metadata": {},
   "source": [
    "## State Level"
   ]
  },
  {
   "cell_type": "code",
   "execution_count": null,
   "id": "b05ffeb0-7fea-45db-9f48-81c514df28a9",
   "metadata": {},
   "outputs": [],
   "source": [
    "state_df = pd.read_csv('Data/merged_state_final.csv')"
   ]
  },
  {
   "cell_type": "code",
   "execution_count": null,
   "id": "640f8b11-0a76-4e87-a503-ea5b3692609e",
   "metadata": {},
   "outputs": [],
   "source": [
    "covid_by_pop = state_df['covid_2020'] + state_df['covid_2021'] + state_df['covid_2022']\n",
    "state_df['covid_deaths_by_population'] = (covid_by_pop / state_df['2020 Population']) * 10000\n"
   ]
  },
  {
   "cell_type": "code",
   "execution_count": null,
   "id": "ee4d9360-a029-4677-b415-0affbfed161a",
   "metadata": {},
   "outputs": [],
   "source": [
    "state_df.head()"
   ]
  },
  {
   "cell_type": "code",
   "execution_count": null,
   "id": "e0244925-c8bd-455a-b15b-83ae2bff526a",
   "metadata": {},
   "outputs": [],
   "source": [
    "top_10_states = state_df.sort_values(by='covid_deaths_by_population', ascending=True).head(10)"
   ]
  },
  {
   "cell_type": "code",
   "execution_count": null,
   "id": "2e75e0b0-cdad-405e-9f00-0468996a467d",
   "metadata": {},
   "outputs": [],
   "source": [
    "bottom_10_states = state_df.sort_values(by='covid_deaths_by_population', ascending=False).head(10)\n",
    "bottom_10_states"
   ]
  },
  {
   "cell_type": "code",
   "execution_count": null,
   "id": "a941259f-c42b-4dbc-8575-83cec5a48623",
   "metadata": {},
   "outputs": [],
   "source": [
    "plt.figure(figsize=(10, 6))\n",
    "\n",
    "# Scatter plot for 2020\n",
    "plt.scatter(state_df['Inc_Per_Cap_2020'], state_df.covid_deaths_by_population, label='2020', alpha=0.6)\n",
    "\n",
    "# Scatter plot for 2021\n",
    "plt.scatter(state_df['Inc_Per_Cap_2021'], state_df.covid_deaths_by_population, label='2021', alpha=0.6)\n",
    "\n",
    "# Scatter plot for 2022\n",
    "plt.scatter(state_df['Inc_Per_CAp_2022'], state_df.covid_deaths_by_population, label='2022', alpha=0.6)\n",
    "\n",
    "plt.title('Scatter Plot of Income Per Capita by Covid Deaths (2020-2022)')\n",
    "plt.xlabel('Income Per Capita')\n",
    "plt.ylabel('covid_deaths_by_population')\n",
    "plt.legend()"
   ]
  },
  {
   "cell_type": "markdown",
   "id": "5810d083-9056-4599-898d-a01cd3157cee",
   "metadata": {},
   "source": [
    "## County Level"
   ]
  },
  {
   "cell_type": "code",
   "execution_count": null,
   "id": "d33670e6-9f94-4435-8042-e80ec4f78e27",
   "metadata": {},
   "outputs": [],
   "source": [
    "county_df = pd.read_csv('Data/Cleaned/county_df2.csv')\n",
    "county_df"
   ]
  },
  {
   "cell_type": "code",
   "execution_count": null,
   "id": "aa979523-5b5c-41d9-898a-d6a7c515adca",
   "metadata": {},
   "outputs": [],
   "source": [
    "covid_by_pop = county_df['deaths_2020'] + county_df['deaths_2021'] + county_df['deaths_2022']\n",
    "county_df['covid_deaths_by_population'] = (covid_by_pop / county_df['Population']) * 10000"
   ]
  },
  {
   "cell_type": "code",
   "execution_count": null,
   "id": "82885d58-ef70-4cfb-941e-4b0ee9f183c9",
   "metadata": {},
   "outputs": [],
   "source": [
    "county_df.head()"
   ]
  },
  {
   "cell_type": "code",
   "execution_count": null,
   "id": "486bb757-cb7f-401f-b688-fa1657c88e13",
   "metadata": {},
   "outputs": [],
   "source": [
    "plt.scatter(county_df['% Physically Inactive'], county_df.covid_deaths_by_population, label='Physically Inactive', alpha=0.25)\n",
    "\n",
    "plt.title('Scatter Plot of % Physically Inactive by Covid Deaths (2020-2022)')\n",
    "plt.xlabel('% Physically Inactive')\n",
    "plt.ylabel('covid_deaths_by_population')\n",
    "plt.legend()"
   ]
  },
  {
   "cell_type": "code",
   "execution_count": null,
   "id": "2a3b9eae-c010-43d2-8975-da45819a4f1e",
   "metadata": {},
   "outputs": [],
   "source": [
    "plt.scatter(county_df['Percent Unemployed'], county_df.covid_deaths_by_population, label='Percent Unemployed', alpha=0.25)\n",
    "\n",
    "plt.title('Scatter Plot of Percent Unemployed by Covid Deaths (2020-2022)')\n",
    "plt.xlabel('% Percent Unemployed')\n",
    "plt.ylabel('covid_deaths_by_population')\n",
    "plt.legend()"
   ]
  },
  {
   "cell_type": "code",
   "execution_count": null,
   "id": "9f5760fd-ee7c-4999-bb38-76bc741b3ca9",
   "metadata": {},
   "outputs": [],
   "source": [
    "plt.scatter(county_df['Average Daily PM2.5'], county_df.covid_deaths_by_population, label='Average Daily PM2.5', alpha=0.25)\n",
    "\n",
    "plt.title('Scatter Plot of Average Daily PM2.5 by Covid Deaths (2020-2022)')\n",
    "plt.xlabel('Average Daily PM2.5')\n",
    "plt.ylabel('covid_deaths_by_population')\n",
    "plt.legend()"
   ]
  },
  {
   "cell_type": "code",
   "execution_count": null,
   "id": "bebbdcd3-a901-47df-abb8-bb6d69c21104",
   "metadata": {},
   "outputs": [],
   "source": [
    "plt.scatter(county_df['Percent Insufficient Sleep'], county_df.covid_deaths_by_population, label='Percent Insufficient Sleep', alpha=0.25)\n",
    "\n",
    "plt.title('Scatter Plot of Percent Insufficient Sleep by Covid Deaths (2020-2022)')\n",
    "plt.xlabel('Percent Insufficient Sleep')\n",
    "plt.ylabel('covid_deaths_by_population')\n",
    "plt.legend()"
   ]
  },
  {
   "cell_type": "code",
   "execution_count": null,
   "id": "17837ea8-b9a3-4679-8329-4ed8ed85efe8",
   "metadata": {},
   "outputs": [],
   "source": [
    "plt.scatter(county_df['Percent Uninsured Adults'], county_df.covid_deaths_by_population, label='Percent Uninsured Adults', alpha=0.25)\n",
    "plt.title('Scatter Plot of Percent Uninsured Adults by Covid Deaths (2020-2022)')\n",
    "plt.xlabel('Percent Uninsured Adults')\n",
    "plt.ylabel('covid_deaths_by_population')\n",
    "plt.legend()"
   ]
  },
  {
   "cell_type": "code",
   "execution_count": null,
   "id": "4294c2d9-286f-44b4-98e4-d861b5756f4a",
   "metadata": {},
   "outputs": [],
   "source": [
    "plt.scatter(county_df['Population'], county_df.covid_deaths_by_population, label='Population', alpha=0.25)\n",
    "\n",
    "plt.title('Scatter Plot of Population by Covid Deaths (2020-2022)')\n",
    "plt.xlabel('Population')\n",
    "plt.ylabel('covid_deaths_by_population')\n",
    "plt.legend()"
   ]
  },
  {
   "cell_type": "code",
   "execution_count": null,
   "id": "b1ffb52b-7d2d-4177-a766-93f3144616c9",
   "metadata": {},
   "outputs": [],
   "source": [
    "plt.scatter(county_df['percent Asian'], county_df.covid_deaths_by_population, label='percent Asian', alpha=0.25)\n",
    "\n",
    "plt.title('Scatter Plot of percent Asian by Covid Deaths (2020-2022)')\n",
    "plt.xlabel('percent Asian')\n",
    "plt.ylabel('covid_deaths_by_population')\n",
    "plt.legend()"
   ]
  },
  {
   "cell_type": "code",
   "execution_count": null,
   "id": "6786fcd8-618b-433e-90dd-6148f5c6a4e5",
   "metadata": {},
   "outputs": [],
   "source": [
    "plt.scatter(county_df['Masks'], county_df.covid_deaths_by_population, label='Masks', alpha=0.25)\n",
    "\n",
    "plt.title('Scatter Plot of Masks by Covid Deaths (2020-2022)')\n",
    "plt.xlabel('Masks')\n",
    "plt.ylabel('covid_deaths_by_population')\n",
    "plt.legend()"
   ]
  },
  {
   "cell_type": "code",
   "execution_count": null,
   "id": "dfb136b1-6fe0-471d-b104-2e91b931e354",
   "metadata": {},
   "outputs": [],
   "source": [
    "plt.scatter(county_df['Administered_Dose1_Pop_Pct'], county_df.covid_deaths_by_population, label='Administered_Dose1_Pop_Pct', alpha=0.25)\n",
    "plt.title('Scatter Plot of Administered_Dose1_Pop_Pct by Covid Deaths (2020-2022)')\n",
    "plt.xlabel('Administered_Dose1_Pop_Pct')\n",
    "plt.ylabel('covid_deaths_by_population')\n",
    "plt.legend()"
   ]
  },
  {
   "cell_type": "code",
   "execution_count": null,
   "id": "aad38985-1ce9-460b-b1cb-4ca2bece238a",
   "metadata": {},
   "outputs": [],
   "source": []
  },
  {
   "cell_type": "code",
   "execution_count": null,
   "id": "c4eb60d1-51ae-413a-9c52-45fc0b4a8a83",
   "metadata": {},
   "outputs": [],
   "source": []
  },
  {
   "cell_type": "code",
   "execution_count": null,
   "id": "7d3364c1-3869-443f-b03b-f10b744b58ae",
   "metadata": {},
   "outputs": [],
   "source": []
  }
 ],
 "metadata": {
  "kernelspec": {
   "display_name": "Python 3 (ipykernel)",
   "language": "python",
   "name": "python3"
  },
  "language_info": {
   "codemirror_mode": {
    "name": "ipython",
    "version": 3
   },
   "file_extension": ".py",
   "mimetype": "text/x-python",
   "name": "python",
   "nbconvert_exporter": "python",
   "pygments_lexer": "ipython3",
   "version": "3.11.4"
  }
 },
 "nbformat": 4,
 "nbformat_minor": 5
}
