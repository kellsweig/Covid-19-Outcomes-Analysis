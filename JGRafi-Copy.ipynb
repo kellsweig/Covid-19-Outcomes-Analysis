{
 "cells": [
  {
   "cell_type": "markdown",
   "id": "85562b9a",
   "metadata": {},
   "source": [
    "### Imports"
   ]
  },
  {
   "cell_type": "code",
   "execution_count": 1,
   "id": "261af0cf",
   "metadata": {
    "tags": []
   },
   "outputs": [],
   "source": [
    "import pandas as pd\n",
    "import numpy as np\n",
    "import requests\n",
    "from bs4 import BeautifulSoup\n",
    "\n",
    "pd.set_option('display.max_columns', None)"
   ]
  },
  {
   "cell_type": "markdown",
   "id": "65684996",
   "metadata": {},
   "source": [
    "### 2020 Census Population data"
   ]
  },
  {
   "cell_type": "code",
   "execution_count": 2,
   "id": "3a88e070",
   "metadata": {
    "tags": []
   },
   "outputs": [],
   "source": [
    "url = 'https://www.census.gov/quickfacts/quickfacts/geo/dashboard/US/POP010220'\n",
    "res = requests.get(url)"
   ]
  },
  {
   "cell_type": "code",
   "execution_count": 3,
   "id": "2f00eed4",
   "metadata": {
    "tags": []
   },
   "outputs": [],
   "source": [
    "soup = BeautifulSoup(res.content)"
   ]
  },
  {
   "cell_type": "code",
   "execution_count": 4,
   "id": "b5b3f115",
   "metadata": {
    "tags": []
   },
   "outputs": [
    {
     "data": {
      "text/plain": [
       "'29145505'"
      ]
     },
     "execution_count": 4,
     "metadata": {},
     "output_type": "execute_result"
    }
   ],
   "source": [
    "table = soup.find(attrs={'class':'qf-graph-scroll'})\n",
    "# soup.find_all(attrs={'class':'qf-positive'})\n",
    "tbody = table.find_all(attrs={'class':\"qf-graph-geo\"})\n",
    "tr = tbody[1]\n",
    "state = tr.find('a').attrs['data-title']\n",
    "tr.find(attrs={'class':'qf-positive'}).attrs['data-value']"
   ]
  },
  {
   "cell_type": "code",
   "execution_count": 5,
   "id": "0c0e5942",
   "metadata": {
    "tags": []
   },
   "outputs": [],
   "source": [
    "pop_2020 = []\n",
    "for tr in tbody:\n",
    "    state = tr.find('a').attrs['data-title']\n",
    "    pop = tr.find(attrs={'class':'qf-positive'}).attrs['data-value']\n",
    "    \n",
    "    state_pop = {'State': state, '2020 Population': pop}\n",
    "    pop_2020.append(state_pop)"
   ]
  },
  {
   "cell_type": "code",
   "execution_count": 6,
   "id": "3f6259fc",
   "metadata": {
    "tags": []
   },
   "outputs": [],
   "source": [
    "pop_2020 = pd.DataFrame(pop_2020)"
   ]
  },
  {
   "cell_type": "markdown",
   "id": "4f7bbe3b",
   "metadata": {},
   "source": [
    "### 2010 Census Population Data"
   ]
  },
  {
   "cell_type": "code",
   "execution_count": 7,
   "id": "2aeb4edc",
   "metadata": {
    "tags": []
   },
   "outputs": [],
   "source": [
    "url2 = 'https://www.census.gov/quickfacts/quickfacts/geo/dashboard/US/POP010210'\n",
    "res2 = requests.get(url2)"
   ]
  },
  {
   "cell_type": "code",
   "execution_count": 8,
   "id": "4a830000",
   "metadata": {
    "tags": []
   },
   "outputs": [],
   "source": [
    "soup2 = BeautifulSoup(res2.content)\n",
    "table2 = soup2.find(attrs={'class':'qf-graph-scroll'})\n",
    "tbody2 = table2.find_all(attrs={'class':\"qf-graph-geo\"})"
   ]
  },
  {
   "cell_type": "code",
   "execution_count": 9,
   "id": "2d415d83",
   "metadata": {
    "tags": []
   },
   "outputs": [],
   "source": [
    "pop_2010 = []\n",
    "for tr in tbody2:\n",
    "    state = tr.find('a').attrs['data-title']\n",
    "    pop = tr.find(attrs={'class':'qf-positive'}).attrs['data-value']\n",
    "    \n",
    "    state_pop = {'State': state, '2010 Population': pop}\n",
    "    pop_2010.append(state_pop)\n",
    "\n",
    "pop_2010 = pd.DataFrame(pop_2010)"
   ]
  },
  {
   "cell_type": "code",
   "execution_count": 10,
   "id": "4081f11b",
   "metadata": {
    "tags": []
   },
   "outputs": [
    {
     "data": {
      "text/html": [
       "<div>\n",
       "<style scoped>\n",
       "    .dataframe tbody tr th:only-of-type {\n",
       "        vertical-align: middle;\n",
       "    }\n",
       "\n",
       "    .dataframe tbody tr th {\n",
       "        vertical-align: top;\n",
       "    }\n",
       "\n",
       "    .dataframe thead th {\n",
       "        text-align: right;\n",
       "    }\n",
       "</style>\n",
       "<table border=\"1\" class=\"dataframe\">\n",
       "  <thead>\n",
       "    <tr style=\"text-align: right;\">\n",
       "      <th></th>\n",
       "      <th>State</th>\n",
       "      <th>2010 Population</th>\n",
       "      <th>2020 Population</th>\n",
       "    </tr>\n",
       "  </thead>\n",
       "  <tbody>\n",
       "    <tr>\n",
       "      <th>0</th>\n",
       "      <td>California</td>\n",
       "      <td>37253956</td>\n",
       "      <td>39538223</td>\n",
       "    </tr>\n",
       "    <tr>\n",
       "      <th>1</th>\n",
       "      <td>Texas</td>\n",
       "      <td>25145561</td>\n",
       "      <td>29145505</td>\n",
       "    </tr>\n",
       "    <tr>\n",
       "      <th>2</th>\n",
       "      <td>New York</td>\n",
       "      <td>19378102</td>\n",
       "      <td>20201249</td>\n",
       "    </tr>\n",
       "    <tr>\n",
       "      <th>3</th>\n",
       "      <td>Florida</td>\n",
       "      <td>18801310</td>\n",
       "      <td>21538187</td>\n",
       "    </tr>\n",
       "    <tr>\n",
       "      <th>4</th>\n",
       "      <td>Illinois</td>\n",
       "      <td>12830632</td>\n",
       "      <td>12812508</td>\n",
       "    </tr>\n",
       "  </tbody>\n",
       "</table>\n",
       "</div>"
      ],
      "text/plain": [
       "        State 2010 Population 2020 Population\n",
       "0  California        37253956        39538223\n",
       "1       Texas        25145561        29145505\n",
       "2    New York        19378102        20201249\n",
       "3     Florida        18801310        21538187\n",
       "4    Illinois        12830632        12812508"
      ]
     },
     "execution_count": 10,
     "metadata": {},
     "output_type": "execute_result"
    }
   ],
   "source": [
    "population = pd.merge(pop_2010, pop_2020)\n",
    "population.head()"
   ]
  },
  {
   "cell_type": "code",
   "execution_count": 11,
   "id": "9827d8b8",
   "metadata": {
    "tags": []
   },
   "outputs": [],
   "source": [
    "population.to_csv('Data/Population_data_2010_&_2020.csv')"
   ]
  },
  {
   "cell_type": "markdown",
   "id": "38496854",
   "metadata": {},
   "source": [
    "### Excess Deaths Data"
   ]
  },
  {
   "cell_type": "code",
   "execution_count": 12,
   "id": "0234ffb3",
   "metadata": {
    "tags": []
   },
   "outputs": [
    {
     "data": {
      "text/html": [
       "<div>\n",
       "<style scoped>\n",
       "    .dataframe tbody tr th:only-of-type {\n",
       "        vertical-align: middle;\n",
       "    }\n",
       "\n",
       "    .dataframe tbody tr th {\n",
       "        vertical-align: top;\n",
       "    }\n",
       "\n",
       "    .dataframe thead th {\n",
       "        text-align: right;\n",
       "    }\n",
       "</style>\n",
       "<table border=\"1\" class=\"dataframe\">\n",
       "  <thead>\n",
       "    <tr style=\"text-align: right;\">\n",
       "      <th></th>\n",
       "      <th>Week Ending Date</th>\n",
       "      <th>State</th>\n",
       "      <th>Observed Number</th>\n",
       "      <th>Upper Bound Threshold</th>\n",
       "      <th>Exceeds Threshold</th>\n",
       "      <th>Average Expected Count</th>\n",
       "      <th>Excess Estimate</th>\n",
       "      <th>Total Excess Estimate</th>\n",
       "      <th>Percent Excess Estimate</th>\n",
       "      <th>Year</th>\n",
       "      <th>Type</th>\n",
       "      <th>Outcome</th>\n",
       "      <th>Suppress</th>\n",
       "      <th>Note</th>\n",
       "    </tr>\n",
       "  </thead>\n",
       "  <tbody>\n",
       "    <tr>\n",
       "      <th>0</th>\n",
       "      <td>2017-01-07</td>\n",
       "      <td>Alabama</td>\n",
       "      <td>1121.0</td>\n",
       "      <td>1136</td>\n",
       "      <td>False</td>\n",
       "      <td>1059</td>\n",
       "      <td>62</td>\n",
       "      <td>29601</td>\n",
       "      <td>5.852700</td>\n",
       "      <td>2017</td>\n",
       "      <td>Predicted (weighted)</td>\n",
       "      <td>All causes</td>\n",
       "      <td>NaN</td>\n",
       "      <td>NaN</td>\n",
       "    </tr>\n",
       "    <tr>\n",
       "      <th>1</th>\n",
       "      <td>2017-01-14</td>\n",
       "      <td>Alabama</td>\n",
       "      <td>1130.0</td>\n",
       "      <td>1140</td>\n",
       "      <td>False</td>\n",
       "      <td>1067</td>\n",
       "      <td>63</td>\n",
       "      <td>29601</td>\n",
       "      <td>5.906102</td>\n",
       "      <td>2017</td>\n",
       "      <td>Predicted (weighted)</td>\n",
       "      <td>All causes</td>\n",
       "      <td>NaN</td>\n",
       "      <td>NaN</td>\n",
       "    </tr>\n",
       "    <tr>\n",
       "      <th>2</th>\n",
       "      <td>2017-01-21</td>\n",
       "      <td>Alabama</td>\n",
       "      <td>1048.0</td>\n",
       "      <td>1142</td>\n",
       "      <td>False</td>\n",
       "      <td>1071</td>\n",
       "      <td>0</td>\n",
       "      <td>29601</td>\n",
       "      <td>0.000000</td>\n",
       "      <td>2017</td>\n",
       "      <td>Predicted (weighted)</td>\n",
       "      <td>All causes</td>\n",
       "      <td>NaN</td>\n",
       "      <td>NaN</td>\n",
       "    </tr>\n",
       "    <tr>\n",
       "      <th>3</th>\n",
       "      <td>2017-01-28</td>\n",
       "      <td>Alabama</td>\n",
       "      <td>1026.0</td>\n",
       "      <td>1142</td>\n",
       "      <td>False</td>\n",
       "      <td>1070</td>\n",
       "      <td>0</td>\n",
       "      <td>29601</td>\n",
       "      <td>0.000000</td>\n",
       "      <td>2017</td>\n",
       "      <td>Predicted (weighted)</td>\n",
       "      <td>All causes</td>\n",
       "      <td>NaN</td>\n",
       "      <td>NaN</td>\n",
       "    </tr>\n",
       "    <tr>\n",
       "      <th>4</th>\n",
       "      <td>2017-02-04</td>\n",
       "      <td>Alabama</td>\n",
       "      <td>1036.0</td>\n",
       "      <td>1142</td>\n",
       "      <td>False</td>\n",
       "      <td>1068</td>\n",
       "      <td>0</td>\n",
       "      <td>29601</td>\n",
       "      <td>0.000000</td>\n",
       "      <td>2017</td>\n",
       "      <td>Predicted (weighted)</td>\n",
       "      <td>All causes</td>\n",
       "      <td>NaN</td>\n",
       "      <td>NaN</td>\n",
       "    </tr>\n",
       "  </tbody>\n",
       "</table>\n",
       "</div>"
      ],
      "text/plain": [
       "  Week Ending Date    State  Observed Number  Upper Bound Threshold  \\\n",
       "0       2017-01-07  Alabama           1121.0                   1136   \n",
       "1       2017-01-14  Alabama           1130.0                   1140   \n",
       "2       2017-01-21  Alabama           1048.0                   1142   \n",
       "3       2017-01-28  Alabama           1026.0                   1142   \n",
       "4       2017-02-04  Alabama           1036.0                   1142   \n",
       "\n",
       "   Exceeds Threshold  Average Expected Count  Excess Estimate  \\\n",
       "0              False                    1059               62   \n",
       "1              False                    1067               63   \n",
       "2              False                    1071                0   \n",
       "3              False                    1070                0   \n",
       "4              False                    1068                0   \n",
       "\n",
       "   Total Excess Estimate  Percent Excess Estimate  Year                  Type  \\\n",
       "0                  29601                 5.852700  2017  Predicted (weighted)   \n",
       "1                  29601                 5.906102  2017  Predicted (weighted)   \n",
       "2                  29601                 0.000000  2017  Predicted (weighted)   \n",
       "3                  29601                 0.000000  2017  Predicted (weighted)   \n",
       "4                  29601                 0.000000  2017  Predicted (weighted)   \n",
       "\n",
       "      Outcome Suppress Note  \n",
       "0  All causes      NaN  NaN  \n",
       "1  All causes      NaN  NaN  \n",
       "2  All causes      NaN  NaN  \n",
       "3  All causes      NaN  NaN  \n",
       "4  All causes      NaN  NaN  "
      ]
     },
     "execution_count": 12,
     "metadata": {},
     "output_type": "execute_result"
    }
   ],
   "source": [
    "deaths = pd.read_csv('Ignore/Excess_Deaths_Associated_with_COVID-19.csv')\n",
    "deaths.head()"
   ]
  },
  {
   "cell_type": "code",
   "execution_count": 35,
   "id": "455ff077-b209-4e63-b5a4-0fd8b5700ecc",
   "metadata": {
    "tags": []
   },
   "outputs": [
    {
     "data": {
      "text/html": [
       "<div>\n",
       "<style scoped>\n",
       "    .dataframe tbody tr th:only-of-type {\n",
       "        vertical-align: middle;\n",
       "    }\n",
       "\n",
       "    .dataframe tbody tr th {\n",
       "        vertical-align: top;\n",
       "    }\n",
       "\n",
       "    .dataframe thead th {\n",
       "        text-align: right;\n",
       "    }\n",
       "</style>\n",
       "<table border=\"1\" class=\"dataframe\">\n",
       "  <thead>\n",
       "    <tr style=\"text-align: right;\">\n",
       "      <th></th>\n",
       "      <th>Week Ending Date</th>\n",
       "      <th>State</th>\n",
       "      <th>Observed Number</th>\n",
       "      <th>Upper Bound Threshold</th>\n",
       "      <th>Exceeds Threshold</th>\n",
       "      <th>Average Expected Count</th>\n",
       "      <th>Excess Estimate</th>\n",
       "      <th>Total Excess Estimate</th>\n",
       "      <th>Percent Excess Estimate</th>\n",
       "      <th>Year</th>\n",
       "      <th>Type</th>\n",
       "      <th>Outcome</th>\n",
       "      <th>Suppress</th>\n",
       "      <th>Note</th>\n",
       "      <th>year</th>\n",
       "    </tr>\n",
       "  </thead>\n",
       "  <tbody>\n",
       "    <tr>\n",
       "      <th>0</th>\n",
       "      <td>2017-01-07</td>\n",
       "      <td>Alabama</td>\n",
       "      <td>1121.0</td>\n",
       "      <td>1136</td>\n",
       "      <td>False</td>\n",
       "      <td>1059</td>\n",
       "      <td>62</td>\n",
       "      <td>29601</td>\n",
       "      <td>5.852700</td>\n",
       "      <td>2017</td>\n",
       "      <td>Predicted (weighted)</td>\n",
       "      <td>All causes</td>\n",
       "      <td>NaN</td>\n",
       "      <td>NaN</td>\n",
       "      <td>2017</td>\n",
       "    </tr>\n",
       "    <tr>\n",
       "      <th>1</th>\n",
       "      <td>2017-01-14</td>\n",
       "      <td>Alabama</td>\n",
       "      <td>1130.0</td>\n",
       "      <td>1140</td>\n",
       "      <td>False</td>\n",
       "      <td>1067</td>\n",
       "      <td>63</td>\n",
       "      <td>29601</td>\n",
       "      <td>5.906102</td>\n",
       "      <td>2017</td>\n",
       "      <td>Predicted (weighted)</td>\n",
       "      <td>All causes</td>\n",
       "      <td>NaN</td>\n",
       "      <td>NaN</td>\n",
       "      <td>2017</td>\n",
       "    </tr>\n",
       "    <tr>\n",
       "      <th>2</th>\n",
       "      <td>2017-01-21</td>\n",
       "      <td>Alabama</td>\n",
       "      <td>1048.0</td>\n",
       "      <td>1142</td>\n",
       "      <td>False</td>\n",
       "      <td>1071</td>\n",
       "      <td>0</td>\n",
       "      <td>29601</td>\n",
       "      <td>0.000000</td>\n",
       "      <td>2017</td>\n",
       "      <td>Predicted (weighted)</td>\n",
       "      <td>All causes</td>\n",
       "      <td>NaN</td>\n",
       "      <td>NaN</td>\n",
       "      <td>2017</td>\n",
       "    </tr>\n",
       "    <tr>\n",
       "      <th>3</th>\n",
       "      <td>2017-01-28</td>\n",
       "      <td>Alabama</td>\n",
       "      <td>1026.0</td>\n",
       "      <td>1142</td>\n",
       "      <td>False</td>\n",
       "      <td>1070</td>\n",
       "      <td>0</td>\n",
       "      <td>29601</td>\n",
       "      <td>0.000000</td>\n",
       "      <td>2017</td>\n",
       "      <td>Predicted (weighted)</td>\n",
       "      <td>All causes</td>\n",
       "      <td>NaN</td>\n",
       "      <td>NaN</td>\n",
       "      <td>2017</td>\n",
       "    </tr>\n",
       "    <tr>\n",
       "      <th>4</th>\n",
       "      <td>2017-02-04</td>\n",
       "      <td>Alabama</td>\n",
       "      <td>1036.0</td>\n",
       "      <td>1142</td>\n",
       "      <td>False</td>\n",
       "      <td>1068</td>\n",
       "      <td>0</td>\n",
       "      <td>29601</td>\n",
       "      <td>0.000000</td>\n",
       "      <td>2017</td>\n",
       "      <td>Predicted (weighted)</td>\n",
       "      <td>All causes</td>\n",
       "      <td>NaN</td>\n",
       "      <td>NaN</td>\n",
       "      <td>2017</td>\n",
       "    </tr>\n",
       "  </tbody>\n",
       "</table>\n",
       "</div>"
      ],
      "text/plain": [
       "  Week Ending Date    State  Observed Number  Upper Bound Threshold  \\\n",
       "0       2017-01-07  Alabama           1121.0                   1136   \n",
       "1       2017-01-14  Alabama           1130.0                   1140   \n",
       "2       2017-01-21  Alabama           1048.0                   1142   \n",
       "3       2017-01-28  Alabama           1026.0                   1142   \n",
       "4       2017-02-04  Alabama           1036.0                   1142   \n",
       "\n",
       "   Exceeds Threshold  Average Expected Count  Excess Estimate  \\\n",
       "0              False                    1059               62   \n",
       "1              False                    1067               63   \n",
       "2              False                    1071                0   \n",
       "3              False                    1070                0   \n",
       "4              False                    1068                0   \n",
       "\n",
       "   Total Excess Estimate  Percent Excess Estimate  Year                  Type  \\\n",
       "0                  29601                 5.852700  2017  Predicted (weighted)   \n",
       "1                  29601                 5.906102  2017  Predicted (weighted)   \n",
       "2                  29601                 0.000000  2017  Predicted (weighted)   \n",
       "3                  29601                 0.000000  2017  Predicted (weighted)   \n",
       "4                  29601                 0.000000  2017  Predicted (weighted)   \n",
       "\n",
       "      Outcome Suppress Note  year  \n",
       "0  All causes      NaN  NaN  2017  \n",
       "1  All causes      NaN  NaN  2017  \n",
       "2  All causes      NaN  NaN  2017  \n",
       "3  All causes      NaN  NaN  2017  \n",
       "4  All causes      NaN  NaN  2017  "
      ]
     },
     "execution_count": 35,
     "metadata": {},
     "output_type": "execute_result"
    }
   ],
   "source": [
    "# NEW JG\n",
    "deaths['Week Ending Date'] = pd.to_datetime(deaths['Week Ending Date'])\n",
    "deaths['year'] = deaths['Week Ending Date'].dt.year\n",
    "deaths.head()\n"
   ]
  },
  {
   "cell_type": "code",
   "execution_count": 46,
   "id": "cd7eeb11-c04a-4be4-9af9-6caf05cff09d",
   "metadata": {
    "tags": []
   },
   "outputs": [],
   "source": [
    "# NEW JG\n",
    "state_list = deaths['State'].unique()"
   ]
  },
  {
   "cell_type": "code",
   "execution_count": 63,
   "id": "046a2c9f-39c6-4467-99f1-47cc40fd4a56",
   "metadata": {
    "tags": []
   },
   "outputs": [],
   "source": [
    "x = deaths.groupby(['State', 'year'])['Exceeds Threshold'].sum()"
   ]
  },
  {
   "cell_type": "code",
   "execution_count": 64,
   "id": "81277b1d-1cad-4456-95a5-92c1e1d74dd3",
   "metadata": {
    "tags": []
   },
   "outputs": [
    {
     "data": {
      "text/plain": [
       "3"
      ]
     },
     "execution_count": 64,
     "metadata": {},
     "output_type": "execute_result"
    }
   ],
   "source": [
    "x"
   ]
  },
  {
   "cell_type": "code",
   "execution_count": null,
   "id": "abcfa8e8-8976-4dfd-82c8-2f34ee18ffd3",
   "metadata": {},
   "outputs": [],
   "source": []
  },
  {
   "cell_type": "code",
   "execution_count": 13,
   "id": "e68e1c5c",
   "metadata": {
    "tags": []
   },
   "outputs": [
    {
     "data": {
      "text/html": [
       "<div>\n",
       "<style scoped>\n",
       "    .dataframe tbody tr th:only-of-type {\n",
       "        vertical-align: middle;\n",
       "    }\n",
       "\n",
       "    .dataframe tbody tr th {\n",
       "        vertical-align: top;\n",
       "    }\n",
       "\n",
       "    .dataframe thead th {\n",
       "        text-align: right;\n",
       "    }\n",
       "</style>\n",
       "<table border=\"1\" class=\"dataframe\">\n",
       "  <thead>\n",
       "    <tr style=\"text-align: right;\">\n",
       "      <th></th>\n",
       "      <th>State</th>\n",
       "      <th>Exc_deaths_2017</th>\n",
       "      <th>Exc_deaths_2018</th>\n",
       "      <th>Exc_deaths_2019</th>\n",
       "      <th>Exc_deaths_2020</th>\n",
       "      <th>Exc_deaths_2021</th>\n",
       "      <th>Exc_deaths_2022</th>\n",
       "    </tr>\n",
       "  </thead>\n",
       "  <tbody>\n",
       "    <tr>\n",
       "      <th>0</th>\n",
       "      <td>Alabama</td>\n",
       "      <td>2649</td>\n",
       "      <td>4062</td>\n",
       "      <td>945</td>\n",
       "      <td>20726</td>\n",
       "      <td>29283</td>\n",
       "      <td>14805</td>\n",
       "    </tr>\n",
       "    <tr>\n",
       "      <th>1</th>\n",
       "      <td>Alaska</td>\n",
       "      <td>417</td>\n",
       "      <td>492</td>\n",
       "      <td>639</td>\n",
       "      <td>1422</td>\n",
       "      <td>3483</td>\n",
       "      <td>1783</td>\n",
       "    </tr>\n",
       "    <tr>\n",
       "      <th>2</th>\n",
       "      <td>Arizona</td>\n",
       "      <td>3522</td>\n",
       "      <td>4281</td>\n",
       "      <td>1785</td>\n",
       "      <td>30955</td>\n",
       "      <td>40347</td>\n",
       "      <td>20653</td>\n",
       "    </tr>\n",
       "    <tr>\n",
       "      <th>3</th>\n",
       "      <td>Arkansas</td>\n",
       "      <td>3054</td>\n",
       "      <td>2199</td>\n",
       "      <td>1434</td>\n",
       "      <td>11285</td>\n",
       "      <td>15391</td>\n",
       "      <td>8969</td>\n",
       "    </tr>\n",
       "    <tr>\n",
       "      <th>4</th>\n",
       "      <td>California</td>\n",
       "      <td>17241</td>\n",
       "      <td>13434</td>\n",
       "      <td>1029</td>\n",
       "      <td>93875</td>\n",
       "      <td>133206</td>\n",
       "      <td>89195</td>\n",
       "    </tr>\n",
       "  </tbody>\n",
       "</table>\n",
       "</div>"
      ],
      "text/plain": [
       "        State  Exc_deaths_2017  Exc_deaths_2018  Exc_deaths_2019  \\\n",
       "0     Alabama             2649             4062              945   \n",
       "1      Alaska              417              492              639   \n",
       "2     Arizona             3522             4281             1785   \n",
       "3    Arkansas             3054             2199             1434   \n",
       "4  California            17241            13434             1029   \n",
       "\n",
       "   Exc_deaths_2020  Exc_deaths_2021  Exc_deaths_2022  \n",
       "0            20726            29283            14805  \n",
       "1             1422             3483             1783  \n",
       "2            30955            40347            20653  \n",
       "3            11285            15391             8969  \n",
       "4            93875           133206            89195  "
      ]
     },
     "execution_count": 13,
     "metadata": {},
     "output_type": "execute_result"
    }
   ],
   "source": [
    "# getting sum of each states excess deaths \n",
    "def excess_deaths(deaths, start_year=2017, end_year=2022):\n",
    "    state_totals = {state: [0] * (end_year - start_year + 1) for state in \n",
    "                    deaths['State'].unique()}\n",
    "    \n",
    "    for index, row in deaths.iterrows():\n",
    "        state = row['State']\n",
    "        year = row['Year']\n",
    "        excess_estimate = row['Excess Estimate']\n",
    "        \n",
    "        if start_year <= year <= end_year:\n",
    "            state_totals[state][year - start_year] += excess_estimate\n",
    "\n",
    "    result = pd.DataFrame(state_totals).T.reset_index()\n",
    "    result.columns = ['State'] + [f'Exc_deaths_{year}' for year in \n",
    "                                  range(start_year, end_year + 1)]\n",
    "    \n",
    "    return result\n",
    "\n",
    "\n",
    "excess_deaths = excess_deaths(deaths)\n",
    "excess_deaths.head()\n"
   ]
  },
  {
   "cell_type": "code",
   "execution_count": 14,
   "id": "1ee305eb",
   "metadata": {},
   "outputs": [
    {
     "data": {
      "text/html": [
       "<div>\n",
       "<style scoped>\n",
       "    .dataframe tbody tr th:only-of-type {\n",
       "        vertical-align: middle;\n",
       "    }\n",
       "\n",
       "    .dataframe tbody tr th {\n",
       "        vertical-align: top;\n",
       "    }\n",
       "\n",
       "    .dataframe thead th {\n",
       "        text-align: right;\n",
       "    }\n",
       "</style>\n",
       "<table border=\"1\" class=\"dataframe\">\n",
       "  <thead>\n",
       "    <tr style=\"text-align: right;\">\n",
       "      <th></th>\n",
       "      <th>State</th>\n",
       "      <th>Exc_count_2017</th>\n",
       "      <th>Exc_count_2018</th>\n",
       "      <th>Exc_count_2019</th>\n",
       "      <th>Exc_count_2020</th>\n",
       "      <th>Exc_count_2021</th>\n",
       "      <th>Exc_count_2022</th>\n",
       "    </tr>\n",
       "  </thead>\n",
       "  <tbody>\n",
       "    <tr>\n",
       "      <th>0</th>\n",
       "      <td>Alabama</td>\n",
       "      <td>3</td>\n",
       "      <td>15</td>\n",
       "      <td>0</td>\n",
       "      <td>99</td>\n",
       "      <td>106</td>\n",
       "      <td>87</td>\n",
       "    </tr>\n",
       "    <tr>\n",
       "      <th>1</th>\n",
       "      <td>Alaska</td>\n",
       "      <td>6</td>\n",
       "      <td>6</td>\n",
       "      <td>3</td>\n",
       "      <td>34</td>\n",
       "      <td>75</td>\n",
       "      <td>42</td>\n",
       "    </tr>\n",
       "    <tr>\n",
       "      <th>2</th>\n",
       "      <td>Arizona</td>\n",
       "      <td>9</td>\n",
       "      <td>15</td>\n",
       "      <td>0</td>\n",
       "      <td>89</td>\n",
       "      <td>114</td>\n",
       "      <td>77</td>\n",
       "    </tr>\n",
       "    <tr>\n",
       "      <th>3</th>\n",
       "      <td>Arkansas</td>\n",
       "      <td>12</td>\n",
       "      <td>12</td>\n",
       "      <td>0</td>\n",
       "      <td>66</td>\n",
       "      <td>93</td>\n",
       "      <td>64</td>\n",
       "    </tr>\n",
       "    <tr>\n",
       "      <th>4</th>\n",
       "      <td>California</td>\n",
       "      <td>18</td>\n",
       "      <td>12</td>\n",
       "      <td>0</td>\n",
       "      <td>94</td>\n",
       "      <td>104</td>\n",
       "      <td>106</td>\n",
       "    </tr>\n",
       "  </tbody>\n",
       "</table>\n",
       "</div>"
      ],
      "text/plain": [
       "        State  Exc_count_2017  Exc_count_2018  Exc_count_2019  Exc_count_2020  \\\n",
       "0     Alabama               3              15               0              99   \n",
       "1      Alaska               6               6               3              34   \n",
       "2     Arizona               9              15               0              89   \n",
       "3    Arkansas              12              12               0              66   \n",
       "4  California              18              12               0              94   \n",
       "\n",
       "   Exc_count_2021  Exc_count_2022  \n",
       "0             106              87  \n",
       "1              75              42  \n",
       "2             114              77  \n",
       "3              93              64  \n",
       "4             104             106  "
      ]
     },
     "execution_count": 14,
     "metadata": {},
     "output_type": "execute_result"
    }
   ],
   "source": [
    "# Getting count for each year and each state where they exceed their threshold\n",
    "def count_exceeds_threshold(deaths, start_year=2017, end_year=2022):\n",
    "    state_counts = {state: [0] * (end_year - start_year + 1) for state in \n",
    "                    deaths['State'].unique()}\n",
    "    \n",
    "    for index, row in deaths.iterrows():\n",
    "        state = row['State']\n",
    "        year = row['Year']\n",
    "        exceeds_threshold = row['Exceeds Threshold']\n",
    "        \n",
    "        if start_year <= year <= end_year and exceeds_threshold:\n",
    "            state_counts[state][year - start_year] += 1\n",
    "\n",
    "    result = pd.DataFrame(state_counts).T.reset_index()\n",
    "    result.columns = ['State'] + [f'Exc_count_{year}' for year in \n",
    "                                  range(start_year, end_year + 1)]\n",
    "    \n",
    "    return result\n",
    "exceeds_threshold = count_exceeds_threshold(deaths)\n",
    "exceeds_threshold.head()"
   ]
  },
  {
   "cell_type": "code",
   "execution_count": 15,
   "id": "c0cfe890",
   "metadata": {},
   "outputs": [
    {
     "data": {
      "text/html": [
       "<div>\n",
       "<style scoped>\n",
       "    .dataframe tbody tr th:only-of-type {\n",
       "        vertical-align: middle;\n",
       "    }\n",
       "\n",
       "    .dataframe tbody tr th {\n",
       "        vertical-align: top;\n",
       "    }\n",
       "\n",
       "    .dataframe thead th {\n",
       "        text-align: right;\n",
       "    }\n",
       "</style>\n",
       "<table border=\"1\" class=\"dataframe\">\n",
       "  <thead>\n",
       "    <tr style=\"text-align: right;\">\n",
       "      <th></th>\n",
       "      <th>Location</th>\n",
       "      <th>Exc_deaths_2017</th>\n",
       "      <th>Exc_deaths_2018</th>\n",
       "      <th>Exc_deaths_2019</th>\n",
       "      <th>Exc_deaths_2020</th>\n",
       "      <th>Exc_deaths_2021</th>\n",
       "      <th>Exc_deaths_2022</th>\n",
       "      <th>Exc_count_2017</th>\n",
       "      <th>Exc_count_2018</th>\n",
       "      <th>Exc_count_2019</th>\n",
       "      <th>Exc_count_2020</th>\n",
       "      <th>Exc_count_2021</th>\n",
       "      <th>Exc_count_2022</th>\n",
       "    </tr>\n",
       "  </thead>\n",
       "  <tbody>\n",
       "    <tr>\n",
       "      <th>0</th>\n",
       "      <td>Alabama</td>\n",
       "      <td>2649</td>\n",
       "      <td>4062</td>\n",
       "      <td>945</td>\n",
       "      <td>20726</td>\n",
       "      <td>29283</td>\n",
       "      <td>14805</td>\n",
       "      <td>3</td>\n",
       "      <td>15</td>\n",
       "      <td>0</td>\n",
       "      <td>99</td>\n",
       "      <td>106</td>\n",
       "      <td>87</td>\n",
       "    </tr>\n",
       "    <tr>\n",
       "      <th>1</th>\n",
       "      <td>Alaska</td>\n",
       "      <td>417</td>\n",
       "      <td>492</td>\n",
       "      <td>639</td>\n",
       "      <td>1422</td>\n",
       "      <td>3483</td>\n",
       "      <td>1783</td>\n",
       "      <td>6</td>\n",
       "      <td>6</td>\n",
       "      <td>3</td>\n",
       "      <td>34</td>\n",
       "      <td>75</td>\n",
       "      <td>42</td>\n",
       "    </tr>\n",
       "    <tr>\n",
       "      <th>2</th>\n",
       "      <td>Arizona</td>\n",
       "      <td>3522</td>\n",
       "      <td>4281</td>\n",
       "      <td>1785</td>\n",
       "      <td>30955</td>\n",
       "      <td>40347</td>\n",
       "      <td>20653</td>\n",
       "      <td>9</td>\n",
       "      <td>15</td>\n",
       "      <td>0</td>\n",
       "      <td>89</td>\n",
       "      <td>114</td>\n",
       "      <td>77</td>\n",
       "    </tr>\n",
       "    <tr>\n",
       "      <th>3</th>\n",
       "      <td>Arkansas</td>\n",
       "      <td>3054</td>\n",
       "      <td>2199</td>\n",
       "      <td>1434</td>\n",
       "      <td>11285</td>\n",
       "      <td>15391</td>\n",
       "      <td>8969</td>\n",
       "      <td>12</td>\n",
       "      <td>12</td>\n",
       "      <td>0</td>\n",
       "      <td>66</td>\n",
       "      <td>93</td>\n",
       "      <td>64</td>\n",
       "    </tr>\n",
       "    <tr>\n",
       "      <th>4</th>\n",
       "      <td>California</td>\n",
       "      <td>17241</td>\n",
       "      <td>13434</td>\n",
       "      <td>1029</td>\n",
       "      <td>93875</td>\n",
       "      <td>133206</td>\n",
       "      <td>89195</td>\n",
       "      <td>18</td>\n",
       "      <td>12</td>\n",
       "      <td>0</td>\n",
       "      <td>94</td>\n",
       "      <td>104</td>\n",
       "      <td>106</td>\n",
       "    </tr>\n",
       "  </tbody>\n",
       "</table>\n",
       "</div>"
      ],
      "text/plain": [
       "     Location  Exc_deaths_2017  Exc_deaths_2018  Exc_deaths_2019  \\\n",
       "0     Alabama             2649             4062              945   \n",
       "1      Alaska              417              492              639   \n",
       "2     Arizona             3522             4281             1785   \n",
       "3    Arkansas             3054             2199             1434   \n",
       "4  California            17241            13434             1029   \n",
       "\n",
       "   Exc_deaths_2020  Exc_deaths_2021  Exc_deaths_2022  Exc_count_2017  \\\n",
       "0            20726            29283            14805               3   \n",
       "1             1422             3483             1783               6   \n",
       "2            30955            40347            20653               9   \n",
       "3            11285            15391             8969              12   \n",
       "4            93875           133206            89195              18   \n",
       "\n",
       "   Exc_count_2018  Exc_count_2019  Exc_count_2020  Exc_count_2021  \\\n",
       "0              15               0              99             106   \n",
       "1               6               3              34              75   \n",
       "2              15               0              89             114   \n",
       "3              12               0              66              93   \n",
       "4              12               0              94             104   \n",
       "\n",
       "   Exc_count_2022  \n",
       "0              87  \n",
       "1              42  \n",
       "2              77  \n",
       "3              64  \n",
       "4             106  "
      ]
     },
     "execution_count": 15,
     "metadata": {},
     "output_type": "execute_result"
    }
   ],
   "source": [
    "# Merging the data\n",
    "finaldeaths = pd.merge(excess_deaths, exceeds_threshold, how='left')\n",
    "finaldeaths.rename(columns={'State':'Location'}, inplace=True)\n",
    "finaldeaths.head()"
   ]
  },
  {
   "cell_type": "code",
   "execution_count": 16,
   "id": "6b80cb52",
   "metadata": {},
   "outputs": [],
   "source": [
    "finaldeaths.to_csv('Data/Excess_deaths&Exceeds_Threshold_data.csv')"
   ]
  },
  {
   "cell_type": "markdown",
   "id": "4d641cca",
   "metadata": {},
   "source": [
    "### Population Density Data"
   ]
  },
  {
   "cell_type": "code",
   "execution_count": 17,
   "id": "6b91e105",
   "metadata": {},
   "outputs": [],
   "source": [
    "url3 = 'https://wisevoter.com/state-rankings/population-density-by-state/'\n",
    "res3 = requests.get(url3)\n",
    "soup3 = BeautifulSoup(res3.content)"
   ]
  },
  {
   "cell_type": "code",
   "execution_count": 18,
   "id": "f7706c20",
   "metadata": {},
   "outputs": [],
   "source": [
    "table3 = soup3.find('table', attrs={'id': 'shdb-on-page-table'})\n",
    "tbody = table3.find('tbody')\n",
    "trs = tbody.find_all('tr')"
   ]
  },
  {
   "cell_type": "code",
   "execution_count": 19,
   "id": "439d528a",
   "metadata": {},
   "outputs": [
    {
     "data": {
      "text/html": [
       "<div>\n",
       "<style scoped>\n",
       "    .dataframe tbody tr th:only-of-type {\n",
       "        vertical-align: middle;\n",
       "    }\n",
       "\n",
       "    .dataframe tbody tr th {\n",
       "        vertical-align: top;\n",
       "    }\n",
       "\n",
       "    .dataframe thead th {\n",
       "        text-align: right;\n",
       "    }\n",
       "</style>\n",
       "<table border=\"1\" class=\"dataframe\">\n",
       "  <thead>\n",
       "    <tr style=\"text-align: right;\">\n",
       "      <th></th>\n",
       "      <th>State</th>\n",
       "      <th>Population Density per mi²</th>\n",
       "    </tr>\n",
       "  </thead>\n",
       "  <tbody>\n",
       "    <tr>\n",
       "      <th>0</th>\n",
       "      <td>New Jersey</td>\n",
       "      <td>1,283.4</td>\n",
       "    </tr>\n",
       "    <tr>\n",
       "      <th>1</th>\n",
       "      <td>Rhode Island</td>\n",
       "      <td>1,074.3</td>\n",
       "    </tr>\n",
       "    <tr>\n",
       "      <th>2</th>\n",
       "      <td>Massachusetts</td>\n",
       "      <td>919.82</td>\n",
       "    </tr>\n",
       "    <tr>\n",
       "      <th>3</th>\n",
       "      <td>Connecticut</td>\n",
       "      <td>746.7</td>\n",
       "    </tr>\n",
       "    <tr>\n",
       "      <th>4</th>\n",
       "      <td>Maryland</td>\n",
       "      <td>648.84</td>\n",
       "    </tr>\n",
       "  </tbody>\n",
       "</table>\n",
       "</div>"
      ],
      "text/plain": [
       "           State Population Density per mi²\n",
       "0     New Jersey                    1,283.4\n",
       "1   Rhode Island                    1,074.3\n",
       "2  Massachusetts                     919.82\n",
       "3    Connecticut                      746.7\n",
       "4       Maryland                     648.84"
      ]
     },
     "execution_count": 19,
     "metadata": {},
     "output_type": "execute_result"
    }
   ],
   "source": [
    "pop_density = []\n",
    "for tr in trs:\n",
    "    state = tr.find(attrs={'class':'shdb-on-page-table-body-Geo'}).text\n",
    "    density = tr.find(attrs={'class':'shdb-on-page-table-body-Data'}).text.split()[0]\n",
    "    \n",
    "    state_density = {'State':state, 'Population Density per mi²': density}\n",
    "    pop_density.append(state_density)\n",
    "Pop_density = pd.DataFrame(pop_density)\n",
    "Pop_density.head()"
   ]
  },
  {
   "cell_type": "code",
   "execution_count": 20,
   "id": "c77dab02",
   "metadata": {},
   "outputs": [],
   "source": [
    "Pop_density.to_csv('Data/Population_Density_data.csv')"
   ]
  },
  {
   "cell_type": "markdown",
   "id": "206829c5",
   "metadata": {},
   "source": [
    "### Mask county data"
   ]
  },
  {
   "cell_type": "code",
   "execution_count": 21,
   "id": "14b7230b",
   "metadata": {},
   "outputs": [
    {
     "ename": "FileNotFoundError",
     "evalue": "[Errno 2] No such file or directory: 'Ignore/U.S._State_and_Territorial_Public_Mask_Mandates_From_April_10__2020_through_August_15__2021_by_County_by_Day.csv'",
     "output_type": "error",
     "traceback": [
      "\u001b[1;31m---------------------------------------------------------------------------\u001b[0m",
      "\u001b[1;31mFileNotFoundError\u001b[0m                         Traceback (most recent call last)",
      "Cell \u001b[1;32mIn[21], line 1\u001b[0m\n\u001b[1;32m----> 1\u001b[0m county_mask \u001b[38;5;241m=\u001b[39m pd\u001b[38;5;241m.\u001b[39mread_csv(\u001b[38;5;124m'\u001b[39m\u001b[38;5;124mIgnore/U.S._State_and_Territorial_Public_Mask_Mandates_From_April_10__2020_through_August_15__2021_by_County_by_Day.csv\u001b[39m\u001b[38;5;124m'\u001b[39m)\n\u001b[0;32m      2\u001b[0m county_mask\n",
      "File \u001b[1;32m~\\anaconda3\\Lib\\site-packages\\pandas\\io\\parsers\\readers.py:912\u001b[0m, in \u001b[0;36mread_csv\u001b[1;34m(filepath_or_buffer, sep, delimiter, header, names, index_col, usecols, dtype, engine, converters, true_values, false_values, skipinitialspace, skiprows, skipfooter, nrows, na_values, keep_default_na, na_filter, verbose, skip_blank_lines, parse_dates, infer_datetime_format, keep_date_col, date_parser, date_format, dayfirst, cache_dates, iterator, chunksize, compression, thousands, decimal, lineterminator, quotechar, quoting, doublequote, escapechar, comment, encoding, encoding_errors, dialect, on_bad_lines, delim_whitespace, low_memory, memory_map, float_precision, storage_options, dtype_backend)\u001b[0m\n\u001b[0;32m    899\u001b[0m kwds_defaults \u001b[38;5;241m=\u001b[39m _refine_defaults_read(\n\u001b[0;32m    900\u001b[0m     dialect,\n\u001b[0;32m    901\u001b[0m     delimiter,\n\u001b[1;32m   (...)\u001b[0m\n\u001b[0;32m    908\u001b[0m     dtype_backend\u001b[38;5;241m=\u001b[39mdtype_backend,\n\u001b[0;32m    909\u001b[0m )\n\u001b[0;32m    910\u001b[0m kwds\u001b[38;5;241m.\u001b[39mupdate(kwds_defaults)\n\u001b[1;32m--> 912\u001b[0m \u001b[38;5;28;01mreturn\u001b[39;00m _read(filepath_or_buffer, kwds)\n",
      "File \u001b[1;32m~\\anaconda3\\Lib\\site-packages\\pandas\\io\\parsers\\readers.py:577\u001b[0m, in \u001b[0;36m_read\u001b[1;34m(filepath_or_buffer, kwds)\u001b[0m\n\u001b[0;32m    574\u001b[0m _validate_names(kwds\u001b[38;5;241m.\u001b[39mget(\u001b[38;5;124m\"\u001b[39m\u001b[38;5;124mnames\u001b[39m\u001b[38;5;124m\"\u001b[39m, \u001b[38;5;28;01mNone\u001b[39;00m))\n\u001b[0;32m    576\u001b[0m \u001b[38;5;66;03m# Create the parser.\u001b[39;00m\n\u001b[1;32m--> 577\u001b[0m parser \u001b[38;5;241m=\u001b[39m TextFileReader(filepath_or_buffer, \u001b[38;5;241m*\u001b[39m\u001b[38;5;241m*\u001b[39mkwds)\n\u001b[0;32m    579\u001b[0m \u001b[38;5;28;01mif\u001b[39;00m chunksize \u001b[38;5;129;01mor\u001b[39;00m iterator:\n\u001b[0;32m    580\u001b[0m     \u001b[38;5;28;01mreturn\u001b[39;00m parser\n",
      "File \u001b[1;32m~\\anaconda3\\Lib\\site-packages\\pandas\\io\\parsers\\readers.py:1407\u001b[0m, in \u001b[0;36mTextFileReader.__init__\u001b[1;34m(self, f, engine, **kwds)\u001b[0m\n\u001b[0;32m   1404\u001b[0m     \u001b[38;5;28mself\u001b[39m\u001b[38;5;241m.\u001b[39moptions[\u001b[38;5;124m\"\u001b[39m\u001b[38;5;124mhas_index_names\u001b[39m\u001b[38;5;124m\"\u001b[39m] \u001b[38;5;241m=\u001b[39m kwds[\u001b[38;5;124m\"\u001b[39m\u001b[38;5;124mhas_index_names\u001b[39m\u001b[38;5;124m\"\u001b[39m]\n\u001b[0;32m   1406\u001b[0m \u001b[38;5;28mself\u001b[39m\u001b[38;5;241m.\u001b[39mhandles: IOHandles \u001b[38;5;241m|\u001b[39m \u001b[38;5;28;01mNone\u001b[39;00m \u001b[38;5;241m=\u001b[39m \u001b[38;5;28;01mNone\u001b[39;00m\n\u001b[1;32m-> 1407\u001b[0m \u001b[38;5;28mself\u001b[39m\u001b[38;5;241m.\u001b[39m_engine \u001b[38;5;241m=\u001b[39m \u001b[38;5;28mself\u001b[39m\u001b[38;5;241m.\u001b[39m_make_engine(f, \u001b[38;5;28mself\u001b[39m\u001b[38;5;241m.\u001b[39mengine)\n",
      "File \u001b[1;32m~\\anaconda3\\Lib\\site-packages\\pandas\\io\\parsers\\readers.py:1661\u001b[0m, in \u001b[0;36mTextFileReader._make_engine\u001b[1;34m(self, f, engine)\u001b[0m\n\u001b[0;32m   1659\u001b[0m     \u001b[38;5;28;01mif\u001b[39;00m \u001b[38;5;124m\"\u001b[39m\u001b[38;5;124mb\u001b[39m\u001b[38;5;124m\"\u001b[39m \u001b[38;5;129;01mnot\u001b[39;00m \u001b[38;5;129;01min\u001b[39;00m mode:\n\u001b[0;32m   1660\u001b[0m         mode \u001b[38;5;241m+\u001b[39m\u001b[38;5;241m=\u001b[39m \u001b[38;5;124m\"\u001b[39m\u001b[38;5;124mb\u001b[39m\u001b[38;5;124m\"\u001b[39m\n\u001b[1;32m-> 1661\u001b[0m \u001b[38;5;28mself\u001b[39m\u001b[38;5;241m.\u001b[39mhandles \u001b[38;5;241m=\u001b[39m get_handle(\n\u001b[0;32m   1662\u001b[0m     f,\n\u001b[0;32m   1663\u001b[0m     mode,\n\u001b[0;32m   1664\u001b[0m     encoding\u001b[38;5;241m=\u001b[39m\u001b[38;5;28mself\u001b[39m\u001b[38;5;241m.\u001b[39moptions\u001b[38;5;241m.\u001b[39mget(\u001b[38;5;124m\"\u001b[39m\u001b[38;5;124mencoding\u001b[39m\u001b[38;5;124m\"\u001b[39m, \u001b[38;5;28;01mNone\u001b[39;00m),\n\u001b[0;32m   1665\u001b[0m     compression\u001b[38;5;241m=\u001b[39m\u001b[38;5;28mself\u001b[39m\u001b[38;5;241m.\u001b[39moptions\u001b[38;5;241m.\u001b[39mget(\u001b[38;5;124m\"\u001b[39m\u001b[38;5;124mcompression\u001b[39m\u001b[38;5;124m\"\u001b[39m, \u001b[38;5;28;01mNone\u001b[39;00m),\n\u001b[0;32m   1666\u001b[0m     memory_map\u001b[38;5;241m=\u001b[39m\u001b[38;5;28mself\u001b[39m\u001b[38;5;241m.\u001b[39moptions\u001b[38;5;241m.\u001b[39mget(\u001b[38;5;124m\"\u001b[39m\u001b[38;5;124mmemory_map\u001b[39m\u001b[38;5;124m\"\u001b[39m, \u001b[38;5;28;01mFalse\u001b[39;00m),\n\u001b[0;32m   1667\u001b[0m     is_text\u001b[38;5;241m=\u001b[39mis_text,\n\u001b[0;32m   1668\u001b[0m     errors\u001b[38;5;241m=\u001b[39m\u001b[38;5;28mself\u001b[39m\u001b[38;5;241m.\u001b[39moptions\u001b[38;5;241m.\u001b[39mget(\u001b[38;5;124m\"\u001b[39m\u001b[38;5;124mencoding_errors\u001b[39m\u001b[38;5;124m\"\u001b[39m, \u001b[38;5;124m\"\u001b[39m\u001b[38;5;124mstrict\u001b[39m\u001b[38;5;124m\"\u001b[39m),\n\u001b[0;32m   1669\u001b[0m     storage_options\u001b[38;5;241m=\u001b[39m\u001b[38;5;28mself\u001b[39m\u001b[38;5;241m.\u001b[39moptions\u001b[38;5;241m.\u001b[39mget(\u001b[38;5;124m\"\u001b[39m\u001b[38;5;124mstorage_options\u001b[39m\u001b[38;5;124m\"\u001b[39m, \u001b[38;5;28;01mNone\u001b[39;00m),\n\u001b[0;32m   1670\u001b[0m )\n\u001b[0;32m   1671\u001b[0m \u001b[38;5;28;01massert\u001b[39;00m \u001b[38;5;28mself\u001b[39m\u001b[38;5;241m.\u001b[39mhandles \u001b[38;5;129;01mis\u001b[39;00m \u001b[38;5;129;01mnot\u001b[39;00m \u001b[38;5;28;01mNone\u001b[39;00m\n\u001b[0;32m   1672\u001b[0m f \u001b[38;5;241m=\u001b[39m \u001b[38;5;28mself\u001b[39m\u001b[38;5;241m.\u001b[39mhandles\u001b[38;5;241m.\u001b[39mhandle\n",
      "File \u001b[1;32m~\\anaconda3\\Lib\\site-packages\\pandas\\io\\common.py:859\u001b[0m, in \u001b[0;36mget_handle\u001b[1;34m(path_or_buf, mode, encoding, compression, memory_map, is_text, errors, storage_options)\u001b[0m\n\u001b[0;32m    854\u001b[0m \u001b[38;5;28;01melif\u001b[39;00m \u001b[38;5;28misinstance\u001b[39m(handle, \u001b[38;5;28mstr\u001b[39m):\n\u001b[0;32m    855\u001b[0m     \u001b[38;5;66;03m# Check whether the filename is to be opened in binary mode.\u001b[39;00m\n\u001b[0;32m    856\u001b[0m     \u001b[38;5;66;03m# Binary mode does not support 'encoding' and 'newline'.\u001b[39;00m\n\u001b[0;32m    857\u001b[0m     \u001b[38;5;28;01mif\u001b[39;00m ioargs\u001b[38;5;241m.\u001b[39mencoding \u001b[38;5;129;01mand\u001b[39;00m \u001b[38;5;124m\"\u001b[39m\u001b[38;5;124mb\u001b[39m\u001b[38;5;124m\"\u001b[39m \u001b[38;5;129;01mnot\u001b[39;00m \u001b[38;5;129;01min\u001b[39;00m ioargs\u001b[38;5;241m.\u001b[39mmode:\n\u001b[0;32m    858\u001b[0m         \u001b[38;5;66;03m# Encoding\u001b[39;00m\n\u001b[1;32m--> 859\u001b[0m         handle \u001b[38;5;241m=\u001b[39m \u001b[38;5;28mopen\u001b[39m(\n\u001b[0;32m    860\u001b[0m             handle,\n\u001b[0;32m    861\u001b[0m             ioargs\u001b[38;5;241m.\u001b[39mmode,\n\u001b[0;32m    862\u001b[0m             encoding\u001b[38;5;241m=\u001b[39mioargs\u001b[38;5;241m.\u001b[39mencoding,\n\u001b[0;32m    863\u001b[0m             errors\u001b[38;5;241m=\u001b[39merrors,\n\u001b[0;32m    864\u001b[0m             newline\u001b[38;5;241m=\u001b[39m\u001b[38;5;124m\"\u001b[39m\u001b[38;5;124m\"\u001b[39m,\n\u001b[0;32m    865\u001b[0m         )\n\u001b[0;32m    866\u001b[0m     \u001b[38;5;28;01melse\u001b[39;00m:\n\u001b[0;32m    867\u001b[0m         \u001b[38;5;66;03m# Binary mode\u001b[39;00m\n\u001b[0;32m    868\u001b[0m         handle \u001b[38;5;241m=\u001b[39m \u001b[38;5;28mopen\u001b[39m(handle, ioargs\u001b[38;5;241m.\u001b[39mmode)\n",
      "\u001b[1;31mFileNotFoundError\u001b[0m: [Errno 2] No such file or directory: 'Ignore/U.S._State_and_Territorial_Public_Mask_Mandates_From_April_10__2020_through_August_15__2021_by_County_by_Day.csv'"
     ]
    }
   ],
   "source": [
    "county_mask = pd.read_csv('Ignore/U.S._State_and_Territorial_Public_Mask_Mandates_From_April_10__2020_through_August_15__2021_by_County_by_Day.csv')\n",
    "county_mask"
   ]
  },
  {
   "cell_type": "code",
   "execution_count": null,
   "id": "106f4961",
   "metadata": {},
   "outputs": [],
   "source": [
    "# Put my code into Chatgpt who helped simplify to speed up run time\n",
    "def mandate_length(data):\n",
    "    county_counts = {}\n",
    "    for index, row in data.iterrows():\n",
    "        county_name = row['County_Name']\n",
    "        mask_required = row['Face_Masks_Required_in_Public']\n",
    "        state = row['State_Tribe_Territory']\n",
    "        \n",
    "        if mask_required == 'Yes':\n",
    "            if county_name in county_counts:\n",
    "                county_counts[county_name]['Count'] += 1\n",
    "            else:\n",
    "                county_counts[county_name] = {'State': state, 'Count': 1}\n",
    "\n",
    "    county_counts_list = [{'State': v['State'], 'County': k, 'Count': v['Count']} for k, v in county_counts.items()]\n",
    "\n",
    "    return pd.DataFrame(county_counts_list)\n",
    "\n",
    "county_counts_df = mandate_length(county_mask)"
   ]
  },
  {
   "cell_type": "code",
   "execution_count": null,
   "id": "59d18dc3",
   "metadata": {},
   "outputs": [],
   "source": [
    "county_counts_df.shape"
   ]
  },
  {
   "cell_type": "code",
   "execution_count": null,
   "id": "d542d26c",
   "metadata": {},
   "outputs": [],
   "source": [
    "county_counts_df['State'].value_counts()"
   ]
  },
  {
   "cell_type": "code",
   "execution_count": null,
   "id": "90636b72",
   "metadata": {},
   "outputs": [],
   "source": [
    "county_counts_df.to_csv('Data/county_mask_mandata.csv', index=False)"
   ]
  },
  {
   "cell_type": "markdown",
   "id": "1d42393c",
   "metadata": {},
   "source": [
    "### Merging the data"
   ]
  },
  {
   "cell_type": "code",
   "execution_count": null,
   "id": "a347a9b4",
   "metadata": {},
   "outputs": [],
   "source": [
    "def merge_dataframes():\n",
    "    employ = pd.read_csv('Data/cleaned_employment.csv')\n",
    "    income = pd.read_csv('Data/cleaned_income.csv')\n",
    "    life = pd.read_csv('Data/cleaned_Life_Expentency.csv')\n",
    "    insur = pd.read_csv('Data/cleaned_insur.csv')\n",
    "    pop_dense = pd.read_csv('Data/cleaned_pop_dense.csv')\n",
    "    pop_size = pd.read_csv('Data/cleaned_pop_size.csv')\n",
    "    pre_cond = pd.read_csv('Data/cleaned_pre_condtions.csv')\n",
    "    total_phys = pd.read_csv('Data/cleaned_total_physician.csv')\n",
    "    \n",
    "    merged_df = employ.merge(income, on='Location').merge(life, on='Location').merge(insur, on='Location') \\\n",
    "        .merge(pop_dense, on='Location').merge(pop_size, on='Location').merge(pre_cond, on='Location') \\\n",
    "        .merge(total_phys, on='Location').merge(finaldeaths, on='Location')\n",
    "\n",
    "    return merged_df\n",
    "merged_data = merge_dataframes()"
   ]
  },
  {
   "cell_type": "code",
   "execution_count": null,
   "id": "6f149044",
   "metadata": {},
   "outputs": [],
   "source": [
    "#merged_data.drop(columns=['Unnamed: 0_x', 'Unnamed:0_y'], inplace=True)\n",
    "merged_data.head()\n"
   ]
  },
  {
   "cell_type": "code",
   "execution_count": null,
   "id": "21c0de46",
   "metadata": {},
   "outputs": [],
   "source": [
    "merged_data.to_csv('Data/Merged_state_data.csv', index=False)"
   ]
  },
  {
   "cell_type": "markdown",
   "id": "da804005",
   "metadata": {},
   "source": [
    "### Modeling "
   ]
  },
  {
   "cell_type": "code",
   "execution_count": null,
   "id": "38f6642a",
   "metadata": {},
   "outputs": [],
   "source": [
    "from sklearn.model_selection import train_test_split\n",
    "from sklearn.linear_model import LinearRegression, LogisticRegression"
   ]
  },
  {
   "cell_type": "code",
   "execution_count": null,
   "id": "e24543eb",
   "metadata": {},
   "outputs": [],
   "source": []
  }
 ],
 "metadata": {
  "kernelspec": {
   "display_name": "Python 3 (ipykernel)",
   "language": "python",
   "name": "python3"
  },
  "language_info": {
   "codemirror_mode": {
    "name": "ipython",
    "version": 3
   },
   "file_extension": ".py",
   "mimetype": "text/x-python",
   "name": "python",
   "nbconvert_exporter": "python",
   "pygments_lexer": "ipython3",
   "version": "3.11.4"
  }
 },
 "nbformat": 4,
 "nbformat_minor": 5
}
