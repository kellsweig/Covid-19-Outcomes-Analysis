{
 "cells": [
  {
   "cell_type": "code",
   "execution_count": null,
   "id": "6f020f39-2b1d-450c-aaa4-f08fdb82ec50",
   "metadata": {},
   "outputs": [],
   "source": [
    "# Imports\n",
    "import pandas as pd\n",
    "import numpy as np\n",
    "import matplotlib.pyplot as plt"
   ]
  },
  {
   "cell_type": "markdown",
   "id": "f1d1d563-1bad-494f-940b-34d0f826eb1b",
   "metadata": {
    "tags": []
   },
   "source": [
    "# Data Collection"
   ]
  },
  {
   "cell_type": "markdown",
   "id": "d6646a31-ce0f-43d0-91d4-980f03f6b073",
   "metadata": {},
   "source": [
    "## Collecting Asthma Information"
   ]
  },
  {
   "cell_type": "code",
   "execution_count": 562,
   "id": "61ad8c21-8aaa-47a5-a5f8-77aa00113437",
   "metadata": {
    "tags": []
   },
   "outputs": [],
   "source": [
    "asthma = pd.read_csv('Ignore/Asthma.csv')"
   ]
  },
  {
   "cell_type": "code",
   "execution_count": 563,
   "id": "ad18cdfa-a006-4f18-b0ca-422d80b11f56",
   "metadata": {
    "tags": []
   },
   "outputs": [
    {
     "data": {
      "text/plain": [
       "(80342, 33)"
      ]
     },
     "execution_count": 563,
     "metadata": {},
     "output_type": "execute_result"
    }
   ],
   "source": [
    "asthma.shape"
   ]
  },
  {
   "cell_type": "code",
   "execution_count": 564,
   "id": "2b62db55-c516-4118-a875-809b4438f1f3",
   "metadata": {
    "tags": []
   },
   "outputs": [
    {
     "data": {
      "text/html": [
       "<div>\n",
       "<style scoped>\n",
       "    .dataframe tbody tr th:only-of-type {\n",
       "        vertical-align: middle;\n",
       "    }\n",
       "\n",
       "    .dataframe tbody tr th {\n",
       "        vertical-align: top;\n",
       "    }\n",
       "\n",
       "    .dataframe thead th {\n",
       "        text-align: right;\n",
       "    }\n",
       "</style>\n",
       "<table border=\"1\" class=\"dataframe\">\n",
       "  <thead>\n",
       "    <tr style=\"text-align: right;\">\n",
       "      <th></th>\n",
       "      <th>YearStart</th>\n",
       "      <th>YearEnd</th>\n",
       "      <th>LocationAbbr</th>\n",
       "      <th>LocationDesc</th>\n",
       "      <th>DataSource</th>\n",
       "      <th>Topic</th>\n",
       "      <th>Question</th>\n",
       "      <th>Response</th>\n",
       "      <th>DataValueUnit</th>\n",
       "      <th>DataValueType</th>\n",
       "      <th>...</th>\n",
       "      <th>LocationID</th>\n",
       "      <th>TopicID</th>\n",
       "      <th>QuestionID</th>\n",
       "      <th>DataValueTypeID</th>\n",
       "      <th>StratificationCategoryID1</th>\n",
       "      <th>StratificationID1</th>\n",
       "      <th>StratificationCategoryID2</th>\n",
       "      <th>StratificationID2</th>\n",
       "      <th>StratificationCategoryID3</th>\n",
       "      <th>StratificationID3</th>\n",
       "    </tr>\n",
       "  </thead>\n",
       "  <tbody>\n",
       "    <tr>\n",
       "      <th>0</th>\n",
       "      <td>2014</td>\n",
       "      <td>2014</td>\n",
       "      <td>AR</td>\n",
       "      <td>Arkansas</td>\n",
       "      <td>SEDD; SID</td>\n",
       "      <td>Asthma</td>\n",
       "      <td>Hospitalizations for asthma</td>\n",
       "      <td>NaN</td>\n",
       "      <td>NaN</td>\n",
       "      <td>Number</td>\n",
       "      <td>...</td>\n",
       "      <td>5</td>\n",
       "      <td>AST</td>\n",
       "      <td>AST3_1</td>\n",
       "      <td>NMBR</td>\n",
       "      <td>GENDER</td>\n",
       "      <td>GENM</td>\n",
       "      <td>NaN</td>\n",
       "      <td>NaN</td>\n",
       "      <td>NaN</td>\n",
       "      <td>NaN</td>\n",
       "    </tr>\n",
       "    <tr>\n",
       "      <th>1</th>\n",
       "      <td>2018</td>\n",
       "      <td>2018</td>\n",
       "      <td>CO</td>\n",
       "      <td>Colorado</td>\n",
       "      <td>SEDD; SID</td>\n",
       "      <td>Asthma</td>\n",
       "      <td>Hospitalizations for asthma</td>\n",
       "      <td>NaN</td>\n",
       "      <td>NaN</td>\n",
       "      <td>Number</td>\n",
       "      <td>...</td>\n",
       "      <td>8</td>\n",
       "      <td>AST</td>\n",
       "      <td>AST3_1</td>\n",
       "      <td>NMBR</td>\n",
       "      <td>OVERALL</td>\n",
       "      <td>OVR</td>\n",
       "      <td>NaN</td>\n",
       "      <td>NaN</td>\n",
       "      <td>NaN</td>\n",
       "      <td>NaN</td>\n",
       "    </tr>\n",
       "    <tr>\n",
       "      <th>2</th>\n",
       "      <td>2018</td>\n",
       "      <td>2018</td>\n",
       "      <td>DC</td>\n",
       "      <td>District of Columbia</td>\n",
       "      <td>SEDD; SID</td>\n",
       "      <td>Asthma</td>\n",
       "      <td>Hospitalizations for asthma</td>\n",
       "      <td>NaN</td>\n",
       "      <td>NaN</td>\n",
       "      <td>Number</td>\n",
       "      <td>...</td>\n",
       "      <td>11</td>\n",
       "      <td>AST</td>\n",
       "      <td>AST3_1</td>\n",
       "      <td>NMBR</td>\n",
       "      <td>OVERALL</td>\n",
       "      <td>OVR</td>\n",
       "      <td>NaN</td>\n",
       "      <td>NaN</td>\n",
       "      <td>NaN</td>\n",
       "      <td>NaN</td>\n",
       "    </tr>\n",
       "    <tr>\n",
       "      <th>3</th>\n",
       "      <td>2017</td>\n",
       "      <td>2017</td>\n",
       "      <td>GA</td>\n",
       "      <td>Georgia</td>\n",
       "      <td>SEDD; SID</td>\n",
       "      <td>Asthma</td>\n",
       "      <td>Hospitalizations for asthma</td>\n",
       "      <td>NaN</td>\n",
       "      <td>NaN</td>\n",
       "      <td>Number</td>\n",
       "      <td>...</td>\n",
       "      <td>13</td>\n",
       "      <td>AST</td>\n",
       "      <td>AST3_1</td>\n",
       "      <td>NMBR</td>\n",
       "      <td>GENDER</td>\n",
       "      <td>GENF</td>\n",
       "      <td>NaN</td>\n",
       "      <td>NaN</td>\n",
       "      <td>NaN</td>\n",
       "      <td>NaN</td>\n",
       "    </tr>\n",
       "    <tr>\n",
       "      <th>4</th>\n",
       "      <td>2010</td>\n",
       "      <td>2010</td>\n",
       "      <td>MI</td>\n",
       "      <td>Michigan</td>\n",
       "      <td>SEDD; SID</td>\n",
       "      <td>Asthma</td>\n",
       "      <td>Hospitalizations for asthma</td>\n",
       "      <td>NaN</td>\n",
       "      <td>NaN</td>\n",
       "      <td>Number</td>\n",
       "      <td>...</td>\n",
       "      <td>26</td>\n",
       "      <td>AST</td>\n",
       "      <td>AST3_1</td>\n",
       "      <td>NMBR</td>\n",
       "      <td>RACE</td>\n",
       "      <td>HIS</td>\n",
       "      <td>NaN</td>\n",
       "      <td>NaN</td>\n",
       "      <td>NaN</td>\n",
       "      <td>NaN</td>\n",
       "    </tr>\n",
       "  </tbody>\n",
       "</table>\n",
       "<p>5 rows × 33 columns</p>\n",
       "</div>"
      ],
      "text/plain": [
       "   YearStart  YearEnd LocationAbbr          LocationDesc DataSource   Topic  \\\n",
       "0       2014     2014           AR              Arkansas  SEDD; SID  Asthma   \n",
       "1       2018     2018           CO              Colorado  SEDD; SID  Asthma   \n",
       "2       2018     2018           DC  District of Columbia  SEDD; SID  Asthma   \n",
       "3       2017     2017           GA               Georgia  SEDD; SID  Asthma   \n",
       "4       2010     2010           MI              Michigan  SEDD; SID  Asthma   \n",
       "\n",
       "                      Question  Response DataValueUnit DataValueType  ...  \\\n",
       "0  Hospitalizations for asthma       NaN           NaN        Number  ...   \n",
       "1  Hospitalizations for asthma       NaN           NaN        Number  ...   \n",
       "2  Hospitalizations for asthma       NaN           NaN        Number  ...   \n",
       "3  Hospitalizations for asthma       NaN           NaN        Number  ...   \n",
       "4  Hospitalizations for asthma       NaN           NaN        Number  ...   \n",
       "\n",
       "   LocationID  TopicID QuestionID DataValueTypeID  StratificationCategoryID1  \\\n",
       "0           5      AST     AST3_1            NMBR                     GENDER   \n",
       "1           8      AST     AST3_1            NMBR                    OVERALL   \n",
       "2          11      AST     AST3_1            NMBR                    OVERALL   \n",
       "3          13      AST     AST3_1            NMBR                     GENDER   \n",
       "4          26      AST     AST3_1            NMBR                       RACE   \n",
       "\n",
       "   StratificationID1 StratificationCategoryID2 StratificationID2  \\\n",
       "0               GENM                       NaN               NaN   \n",
       "1                OVR                       NaN               NaN   \n",
       "2                OVR                       NaN               NaN   \n",
       "3               GENF                       NaN               NaN   \n",
       "4                HIS                       NaN               NaN   \n",
       "\n",
       "   StratificationCategoryID3  StratificationID3  \n",
       "0                        NaN                NaN  \n",
       "1                        NaN                NaN  \n",
       "2                        NaN                NaN  \n",
       "3                        NaN                NaN  \n",
       "4                        NaN                NaN  \n",
       "\n",
       "[5 rows x 33 columns]"
      ]
     },
     "execution_count": 564,
     "metadata": {},
     "output_type": "execute_result"
    }
   ],
   "source": [
    "asthma.head()"
   ]
  },
  {
   "cell_type": "code",
   "execution_count": 565,
   "id": "42ed6705-26a2-4377-95f2-f369169a1b7c",
   "metadata": {
    "tags": []
   },
   "outputs": [
    {
     "data": {
      "text/plain": [
       "Asthma mortality rate                                                                      13497\n",
       "Current asthma prevalence among adults aged >= 18 years                                     9570\n",
       "Influenza vaccination among noninstitutionalized adults aged >= 65 years with asthma        9570\n",
       "Influenza vaccination among noninstitutionalized adults aged 18-64 years with asthma        9570\n",
       "Pneumococcal vaccination among noninstitutionalized adults aged 18-64 years with asthma     9570\n",
       "Pneumococcal vaccination among noninstitutionalized adults aged >= 65 years with asthma     9570\n",
       "Hospitalizations for asthma                                                                 7812\n",
       "Emergency department visit rate for asthma                                                  7608\n",
       "Asthma prevalence among women aged 18-44 years                                              3575\n",
       "Name: Question, dtype: int64"
      ]
     },
     "execution_count": 565,
     "metadata": {},
     "output_type": "execute_result"
    }
   ],
   "source": [
    "asthma.Question.value_counts()"
   ]
  },
  {
   "cell_type": "code",
   "execution_count": 566,
   "id": "94044b68-0565-4a6d-beb2-96e2bc24fe4f",
   "metadata": {
    "tags": []
   },
   "outputs": [],
   "source": [
    "asthma = asthma[asthma['Question']== \"Current asthma prevalence among adults aged >= 18 years\"]"
   ]
  },
  {
   "cell_type": "code",
   "execution_count": 567,
   "id": "e0805ee9-1224-489f-840b-bef3f99a46ec",
   "metadata": {
    "tags": []
   },
   "outputs": [
    {
     "data": {
      "text/plain": [
       "(9570, 33)"
      ]
     },
     "execution_count": 567,
     "metadata": {},
     "output_type": "execute_result"
    }
   ],
   "source": [
    "asthma.shape"
   ]
  },
  {
   "cell_type": "code",
   "execution_count": 568,
   "id": "afa911cf-ba45-4d36-8004-b503702be4d6",
   "metadata": {
    "tags": []
   },
   "outputs": [
    {
     "data": {
      "text/html": [
       "<div>\n",
       "<style scoped>\n",
       "    .dataframe tbody tr th:only-of-type {\n",
       "        vertical-align: middle;\n",
       "    }\n",
       "\n",
       "    .dataframe tbody tr th {\n",
       "        vertical-align: top;\n",
       "    }\n",
       "\n",
       "    .dataframe thead th {\n",
       "        text-align: right;\n",
       "    }\n",
       "</style>\n",
       "<table border=\"1\" class=\"dataframe\">\n",
       "  <thead>\n",
       "    <tr style=\"text-align: right;\">\n",
       "      <th></th>\n",
       "      <th>YearStart</th>\n",
       "      <th>YearEnd</th>\n",
       "      <th>Response</th>\n",
       "      <th>DataValue</th>\n",
       "      <th>DataValueAlt</th>\n",
       "      <th>LowConfidenceLimit</th>\n",
       "      <th>HighConfidenceLimit</th>\n",
       "      <th>StratificationCategory2</th>\n",
       "      <th>Stratification2</th>\n",
       "      <th>StratificationCategory3</th>\n",
       "      <th>Stratification3</th>\n",
       "      <th>ResponseID</th>\n",
       "      <th>LocationID</th>\n",
       "      <th>StratificationCategoryID2</th>\n",
       "      <th>StratificationID2</th>\n",
       "      <th>StratificationCategoryID3</th>\n",
       "      <th>StratificationID3</th>\n",
       "    </tr>\n",
       "  </thead>\n",
       "  <tbody>\n",
       "    <tr>\n",
       "      <th>count</th>\n",
       "      <td>9570.000000</td>\n",
       "      <td>9570.000000</td>\n",
       "      <td>0.0</td>\n",
       "      <td>7662.000000</td>\n",
       "      <td>7662.000000</td>\n",
       "      <td>7662.000000</td>\n",
       "      <td>7662.000000</td>\n",
       "      <td>0.0</td>\n",
       "      <td>0.0</td>\n",
       "      <td>0.0</td>\n",
       "      <td>0.0</td>\n",
       "      <td>0.0</td>\n",
       "      <td>9570.000000</td>\n",
       "      <td>0.0</td>\n",
       "      <td>0.0</td>\n",
       "      <td>0.0</td>\n",
       "      <td>0.0</td>\n",
       "    </tr>\n",
       "    <tr>\n",
       "      <th>mean</th>\n",
       "      <td>2016.000000</td>\n",
       "      <td>2016.000000</td>\n",
       "      <td>NaN</td>\n",
       "      <td>10.195184</td>\n",
       "      <td>10.195184</td>\n",
       "      <td>8.039585</td>\n",
       "      <td>13.059867</td>\n",
       "      <td>NaN</td>\n",
       "      <td>NaN</td>\n",
       "      <td>NaN</td>\n",
       "      <td>NaN</td>\n",
       "      <td>NaN</td>\n",
       "      <td>31.542529</td>\n",
       "      <td>NaN</td>\n",
       "      <td>NaN</td>\n",
       "      <td>NaN</td>\n",
       "      <td>NaN</td>\n",
       "    </tr>\n",
       "    <tr>\n",
       "      <th>std</th>\n",
       "      <td>3.162443</td>\n",
       "      <td>3.162443</td>\n",
       "      <td>NaN</td>\n",
       "      <td>3.745644</td>\n",
       "      <td>3.745644</td>\n",
       "      <td>2.676902</td>\n",
       "      <td>5.999667</td>\n",
       "      <td>NaN</td>\n",
       "      <td>NaN</td>\n",
       "      <td>NaN</td>\n",
       "      <td>NaN</td>\n",
       "      <td>NaN</td>\n",
       "      <td>18.265420</td>\n",
       "      <td>NaN</td>\n",
       "      <td>NaN</td>\n",
       "      <td>NaN</td>\n",
       "      <td>NaN</td>\n",
       "    </tr>\n",
       "    <tr>\n",
       "      <th>min</th>\n",
       "      <td>2011.000000</td>\n",
       "      <td>2011.000000</td>\n",
       "      <td>NaN</td>\n",
       "      <td>1.900000</td>\n",
       "      <td>1.900000</td>\n",
       "      <td>1.100000</td>\n",
       "      <td>3.300000</td>\n",
       "      <td>NaN</td>\n",
       "      <td>NaN</td>\n",
       "      <td>NaN</td>\n",
       "      <td>NaN</td>\n",
       "      <td>NaN</td>\n",
       "      <td>1.000000</td>\n",
       "      <td>NaN</td>\n",
       "      <td>NaN</td>\n",
       "      <td>NaN</td>\n",
       "      <td>NaN</td>\n",
       "    </tr>\n",
       "    <tr>\n",
       "      <th>25%</th>\n",
       "      <td>2013.000000</td>\n",
       "      <td>2013.000000</td>\n",
       "      <td>NaN</td>\n",
       "      <td>7.700000</td>\n",
       "      <td>7.700000</td>\n",
       "      <td>6.100000</td>\n",
       "      <td>9.300000</td>\n",
       "      <td>NaN</td>\n",
       "      <td>NaN</td>\n",
       "      <td>NaN</td>\n",
       "      <td>NaN</td>\n",
       "      <td>NaN</td>\n",
       "      <td>17.000000</td>\n",
       "      <td>NaN</td>\n",
       "      <td>NaN</td>\n",
       "      <td>NaN</td>\n",
       "      <td>NaN</td>\n",
       "    </tr>\n",
       "    <tr>\n",
       "      <th>50%</th>\n",
       "      <td>2016.000000</td>\n",
       "      <td>2016.000000</td>\n",
       "      <td>NaN</td>\n",
       "      <td>9.600000</td>\n",
       "      <td>9.600000</td>\n",
       "      <td>8.000000</td>\n",
       "      <td>11.400000</td>\n",
       "      <td>NaN</td>\n",
       "      <td>NaN</td>\n",
       "      <td>NaN</td>\n",
       "      <td>NaN</td>\n",
       "      <td>NaN</td>\n",
       "      <td>31.000000</td>\n",
       "      <td>NaN</td>\n",
       "      <td>NaN</td>\n",
       "      <td>NaN</td>\n",
       "      <td>NaN</td>\n",
       "    </tr>\n",
       "    <tr>\n",
       "      <th>75%</th>\n",
       "      <td>2019.000000</td>\n",
       "      <td>2019.000000</td>\n",
       "      <td>NaN</td>\n",
       "      <td>11.900000</td>\n",
       "      <td>11.900000</td>\n",
       "      <td>9.800000</td>\n",
       "      <td>14.800000</td>\n",
       "      <td>NaN</td>\n",
       "      <td>NaN</td>\n",
       "      <td>NaN</td>\n",
       "      <td>NaN</td>\n",
       "      <td>NaN</td>\n",
       "      <td>45.000000</td>\n",
       "      <td>NaN</td>\n",
       "      <td>NaN</td>\n",
       "      <td>NaN</td>\n",
       "      <td>NaN</td>\n",
       "    </tr>\n",
       "    <tr>\n",
       "      <th>max</th>\n",
       "      <td>2021.000000</td>\n",
       "      <td>2021.000000</td>\n",
       "      <td>NaN</td>\n",
       "      <td>44.100000</td>\n",
       "      <td>44.100000</td>\n",
       "      <td>26.900000</td>\n",
       "      <td>66.600000</td>\n",
       "      <td>NaN</td>\n",
       "      <td>NaN</td>\n",
       "      <td>NaN</td>\n",
       "      <td>NaN</td>\n",
       "      <td>NaN</td>\n",
       "      <td>78.000000</td>\n",
       "      <td>NaN</td>\n",
       "      <td>NaN</td>\n",
       "      <td>NaN</td>\n",
       "      <td>NaN</td>\n",
       "    </tr>\n",
       "  </tbody>\n",
       "</table>\n",
       "</div>"
      ],
      "text/plain": [
       "         YearStart      YearEnd  Response    DataValue  DataValueAlt  \\\n",
       "count  9570.000000  9570.000000       0.0  7662.000000   7662.000000   \n",
       "mean   2016.000000  2016.000000       NaN    10.195184     10.195184   \n",
       "std       3.162443     3.162443       NaN     3.745644      3.745644   \n",
       "min    2011.000000  2011.000000       NaN     1.900000      1.900000   \n",
       "25%    2013.000000  2013.000000       NaN     7.700000      7.700000   \n",
       "50%    2016.000000  2016.000000       NaN     9.600000      9.600000   \n",
       "75%    2019.000000  2019.000000       NaN    11.900000     11.900000   \n",
       "max    2021.000000  2021.000000       NaN    44.100000     44.100000   \n",
       "\n",
       "       LowConfidenceLimit  HighConfidenceLimit  StratificationCategory2  \\\n",
       "count         7662.000000          7662.000000                      0.0   \n",
       "mean             8.039585            13.059867                      NaN   \n",
       "std              2.676902             5.999667                      NaN   \n",
       "min              1.100000             3.300000                      NaN   \n",
       "25%              6.100000             9.300000                      NaN   \n",
       "50%              8.000000            11.400000                      NaN   \n",
       "75%              9.800000            14.800000                      NaN   \n",
       "max             26.900000            66.600000                      NaN   \n",
       "\n",
       "       Stratification2  StratificationCategory3  Stratification3  ResponseID  \\\n",
       "count              0.0                      0.0              0.0         0.0   \n",
       "mean               NaN                      NaN              NaN         NaN   \n",
       "std                NaN                      NaN              NaN         NaN   \n",
       "min                NaN                      NaN              NaN         NaN   \n",
       "25%                NaN                      NaN              NaN         NaN   \n",
       "50%                NaN                      NaN              NaN         NaN   \n",
       "75%                NaN                      NaN              NaN         NaN   \n",
       "max                NaN                      NaN              NaN         NaN   \n",
       "\n",
       "        LocationID  StratificationCategoryID2  StratificationID2  \\\n",
       "count  9570.000000                        0.0                0.0   \n",
       "mean     31.542529                        NaN                NaN   \n",
       "std      18.265420                        NaN                NaN   \n",
       "min       1.000000                        NaN                NaN   \n",
       "25%      17.000000                        NaN                NaN   \n",
       "50%      31.000000                        NaN                NaN   \n",
       "75%      45.000000                        NaN                NaN   \n",
       "max      78.000000                        NaN                NaN   \n",
       "\n",
       "       StratificationCategoryID3  StratificationID3  \n",
       "count                        0.0                0.0  \n",
       "mean                         NaN                NaN  \n",
       "std                          NaN                NaN  \n",
       "min                          NaN                NaN  \n",
       "25%                          NaN                NaN  \n",
       "50%                          NaN                NaN  \n",
       "75%                          NaN                NaN  \n",
       "max                          NaN                NaN  "
      ]
     },
     "execution_count": 568,
     "metadata": {},
     "output_type": "execute_result"
    }
   ],
   "source": [
    "asthma.describe()"
   ]
  },
  {
   "cell_type": "code",
   "execution_count": 569,
   "id": "6224011f-68b3-4658-9b79-f0f5dc097723",
   "metadata": {
    "tags": []
   },
   "outputs": [],
   "source": [
    "asthma = asthma[asthma['YearStart'] == 2019]"
   ]
  },
  {
   "cell_type": "code",
   "execution_count": 570,
   "id": "f09d82ce-f83c-4519-94e2-6e8ac271453d",
   "metadata": {
    "tags": []
   },
   "outputs": [
    {
     "data": {
      "text/plain": [
       "(870, 33)"
      ]
     },
     "execution_count": 570,
     "metadata": {},
     "output_type": "execute_result"
    }
   ],
   "source": [
    "asthma.shape"
   ]
  },
  {
   "cell_type": "code",
   "execution_count": 571,
   "id": "729f2d94-3956-425c-ab66-729250f0b42c",
   "metadata": {
    "tags": []
   },
   "outputs": [
    {
     "data": {
      "text/plain": [
       "2019    870\n",
       "Name: YearStart, dtype: int64"
      ]
     },
     "execution_count": 571,
     "metadata": {},
     "output_type": "execute_result"
    }
   ],
   "source": [
    "asthma.YearStart.value_counts()"
   ]
  },
  {
   "cell_type": "code",
   "execution_count": 572,
   "id": "02a1450d-c78f-4f6e-826f-6bb278106570",
   "metadata": {
    "tags": []
   },
   "outputs": [],
   "source": [
    "asthma = asthma[['YearStart', 'LocationAbbr', 'LocationDesc', 'Question', 'DataValue', 'Stratification1', 'DataValueType']]"
   ]
  },
  {
   "cell_type": "code",
   "execution_count": 573,
   "id": "ec9cb617-fdb8-449c-9215-f0882872a51f",
   "metadata": {
    "tags": []
   },
   "outputs": [
    {
     "data": {
      "text/html": [
       "<div>\n",
       "<style scoped>\n",
       "    .dataframe tbody tr th:only-of-type {\n",
       "        vertical-align: middle;\n",
       "    }\n",
       "\n",
       "    .dataframe tbody tr th {\n",
       "        vertical-align: top;\n",
       "    }\n",
       "\n",
       "    .dataframe thead th {\n",
       "        text-align: right;\n",
       "    }\n",
       "</style>\n",
       "<table border=\"1\" class=\"dataframe\">\n",
       "  <thead>\n",
       "    <tr style=\"text-align: right;\">\n",
       "      <th></th>\n",
       "      <th>YearStart</th>\n",
       "      <th>LocationAbbr</th>\n",
       "      <th>LocationDesc</th>\n",
       "      <th>Question</th>\n",
       "      <th>DataValue</th>\n",
       "      <th>Stratification1</th>\n",
       "      <th>DataValueType</th>\n",
       "    </tr>\n",
       "  </thead>\n",
       "  <tbody>\n",
       "    <tr>\n",
       "      <th>28919</th>\n",
       "      <td>2019</td>\n",
       "      <td>GU</td>\n",
       "      <td>Guam</td>\n",
       "      <td>Current asthma prevalence among adults aged &gt;=...</td>\n",
       "      <td>7.5</td>\n",
       "      <td>Female</td>\n",
       "      <td>Age-adjusted Prevalence</td>\n",
       "    </tr>\n",
       "    <tr>\n",
       "      <th>28927</th>\n",
       "      <td>2019</td>\n",
       "      <td>AK</td>\n",
       "      <td>Alaska</td>\n",
       "      <td>Current asthma prevalence among adults aged &gt;=...</td>\n",
       "      <td>10.0</td>\n",
       "      <td>White, non-Hispanic</td>\n",
       "      <td>Crude Prevalence</td>\n",
       "    </tr>\n",
       "    <tr>\n",
       "      <th>28932</th>\n",
       "      <td>2019</td>\n",
       "      <td>AK</td>\n",
       "      <td>Alaska</td>\n",
       "      <td>Current asthma prevalence among adults aged &gt;=...</td>\n",
       "      <td>12.6</td>\n",
       "      <td>Female</td>\n",
       "      <td>Age-adjusted Prevalence</td>\n",
       "    </tr>\n",
       "    <tr>\n",
       "      <th>28977</th>\n",
       "      <td>2019</td>\n",
       "      <td>AK</td>\n",
       "      <td>Alaska</td>\n",
       "      <td>Current asthma prevalence among adults aged &gt;=...</td>\n",
       "      <td>7.0</td>\n",
       "      <td>Male</td>\n",
       "      <td>Age-adjusted Prevalence</td>\n",
       "    </tr>\n",
       "    <tr>\n",
       "      <th>28983</th>\n",
       "      <td>2019</td>\n",
       "      <td>AK</td>\n",
       "      <td>Alaska</td>\n",
       "      <td>Current asthma prevalence among adults aged &gt;=...</td>\n",
       "      <td>7.0</td>\n",
       "      <td>Other, non-Hispanic</td>\n",
       "      <td>Crude Prevalence</td>\n",
       "    </tr>\n",
       "  </tbody>\n",
       "</table>\n",
       "</div>"
      ],
      "text/plain": [
       "       YearStart LocationAbbr LocationDesc  \\\n",
       "28919       2019           GU         Guam   \n",
       "28927       2019           AK       Alaska   \n",
       "28932       2019           AK       Alaska   \n",
       "28977       2019           AK       Alaska   \n",
       "28983       2019           AK       Alaska   \n",
       "\n",
       "                                                Question  DataValue  \\\n",
       "28919  Current asthma prevalence among adults aged >=...        7.5   \n",
       "28927  Current asthma prevalence among adults aged >=...       10.0   \n",
       "28932  Current asthma prevalence among adults aged >=...       12.6   \n",
       "28977  Current asthma prevalence among adults aged >=...        7.0   \n",
       "28983  Current asthma prevalence among adults aged >=...        7.0   \n",
       "\n",
       "           Stratification1            DataValueType  \n",
       "28919               Female  Age-adjusted Prevalence  \n",
       "28927  White, non-Hispanic         Crude Prevalence  \n",
       "28932               Female  Age-adjusted Prevalence  \n",
       "28977                 Male  Age-adjusted Prevalence  \n",
       "28983  Other, non-Hispanic         Crude Prevalence  "
      ]
     },
     "execution_count": 573,
     "metadata": {},
     "output_type": "execute_result"
    }
   ],
   "source": [
    "asthma.head()"
   ]
  },
  {
   "cell_type": "code",
   "execution_count": 574,
   "id": "c65d4daa-a9e0-457e-82a0-bf9ab8f38025",
   "metadata": {
    "tags": []
   },
   "outputs": [
    {
     "data": {
      "text/plain": [
       "(870, 7)"
      ]
     },
     "execution_count": 574,
     "metadata": {},
     "output_type": "execute_result"
    }
   ],
   "source": [
    "asthma.shape"
   ]
  },
  {
   "cell_type": "code",
   "execution_count": 575,
   "id": "d91eea93-c0bc-4b25-9449-1c55823d16d9",
   "metadata": {
    "tags": []
   },
   "outputs": [
    {
     "data": {
      "text/plain": [
       "55"
      ]
     },
     "execution_count": 575,
     "metadata": {},
     "output_type": "execute_result"
    }
   ],
   "source": [
    "asthma['LocationDesc'].nunique()"
   ]
  },
  {
   "cell_type": "code",
   "execution_count": 576,
   "id": "be83cb49-900f-494a-a073-fc1ee3078099",
   "metadata": {
    "tags": []
   },
   "outputs": [],
   "source": [
    "asthma.drop_duplicates(inplace=True)"
   ]
  },
  {
   "cell_type": "code",
   "execution_count": 577,
   "id": "eba41fdb-afb5-4a12-92f9-4ed5dc5a4bbd",
   "metadata": {
    "tags": []
   },
   "outputs": [
    {
     "data": {
      "text/plain": [
       "(870, 7)"
      ]
     },
     "execution_count": 577,
     "metadata": {},
     "output_type": "execute_result"
    }
   ],
   "source": [
    "asthma.shape"
   ]
  },
  {
   "cell_type": "code",
   "execution_count": 578,
   "id": "ba083af7-c862-4b17-8962-31265e5f9523",
   "metadata": {},
   "outputs": [],
   "source": [
    "asthma = asthma[asthma['Stratification1'] == 'Overall']"
   ]
  },
  {
   "cell_type": "markdown",
   "id": "a816670c-22e1-4558-8607-009c2d2f6684",
   "metadata": {},
   "source": [
    "## Creating a function"
   ]
  },
  {
   "cell_type": "code",
   "execution_count": 579,
   "id": "920f182c-6b1d-4471-a44a-9d7dc98d5664",
   "metadata": {
    "tags": []
   },
   "outputs": [],
   "source": [
    "#cancer = pd.read_csv('Ignore/Cancer.csv')\n",
    "#cancer.shape"
   ]
  },
  {
   "cell_type": "code",
   "execution_count": 580,
   "id": "42e33312-ceb0-46dc-b1f0-fcd5c5ca61b5",
   "metadata": {
    "tags": []
   },
   "outputs": [],
   "source": [
    "#cancer['Question'].value_counts()"
   ]
  },
  {
   "cell_type": "code",
   "execution_count": 581,
   "id": "8bfa63d6-0a92-4372-a8de-d42822e549da",
   "metadata": {
    "tags": []
   },
   "outputs": [],
   "source": [
    "#cancer['YearStart'].value_counts()"
   ]
  },
  {
   "cell_type": "code",
   "execution_count": 582,
   "id": "0759a1d1-83b3-41c2-b5a4-4d0b0ae13c34",
   "metadata": {},
   "outputs": [],
   "source": [
    "#Reducing Cancer to just total cancer\n",
    "#cancer.Question.value_counts()\n",
    "\n",
    "#cancer = cancer[cancer['Question']== 'Invasive cancer (all sites combined), incidence']\n",
    "\n",
    "#cancer.shape"
   ]
  },
  {
   "cell_type": "code",
   "execution_count": 583,
   "id": "1fb9c7b7-20b1-4886-816a-8a0a261f4b58",
   "metadata": {
    "tags": []
   },
   "outputs": [],
   "source": [
    "#cancer.YearStart.value_counts()"
   ]
  },
  {
   "cell_type": "code",
   "execution_count": 584,
   "id": "19345d41-c344-4b87-a6fd-6d77b51a31f8",
   "metadata": {
    "tags": []
   },
   "outputs": [],
   "source": [
    "heart = pd.read_csv('Ignore/Cardiovascular.csv')"
   ]
  },
  {
   "cell_type": "code",
   "execution_count": 585,
   "id": "79914f82-26a5-4246-a830-89d186e9b8ad",
   "metadata": {},
   "outputs": [
    {
     "name": "stdout",
     "output_type": "stream",
     "text": [
      "(13497, 33)\n",
      "(5220, 33)\n"
     ]
    }
   ],
   "source": [
    "# Splitting cardiac dataset into deaths from cardio diseases and diagnosed prevalence of hypertension\n",
    "cardiac_mortality = heart[heart['Question'] == 'Mortality from total cardiovascular diseases']\n",
    "print(cardiac_mortality.shape)\n",
    "\n",
    "high_blood_pressure = heart[heart['Question']== 'Awareness of high blood pressure among adults aged >= 18 years']\n",
    "print(high_blood_pressure.shape)"
   ]
  },
  {
   "cell_type": "code",
   "execution_count": 586,
   "id": "15e8e20e-fd33-4770-9d96-2342056a62fd",
   "metadata": {
    "tags": []
   },
   "outputs": [
    {
     "data": {
      "text/plain": [
       "(152874, 33)"
      ]
     },
     "execution_count": 586,
     "metadata": {},
     "output_type": "execute_result"
    }
   ],
   "source": [
    "copd = pd.read_csv('Ignore/COPD.csv')\n",
    "copd.shape"
   ]
  },
  {
   "cell_type": "code",
   "execution_count": 587,
   "id": "d3f69c90-24f2-4d23-b03d-f7ab91c9d9ca",
   "metadata": {
    "tags": []
   },
   "outputs": [],
   "source": [
    "def cleaning(df):\n",
    "    print(df.shape)\n",
    "    df = df[df['YearStart'] == 2019]\n",
    "    print(df.shape)\n",
    "    df = df[['YearStart', 'LocationAbbr', 'LocationDesc', 'Question', 'DataValue', 'Stratification1', 'DataValueType']]\n",
    "    print(df.shape)\n",
    "    df = df[df['Stratification1'] == 'Overall']\n",
    "    return df  \n",
    "               "
   ]
  },
  {
   "cell_type": "code",
   "execution_count": 588,
   "id": "78ad6ad0-13fb-4fbe-9418-232a38b14d5a",
   "metadata": {
    "tags": []
   },
   "outputs": [],
   "source": [
    "#cancer = cancer[cancer['YearStart'] >= 2016]\n",
    "#cancer = cancer[['YearStart', 'LocationAbbr', 'LocationDesc', 'Question', 'DataValue', 'Stratification1']]                 "
   ]
  },
  {
   "cell_type": "code",
   "execution_count": 589,
   "id": "7beae3f0-c525-426b-a442-4dfb02e8a3da",
   "metadata": {
    "tags": []
   },
   "outputs": [
    {
     "name": "stdout",
     "output_type": "stream",
     "text": [
      "(13497, 33)\n",
      "(1227, 33)\n",
      "(1227, 7)\n"
     ]
    }
   ],
   "source": [
    "cardiac_mortality = cleaning(cardiac_mortality)"
   ]
  },
  {
   "cell_type": "code",
   "execution_count": 590,
   "id": "f5ab94de-0ad1-494e-863a-dda6db6de711",
   "metadata": {},
   "outputs": [
    {
     "name": "stdout",
     "output_type": "stream",
     "text": [
      "(5220, 33)\n",
      "(870, 33)\n",
      "(870, 7)\n"
     ]
    }
   ],
   "source": [
    "high_blood_pressure = cleaning(high_blood_pressure)"
   ]
  },
  {
   "cell_type": "code",
   "execution_count": 591,
   "id": "00eaa724-36d9-4721-bc69-da552da36c9a",
   "metadata": {
    "tags": []
   },
   "outputs": [
    {
     "name": "stdout",
     "output_type": "stream",
     "text": [
      "(152874, 33)\n",
      "(10170, 33)\n",
      "(10170, 7)\n"
     ]
    }
   ],
   "source": [
    "copd = cleaning(copd)"
   ]
  },
  {
   "cell_type": "code",
   "execution_count": 592,
   "id": "b38bbd7d-af75-43d9-9547-4f124a336afa",
   "metadata": {},
   "outputs": [
    {
     "data": {
      "text/plain": [
       "(110, 7)"
      ]
     },
     "execution_count": 592,
     "metadata": {},
     "output_type": "execute_result"
    }
   ],
   "source": [
    "copd.Question.value_counts()\n",
    "\n",
    "copd = copd[copd['Question']== 'Prevalence of chronic obstructive pulmonary disease among adults >= 18']\n",
    "\n",
    "copd.shape"
   ]
  },
  {
   "cell_type": "code",
   "execution_count": 593,
   "id": "115f2a02-47bc-4ad7-81a3-059da9f17828",
   "metadata": {
    "tags": []
   },
   "outputs": [
    {
     "data": {
      "text/plain": [
       "(156808, 33)"
      ]
     },
     "execution_count": 593,
     "metadata": {},
     "output_type": "execute_result"
    }
   ],
   "source": [
    "diabetes = pd.read_csv('Ignore/Diabetes.csv')\n",
    "diabetes.shape"
   ]
  },
  {
   "cell_type": "code",
   "execution_count": 594,
   "id": "f162317f-8a4c-451a-b209-b7f818c8b2b4",
   "metadata": {},
   "outputs": [
    {
     "data": {
      "text/plain": [
       "(9570, 33)"
      ]
     },
     "execution_count": 594,
     "metadata": {},
     "output_type": "execute_result"
    }
   ],
   "source": [
    "diabetes['Question'].value_counts()\n",
    "\n",
    "diabetes = diabetes[diabetes['Question']== 'Prevalence of diagnosed diabetes among adults aged >= 18 years']\n",
    "\n",
    "diabetes.shape"
   ]
  },
  {
   "cell_type": "code",
   "execution_count": 595,
   "id": "f07d6768-e457-42a8-89ad-8140bf724aea",
   "metadata": {
    "tags": []
   },
   "outputs": [
    {
     "name": "stdout",
     "output_type": "stream",
     "text": [
      "(9570, 33)\n",
      "(870, 33)\n",
      "(870, 7)\n"
     ]
    }
   ],
   "source": [
    "diabetes = cleaning(diabetes)"
   ]
  },
  {
   "cell_type": "code",
   "execution_count": 596,
   "id": "72e3e500-568a-4960-9843-ba620096ea53",
   "metadata": {
    "tags": []
   },
   "outputs": [],
   "source": [
    "immun = pd.read_csv('Ignore/Immunization.csv')"
   ]
  },
  {
   "cell_type": "code",
   "execution_count": 597,
   "id": "910617b0-62e3-4ed2-9d1f-ebec0e42f43d",
   "metadata": {
    "tags": []
   },
   "outputs": [
    {
     "name": "stdout",
     "output_type": "stream",
     "text": [
      "(9570, 33)\n",
      "(870, 33)\n",
      "(870, 7)\n"
     ]
    }
   ],
   "source": [
    "immun = cleaning(immun)"
   ]
  },
  {
   "cell_type": "code",
   "execution_count": 598,
   "id": "df6692c4-941c-457b-b943-03c62ade9219",
   "metadata": {
    "tags": []
   },
   "outputs": [],
   "source": [
    "kidney = pd.read_csv('Ignore/Kidney.csv')"
   ]
  },
  {
   "cell_type": "code",
   "execution_count": 599,
   "id": "f2974e58-d014-4bac-b391-3134effee369",
   "metadata": {},
   "outputs": [
    {
     "data": {
      "text/plain": [
       "(9570, 33)"
      ]
     },
     "execution_count": 599,
     "metadata": {},
     "output_type": "execute_result"
    }
   ],
   "source": [
    "kidney['Question'].value_counts()\n",
    "\n",
    "kidney = kidney[kidney['Question']== 'Prevalence of chronic kidney disease among adults aged >= 18 years']\n",
    "\n",
    "kidney.shape"
   ]
  },
  {
   "cell_type": "code",
   "execution_count": 600,
   "id": "00df9474-23a0-4dc3-b644-006cbef9f9b8",
   "metadata": {
    "tags": []
   },
   "outputs": [
    {
     "name": "stdout",
     "output_type": "stream",
     "text": [
      "(9570, 33)\n",
      "(870, 33)\n",
      "(870, 7)\n"
     ]
    }
   ],
   "source": [
    "kidney = cleaning(kidney)"
   ]
  },
  {
   "cell_type": "code",
   "execution_count": 601,
   "id": "d0ce4a8a-7db2-4195-8002-a776456fcdff",
   "metadata": {
    "tags": []
   },
   "outputs": [],
   "source": [
    "# I now have 7 dataframes. Some of these need to be filtered by question\n",
    "# asthma, cancer, heart, copd, diabetes, immun, kidney\n",
    "# I have the overall rates as well as rates by gender & race"
   ]
  },
  {
   "cell_type": "code",
   "execution_count": 602,
   "id": "cf929237-b284-44e3-a212-4c0b6ddff828",
   "metadata": {
    "tags": []
   },
   "outputs": [
    {
     "name": "stdout",
     "output_type": "stream",
     "text": [
      "(110, 7)\n",
      "(156, 7)\n",
      "(110, 7)\n",
      "(110, 7)\n",
      "(110, 7)\n",
      "(110, 7)\n",
      "(110, 7)\n"
     ]
    }
   ],
   "source": [
    "print(asthma.shape)\n",
    "#print(cancer.shape)\n",
    "print(cardiac_mortality.shape)\n",
    "print(high_blood_pressure.shape)\n",
    "print(copd.shape)\n",
    "print(diabetes.shape)\n",
    "print(immun.shape)\n",
    "print(kidney.shape)"
   ]
  },
  {
   "cell_type": "code",
   "execution_count": 603,
   "id": "0bef2056-ef20-4a32-bbe9-e650a41564a9",
   "metadata": {
    "tags": []
   },
   "outputs": [],
   "source": [
    "cardiac_mortality.drop_duplicates(inplace=True)"
   ]
  },
  {
   "cell_type": "code",
   "execution_count": 604,
   "id": "93a59380-020b-4585-b2f3-c3032af57ad9",
   "metadata": {
    "tags": []
   },
   "outputs": [
    {
     "data": {
      "text/plain": [
       "(156, 7)"
      ]
     },
     "execution_count": 604,
     "metadata": {},
     "output_type": "execute_result"
    }
   ],
   "source": [
    "cardiac_mortality.shape"
   ]
  },
  {
   "cell_type": "code",
   "execution_count": 605,
   "id": "7e3177be-91c2-4d35-989a-62a45d6c4a3c",
   "metadata": {
    "tags": []
   },
   "outputs": [
    {
     "data": {
      "text/html": [
       "<div>\n",
       "<style scoped>\n",
       "    .dataframe tbody tr th:only-of-type {\n",
       "        vertical-align: middle;\n",
       "    }\n",
       "\n",
       "    .dataframe tbody tr th {\n",
       "        vertical-align: top;\n",
       "    }\n",
       "\n",
       "    .dataframe thead th {\n",
       "        text-align: right;\n",
       "    }\n",
       "</style>\n",
       "<table border=\"1\" class=\"dataframe\">\n",
       "  <thead>\n",
       "    <tr style=\"text-align: right;\">\n",
       "      <th></th>\n",
       "      <th>YearStart</th>\n",
       "      <th>LocationAbbr</th>\n",
       "      <th>LocationDesc</th>\n",
       "      <th>Question</th>\n",
       "      <th>DataValue</th>\n",
       "      <th>Stratification1</th>\n",
       "      <th>DataValueType</th>\n",
       "    </tr>\n",
       "  </thead>\n",
       "  <tbody>\n",
       "    <tr>\n",
       "      <th>29319</th>\n",
       "      <td>2019</td>\n",
       "      <td>AK</td>\n",
       "      <td>Alaska</td>\n",
       "      <td>Current asthma prevalence among adults aged &gt;=...</td>\n",
       "      <td>9.7</td>\n",
       "      <td>Overall</td>\n",
       "      <td>Age-adjusted Prevalence</td>\n",
       "    </tr>\n",
       "    <tr>\n",
       "      <th>29673</th>\n",
       "      <td>2019</td>\n",
       "      <td>AK</td>\n",
       "      <td>Alaska</td>\n",
       "      <td>Current asthma prevalence among adults aged &gt;=...</td>\n",
       "      <td>9.9</td>\n",
       "      <td>Overall</td>\n",
       "      <td>Crude Prevalence</td>\n",
       "    </tr>\n",
       "    <tr>\n",
       "      <th>30178</th>\n",
       "      <td>2019</td>\n",
       "      <td>AL</td>\n",
       "      <td>Alabama</td>\n",
       "      <td>Current asthma prevalence among adults aged &gt;=...</td>\n",
       "      <td>9.4</td>\n",
       "      <td>Overall</td>\n",
       "      <td>Age-adjusted Prevalence</td>\n",
       "    </tr>\n",
       "    <tr>\n",
       "      <th>30473</th>\n",
       "      <td>2019</td>\n",
       "      <td>AL</td>\n",
       "      <td>Alabama</td>\n",
       "      <td>Current asthma prevalence among adults aged &gt;=...</td>\n",
       "      <td>9.5</td>\n",
       "      <td>Overall</td>\n",
       "      <td>Crude Prevalence</td>\n",
       "    </tr>\n",
       "    <tr>\n",
       "      <th>31698</th>\n",
       "      <td>2019</td>\n",
       "      <td>AR</td>\n",
       "      <td>Arkansas</td>\n",
       "      <td>Current asthma prevalence among adults aged &gt;=...</td>\n",
       "      <td>9.3</td>\n",
       "      <td>Overall</td>\n",
       "      <td>Age-adjusted Prevalence</td>\n",
       "    </tr>\n",
       "  </tbody>\n",
       "</table>\n",
       "</div>"
      ],
      "text/plain": [
       "       YearStart LocationAbbr LocationDesc  \\\n",
       "29319       2019           AK       Alaska   \n",
       "29673       2019           AK       Alaska   \n",
       "30178       2019           AL      Alabama   \n",
       "30473       2019           AL      Alabama   \n",
       "31698       2019           AR     Arkansas   \n",
       "\n",
       "                                                Question  DataValue  \\\n",
       "29319  Current asthma prevalence among adults aged >=...        9.7   \n",
       "29673  Current asthma prevalence among adults aged >=...        9.9   \n",
       "30178  Current asthma prevalence among adults aged >=...        9.4   \n",
       "30473  Current asthma prevalence among adults aged >=...        9.5   \n",
       "31698  Current asthma prevalence among adults aged >=...        9.3   \n",
       "\n",
       "      Stratification1            DataValueType  \n",
       "29319         Overall  Age-adjusted Prevalence  \n",
       "29673         Overall         Crude Prevalence  \n",
       "30178         Overall  Age-adjusted Prevalence  \n",
       "30473         Overall         Crude Prevalence  \n",
       "31698         Overall  Age-adjusted Prevalence  "
      ]
     },
     "execution_count": 605,
     "metadata": {},
     "output_type": "execute_result"
    }
   ],
   "source": [
    "asthma.head()"
   ]
  },
  {
   "cell_type": "code",
   "execution_count": 606,
   "id": "0944215d-3742-4283-b8f3-d5e3f75a6a74",
   "metadata": {},
   "outputs": [
    {
     "data": {
      "text/plain": [
       "Overall    110\n",
       "Name: Stratification1, dtype: int64"
      ]
     },
     "execution_count": 606,
     "metadata": {},
     "output_type": "execute_result"
    }
   ],
   "source": [
    "asthma['Stratification1'].value_counts()"
   ]
  },
  {
   "cell_type": "code",
   "execution_count": null,
   "id": "a0b01e8e-67ad-48ed-b09c-d30cef892fc0",
   "metadata": {
    "tags": []
   },
   "outputs": [],
   "source": []
  },
  {
   "cell_type": "code",
   "execution_count": 607,
   "id": "b18696ac-3e14-4d6d-a7a6-e1b0387402b3",
   "metadata": {
    "tags": []
   },
   "outputs": [
    {
     "data": {
      "text/html": [
       "<div>\n",
       "<style scoped>\n",
       "    .dataframe tbody tr th:only-of-type {\n",
       "        vertical-align: middle;\n",
       "    }\n",
       "\n",
       "    .dataframe tbody tr th {\n",
       "        vertical-align: top;\n",
       "    }\n",
       "\n",
       "    .dataframe thead th {\n",
       "        text-align: right;\n",
       "    }\n",
       "</style>\n",
       "<table border=\"1\" class=\"dataframe\">\n",
       "  <thead>\n",
       "    <tr style=\"text-align: right;\">\n",
       "      <th></th>\n",
       "      <th>YearStart</th>\n",
       "      <th>LocationAbbr</th>\n",
       "      <th>LocationDesc</th>\n",
       "      <th>Question</th>\n",
       "      <th>DataValue</th>\n",
       "      <th>Stratification1</th>\n",
       "      <th>DataValueType</th>\n",
       "    </tr>\n",
       "  </thead>\n",
       "  <tbody>\n",
       "    <tr>\n",
       "      <th>29319</th>\n",
       "      <td>2019</td>\n",
       "      <td>AK</td>\n",
       "      <td>Alaska</td>\n",
       "      <td>Current asthma prevalence among adults aged &gt;=...</td>\n",
       "      <td>9.7</td>\n",
       "      <td>Overall</td>\n",
       "      <td>Age-adjusted Prevalence</td>\n",
       "    </tr>\n",
       "    <tr>\n",
       "      <th>29673</th>\n",
       "      <td>2019</td>\n",
       "      <td>AK</td>\n",
       "      <td>Alaska</td>\n",
       "      <td>Current asthma prevalence among adults aged &gt;=...</td>\n",
       "      <td>9.9</td>\n",
       "      <td>Overall</td>\n",
       "      <td>Crude Prevalence</td>\n",
       "    </tr>\n",
       "    <tr>\n",
       "      <th>30178</th>\n",
       "      <td>2019</td>\n",
       "      <td>AL</td>\n",
       "      <td>Alabama</td>\n",
       "      <td>Current asthma prevalence among adults aged &gt;=...</td>\n",
       "      <td>9.4</td>\n",
       "      <td>Overall</td>\n",
       "      <td>Age-adjusted Prevalence</td>\n",
       "    </tr>\n",
       "    <tr>\n",
       "      <th>30473</th>\n",
       "      <td>2019</td>\n",
       "      <td>AL</td>\n",
       "      <td>Alabama</td>\n",
       "      <td>Current asthma prevalence among adults aged &gt;=...</td>\n",
       "      <td>9.5</td>\n",
       "      <td>Overall</td>\n",
       "      <td>Crude Prevalence</td>\n",
       "    </tr>\n",
       "    <tr>\n",
       "      <th>31698</th>\n",
       "      <td>2019</td>\n",
       "      <td>AR</td>\n",
       "      <td>Arkansas</td>\n",
       "      <td>Current asthma prevalence among adults aged &gt;=...</td>\n",
       "      <td>9.3</td>\n",
       "      <td>Overall</td>\n",
       "      <td>Age-adjusted Prevalence</td>\n",
       "    </tr>\n",
       "    <tr>\n",
       "      <th>...</th>\n",
       "      <td>...</td>\n",
       "      <td>...</td>\n",
       "      <td>...</td>\n",
       "      <td>...</td>\n",
       "      <td>...</td>\n",
       "      <td>...</td>\n",
       "      <td>...</td>\n",
       "    </tr>\n",
       "    <tr>\n",
       "      <th>77802</th>\n",
       "      <td>2019</td>\n",
       "      <td>WI</td>\n",
       "      <td>Wisconsin</td>\n",
       "      <td>Current asthma prevalence among adults aged &gt;=...</td>\n",
       "      <td>10.2</td>\n",
       "      <td>Overall</td>\n",
       "      <td>Crude Prevalence</td>\n",
       "    </tr>\n",
       "    <tr>\n",
       "      <th>78516</th>\n",
       "      <td>2019</td>\n",
       "      <td>WV</td>\n",
       "      <td>West Virginia</td>\n",
       "      <td>Current asthma prevalence among adults aged &gt;=...</td>\n",
       "      <td>11.5</td>\n",
       "      <td>Overall</td>\n",
       "      <td>Crude Prevalence</td>\n",
       "    </tr>\n",
       "    <tr>\n",
       "      <th>78762</th>\n",
       "      <td>2019</td>\n",
       "      <td>WV</td>\n",
       "      <td>West Virginia</td>\n",
       "      <td>Current asthma prevalence among adults aged &gt;=...</td>\n",
       "      <td>11.6</td>\n",
       "      <td>Overall</td>\n",
       "      <td>Age-adjusted Prevalence</td>\n",
       "    </tr>\n",
       "    <tr>\n",
       "      <th>79568</th>\n",
       "      <td>2019</td>\n",
       "      <td>WY</td>\n",
       "      <td>Wyoming</td>\n",
       "      <td>Current asthma prevalence among adults aged &gt;=...</td>\n",
       "      <td>9.5</td>\n",
       "      <td>Overall</td>\n",
       "      <td>Crude Prevalence</td>\n",
       "    </tr>\n",
       "    <tr>\n",
       "      <th>79745</th>\n",
       "      <td>2019</td>\n",
       "      <td>WY</td>\n",
       "      <td>Wyoming</td>\n",
       "      <td>Current asthma prevalence among adults aged &gt;=...</td>\n",
       "      <td>9.5</td>\n",
       "      <td>Overall</td>\n",
       "      <td>Age-adjusted Prevalence</td>\n",
       "    </tr>\n",
       "  </tbody>\n",
       "</table>\n",
       "<p>110 rows × 7 columns</p>\n",
       "</div>"
      ],
      "text/plain": [
       "       YearStart LocationAbbr   LocationDesc  \\\n",
       "29319       2019           AK         Alaska   \n",
       "29673       2019           AK         Alaska   \n",
       "30178       2019           AL        Alabama   \n",
       "30473       2019           AL        Alabama   \n",
       "31698       2019           AR       Arkansas   \n",
       "...          ...          ...            ...   \n",
       "77802       2019           WI      Wisconsin   \n",
       "78516       2019           WV  West Virginia   \n",
       "78762       2019           WV  West Virginia   \n",
       "79568       2019           WY        Wyoming   \n",
       "79745       2019           WY        Wyoming   \n",
       "\n",
       "                                                Question  DataValue  \\\n",
       "29319  Current asthma prevalence among adults aged >=...        9.7   \n",
       "29673  Current asthma prevalence among adults aged >=...        9.9   \n",
       "30178  Current asthma prevalence among adults aged >=...        9.4   \n",
       "30473  Current asthma prevalence among adults aged >=...        9.5   \n",
       "31698  Current asthma prevalence among adults aged >=...        9.3   \n",
       "...                                                  ...        ...   \n",
       "77802  Current asthma prevalence among adults aged >=...       10.2   \n",
       "78516  Current asthma prevalence among adults aged >=...       11.5   \n",
       "78762  Current asthma prevalence among adults aged >=...       11.6   \n",
       "79568  Current asthma prevalence among adults aged >=...        9.5   \n",
       "79745  Current asthma prevalence among adults aged >=...        9.5   \n",
       "\n",
       "      Stratification1            DataValueType  \n",
       "29319         Overall  Age-adjusted Prevalence  \n",
       "29673         Overall         Crude Prevalence  \n",
       "30178         Overall  Age-adjusted Prevalence  \n",
       "30473         Overall         Crude Prevalence  \n",
       "31698         Overall  Age-adjusted Prevalence  \n",
       "...               ...                      ...  \n",
       "77802         Overall         Crude Prevalence  \n",
       "78516         Overall         Crude Prevalence  \n",
       "78762         Overall  Age-adjusted Prevalence  \n",
       "79568         Overall         Crude Prevalence  \n",
       "79745         Overall  Age-adjusted Prevalence  \n",
       "\n",
       "[110 rows x 7 columns]"
      ]
     },
     "execution_count": 607,
     "metadata": {},
     "output_type": "execute_result"
    }
   ],
   "source": [
    "clean2(asthma)"
   ]
  },
  {
   "cell_type": "code",
   "execution_count": 608,
   "id": "3015b3a8-d036-4cdd-9912-96a0dd36158a",
   "metadata": {
    "tags": []
   },
   "outputs": [
    {
     "data": {
      "text/plain": [
       "Age-adjusted Prevalence    55\n",
       "Crude Prevalence           55\n",
       "Name: DataValueType, dtype: int64"
      ]
     },
     "execution_count": 608,
     "metadata": {},
     "output_type": "execute_result"
    }
   ],
   "source": [
    "asthma.DataValueType.value_counts()"
   ]
  },
  {
   "cell_type": "code",
   "execution_count": 609,
   "id": "89f1c7ff-8c6c-42c1-91fa-fb5f23143b41",
   "metadata": {
    "tags": []
   },
   "outputs": [
    {
     "data": {
      "text/plain": [
       "Age-adjusted Prevalence    55\n",
       "Crude Prevalence           55\n",
       "Name: DataValueType, dtype: int64"
      ]
     },
     "execution_count": 609,
     "metadata": {},
     "output_type": "execute_result"
    }
   ],
   "source": [
    "copd.DataValueType.value_counts()"
   ]
  },
  {
   "cell_type": "code",
   "execution_count": 610,
   "id": "d0fe4f33-e063-4d18-a902-ce8978df5485",
   "metadata": {
    "tags": []
   },
   "outputs": [
    {
     "data": {
      "text/plain": [
       "Number               52\n",
       "Crude Rate           52\n",
       "Age-adjusted Rate    52\n",
       "Name: DataValueType, dtype: int64"
      ]
     },
     "execution_count": 610,
     "metadata": {},
     "output_type": "execute_result"
    }
   ],
   "source": [
    "cardiac_mortality.DataValueType.value_counts()"
   ]
  },
  {
   "cell_type": "code",
   "execution_count": 611,
   "id": "4bf349c3-9eac-41ed-88c7-85d1721b2606",
   "metadata": {
    "tags": []
   },
   "outputs": [],
   "source": [
    "def adj(df):\n",
    "    adj_df = df[df['DataValueType'] == 'Age-adjusted Prevalence'].copy()\n",
    "    adj_df.drop(columns=['LocationAbbr', 'DataValueType', 'Stratification1'], inplace=True)\n",
    "    return adj_df\n",
    "\n",
    "def crude(df):\n",
    "    crude_df = df[df['DataValueType'] == 'Crude Prevalence'].copy()\n",
    "    crude_df.drop(columns=['LocationAbbr', 'DataValueType', 'Stratification1'], inplace=True)\n",
    "    return crude_df"
   ]
  },
  {
   "cell_type": "code",
   "execution_count": 612,
   "id": "5611c955-f94b-4169-95fd-8bcbf936525d",
   "metadata": {
    "tags": []
   },
   "outputs": [],
   "source": [
    "#adj_asthma = adj(asthma)\n",
    "#crude_asthma = crude(asthma)\n",
    "\n",
    "#adj_asthma.to_csv('Data/asthma_adj.csv')\n",
    "#crude_asthma.to_csv('Data/asthma_crude.csv')"
   ]
  },
  {
   "cell_type": "code",
   "execution_count": 613,
   "id": "8b74f322-9ecd-4bb8-a846-d849d1be2c95",
   "metadata": {
    "tags": []
   },
   "outputs": [],
   "source": [
    "def process_dataframes(dataframe_list):\n",
    "    results = {} \n",
    "    for name, df in dataframe_list.items():\n",
    "        adj_result = adj(df)\n",
    "        crude_result = crude(df)\n",
    "        results[name] = {'adj': adj_result, 'crude': crude_result}\n",
    "    return results\n",
    "\n",
    "# Create a list of DataFrames \n",
    "dataframe_list = {\n",
    "    'copd': copd,\n",
    "    'asthma': asthma,\n",
    "    'high_blood_pressure': high_blood_pressure,\n",
    "    'cardiac_mortality': cardiac_mortality,\n",
    "    'diabetes': diabetes,\n",
    "    'immun': immun,\n",
    "    'kidney': kidney\n",
    "}\n",
    "# Process the list of DataFrames\n",
    "results = process_dataframes(dataframe_list)\n",
    "\n",
    "# Save the results to CSV\n",
    "for name, result in results.items():\n",
    "    result['adj'].to_csv(f'Data/{name}_adj.csv')\n",
    "    result['crude'].to_csv(f'Data/{name}_crude.csv')"
   ]
  }
 ],
 "metadata": {
  "kernelspec": {
   "display_name": "Python 3 (ipykernel)",
   "language": "python",
   "name": "python3"
  },
  "language_info": {
   "codemirror_mode": {
    "name": "ipython",
    "version": 3
   },
   "file_extension": ".py",
   "mimetype": "text/x-python",
   "name": "python",
   "nbconvert_exporter": "python",
   "pygments_lexer": "ipython3",
   "version": "3.11.4"
  }
 },
 "nbformat": 4,
 "nbformat_minor": 5
}
