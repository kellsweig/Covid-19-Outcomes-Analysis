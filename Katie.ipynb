{
 "cells": [
  {
   "cell_type": "code",
   "execution_count": 2,
   "id": "6f020f39-2b1d-450c-aaa4-f08fdb82ec50",
   "metadata": {
    "tags": []
   },
   "outputs": [],
   "source": [
    "# Imports\n",
    "import pandas as pd\n",
    "import numpy as np\n",
    "import matplotlib.pyplot as plt"
   ]
  },
  {
   "cell_type": "markdown",
   "id": "f1d1d563-1bad-494f-940b-34d0f826eb1b",
   "metadata": {
    "tags": []
   },
   "source": [
    "# Data Collection"
   ]
  },
  {
   "cell_type": "markdown",
   "id": "d6646a31-ce0f-43d0-91d4-980f03f6b073",
   "metadata": {},
   "source": [
    "## Collecting Asthma Information"
   ]
  },
  {
   "cell_type": "markdown",
   "id": "33f13a7d-9908-4154-8d2f-d913e139b8b0",
   "metadata": {},
   "source": [
    "CSV files with information on asthma, diabetes, cancer, copd, heart disease, kidney disease incident rates/ prevalence rates were downloaded from the CDC website. These csv files are each approximately 40 MB with responses to various questions, rates by demographic as well as overall population totals for more than a decade. Each dataset must be cleaned and unecessary information dropped to reduce the files to a manageable size. "
   ]
  },
  {
   "cell_type": "code",
   "execution_count": 2,
   "id": "61ad8c21-8aaa-47a5-a5f8-77aa00113437",
   "metadata": {
    "tags": []
   },
   "outputs": [],
   "source": [
    "# Large csv files were uploaded into an untracked folder\n",
    "asthma = pd.read_csv('Ignore/Asthma.csv')"
   ]
  },
  {
   "cell_type": "code",
   "execution_count": 3,
   "id": "ad18cdfa-a006-4f18-b0ca-422d80b11f56",
   "metadata": {
    "tags": []
   },
   "outputs": [
    {
     "data": {
      "text/plain": [
       "(80342, 33)"
      ]
     },
     "execution_count": 3,
     "metadata": {},
     "output_type": "execute_result"
    }
   ],
   "source": [
    "asthma.shape"
   ]
  },
  {
   "cell_type": "code",
   "execution_count": 4,
   "id": "2b62db55-c516-4118-a875-809b4438f1f3",
   "metadata": {
    "tags": []
   },
   "outputs": [
    {
     "data": {
      "text/html": [
       "<div>\n",
       "<style scoped>\n",
       "    .dataframe tbody tr th:only-of-type {\n",
       "        vertical-align: middle;\n",
       "    }\n",
       "\n",
       "    .dataframe tbody tr th {\n",
       "        vertical-align: top;\n",
       "    }\n",
       "\n",
       "    .dataframe thead th {\n",
       "        text-align: right;\n",
       "    }\n",
       "</style>\n",
       "<table border=\"1\" class=\"dataframe\">\n",
       "  <thead>\n",
       "    <tr style=\"text-align: right;\">\n",
       "      <th></th>\n",
       "      <th>YearStart</th>\n",
       "      <th>YearEnd</th>\n",
       "      <th>LocationAbbr</th>\n",
       "      <th>LocationDesc</th>\n",
       "      <th>DataSource</th>\n",
       "      <th>Topic</th>\n",
       "      <th>Question</th>\n",
       "      <th>Response</th>\n",
       "      <th>DataValueUnit</th>\n",
       "      <th>DataValueType</th>\n",
       "      <th>...</th>\n",
       "      <th>LocationID</th>\n",
       "      <th>TopicID</th>\n",
       "      <th>QuestionID</th>\n",
       "      <th>DataValueTypeID</th>\n",
       "      <th>StratificationCategoryID1</th>\n",
       "      <th>StratificationID1</th>\n",
       "      <th>StratificationCategoryID2</th>\n",
       "      <th>StratificationID2</th>\n",
       "      <th>StratificationCategoryID3</th>\n",
       "      <th>StratificationID3</th>\n",
       "    </tr>\n",
       "  </thead>\n",
       "  <tbody>\n",
       "    <tr>\n",
       "      <th>0</th>\n",
       "      <td>2014</td>\n",
       "      <td>2014</td>\n",
       "      <td>AR</td>\n",
       "      <td>Arkansas</td>\n",
       "      <td>SEDD; SID</td>\n",
       "      <td>Asthma</td>\n",
       "      <td>Hospitalizations for asthma</td>\n",
       "      <td>NaN</td>\n",
       "      <td>NaN</td>\n",
       "      <td>Number</td>\n",
       "      <td>...</td>\n",
       "      <td>5</td>\n",
       "      <td>AST</td>\n",
       "      <td>AST3_1</td>\n",
       "      <td>NMBR</td>\n",
       "      <td>GENDER</td>\n",
       "      <td>GENM</td>\n",
       "      <td>NaN</td>\n",
       "      <td>NaN</td>\n",
       "      <td>NaN</td>\n",
       "      <td>NaN</td>\n",
       "    </tr>\n",
       "    <tr>\n",
       "      <th>1</th>\n",
       "      <td>2018</td>\n",
       "      <td>2018</td>\n",
       "      <td>CO</td>\n",
       "      <td>Colorado</td>\n",
       "      <td>SEDD; SID</td>\n",
       "      <td>Asthma</td>\n",
       "      <td>Hospitalizations for asthma</td>\n",
       "      <td>NaN</td>\n",
       "      <td>NaN</td>\n",
       "      <td>Number</td>\n",
       "      <td>...</td>\n",
       "      <td>8</td>\n",
       "      <td>AST</td>\n",
       "      <td>AST3_1</td>\n",
       "      <td>NMBR</td>\n",
       "      <td>OVERALL</td>\n",
       "      <td>OVR</td>\n",
       "      <td>NaN</td>\n",
       "      <td>NaN</td>\n",
       "      <td>NaN</td>\n",
       "      <td>NaN</td>\n",
       "    </tr>\n",
       "    <tr>\n",
       "      <th>2</th>\n",
       "      <td>2018</td>\n",
       "      <td>2018</td>\n",
       "      <td>DC</td>\n",
       "      <td>District of Columbia</td>\n",
       "      <td>SEDD; SID</td>\n",
       "      <td>Asthma</td>\n",
       "      <td>Hospitalizations for asthma</td>\n",
       "      <td>NaN</td>\n",
       "      <td>NaN</td>\n",
       "      <td>Number</td>\n",
       "      <td>...</td>\n",
       "      <td>11</td>\n",
       "      <td>AST</td>\n",
       "      <td>AST3_1</td>\n",
       "      <td>NMBR</td>\n",
       "      <td>OVERALL</td>\n",
       "      <td>OVR</td>\n",
       "      <td>NaN</td>\n",
       "      <td>NaN</td>\n",
       "      <td>NaN</td>\n",
       "      <td>NaN</td>\n",
       "    </tr>\n",
       "    <tr>\n",
       "      <th>3</th>\n",
       "      <td>2017</td>\n",
       "      <td>2017</td>\n",
       "      <td>GA</td>\n",
       "      <td>Georgia</td>\n",
       "      <td>SEDD; SID</td>\n",
       "      <td>Asthma</td>\n",
       "      <td>Hospitalizations for asthma</td>\n",
       "      <td>NaN</td>\n",
       "      <td>NaN</td>\n",
       "      <td>Number</td>\n",
       "      <td>...</td>\n",
       "      <td>13</td>\n",
       "      <td>AST</td>\n",
       "      <td>AST3_1</td>\n",
       "      <td>NMBR</td>\n",
       "      <td>GENDER</td>\n",
       "      <td>GENF</td>\n",
       "      <td>NaN</td>\n",
       "      <td>NaN</td>\n",
       "      <td>NaN</td>\n",
       "      <td>NaN</td>\n",
       "    </tr>\n",
       "    <tr>\n",
       "      <th>4</th>\n",
       "      <td>2010</td>\n",
       "      <td>2010</td>\n",
       "      <td>MI</td>\n",
       "      <td>Michigan</td>\n",
       "      <td>SEDD; SID</td>\n",
       "      <td>Asthma</td>\n",
       "      <td>Hospitalizations for asthma</td>\n",
       "      <td>NaN</td>\n",
       "      <td>NaN</td>\n",
       "      <td>Number</td>\n",
       "      <td>...</td>\n",
       "      <td>26</td>\n",
       "      <td>AST</td>\n",
       "      <td>AST3_1</td>\n",
       "      <td>NMBR</td>\n",
       "      <td>RACE</td>\n",
       "      <td>HIS</td>\n",
       "      <td>NaN</td>\n",
       "      <td>NaN</td>\n",
       "      <td>NaN</td>\n",
       "      <td>NaN</td>\n",
       "    </tr>\n",
       "  </tbody>\n",
       "</table>\n",
       "<p>5 rows × 33 columns</p>\n",
       "</div>"
      ],
      "text/plain": [
       "   YearStart  YearEnd LocationAbbr          LocationDesc DataSource   Topic  \\\n",
       "0       2014     2014           AR              Arkansas  SEDD; SID  Asthma   \n",
       "1       2018     2018           CO              Colorado  SEDD; SID  Asthma   \n",
       "2       2018     2018           DC  District of Columbia  SEDD; SID  Asthma   \n",
       "3       2017     2017           GA               Georgia  SEDD; SID  Asthma   \n",
       "4       2010     2010           MI              Michigan  SEDD; SID  Asthma   \n",
       "\n",
       "                      Question  Response DataValueUnit DataValueType  ...  \\\n",
       "0  Hospitalizations for asthma       NaN           NaN        Number  ...   \n",
       "1  Hospitalizations for asthma       NaN           NaN        Number  ...   \n",
       "2  Hospitalizations for asthma       NaN           NaN        Number  ...   \n",
       "3  Hospitalizations for asthma       NaN           NaN        Number  ...   \n",
       "4  Hospitalizations for asthma       NaN           NaN        Number  ...   \n",
       "\n",
       "   LocationID  TopicID QuestionID DataValueTypeID  StratificationCategoryID1  \\\n",
       "0           5      AST     AST3_1            NMBR                     GENDER   \n",
       "1           8      AST     AST3_1            NMBR                    OVERALL   \n",
       "2          11      AST     AST3_1            NMBR                    OVERALL   \n",
       "3          13      AST     AST3_1            NMBR                     GENDER   \n",
       "4          26      AST     AST3_1            NMBR                       RACE   \n",
       "\n",
       "   StratificationID1 StratificationCategoryID2 StratificationID2  \\\n",
       "0               GENM                       NaN               NaN   \n",
       "1                OVR                       NaN               NaN   \n",
       "2                OVR                       NaN               NaN   \n",
       "3               GENF                       NaN               NaN   \n",
       "4                HIS                       NaN               NaN   \n",
       "\n",
       "   StratificationCategoryID3  StratificationID3  \n",
       "0                        NaN                NaN  \n",
       "1                        NaN                NaN  \n",
       "2                        NaN                NaN  \n",
       "3                        NaN                NaN  \n",
       "4                        NaN                NaN  \n",
       "\n",
       "[5 rows x 33 columns]"
      ]
     },
     "execution_count": 4,
     "metadata": {},
     "output_type": "execute_result"
    }
   ],
   "source": [
    "asthma.head()"
   ]
  },
  {
   "cell_type": "code",
   "execution_count": 5,
   "id": "42ed6705-26a2-4377-95f2-f369169a1b7c",
   "metadata": {
    "tags": []
   },
   "outputs": [
    {
     "data": {
      "text/plain": [
       "Asthma mortality rate                                                                      13497\n",
       "Current asthma prevalence among adults aged >= 18 years                                     9570\n",
       "Influenza vaccination among noninstitutionalized adults aged >= 65 years with asthma        9570\n",
       "Influenza vaccination among noninstitutionalized adults aged 18-64 years with asthma        9570\n",
       "Pneumococcal vaccination among noninstitutionalized adults aged 18-64 years with asthma     9570\n",
       "Pneumococcal vaccination among noninstitutionalized adults aged >= 65 years with asthma     9570\n",
       "Hospitalizations for asthma                                                                 7812\n",
       "Emergency department visit rate for asthma                                                  7608\n",
       "Asthma prevalence among women aged 18-44 years                                              3575\n",
       "Name: Question, dtype: int64"
      ]
     },
     "execution_count": 5,
     "metadata": {},
     "output_type": "execute_result"
    }
   ],
   "source": [
    "asthma.Question.value_counts()"
   ]
  },
  {
   "cell_type": "code",
   "execution_count": 6,
   "id": "94044b68-0565-4a6d-beb2-96e2bc24fe4f",
   "metadata": {
    "tags": []
   },
   "outputs": [],
   "source": [
    "# Reducing data to only include reqponses to question of interest\n",
    "asthma = asthma[asthma['Question']== \"Current asthma prevalence among adults aged >= 18 years\"]"
   ]
  },
  {
   "cell_type": "code",
   "execution_count": 7,
   "id": "e0805ee9-1224-489f-840b-bef3f99a46ec",
   "metadata": {
    "tags": []
   },
   "outputs": [
    {
     "data": {
      "text/plain": [
       "(9570, 33)"
      ]
     },
     "execution_count": 7,
     "metadata": {},
     "output_type": "execute_result"
    }
   ],
   "source": [
    "asthma.shape"
   ]
  },
  {
   "cell_type": "code",
   "execution_count": 8,
   "id": "afa911cf-ba45-4d36-8004-b503702be4d6",
   "metadata": {
    "tags": []
   },
   "outputs": [
    {
     "data": {
      "text/html": [
       "<div>\n",
       "<style scoped>\n",
       "    .dataframe tbody tr th:only-of-type {\n",
       "        vertical-align: middle;\n",
       "    }\n",
       "\n",
       "    .dataframe tbody tr th {\n",
       "        vertical-align: top;\n",
       "    }\n",
       "\n",
       "    .dataframe thead th {\n",
       "        text-align: right;\n",
       "    }\n",
       "</style>\n",
       "<table border=\"1\" class=\"dataframe\">\n",
       "  <thead>\n",
       "    <tr style=\"text-align: right;\">\n",
       "      <th></th>\n",
       "      <th>YearStart</th>\n",
       "      <th>YearEnd</th>\n",
       "      <th>Response</th>\n",
       "      <th>DataValue</th>\n",
       "      <th>DataValueAlt</th>\n",
       "      <th>LowConfidenceLimit</th>\n",
       "      <th>HighConfidenceLimit</th>\n",
       "      <th>StratificationCategory2</th>\n",
       "      <th>Stratification2</th>\n",
       "      <th>StratificationCategory3</th>\n",
       "      <th>Stratification3</th>\n",
       "      <th>ResponseID</th>\n",
       "      <th>LocationID</th>\n",
       "      <th>StratificationCategoryID2</th>\n",
       "      <th>StratificationID2</th>\n",
       "      <th>StratificationCategoryID3</th>\n",
       "      <th>StratificationID3</th>\n",
       "    </tr>\n",
       "  </thead>\n",
       "  <tbody>\n",
       "    <tr>\n",
       "      <th>count</th>\n",
       "      <td>9570.000000</td>\n",
       "      <td>9570.000000</td>\n",
       "      <td>0.0</td>\n",
       "      <td>7662.000000</td>\n",
       "      <td>7662.000000</td>\n",
       "      <td>7662.000000</td>\n",
       "      <td>7662.000000</td>\n",
       "      <td>0.0</td>\n",
       "      <td>0.0</td>\n",
       "      <td>0.0</td>\n",
       "      <td>0.0</td>\n",
       "      <td>0.0</td>\n",
       "      <td>9570.000000</td>\n",
       "      <td>0.0</td>\n",
       "      <td>0.0</td>\n",
       "      <td>0.0</td>\n",
       "      <td>0.0</td>\n",
       "    </tr>\n",
       "    <tr>\n",
       "      <th>mean</th>\n",
       "      <td>2016.000000</td>\n",
       "      <td>2016.000000</td>\n",
       "      <td>NaN</td>\n",
       "      <td>10.195184</td>\n",
       "      <td>10.195184</td>\n",
       "      <td>8.039585</td>\n",
       "      <td>13.059867</td>\n",
       "      <td>NaN</td>\n",
       "      <td>NaN</td>\n",
       "      <td>NaN</td>\n",
       "      <td>NaN</td>\n",
       "      <td>NaN</td>\n",
       "      <td>31.542529</td>\n",
       "      <td>NaN</td>\n",
       "      <td>NaN</td>\n",
       "      <td>NaN</td>\n",
       "      <td>NaN</td>\n",
       "    </tr>\n",
       "    <tr>\n",
       "      <th>std</th>\n",
       "      <td>3.162443</td>\n",
       "      <td>3.162443</td>\n",
       "      <td>NaN</td>\n",
       "      <td>3.745644</td>\n",
       "      <td>3.745644</td>\n",
       "      <td>2.676902</td>\n",
       "      <td>5.999667</td>\n",
       "      <td>NaN</td>\n",
       "      <td>NaN</td>\n",
       "      <td>NaN</td>\n",
       "      <td>NaN</td>\n",
       "      <td>NaN</td>\n",
       "      <td>18.265420</td>\n",
       "      <td>NaN</td>\n",
       "      <td>NaN</td>\n",
       "      <td>NaN</td>\n",
       "      <td>NaN</td>\n",
       "    </tr>\n",
       "    <tr>\n",
       "      <th>min</th>\n",
       "      <td>2011.000000</td>\n",
       "      <td>2011.000000</td>\n",
       "      <td>NaN</td>\n",
       "      <td>1.900000</td>\n",
       "      <td>1.900000</td>\n",
       "      <td>1.100000</td>\n",
       "      <td>3.300000</td>\n",
       "      <td>NaN</td>\n",
       "      <td>NaN</td>\n",
       "      <td>NaN</td>\n",
       "      <td>NaN</td>\n",
       "      <td>NaN</td>\n",
       "      <td>1.000000</td>\n",
       "      <td>NaN</td>\n",
       "      <td>NaN</td>\n",
       "      <td>NaN</td>\n",
       "      <td>NaN</td>\n",
       "    </tr>\n",
       "    <tr>\n",
       "      <th>25%</th>\n",
       "      <td>2013.000000</td>\n",
       "      <td>2013.000000</td>\n",
       "      <td>NaN</td>\n",
       "      <td>7.700000</td>\n",
       "      <td>7.700000</td>\n",
       "      <td>6.100000</td>\n",
       "      <td>9.300000</td>\n",
       "      <td>NaN</td>\n",
       "      <td>NaN</td>\n",
       "      <td>NaN</td>\n",
       "      <td>NaN</td>\n",
       "      <td>NaN</td>\n",
       "      <td>17.000000</td>\n",
       "      <td>NaN</td>\n",
       "      <td>NaN</td>\n",
       "      <td>NaN</td>\n",
       "      <td>NaN</td>\n",
       "    </tr>\n",
       "    <tr>\n",
       "      <th>50%</th>\n",
       "      <td>2016.000000</td>\n",
       "      <td>2016.000000</td>\n",
       "      <td>NaN</td>\n",
       "      <td>9.600000</td>\n",
       "      <td>9.600000</td>\n",
       "      <td>8.000000</td>\n",
       "      <td>11.400000</td>\n",
       "      <td>NaN</td>\n",
       "      <td>NaN</td>\n",
       "      <td>NaN</td>\n",
       "      <td>NaN</td>\n",
       "      <td>NaN</td>\n",
       "      <td>31.000000</td>\n",
       "      <td>NaN</td>\n",
       "      <td>NaN</td>\n",
       "      <td>NaN</td>\n",
       "      <td>NaN</td>\n",
       "    </tr>\n",
       "    <tr>\n",
       "      <th>75%</th>\n",
       "      <td>2019.000000</td>\n",
       "      <td>2019.000000</td>\n",
       "      <td>NaN</td>\n",
       "      <td>11.900000</td>\n",
       "      <td>11.900000</td>\n",
       "      <td>9.800000</td>\n",
       "      <td>14.800000</td>\n",
       "      <td>NaN</td>\n",
       "      <td>NaN</td>\n",
       "      <td>NaN</td>\n",
       "      <td>NaN</td>\n",
       "      <td>NaN</td>\n",
       "      <td>45.000000</td>\n",
       "      <td>NaN</td>\n",
       "      <td>NaN</td>\n",
       "      <td>NaN</td>\n",
       "      <td>NaN</td>\n",
       "    </tr>\n",
       "    <tr>\n",
       "      <th>max</th>\n",
       "      <td>2021.000000</td>\n",
       "      <td>2021.000000</td>\n",
       "      <td>NaN</td>\n",
       "      <td>44.100000</td>\n",
       "      <td>44.100000</td>\n",
       "      <td>26.900000</td>\n",
       "      <td>66.600000</td>\n",
       "      <td>NaN</td>\n",
       "      <td>NaN</td>\n",
       "      <td>NaN</td>\n",
       "      <td>NaN</td>\n",
       "      <td>NaN</td>\n",
       "      <td>78.000000</td>\n",
       "      <td>NaN</td>\n",
       "      <td>NaN</td>\n",
       "      <td>NaN</td>\n",
       "      <td>NaN</td>\n",
       "    </tr>\n",
       "  </tbody>\n",
       "</table>\n",
       "</div>"
      ],
      "text/plain": [
       "         YearStart      YearEnd  Response    DataValue  DataValueAlt  \\\n",
       "count  9570.000000  9570.000000       0.0  7662.000000   7662.000000   \n",
       "mean   2016.000000  2016.000000       NaN    10.195184     10.195184   \n",
       "std       3.162443     3.162443       NaN     3.745644      3.745644   \n",
       "min    2011.000000  2011.000000       NaN     1.900000      1.900000   \n",
       "25%    2013.000000  2013.000000       NaN     7.700000      7.700000   \n",
       "50%    2016.000000  2016.000000       NaN     9.600000      9.600000   \n",
       "75%    2019.000000  2019.000000       NaN    11.900000     11.900000   \n",
       "max    2021.000000  2021.000000       NaN    44.100000     44.100000   \n",
       "\n",
       "       LowConfidenceLimit  HighConfidenceLimit  StratificationCategory2  \\\n",
       "count         7662.000000          7662.000000                      0.0   \n",
       "mean             8.039585            13.059867                      NaN   \n",
       "std              2.676902             5.999667                      NaN   \n",
       "min              1.100000             3.300000                      NaN   \n",
       "25%              6.100000             9.300000                      NaN   \n",
       "50%              8.000000            11.400000                      NaN   \n",
       "75%              9.800000            14.800000                      NaN   \n",
       "max             26.900000            66.600000                      NaN   \n",
       "\n",
       "       Stratification2  StratificationCategory3  Stratification3  ResponseID  \\\n",
       "count              0.0                      0.0              0.0         0.0   \n",
       "mean               NaN                      NaN              NaN         NaN   \n",
       "std                NaN                      NaN              NaN         NaN   \n",
       "min                NaN                      NaN              NaN         NaN   \n",
       "25%                NaN                      NaN              NaN         NaN   \n",
       "50%                NaN                      NaN              NaN         NaN   \n",
       "75%                NaN                      NaN              NaN         NaN   \n",
       "max                NaN                      NaN              NaN         NaN   \n",
       "\n",
       "        LocationID  StratificationCategoryID2  StratificationID2  \\\n",
       "count  9570.000000                        0.0                0.0   \n",
       "mean     31.542529                        NaN                NaN   \n",
       "std      18.265420                        NaN                NaN   \n",
       "min       1.000000                        NaN                NaN   \n",
       "25%      17.000000                        NaN                NaN   \n",
       "50%      31.000000                        NaN                NaN   \n",
       "75%      45.000000                        NaN                NaN   \n",
       "max      78.000000                        NaN                NaN   \n",
       "\n",
       "       StratificationCategoryID3  StratificationID3  \n",
       "count                        0.0                0.0  \n",
       "mean                         NaN                NaN  \n",
       "std                          NaN                NaN  \n",
       "min                          NaN                NaN  \n",
       "25%                          NaN                NaN  \n",
       "50%                          NaN                NaN  \n",
       "75%                          NaN                NaN  \n",
       "max                          NaN                NaN  "
      ]
     },
     "execution_count": 8,
     "metadata": {},
     "output_type": "execute_result"
    }
   ],
   "source": [
    "asthma.describe()"
   ]
  },
  {
   "cell_type": "code",
   "execution_count": 9,
   "id": "6224011f-68b3-4658-9b79-f0f5dc097723",
   "metadata": {
    "tags": []
   },
   "outputs": [],
   "source": [
    "# We only need data for pre-existing conditions for 1 year\n",
    "asthma = asthma[asthma['YearStart'] == 2019]"
   ]
  },
  {
   "cell_type": "code",
   "execution_count": 10,
   "id": "f09d82ce-f83c-4519-94e2-6e8ac271453d",
   "metadata": {
    "tags": []
   },
   "outputs": [
    {
     "data": {
      "text/plain": [
       "(870, 33)"
      ]
     },
     "execution_count": 10,
     "metadata": {},
     "output_type": "execute_result"
    }
   ],
   "source": [
    "asthma.shape"
   ]
  },
  {
   "cell_type": "code",
   "execution_count": 11,
   "id": "729f2d94-3956-425c-ab66-729250f0b42c",
   "metadata": {
    "tags": []
   },
   "outputs": [
    {
     "data": {
      "text/plain": [
       "2019    870\n",
       "Name: YearStart, dtype: int64"
      ]
     },
     "execution_count": 11,
     "metadata": {},
     "output_type": "execute_result"
    }
   ],
   "source": [
    "asthma.YearStart.value_counts()"
   ]
  },
  {
   "cell_type": "code",
   "execution_count": 12,
   "id": "02a1450d-c78f-4f6e-826f-6bb278106570",
   "metadata": {
    "tags": []
   },
   "outputs": [],
   "source": [
    "# Reducing dataframe to only include the 7 columns we need for analysis and data cleaning\n",
    "asthma = asthma[['YearStart', 'LocationAbbr', 'LocationDesc', 'Question', 'DataValue', 'Stratification1', 'DataValueType']]"
   ]
  },
  {
   "cell_type": "code",
   "execution_count": 13,
   "id": "ec9cb617-fdb8-449c-9215-f0882872a51f",
   "metadata": {
    "tags": []
   },
   "outputs": [
    {
     "data": {
      "text/html": [
       "<div>\n",
       "<style scoped>\n",
       "    .dataframe tbody tr th:only-of-type {\n",
       "        vertical-align: middle;\n",
       "    }\n",
       "\n",
       "    .dataframe tbody tr th {\n",
       "        vertical-align: top;\n",
       "    }\n",
       "\n",
       "    .dataframe thead th {\n",
       "        text-align: right;\n",
       "    }\n",
       "</style>\n",
       "<table border=\"1\" class=\"dataframe\">\n",
       "  <thead>\n",
       "    <tr style=\"text-align: right;\">\n",
       "      <th></th>\n",
       "      <th>YearStart</th>\n",
       "      <th>LocationAbbr</th>\n",
       "      <th>LocationDesc</th>\n",
       "      <th>Question</th>\n",
       "      <th>DataValue</th>\n",
       "      <th>Stratification1</th>\n",
       "      <th>DataValueType</th>\n",
       "    </tr>\n",
       "  </thead>\n",
       "  <tbody>\n",
       "    <tr>\n",
       "      <th>28919</th>\n",
       "      <td>2019</td>\n",
       "      <td>GU</td>\n",
       "      <td>Guam</td>\n",
       "      <td>Current asthma prevalence among adults aged &gt;=...</td>\n",
       "      <td>7.5</td>\n",
       "      <td>Female</td>\n",
       "      <td>Age-adjusted Prevalence</td>\n",
       "    </tr>\n",
       "    <tr>\n",
       "      <th>28927</th>\n",
       "      <td>2019</td>\n",
       "      <td>AK</td>\n",
       "      <td>Alaska</td>\n",
       "      <td>Current asthma prevalence among adults aged &gt;=...</td>\n",
       "      <td>10.0</td>\n",
       "      <td>White, non-Hispanic</td>\n",
       "      <td>Crude Prevalence</td>\n",
       "    </tr>\n",
       "    <tr>\n",
       "      <th>28932</th>\n",
       "      <td>2019</td>\n",
       "      <td>AK</td>\n",
       "      <td>Alaska</td>\n",
       "      <td>Current asthma prevalence among adults aged &gt;=...</td>\n",
       "      <td>12.6</td>\n",
       "      <td>Female</td>\n",
       "      <td>Age-adjusted Prevalence</td>\n",
       "    </tr>\n",
       "    <tr>\n",
       "      <th>28977</th>\n",
       "      <td>2019</td>\n",
       "      <td>AK</td>\n",
       "      <td>Alaska</td>\n",
       "      <td>Current asthma prevalence among adults aged &gt;=...</td>\n",
       "      <td>7.0</td>\n",
       "      <td>Male</td>\n",
       "      <td>Age-adjusted Prevalence</td>\n",
       "    </tr>\n",
       "    <tr>\n",
       "      <th>28983</th>\n",
       "      <td>2019</td>\n",
       "      <td>AK</td>\n",
       "      <td>Alaska</td>\n",
       "      <td>Current asthma prevalence among adults aged &gt;=...</td>\n",
       "      <td>7.0</td>\n",
       "      <td>Other, non-Hispanic</td>\n",
       "      <td>Crude Prevalence</td>\n",
       "    </tr>\n",
       "  </tbody>\n",
       "</table>\n",
       "</div>"
      ],
      "text/plain": [
       "       YearStart LocationAbbr LocationDesc  \\\n",
       "28919       2019           GU         Guam   \n",
       "28927       2019           AK       Alaska   \n",
       "28932       2019           AK       Alaska   \n",
       "28977       2019           AK       Alaska   \n",
       "28983       2019           AK       Alaska   \n",
       "\n",
       "                                                Question  DataValue  \\\n",
       "28919  Current asthma prevalence among adults aged >=...        7.5   \n",
       "28927  Current asthma prevalence among adults aged >=...       10.0   \n",
       "28932  Current asthma prevalence among adults aged >=...       12.6   \n",
       "28977  Current asthma prevalence among adults aged >=...        7.0   \n",
       "28983  Current asthma prevalence among adults aged >=...        7.0   \n",
       "\n",
       "           Stratification1            DataValueType  \n",
       "28919               Female  Age-adjusted Prevalence  \n",
       "28927  White, non-Hispanic         Crude Prevalence  \n",
       "28932               Female  Age-adjusted Prevalence  \n",
       "28977                 Male  Age-adjusted Prevalence  \n",
       "28983  Other, non-Hispanic         Crude Prevalence  "
      ]
     },
     "execution_count": 13,
     "metadata": {},
     "output_type": "execute_result"
    }
   ],
   "source": [
    "asthma.head()"
   ]
  },
  {
   "cell_type": "code",
   "execution_count": 14,
   "id": "c65d4daa-a9e0-457e-82a0-bf9ab8f38025",
   "metadata": {
    "tags": []
   },
   "outputs": [
    {
     "data": {
      "text/plain": [
       "(870, 7)"
      ]
     },
     "execution_count": 14,
     "metadata": {},
     "output_type": "execute_result"
    }
   ],
   "source": [
    "asthma.shape"
   ]
  },
  {
   "cell_type": "code",
   "execution_count": 15,
   "id": "d91eea93-c0bc-4b25-9449-1c55823d16d9",
   "metadata": {
    "tags": []
   },
   "outputs": [
    {
     "data": {
      "text/plain": [
       "55"
      ]
     },
     "execution_count": 15,
     "metadata": {},
     "output_type": "execute_result"
    }
   ],
   "source": [
    "asthma['LocationDesc'].nunique()"
   ]
  },
  {
   "cell_type": "code",
   "execution_count": 16,
   "id": "be83cb49-900f-494a-a073-fc1ee3078099",
   "metadata": {
    "tags": []
   },
   "outputs": [],
   "source": [
    "asthma.drop_duplicates(inplace=True)"
   ]
  },
  {
   "cell_type": "code",
   "execution_count": 17,
   "id": "eba41fdb-afb5-4a12-92f9-4ed5dc5a4bbd",
   "metadata": {
    "tags": []
   },
   "outputs": [
    {
     "data": {
      "text/plain": [
       "(870, 7)"
      ]
     },
     "execution_count": 17,
     "metadata": {},
     "output_type": "execute_result"
    }
   ],
   "source": [
    "asthma.shape"
   ]
  },
  {
   "cell_type": "code",
   "execution_count": 18,
   "id": "ba083af7-c862-4b17-8962-31265e5f9523",
   "metadata": {},
   "outputs": [],
   "source": [
    "# Reducing dataset to only include population totals/ dropping rates by race and gender demographics\n",
    "asthma = asthma[asthma['Stratification1'] == 'Overall']"
   ]
  },
  {
   "cell_type": "markdown",
   "id": "a816670c-22e1-4558-8607-009c2d2f6684",
   "metadata": {},
   "source": [
    "## Creating a function"
   ]
  },
  {
   "cell_type": "code",
   "execution_count": 19,
   "id": "920f182c-6b1d-4471-a44a-9d7dc98d5664",
   "metadata": {
    "tags": []
   },
   "outputs": [],
   "source": [
    "#cancer = pd.read_csv('Ignore/Cancer.csv')\n",
    "#cancer.shape"
   ]
  },
  {
   "cell_type": "code",
   "execution_count": 20,
   "id": "42e33312-ceb0-46dc-b1f0-fcd5c5ca61b5",
   "metadata": {
    "tags": []
   },
   "outputs": [],
   "source": [
    "#cancer['Question'].value_counts()"
   ]
  },
  {
   "cell_type": "code",
   "execution_count": 21,
   "id": "8bfa63d6-0a92-4372-a8de-d42822e549da",
   "metadata": {
    "tags": []
   },
   "outputs": [],
   "source": [
    "#cancer['YearStart'].value_counts()"
   ]
  },
  {
   "cell_type": "code",
   "execution_count": 22,
   "id": "0759a1d1-83b3-41c2-b5a4-4d0b0ae13c34",
   "metadata": {},
   "outputs": [],
   "source": [
    "#Reducing Cancer to just total cancer\n",
    "#cancer.Question.value_counts()\n",
    "\n",
    "#cancer = cancer[cancer['Question']== 'Invasive cancer (all sites combined), incidence']\n",
    "\n",
    "#cancer.shape"
   ]
  },
  {
   "cell_type": "code",
   "execution_count": 23,
   "id": "1fb9c7b7-20b1-4886-816a-8a0a261f4b58",
   "metadata": {
    "tags": []
   },
   "outputs": [],
   "source": [
    "#cancer.YearStart.value_counts()"
   ]
  },
  {
   "cell_type": "markdown",
   "id": "ee5a7d42-5c9f-41fc-ad60-fa0ecb1a0a49",
   "metadata": {},
   "source": [
    "*For the question on interest, total cancer rates, we do not have data for 2019 or 2020. The most recent year is 2016 which is too long ago to be used as an accurate estimate of pre-existing cancer rates*"
   ]
  },
  {
   "cell_type": "markdown",
   "id": "5f34ba11-b83a-4f44-901d-fa37f448dd05",
   "metadata": {},
   "source": [
    "## Reading in other csvs "
   ]
  },
  {
   "cell_type": "code",
   "execution_count": 24,
   "id": "19345d41-c344-4b87-a6fd-6d77b51a31f8",
   "metadata": {
    "tags": []
   },
   "outputs": [],
   "source": [
    "heart = pd.read_csv('Ignore/Cardiovascular.csv')"
   ]
  },
  {
   "cell_type": "code",
   "execution_count": 25,
   "id": "79914f82-26a5-4246-a830-89d186e9b8ad",
   "metadata": {},
   "outputs": [
    {
     "name": "stdout",
     "output_type": "stream",
     "text": [
      "(13497, 33)\n",
      "(5220, 33)\n"
     ]
    }
   ],
   "source": [
    "# Splitting cardiac dataset into deaths from cardio diseases and diagnosed prevalence of hypertension\n",
    "cardiac_mortality = heart[heart['Question'] == 'Mortality from total cardiovascular diseases']\n",
    "print(cardiac_mortality.shape)\n",
    "\n",
    "high_blood_pressure = heart[heart['Question']== 'Awareness of high blood pressure among adults aged >= 18 years']\n",
    "print(high_blood_pressure.shape)"
   ]
  },
  {
   "cell_type": "code",
   "execution_count": 26,
   "id": "15e8e20e-fd33-4770-9d96-2342056a62fd",
   "metadata": {
    "tags": []
   },
   "outputs": [
    {
     "data": {
      "text/plain": [
       "(152874, 33)"
      ]
     },
     "execution_count": 26,
     "metadata": {},
     "output_type": "execute_result"
    }
   ],
   "source": [
    "copd = pd.read_csv('Ignore/COPD.csv')\n",
    "copd.shape"
   ]
  },
  {
   "cell_type": "code",
   "execution_count": 27,
   "id": "b38bbd7d-af75-43d9-9547-4f124a336afa",
   "metadata": {},
   "outputs": [
    {
     "data": {
      "text/plain": [
       "(9570, 33)"
      ]
     },
     "execution_count": 27,
     "metadata": {},
     "output_type": "execute_result"
    }
   ],
   "source": [
    "copd.Question.value_counts()\n",
    "\n",
    "copd = copd[copd['Question']== 'Prevalence of chronic obstructive pulmonary disease among adults >= 18']\n",
    "\n",
    "copd.shape"
   ]
  },
  {
   "cell_type": "code",
   "execution_count": 28,
   "id": "115f2a02-47bc-4ad7-81a3-059da9f17828",
   "metadata": {
    "tags": []
   },
   "outputs": [
    {
     "data": {
      "text/plain": [
       "(156808, 33)"
      ]
     },
     "execution_count": 28,
     "metadata": {},
     "output_type": "execute_result"
    }
   ],
   "source": [
    "diabetes = pd.read_csv('Ignore/Diabetes.csv')\n",
    "diabetes.shape"
   ]
  },
  {
   "cell_type": "code",
   "execution_count": 29,
   "id": "f162317f-8a4c-451a-b209-b7f818c8b2b4",
   "metadata": {},
   "outputs": [
    {
     "data": {
      "text/plain": [
       "(9570, 33)"
      ]
     },
     "execution_count": 29,
     "metadata": {},
     "output_type": "execute_result"
    }
   ],
   "source": [
    "diabetes['Question'].value_counts()\n",
    "\n",
    "diabetes = diabetes[diabetes['Question']== 'Prevalence of diagnosed diabetes among adults aged >= 18 years']\n",
    "\n",
    "diabetes.shape"
   ]
  },
  {
   "cell_type": "code",
   "execution_count": 30,
   "id": "72e3e500-568a-4960-9843-ba620096ea53",
   "metadata": {
    "tags": []
   },
   "outputs": [],
   "source": [
    "immun = pd.read_csv('Ignore/Immunization.csv')"
   ]
  },
  {
   "cell_type": "code",
   "execution_count": 31,
   "id": "df6692c4-941c-457b-b943-03c62ade9219",
   "metadata": {
    "tags": []
   },
   "outputs": [],
   "source": [
    "kidney = pd.read_csv('Ignore/Kidney.csv')"
   ]
  },
  {
   "cell_type": "code",
   "execution_count": 32,
   "id": "f2974e58-d014-4bac-b391-3134effee369",
   "metadata": {},
   "outputs": [
    {
     "data": {
      "text/plain": [
       "(9570, 33)"
      ]
     },
     "execution_count": 32,
     "metadata": {},
     "output_type": "execute_result"
    }
   ],
   "source": [
    "kidney['Question'].value_counts()\n",
    "\n",
    "kidney = kidney[kidney['Question']== 'Prevalence of chronic kidney disease among adults aged >= 18 years']\n",
    "\n",
    "kidney.shape"
   ]
  },
  {
   "cell_type": "markdown",
   "id": "b8ce5e8a-438f-47e0-98d4-c00a5e683bdb",
   "metadata": {},
   "source": [
    "## Defining cleaning function:\n",
    "Following the steps used on the asthma csv as each dataset is structured the same"
   ]
  },
  {
   "cell_type": "code",
   "execution_count": 33,
   "id": "d3f69c90-24f2-4d23-b03d-f7ab91c9d9ca",
   "metadata": {
    "tags": []
   },
   "outputs": [],
   "source": [
    "def cleaning(df):\n",
    "    print(df.shape)\n",
    "    df = df[df['YearStart'] == 2019]\n",
    "    print(df.shape)\n",
    "    df = df[['YearStart', 'LocationAbbr', 'LocationDesc', 'Question', 'DataValue', 'Stratification1', 'DataValueType']]\n",
    "    print(df.shape)\n",
    "    df = df[df['Stratification1'] == 'Overall']\n",
    "    return df  \n",
    "               "
   ]
  },
  {
   "cell_type": "code",
   "execution_count": 34,
   "id": "78ad6ad0-13fb-4fbe-9418-232a38b14d5a",
   "metadata": {
    "tags": []
   },
   "outputs": [],
   "source": [
    "#cancer = cancer[cancer['YearStart'] >= 2016]\n",
    "#cancer = cancer[['YearStart', 'LocationAbbr', 'LocationDesc', 'Question', 'DataValue', 'Stratification1']]                 "
   ]
  },
  {
   "cell_type": "code",
   "execution_count": 35,
   "id": "7beae3f0-c525-426b-a442-4dfb02e8a3da",
   "metadata": {
    "tags": []
   },
   "outputs": [
    {
     "name": "stdout",
     "output_type": "stream",
     "text": [
      "(13497, 33)\n",
      "(1227, 33)\n",
      "(1227, 7)\n"
     ]
    }
   ],
   "source": [
    "cardiac_mortality = cleaning(cardiac_mortality)"
   ]
  },
  {
   "cell_type": "code",
   "execution_count": 36,
   "id": "f5ab94de-0ad1-494e-863a-dda6db6de711",
   "metadata": {},
   "outputs": [
    {
     "name": "stdout",
     "output_type": "stream",
     "text": [
      "(5220, 33)\n",
      "(870, 33)\n",
      "(870, 7)\n"
     ]
    }
   ],
   "source": [
    "high_blood_pressure = cleaning(high_blood_pressure)"
   ]
  },
  {
   "cell_type": "code",
   "execution_count": 37,
   "id": "00eaa724-36d9-4721-bc69-da552da36c9a",
   "metadata": {
    "tags": []
   },
   "outputs": [
    {
     "name": "stdout",
     "output_type": "stream",
     "text": [
      "(9570, 33)\n",
      "(870, 33)\n",
      "(870, 7)\n"
     ]
    }
   ],
   "source": [
    "copd = cleaning(copd)"
   ]
  },
  {
   "cell_type": "code",
   "execution_count": 38,
   "id": "f07d6768-e457-42a8-89ad-8140bf724aea",
   "metadata": {
    "tags": []
   },
   "outputs": [
    {
     "name": "stdout",
     "output_type": "stream",
     "text": [
      "(9570, 33)\n",
      "(870, 33)\n",
      "(870, 7)\n"
     ]
    }
   ],
   "source": [
    "diabetes = cleaning(diabetes)"
   ]
  },
  {
   "cell_type": "code",
   "execution_count": 39,
   "id": "910617b0-62e3-4ed2-9d1f-ebec0e42f43d",
   "metadata": {
    "tags": []
   },
   "outputs": [
    {
     "name": "stdout",
     "output_type": "stream",
     "text": [
      "(9570, 33)\n",
      "(870, 33)\n",
      "(870, 7)\n"
     ]
    }
   ],
   "source": [
    "immun = cleaning(immun)"
   ]
  },
  {
   "cell_type": "code",
   "execution_count": 40,
   "id": "00df9474-23a0-4dc3-b644-006cbef9f9b8",
   "metadata": {
    "tags": []
   },
   "outputs": [
    {
     "name": "stdout",
     "output_type": "stream",
     "text": [
      "(9570, 33)\n",
      "(870, 33)\n",
      "(870, 7)\n"
     ]
    }
   ],
   "source": [
    "kidney = cleaning(kidney)"
   ]
  },
  {
   "cell_type": "code",
   "execution_count": 41,
   "id": "d0ce4a8a-7db2-4195-8002-a776456fcdff",
   "metadata": {
    "tags": []
   },
   "outputs": [],
   "source": [
    "# I now have 7 dataframes. Some of these need to be filtered by question\n",
    "# asthma, cancer, heart, copd, diabetes, immun, kidney\n",
    "# I have the overall rates as well as rates by gender & race"
   ]
  },
  {
   "cell_type": "code",
   "execution_count": 42,
   "id": "cf929237-b284-44e3-a212-4c0b6ddff828",
   "metadata": {
    "tags": []
   },
   "outputs": [
    {
     "name": "stdout",
     "output_type": "stream",
     "text": [
      "(110, 7)\n",
      "(156, 7)\n",
      "(110, 7)\n",
      "(110, 7)\n",
      "(110, 7)\n",
      "(110, 7)\n",
      "(110, 7)\n"
     ]
    }
   ],
   "source": [
    "#Examining the size of each dataset to ensure cleaning function worked\n",
    "\n",
    "print(asthma.shape)\n",
    "#print(cancer.shape)\n",
    "print(cardiac_mortality.shape)\n",
    "print(high_blood_pressure.shape)\n",
    "print(copd.shape)\n",
    "print(diabetes.shape)\n",
    "print(immun.shape)\n",
    "print(kidney.shape)"
   ]
  },
  {
   "cell_type": "code",
   "execution_count": 43,
   "id": "0bef2056-ef20-4a32-bbe9-e650a41564a9",
   "metadata": {
    "tags": []
   },
   "outputs": [],
   "source": [
    "# Cardiac_mortality is larger: ensuring there are no duplicate values\n",
    "cardiac_mortality.drop_duplicates(inplace=True)"
   ]
  },
  {
   "cell_type": "code",
   "execution_count": 44,
   "id": "93a59380-020b-4585-b2f3-c3032af57ad9",
   "metadata": {
    "tags": []
   },
   "outputs": [
    {
     "data": {
      "text/plain": [
       "(156, 7)"
      ]
     },
     "execution_count": 44,
     "metadata": {},
     "output_type": "execute_result"
    }
   ],
   "source": [
    "cardiac_mortality.shape"
   ]
  },
  {
   "cell_type": "code",
   "execution_count": 45,
   "id": "7e3177be-91c2-4d35-989a-62a45d6c4a3c",
   "metadata": {
    "tags": []
   },
   "outputs": [
    {
     "data": {
      "text/html": [
       "<div>\n",
       "<style scoped>\n",
       "    .dataframe tbody tr th:only-of-type {\n",
       "        vertical-align: middle;\n",
       "    }\n",
       "\n",
       "    .dataframe tbody tr th {\n",
       "        vertical-align: top;\n",
       "    }\n",
       "\n",
       "    .dataframe thead th {\n",
       "        text-align: right;\n",
       "    }\n",
       "</style>\n",
       "<table border=\"1\" class=\"dataframe\">\n",
       "  <thead>\n",
       "    <tr style=\"text-align: right;\">\n",
       "      <th></th>\n",
       "      <th>YearStart</th>\n",
       "      <th>LocationAbbr</th>\n",
       "      <th>LocationDesc</th>\n",
       "      <th>Question</th>\n",
       "      <th>DataValue</th>\n",
       "      <th>Stratification1</th>\n",
       "      <th>DataValueType</th>\n",
       "    </tr>\n",
       "  </thead>\n",
       "  <tbody>\n",
       "    <tr>\n",
       "      <th>29319</th>\n",
       "      <td>2019</td>\n",
       "      <td>AK</td>\n",
       "      <td>Alaska</td>\n",
       "      <td>Current asthma prevalence among adults aged &gt;=...</td>\n",
       "      <td>9.7</td>\n",
       "      <td>Overall</td>\n",
       "      <td>Age-adjusted Prevalence</td>\n",
       "    </tr>\n",
       "    <tr>\n",
       "      <th>29673</th>\n",
       "      <td>2019</td>\n",
       "      <td>AK</td>\n",
       "      <td>Alaska</td>\n",
       "      <td>Current asthma prevalence among adults aged &gt;=...</td>\n",
       "      <td>9.9</td>\n",
       "      <td>Overall</td>\n",
       "      <td>Crude Prevalence</td>\n",
       "    </tr>\n",
       "    <tr>\n",
       "      <th>30178</th>\n",
       "      <td>2019</td>\n",
       "      <td>AL</td>\n",
       "      <td>Alabama</td>\n",
       "      <td>Current asthma prevalence among adults aged &gt;=...</td>\n",
       "      <td>9.4</td>\n",
       "      <td>Overall</td>\n",
       "      <td>Age-adjusted Prevalence</td>\n",
       "    </tr>\n",
       "    <tr>\n",
       "      <th>30473</th>\n",
       "      <td>2019</td>\n",
       "      <td>AL</td>\n",
       "      <td>Alabama</td>\n",
       "      <td>Current asthma prevalence among adults aged &gt;=...</td>\n",
       "      <td>9.5</td>\n",
       "      <td>Overall</td>\n",
       "      <td>Crude Prevalence</td>\n",
       "    </tr>\n",
       "    <tr>\n",
       "      <th>31698</th>\n",
       "      <td>2019</td>\n",
       "      <td>AR</td>\n",
       "      <td>Arkansas</td>\n",
       "      <td>Current asthma prevalence among adults aged &gt;=...</td>\n",
       "      <td>9.3</td>\n",
       "      <td>Overall</td>\n",
       "      <td>Age-adjusted Prevalence</td>\n",
       "    </tr>\n",
       "  </tbody>\n",
       "</table>\n",
       "</div>"
      ],
      "text/plain": [
       "       YearStart LocationAbbr LocationDesc  \\\n",
       "29319       2019           AK       Alaska   \n",
       "29673       2019           AK       Alaska   \n",
       "30178       2019           AL      Alabama   \n",
       "30473       2019           AL      Alabama   \n",
       "31698       2019           AR     Arkansas   \n",
       "\n",
       "                                                Question  DataValue  \\\n",
       "29319  Current asthma prevalence among adults aged >=...        9.7   \n",
       "29673  Current asthma prevalence among adults aged >=...        9.9   \n",
       "30178  Current asthma prevalence among adults aged >=...        9.4   \n",
       "30473  Current asthma prevalence among adults aged >=...        9.5   \n",
       "31698  Current asthma prevalence among adults aged >=...        9.3   \n",
       "\n",
       "      Stratification1            DataValueType  \n",
       "29319         Overall  Age-adjusted Prevalence  \n",
       "29673         Overall         Crude Prevalence  \n",
       "30178         Overall  Age-adjusted Prevalence  \n",
       "30473         Overall         Crude Prevalence  \n",
       "31698         Overall  Age-adjusted Prevalence  "
      ]
     },
     "execution_count": 45,
     "metadata": {},
     "output_type": "execute_result"
    }
   ],
   "source": [
    "asthma.head()"
   ]
  },
  {
   "cell_type": "code",
   "execution_count": 46,
   "id": "0944215d-3742-4283-b8f3-d5e3f75a6a74",
   "metadata": {},
   "outputs": [
    {
     "data": {
      "text/plain": [
       "Overall    110\n",
       "Name: Stratification1, dtype: int64"
      ]
     },
     "execution_count": 46,
     "metadata": {},
     "output_type": "execute_result"
    }
   ],
   "source": [
    "asthma['Stratification1'].value_counts()"
   ]
  },
  {
   "cell_type": "code",
   "execution_count": 47,
   "id": "3015b3a8-d036-4cdd-9912-96a0dd36158a",
   "metadata": {
    "tags": []
   },
   "outputs": [
    {
     "data": {
      "text/plain": [
       "Age-adjusted Prevalence    55\n",
       "Crude Prevalence           55\n",
       "Name: DataValueType, dtype: int64"
      ]
     },
     "execution_count": 47,
     "metadata": {},
     "output_type": "execute_result"
    }
   ],
   "source": [
    "asthma.DataValueType.value_counts()"
   ]
  },
  {
   "cell_type": "code",
   "execution_count": 48,
   "id": "89f1c7ff-8c6c-42c1-91fa-fb5f23143b41",
   "metadata": {
    "tags": []
   },
   "outputs": [
    {
     "data": {
      "text/plain": [
       "Age-adjusted Prevalence    55\n",
       "Crude Prevalence           55\n",
       "Name: DataValueType, dtype: int64"
      ]
     },
     "execution_count": 48,
     "metadata": {},
     "output_type": "execute_result"
    }
   ],
   "source": [
    "copd.DataValueType.value_counts()"
   ]
  },
  {
   "cell_type": "code",
   "execution_count": 49,
   "id": "d0fe4f33-e063-4d18-a902-ce8978df5485",
   "metadata": {
    "tags": []
   },
   "outputs": [
    {
     "data": {
      "text/plain": [
       "Number               52\n",
       "Crude Rate           52\n",
       "Age-adjusted Rate    52\n",
       "Name: DataValueType, dtype: int64"
      ]
     },
     "execution_count": 49,
     "metadata": {},
     "output_type": "execute_result"
    }
   ],
   "source": [
    "cardiac_mortality.DataValueType.value_counts()"
   ]
  },
  {
   "cell_type": "code",
   "execution_count": 50,
   "id": "c3516f57-08d0-40f7-b1a3-7aafb7a70257",
   "metadata": {
    "tags": []
   },
   "outputs": [
    {
     "data": {
      "text/html": [
       "<div>\n",
       "<style scoped>\n",
       "    .dataframe tbody tr th:only-of-type {\n",
       "        vertical-align: middle;\n",
       "    }\n",
       "\n",
       "    .dataframe tbody tr th {\n",
       "        vertical-align: top;\n",
       "    }\n",
       "\n",
       "    .dataframe thead th {\n",
       "        text-align: right;\n",
       "    }\n",
       "</style>\n",
       "<table border=\"1\" class=\"dataframe\">\n",
       "  <thead>\n",
       "    <tr style=\"text-align: right;\">\n",
       "      <th></th>\n",
       "      <th>YearStart</th>\n",
       "      <th>LocationAbbr</th>\n",
       "      <th>LocationDesc</th>\n",
       "      <th>Question</th>\n",
       "      <th>DataValue</th>\n",
       "      <th>Stratification1</th>\n",
       "      <th>DataValueType</th>\n",
       "    </tr>\n",
       "  </thead>\n",
       "  <tbody>\n",
       "    <tr>\n",
       "      <th>97076</th>\n",
       "      <td>2019</td>\n",
       "      <td>AK</td>\n",
       "      <td>Alaska</td>\n",
       "      <td>Awareness of high blood pressure among adults ...</td>\n",
       "      <td>32.8</td>\n",
       "      <td>Overall</td>\n",
       "      <td>Age-adjusted Prevalence</td>\n",
       "    </tr>\n",
       "    <tr>\n",
       "      <th>98160</th>\n",
       "      <td>2019</td>\n",
       "      <td>AK</td>\n",
       "      <td>Alaska</td>\n",
       "      <td>Awareness of high blood pressure among adults ...</td>\n",
       "      <td>32.8</td>\n",
       "      <td>Overall</td>\n",
       "      <td>Crude Prevalence</td>\n",
       "    </tr>\n",
       "    <tr>\n",
       "      <th>98274</th>\n",
       "      <td>2019</td>\n",
       "      <td>AL</td>\n",
       "      <td>Alabama</td>\n",
       "      <td>Awareness of high blood pressure among adults ...</td>\n",
       "      <td>42.5</td>\n",
       "      <td>Overall</td>\n",
       "      <td>Crude Prevalence</td>\n",
       "    </tr>\n",
       "    <tr>\n",
       "      <th>98432</th>\n",
       "      <td>2019</td>\n",
       "      <td>AL</td>\n",
       "      <td>Alabama</td>\n",
       "      <td>Awareness of high blood pressure among adults ...</td>\n",
       "      <td>39.4</td>\n",
       "      <td>Overall</td>\n",
       "      <td>Age-adjusted Prevalence</td>\n",
       "    </tr>\n",
       "    <tr>\n",
       "      <th>99507</th>\n",
       "      <td>2019</td>\n",
       "      <td>AR</td>\n",
       "      <td>Arkansas</td>\n",
       "      <td>Awareness of high blood pressure among adults ...</td>\n",
       "      <td>38.2</td>\n",
       "      <td>Overall</td>\n",
       "      <td>Age-adjusted Prevalence</td>\n",
       "    </tr>\n",
       "  </tbody>\n",
       "</table>\n",
       "</div>"
      ],
      "text/plain": [
       "       YearStart LocationAbbr LocationDesc  \\\n",
       "97076       2019           AK       Alaska   \n",
       "98160       2019           AK       Alaska   \n",
       "98274       2019           AL      Alabama   \n",
       "98432       2019           AL      Alabama   \n",
       "99507       2019           AR     Arkansas   \n",
       "\n",
       "                                                Question  DataValue  \\\n",
       "97076  Awareness of high blood pressure among adults ...       32.8   \n",
       "98160  Awareness of high blood pressure among adults ...       32.8   \n",
       "98274  Awareness of high blood pressure among adults ...       42.5   \n",
       "98432  Awareness of high blood pressure among adults ...       39.4   \n",
       "99507  Awareness of high blood pressure among adults ...       38.2   \n",
       "\n",
       "      Stratification1            DataValueType  \n",
       "97076         Overall  Age-adjusted Prevalence  \n",
       "98160         Overall         Crude Prevalence  \n",
       "98274         Overall         Crude Prevalence  \n",
       "98432         Overall  Age-adjusted Prevalence  \n",
       "99507         Overall  Age-adjusted Prevalence  "
      ]
     },
     "execution_count": 50,
     "metadata": {},
     "output_type": "execute_result"
    }
   ],
   "source": [
    "high_blood_pressure.head()"
   ]
  },
  {
   "cell_type": "code",
   "execution_count": 51,
   "id": "e795324c-f152-4cb1-a1c1-1cfb41968844",
   "metadata": {
    "tags": []
   },
   "outputs": [
    {
     "data": {
      "text/html": [
       "<div>\n",
       "<style scoped>\n",
       "    .dataframe tbody tr th:only-of-type {\n",
       "        vertical-align: middle;\n",
       "    }\n",
       "\n",
       "    .dataframe tbody tr th {\n",
       "        vertical-align: top;\n",
       "    }\n",
       "\n",
       "    .dataframe thead th {\n",
       "        text-align: right;\n",
       "    }\n",
       "</style>\n",
       "<table border=\"1\" class=\"dataframe\">\n",
       "  <thead>\n",
       "    <tr style=\"text-align: right;\">\n",
       "      <th></th>\n",
       "      <th>YearStart</th>\n",
       "      <th>LocationAbbr</th>\n",
       "      <th>LocationDesc</th>\n",
       "      <th>Question</th>\n",
       "      <th>DataValue</th>\n",
       "      <th>Stratification1</th>\n",
       "      <th>DataValueType</th>\n",
       "    </tr>\n",
       "  </thead>\n",
       "  <tbody>\n",
       "    <tr>\n",
       "      <th>223</th>\n",
       "      <td>2019</td>\n",
       "      <td>RI</td>\n",
       "      <td>Rhode Island</td>\n",
       "      <td>Mortality from total cardiovascular diseases</td>\n",
       "      <td>3043.0</td>\n",
       "      <td>Overall</td>\n",
       "      <td>Number</td>\n",
       "    </tr>\n",
       "    <tr>\n",
       "      <th>1148</th>\n",
       "      <td>2019</td>\n",
       "      <td>MN</td>\n",
       "      <td>Minnesota</td>\n",
       "      <td>Mortality from total cardiovascular diseases</td>\n",
       "      <td>212.3</td>\n",
       "      <td>Overall</td>\n",
       "      <td>Crude Rate</td>\n",
       "    </tr>\n",
       "    <tr>\n",
       "      <th>1400</th>\n",
       "      <td>2019</td>\n",
       "      <td>MD</td>\n",
       "      <td>Maryland</td>\n",
       "      <td>Mortality from total cardiovascular diseases</td>\n",
       "      <td>16036.0</td>\n",
       "      <td>Overall</td>\n",
       "      <td>Number</td>\n",
       "    </tr>\n",
       "    <tr>\n",
       "      <th>1656</th>\n",
       "      <td>2019</td>\n",
       "      <td>AK</td>\n",
       "      <td>Alaska</td>\n",
       "      <td>Mortality from total cardiovascular diseases</td>\n",
       "      <td>156.2</td>\n",
       "      <td>Overall</td>\n",
       "      <td>Crude Rate</td>\n",
       "    </tr>\n",
       "    <tr>\n",
       "      <th>1682</th>\n",
       "      <td>2019</td>\n",
       "      <td>DE</td>\n",
       "      <td>Delaware</td>\n",
       "      <td>Mortality from total cardiovascular diseases</td>\n",
       "      <td>214.3</td>\n",
       "      <td>Overall</td>\n",
       "      <td>Age-adjusted Rate</td>\n",
       "    </tr>\n",
       "  </tbody>\n",
       "</table>\n",
       "</div>"
      ],
      "text/plain": [
       "      YearStart LocationAbbr  LocationDesc  \\\n",
       "223        2019           RI  Rhode Island   \n",
       "1148       2019           MN     Minnesota   \n",
       "1400       2019           MD      Maryland   \n",
       "1656       2019           AK        Alaska   \n",
       "1682       2019           DE      Delaware   \n",
       "\n",
       "                                          Question  DataValue Stratification1  \\\n",
       "223   Mortality from total cardiovascular diseases     3043.0         Overall   \n",
       "1148  Mortality from total cardiovascular diseases      212.3         Overall   \n",
       "1400  Mortality from total cardiovascular diseases    16036.0         Overall   \n",
       "1656  Mortality from total cardiovascular diseases      156.2         Overall   \n",
       "1682  Mortality from total cardiovascular diseases      214.3         Overall   \n",
       "\n",
       "          DataValueType  \n",
       "223              Number  \n",
       "1148         Crude Rate  \n",
       "1400             Number  \n",
       "1656         Crude Rate  \n",
       "1682  Age-adjusted Rate  "
      ]
     },
     "execution_count": 51,
     "metadata": {},
     "output_type": "execute_result"
    }
   ],
   "source": [
    "cardiac_mortality.head()"
   ]
  },
  {
   "cell_type": "code",
   "execution_count": 52,
   "id": "4bf349c3-9eac-41ed-88c7-85d1721b2606",
   "metadata": {
    "tags": []
   },
   "outputs": [],
   "source": [
    "def adj(df):\n",
    "    adj_df = df[df['DataValueType'] == 'Age-adjusted Prevalence'].copy()\n",
    "    adj_df.drop(columns=['LocationAbbr', 'DataValueType', 'Stratification1'], inplace=True)\n",
    "    return adj_df\n",
    "\n",
    "def crude(df):\n",
    "    crude_df = df[df['DataValueType'] == 'Prevalence'].copy()\n",
    "    crude_df.drop(columns=['LocationAbbr', 'DataValueType', 'Stratification1'], inplace=True)\n",
    "    return crude_df\n",
    "\n",
    "# Cardiac mortality is 'Age-adjusted Rate' and 'Crude Rate' not 'Prevalence'- fix this in final code"
   ]
  },
  {
   "cell_type": "code",
   "execution_count": 53,
   "id": "5611c955-f94b-4169-95fd-8bcbf936525d",
   "metadata": {
    "tags": []
   },
   "outputs": [],
   "source": [
    "#adj_asthma = adj(asthma)\n",
    "#crude_asthma = crude(asthma)\n",
    "\n",
    "#adj_asthma.to_csv('Data/asthma_adj.csv')\n",
    "#crude_asthma.to_csv('Data/asthma_crude.csv')"
   ]
  },
  {
   "cell_type": "code",
   "execution_count": 54,
   "id": "8b74f322-9ecd-4bb8-a846-d849d1be2c95",
   "metadata": {
    "tags": []
   },
   "outputs": [],
   "source": [
    "#Don't keep re-running this cell\n",
    "def process_dataframes(dataframe_list):\n",
    "    results = {} \n",
    "    for name, df in dataframe_list.items():\n",
    "        adj_result = adj(df)\n",
    "        crude_result = crude(df)\n",
    "        results[name] = {'adj': adj_result, 'crude': crude_result}\n",
    "    return results\n",
    "\n",
    "# Create a list of DataFrames \n",
    "dataframe_list = {\n",
    "    'copd': copd,\n",
    "    'asthma': asthma,\n",
    "    'high_blood_pressure': high_blood_pressure,\n",
    "    'diabetes': diabetes,\n",
    "    'immun': immun,\n",
    "    'kidney': kidney\n",
    "}\n",
    "# Process the list of DataFrames\n",
    "results = process_dataframes(dataframe_list)\n",
    "\n",
    "# Save the results to CSV\n",
    "for name, result in results.items():\n",
    "    result['adj'].to_csv(f'Data/Raw/{name}_adj.csv', index = False)\n",
    "    result['crude'].to_csv(f'Data/Raw/{name}_crude.csv', index = False)"
   ]
  },
  {
   "cell_type": "code",
   "execution_count": 55,
   "id": "bdbd7387-9e6f-4e98-9e3a-d3d5f6a3ca98",
   "metadata": {
    "tags": []
   },
   "outputs": [],
   "source": [
    "cardiac_mortality = cardiac_mortality[cardiac_mortality['DataValueType'] == 'Age-adjusted Rate']\n",
    "cardiac_mortality.drop(columns=['LocationAbbr', 'DataValueType', 'Stratification1'], inplace=True)\n",
    "cardiac_mortality.to_csv('Data/Raw/cardiac_mortality_adj.csv', index = False)"
   ]
  },
  {
   "cell_type": "markdown",
   "id": "3e356dda-f5af-4ccf-9ac2-ab32ff75569e",
   "metadata": {},
   "source": [
    "# Data Cleaning"
   ]
  },
  {
   "cell_type": "markdown",
   "id": "34ed690f-2a96-4751-b395-32849586d51f",
   "metadata": {},
   "source": [
    "### Data Cleaning Goals:\n",
    "\n",
    "1. Identify any issues with each dataframe\n",
    "2. If any missing values- fill with an appropriate placeholder/ check documentation\n",
    "3. Rename variables appropriately\n",
    "    - Location\n",
    "    - variable of interest\n",
    "4. Drop uneccesary columns\n",
    "    - year\n",
    "    - variable descriptions\n",
    "    - demographics (initially)\n",
    "    - abbreviations\n",
    "5. Drop unecessary rows\n",
    "    - Keep 50 states\n",
    "    - keep total us\n",
    "    - Maybe keep PR or DC if present in all datasets\n",
    "5. Calculate any necessary values-> convert total numbers to rates per population\n",
    "6. Check datatypes\n",
    "7. Date/ Time variables?\n",
    "8. Reformat dataframes if necessary\n",
    "9. Concatenate/ merge as necessary"
   ]
  },
  {
   "cell_type": "markdown",
   "id": "6e689618-3c4c-4970-a00f-4d6bc6133156",
   "metadata": {
    "tags": []
   },
   "source": [
    "#### For 2 insurance datasets: \n",
    "- add year as prefix/ suffix to each column \n",
    "- drop year column"
   ]
  },
  {
   "cell_type": "code",
   "execution_count": 56,
   "id": "efd3451c-61af-49f5-88d4-a5cfeb86de30",
   "metadata": {
    "tags": []
   },
   "outputs": [],
   "source": [
    "insur_2019 = pd.read_csv('Data/Raw/2019_insurance.csv')"
   ]
  },
  {
   "cell_type": "code",
   "execution_count": 57,
   "id": "ea0b36f9-5b4b-42bb-96ea-46c01764629e",
   "metadata": {
    "tags": []
   },
   "outputs": [
    {
     "data": {
      "text/html": [
       "<div>\n",
       "<style scoped>\n",
       "    .dataframe tbody tr th:only-of-type {\n",
       "        vertical-align: middle;\n",
       "    }\n",
       "\n",
       "    .dataframe tbody tr th {\n",
       "        vertical-align: top;\n",
       "    }\n",
       "\n",
       "    .dataframe thead th {\n",
       "        text-align: right;\n",
       "    }\n",
       "</style>\n",
       "<table border=\"1\" class=\"dataframe\">\n",
       "  <thead>\n",
       "    <tr style=\"text-align: right;\">\n",
       "      <th></th>\n",
       "      <th>Location</th>\n",
       "      <th>Employer</th>\n",
       "      <th>Non-Group</th>\n",
       "      <th>Medicaid</th>\n",
       "      <th>Medicare</th>\n",
       "      <th>Military</th>\n",
       "      <th>Uninsured</th>\n",
       "      <th>Year</th>\n",
       "    </tr>\n",
       "  </thead>\n",
       "  <tbody>\n",
       "    <tr>\n",
       "      <th>0</th>\n",
       "      <td>United States</td>\n",
       "      <td>0.496</td>\n",
       "      <td>0.059</td>\n",
       "      <td>0.198</td>\n",
       "      <td>0.142</td>\n",
       "      <td>0.014</td>\n",
       "      <td>0.092</td>\n",
       "      <td>2019</td>\n",
       "    </tr>\n",
       "    <tr>\n",
       "      <th>1</th>\n",
       "      <td>Alabama</td>\n",
       "      <td>0.472</td>\n",
       "      <td>0.055</td>\n",
       "      <td>0.195</td>\n",
       "      <td>0.160</td>\n",
       "      <td>0.021</td>\n",
       "      <td>0.097</td>\n",
       "      <td>2019</td>\n",
       "    </tr>\n",
       "    <tr>\n",
       "      <th>2</th>\n",
       "      <td>Alaska</td>\n",
       "      <td>0.484</td>\n",
       "      <td>0.035</td>\n",
       "      <td>0.213</td>\n",
       "      <td>0.100</td>\n",
       "      <td>0.053</td>\n",
       "      <td>0.115</td>\n",
       "      <td>2019</td>\n",
       "    </tr>\n",
       "    <tr>\n",
       "      <th>3</th>\n",
       "      <td>Arizona</td>\n",
       "      <td>0.451</td>\n",
       "      <td>0.052</td>\n",
       "      <td>0.210</td>\n",
       "      <td>0.161</td>\n",
       "      <td>0.015</td>\n",
       "      <td>0.111</td>\n",
       "      <td>2019</td>\n",
       "    </tr>\n",
       "    <tr>\n",
       "      <th>4</th>\n",
       "      <td>Arkansas</td>\n",
       "      <td>0.420</td>\n",
       "      <td>0.054</td>\n",
       "      <td>0.262</td>\n",
       "      <td>0.159</td>\n",
       "      <td>0.014</td>\n",
       "      <td>0.091</td>\n",
       "      <td>2019</td>\n",
       "    </tr>\n",
       "  </tbody>\n",
       "</table>\n",
       "</div>"
      ],
      "text/plain": [
       "        Location  Employer  Non-Group  Medicaid  Medicare  Military  \\\n",
       "0  United States     0.496      0.059     0.198     0.142     0.014   \n",
       "1        Alabama     0.472      0.055     0.195     0.160     0.021   \n",
       "2         Alaska     0.484      0.035     0.213     0.100     0.053   \n",
       "3        Arizona     0.451      0.052     0.210     0.161     0.015   \n",
       "4       Arkansas     0.420      0.054     0.262     0.159     0.014   \n",
       "\n",
       "   Uninsured  Year  \n",
       "0      0.092  2019  \n",
       "1      0.097  2019  \n",
       "2      0.115  2019  \n",
       "3      0.111  2019  \n",
       "4      0.091  2019  "
      ]
     },
     "execution_count": 57,
     "metadata": {},
     "output_type": "execute_result"
    }
   ],
   "source": [
    "insur_2019.head()"
   ]
  },
  {
   "cell_type": "code",
   "execution_count": 58,
   "id": "86e557ab-13ed-46c9-973f-6827d896e243",
   "metadata": {
    "tags": []
   },
   "outputs": [],
   "source": [
    "insur_2021 = pd.read_csv('Data/Raw/2021_insurance.csv')"
   ]
  },
  {
   "cell_type": "code",
   "execution_count": 59,
   "id": "d18b4c2a-b7c8-4581-b6ad-b0b19e21c10b",
   "metadata": {},
   "outputs": [],
   "source": [
    "insur = pd.merge(insur_2019, insur_2021, how ='inner', on ='Location', suffixes=('_2019', '_2021'))"
   ]
  },
  {
   "cell_type": "code",
   "execution_count": 60,
   "id": "68cc1a72-1c23-4bd2-a8c9-525e738a77dd",
   "metadata": {
    "tags": []
   },
   "outputs": [
    {
     "data": {
      "text/html": [
       "<div>\n",
       "<style scoped>\n",
       "    .dataframe tbody tr th:only-of-type {\n",
       "        vertical-align: middle;\n",
       "    }\n",
       "\n",
       "    .dataframe tbody tr th {\n",
       "        vertical-align: top;\n",
       "    }\n",
       "\n",
       "    .dataframe thead th {\n",
       "        text-align: right;\n",
       "    }\n",
       "</style>\n",
       "<table border=\"1\" class=\"dataframe\">\n",
       "  <thead>\n",
       "    <tr style=\"text-align: right;\">\n",
       "      <th></th>\n",
       "      <th>Location</th>\n",
       "      <th>Employer_2019</th>\n",
       "      <th>Non-Group_2019</th>\n",
       "      <th>Medicaid_2019</th>\n",
       "      <th>Medicare_2019</th>\n",
       "      <th>Military_2019</th>\n",
       "      <th>Uninsured_2019</th>\n",
       "      <th>Year_2019</th>\n",
       "      <th>Employer_2021</th>\n",
       "      <th>Non-Group_2021</th>\n",
       "      <th>Medicaid_2021</th>\n",
       "      <th>Medicare_2021</th>\n",
       "      <th>Military_2021</th>\n",
       "      <th>Uninsured_2021</th>\n",
       "      <th>Year_2021</th>\n",
       "    </tr>\n",
       "  </thead>\n",
       "  <tbody>\n",
       "    <tr>\n",
       "      <th>0</th>\n",
       "      <td>United States</td>\n",
       "      <td>0.496</td>\n",
       "      <td>0.059</td>\n",
       "      <td>0.198</td>\n",
       "      <td>0.142</td>\n",
       "      <td>0.014</td>\n",
       "      <td>0.092</td>\n",
       "      <td>2019</td>\n",
       "      <td>0.485</td>\n",
       "      <td>0.061</td>\n",
       "      <td>0.211</td>\n",
       "      <td>0.143</td>\n",
       "      <td>0.013</td>\n",
       "      <td>0.086</td>\n",
       "      <td>2021</td>\n",
       "    </tr>\n",
       "    <tr>\n",
       "      <th>1</th>\n",
       "      <td>Alabama</td>\n",
       "      <td>0.472</td>\n",
       "      <td>0.055</td>\n",
       "      <td>0.195</td>\n",
       "      <td>0.160</td>\n",
       "      <td>0.021</td>\n",
       "      <td>0.097</td>\n",
       "      <td>2019</td>\n",
       "      <td>0.466</td>\n",
       "      <td>0.060</td>\n",
       "      <td>0.192</td>\n",
       "      <td>0.162</td>\n",
       "      <td>0.021</td>\n",
       "      <td>0.100</td>\n",
       "      <td>2021</td>\n",
       "    </tr>\n",
       "    <tr>\n",
       "      <th>2</th>\n",
       "      <td>Alaska</td>\n",
       "      <td>0.484</td>\n",
       "      <td>0.035</td>\n",
       "      <td>0.213</td>\n",
       "      <td>0.100</td>\n",
       "      <td>0.053</td>\n",
       "      <td>0.115</td>\n",
       "      <td>2019</td>\n",
       "      <td>0.433</td>\n",
       "      <td>0.041</td>\n",
       "      <td>0.257</td>\n",
       "      <td>0.107</td>\n",
       "      <td>0.053</td>\n",
       "      <td>0.108</td>\n",
       "      <td>2021</td>\n",
       "    </tr>\n",
       "    <tr>\n",
       "      <th>3</th>\n",
       "      <td>Arizona</td>\n",
       "      <td>0.451</td>\n",
       "      <td>0.052</td>\n",
       "      <td>0.210</td>\n",
       "      <td>0.161</td>\n",
       "      <td>0.015</td>\n",
       "      <td>0.111</td>\n",
       "      <td>2019</td>\n",
       "      <td>0.450</td>\n",
       "      <td>0.054</td>\n",
       "      <td>0.213</td>\n",
       "      <td>0.162</td>\n",
       "      <td>0.015</td>\n",
       "      <td>0.106</td>\n",
       "      <td>2021</td>\n",
       "    </tr>\n",
       "    <tr>\n",
       "      <th>4</th>\n",
       "      <td>Arkansas</td>\n",
       "      <td>0.420</td>\n",
       "      <td>0.054</td>\n",
       "      <td>0.262</td>\n",
       "      <td>0.159</td>\n",
       "      <td>0.014</td>\n",
       "      <td>0.091</td>\n",
       "      <td>2019</td>\n",
       "      <td>0.411</td>\n",
       "      <td>0.056</td>\n",
       "      <td>0.270</td>\n",
       "      <td>0.156</td>\n",
       "      <td>0.015</td>\n",
       "      <td>0.092</td>\n",
       "      <td>2021</td>\n",
       "    </tr>\n",
       "  </tbody>\n",
       "</table>\n",
       "</div>"
      ],
      "text/plain": [
       "        Location  Employer_2019  Non-Group_2019  Medicaid_2019  Medicare_2019  \\\n",
       "0  United States          0.496           0.059          0.198          0.142   \n",
       "1        Alabama          0.472           0.055          0.195          0.160   \n",
       "2         Alaska          0.484           0.035          0.213          0.100   \n",
       "3        Arizona          0.451           0.052          0.210          0.161   \n",
       "4       Arkansas          0.420           0.054          0.262          0.159   \n",
       "\n",
       "   Military_2019  Uninsured_2019  Year_2019  Employer_2021  Non-Group_2021  \\\n",
       "0          0.014           0.092       2019          0.485           0.061   \n",
       "1          0.021           0.097       2019          0.466           0.060   \n",
       "2          0.053           0.115       2019          0.433           0.041   \n",
       "3          0.015           0.111       2019          0.450           0.054   \n",
       "4          0.014           0.091       2019          0.411           0.056   \n",
       "\n",
       "   Medicaid_2021  Medicare_2021  Military_2021  Uninsured_2021  Year_2021  \n",
       "0          0.211          0.143          0.013           0.086       2021  \n",
       "1          0.192          0.162          0.021           0.100       2021  \n",
       "2          0.257          0.107          0.053           0.108       2021  \n",
       "3          0.213          0.162          0.015           0.106       2021  \n",
       "4          0.270          0.156          0.015           0.092       2021  "
      ]
     },
     "execution_count": 60,
     "metadata": {},
     "output_type": "execute_result"
    }
   ],
   "source": [
    "insur.head()"
   ]
  },
  {
   "cell_type": "code",
   "execution_count": 61,
   "id": "6443f969-3bf0-497f-a762-c0730e86ae45",
   "metadata": {
    "tags": []
   },
   "outputs": [],
   "source": [
    "insur.drop(columns =['Year_2019', 'Year_2021'], inplace=True)"
   ]
  },
  {
   "cell_type": "code",
   "execution_count": 62,
   "id": "26c349de-849d-4b7b-ae4c-6102a8279ee3",
   "metadata": {
    "tags": []
   },
   "outputs": [
    {
     "data": {
      "text/html": [
       "<div>\n",
       "<style scoped>\n",
       "    .dataframe tbody tr th:only-of-type {\n",
       "        vertical-align: middle;\n",
       "    }\n",
       "\n",
       "    .dataframe tbody tr th {\n",
       "        vertical-align: top;\n",
       "    }\n",
       "\n",
       "    .dataframe thead th {\n",
       "        text-align: right;\n",
       "    }\n",
       "</style>\n",
       "<table border=\"1\" class=\"dataframe\">\n",
       "  <thead>\n",
       "    <tr style=\"text-align: right;\">\n",
       "      <th></th>\n",
       "      <th>Location</th>\n",
       "      <th>Employer_2019</th>\n",
       "      <th>Non-Group_2019</th>\n",
       "      <th>Medicaid_2019</th>\n",
       "      <th>Medicare_2019</th>\n",
       "      <th>Military_2019</th>\n",
       "      <th>Uninsured_2019</th>\n",
       "      <th>Employer_2021</th>\n",
       "      <th>Non-Group_2021</th>\n",
       "      <th>Medicaid_2021</th>\n",
       "      <th>Medicare_2021</th>\n",
       "      <th>Military_2021</th>\n",
       "      <th>Uninsured_2021</th>\n",
       "    </tr>\n",
       "  </thead>\n",
       "  <tbody>\n",
       "    <tr>\n",
       "      <th>0</th>\n",
       "      <td>United States</td>\n",
       "      <td>0.496</td>\n",
       "      <td>0.059</td>\n",
       "      <td>0.198</td>\n",
       "      <td>0.142</td>\n",
       "      <td>0.014</td>\n",
       "      <td>0.092</td>\n",
       "      <td>0.485</td>\n",
       "      <td>0.061</td>\n",
       "      <td>0.211</td>\n",
       "      <td>0.143</td>\n",
       "      <td>0.013</td>\n",
       "      <td>0.086</td>\n",
       "    </tr>\n",
       "    <tr>\n",
       "      <th>1</th>\n",
       "      <td>Alabama</td>\n",
       "      <td>0.472</td>\n",
       "      <td>0.055</td>\n",
       "      <td>0.195</td>\n",
       "      <td>0.160</td>\n",
       "      <td>0.021</td>\n",
       "      <td>0.097</td>\n",
       "      <td>0.466</td>\n",
       "      <td>0.060</td>\n",
       "      <td>0.192</td>\n",
       "      <td>0.162</td>\n",
       "      <td>0.021</td>\n",
       "      <td>0.100</td>\n",
       "    </tr>\n",
       "    <tr>\n",
       "      <th>2</th>\n",
       "      <td>Alaska</td>\n",
       "      <td>0.484</td>\n",
       "      <td>0.035</td>\n",
       "      <td>0.213</td>\n",
       "      <td>0.100</td>\n",
       "      <td>0.053</td>\n",
       "      <td>0.115</td>\n",
       "      <td>0.433</td>\n",
       "      <td>0.041</td>\n",
       "      <td>0.257</td>\n",
       "      <td>0.107</td>\n",
       "      <td>0.053</td>\n",
       "      <td>0.108</td>\n",
       "    </tr>\n",
       "    <tr>\n",
       "      <th>3</th>\n",
       "      <td>Arizona</td>\n",
       "      <td>0.451</td>\n",
       "      <td>0.052</td>\n",
       "      <td>0.210</td>\n",
       "      <td>0.161</td>\n",
       "      <td>0.015</td>\n",
       "      <td>0.111</td>\n",
       "      <td>0.450</td>\n",
       "      <td>0.054</td>\n",
       "      <td>0.213</td>\n",
       "      <td>0.162</td>\n",
       "      <td>0.015</td>\n",
       "      <td>0.106</td>\n",
       "    </tr>\n",
       "    <tr>\n",
       "      <th>4</th>\n",
       "      <td>Arkansas</td>\n",
       "      <td>0.420</td>\n",
       "      <td>0.054</td>\n",
       "      <td>0.262</td>\n",
       "      <td>0.159</td>\n",
       "      <td>0.014</td>\n",
       "      <td>0.091</td>\n",
       "      <td>0.411</td>\n",
       "      <td>0.056</td>\n",
       "      <td>0.270</td>\n",
       "      <td>0.156</td>\n",
       "      <td>0.015</td>\n",
       "      <td>0.092</td>\n",
       "    </tr>\n",
       "  </tbody>\n",
       "</table>\n",
       "</div>"
      ],
      "text/plain": [
       "        Location  Employer_2019  Non-Group_2019  Medicaid_2019  Medicare_2019  \\\n",
       "0  United States          0.496           0.059          0.198          0.142   \n",
       "1        Alabama          0.472           0.055          0.195          0.160   \n",
       "2         Alaska          0.484           0.035          0.213          0.100   \n",
       "3        Arizona          0.451           0.052          0.210          0.161   \n",
       "4       Arkansas          0.420           0.054          0.262          0.159   \n",
       "\n",
       "   Military_2019  Uninsured_2019  Employer_2021  Non-Group_2021  \\\n",
       "0          0.014           0.092          0.485           0.061   \n",
       "1          0.021           0.097          0.466           0.060   \n",
       "2          0.053           0.115          0.433           0.041   \n",
       "3          0.015           0.111          0.450           0.054   \n",
       "4          0.014           0.091          0.411           0.056   \n",
       "\n",
       "   Medicaid_2021  Medicare_2021  Military_2021  Uninsured_2021  \n",
       "0          0.211          0.143          0.013           0.086  \n",
       "1          0.192          0.162          0.021           0.100  \n",
       "2          0.257          0.107          0.053           0.108  \n",
       "3          0.213          0.162          0.015           0.106  \n",
       "4          0.270          0.156          0.015           0.092  "
      ]
     },
     "execution_count": 62,
     "metadata": {},
     "output_type": "execute_result"
    }
   ],
   "source": [
    "insur.head()"
   ]
  },
  {
   "cell_type": "code",
   "execution_count": 63,
   "id": "fbabe5ba-ec4d-4dd4-b9ee-b4d9dd276a19",
   "metadata": {
    "tags": []
   },
   "outputs": [],
   "source": [
    "insur.to_csv('Data/cleaned_insur.csv', index = False)"
   ]
  },
  {
   "cell_type": "markdown",
   "id": "106987b4-39d1-4938-b448-dabc371f9818",
   "metadata": {},
   "source": [
    "#### For pre-existing conditions & immunizations:\n",
    "1. choose crude or adj\n",
    "2. drop old index\n",
    "3. rename data value to question\n",
    "4. drop year and question columns\n",
    "5. For total number of incident data -> after concatening with population data, convert to rate"
   ]
  },
  {
   "cell_type": "markdown",
   "id": "9724a6fc-8022-4973-bc36-f2efdddc352a",
   "metadata": {},
   "source": [
    "*Crude are the raw numbers. Adj are these numbers adjusted/ standardized based on population's age distribution. We can retain the crude numbers however the age adjusted numbers will probably be better for cross comparison*"
   ]
  },
  {
   "cell_type": "code",
   "execution_count": 64,
   "id": "aef158ef-5f5e-43ac-803b-8eb304e6e1ab",
   "metadata": {},
   "outputs": [],
   "source": [
    "asthma = pd.read_csv('Data/Raw/asthma_adj.csv')"
   ]
  },
  {
   "cell_type": "code",
   "execution_count": 65,
   "id": "126f96d0-3b82-4a34-b142-b92d4b2ebbbb",
   "metadata": {
    "tags": []
   },
   "outputs": [
    {
     "data": {
      "text/html": [
       "<div>\n",
       "<style scoped>\n",
       "    .dataframe tbody tr th:only-of-type {\n",
       "        vertical-align: middle;\n",
       "    }\n",
       "\n",
       "    .dataframe tbody tr th {\n",
       "        vertical-align: top;\n",
       "    }\n",
       "\n",
       "    .dataframe thead th {\n",
       "        text-align: right;\n",
       "    }\n",
       "</style>\n",
       "<table border=\"1\" class=\"dataframe\">\n",
       "  <thead>\n",
       "    <tr style=\"text-align: right;\">\n",
       "      <th></th>\n",
       "      <th>YearStart</th>\n",
       "      <th>LocationDesc</th>\n",
       "      <th>Question</th>\n",
       "      <th>DataValue</th>\n",
       "    </tr>\n",
       "  </thead>\n",
       "  <tbody>\n",
       "    <tr>\n",
       "      <th>0</th>\n",
       "      <td>2019</td>\n",
       "      <td>Alaska</td>\n",
       "      <td>Current asthma prevalence among adults aged &gt;=...</td>\n",
       "      <td>9.7</td>\n",
       "    </tr>\n",
       "    <tr>\n",
       "      <th>1</th>\n",
       "      <td>2019</td>\n",
       "      <td>Alabama</td>\n",
       "      <td>Current asthma prevalence among adults aged &gt;=...</td>\n",
       "      <td>9.4</td>\n",
       "    </tr>\n",
       "    <tr>\n",
       "      <th>2</th>\n",
       "      <td>2019</td>\n",
       "      <td>Arkansas</td>\n",
       "      <td>Current asthma prevalence among adults aged &gt;=...</td>\n",
       "      <td>9.3</td>\n",
       "    </tr>\n",
       "    <tr>\n",
       "      <th>3</th>\n",
       "      <td>2019</td>\n",
       "      <td>Arizona</td>\n",
       "      <td>Current asthma prevalence among adults aged &gt;=...</td>\n",
       "      <td>9.8</td>\n",
       "    </tr>\n",
       "    <tr>\n",
       "      <th>4</th>\n",
       "      <td>2019</td>\n",
       "      <td>California</td>\n",
       "      <td>Current asthma prevalence among adults aged &gt;=...</td>\n",
       "      <td>7.8</td>\n",
       "    </tr>\n",
       "  </tbody>\n",
       "</table>\n",
       "</div>"
      ],
      "text/plain": [
       "   YearStart LocationDesc                                           Question  \\\n",
       "0       2019       Alaska  Current asthma prevalence among adults aged >=...   \n",
       "1       2019      Alabama  Current asthma prevalence among adults aged >=...   \n",
       "2       2019     Arkansas  Current asthma prevalence among adults aged >=...   \n",
       "3       2019      Arizona  Current asthma prevalence among adults aged >=...   \n",
       "4       2019   California  Current asthma prevalence among adults aged >=...   \n",
       "\n",
       "   DataValue  \n",
       "0        9.7  \n",
       "1        9.4  \n",
       "2        9.3  \n",
       "3        9.8  \n",
       "4        7.8  "
      ]
     },
     "execution_count": 65,
     "metadata": {},
     "output_type": "execute_result"
    }
   ],
   "source": [
    "asthma.head()"
   ]
  },
  {
   "cell_type": "code",
   "execution_count": 66,
   "id": "7b9cb7fc-f6fd-4d15-a415-6ded3ddd6531",
   "metadata": {
    "tags": []
   },
   "outputs": [],
   "source": [
    "asthma.rename(columns={\n",
    "    'DataValue':'asthma_prevalence',\n",
    "    'LocationDesc':'Location'}, inplace=True)"
   ]
  },
  {
   "cell_type": "code",
   "execution_count": 67,
   "id": "4030ad17-843e-4b47-b6dc-b186a76c14ec",
   "metadata": {
    "tags": []
   },
   "outputs": [
    {
     "data": {
      "text/html": [
       "<div>\n",
       "<style scoped>\n",
       "    .dataframe tbody tr th:only-of-type {\n",
       "        vertical-align: middle;\n",
       "    }\n",
       "\n",
       "    .dataframe tbody tr th {\n",
       "        vertical-align: top;\n",
       "    }\n",
       "\n",
       "    .dataframe thead th {\n",
       "        text-align: right;\n",
       "    }\n",
       "</style>\n",
       "<table border=\"1\" class=\"dataframe\">\n",
       "  <thead>\n",
       "    <tr style=\"text-align: right;\">\n",
       "      <th></th>\n",
       "      <th>Location</th>\n",
       "      <th>asthma_prevalence</th>\n",
       "    </tr>\n",
       "  </thead>\n",
       "  <tbody>\n",
       "    <tr>\n",
       "      <th>0</th>\n",
       "      <td>Alaska</td>\n",
       "      <td>9.7</td>\n",
       "    </tr>\n",
       "    <tr>\n",
       "      <th>1</th>\n",
       "      <td>Alabama</td>\n",
       "      <td>9.4</td>\n",
       "    </tr>\n",
       "    <tr>\n",
       "      <th>2</th>\n",
       "      <td>Arkansas</td>\n",
       "      <td>9.3</td>\n",
       "    </tr>\n",
       "    <tr>\n",
       "      <th>3</th>\n",
       "      <td>Arizona</td>\n",
       "      <td>9.8</td>\n",
       "    </tr>\n",
       "    <tr>\n",
       "      <th>4</th>\n",
       "      <td>California</td>\n",
       "      <td>7.8</td>\n",
       "    </tr>\n",
       "  </tbody>\n",
       "</table>\n",
       "</div>"
      ],
      "text/plain": [
       "     Location  asthma_prevalence\n",
       "0      Alaska                9.7\n",
       "1     Alabama                9.4\n",
       "2    Arkansas                9.3\n",
       "3     Arizona                9.8\n",
       "4  California                7.8"
      ]
     },
     "execution_count": 67,
     "metadata": {},
     "output_type": "execute_result"
    }
   ],
   "source": [
    "asthma.drop(columns=['YearStart', 'Question'], inplace=True)\n",
    "asthma.head()"
   ]
  },
  {
   "cell_type": "code",
   "execution_count": 68,
   "id": "eda2f5b0-7b17-4b79-a7a1-2dfdd7bf28c3",
   "metadata": {
    "tags": []
   },
   "outputs": [
    {
     "data": {
      "text/html": [
       "<div>\n",
       "<style scoped>\n",
       "    .dataframe tbody tr th:only-of-type {\n",
       "        vertical-align: middle;\n",
       "    }\n",
       "\n",
       "    .dataframe tbody tr th {\n",
       "        vertical-align: top;\n",
       "    }\n",
       "\n",
       "    .dataframe thead th {\n",
       "        text-align: right;\n",
       "    }\n",
       "</style>\n",
       "<table border=\"1\" class=\"dataframe\">\n",
       "  <thead>\n",
       "    <tr style=\"text-align: right;\">\n",
       "      <th></th>\n",
       "      <th>YearStart</th>\n",
       "      <th>LocationDesc</th>\n",
       "      <th>Question</th>\n",
       "      <th>DataValue</th>\n",
       "    </tr>\n",
       "  </thead>\n",
       "  <tbody>\n",
       "    <tr>\n",
       "      <th>0</th>\n",
       "      <td>2019</td>\n",
       "      <td>Alaska</td>\n",
       "      <td>Awareness of high blood pressure among adults ...</td>\n",
       "      <td>32.8</td>\n",
       "    </tr>\n",
       "    <tr>\n",
       "      <th>1</th>\n",
       "      <td>2019</td>\n",
       "      <td>Alabama</td>\n",
       "      <td>Awareness of high blood pressure among adults ...</td>\n",
       "      <td>39.4</td>\n",
       "    </tr>\n",
       "    <tr>\n",
       "      <th>2</th>\n",
       "      <td>2019</td>\n",
       "      <td>Arkansas</td>\n",
       "      <td>Awareness of high blood pressure among adults ...</td>\n",
       "      <td>38.2</td>\n",
       "    </tr>\n",
       "    <tr>\n",
       "      <th>3</th>\n",
       "      <td>2019</td>\n",
       "      <td>Arizona</td>\n",
       "      <td>Awareness of high blood pressure among adults ...</td>\n",
       "      <td>29.9</td>\n",
       "    </tr>\n",
       "    <tr>\n",
       "      <th>4</th>\n",
       "      <td>2019</td>\n",
       "      <td>California</td>\n",
       "      <td>Awareness of high blood pressure among adults ...</td>\n",
       "      <td>26.6</td>\n",
       "    </tr>\n",
       "  </tbody>\n",
       "</table>\n",
       "</div>"
      ],
      "text/plain": [
       "   YearStart LocationDesc                                           Question  \\\n",
       "0       2019       Alaska  Awareness of high blood pressure among adults ...   \n",
       "1       2019      Alabama  Awareness of high blood pressure among adults ...   \n",
       "2       2019     Arkansas  Awareness of high blood pressure among adults ...   \n",
       "3       2019      Arizona  Awareness of high blood pressure among adults ...   \n",
       "4       2019   California  Awareness of high blood pressure among adults ...   \n",
       "\n",
       "   DataValue  \n",
       "0       32.8  \n",
       "1       39.4  \n",
       "2       38.2  \n",
       "3       29.9  \n",
       "4       26.6  "
      ]
     },
     "execution_count": 68,
     "metadata": {},
     "output_type": "execute_result"
    }
   ],
   "source": [
    "high_bp = pd.read_csv('Data/Raw/high_blood_pressure_adj.csv')\n",
    "high_bp.head()"
   ]
  },
  {
   "cell_type": "code",
   "execution_count": 69,
   "id": "aa483f99-8ad9-4ead-9394-d7aadcbba0eb",
   "metadata": {
    "tags": []
   },
   "outputs": [
    {
     "data": {
      "text/html": [
       "<div>\n",
       "<style scoped>\n",
       "    .dataframe tbody tr th:only-of-type {\n",
       "        vertical-align: middle;\n",
       "    }\n",
       "\n",
       "    .dataframe tbody tr th {\n",
       "        vertical-align: top;\n",
       "    }\n",
       "\n",
       "    .dataframe thead th {\n",
       "        text-align: right;\n",
       "    }\n",
       "</style>\n",
       "<table border=\"1\" class=\"dataframe\">\n",
       "  <thead>\n",
       "    <tr style=\"text-align: right;\">\n",
       "      <th></th>\n",
       "      <th>Location</th>\n",
       "      <th>high_bp_prevalence</th>\n",
       "    </tr>\n",
       "  </thead>\n",
       "  <tbody>\n",
       "    <tr>\n",
       "      <th>0</th>\n",
       "      <td>Alaska</td>\n",
       "      <td>32.8</td>\n",
       "    </tr>\n",
       "    <tr>\n",
       "      <th>1</th>\n",
       "      <td>Alabama</td>\n",
       "      <td>39.4</td>\n",
       "    </tr>\n",
       "    <tr>\n",
       "      <th>2</th>\n",
       "      <td>Arkansas</td>\n",
       "      <td>38.2</td>\n",
       "    </tr>\n",
       "    <tr>\n",
       "      <th>3</th>\n",
       "      <td>Arizona</td>\n",
       "      <td>29.9</td>\n",
       "    </tr>\n",
       "    <tr>\n",
       "      <th>4</th>\n",
       "      <td>California</td>\n",
       "      <td>26.6</td>\n",
       "    </tr>\n",
       "  </tbody>\n",
       "</table>\n",
       "</div>"
      ],
      "text/plain": [
       "     Location  high_bp_prevalence\n",
       "0      Alaska                32.8\n",
       "1     Alabama                39.4\n",
       "2    Arkansas                38.2\n",
       "3     Arizona                29.9\n",
       "4  California                26.6"
      ]
     },
     "execution_count": 69,
     "metadata": {},
     "output_type": "execute_result"
    }
   ],
   "source": [
    "high_bp.rename(columns={\n",
    "    'DataValue':'high_bp_prevalence',\n",
    "    'LocationDesc':'Location'}, inplace=True)\n",
    "high_bp.drop(columns=['YearStart', 'Question'], inplace=True)\n",
    "high_bp.head()"
   ]
  },
  {
   "cell_type": "code",
   "execution_count": 70,
   "id": "8bd0e7d9-5614-4854-8f3f-48ff77b2c764",
   "metadata": {
    "tags": []
   },
   "outputs": [],
   "source": [
    "cardiac_mortality = pd.read_csv('Data/Raw/cardiac_mortality_adj.csv')"
   ]
  },
  {
   "cell_type": "code",
   "execution_count": 71,
   "id": "01ab0ce9-ba8f-4e61-b718-f09a0f39305a",
   "metadata": {
    "tags": []
   },
   "outputs": [
    {
     "data": {
      "text/html": [
       "<div>\n",
       "<style scoped>\n",
       "    .dataframe tbody tr th:only-of-type {\n",
       "        vertical-align: middle;\n",
       "    }\n",
       "\n",
       "    .dataframe tbody tr th {\n",
       "        vertical-align: top;\n",
       "    }\n",
       "\n",
       "    .dataframe thead th {\n",
       "        text-align: right;\n",
       "    }\n",
       "</style>\n",
       "<table border=\"1\" class=\"dataframe\">\n",
       "  <thead>\n",
       "    <tr style=\"text-align: right;\">\n",
       "      <th></th>\n",
       "      <th>Location</th>\n",
       "      <th>cardiac_mortality_rate</th>\n",
       "    </tr>\n",
       "  </thead>\n",
       "  <tbody>\n",
       "    <tr>\n",
       "      <th>0</th>\n",
       "      <td>Delaware</td>\n",
       "      <td>214.3</td>\n",
       "    </tr>\n",
       "    <tr>\n",
       "      <th>1</th>\n",
       "      <td>Georgia</td>\n",
       "      <td>234.3</td>\n",
       "    </tr>\n",
       "    <tr>\n",
       "      <th>2</th>\n",
       "      <td>Alaska</td>\n",
       "      <td>178.5</td>\n",
       "    </tr>\n",
       "    <tr>\n",
       "      <th>3</th>\n",
       "      <td>Kentucky</td>\n",
       "      <td>253.8</td>\n",
       "    </tr>\n",
       "    <tr>\n",
       "      <th>4</th>\n",
       "      <td>Arkansas</td>\n",
       "      <td>284.3</td>\n",
       "    </tr>\n",
       "  </tbody>\n",
       "</table>\n",
       "</div>"
      ],
      "text/plain": [
       "   Location  cardiac_mortality_rate\n",
       "0  Delaware                   214.3\n",
       "1   Georgia                   234.3\n",
       "2    Alaska                   178.5\n",
       "3  Kentucky                   253.8\n",
       "4  Arkansas                   284.3"
      ]
     },
     "execution_count": 71,
     "metadata": {},
     "output_type": "execute_result"
    }
   ],
   "source": [
    "cardiac_mortality.rename(columns={\n",
    "    'DataValue':'cardiac_mortality_rate',\n",
    "    'LocationDesc':'Location'}, inplace=True)\n",
    "cardiac_mortality.drop(columns=['YearStart', 'Question'], inplace=True)\n",
    "cardiac_mortality.head()"
   ]
  },
  {
   "cell_type": "code",
   "execution_count": 72,
   "id": "31517443-25ea-45c6-a6a1-196829609d4c",
   "metadata": {
    "tags": []
   },
   "outputs": [
    {
     "data": {
      "text/html": [
       "<div>\n",
       "<style scoped>\n",
       "    .dataframe tbody tr th:only-of-type {\n",
       "        vertical-align: middle;\n",
       "    }\n",
       "\n",
       "    .dataframe tbody tr th {\n",
       "        vertical-align: top;\n",
       "    }\n",
       "\n",
       "    .dataframe thead th {\n",
       "        text-align: right;\n",
       "    }\n",
       "</style>\n",
       "<table border=\"1\" class=\"dataframe\">\n",
       "  <thead>\n",
       "    <tr style=\"text-align: right;\">\n",
       "      <th></th>\n",
       "      <th>YearStart</th>\n",
       "      <th>LocationDesc</th>\n",
       "      <th>Question</th>\n",
       "      <th>DataValue</th>\n",
       "    </tr>\n",
       "  </thead>\n",
       "  <tbody>\n",
       "    <tr>\n",
       "      <th>0</th>\n",
       "      <td>2019</td>\n",
       "      <td>Alaska</td>\n",
       "      <td>Prevalence of diagnosed diabetes among adults ...</td>\n",
       "      <td>7.1</td>\n",
       "    </tr>\n",
       "    <tr>\n",
       "      <th>1</th>\n",
       "      <td>2019</td>\n",
       "      <td>Alabama</td>\n",
       "      <td>Prevalence of diagnosed diabetes among adults ...</td>\n",
       "      <td>12.2</td>\n",
       "    </tr>\n",
       "    <tr>\n",
       "      <th>2</th>\n",
       "      <td>2019</td>\n",
       "      <td>Arkansas</td>\n",
       "      <td>Prevalence of diagnosed diabetes among adults ...</td>\n",
       "      <td>12.2</td>\n",
       "    </tr>\n",
       "    <tr>\n",
       "      <th>3</th>\n",
       "      <td>2019</td>\n",
       "      <td>Arizona</td>\n",
       "      <td>Prevalence of diagnosed diabetes among adults ...</td>\n",
       "      <td>9.8</td>\n",
       "    </tr>\n",
       "    <tr>\n",
       "      <th>4</th>\n",
       "      <td>2019</td>\n",
       "      <td>California</td>\n",
       "      <td>Prevalence of diagnosed diabetes among adults ...</td>\n",
       "      <td>9.4</td>\n",
       "    </tr>\n",
       "  </tbody>\n",
       "</table>\n",
       "</div>"
      ],
      "text/plain": [
       "   YearStart LocationDesc                                           Question  \\\n",
       "0       2019       Alaska  Prevalence of diagnosed diabetes among adults ...   \n",
       "1       2019      Alabama  Prevalence of diagnosed diabetes among adults ...   \n",
       "2       2019     Arkansas  Prevalence of diagnosed diabetes among adults ...   \n",
       "3       2019      Arizona  Prevalence of diagnosed diabetes among adults ...   \n",
       "4       2019   California  Prevalence of diagnosed diabetes among adults ...   \n",
       "\n",
       "   DataValue  \n",
       "0        7.1  \n",
       "1       12.2  \n",
       "2       12.2  \n",
       "3        9.8  \n",
       "4        9.4  "
      ]
     },
     "execution_count": 72,
     "metadata": {},
     "output_type": "execute_result"
    }
   ],
   "source": [
    "diabetes = pd.read_csv('Data/Raw/diabetes_adj.csv')\n",
    "diabetes.head()"
   ]
  },
  {
   "cell_type": "code",
   "execution_count": 73,
   "id": "c1c9b4f2-8ff9-421e-a6f3-71fd423efa26",
   "metadata": {
    "tags": []
   },
   "outputs": [],
   "source": [
    "diabetes.rename(columns={\n",
    "    'DataValue':'diabetes_prevalence',\n",
    "    'LocationDesc':'Location'}, inplace=True)"
   ]
  },
  {
   "cell_type": "code",
   "execution_count": 74,
   "id": "c4e7ac3c-74fd-4ec1-bb7d-a7abb823abe2",
   "metadata": {
    "tags": []
   },
   "outputs": [
    {
     "data": {
      "text/html": [
       "<div>\n",
       "<style scoped>\n",
       "    .dataframe tbody tr th:only-of-type {\n",
       "        vertical-align: middle;\n",
       "    }\n",
       "\n",
       "    .dataframe tbody tr th {\n",
       "        vertical-align: top;\n",
       "    }\n",
       "\n",
       "    .dataframe thead th {\n",
       "        text-align: right;\n",
       "    }\n",
       "</style>\n",
       "<table border=\"1\" class=\"dataframe\">\n",
       "  <thead>\n",
       "    <tr style=\"text-align: right;\">\n",
       "      <th></th>\n",
       "      <th>Location</th>\n",
       "      <th>diabetes_prevalence</th>\n",
       "    </tr>\n",
       "  </thead>\n",
       "  <tbody>\n",
       "    <tr>\n",
       "      <th>0</th>\n",
       "      <td>Alaska</td>\n",
       "      <td>7.1</td>\n",
       "    </tr>\n",
       "    <tr>\n",
       "      <th>1</th>\n",
       "      <td>Alabama</td>\n",
       "      <td>12.2</td>\n",
       "    </tr>\n",
       "    <tr>\n",
       "      <th>2</th>\n",
       "      <td>Arkansas</td>\n",
       "      <td>12.2</td>\n",
       "    </tr>\n",
       "    <tr>\n",
       "      <th>3</th>\n",
       "      <td>Arizona</td>\n",
       "      <td>9.8</td>\n",
       "    </tr>\n",
       "    <tr>\n",
       "      <th>4</th>\n",
       "      <td>California</td>\n",
       "      <td>9.4</td>\n",
       "    </tr>\n",
       "  </tbody>\n",
       "</table>\n",
       "</div>"
      ],
      "text/plain": [
       "     Location  diabetes_prevalence\n",
       "0      Alaska                  7.1\n",
       "1     Alabama                 12.2\n",
       "2    Arkansas                 12.2\n",
       "3     Arizona                  9.8\n",
       "4  California                  9.4"
      ]
     },
     "execution_count": 74,
     "metadata": {},
     "output_type": "execute_result"
    }
   ],
   "source": [
    "diabetes.drop(columns=['YearStart', 'Question'], inplace=True)\n",
    "diabetes.head()"
   ]
  },
  {
   "cell_type": "code",
   "execution_count": 75,
   "id": "594e7b6b-7379-4ce2-8064-5989bc6e8ce6",
   "metadata": {
    "tags": []
   },
   "outputs": [
    {
     "data": {
      "text/html": [
       "<div>\n",
       "<style scoped>\n",
       "    .dataframe tbody tr th:only-of-type {\n",
       "        vertical-align: middle;\n",
       "    }\n",
       "\n",
       "    .dataframe tbody tr th {\n",
       "        vertical-align: top;\n",
       "    }\n",
       "\n",
       "    .dataframe thead th {\n",
       "        text-align: right;\n",
       "    }\n",
       "</style>\n",
       "<table border=\"1\" class=\"dataframe\">\n",
       "  <thead>\n",
       "    <tr style=\"text-align: right;\">\n",
       "      <th></th>\n",
       "      <th>YearStart</th>\n",
       "      <th>LocationDesc</th>\n",
       "      <th>Question</th>\n",
       "      <th>DataValue</th>\n",
       "    </tr>\n",
       "  </thead>\n",
       "  <tbody>\n",
       "    <tr>\n",
       "      <th>0</th>\n",
       "      <td>2019</td>\n",
       "      <td>Alaska</td>\n",
       "      <td>Prevalence of chronic kidney disease among adu...</td>\n",
       "      <td>1.8</td>\n",
       "    </tr>\n",
       "    <tr>\n",
       "      <th>1</th>\n",
       "      <td>2019</td>\n",
       "      <td>Alabama</td>\n",
       "      <td>Prevalence of chronic kidney disease among adu...</td>\n",
       "      <td>3.1</td>\n",
       "    </tr>\n",
       "    <tr>\n",
       "      <th>2</th>\n",
       "      <td>2019</td>\n",
       "      <td>Arkansas</td>\n",
       "      <td>Prevalence of chronic kidney disease among adu...</td>\n",
       "      <td>3.7</td>\n",
       "    </tr>\n",
       "    <tr>\n",
       "      <th>3</th>\n",
       "      <td>2019</td>\n",
       "      <td>California</td>\n",
       "      <td>Prevalence of chronic kidney disease among adu...</td>\n",
       "      <td>2.8</td>\n",
       "    </tr>\n",
       "    <tr>\n",
       "      <th>4</th>\n",
       "      <td>2019</td>\n",
       "      <td>Arizona</td>\n",
       "      <td>Prevalence of chronic kidney disease among adu...</td>\n",
       "      <td>3.6</td>\n",
       "    </tr>\n",
       "  </tbody>\n",
       "</table>\n",
       "</div>"
      ],
      "text/plain": [
       "   YearStart LocationDesc                                           Question  \\\n",
       "0       2019       Alaska  Prevalence of chronic kidney disease among adu...   \n",
       "1       2019      Alabama  Prevalence of chronic kidney disease among adu...   \n",
       "2       2019     Arkansas  Prevalence of chronic kidney disease among adu...   \n",
       "3       2019   California  Prevalence of chronic kidney disease among adu...   \n",
       "4       2019      Arizona  Prevalence of chronic kidney disease among adu...   \n",
       "\n",
       "   DataValue  \n",
       "0        1.8  \n",
       "1        3.1  \n",
       "2        3.7  \n",
       "3        2.8  \n",
       "4        3.6  "
      ]
     },
     "execution_count": 75,
     "metadata": {},
     "output_type": "execute_result"
    }
   ],
   "source": [
    "kidney = pd.read_csv('Data/Raw/kidney_adj.csv')\n",
    "kidney.head()"
   ]
  },
  {
   "cell_type": "code",
   "execution_count": 76,
   "id": "8b961f37-02a8-4c40-97f6-677535f0f5c2",
   "metadata": {
    "tags": []
   },
   "outputs": [],
   "source": [
    "kidney.rename(columns={\n",
    "    'DataValue':'kidney_disease_prevalence',\n",
    "    'LocationDesc':'Location'}, inplace=True)"
   ]
  },
  {
   "cell_type": "code",
   "execution_count": 77,
   "id": "bcffac53-e8f7-4c7c-a150-58a6f1561bfe",
   "metadata": {
    "tags": []
   },
   "outputs": [
    {
     "data": {
      "text/html": [
       "<div>\n",
       "<style scoped>\n",
       "    .dataframe tbody tr th:only-of-type {\n",
       "        vertical-align: middle;\n",
       "    }\n",
       "\n",
       "    .dataframe tbody tr th {\n",
       "        vertical-align: top;\n",
       "    }\n",
       "\n",
       "    .dataframe thead th {\n",
       "        text-align: right;\n",
       "    }\n",
       "</style>\n",
       "<table border=\"1\" class=\"dataframe\">\n",
       "  <thead>\n",
       "    <tr style=\"text-align: right;\">\n",
       "      <th></th>\n",
       "      <th>Location</th>\n",
       "      <th>kidney_disease_prevalence</th>\n",
       "    </tr>\n",
       "  </thead>\n",
       "  <tbody>\n",
       "    <tr>\n",
       "      <th>0</th>\n",
       "      <td>Alaska</td>\n",
       "      <td>1.8</td>\n",
       "    </tr>\n",
       "    <tr>\n",
       "      <th>1</th>\n",
       "      <td>Alabama</td>\n",
       "      <td>3.1</td>\n",
       "    </tr>\n",
       "    <tr>\n",
       "      <th>2</th>\n",
       "      <td>Arkansas</td>\n",
       "      <td>3.7</td>\n",
       "    </tr>\n",
       "    <tr>\n",
       "      <th>3</th>\n",
       "      <td>California</td>\n",
       "      <td>2.8</td>\n",
       "    </tr>\n",
       "    <tr>\n",
       "      <th>4</th>\n",
       "      <td>Arizona</td>\n",
       "      <td>3.6</td>\n",
       "    </tr>\n",
       "  </tbody>\n",
       "</table>\n",
       "</div>"
      ],
      "text/plain": [
       "     Location  kidney_disease_prevalence\n",
       "0      Alaska                        1.8\n",
       "1     Alabama                        3.1\n",
       "2    Arkansas                        3.7\n",
       "3  California                        2.8\n",
       "4     Arizona                        3.6"
      ]
     },
     "execution_count": 77,
     "metadata": {},
     "output_type": "execute_result"
    }
   ],
   "source": [
    "kidney.drop(columns=['YearStart', 'Question'], inplace=True)\n",
    "kidney.head()"
   ]
  },
  {
   "cell_type": "code",
   "execution_count": 78,
   "id": "2fee3369-689a-4497-8479-e5894d01bb57",
   "metadata": {
    "tags": []
   },
   "outputs": [
    {
     "data": {
      "text/html": [
       "<div>\n",
       "<style scoped>\n",
       "    .dataframe tbody tr th:only-of-type {\n",
       "        vertical-align: middle;\n",
       "    }\n",
       "\n",
       "    .dataframe tbody tr th {\n",
       "        vertical-align: top;\n",
       "    }\n",
       "\n",
       "    .dataframe thead th {\n",
       "        text-align: right;\n",
       "    }\n",
       "</style>\n",
       "<table border=\"1\" class=\"dataframe\">\n",
       "  <thead>\n",
       "    <tr style=\"text-align: right;\">\n",
       "      <th></th>\n",
       "      <th>Location</th>\n",
       "      <th>copd_prevalence</th>\n",
       "    </tr>\n",
       "  </thead>\n",
       "  <tbody>\n",
       "    <tr>\n",
       "      <th>0</th>\n",
       "      <td>Alaska</td>\n",
       "      <td>4.6</td>\n",
       "    </tr>\n",
       "    <tr>\n",
       "      <th>1</th>\n",
       "      <td>Alabama</td>\n",
       "      <td>9.3</td>\n",
       "    </tr>\n",
       "    <tr>\n",
       "      <th>2</th>\n",
       "      <td>Arkansas</td>\n",
       "      <td>9.7</td>\n",
       "    </tr>\n",
       "    <tr>\n",
       "      <th>3</th>\n",
       "      <td>California</td>\n",
       "      <td>4.2</td>\n",
       "    </tr>\n",
       "    <tr>\n",
       "      <th>4</th>\n",
       "      <td>Arizona</td>\n",
       "      <td>6.0</td>\n",
       "    </tr>\n",
       "  </tbody>\n",
       "</table>\n",
       "</div>"
      ],
      "text/plain": [
       "     Location  copd_prevalence\n",
       "0      Alaska              4.6\n",
       "1     Alabama              9.3\n",
       "2    Arkansas              9.7\n",
       "3  California              4.2\n",
       "4     Arizona              6.0"
      ]
     },
     "execution_count": 78,
     "metadata": {},
     "output_type": "execute_result"
    }
   ],
   "source": [
    "copd = pd.read_csv('Data/Raw/copd_adj.csv')\n",
    "copd.rename(columns={\n",
    "    'DataValue':'copd_prevalence',\n",
    "    'LocationDesc':'Location'}, inplace=True)\n",
    "copd.drop(columns=['YearStart', 'Question'], inplace=True)\n",
    "copd.head()"
   ]
  },
  {
   "cell_type": "code",
   "execution_count": 79,
   "id": "33f350e5-29ab-40bf-aed3-89e7b68d4462",
   "metadata": {
    "tags": []
   },
   "outputs": [
    {
     "data": {
      "text/html": [
       "<div>\n",
       "<style scoped>\n",
       "    .dataframe tbody tr th:only-of-type {\n",
       "        vertical-align: middle;\n",
       "    }\n",
       "\n",
       "    .dataframe tbody tr th {\n",
       "        vertical-align: top;\n",
       "    }\n",
       "\n",
       "    .dataframe thead th {\n",
       "        text-align: right;\n",
       "    }\n",
       "</style>\n",
       "<table border=\"1\" class=\"dataframe\">\n",
       "  <thead>\n",
       "    <tr style=\"text-align: right;\">\n",
       "      <th></th>\n",
       "      <th>Location</th>\n",
       "      <th>flu_vaccination_rate_2019</th>\n",
       "    </tr>\n",
       "  </thead>\n",
       "  <tbody>\n",
       "    <tr>\n",
       "      <th>0</th>\n",
       "      <td>Alaska</td>\n",
       "      <td>37.0</td>\n",
       "    </tr>\n",
       "    <tr>\n",
       "      <th>1</th>\n",
       "      <td>Alabama</td>\n",
       "      <td>39.5</td>\n",
       "    </tr>\n",
       "    <tr>\n",
       "      <th>2</th>\n",
       "      <td>Arkansas</td>\n",
       "      <td>40.1</td>\n",
       "    </tr>\n",
       "    <tr>\n",
       "      <th>3</th>\n",
       "      <td>Arizona</td>\n",
       "      <td>37.1</td>\n",
       "    </tr>\n",
       "    <tr>\n",
       "      <th>4</th>\n",
       "      <td>California</td>\n",
       "      <td>40.7</td>\n",
       "    </tr>\n",
       "  </tbody>\n",
       "</table>\n",
       "</div>"
      ],
      "text/plain": [
       "     Location  flu_vaccination_rate_2019\n",
       "0      Alaska                       37.0\n",
       "1     Alabama                       39.5\n",
       "2    Arkansas                       40.1\n",
       "3     Arizona                       37.1\n",
       "4  California                       40.7"
      ]
     },
     "execution_count": 79,
     "metadata": {},
     "output_type": "execute_result"
    }
   ],
   "source": [
    "immun = pd.read_csv('Data/Raw/immun_adj.csv')\n",
    "immun.rename(columns={\n",
    "    'DataValue':'flu_vaccination_rate_2019',\n",
    "    'LocationDesc':'Location'}, inplace=True)\n",
    "immun.drop(columns=['YearStart', 'Question'], inplace=True)\n",
    "immun.head()"
   ]
  },
  {
   "cell_type": "code",
   "execution_count": 80,
   "id": "2fca2bb7-764a-40ff-a443-827684dddde0",
   "metadata": {
    "tags": []
   },
   "outputs": [],
   "source": [
    "pre_con = pd.merge(immun, asthma, on='Location', how='inner')\n",
    "\n",
    "dataframes_to_merge = [cardiac_mortality, high_bp, copd, kidney, diabetes]\n",
    "\n",
    "for df in dataframes_to_merge:\n",
    "    pre_con = pd.merge(pre_con, df, on='Location', how='inner')"
   ]
  },
  {
   "cell_type": "code",
   "execution_count": 81,
   "id": "be3b7364-d6af-4e5b-a8eb-e05f9d4d4eb9",
   "metadata": {
    "tags": []
   },
   "outputs": [
    {
     "data": {
      "text/html": [
       "<div>\n",
       "<style scoped>\n",
       "    .dataframe tbody tr th:only-of-type {\n",
       "        vertical-align: middle;\n",
       "    }\n",
       "\n",
       "    .dataframe tbody tr th {\n",
       "        vertical-align: top;\n",
       "    }\n",
       "\n",
       "    .dataframe thead th {\n",
       "        text-align: right;\n",
       "    }\n",
       "</style>\n",
       "<table border=\"1\" class=\"dataframe\">\n",
       "  <thead>\n",
       "    <tr style=\"text-align: right;\">\n",
       "      <th></th>\n",
       "      <th>Location</th>\n",
       "      <th>flu_vaccination_rate_2019</th>\n",
       "      <th>asthma_prevalence</th>\n",
       "      <th>cardiac_mortality_rate</th>\n",
       "      <th>high_bp_prevalence</th>\n",
       "      <th>copd_prevalence</th>\n",
       "      <th>kidney_disease_prevalence</th>\n",
       "      <th>diabetes_prevalence</th>\n",
       "    </tr>\n",
       "  </thead>\n",
       "  <tbody>\n",
       "    <tr>\n",
       "      <th>0</th>\n",
       "      <td>Alaska</td>\n",
       "      <td>37.0</td>\n",
       "      <td>9.7</td>\n",
       "      <td>178.5</td>\n",
       "      <td>32.8</td>\n",
       "      <td>4.6</td>\n",
       "      <td>1.8</td>\n",
       "      <td>7.1</td>\n",
       "    </tr>\n",
       "    <tr>\n",
       "      <th>1</th>\n",
       "      <td>Alabama</td>\n",
       "      <td>39.5</td>\n",
       "      <td>9.4</td>\n",
       "      <td>289.3</td>\n",
       "      <td>39.4</td>\n",
       "      <td>9.3</td>\n",
       "      <td>3.1</td>\n",
       "      <td>12.2</td>\n",
       "    </tr>\n",
       "    <tr>\n",
       "      <th>2</th>\n",
       "      <td>Arkansas</td>\n",
       "      <td>40.1</td>\n",
       "      <td>9.3</td>\n",
       "      <td>284.3</td>\n",
       "      <td>38.2</td>\n",
       "      <td>9.7</td>\n",
       "      <td>3.7</td>\n",
       "      <td>12.2</td>\n",
       "    </tr>\n",
       "    <tr>\n",
       "      <th>3</th>\n",
       "      <td>Arizona</td>\n",
       "      <td>37.1</td>\n",
       "      <td>9.8</td>\n",
       "      <td>181.8</td>\n",
       "      <td>29.9</td>\n",
       "      <td>6.0</td>\n",
       "      <td>3.6</td>\n",
       "      <td>9.8</td>\n",
       "    </tr>\n",
       "    <tr>\n",
       "      <th>4</th>\n",
       "      <td>California</td>\n",
       "      <td>40.7</td>\n",
       "      <td>7.8</td>\n",
       "      <td>192.5</td>\n",
       "      <td>26.6</td>\n",
       "      <td>4.2</td>\n",
       "      <td>2.8</td>\n",
       "      <td>9.4</td>\n",
       "    </tr>\n",
       "  </tbody>\n",
       "</table>\n",
       "</div>"
      ],
      "text/plain": [
       "     Location  flu_vaccination_rate_2019  asthma_prevalence  \\\n",
       "0      Alaska                       37.0                9.7   \n",
       "1     Alabama                       39.5                9.4   \n",
       "2    Arkansas                       40.1                9.3   \n",
       "3     Arizona                       37.1                9.8   \n",
       "4  California                       40.7                7.8   \n",
       "\n",
       "   cardiac_mortality_rate  high_bp_prevalence  copd_prevalence  \\\n",
       "0                   178.5                32.8              4.6   \n",
       "1                   289.3                39.4              9.3   \n",
       "2                   284.3                38.2              9.7   \n",
       "3                   181.8                29.9              6.0   \n",
       "4                   192.5                26.6              4.2   \n",
       "\n",
       "   kidney_disease_prevalence  diabetes_prevalence  \n",
       "0                        1.8                  7.1  \n",
       "1                        3.1                 12.2  \n",
       "2                        3.7                 12.2  \n",
       "3                        3.6                  9.8  \n",
       "4                        2.8                  9.4  "
      ]
     },
     "execution_count": 81,
     "metadata": {},
     "output_type": "execute_result"
    }
   ],
   "source": [
    "pre_con.head()"
   ]
  },
  {
   "cell_type": "code",
   "execution_count": 82,
   "id": "5ca51362-476f-4f70-b3f7-fcd1597eceeb",
   "metadata": {
    "tags": []
   },
   "outputs": [],
   "source": [
    "pre_con.to_csv('Data/cleaned_pre_condtions.csv', index = True)"
   ]
  },
  {
   "cell_type": "markdown",
   "id": "f15b301e-a804-4114-a0cf-f1644aac902c",
   "metadata": {
    "tags": []
   },
   "source": [
    "#### Income per capita: (Suli)\n",
    "1. Rename year columns\n",
    "2. Rename Geoname to Location\n",
    "3. Drop geofips column\n"
   ]
  },
  {
   "cell_type": "markdown",
   "id": "e7cfdb4b-6456-4e9d-9862-81826031b9dd",
   "metadata": {},
   "source": [
    "#### Life Expectancy: (Suli)\n",
    "1. Convert abbreviated state names to unabbreviated name (Rename column name to match and then merge with Mask Mandates on abbreviations and then drop abbreviations)\n",
    "2. Rename State to Location\n",
    "3. Rename rate to average life expectancy\n",
    "4. Drop url and year"
   ]
  },
  {
   "cell_type": "markdown",
   "id": "85a47f98-121c-413c-a0ee-d2a825628c07",
   "metadata": {
    "tags": []
   },
   "source": [
    "#### Mask Mandate: (Suli)\n",
    "1. After using abbreviation to match with states for life expectancy drop abbrev\n",
    "2. Rename state_name to Location\n",
    "3. Rename mandatory to mask_mandate"
   ]
  },
  {
   "cell_type": "code",
   "execution_count": 83,
   "id": "c65d2d27-5eed-4f3c-bc21-65cb1f843105",
   "metadata": {
    "tags": []
   },
   "outputs": [
    {
     "ename": "FileNotFoundError",
     "evalue": "[Errno 2] No such file or directory: 'Data/Mask Mandate.csv'",
     "output_type": "error",
     "traceback": [
      "\u001b[1;31m---------------------------------------------------------------------------\u001b[0m",
      "\u001b[1;31mFileNotFoundError\u001b[0m                         Traceback (most recent call last)",
      "Cell \u001b[1;32mIn[83], line 1\u001b[0m\n\u001b[1;32m----> 1\u001b[0m mask \u001b[38;5;241m=\u001b[39m pd\u001b[38;5;241m.\u001b[39mread_csv(\u001b[38;5;124m'\u001b[39m\u001b[38;5;124mData/Mask Mandate.csv\u001b[39m\u001b[38;5;124m'\u001b[39m)\n\u001b[0;32m      2\u001b[0m mask\u001b[38;5;241m.\u001b[39mhead()\n",
      "File \u001b[1;32m~\\anaconda3\\Lib\\site-packages\\pandas\\util\\_decorators.py:211\u001b[0m, in \u001b[0;36mdeprecate_kwarg.<locals>._deprecate_kwarg.<locals>.wrapper\u001b[1;34m(*args, **kwargs)\u001b[0m\n\u001b[0;32m    209\u001b[0m     \u001b[38;5;28;01melse\u001b[39;00m:\n\u001b[0;32m    210\u001b[0m         kwargs[new_arg_name] \u001b[38;5;241m=\u001b[39m new_arg_value\n\u001b[1;32m--> 211\u001b[0m \u001b[38;5;28;01mreturn\u001b[39;00m func(\u001b[38;5;241m*\u001b[39margs, \u001b[38;5;241m*\u001b[39m\u001b[38;5;241m*\u001b[39mkwargs)\n",
      "File \u001b[1;32m~\\anaconda3\\Lib\\site-packages\\pandas\\util\\_decorators.py:331\u001b[0m, in \u001b[0;36mdeprecate_nonkeyword_arguments.<locals>.decorate.<locals>.wrapper\u001b[1;34m(*args, **kwargs)\u001b[0m\n\u001b[0;32m    325\u001b[0m \u001b[38;5;28;01mif\u001b[39;00m \u001b[38;5;28mlen\u001b[39m(args) \u001b[38;5;241m>\u001b[39m num_allow_args:\n\u001b[0;32m    326\u001b[0m     warnings\u001b[38;5;241m.\u001b[39mwarn(\n\u001b[0;32m    327\u001b[0m         msg\u001b[38;5;241m.\u001b[39mformat(arguments\u001b[38;5;241m=\u001b[39m_format_argument_list(allow_args)),\n\u001b[0;32m    328\u001b[0m         \u001b[38;5;167;01mFutureWarning\u001b[39;00m,\n\u001b[0;32m    329\u001b[0m         stacklevel\u001b[38;5;241m=\u001b[39mfind_stack_level(),\n\u001b[0;32m    330\u001b[0m     )\n\u001b[1;32m--> 331\u001b[0m \u001b[38;5;28;01mreturn\u001b[39;00m func(\u001b[38;5;241m*\u001b[39margs, \u001b[38;5;241m*\u001b[39m\u001b[38;5;241m*\u001b[39mkwargs)\n",
      "File \u001b[1;32m~\\anaconda3\\Lib\\site-packages\\pandas\\io\\parsers\\readers.py:950\u001b[0m, in \u001b[0;36mread_csv\u001b[1;34m(filepath_or_buffer, sep, delimiter, header, names, index_col, usecols, squeeze, prefix, mangle_dupe_cols, dtype, engine, converters, true_values, false_values, skipinitialspace, skiprows, skipfooter, nrows, na_values, keep_default_na, na_filter, verbose, skip_blank_lines, parse_dates, infer_datetime_format, keep_date_col, date_parser, dayfirst, cache_dates, iterator, chunksize, compression, thousands, decimal, lineterminator, quotechar, quoting, doublequote, escapechar, comment, encoding, encoding_errors, dialect, error_bad_lines, warn_bad_lines, on_bad_lines, delim_whitespace, low_memory, memory_map, float_precision, storage_options)\u001b[0m\n\u001b[0;32m    935\u001b[0m kwds_defaults \u001b[38;5;241m=\u001b[39m _refine_defaults_read(\n\u001b[0;32m    936\u001b[0m     dialect,\n\u001b[0;32m    937\u001b[0m     delimiter,\n\u001b[1;32m   (...)\u001b[0m\n\u001b[0;32m    946\u001b[0m     defaults\u001b[38;5;241m=\u001b[39m{\u001b[38;5;124m\"\u001b[39m\u001b[38;5;124mdelimiter\u001b[39m\u001b[38;5;124m\"\u001b[39m: \u001b[38;5;124m\"\u001b[39m\u001b[38;5;124m,\u001b[39m\u001b[38;5;124m\"\u001b[39m},\n\u001b[0;32m    947\u001b[0m )\n\u001b[0;32m    948\u001b[0m kwds\u001b[38;5;241m.\u001b[39mupdate(kwds_defaults)\n\u001b[1;32m--> 950\u001b[0m \u001b[38;5;28;01mreturn\u001b[39;00m _read(filepath_or_buffer, kwds)\n",
      "File \u001b[1;32m~\\anaconda3\\Lib\\site-packages\\pandas\\io\\parsers\\readers.py:605\u001b[0m, in \u001b[0;36m_read\u001b[1;34m(filepath_or_buffer, kwds)\u001b[0m\n\u001b[0;32m    602\u001b[0m _validate_names(kwds\u001b[38;5;241m.\u001b[39mget(\u001b[38;5;124m\"\u001b[39m\u001b[38;5;124mnames\u001b[39m\u001b[38;5;124m\"\u001b[39m, \u001b[38;5;28;01mNone\u001b[39;00m))\n\u001b[0;32m    604\u001b[0m \u001b[38;5;66;03m# Create the parser.\u001b[39;00m\n\u001b[1;32m--> 605\u001b[0m parser \u001b[38;5;241m=\u001b[39m TextFileReader(filepath_or_buffer, \u001b[38;5;241m*\u001b[39m\u001b[38;5;241m*\u001b[39mkwds)\n\u001b[0;32m    607\u001b[0m \u001b[38;5;28;01mif\u001b[39;00m chunksize \u001b[38;5;129;01mor\u001b[39;00m iterator:\n\u001b[0;32m    608\u001b[0m     \u001b[38;5;28;01mreturn\u001b[39;00m parser\n",
      "File \u001b[1;32m~\\anaconda3\\Lib\\site-packages\\pandas\\io\\parsers\\readers.py:1442\u001b[0m, in \u001b[0;36mTextFileReader.__init__\u001b[1;34m(self, f, engine, **kwds)\u001b[0m\n\u001b[0;32m   1439\u001b[0m     \u001b[38;5;28mself\u001b[39m\u001b[38;5;241m.\u001b[39moptions[\u001b[38;5;124m\"\u001b[39m\u001b[38;5;124mhas_index_names\u001b[39m\u001b[38;5;124m\"\u001b[39m] \u001b[38;5;241m=\u001b[39m kwds[\u001b[38;5;124m\"\u001b[39m\u001b[38;5;124mhas_index_names\u001b[39m\u001b[38;5;124m\"\u001b[39m]\n\u001b[0;32m   1441\u001b[0m \u001b[38;5;28mself\u001b[39m\u001b[38;5;241m.\u001b[39mhandles: IOHandles \u001b[38;5;241m|\u001b[39m \u001b[38;5;28;01mNone\u001b[39;00m \u001b[38;5;241m=\u001b[39m \u001b[38;5;28;01mNone\u001b[39;00m\n\u001b[1;32m-> 1442\u001b[0m \u001b[38;5;28mself\u001b[39m\u001b[38;5;241m.\u001b[39m_engine \u001b[38;5;241m=\u001b[39m \u001b[38;5;28mself\u001b[39m\u001b[38;5;241m.\u001b[39m_make_engine(f, \u001b[38;5;28mself\u001b[39m\u001b[38;5;241m.\u001b[39mengine)\n",
      "File \u001b[1;32m~\\anaconda3\\Lib\\site-packages\\pandas\\io\\parsers\\readers.py:1735\u001b[0m, in \u001b[0;36mTextFileReader._make_engine\u001b[1;34m(self, f, engine)\u001b[0m\n\u001b[0;32m   1733\u001b[0m     \u001b[38;5;28;01mif\u001b[39;00m \u001b[38;5;124m\"\u001b[39m\u001b[38;5;124mb\u001b[39m\u001b[38;5;124m\"\u001b[39m \u001b[38;5;129;01mnot\u001b[39;00m \u001b[38;5;129;01min\u001b[39;00m mode:\n\u001b[0;32m   1734\u001b[0m         mode \u001b[38;5;241m+\u001b[39m\u001b[38;5;241m=\u001b[39m \u001b[38;5;124m\"\u001b[39m\u001b[38;5;124mb\u001b[39m\u001b[38;5;124m\"\u001b[39m\n\u001b[1;32m-> 1735\u001b[0m \u001b[38;5;28mself\u001b[39m\u001b[38;5;241m.\u001b[39mhandles \u001b[38;5;241m=\u001b[39m get_handle(\n\u001b[0;32m   1736\u001b[0m     f,\n\u001b[0;32m   1737\u001b[0m     mode,\n\u001b[0;32m   1738\u001b[0m     encoding\u001b[38;5;241m=\u001b[39m\u001b[38;5;28mself\u001b[39m\u001b[38;5;241m.\u001b[39moptions\u001b[38;5;241m.\u001b[39mget(\u001b[38;5;124m\"\u001b[39m\u001b[38;5;124mencoding\u001b[39m\u001b[38;5;124m\"\u001b[39m, \u001b[38;5;28;01mNone\u001b[39;00m),\n\u001b[0;32m   1739\u001b[0m     compression\u001b[38;5;241m=\u001b[39m\u001b[38;5;28mself\u001b[39m\u001b[38;5;241m.\u001b[39moptions\u001b[38;5;241m.\u001b[39mget(\u001b[38;5;124m\"\u001b[39m\u001b[38;5;124mcompression\u001b[39m\u001b[38;5;124m\"\u001b[39m, \u001b[38;5;28;01mNone\u001b[39;00m),\n\u001b[0;32m   1740\u001b[0m     memory_map\u001b[38;5;241m=\u001b[39m\u001b[38;5;28mself\u001b[39m\u001b[38;5;241m.\u001b[39moptions\u001b[38;5;241m.\u001b[39mget(\u001b[38;5;124m\"\u001b[39m\u001b[38;5;124mmemory_map\u001b[39m\u001b[38;5;124m\"\u001b[39m, \u001b[38;5;28;01mFalse\u001b[39;00m),\n\u001b[0;32m   1741\u001b[0m     is_text\u001b[38;5;241m=\u001b[39mis_text,\n\u001b[0;32m   1742\u001b[0m     errors\u001b[38;5;241m=\u001b[39m\u001b[38;5;28mself\u001b[39m\u001b[38;5;241m.\u001b[39moptions\u001b[38;5;241m.\u001b[39mget(\u001b[38;5;124m\"\u001b[39m\u001b[38;5;124mencoding_errors\u001b[39m\u001b[38;5;124m\"\u001b[39m, \u001b[38;5;124m\"\u001b[39m\u001b[38;5;124mstrict\u001b[39m\u001b[38;5;124m\"\u001b[39m),\n\u001b[0;32m   1743\u001b[0m     storage_options\u001b[38;5;241m=\u001b[39m\u001b[38;5;28mself\u001b[39m\u001b[38;5;241m.\u001b[39moptions\u001b[38;5;241m.\u001b[39mget(\u001b[38;5;124m\"\u001b[39m\u001b[38;5;124mstorage_options\u001b[39m\u001b[38;5;124m\"\u001b[39m, \u001b[38;5;28;01mNone\u001b[39;00m),\n\u001b[0;32m   1744\u001b[0m )\n\u001b[0;32m   1745\u001b[0m \u001b[38;5;28;01massert\u001b[39;00m \u001b[38;5;28mself\u001b[39m\u001b[38;5;241m.\u001b[39mhandles \u001b[38;5;129;01mis\u001b[39;00m \u001b[38;5;129;01mnot\u001b[39;00m \u001b[38;5;28;01mNone\u001b[39;00m\n\u001b[0;32m   1746\u001b[0m f \u001b[38;5;241m=\u001b[39m \u001b[38;5;28mself\u001b[39m\u001b[38;5;241m.\u001b[39mhandles\u001b[38;5;241m.\u001b[39mhandle\n",
      "File \u001b[1;32m~\\anaconda3\\Lib\\site-packages\\pandas\\io\\common.py:856\u001b[0m, in \u001b[0;36mget_handle\u001b[1;34m(path_or_buf, mode, encoding, compression, memory_map, is_text, errors, storage_options)\u001b[0m\n\u001b[0;32m    851\u001b[0m \u001b[38;5;28;01melif\u001b[39;00m \u001b[38;5;28misinstance\u001b[39m(handle, \u001b[38;5;28mstr\u001b[39m):\n\u001b[0;32m    852\u001b[0m     \u001b[38;5;66;03m# Check whether the filename is to be opened in binary mode.\u001b[39;00m\n\u001b[0;32m    853\u001b[0m     \u001b[38;5;66;03m# Binary mode does not support 'encoding' and 'newline'.\u001b[39;00m\n\u001b[0;32m    854\u001b[0m     \u001b[38;5;28;01mif\u001b[39;00m ioargs\u001b[38;5;241m.\u001b[39mencoding \u001b[38;5;129;01mand\u001b[39;00m \u001b[38;5;124m\"\u001b[39m\u001b[38;5;124mb\u001b[39m\u001b[38;5;124m\"\u001b[39m \u001b[38;5;129;01mnot\u001b[39;00m \u001b[38;5;129;01min\u001b[39;00m ioargs\u001b[38;5;241m.\u001b[39mmode:\n\u001b[0;32m    855\u001b[0m         \u001b[38;5;66;03m# Encoding\u001b[39;00m\n\u001b[1;32m--> 856\u001b[0m         handle \u001b[38;5;241m=\u001b[39m \u001b[38;5;28mopen\u001b[39m(\n\u001b[0;32m    857\u001b[0m             handle,\n\u001b[0;32m    858\u001b[0m             ioargs\u001b[38;5;241m.\u001b[39mmode,\n\u001b[0;32m    859\u001b[0m             encoding\u001b[38;5;241m=\u001b[39mioargs\u001b[38;5;241m.\u001b[39mencoding,\n\u001b[0;32m    860\u001b[0m             errors\u001b[38;5;241m=\u001b[39merrors,\n\u001b[0;32m    861\u001b[0m             newline\u001b[38;5;241m=\u001b[39m\u001b[38;5;124m\"\u001b[39m\u001b[38;5;124m\"\u001b[39m,\n\u001b[0;32m    862\u001b[0m         )\n\u001b[0;32m    863\u001b[0m     \u001b[38;5;28;01melse\u001b[39;00m:\n\u001b[0;32m    864\u001b[0m         \u001b[38;5;66;03m# Binary mode\u001b[39;00m\n\u001b[0;32m    865\u001b[0m         handle \u001b[38;5;241m=\u001b[39m \u001b[38;5;28mopen\u001b[39m(handle, ioargs\u001b[38;5;241m.\u001b[39mmode)\n",
      "\u001b[1;31mFileNotFoundError\u001b[0m: [Errno 2] No such file or directory: 'Data/Mask Mandate.csv'"
     ]
    }
   ],
   "source": [
    "mask = pd.read_csv('Data/Mask Mandate.csv')\n",
    "mask.head()"
   ]
  },
  {
   "cell_type": "code",
   "execution_count": null,
   "id": "019629d9-4176-4697-bf7a-4fd76058c8c0",
   "metadata": {
    "tags": []
   },
   "outputs": [],
   "source": [
    "mask.rename(columns = {'STATE_NAME': 'Location'},inplace=True)\n",
    "mask.drop(columns='State_Abrv', inplace=True)\n",
    "mask.head()"
   ]
  },
  {
   "cell_type": "code",
   "execution_count": null,
   "id": "a4360575-9e98-4a7f-a4ae-81435b06d566",
   "metadata": {
    "tags": []
   },
   "outputs": [],
   "source": [
    "mask.to_csv('Data/cleaned_mask.csv', index = False)"
   ]
  },
  {
   "cell_type": "markdown",
   "id": "e79ac80e-a046-40e4-bddd-2301290c0e36",
   "metadata": {},
   "source": [
    "#### Population Data:\n",
    "1. Drop index column\n",
    "2. Rename State to Location"
   ]
  },
  {
   "cell_type": "code",
   "execution_count": null,
   "id": "9d5e208d-8335-413b-83a4-51cc2a47ab5f",
   "metadata": {
    "tags": []
   },
   "outputs": [],
   "source": [
    "pop_size = pd.read_csv('Data/Population_data_2010_&_2020.csv')"
   ]
  },
  {
   "cell_type": "code",
   "execution_count": null,
   "id": "49c1a28a-6f75-4087-9c21-860bef3f64bb",
   "metadata": {
    "tags": []
   },
   "outputs": [],
   "source": [
    "pop_size['Location'] = pop_size['State']"
   ]
  },
  {
   "cell_type": "code",
   "execution_count": null,
   "id": "467870a2-e0d1-429e-b8fb-92cd87159aee",
   "metadata": {
    "tags": []
   },
   "outputs": [],
   "source": [
    "pop_size.head()"
   ]
  },
  {
   "cell_type": "code",
   "execution_count": null,
   "id": "d5dc4581-d7d8-4ac1-8077-a17001e2f1bf",
   "metadata": {
    "tags": []
   },
   "outputs": [],
   "source": [
    "pop_size.drop(columns = ['Unnamed: 0', 'State'], inplace=True)"
   ]
  },
  {
   "cell_type": "code",
   "execution_count": null,
   "id": "11c6c38a-5d43-455a-99ff-f9a7cb834cb4",
   "metadata": {
    "tags": []
   },
   "outputs": [],
   "source": [
    "pop_size.head()"
   ]
  },
  {
   "cell_type": "code",
   "execution_count": null,
   "id": "a7511d54-5f65-4882-b0fd-681f06a23e8c",
   "metadata": {
    "tags": []
   },
   "outputs": [],
   "source": [
    "pop_size.to_csv('Data/cleaned_pop_size.csv', index = False)"
   ]
  },
  {
   "cell_type": "markdown",
   "id": "3ee10bb3-201d-42ee-9f49-7f9c8c251737",
   "metadata": {
    "tags": []
   },
   "source": [
    "#### Population Density:\n",
    "1. Drop index column\n",
    "2. Rename State to Location"
   ]
  },
  {
   "cell_type": "code",
   "execution_count": null,
   "id": "fec0c48d-c163-4792-aaca-a86d799f7198",
   "metadata": {
    "tags": []
   },
   "outputs": [],
   "source": [
    "pop_dense = pd.read_csv('Data/Population_Density_data.csv')"
   ]
  },
  {
   "cell_type": "code",
   "execution_count": null,
   "id": "e02fd990-1fc1-419d-8de3-ccc7a4a262d2",
   "metadata": {
    "tags": []
   },
   "outputs": [],
   "source": [
    "pop_dense.head()"
   ]
  },
  {
   "cell_type": "code",
   "execution_count": null,
   "id": "b2a86edc-2a3a-4ab8-bdd4-6f0b78ae847e",
   "metadata": {
    "tags": []
   },
   "outputs": [],
   "source": [
    "pop_dense.rename(columns={'State': 'Location'}, inplace=True)\n",
    "pop_dense.drop(columns='Unnamed: 0', inplace=True)"
   ]
  },
  {
   "cell_type": "code",
   "execution_count": null,
   "id": "0420f33e-15f4-4511-b63a-49a59a534182",
   "metadata": {
    "tags": []
   },
   "outputs": [],
   "source": [
    "pop_dense.head()"
   ]
  },
  {
   "cell_type": "code",
   "execution_count": null,
   "id": "c7504351-5da5-47ab-8b1c-79dd15404706",
   "metadata": {
    "tags": []
   },
   "outputs": [],
   "source": [
    "pop_dense.to_csv('Data/cleaned_pop_dense.csv', index = False)"
   ]
  },
  {
   "cell_type": "markdown",
   "id": "6d2be518-4c75-41f6-8176-6f53433f2fc3",
   "metadata": {},
   "source": [
    "#### Total Employment:\n",
    "1. Rename columns with values of row 1\n",
    "2. Rename year columns to total_employment_year\n",
    "3. Rename GeoName to Location\n",
    "4. Drop GeoFips"
   ]
  },
  {
   "cell_type": "markdown",
   "id": "6ac2fe4c-da79-4179-b73a-887d60a2003b",
   "metadata": {},
   "source": [
    "#### Total Physicians:\n",
    "- "
   ]
  },
  {
   "cell_type": "markdown",
   "id": "aedf6c74-20c9-431c-b8f7-71cb3fcafa69",
   "metadata": {},
   "source": [
    "# Merging Cleaned Datasets"
   ]
  },
  {
   "cell_type": "code",
   "execution_count": null,
   "id": "cd2abe99-fb7e-4fef-b10c-525889d0b1ee",
   "metadata": {},
   "outputs": [],
   "source": []
  },
  {
   "cell_type": "code",
   "execution_count": null,
   "id": "0fbcefda-93f2-475f-b4e9-8cf1a416948d",
   "metadata": {},
   "outputs": [],
   "source": []
  },
  {
   "cell_type": "markdown",
   "id": "acfeff11-7a8a-433b-93e1-669f7b11e27f",
   "metadata": {},
   "source": [
    "# County-Level Data"
   ]
  },
  {
   "cell_type": "markdown",
   "id": "8a1118d0-dd09-48d9-af6b-206d968053ae",
   "metadata": {},
   "source": [
    "#### County conditions"
   ]
  },
  {
   "cell_type": "code",
   "execution_count": null,
   "id": "20ed34d7-0d3c-4db5-9a63-7a62a6cb6ef0",
   "metadata": {
    "tags": []
   },
   "outputs": [],
   "source": [
    "county_cond = pd.read_csv('Data/2019 County Health Rankings Data - cleaned.csv')"
   ]
  },
  {
   "cell_type": "code",
   "execution_count": null,
   "id": "f7231c79-0a5a-4a1f-8c05-7b0f85cf6147",
   "metadata": {
    "tags": []
   },
   "outputs": [],
   "source": [
    "county_cond.shape"
   ]
  },
  {
   "cell_type": "code",
   "execution_count": null,
   "id": "19c499e2-2b48-4ed6-a527-5f9c42edc5c6",
   "metadata": {
    "tags": []
   },
   "outputs": [],
   "source": [
    "county_cond.head()"
   ]
  },
  {
   "cell_type": "code",
   "execution_count": null,
   "id": "f1d54097-b205-4d2c-982b-51f6d848c34f",
   "metadata": {
    "tags": []
   },
   "outputs": [],
   "source": [
    "county_cond.dtypes"
   ]
  },
  {
   "cell_type": "markdown",
   "id": "fa8c7f84-ff76-49a4-bb8a-01f63aecc882",
   "metadata": {
    "tags": []
   },
   "source": [
    "#### Covid Vaccination Rates by county "
   ]
  },
  {
   "cell_type": "code",
   "execution_count": 84,
   "id": "1d86c03d-317a-45b8-bc5e-885311682c8d",
   "metadata": {
    "tags": []
   },
   "outputs": [],
   "source": [
    "covid_vax = pd.read_csv('Ignore/COVID-19_Vaccinations_by_county.csv')"
   ]
  },
  {
   "cell_type": "code",
   "execution_count": 85,
   "id": "a76c0f38-134e-4362-a92c-d670b51451f3",
   "metadata": {
    "tags": []
   },
   "outputs": [
    {
     "data": {
      "text/plain": [
       "(871062, 15)"
      ]
     },
     "execution_count": 85,
     "metadata": {},
     "output_type": "execute_result"
    }
   ],
   "source": [
    "covid_vax.shape"
   ]
  },
  {
   "cell_type": "code",
   "execution_count": 86,
   "id": "459b629c-8a99-44d7-91ad-e95badf57471",
   "metadata": {
    "tags": []
   },
   "outputs": [
    {
     "data": {
      "text/html": [
       "<div>\n",
       "<style scoped>\n",
       "    .dataframe tbody tr th:only-of-type {\n",
       "        vertical-align: middle;\n",
       "    }\n",
       "\n",
       "    .dataframe tbody tr th {\n",
       "        vertical-align: top;\n",
       "    }\n",
       "\n",
       "    .dataframe thead th {\n",
       "        text-align: right;\n",
       "    }\n",
       "</style>\n",
       "<table border=\"1\" class=\"dataframe\">\n",
       "  <thead>\n",
       "    <tr style=\"text-align: right;\">\n",
       "      <th></th>\n",
       "      <th>Date</th>\n",
       "      <th>FIPS</th>\n",
       "      <th>MMWR_week</th>\n",
       "      <th>Recip_County</th>\n",
       "      <th>Recip_State</th>\n",
       "      <th>Administered_Dose1_Pop_Pct</th>\n",
       "      <th>Administered_Dose1_Recip_65PlusPop_Pct</th>\n",
       "      <th>Series_Complete_Pop_Pct</th>\n",
       "      <th>Series_Complete_65PlusPop_Pct</th>\n",
       "      <th>Booster_Doses_Vax_Pct</th>\n",
       "      <th>Booster_Doses_50Plus_Vax_Pct</th>\n",
       "      <th>Booster_Doses_65Plus_Vax_Pct</th>\n",
       "      <th>Metro_status</th>\n",
       "      <th>Census2019</th>\n",
       "      <th>Census2019_65PlusPop</th>\n",
       "    </tr>\n",
       "  </thead>\n",
       "  <tbody>\n",
       "    <tr>\n",
       "      <th>0</th>\n",
       "      <td>12/28/2022</td>\n",
       "      <td>2013</td>\n",
       "      <td>52</td>\n",
       "      <td>Aleutians East Borough</td>\n",
       "      <td>AK</td>\n",
       "      <td>86.9</td>\n",
       "      <td>55.0</td>\n",
       "      <td>74.9</td>\n",
       "      <td>49.9</td>\n",
       "      <td>41.4</td>\n",
       "      <td>59.0</td>\n",
       "      <td>80.6</td>\n",
       "      <td>Non-metro</td>\n",
       "      <td>3337.0</td>\n",
       "      <td>351.0</td>\n",
       "    </tr>\n",
       "    <tr>\n",
       "      <th>1</th>\n",
       "      <td>12/28/2022</td>\n",
       "      <td>2016</td>\n",
       "      <td>52</td>\n",
       "      <td>Aleutians West Census Area</td>\n",
       "      <td>AK</td>\n",
       "      <td>77.8</td>\n",
       "      <td>69.9</td>\n",
       "      <td>64.2</td>\n",
       "      <td>59.9</td>\n",
       "      <td>38.6</td>\n",
       "      <td>59.8</td>\n",
       "      <td>76.1</td>\n",
       "      <td>Non-metro</td>\n",
       "      <td>5634.0</td>\n",
       "      <td>419.0</td>\n",
       "    </tr>\n",
       "    <tr>\n",
       "      <th>2</th>\n",
       "      <td>12/28/2022</td>\n",
       "      <td>2020</td>\n",
       "      <td>52</td>\n",
       "      <td>Anchorage Municipality</td>\n",
       "      <td>AK</td>\n",
       "      <td>79.5</td>\n",
       "      <td>95.0</td>\n",
       "      <td>70.8</td>\n",
       "      <td>95.0</td>\n",
       "      <td>49.8</td>\n",
       "      <td>67.9</td>\n",
       "      <td>77.7</td>\n",
       "      <td>Metro</td>\n",
       "      <td>288000.0</td>\n",
       "      <td>33757.0</td>\n",
       "    </tr>\n",
       "    <tr>\n",
       "      <th>3</th>\n",
       "      <td>12/28/2022</td>\n",
       "      <td>2050</td>\n",
       "      <td>52</td>\n",
       "      <td>Bethel Census Area</td>\n",
       "      <td>AK</td>\n",
       "      <td>74.0</td>\n",
       "      <td>89.3</td>\n",
       "      <td>68.7</td>\n",
       "      <td>86.0</td>\n",
       "      <td>51.8</td>\n",
       "      <td>74.9</td>\n",
       "      <td>82.9</td>\n",
       "      <td>Non-metro</td>\n",
       "      <td>18386.0</td>\n",
       "      <td>1448.0</td>\n",
       "    </tr>\n",
       "    <tr>\n",
       "      <th>4</th>\n",
       "      <td>12/28/2022</td>\n",
       "      <td>2060</td>\n",
       "      <td>52</td>\n",
       "      <td>Bristol Bay Borough</td>\n",
       "      <td>AK</td>\n",
       "      <td>95.0</td>\n",
       "      <td>95.0</td>\n",
       "      <td>95.0</td>\n",
       "      <td>91.2</td>\n",
       "      <td>41.0</td>\n",
       "      <td>67.6</td>\n",
       "      <td>88.7</td>\n",
       "      <td>Non-metro</td>\n",
       "      <td>836.0</td>\n",
       "      <td>136.0</td>\n",
       "    </tr>\n",
       "  </tbody>\n",
       "</table>\n",
       "</div>"
      ],
      "text/plain": [
       "         Date  FIPS  MMWR_week                Recip_County Recip_State  \\\n",
       "0  12/28/2022  2013         52      Aleutians East Borough          AK   \n",
       "1  12/28/2022  2016         52  Aleutians West Census Area          AK   \n",
       "2  12/28/2022  2020         52      Anchorage Municipality          AK   \n",
       "3  12/28/2022  2050         52          Bethel Census Area          AK   \n",
       "4  12/28/2022  2060         52         Bristol Bay Borough          AK   \n",
       "\n",
       "   Administered_Dose1_Pop_Pct  Administered_Dose1_Recip_65PlusPop_Pct  \\\n",
       "0                        86.9                                    55.0   \n",
       "1                        77.8                                    69.9   \n",
       "2                        79.5                                    95.0   \n",
       "3                        74.0                                    89.3   \n",
       "4                        95.0                                    95.0   \n",
       "\n",
       "   Series_Complete_Pop_Pct  Series_Complete_65PlusPop_Pct  \\\n",
       "0                     74.9                           49.9   \n",
       "1                     64.2                           59.9   \n",
       "2                     70.8                           95.0   \n",
       "3                     68.7                           86.0   \n",
       "4                     95.0                           91.2   \n",
       "\n",
       "   Booster_Doses_Vax_Pct  Booster_Doses_50Plus_Vax_Pct  \\\n",
       "0                   41.4                          59.0   \n",
       "1                   38.6                          59.8   \n",
       "2                   49.8                          67.9   \n",
       "3                   51.8                          74.9   \n",
       "4                   41.0                          67.6   \n",
       "\n",
       "   Booster_Doses_65Plus_Vax_Pct Metro_status  Census2019  Census2019_65PlusPop  \n",
       "0                          80.6    Non-metro      3337.0                 351.0  \n",
       "1                          76.1    Non-metro      5634.0                 419.0  \n",
       "2                          77.7        Metro    288000.0               33757.0  \n",
       "3                          82.9    Non-metro     18386.0                1448.0  \n",
       "4                          88.7    Non-metro       836.0                 136.0  "
      ]
     },
     "execution_count": 86,
     "metadata": {},
     "output_type": "execute_result"
    }
   ],
   "source": [
    "covid_vax.head()"
   ]
  },
  {
   "cell_type": "code",
   "execution_count": null,
   "id": "7bbdbbd8-abfa-4f2a-a101-b3b534809811",
   "metadata": {},
   "outputs": [],
   "source": [
    "county_fips = covid_vax[[FIPS"
   ]
  },
  {
   "cell_type": "code",
   "execution_count": null,
   "id": "2e3fc994-f612-41d6-9ba9-9c394b04b764",
   "metadata": {
    "tags": []
   },
   "outputs": [],
   "source": [
    "# What dates do I want to keep?\n",
    "9/18/2021\n",
    "covid_vax[covid_vax['Date'] == '11/18/2021'].shape"
   ]
  },
  {
   "cell_type": "code",
   "execution_count": null,
   "id": "84160260-366b-4eac-9ddd-a79c89974a9d",
   "metadata": {
    "tags": []
   },
   "outputs": [],
   "source": [
    "covid_vax[covid_vax['Date'] == '9/18/2021'].shape"
   ]
  },
  {
   "cell_type": "code",
   "execution_count": null,
   "id": "6727bb9d-5a0d-43c5-86b2-88db1f2bd399",
   "metadata": {
    "tags": []
   },
   "outputs": [],
   "source": [
    "covid_vax[covid_vax['Date'] == '12/18/2021'].shape"
   ]
  },
  {
   "cell_type": "code",
   "execution_count": null,
   "id": "8fb0df77-1bb4-4d61-89cd-182ccdbad620",
   "metadata": {
    "tags": []
   },
   "outputs": [],
   "source": [
    "covid_vax[covid_vax['Date'] == '1/31/2022'].shape"
   ]
  },
  {
   "cell_type": "code",
   "execution_count": null,
   "id": "3a783f72-eb1b-4b25-8388-724f7ce43f67",
   "metadata": {
    "tags": []
   },
   "outputs": [],
   "source": [
    "covid_vax[covid_vax['Date'] == '4/30/2022'].shape"
   ]
  },
  {
   "cell_type": "code",
   "execution_count": null,
   "id": "ab0b7c85-b8dd-425c-a8db-d60cd2460143",
   "metadata": {},
   "outputs": [],
   "source": [
    "covid_vax[covid_vax['Date'] == '10/18/2021'].shape"
   ]
  },
  {
   "cell_type": "code",
   "execution_count": null,
   "id": "8f7490a8-a0e2-4b78-b871-5f6dd0365c35",
   "metadata": {},
   "outputs": [],
   "source": []
  },
  {
   "cell_type": "markdown",
   "id": "873de672-7bed-4b39-9ac2-c72045b94376",
   "metadata": {},
   "source": [
    "#### Covid Cases"
   ]
  },
  {
   "cell_type": "code",
   "execution_count": 87,
   "id": "c0770000-6067-4234-bc18-4aa3f57a328f",
   "metadata": {
    "tags": []
   },
   "outputs": [],
   "source": [
    "cases = pd.read_csv('Ignore/covid_confirmed_usafacts.csv')"
   ]
  },
  {
   "cell_type": "code",
   "execution_count": null,
   "id": "776e58ce-c00c-445e-acef-d4d469ad3737",
   "metadata": {
    "tags": []
   },
   "outputs": [],
   "source": [
    "cases.head()"
   ]
  },
  {
   "cell_type": "code",
   "execution_count": null,
   "id": "e86aa0ec-74f3-41e4-91a3-d119b61bfc01",
   "metadata": {
    "tags": []
   },
   "outputs": [],
   "source": [
    "cases.shape"
   ]
  },
  {
   "cell_type": "code",
   "execution_count": null,
   "id": "d00a3226-d201-4c40-a0a9-cbd8c37f5655",
   "metadata": {
    "tags": []
   },
   "outputs": [],
   "source": [
    "cases.describe()"
   ]
  },
  {
   "cell_type": "code",
   "execution_count": 88,
   "id": "7d3f5c7a-4a45-4cc7-ab34-51716d4a2ff2",
   "metadata": {
    "tags": []
   },
   "outputs": [],
   "source": [
    "cases['County'] = cases['County Name'].str.replace(r'\\bCounty\\b', '', regex=True).str.strip()"
   ]
  },
  {
   "cell_type": "code",
   "execution_count": 89,
   "id": "5d4a199b-15df-4b91-a3d4-5853f3796b8d",
   "metadata": {
    "tags": []
   },
   "outputs": [
    {
     "data": {
      "text/html": [
       "<div>\n",
       "<style scoped>\n",
       "    .dataframe tbody tr th:only-of-type {\n",
       "        vertical-align: middle;\n",
       "    }\n",
       "\n",
       "    .dataframe tbody tr th {\n",
       "        vertical-align: top;\n",
       "    }\n",
       "\n",
       "    .dataframe thead th {\n",
       "        text-align: right;\n",
       "    }\n",
       "</style>\n",
       "<table border=\"1\" class=\"dataframe\">\n",
       "  <thead>\n",
       "    <tr style=\"text-align: right;\">\n",
       "      <th></th>\n",
       "      <th>countyFIPS</th>\n",
       "      <th>County Name</th>\n",
       "      <th>State</th>\n",
       "      <th>StateFIPS</th>\n",
       "      <th>2020-01-22</th>\n",
       "      <th>2020-01-23</th>\n",
       "      <th>2020-01-24</th>\n",
       "      <th>2020-01-25</th>\n",
       "      <th>2020-01-26</th>\n",
       "      <th>2020-01-27</th>\n",
       "      <th>...</th>\n",
       "      <th>2023-07-15</th>\n",
       "      <th>2023-07-16</th>\n",
       "      <th>2023-07-17</th>\n",
       "      <th>2023-07-18</th>\n",
       "      <th>2023-07-19</th>\n",
       "      <th>2023-07-20</th>\n",
       "      <th>2023-07-21</th>\n",
       "      <th>2023-07-22</th>\n",
       "      <th>2023-07-23</th>\n",
       "      <th>County</th>\n",
       "    </tr>\n",
       "  </thead>\n",
       "  <tbody>\n",
       "    <tr>\n",
       "      <th>0</th>\n",
       "      <td>0</td>\n",
       "      <td>Statewide Unallocated</td>\n",
       "      <td>AL</td>\n",
       "      <td>1</td>\n",
       "      <td>0</td>\n",
       "      <td>0</td>\n",
       "      <td>0</td>\n",
       "      <td>0</td>\n",
       "      <td>0</td>\n",
       "      <td>0</td>\n",
       "      <td>...</td>\n",
       "      <td>0</td>\n",
       "      <td>0</td>\n",
       "      <td>0</td>\n",
       "      <td>0</td>\n",
       "      <td>0</td>\n",
       "      <td>0</td>\n",
       "      <td>0</td>\n",
       "      <td>0</td>\n",
       "      <td>0</td>\n",
       "      <td>Statewide Unallocated</td>\n",
       "    </tr>\n",
       "    <tr>\n",
       "      <th>1</th>\n",
       "      <td>1001</td>\n",
       "      <td>Autauga County</td>\n",
       "      <td>AL</td>\n",
       "      <td>1</td>\n",
       "      <td>0</td>\n",
       "      <td>0</td>\n",
       "      <td>0</td>\n",
       "      <td>0</td>\n",
       "      <td>0</td>\n",
       "      <td>0</td>\n",
       "      <td>...</td>\n",
       "      <td>19913</td>\n",
       "      <td>19913</td>\n",
       "      <td>19913</td>\n",
       "      <td>19913</td>\n",
       "      <td>19913</td>\n",
       "      <td>19913</td>\n",
       "      <td>19913</td>\n",
       "      <td>19913</td>\n",
       "      <td>19913</td>\n",
       "      <td>Autauga</td>\n",
       "    </tr>\n",
       "    <tr>\n",
       "      <th>2</th>\n",
       "      <td>1003</td>\n",
       "      <td>Baldwin County</td>\n",
       "      <td>AL</td>\n",
       "      <td>1</td>\n",
       "      <td>0</td>\n",
       "      <td>0</td>\n",
       "      <td>0</td>\n",
       "      <td>0</td>\n",
       "      <td>0</td>\n",
       "      <td>0</td>\n",
       "      <td>...</td>\n",
       "      <td>70521</td>\n",
       "      <td>70521</td>\n",
       "      <td>70521</td>\n",
       "      <td>70521</td>\n",
       "      <td>70521</td>\n",
       "      <td>70521</td>\n",
       "      <td>70521</td>\n",
       "      <td>70521</td>\n",
       "      <td>70521</td>\n",
       "      <td>Baldwin</td>\n",
       "    </tr>\n",
       "    <tr>\n",
       "      <th>3</th>\n",
       "      <td>1005</td>\n",
       "      <td>Barbour County</td>\n",
       "      <td>AL</td>\n",
       "      <td>1</td>\n",
       "      <td>0</td>\n",
       "      <td>0</td>\n",
       "      <td>0</td>\n",
       "      <td>0</td>\n",
       "      <td>0</td>\n",
       "      <td>0</td>\n",
       "      <td>...</td>\n",
       "      <td>7582</td>\n",
       "      <td>7582</td>\n",
       "      <td>7582</td>\n",
       "      <td>7582</td>\n",
       "      <td>7582</td>\n",
       "      <td>7582</td>\n",
       "      <td>7582</td>\n",
       "      <td>7582</td>\n",
       "      <td>7582</td>\n",
       "      <td>Barbour</td>\n",
       "    </tr>\n",
       "    <tr>\n",
       "      <th>4</th>\n",
       "      <td>1007</td>\n",
       "      <td>Bibb County</td>\n",
       "      <td>AL</td>\n",
       "      <td>1</td>\n",
       "      <td>0</td>\n",
       "      <td>0</td>\n",
       "      <td>0</td>\n",
       "      <td>0</td>\n",
       "      <td>0</td>\n",
       "      <td>0</td>\n",
       "      <td>...</td>\n",
       "      <td>8149</td>\n",
       "      <td>8149</td>\n",
       "      <td>8149</td>\n",
       "      <td>8149</td>\n",
       "      <td>8149</td>\n",
       "      <td>8149</td>\n",
       "      <td>8149</td>\n",
       "      <td>8149</td>\n",
       "      <td>8149</td>\n",
       "      <td>Bibb</td>\n",
       "    </tr>\n",
       "  </tbody>\n",
       "</table>\n",
       "<p>5 rows × 1270 columns</p>\n",
       "</div>"
      ],
      "text/plain": [
       "   countyFIPS            County Name State  StateFIPS  2020-01-22  2020-01-23  \\\n",
       "0           0  Statewide Unallocated    AL          1           0           0   \n",
       "1        1001        Autauga County     AL          1           0           0   \n",
       "2        1003        Baldwin County     AL          1           0           0   \n",
       "3        1005        Barbour County     AL          1           0           0   \n",
       "4        1007           Bibb County     AL          1           0           0   \n",
       "\n",
       "   2020-01-24  2020-01-25  2020-01-26  2020-01-27  ...  2023-07-15  \\\n",
       "0           0           0           0           0  ...           0   \n",
       "1           0           0           0           0  ...       19913   \n",
       "2           0           0           0           0  ...       70521   \n",
       "3           0           0           0           0  ...        7582   \n",
       "4           0           0           0           0  ...        8149   \n",
       "\n",
       "   2023-07-16  2023-07-17  2023-07-18  2023-07-19  2023-07-20  2023-07-21  \\\n",
       "0           0           0           0           0           0           0   \n",
       "1       19913       19913       19913       19913       19913       19913   \n",
       "2       70521       70521       70521       70521       70521       70521   \n",
       "3        7582        7582        7582        7582        7582        7582   \n",
       "4        8149        8149        8149        8149        8149        8149   \n",
       "\n",
       "   2023-07-22  2023-07-23                 County  \n",
       "0           0           0  Statewide Unallocated  \n",
       "1       19913       19913                Autauga  \n",
       "2       70521       70521                Baldwin  \n",
       "3        7582        7582                Barbour  \n",
       "4        8149        8149                   Bibb  \n",
       "\n",
       "[5 rows x 1270 columns]"
      ]
     },
     "execution_count": 89,
     "metadata": {},
     "output_type": "execute_result"
    }
   ],
   "source": [
    "cases.head()"
   ]
  },
  {
   "cell_type": "code",
   "execution_count": 90,
   "id": "d6fd6a3c-9860-4b31-9090-6dae7afbb99c",
   "metadata": {
    "tags": []
   },
   "outputs": [],
   "source": [
    "county_fips = cases[['countyFIPS', 'County Name', 'State']]"
   ]
  },
  {
   "cell_type": "code",
   "execution_count": 91,
   "id": "442c44fd-0d1a-4164-a34b-ea4b00297cea",
   "metadata": {
    "tags": []
   },
   "outputs": [
    {
     "data": {
      "text/html": [
       "<div>\n",
       "<style scoped>\n",
       "    .dataframe tbody tr th:only-of-type {\n",
       "        vertical-align: middle;\n",
       "    }\n",
       "\n",
       "    .dataframe tbody tr th {\n",
       "        vertical-align: top;\n",
       "    }\n",
       "\n",
       "    .dataframe thead th {\n",
       "        text-align: right;\n",
       "    }\n",
       "</style>\n",
       "<table border=\"1\" class=\"dataframe\">\n",
       "  <thead>\n",
       "    <tr style=\"text-align: right;\">\n",
       "      <th></th>\n",
       "      <th>countyFIPS</th>\n",
       "      <th>County Name</th>\n",
       "      <th>State</th>\n",
       "    </tr>\n",
       "  </thead>\n",
       "  <tbody>\n",
       "    <tr>\n",
       "      <th>0</th>\n",
       "      <td>0</td>\n",
       "      <td>Statewide Unallocated</td>\n",
       "      <td>AL</td>\n",
       "    </tr>\n",
       "    <tr>\n",
       "      <th>1</th>\n",
       "      <td>1001</td>\n",
       "      <td>Autauga County</td>\n",
       "      <td>AL</td>\n",
       "    </tr>\n",
       "    <tr>\n",
       "      <th>2</th>\n",
       "      <td>1003</td>\n",
       "      <td>Baldwin County</td>\n",
       "      <td>AL</td>\n",
       "    </tr>\n",
       "    <tr>\n",
       "      <th>3</th>\n",
       "      <td>1005</td>\n",
       "      <td>Barbour County</td>\n",
       "      <td>AL</td>\n",
       "    </tr>\n",
       "    <tr>\n",
       "      <th>4</th>\n",
       "      <td>1007</td>\n",
       "      <td>Bibb County</td>\n",
       "      <td>AL</td>\n",
       "    </tr>\n",
       "  </tbody>\n",
       "</table>\n",
       "</div>"
      ],
      "text/plain": [
       "   countyFIPS            County Name State\n",
       "0           0  Statewide Unallocated    AL\n",
       "1        1001        Autauga County     AL\n",
       "2        1003        Baldwin County     AL\n",
       "3        1005        Barbour County     AL\n",
       "4        1007           Bibb County     AL"
      ]
     },
     "execution_count": 91,
     "metadata": {},
     "output_type": "execute_result"
    }
   ],
   "source": [
    "county_fips.head()"
   ]
  },
  {
   "cell_type": "code",
   "execution_count": 92,
   "id": "4a682331-9bd0-4433-a073-136760ffe6a1",
   "metadata": {
    "tags": []
   },
   "outputs": [
    {
     "data": {
      "text/plain": [
       "(3193, 3)"
      ]
     },
     "execution_count": 92,
     "metadata": {},
     "output_type": "execute_result"
    }
   ],
   "source": [
    "county_fips.shape"
   ]
  },
  {
   "cell_type": "code",
   "execution_count": 93,
   "id": "2111182c-129e-4c1a-9488-b1622044df0f",
   "metadata": {
    "tags": []
   },
   "outputs": [],
   "source": [
    "county_fips.to_csv('Data/county_fips.csv')"
   ]
  },
  {
   "cell_type": "code",
   "execution_count": null,
   "id": "e4377b8c-4ac9-4c5d-8e3a-bb72aecf918e",
   "metadata": {
    "tags": []
   },
   "outputs": [],
   "source": [
    "cases_county = cases[['countyFIPS', \n",
    "              'County', \n",
    "              'State', \n",
    "              'StateFIPS', \n",
    "              '2020-01-22', \n",
    "              '2020-05-01', \n",
    "              '2020-01-22',\n",
    "              '2020-09-01',\n",
    "              '2020-12-31',\n",
    "              '2021-04-30',\n",
    "              '2021-08-31',\n",
    "              '2021-07-02',\n",
    "              '2021-12-31',\n",
    "              '2022-04-01',\n",
    "              '2022-07-02',\n",
    "              '2022-12-31']]"
   ]
  },
  {
   "cell_type": "code",
   "execution_count": null,
   "id": "0dc84b17-31f9-449f-b726-2e349557f52f",
   "metadata": {
    "tags": []
   },
   "outputs": [],
   "source": [
    "cases_county.shape"
   ]
  },
  {
   "cell_type": "code",
   "execution_count": null,
   "id": "466d7627-fd8c-4fb4-b7d6-68e0226a712f",
   "metadata": {
    "tags": []
   },
   "outputs": [],
   "source": [
    "cases_county.head()"
   ]
  },
  {
   "cell_type": "code",
   "execution_count": null,
   "id": "189f4ff1-c27c-43f0-ae50-3e71576076ec",
   "metadata": {
    "tags": []
   },
   "outputs": [],
   "source": [
    "cases_county[cases_county['2022-12-31'] == 0].shape"
   ]
  },
  {
   "cell_type": "code",
   "execution_count": null,
   "id": "608e15a2-778a-42f0-b59f-62cad629e79b",
   "metadata": {
    "tags": []
   },
   "outputs": [],
   "source": [
    "cases_county[cases_county['County'] == 'Statewide Unallocated']"
   ]
  },
  {
   "cell_type": "markdown",
   "id": "685892ec-349d-4a20-a230-62bca00a468a",
   "metadata": {},
   "source": [
    "***We need to determine how we want to handle the Statewide Unallocated- increase the number of cases per county based on the county's portion of the population?***\n",
    "\n",
    "- to handle it this way we would need to append the county population size to this df/ merge with a different df\n",
    "- then calculate pop_prop = county_pop/ state_pop\n",
    "- then increase covid cases for each county within a state "
   ]
  },
  {
   "cell_type": "code",
   "execution_count": null,
   "id": "6035d20c-eed5-468b-a5bc-3e3008921ec9",
   "metadata": {},
   "outputs": [],
   "source": [
    "for state, abrv in state_list:\n",
    "    state_abrv \n",
    "    pop['population'] == sum(county['population'] if county['State'] == state_abrv)"
   ]
  },
  {
   "cell_type": "code",
   "execution_count": null,
   "id": "20919414-e3f5-43b3-b0f4-8f3031b2d884",
   "metadata": {},
   "outputs": [],
   "source": []
  },
  {
   "cell_type": "code",
   "execution_count": null,
   "id": "896d4601-cbd5-464d-8b8c-b3ea1a23263f",
   "metadata": {},
   "outputs": [],
   "source": []
  },
  {
   "cell_type": "code",
   "execution_count": null,
   "id": "51991524-9eec-409f-ba31-e50f7f2996ba",
   "metadata": {
    "tags": []
   },
   "outputs": [],
   "source": [
    "# getting sum of each states excess deaths \n",
    "#def excess_deaths(deaths, start_year=2017, end_year=2022):\n",
    "    #state_totals = {state: [0] * (end_year - start_year + 1) for state in \n",
    "                    deaths['State'].unique()}\n",
    "    \n",
    "   # for index, row in deaths.iterrows():\n",
    "       # state = row['State']\n",
    "      #  year = row['Year']\n",
    "       # excess_estimate = row['Excess Estimate']\n",
    "        \n",
    "       # if start_year <= year <= end_year:\n",
    "     #       state_totals[state][year - start_year] += excess_estimate\n",
    "\n",
    "  #  result = pd.DataFrame(state_totals).T.reset_index()\n",
    "   # result.columns = ['State'] + [f'Exc_deaths_{year}' for year in \n",
    "                                  range(start_year, end_year + 1)]\n",
    "    \n",
    "  #  return result\n",
    "\n",
    "\n",
    "excess_deaths = excess_deaths(deaths)\n",
    "excess_deaths.head()\n"
   ]
  },
  {
   "cell_type": "code",
   "execution_count": null,
   "id": "0cbf081e-66b7-4aa3-a74a-143d05a07eaa",
   "metadata": {},
   "outputs": [],
   "source": []
  },
  {
   "cell_type": "code",
   "execution_count": 3,
   "id": "06c253c1-1345-4cb9-8370-88138c359a93",
   "metadata": {
    "tags": []
   },
   "outputs": [],
   "source": [
    "deaths = pd.read_csv('Ignore/covid_deaths_usafacts.csv')"
   ]
  },
  {
   "cell_type": "code",
   "execution_count": 4,
   "id": "dde627a7-8123-4fc8-8cb9-37aa234beb02",
   "metadata": {
    "tags": []
   },
   "outputs": [
    {
     "data": {
      "text/plain": [
       "(3193, 1269)"
      ]
     },
     "execution_count": 4,
     "metadata": {},
     "output_type": "execute_result"
    }
   ],
   "source": [
    "deaths.shape"
   ]
  },
  {
   "cell_type": "code",
   "execution_count": 5,
   "id": "8f4c5079-99d4-4e48-ae78-96789cd08269",
   "metadata": {
    "tags": []
   },
   "outputs": [
    {
     "data": {
      "text/html": [
       "<div>\n",
       "<style scoped>\n",
       "    .dataframe tbody tr th:only-of-type {\n",
       "        vertical-align: middle;\n",
       "    }\n",
       "\n",
       "    .dataframe tbody tr th {\n",
       "        vertical-align: top;\n",
       "    }\n",
       "\n",
       "    .dataframe thead th {\n",
       "        text-align: right;\n",
       "    }\n",
       "</style>\n",
       "<table border=\"1\" class=\"dataframe\">\n",
       "  <thead>\n",
       "    <tr style=\"text-align: right;\">\n",
       "      <th></th>\n",
       "      <th>countyFIPS</th>\n",
       "      <th>County Name</th>\n",
       "      <th>State</th>\n",
       "      <th>StateFIPS</th>\n",
       "      <th>2020-01-22</th>\n",
       "      <th>2020-01-23</th>\n",
       "      <th>2020-01-24</th>\n",
       "      <th>2020-01-25</th>\n",
       "      <th>2020-01-26</th>\n",
       "      <th>2020-01-27</th>\n",
       "      <th>...</th>\n",
       "      <th>2023-07-14</th>\n",
       "      <th>2023-07-15</th>\n",
       "      <th>2023-07-16</th>\n",
       "      <th>2023-07-17</th>\n",
       "      <th>2023-07-18</th>\n",
       "      <th>2023-07-19</th>\n",
       "      <th>2023-07-20</th>\n",
       "      <th>2023-07-21</th>\n",
       "      <th>2023-07-22</th>\n",
       "      <th>2023-07-23</th>\n",
       "    </tr>\n",
       "  </thead>\n",
       "  <tbody>\n",
       "    <tr>\n",
       "      <th>0</th>\n",
       "      <td>0</td>\n",
       "      <td>Statewide Unallocated</td>\n",
       "      <td>AL</td>\n",
       "      <td>1</td>\n",
       "      <td>0</td>\n",
       "      <td>0</td>\n",
       "      <td>0</td>\n",
       "      <td>0</td>\n",
       "      <td>0</td>\n",
       "      <td>0</td>\n",
       "      <td>...</td>\n",
       "      <td>0</td>\n",
       "      <td>0</td>\n",
       "      <td>0</td>\n",
       "      <td>0</td>\n",
       "      <td>0</td>\n",
       "      <td>0</td>\n",
       "      <td>0</td>\n",
       "      <td>0</td>\n",
       "      <td>0</td>\n",
       "      <td>0</td>\n",
       "    </tr>\n",
       "    <tr>\n",
       "      <th>1</th>\n",
       "      <td>1001</td>\n",
       "      <td>Autauga County</td>\n",
       "      <td>AL</td>\n",
       "      <td>1</td>\n",
       "      <td>0</td>\n",
       "      <td>0</td>\n",
       "      <td>0</td>\n",
       "      <td>0</td>\n",
       "      <td>0</td>\n",
       "      <td>0</td>\n",
       "      <td>...</td>\n",
       "      <td>235</td>\n",
       "      <td>235</td>\n",
       "      <td>235</td>\n",
       "      <td>235</td>\n",
       "      <td>235</td>\n",
       "      <td>235</td>\n",
       "      <td>235</td>\n",
       "      <td>235</td>\n",
       "      <td>235</td>\n",
       "      <td>235</td>\n",
       "    </tr>\n",
       "    <tr>\n",
       "      <th>2</th>\n",
       "      <td>1003</td>\n",
       "      <td>Baldwin County</td>\n",
       "      <td>AL</td>\n",
       "      <td>1</td>\n",
       "      <td>0</td>\n",
       "      <td>0</td>\n",
       "      <td>0</td>\n",
       "      <td>0</td>\n",
       "      <td>0</td>\n",
       "      <td>0</td>\n",
       "      <td>...</td>\n",
       "      <td>731</td>\n",
       "      <td>731</td>\n",
       "      <td>731</td>\n",
       "      <td>731</td>\n",
       "      <td>731</td>\n",
       "      <td>731</td>\n",
       "      <td>731</td>\n",
       "      <td>731</td>\n",
       "      <td>731</td>\n",
       "      <td>731</td>\n",
       "    </tr>\n",
       "    <tr>\n",
       "      <th>3</th>\n",
       "      <td>1005</td>\n",
       "      <td>Barbour County</td>\n",
       "      <td>AL</td>\n",
       "      <td>1</td>\n",
       "      <td>0</td>\n",
       "      <td>0</td>\n",
       "      <td>0</td>\n",
       "      <td>0</td>\n",
       "      <td>0</td>\n",
       "      <td>0</td>\n",
       "      <td>...</td>\n",
       "      <td>104</td>\n",
       "      <td>104</td>\n",
       "      <td>104</td>\n",
       "      <td>104</td>\n",
       "      <td>104</td>\n",
       "      <td>104</td>\n",
       "      <td>104</td>\n",
       "      <td>104</td>\n",
       "      <td>104</td>\n",
       "      <td>104</td>\n",
       "    </tr>\n",
       "    <tr>\n",
       "      <th>4</th>\n",
       "      <td>1007</td>\n",
       "      <td>Bibb County</td>\n",
       "      <td>AL</td>\n",
       "      <td>1</td>\n",
       "      <td>0</td>\n",
       "      <td>0</td>\n",
       "      <td>0</td>\n",
       "      <td>0</td>\n",
       "      <td>0</td>\n",
       "      <td>0</td>\n",
       "      <td>...</td>\n",
       "      <td>111</td>\n",
       "      <td>111</td>\n",
       "      <td>111</td>\n",
       "      <td>111</td>\n",
       "      <td>111</td>\n",
       "      <td>111</td>\n",
       "      <td>111</td>\n",
       "      <td>111</td>\n",
       "      <td>111</td>\n",
       "      <td>111</td>\n",
       "    </tr>\n",
       "  </tbody>\n",
       "</table>\n",
       "<p>5 rows × 1269 columns</p>\n",
       "</div>"
      ],
      "text/plain": [
       "   countyFIPS            County Name State  StateFIPS  2020-01-22  2020-01-23  \\\n",
       "0           0  Statewide Unallocated    AL          1           0           0   \n",
       "1        1001        Autauga County     AL          1           0           0   \n",
       "2        1003        Baldwin County     AL          1           0           0   \n",
       "3        1005        Barbour County     AL          1           0           0   \n",
       "4        1007           Bibb County     AL          1           0           0   \n",
       "\n",
       "   2020-01-24  2020-01-25  2020-01-26  2020-01-27  ...  2023-07-14  \\\n",
       "0           0           0           0           0  ...           0   \n",
       "1           0           0           0           0  ...         235   \n",
       "2           0           0           0           0  ...         731   \n",
       "3           0           0           0           0  ...         104   \n",
       "4           0           0           0           0  ...         111   \n",
       "\n",
       "   2023-07-15  2023-07-16  2023-07-17  2023-07-18  2023-07-19  2023-07-20  \\\n",
       "0           0           0           0           0           0           0   \n",
       "1         235         235         235         235         235         235   \n",
       "2         731         731         731         731         731         731   \n",
       "3         104         104         104         104         104         104   \n",
       "4         111         111         111         111         111         111   \n",
       "\n",
       "   2023-07-21  2023-07-22  2023-07-23  \n",
       "0           0           0           0  \n",
       "1         235         235         235  \n",
       "2         731         731         731  \n",
       "3         104         104         104  \n",
       "4         111         111         111  \n",
       "\n",
       "[5 rows x 1269 columns]"
      ]
     },
     "execution_count": 5,
     "metadata": {},
     "output_type": "execute_result"
    }
   ],
   "source": [
    "deaths.head()"
   ]
  },
  {
   "cell_type": "code",
   "execution_count": 6,
   "id": "7c591bc1-1def-48bd-8e71-703a69b07f15",
   "metadata": {
    "tags": []
   },
   "outputs": [],
   "source": [
    "for i in range(5, len(deaths.columns)):\n",
    "    deaths[deaths.columns[i]] = deaths[deaths.columns[i]] + deaths[deaths.columns[i - 1]]"
   ]
  },
  {
   "cell_type": "code",
   "execution_count": 7,
   "id": "b9468a93-94f0-42a4-9fc9-7f667038340a",
   "metadata": {
    "tags": []
   },
   "outputs": [
    {
     "data": {
      "text/html": [
       "<div>\n",
       "<style scoped>\n",
       "    .dataframe tbody tr th:only-of-type {\n",
       "        vertical-align: middle;\n",
       "    }\n",
       "\n",
       "    .dataframe tbody tr th {\n",
       "        vertical-align: top;\n",
       "    }\n",
       "\n",
       "    .dataframe thead th {\n",
       "        text-align: right;\n",
       "    }\n",
       "</style>\n",
       "<table border=\"1\" class=\"dataframe\">\n",
       "  <thead>\n",
       "    <tr style=\"text-align: right;\">\n",
       "      <th></th>\n",
       "      <th>countyFIPS</th>\n",
       "      <th>County Name</th>\n",
       "      <th>State</th>\n",
       "      <th>StateFIPS</th>\n",
       "      <th>2020-01-22</th>\n",
       "      <th>2020-01-23</th>\n",
       "      <th>2020-01-24</th>\n",
       "      <th>2020-01-25</th>\n",
       "      <th>2020-01-26</th>\n",
       "      <th>2020-01-27</th>\n",
       "      <th>...</th>\n",
       "      <th>2023-07-14</th>\n",
       "      <th>2023-07-15</th>\n",
       "      <th>2023-07-16</th>\n",
       "      <th>2023-07-17</th>\n",
       "      <th>2023-07-18</th>\n",
       "      <th>2023-07-19</th>\n",
       "      <th>2023-07-20</th>\n",
       "      <th>2023-07-21</th>\n",
       "      <th>2023-07-22</th>\n",
       "      <th>2023-07-23</th>\n",
       "    </tr>\n",
       "  </thead>\n",
       "  <tbody>\n",
       "    <tr>\n",
       "      <th>0</th>\n",
       "      <td>0</td>\n",
       "      <td>Statewide Unallocated</td>\n",
       "      <td>AL</td>\n",
       "      <td>1</td>\n",
       "      <td>0</td>\n",
       "      <td>0</td>\n",
       "      <td>0</td>\n",
       "      <td>0</td>\n",
       "      <td>0</td>\n",
       "      <td>0</td>\n",
       "      <td>...</td>\n",
       "      <td>0</td>\n",
       "      <td>0</td>\n",
       "      <td>0</td>\n",
       "      <td>0</td>\n",
       "      <td>0</td>\n",
       "      <td>0</td>\n",
       "      <td>0</td>\n",
       "      <td>0</td>\n",
       "      <td>0</td>\n",
       "      <td>0</td>\n",
       "    </tr>\n",
       "    <tr>\n",
       "      <th>1</th>\n",
       "      <td>1001</td>\n",
       "      <td>Autauga County</td>\n",
       "      <td>AL</td>\n",
       "      <td>1</td>\n",
       "      <td>0</td>\n",
       "      <td>0</td>\n",
       "      <td>0</td>\n",
       "      <td>0</td>\n",
       "      <td>0</td>\n",
       "      <td>0</td>\n",
       "      <td>...</td>\n",
       "      <td>167118</td>\n",
       "      <td>167353</td>\n",
       "      <td>167588</td>\n",
       "      <td>167823</td>\n",
       "      <td>168058</td>\n",
       "      <td>168293</td>\n",
       "      <td>168528</td>\n",
       "      <td>168763</td>\n",
       "      <td>168998</td>\n",
       "      <td>169233</td>\n",
       "    </tr>\n",
       "    <tr>\n",
       "      <th>2</th>\n",
       "      <td>1003</td>\n",
       "      <td>Baldwin County</td>\n",
       "      <td>AL</td>\n",
       "      <td>1</td>\n",
       "      <td>0</td>\n",
       "      <td>0</td>\n",
       "      <td>0</td>\n",
       "      <td>0</td>\n",
       "      <td>0</td>\n",
       "      <td>0</td>\n",
       "      <td>...</td>\n",
       "      <td>528939</td>\n",
       "      <td>529670</td>\n",
       "      <td>530401</td>\n",
       "      <td>531132</td>\n",
       "      <td>531863</td>\n",
       "      <td>532594</td>\n",
       "      <td>533325</td>\n",
       "      <td>534056</td>\n",
       "      <td>534787</td>\n",
       "      <td>535518</td>\n",
       "    </tr>\n",
       "    <tr>\n",
       "      <th>3</th>\n",
       "      <td>1005</td>\n",
       "      <td>Barbour County</td>\n",
       "      <td>AL</td>\n",
       "      <td>1</td>\n",
       "      <td>0</td>\n",
       "      <td>0</td>\n",
       "      <td>0</td>\n",
       "      <td>0</td>\n",
       "      <td>0</td>\n",
       "      <td>0</td>\n",
       "      <td>...</td>\n",
       "      <td>78773</td>\n",
       "      <td>78877</td>\n",
       "      <td>78981</td>\n",
       "      <td>79085</td>\n",
       "      <td>79189</td>\n",
       "      <td>79293</td>\n",
       "      <td>79397</td>\n",
       "      <td>79501</td>\n",
       "      <td>79605</td>\n",
       "      <td>79709</td>\n",
       "    </tr>\n",
       "    <tr>\n",
       "      <th>4</th>\n",
       "      <td>1007</td>\n",
       "      <td>Bibb County</td>\n",
       "      <td>AL</td>\n",
       "      <td>1</td>\n",
       "      <td>0</td>\n",
       "      <td>0</td>\n",
       "      <td>0</td>\n",
       "      <td>0</td>\n",
       "      <td>0</td>\n",
       "      <td>0</td>\n",
       "      <td>...</td>\n",
       "      <td>85889</td>\n",
       "      <td>86000</td>\n",
       "      <td>86111</td>\n",
       "      <td>86222</td>\n",
       "      <td>86333</td>\n",
       "      <td>86444</td>\n",
       "      <td>86555</td>\n",
       "      <td>86666</td>\n",
       "      <td>86777</td>\n",
       "      <td>86888</td>\n",
       "    </tr>\n",
       "  </tbody>\n",
       "</table>\n",
       "<p>5 rows × 1269 columns</p>\n",
       "</div>"
      ],
      "text/plain": [
       "   countyFIPS            County Name State  StateFIPS  2020-01-22  2020-01-23  \\\n",
       "0           0  Statewide Unallocated    AL          1           0           0   \n",
       "1        1001        Autauga County     AL          1           0           0   \n",
       "2        1003        Baldwin County     AL          1           0           0   \n",
       "3        1005        Barbour County     AL          1           0           0   \n",
       "4        1007           Bibb County     AL          1           0           0   \n",
       "\n",
       "   2020-01-24  2020-01-25  2020-01-26  2020-01-27  ...  2023-07-14  \\\n",
       "0           0           0           0           0  ...           0   \n",
       "1           0           0           0           0  ...      167118   \n",
       "2           0           0           0           0  ...      528939   \n",
       "3           0           0           0           0  ...       78773   \n",
       "4           0           0           0           0  ...       85889   \n",
       "\n",
       "   2023-07-15  2023-07-16  2023-07-17  2023-07-18  2023-07-19  2023-07-20  \\\n",
       "0           0           0           0           0           0           0   \n",
       "1      167353      167588      167823      168058      168293      168528   \n",
       "2      529670      530401      531132      531863      532594      533325   \n",
       "3       78877       78981       79085       79189       79293       79397   \n",
       "4       86000       86111       86222       86333       86444       86555   \n",
       "\n",
       "   2023-07-21  2023-07-22  2023-07-23  \n",
       "0           0           0           0  \n",
       "1      168763      168998      169233  \n",
       "2      534056      534787      535518  \n",
       "3       79501       79605       79709  \n",
       "4       86666       86777       86888  \n",
       "\n",
       "[5 rows x 1269 columns]"
      ]
     },
     "execution_count": 7,
     "metadata": {},
     "output_type": "execute_result"
    }
   ],
   "source": [
    "deaths.head()"
   ]
  },
  {
   "cell_type": "code",


   "id": "acad947e-3b15-4cd1-8e3f-9d4c5f956ed6",
   "metadata": {},
   "outputs": [],
   "source": [
    "from sklearn.model_selection import train_test_split, cross_val_score\n",
    "from sklearn.linear_model import LinearRegression \n",
    "from sklearn.neighbors import KNeighborsRegressor \n",
    "from sklearn.tree import DecisionTreeRegressor \n",
    "from sklearn.preprocessing import StandardScaler\n",
    "from sklearn.ensemble import BaggingRegressor, RandomForestRegressor, AdaBoostRegressor\n",
    "from sklearn import metrics"
   ]
  },
  {
   "cell_type": "code",
   "execution_count": 32,
   "id": "647bac62-fbac-45e9-ab31-f386708fea59",
   "metadata": {
    "tags": []
   },
   "outputs": [],
   "source": [
    "merged_data = pd.read_csv('Data/Merged_state_data.csv')"
   ]
  },
  {
   "cell_type": "code",
   "execution_count": 35,
   "id": "af8c098e-0418-4429-98aa-4d96792f3944",
   "metadata": {
    "tags": []
   },
   "outputs": [],
   "source": [
    "merged_data.dropna(inplace=True)"
   ]
  },
  {
   "cell_type": "code",
   "execution_count": 36,
   "id": "37a956a5-d8d7-431d-8a39-27200eba022f",
   "metadata": {
    "tags": []
   },
   "outputs": [
    {
     "data": {
      "text/plain": [
       "Location                      0\n",
       "Employment_2020               0\n",
       "Employment_2021               0\n",
       "Employment_2022               0\n",
       "Inc_Per_Cap_2020              0\n",
       "Inc_Per_Cap_2021              0\n",
       "Inc_Per_CAp_2022              0\n",
       "Life_Exp_2020                 0\n",
       "Life_Exp_2019                 0\n",
       "Life_Exp_2018                 0\n",
       "Employer_2019                 0\n",
       "Non-Group_2019                0\n",
       "Medicaid_2019                 0\n",
       "Medicare_2019                 0\n",
       "Military_2019                 0\n",
       "Uninsured_2019                0\n",
       "Employer_2021                 0\n",
       "Non-Group_2021                0\n",
       "Medicaid_2021                 0\n",
       "Medicare_2021                 0\n",
       "Military_2021                 0\n",
       "Uninsured_2021                0\n",
       "Population Density per mi²    0\n",
       "2010 Population               0\n",
       "2020 Population               0\n",
       "Unnamed: 0                    0\n",
       "flu_vaccination_rate_2019     0\n",
       "asthma_prevalence             0\n",
       "cardiac_mortality_rate        0\n",
       "high_bp_prevalence            0\n",
       "copd_prevalence               0\n",
       "kidney_disease_prevalence     0\n",
       "diabetes_prevalence           0\n",
       "Physicians                    0\n",
       "Physicians Rate               0\n",
       "Active MO                     0\n",
       "Active MO Rate                0\n",
       "Active DO                     0\n",
       "Active DO Rate                0\n",
       "Exc_deaths_2017               0\n",
       "Exc_deaths_2018               0\n",
       "Exc_deaths_2019               0\n",
       "Exc_deaths_2020               0\n",
       "Exc_deaths_2021               0\n",
       "Exc_deaths_2022               0\n",
       "Exc_count_2017                0\n",
       "Exc_count_2018                0\n",
       "Exc_count_2019                0\n",
       "Exc_count_2020                0\n",
       "Exc_count_2021                0\n",
       "Exc_count_2022                0\n",
       "dtype: int64"
      ]
     },
     "execution_count": 36,
     "metadata": {},
     "output_type": "execute_result"
    }
   ],
   "source": [
    "merged_data.isna().sum()"
   ]
  },
  {
   "cell_type": "code",
   "execution_count": 34,
   "id": "6201b33f-bb66-490f-aa49-0b96970017f6",
   "metadata": {
    "tags": []
   },
   "outputs": [
    {
     "data": {
      "text/plain": [
       "Location                       object\n",
       "Employment_2020                 int64\n",
       "Employment_2021                 int64\n",
       "Employment_2022                 int64\n",
       "Inc_Per_Cap_2020                int64\n",
       "Inc_Per_Cap_2021                int64\n",
       "Inc_Per_CAp_2022                int64\n",
       "Life_Exp_2020                 float64\n",
       "Life_Exp_2019                 float64\n",
       "Life_Exp_2018                 float64\n",
       "Employer_2019                 float64\n",
       "Non-Group_2019                float64\n",
       "Medicaid_2019                 float64\n",
       "Medicare_2019                 float64\n",
       "Military_2019                 float64\n",
       "Uninsured_2019                float64\n",
       "Employer_2021                 float64\n",
       "Non-Group_2021                float64\n",
       "Medicaid_2021                 float64\n",
       "Medicare_2021                 float64\n",
       "Military_2021                 float64\n",
       "Uninsured_2021                float64\n",
       "Population Density per mi²    float64\n",
       "2010 Population                 int64\n",
       "2020 Population                 int64\n",
       "Unnamed: 0                      int64\n",
       "flu_vaccination_rate_2019     float64\n",
       "asthma_prevalence             float64\n",
       "cardiac_mortality_rate        float64\n",
       "high_bp_prevalence            float64\n",
       "copd_prevalence               float64\n",
       "kidney_disease_prevalence     float64\n",
       "diabetes_prevalence           float64\n",
       "Physicians                    float64\n",
       "Physicians Rate               float64\n",
       "Active MO                      object\n",
       "Active MO Rate                float64\n",
       "Active DO                     float64\n",
       "Active DO Rate                float64\n",
       "Exc_deaths_2017                 int64\n",
       "Exc_deaths_2018                 int64\n",
       "Exc_deaths_2019                 int64\n",
       "Exc_deaths_2020                 int64\n",
       "Exc_deaths_2021                 int64\n",
       "Exc_deaths_2022                 int64\n",
       "Exc_count_2017                  int64\n",
       "Exc_count_2018                  int64\n",
       "Exc_count_2019                  int64\n",
       "Exc_count_2020                  int64\n",
       "Exc_count_2021                  int64\n",
       "Exc_count_2022                  int64\n",
       "dtype: object"
      ]
     },
     "execution_count": 34,
     "metadata": {},
     "output_type": "execute_result"
    }
   ],
   "source": [
    "merged_data.dtypes"
   ]
  },
  {
   "cell_type": "code",
   "execution_count": 27,
   "id": "ac9c53d3-f3ff-4900-b4c8-fd6550a179b2",
   "metadata": {},
   "outputs": [],
   "source": [
    "merged_data['Active MO'] = pd.to_numeric(merged_data['Active MO'], errors='coerce').astype('Int64')"
   ]
  },
  {
   "cell_type": "code",
   "execution_count": null,
   "id": "1c2974c1-59e0-472c-b0da-0d3d0ef4bde9",
   "metadata": {},
   "outputs": [],
   "source": []
  },
  {
   "cell_type": "code",
   "execution_count": 37,
   "id": "2c441f7e-d40b-4578-9d76-7d2af5b4ae45",
   "metadata": {
    "tags": []
   },
   "outputs": [],
   "source": [
    "X = merged_data.drop(columns=['Location','Exc_deaths_2017', 'Exc_deaths_2018','Exc_deaths_2019',\n",
    "                              'Exc_deaths_2020', 'Exc_deaths_2021','Exc_deaths_2022',\n",
    "                             'Exc_count_2017', 'Exc_count_2018', 'Exc_count_2019', \n",
    "                             'Exc_count_2020', 'Exc_count_2021', 'Exc_count_2022', 'Active MO'])\n",
    "\n",
    "y = merged_data['Exc_deaths_2021']\n",
    "\n",
    "#'Exc_deaths_2018','Exc_deaths_2019','Exc_deaths_2020','Exc_deaths_2021','Exc_deaths_2022'\n",
    "\n",
    "X_train, X_test, y_train, y_test = train_test_split(X, y, random_state=42)"
   ]
  },
  {
   "cell_type": "code",
   "execution_count": 31,
   "id": "72d29094-28a3-460e-bc4b-a6a7c8649001",
   "metadata": {
    "tags": []
   },
   "outputs": [
    {
     "data": {
      "text/plain": [
       "Employment_2020                0\n",
       "Employment_2021                0\n",
       "Employment_2022                0\n",
       "Inc_Per_Cap_2020               0\n",
       "Inc_Per_Cap_2021               0\n",
       "Inc_Per_CAp_2022               0\n",
       "Life_Exp_2020                  0\n",
       "Life_Exp_2019                  0\n",
       "Life_Exp_2018                  0\n",
       "Employer_2019                  0\n",
       "Non-Group_2019                 0\n",
       "Medicaid_2019                  0\n",
       "Medicare_2019                  0\n",
       "Military_2019                  0\n",
       "Uninsured_2019                 0\n",
       "Employer_2021                  0\n",
       "Non-Group_2021                 0\n",
       "Medicaid_2021                  0\n",
       "Medicare_2021                  0\n",
       "Military_2021                  0\n",
       "Uninsured_2021                 0\n",
       "Population Density per mi²     0\n",
       "2010 Population                0\n",
       "2020 Population                0\n",
       "Unnamed: 0                     0\n",
       "flu_vaccination_rate_2019      0\n",
       "asthma_prevalence              0\n",
       "cardiac_mortality_rate         0\n",
       "high_bp_prevalence             0\n",
       "copd_prevalence                0\n",
       "kidney_disease_prevalence      0\n",
       "diabetes_prevalence            0\n",
       "Physicians                     0\n",
       "Physicians Rate                0\n",
       "Active MO                     36\n",
       "Active MO Rate                 0\n",
       "Active DO                      0\n",
       "Active DO Rate                 0\n",
       "dtype: int64"
      ]
     },
     "execution_count": 31,
     "metadata": {},
     "output_type": "execute_result"
    }
   ],
   "source": [
    "X_train.isna().sum()"
   ]
  },
  {
   "cell_type": "code",
   "execution_count": 38,
   "id": "ad734db9-6227-4502-97dc-513117cde13f",
   "metadata": {
    "tags": []
   },
   "outputs": [
    {
     "data": {
      "text/html": [
       "<style>#sk-container-id-1 {color: black;}#sk-container-id-1 pre{padding: 0;}#sk-container-id-1 div.sk-toggleable {background-color: white;}#sk-container-id-1 label.sk-toggleable__label {cursor: pointer;display: block;width: 100%;margin-bottom: 0;padding: 0.3em;box-sizing: border-box;text-align: center;}#sk-container-id-1 label.sk-toggleable__label-arrow:before {content: \"▸\";float: left;margin-right: 0.25em;color: #696969;}#sk-container-id-1 label.sk-toggleable__label-arrow:hover:before {color: black;}#sk-container-id-1 div.sk-estimator:hover label.sk-toggleable__label-arrow:before {color: black;}#sk-container-id-1 div.sk-toggleable__content {max-height: 0;max-width: 0;overflow: hidden;text-align: left;background-color: #f0f8ff;}#sk-container-id-1 div.sk-toggleable__content pre {margin: 0.2em;color: black;border-radius: 0.25em;background-color: #f0f8ff;}#sk-container-id-1 input.sk-toggleable__control:checked~div.sk-toggleable__content {max-height: 200px;max-width: 100%;overflow: auto;}#sk-container-id-1 input.sk-toggleable__control:checked~label.sk-toggleable__label-arrow:before {content: \"▾\";}#sk-container-id-1 div.sk-estimator input.sk-toggleable__control:checked~label.sk-toggleable__label {background-color: #d4ebff;}#sk-container-id-1 div.sk-label input.sk-toggleable__control:checked~label.sk-toggleable__label {background-color: #d4ebff;}#sk-container-id-1 input.sk-hidden--visually {border: 0;clip: rect(1px 1px 1px 1px);clip: rect(1px, 1px, 1px, 1px);height: 1px;margin: -1px;overflow: hidden;padding: 0;position: absolute;width: 1px;}#sk-container-id-1 div.sk-estimator {font-family: monospace;background-color: #f0f8ff;border: 1px dotted black;border-radius: 0.25em;box-sizing: border-box;margin-bottom: 0.5em;}#sk-container-id-1 div.sk-estimator:hover {background-color: #d4ebff;}#sk-container-id-1 div.sk-parallel-item::after {content: \"\";width: 100%;border-bottom: 1px solid gray;flex-grow: 1;}#sk-container-id-1 div.sk-label:hover label.sk-toggleable__label {background-color: #d4ebff;}#sk-container-id-1 div.sk-serial::before {content: \"\";position: absolute;border-left: 1px solid gray;box-sizing: border-box;top: 0;bottom: 0;left: 50%;z-index: 0;}#sk-container-id-1 div.sk-serial {display: flex;flex-direction: column;align-items: center;background-color: white;padding-right: 0.2em;padding-left: 0.2em;position: relative;}#sk-container-id-1 div.sk-item {position: relative;z-index: 1;}#sk-container-id-1 div.sk-parallel {display: flex;align-items: stretch;justify-content: center;background-color: white;position: relative;}#sk-container-id-1 div.sk-item::before, #sk-container-id-1 div.sk-parallel-item::before {content: \"\";position: absolute;border-left: 1px solid gray;box-sizing: border-box;top: 0;bottom: 0;left: 50%;z-index: -1;}#sk-container-id-1 div.sk-parallel-item {display: flex;flex-direction: column;z-index: 1;position: relative;background-color: white;}#sk-container-id-1 div.sk-parallel-item:first-child::after {align-self: flex-end;width: 50%;}#sk-container-id-1 div.sk-parallel-item:last-child::after {align-self: flex-start;width: 50%;}#sk-container-id-1 div.sk-parallel-item:only-child::after {width: 0;}#sk-container-id-1 div.sk-dashed-wrapped {border: 1px dashed gray;margin: 0 0.4em 0.5em 0.4em;box-sizing: border-box;padding-bottom: 0.4em;background-color: white;}#sk-container-id-1 div.sk-label label {font-family: monospace;font-weight: bold;display: inline-block;line-height: 1.2em;}#sk-container-id-1 div.sk-label-container {text-align: center;}#sk-container-id-1 div.sk-container {/* jupyter's `normalize.less` sets `[hidden] { display: none; }` but bootstrap.min.css set `[hidden] { display: none !important; }` so we also need the `!important` here to be able to override the default hidden behavior on the sphinx rendered scikit-learn.org. See: https://github.com/scikit-learn/scikit-learn/issues/21755 */display: inline-block !important;position: relative;}#sk-container-id-1 div.sk-text-repr-fallback {display: none;}</style><div id=\"sk-container-id-1\" class=\"sk-top-container\"><div class=\"sk-text-repr-fallback\"><pre>LinearRegression()</pre><b>In a Jupyter environment, please rerun this cell to show the HTML representation or trust the notebook. <br />On GitHub, the HTML representation is unable to render, please try loading this page with nbviewer.org.</b></div><div class=\"sk-container\" hidden><div class=\"sk-item\"><div class=\"sk-estimator sk-toggleable\"><input class=\"sk-toggleable__control sk-hidden--visually\" id=\"sk-estimator-id-1\" type=\"checkbox\" checked><label for=\"sk-estimator-id-1\" class=\"sk-toggleable__label sk-toggleable__label-arrow\">LinearRegression</label><div class=\"sk-toggleable__content\"><pre>LinearRegression()</pre></div></div></div></div></div>"
      ],
      "text/plain": [
       "LinearRegression()"
      ]
     },
     "execution_count": 38,
     "metadata": {},
     "output_type": "execute_result"
    }
   ],
   "source": [
    "lr1 = LinearRegression()\n",
    "lr1.fit(X_train, y_train)"
   ]
  },
  {
   "cell_type": "code",
   "execution_count": 39,
   "id": "8a421fa5-3296-42fa-a871-9318d29d9bbc",
   "metadata": {
    "tags": []
   },
   "outputs": [
    {
     "data": {
      "text/plain": [
       "0.9999999999999957"
      ]
     },
     "execution_count": 39,
     "metadata": {},
     "output_type": "execute_result"
    }
   ],
   "source": [
    "lr1.score(X_train, y_train)"
   ]
  },
  {
   "cell_type": "code",
   "execution_count": 40,
   "id": "e7dbb9cb-cd54-4db3-80f5-29799a5ed867",
   "metadata": {
    "tags": []
   },
   "outputs": [
    {
     "data": {
      "text/plain": [
       "0.8684601692945261"
      ]
     },
     "execution_count": 40,
     "metadata": {},
     "output_type": "execute_result"
    }
   ],
   "source": [
    "lr1.score(X_test, y_test)"
   ]
  },
  {
   "cell_type": "code",
   "execution_count": null,
   "id": "1b03ace6-3727-4ea3-82bb-17775eb63edb",
   "metadata": {},
   "outputs": [],
   "source": []
  },
  {
   "cell_type": "code",
   "execution_count": 41,
   "id": "fd7cc839-0fdd-467d-9cdb-01d476c889a7",
   "metadata": {
    "tags": []
   },
   "outputs": [],
   "source": [
    "sc = StandardScaler()\n",
    "X_train_sc = sc.fit_transform(X_train)\n",
    "X_test_sc = sc.transform(X_test)"
   ]
  },
  {
   "cell_type": "code",
   "execution_count": 42,
   "id": "ec5bb348-0b9a-47fa-80a3-05318751f329",
   "metadata": {
    "tags": []
   },
   "outputs": [
    {
     "data": {
      "text/html": [
       "<style>#sk-container-id-2 {color: black;}#sk-container-id-2 pre{padding: 0;}#sk-container-id-2 div.sk-toggleable {background-color: white;}#sk-container-id-2 label.sk-toggleable__label {cursor: pointer;display: block;width: 100%;margin-bottom: 0;padding: 0.3em;box-sizing: border-box;text-align: center;}#sk-container-id-2 label.sk-toggleable__label-arrow:before {content: \"▸\";float: left;margin-right: 0.25em;color: #696969;}#sk-container-id-2 label.sk-toggleable__label-arrow:hover:before {color: black;}#sk-container-id-2 div.sk-estimator:hover label.sk-toggleable__label-arrow:before {color: black;}#sk-container-id-2 div.sk-toggleable__content {max-height: 0;max-width: 0;overflow: hidden;text-align: left;background-color: #f0f8ff;}#sk-container-id-2 div.sk-toggleable__content pre {margin: 0.2em;color: black;border-radius: 0.25em;background-color: #f0f8ff;}#sk-container-id-2 input.sk-toggleable__control:checked~div.sk-toggleable__content {max-height: 200px;max-width: 100%;overflow: auto;}#sk-container-id-2 input.sk-toggleable__control:checked~label.sk-toggleable__label-arrow:before {content: \"▾\";}#sk-container-id-2 div.sk-estimator input.sk-toggleable__control:checked~label.sk-toggleable__label {background-color: #d4ebff;}#sk-container-id-2 div.sk-label input.sk-toggleable__control:checked~label.sk-toggleable__label {background-color: #d4ebff;}#sk-container-id-2 input.sk-hidden--visually {border: 0;clip: rect(1px 1px 1px 1px);clip: rect(1px, 1px, 1px, 1px);height: 1px;margin: -1px;overflow: hidden;padding: 0;position: absolute;width: 1px;}#sk-container-id-2 div.sk-estimator {font-family: monospace;background-color: #f0f8ff;border: 1px dotted black;border-radius: 0.25em;box-sizing: border-box;margin-bottom: 0.5em;}#sk-container-id-2 div.sk-estimator:hover {background-color: #d4ebff;}#sk-container-id-2 div.sk-parallel-item::after {content: \"\";width: 100%;border-bottom: 1px solid gray;flex-grow: 1;}#sk-container-id-2 div.sk-label:hover label.sk-toggleable__label {background-color: #d4ebff;}#sk-container-id-2 div.sk-serial::before {content: \"\";position: absolute;border-left: 1px solid gray;box-sizing: border-box;top: 0;bottom: 0;left: 50%;z-index: 0;}#sk-container-id-2 div.sk-serial {display: flex;flex-direction: column;align-items: center;background-color: white;padding-right: 0.2em;padding-left: 0.2em;position: relative;}#sk-container-id-2 div.sk-item {position: relative;z-index: 1;}#sk-container-id-2 div.sk-parallel {display: flex;align-items: stretch;justify-content: center;background-color: white;position: relative;}#sk-container-id-2 div.sk-item::before, #sk-container-id-2 div.sk-parallel-item::before {content: \"\";position: absolute;border-left: 1px solid gray;box-sizing: border-box;top: 0;bottom: 0;left: 50%;z-index: -1;}#sk-container-id-2 div.sk-parallel-item {display: flex;flex-direction: column;z-index: 1;position: relative;background-color: white;}#sk-container-id-2 div.sk-parallel-item:first-child::after {align-self: flex-end;width: 50%;}#sk-container-id-2 div.sk-parallel-item:last-child::after {align-self: flex-start;width: 50%;}#sk-container-id-2 div.sk-parallel-item:only-child::after {width: 0;}#sk-container-id-2 div.sk-dashed-wrapped {border: 1px dashed gray;margin: 0 0.4em 0.5em 0.4em;box-sizing: border-box;padding-bottom: 0.4em;background-color: white;}#sk-container-id-2 div.sk-label label {font-family: monospace;font-weight: bold;display: inline-block;line-height: 1.2em;}#sk-container-id-2 div.sk-label-container {text-align: center;}#sk-container-id-2 div.sk-container {/* jupyter's `normalize.less` sets `[hidden] { display: none; }` but bootstrap.min.css set `[hidden] { display: none !important; }` so we also need the `!important` here to be able to override the default hidden behavior on the sphinx rendered scikit-learn.org. See: https://github.com/scikit-learn/scikit-learn/issues/21755 */display: inline-block !important;position: relative;}#sk-container-id-2 div.sk-text-repr-fallback {display: none;}</style><div id=\"sk-container-id-2\" class=\"sk-top-container\"><div class=\"sk-text-repr-fallback\"><pre>LinearRegression()</pre><b>In a Jupyter environment, please rerun this cell to show the HTML representation or trust the notebook. <br />On GitHub, the HTML representation is unable to render, please try loading this page with nbviewer.org.</b></div><div class=\"sk-container\" hidden><div class=\"sk-item\"><div class=\"sk-estimator sk-toggleable\"><input class=\"sk-toggleable__control sk-hidden--visually\" id=\"sk-estimator-id-2\" type=\"checkbox\" checked><label for=\"sk-estimator-id-2\" class=\"sk-toggleable__label sk-toggleable__label-arrow\">LinearRegression</label><div class=\"sk-toggleable__content\"><pre>LinearRegression()</pre></div></div></div></div></div>"
      ],
      "text/plain": [
       "LinearRegression()"
      ]
     },
     "execution_count": 42,
     "metadata": {},
     "output_type": "execute_result"
    }
   ],
   "source": [
    "lr2 = LinearRegression()\n",
    "lr2.fit(X_train_sc, y_train)"
   ]
  },
  {
   "cell_type": "code",
   "execution_count": 43,
   "id": "28a92590-8ca1-4bfe-b216-cbd296b20f9d",
   "metadata": {
    "tags": []
   },
   "outputs": [
    {
     "data": {
      "text/plain": [
       "(1.0, 0.8993171705628464)"
      ]
     },
     "execution_count": 43,
     "metadata": {},
     "output_type": "execute_result"
    }
   ],
   "source": [
    "lr2.score(X_train_sc, y_train), lr2.score(X_test_sc, y_test)"
   ]
  },
  {
   "cell_type": "code",
   "execution_count": null,
   "id": "5c3d3e97-563e-4c9e-b1de-e46938b1d3a5",
   "metadata": {},
   "outputs": [],
   "source": []
  },
  {
   "cell_type": "code",
   "execution_count": 44,
   "id": "75a883c3-c9af-4e25-8d29-5f83db0278c1",
   "metadata": {
    "tags": []
   },
   "outputs": [
    {
     "data": {
      "text/plain": [
       "(0.7014420451232843, 0.6354478147460688)"
      ]
     },
     "execution_count": 44,
     "metadata": {},
     "output_type": "execute_result"
    }
   ],
   "source": [
    "knn = KNeighborsRegressor()\n",
    "knn.fit(X_train, y_train)\n",
    "knn.score(X_train, y_train), knn.score(X_test, y_test)"
   ]
  },
  {
   "cell_type": "code",
   "execution_count": 45,
   "id": "4f9f433d-fb00-4410-a6c1-5baeeed5e0a0",
   "metadata": {
    "tags": []
   },
   "outputs": [
    {
     "data": {
      "text/plain": [
       "(0.7686629512245433, 0.6135423398706363)"
      ]
     },
     "execution_count": 45,
     "metadata": {},
     "output_type": "execute_result"
    }
   ],
   "source": [
    "knn2 = KNeighborsRegressor()\n",
    "knn2.fit(X_train_sc, y_train)\n",
    "knn2.score(X_train_sc, y_train), knn2.score(X_test_sc, y_test)"
   ]
  },
  {
   "cell_type": "code",
   "execution_count": 46,
   "id": "d5cb7a0a-ea2e-40ad-ad71-3c18528ad65d",
   "metadata": {
    "tags": []
   },
   "outputs": [
    {
     "data": {
      "text/plain": [
       "(1.0, 0.8361170975065783)"
      ]
     },
     "execution_count": 46,
     "metadata": {},
     "output_type": "execute_result"
    }
   ],
   "source": [
    "tree = DecisionTreeRegressor()\n",
    "tree.fit(X_train, y_train)\n",
    "tree.score(X_train, y_train), tree.score(X_test, y_test)"
   ]
  },
  {
   "cell_type": "code",
   "execution_count": 47,
   "id": "5093b0c5-c260-488b-abf7-8f39389b9b34",
   "metadata": {
    "tags": []
   },
   "outputs": [
    {
     "data": {
      "text/plain": [
       "(1.0, 0.747698492769266)"
      ]
     },
     "execution_count": 47,
     "metadata": {},
     "output_type": "execute_result"
    }
   ],
   "source": [
    "tree2 = DecisionTreeRegressor()\n",
    "tree2.fit(X_train_sc, y_train)\n",
    "tree2.score(X_train_sc, y_train), tree2.score(X_test_sc, y_test)"
   ]
  },
  {
   "cell_type": "code",
   "execution_count": 48,
   "id": "83953f49-48f0-457d-ae8d-a7b147f9c82a",
   "metadata": {
    "tags": []
   },
   "outputs": [
    {
     "data": {
      "text/plain": [
       "(0.862912331164615, 0.7551529437431134)"
      ]
     },
     "execution_count": 48,
     "metadata": {},
     "output_type": "execute_result"
    }
   ],
   "source": [
    "bag1 = BaggingRegressor()\n",
    "bag1.fit(X_train , y_train)\n",
    "bag1.score(X_train, y_train), bag1.score(X_test, y_test)"
   ]
  },
  {
   "cell_type": "code",
   "execution_count": 49,
   "id": "e7aa1262-ed6f-4358-bf33-1d76b5699ca3",
   "metadata": {
    "tags": []
   },
   "outputs": [
    {
     "data": {
      "text/plain": [
       "(0.8817864141412134, 0.6969194613312981)"
      ]
     },
     "execution_count": 49,
     "metadata": {},
     "output_type": "execute_result"
    }
   ],
   "source": [
    "bag2 = BaggingRegressor()\n",
    "bag2.fit(X_train_sc, y_train)\n",
    "bag2.score(X_train_sc, y_train), bag2.score(X_test_sc, y_test)"
   ]
  },
  {
   "cell_type": "code",
   "execution_count": null,
   "id": "27d44058-2594-487a-8499-723b9ad25baf",
   "metadata": {},
   "outputs": [],
   "source": []
  },
  {
   "cell_type": "markdown",
   "id": "80079dc1-d03d-49b3-b2db-86ba1b5691b0",
   "metadata": {},
   "source": [
    "# Fixing NJ missing data:\n",
    "\n",
    "-can inpute substitute numbers from 2018 or 2020 from raw data\n",
    "\n",
    "asthma prevalence 2018 = 8.4\n",
    "kidney prevalence 2019 = 52.1\n",
    "flu_vaccination_rate_2019\n",
    "high_bp_prevalence\n",
    "copd prevalence\n",
    "diabetes prevalence"
   ]
  },
  {
   "cell_type": "code",
   "execution_count": null,
   "id": "d78a3614-04c0-4108-917f-7ce98d65d748",
   "execution_count": null,
   "id": "acad947e-3b15-4cd1-8e3f-9d4c5f956ed6",

   "metadata": {},
   "outputs": [],
   "source": []
  }
 ],
 "metadata": {
  "kernelspec": {
   "display_name": "Python 3 (ipykernel)",
   "language": "python",
   "name": "python3"
  },
  "language_info": {
   "codemirror_mode": {
    "name": "ipython",
    "version": 3
   },
   "file_extension": ".py",
   "mimetype": "text/x-python",
   "name": "python",
   "nbconvert_exporter": "python",
   "pygments_lexer": "ipython3",
   "version": "3.11.4"
  }
 },
 "nbformat": 4,
 "nbformat_minor": 5
}
