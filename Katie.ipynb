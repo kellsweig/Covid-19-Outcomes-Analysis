{
 "cells": [
  {
   "cell_type": "code",
   "execution_count": 1,
   "id": "6f020f39-2b1d-450c-aaa4-f08fdb82ec50",
   "metadata": {},
   "outputs": [],
   "source": [
    "# Imports\n",
    "import pandas as pd\n",
    "import numpy as np\n",
    "import matplotlib.pyplot as plt"
   ]
  },
  {
   "cell_type": "markdown",
   "id": "f1d1d563-1bad-494f-940b-34d0f826eb1b",
   "metadata": {
    "tags": []
   },
   "source": [
    "# Data Collection"
   ]
  },
  {
   "cell_type": "markdown",
   "id": "d6646a31-ce0f-43d0-91d4-980f03f6b073",
   "metadata": {},
   "source": [
    "## Collecting Asthma Information"
   ]
  },
  {
   "cell_type": "markdown",
   "id": "33f13a7d-9908-4154-8d2f-d913e139b8b0",
   "metadata": {},
   "source": [
    "CSV files with information on asthma, diabetes, cancer, copd, heart disease, kidney disease incident rates/ prevalence rates were downloaded from the CDC website. These csv files are each approximately 40 MB with responses to various questions, rates by demographic as well as overall population totals for more than a decade. Each dataset must be cleaned and unecessary information dropped to reduce the files to a manageable size. "
   ]
  },
  {
   "cell_type": "code",
   "execution_count": 2,
   "id": "61ad8c21-8aaa-47a5-a5f8-77aa00113437",
   "metadata": {
    "tags": []
   },
   "outputs": [
    {
     "ename": "FileNotFoundError",
     "evalue": "[Errno 2] No such file or directory: 'Ignore/Asthma.csv'",
     "output_type": "error",
     "traceback": [
      "\u001b[0;31m---------------------------------------------------------------------------\u001b[0m",
      "\u001b[0;31mFileNotFoundError\u001b[0m                         Traceback (most recent call last)",
      "Cell \u001b[0;32mIn[2], line 2\u001b[0m\n\u001b[1;32m      1\u001b[0m \u001b[38;5;66;03m# Large csv files were uploaded into an untracked folder\u001b[39;00m\n\u001b[0;32m----> 2\u001b[0m asthma \u001b[38;5;241m=\u001b[39m pd\u001b[38;5;241m.\u001b[39mread_csv(\u001b[38;5;124m'\u001b[39m\u001b[38;5;124mIgnore/Asthma.csv\u001b[39m\u001b[38;5;124m'\u001b[39m)\n",
      "File \u001b[0;32m/Users/anaconda3/lib/python3.11/site-packages/pandas/util/_decorators.py:211\u001b[0m, in \u001b[0;36mdeprecate_kwarg.<locals>._deprecate_kwarg.<locals>.wrapper\u001b[0;34m(*args, **kwargs)\u001b[0m\n\u001b[1;32m    209\u001b[0m     \u001b[38;5;28;01melse\u001b[39;00m:\n\u001b[1;32m    210\u001b[0m         kwargs[new_arg_name] \u001b[38;5;241m=\u001b[39m new_arg_value\n\u001b[0;32m--> 211\u001b[0m \u001b[38;5;28;01mreturn\u001b[39;00m func(\u001b[38;5;241m*\u001b[39margs, \u001b[38;5;241m*\u001b[39m\u001b[38;5;241m*\u001b[39mkwargs)\n",
      "File \u001b[0;32m/Users/anaconda3/lib/python3.11/site-packages/pandas/util/_decorators.py:331\u001b[0m, in \u001b[0;36mdeprecate_nonkeyword_arguments.<locals>.decorate.<locals>.wrapper\u001b[0;34m(*args, **kwargs)\u001b[0m\n\u001b[1;32m    325\u001b[0m \u001b[38;5;28;01mif\u001b[39;00m \u001b[38;5;28mlen\u001b[39m(args) \u001b[38;5;241m>\u001b[39m num_allow_args:\n\u001b[1;32m    326\u001b[0m     warnings\u001b[38;5;241m.\u001b[39mwarn(\n\u001b[1;32m    327\u001b[0m         msg\u001b[38;5;241m.\u001b[39mformat(arguments\u001b[38;5;241m=\u001b[39m_format_argument_list(allow_args)),\n\u001b[1;32m    328\u001b[0m         \u001b[38;5;167;01mFutureWarning\u001b[39;00m,\n\u001b[1;32m    329\u001b[0m         stacklevel\u001b[38;5;241m=\u001b[39mfind_stack_level(),\n\u001b[1;32m    330\u001b[0m     )\n\u001b[0;32m--> 331\u001b[0m \u001b[38;5;28;01mreturn\u001b[39;00m func(\u001b[38;5;241m*\u001b[39margs, \u001b[38;5;241m*\u001b[39m\u001b[38;5;241m*\u001b[39mkwargs)\n",
      "File \u001b[0;32m/Users/anaconda3/lib/python3.11/site-packages/pandas/io/parsers/readers.py:950\u001b[0m, in \u001b[0;36mread_csv\u001b[0;34m(filepath_or_buffer, sep, delimiter, header, names, index_col, usecols, squeeze, prefix, mangle_dupe_cols, dtype, engine, converters, true_values, false_values, skipinitialspace, skiprows, skipfooter, nrows, na_values, keep_default_na, na_filter, verbose, skip_blank_lines, parse_dates, infer_datetime_format, keep_date_col, date_parser, dayfirst, cache_dates, iterator, chunksize, compression, thousands, decimal, lineterminator, quotechar, quoting, doublequote, escapechar, comment, encoding, encoding_errors, dialect, error_bad_lines, warn_bad_lines, on_bad_lines, delim_whitespace, low_memory, memory_map, float_precision, storage_options)\u001b[0m\n\u001b[1;32m    935\u001b[0m kwds_defaults \u001b[38;5;241m=\u001b[39m _refine_defaults_read(\n\u001b[1;32m    936\u001b[0m     dialect,\n\u001b[1;32m    937\u001b[0m     delimiter,\n\u001b[0;32m   (...)\u001b[0m\n\u001b[1;32m    946\u001b[0m     defaults\u001b[38;5;241m=\u001b[39m{\u001b[38;5;124m\"\u001b[39m\u001b[38;5;124mdelimiter\u001b[39m\u001b[38;5;124m\"\u001b[39m: \u001b[38;5;124m\"\u001b[39m\u001b[38;5;124m,\u001b[39m\u001b[38;5;124m\"\u001b[39m},\n\u001b[1;32m    947\u001b[0m )\n\u001b[1;32m    948\u001b[0m kwds\u001b[38;5;241m.\u001b[39mupdate(kwds_defaults)\n\u001b[0;32m--> 950\u001b[0m \u001b[38;5;28;01mreturn\u001b[39;00m _read(filepath_or_buffer, kwds)\n",
      "File \u001b[0;32m/Users/anaconda3/lib/python3.11/site-packages/pandas/io/parsers/readers.py:605\u001b[0m, in \u001b[0;36m_read\u001b[0;34m(filepath_or_buffer, kwds)\u001b[0m\n\u001b[1;32m    602\u001b[0m _validate_names(kwds\u001b[38;5;241m.\u001b[39mget(\u001b[38;5;124m\"\u001b[39m\u001b[38;5;124mnames\u001b[39m\u001b[38;5;124m\"\u001b[39m, \u001b[38;5;28;01mNone\u001b[39;00m))\n\u001b[1;32m    604\u001b[0m \u001b[38;5;66;03m# Create the parser.\u001b[39;00m\n\u001b[0;32m--> 605\u001b[0m parser \u001b[38;5;241m=\u001b[39m TextFileReader(filepath_or_buffer, \u001b[38;5;241m*\u001b[39m\u001b[38;5;241m*\u001b[39mkwds)\n\u001b[1;32m    607\u001b[0m \u001b[38;5;28;01mif\u001b[39;00m chunksize \u001b[38;5;129;01mor\u001b[39;00m iterator:\n\u001b[1;32m    608\u001b[0m     \u001b[38;5;28;01mreturn\u001b[39;00m parser\n",
      "File \u001b[0;32m/Users/anaconda3/lib/python3.11/site-packages/pandas/io/parsers/readers.py:1442\u001b[0m, in \u001b[0;36mTextFileReader.__init__\u001b[0;34m(self, f, engine, **kwds)\u001b[0m\n\u001b[1;32m   1439\u001b[0m     \u001b[38;5;28mself\u001b[39m\u001b[38;5;241m.\u001b[39moptions[\u001b[38;5;124m\"\u001b[39m\u001b[38;5;124mhas_index_names\u001b[39m\u001b[38;5;124m\"\u001b[39m] \u001b[38;5;241m=\u001b[39m kwds[\u001b[38;5;124m\"\u001b[39m\u001b[38;5;124mhas_index_names\u001b[39m\u001b[38;5;124m\"\u001b[39m]\n\u001b[1;32m   1441\u001b[0m \u001b[38;5;28mself\u001b[39m\u001b[38;5;241m.\u001b[39mhandles: IOHandles \u001b[38;5;241m|\u001b[39m \u001b[38;5;28;01mNone\u001b[39;00m \u001b[38;5;241m=\u001b[39m \u001b[38;5;28;01mNone\u001b[39;00m\n\u001b[0;32m-> 1442\u001b[0m \u001b[38;5;28mself\u001b[39m\u001b[38;5;241m.\u001b[39m_engine \u001b[38;5;241m=\u001b[39m \u001b[38;5;28mself\u001b[39m\u001b[38;5;241m.\u001b[39m_make_engine(f, \u001b[38;5;28mself\u001b[39m\u001b[38;5;241m.\u001b[39mengine)\n",
      "File \u001b[0;32m/Users/anaconda3/lib/python3.11/site-packages/pandas/io/parsers/readers.py:1735\u001b[0m, in \u001b[0;36mTextFileReader._make_engine\u001b[0;34m(self, f, engine)\u001b[0m\n\u001b[1;32m   1733\u001b[0m     \u001b[38;5;28;01mif\u001b[39;00m \u001b[38;5;124m\"\u001b[39m\u001b[38;5;124mb\u001b[39m\u001b[38;5;124m\"\u001b[39m \u001b[38;5;129;01mnot\u001b[39;00m \u001b[38;5;129;01min\u001b[39;00m mode:\n\u001b[1;32m   1734\u001b[0m         mode \u001b[38;5;241m+\u001b[39m\u001b[38;5;241m=\u001b[39m \u001b[38;5;124m\"\u001b[39m\u001b[38;5;124mb\u001b[39m\u001b[38;5;124m\"\u001b[39m\n\u001b[0;32m-> 1735\u001b[0m \u001b[38;5;28mself\u001b[39m\u001b[38;5;241m.\u001b[39mhandles \u001b[38;5;241m=\u001b[39m get_handle(\n\u001b[1;32m   1736\u001b[0m     f,\n\u001b[1;32m   1737\u001b[0m     mode,\n\u001b[1;32m   1738\u001b[0m     encoding\u001b[38;5;241m=\u001b[39m\u001b[38;5;28mself\u001b[39m\u001b[38;5;241m.\u001b[39moptions\u001b[38;5;241m.\u001b[39mget(\u001b[38;5;124m\"\u001b[39m\u001b[38;5;124mencoding\u001b[39m\u001b[38;5;124m\"\u001b[39m, \u001b[38;5;28;01mNone\u001b[39;00m),\n\u001b[1;32m   1739\u001b[0m     compression\u001b[38;5;241m=\u001b[39m\u001b[38;5;28mself\u001b[39m\u001b[38;5;241m.\u001b[39moptions\u001b[38;5;241m.\u001b[39mget(\u001b[38;5;124m\"\u001b[39m\u001b[38;5;124mcompression\u001b[39m\u001b[38;5;124m\"\u001b[39m, \u001b[38;5;28;01mNone\u001b[39;00m),\n\u001b[1;32m   1740\u001b[0m     memory_map\u001b[38;5;241m=\u001b[39m\u001b[38;5;28mself\u001b[39m\u001b[38;5;241m.\u001b[39moptions\u001b[38;5;241m.\u001b[39mget(\u001b[38;5;124m\"\u001b[39m\u001b[38;5;124mmemory_map\u001b[39m\u001b[38;5;124m\"\u001b[39m, \u001b[38;5;28;01mFalse\u001b[39;00m),\n\u001b[1;32m   1741\u001b[0m     is_text\u001b[38;5;241m=\u001b[39mis_text,\n\u001b[1;32m   1742\u001b[0m     errors\u001b[38;5;241m=\u001b[39m\u001b[38;5;28mself\u001b[39m\u001b[38;5;241m.\u001b[39moptions\u001b[38;5;241m.\u001b[39mget(\u001b[38;5;124m\"\u001b[39m\u001b[38;5;124mencoding_errors\u001b[39m\u001b[38;5;124m\"\u001b[39m, \u001b[38;5;124m\"\u001b[39m\u001b[38;5;124mstrict\u001b[39m\u001b[38;5;124m\"\u001b[39m),\n\u001b[1;32m   1743\u001b[0m     storage_options\u001b[38;5;241m=\u001b[39m\u001b[38;5;28mself\u001b[39m\u001b[38;5;241m.\u001b[39moptions\u001b[38;5;241m.\u001b[39mget(\u001b[38;5;124m\"\u001b[39m\u001b[38;5;124mstorage_options\u001b[39m\u001b[38;5;124m\"\u001b[39m, \u001b[38;5;28;01mNone\u001b[39;00m),\n\u001b[1;32m   1744\u001b[0m )\n\u001b[1;32m   1745\u001b[0m \u001b[38;5;28;01massert\u001b[39;00m \u001b[38;5;28mself\u001b[39m\u001b[38;5;241m.\u001b[39mhandles \u001b[38;5;129;01mis\u001b[39;00m \u001b[38;5;129;01mnot\u001b[39;00m \u001b[38;5;28;01mNone\u001b[39;00m\n\u001b[1;32m   1746\u001b[0m f \u001b[38;5;241m=\u001b[39m \u001b[38;5;28mself\u001b[39m\u001b[38;5;241m.\u001b[39mhandles\u001b[38;5;241m.\u001b[39mhandle\n",
      "File \u001b[0;32m/Users/anaconda3/lib/python3.11/site-packages/pandas/io/common.py:856\u001b[0m, in \u001b[0;36mget_handle\u001b[0;34m(path_or_buf, mode, encoding, compression, memory_map, is_text, errors, storage_options)\u001b[0m\n\u001b[1;32m    851\u001b[0m \u001b[38;5;28;01melif\u001b[39;00m \u001b[38;5;28misinstance\u001b[39m(handle, \u001b[38;5;28mstr\u001b[39m):\n\u001b[1;32m    852\u001b[0m     \u001b[38;5;66;03m# Check whether the filename is to be opened in binary mode.\u001b[39;00m\n\u001b[1;32m    853\u001b[0m     \u001b[38;5;66;03m# Binary mode does not support 'encoding' and 'newline'.\u001b[39;00m\n\u001b[1;32m    854\u001b[0m     \u001b[38;5;28;01mif\u001b[39;00m ioargs\u001b[38;5;241m.\u001b[39mencoding \u001b[38;5;129;01mand\u001b[39;00m \u001b[38;5;124m\"\u001b[39m\u001b[38;5;124mb\u001b[39m\u001b[38;5;124m\"\u001b[39m \u001b[38;5;129;01mnot\u001b[39;00m \u001b[38;5;129;01min\u001b[39;00m ioargs\u001b[38;5;241m.\u001b[39mmode:\n\u001b[1;32m    855\u001b[0m         \u001b[38;5;66;03m# Encoding\u001b[39;00m\n\u001b[0;32m--> 856\u001b[0m         handle \u001b[38;5;241m=\u001b[39m \u001b[38;5;28mopen\u001b[39m(\n\u001b[1;32m    857\u001b[0m             handle,\n\u001b[1;32m    858\u001b[0m             ioargs\u001b[38;5;241m.\u001b[39mmode,\n\u001b[1;32m    859\u001b[0m             encoding\u001b[38;5;241m=\u001b[39mioargs\u001b[38;5;241m.\u001b[39mencoding,\n\u001b[1;32m    860\u001b[0m             errors\u001b[38;5;241m=\u001b[39merrors,\n\u001b[1;32m    861\u001b[0m             newline\u001b[38;5;241m=\u001b[39m\u001b[38;5;124m\"\u001b[39m\u001b[38;5;124m\"\u001b[39m,\n\u001b[1;32m    862\u001b[0m         )\n\u001b[1;32m    863\u001b[0m     \u001b[38;5;28;01melse\u001b[39;00m:\n\u001b[1;32m    864\u001b[0m         \u001b[38;5;66;03m# Binary mode\u001b[39;00m\n\u001b[1;32m    865\u001b[0m         handle \u001b[38;5;241m=\u001b[39m \u001b[38;5;28mopen\u001b[39m(handle, ioargs\u001b[38;5;241m.\u001b[39mmode)\n",
      "\u001b[0;31mFileNotFoundError\u001b[0m: [Errno 2] No such file or directory: 'Ignore/Asthma.csv'"
     ]
    }
   ],
   "source": [
    "# Large csv files were uploaded into an untracked folder\n",
    "asthma = pd.read_csv('Ignore/Asthma.csv')"
   ]
  },
  {
   "cell_type": "code",
   "execution_count": null,
   "id": "ad18cdfa-a006-4f18-b0ca-422d80b11f56",
   "metadata": {
    "tags": []
   },
   "outputs": [],
   "source": [
    "asthma.shape"
   ]
  },
  {
   "cell_type": "code",
   "execution_count": null,
   "id": "2b62db55-c516-4118-a875-809b4438f1f3",
   "metadata": {
    "tags": []
   },
   "outputs": [],
   "source": [
    "asthma.head()"
   ]
  },
  {
   "cell_type": "code",
   "execution_count": null,
   "id": "42ed6705-26a2-4377-95f2-f369169a1b7c",
   "metadata": {
    "tags": []
   },
   "outputs": [],
   "source": [
    "asthma.Question.value_counts()"
   ]
  },
  {
   "cell_type": "code",
   "execution_count": null,
   "id": "94044b68-0565-4a6d-beb2-96e2bc24fe4f",
   "metadata": {
    "tags": []
   },
   "outputs": [],
   "source": [
    "# Reducing data to only include reqponses to question of interest\n",
    "asthma = asthma[asthma['Question']== \"Current asthma prevalence among adults aged >= 18 years\"]"
   ]
  },
  {
   "cell_type": "code",
   "execution_count": null,
   "id": "e0805ee9-1224-489f-840b-bef3f99a46ec",
   "metadata": {
    "tags": []
   },
   "outputs": [],
   "source": [
    "asthma.shape"
   ]
  },
  {
   "cell_type": "code",
   "execution_count": null,
   "id": "afa911cf-ba45-4d36-8004-b503702be4d6",
   "metadata": {
    "tags": []
   },
   "outputs": [],
   "source": [
    "asthma.describe()"
   ]
  },
  {
   "cell_type": "code",
   "execution_count": null,
   "id": "6224011f-68b3-4658-9b79-f0f5dc097723",
   "metadata": {
    "tags": []
   },
   "outputs": [],
   "source": [
    "# We only need data for pre-existing conditions for 1 year\n",
    "asthma = asthma[asthma['YearStart'] == 2019]"
   ]
  },
  {
   "cell_type": "code",
   "execution_count": null,
   "id": "f09d82ce-f83c-4519-94e2-6e8ac271453d",
   "metadata": {
    "tags": []
   },
   "outputs": [],
   "source": [
    "asthma.shape"
   ]
  },
  {
   "cell_type": "code",
   "execution_count": null,
   "id": "729f2d94-3956-425c-ab66-729250f0b42c",
   "metadata": {
    "tags": []
   },
   "outputs": [],
   "source": [
    "asthma.YearStart.value_counts()"
   ]
  },
  {
   "cell_type": "code",
   "execution_count": null,
   "id": "02a1450d-c78f-4f6e-826f-6bb278106570",
   "metadata": {
    "tags": []
   },
   "outputs": [],
   "source": [
    "# Reducing dataframe to only include the 7 columns we need for analysis and data cleaning\n",
    "asthma = asthma[['YearStart', 'LocationAbbr', 'LocationDesc', 'Question', 'DataValue', 'Stratification1', 'DataValueType']]"
   ]
  },
  {
   "cell_type": "code",
   "execution_count": null,
   "id": "ec9cb617-fdb8-449c-9215-f0882872a51f",
   "metadata": {
    "tags": []
   },
   "outputs": [],
   "source": [
    "asthma.head()"
   ]
  },
  {
   "cell_type": "code",
   "execution_count": null,
   "id": "c65d4daa-a9e0-457e-82a0-bf9ab8f38025",
   "metadata": {
    "tags": []
   },
   "outputs": [],
   "source": [
    "asthma.shape"
   ]
  },
  {
   "cell_type": "code",
   "execution_count": null,
   "id": "d91eea93-c0bc-4b25-9449-1c55823d16d9",
   "metadata": {
    "tags": []
   },
   "outputs": [],
   "source": [
    "asthma['LocationDesc'].nunique()"
   ]
  },
  {
   "cell_type": "code",
   "execution_count": null,
   "id": "be83cb49-900f-494a-a073-fc1ee3078099",
   "metadata": {
    "tags": []
   },
   "outputs": [],
   "source": [
    "asthma.drop_duplicates(inplace=True)"
   ]
  },
  {
   "cell_type": "code",
   "execution_count": null,
   "id": "eba41fdb-afb5-4a12-92f9-4ed5dc5a4bbd",
   "metadata": {
    "tags": []
   },
   "outputs": [],
   "source": [
    "asthma.shape"
   ]
  },
  {
   "cell_type": "code",
   "execution_count": null,
   "id": "ba083af7-c862-4b17-8962-31265e5f9523",
   "metadata": {},
   "outputs": [],
   "source": [
    "# Reducing dataset to only include population totals/ dropping rates by race and gender demographics\n",
    "asthma = asthma[asthma['Stratification1'] == 'Overall']"
   ]
  },
  {
   "cell_type": "markdown",
   "id": "a816670c-22e1-4558-8607-009c2d2f6684",
   "metadata": {},
   "source": [
    "## Creating a function"
   ]
  },
  {
   "cell_type": "code",
   "execution_count": null,
   "id": "920f182c-6b1d-4471-a44a-9d7dc98d5664",
   "metadata": {
    "tags": []
   },
   "outputs": [],
   "source": [
    "#cancer = pd.read_csv('Ignore/Cancer.csv')\n",
    "#cancer.shape"
   ]
  },
  {
   "cell_type": "code",
   "execution_count": null,
   "id": "42e33312-ceb0-46dc-b1f0-fcd5c5ca61b5",
   "metadata": {
    "tags": []
   },
   "outputs": [],
   "source": [
    "#cancer['Question'].value_counts()"
   ]
  },
  {
   "cell_type": "code",
   "execution_count": null,
   "id": "8bfa63d6-0a92-4372-a8de-d42822e549da",
   "metadata": {
    "tags": []
   },
   "outputs": [],
   "source": [
    "#cancer['YearStart'].value_counts()"
   ]
  },
  {
   "cell_type": "code",
   "execution_count": null,
   "id": "0759a1d1-83b3-41c2-b5a4-4d0b0ae13c34",
   "metadata": {},
   "outputs": [],
   "source": [
    "#Reducing Cancer to just total cancer\n",
    "#cancer.Question.value_counts()\n",
    "\n",
    "#cancer = cancer[cancer['Question']== 'Invasive cancer (all sites combined), incidence']\n",
    "\n",
    "#cancer.shape"
   ]
  },
  {
   "cell_type": "code",
   "execution_count": null,
   "id": "1fb9c7b7-20b1-4886-816a-8a0a261f4b58",
   "metadata": {
    "tags": []
   },
   "outputs": [],
   "source": [
    "#cancer.YearStart.value_counts()"
   ]
  },
  {
   "cell_type": "markdown",
   "id": "ee5a7d42-5c9f-41fc-ad60-fa0ecb1a0a49",
   "metadata": {},
   "source": [
    "*For the question on interest, total cancer rates, we do not have data for 2019 or 2020. The most recent year is 2016 which is too long ago to be used as an accurate estimate of pre-existing cancer rates*"
   ]
  },
  {
   "cell_type": "markdown",
   "id": "5f34ba11-b83a-4f44-901d-fa37f448dd05",
   "metadata": {},
   "source": [
    "## Reading in other csvs "
   ]
  },
  {
   "cell_type": "code",
   "execution_count": null,
   "id": "19345d41-c344-4b87-a6fd-6d77b51a31f8",
   "metadata": {
    "tags": []
   },
   "outputs": [],
   "source": [
    "heart = pd.read_csv('Ignore/Cardiovascular.csv')"
   ]
  },
  {
   "cell_type": "code",
   "execution_count": null,
   "id": "79914f82-26a5-4246-a830-89d186e9b8ad",
   "metadata": {},
   "outputs": [],
   "source": [
    "# Splitting cardiac dataset into deaths from cardio diseases and diagnosed prevalence of hypertension\n",
    "cardiac_mortality = heart[heart['Question'] == 'Mortality from total cardiovascular diseases']\n",
    "print(cardiac_mortality.shape)\n",
    "\n",
    "high_blood_pressure = heart[heart['Question']== 'Awareness of high blood pressure among adults aged >= 18 years']\n",
    "print(high_blood_pressure.shape)"
   ]
  },
  {
   "cell_type": "code",
   "execution_count": null,
   "id": "15e8e20e-fd33-4770-9d96-2342056a62fd",
   "metadata": {
    "tags": []
   },
   "outputs": [],
   "source": [
    "copd = pd.read_csv('Ignore/COPD.csv')\n",
    "copd.shape"
   ]
  },
  {
   "cell_type": "code",
   "execution_count": null,
   "id": "b38bbd7d-af75-43d9-9547-4f124a336afa",
   "metadata": {},
   "outputs": [],
   "source": [
    "copd.Question.value_counts()\n",
    "\n",
    "copd = copd[copd['Question']== 'Prevalence of chronic obstructive pulmonary disease among adults >= 18']\n",
    "\n",
    "copd.shape"
   ]
  },
  {
   "cell_type": "code",
   "execution_count": null,
   "id": "115f2a02-47bc-4ad7-81a3-059da9f17828",
   "metadata": {
    "tags": []
   },
   "outputs": [],
   "source": [
    "diabetes = pd.read_csv('Ignore/Diabetes.csv')\n",
    "diabetes.shape"
   ]
  },
  {
   "cell_type": "code",
   "execution_count": null,
   "id": "f162317f-8a4c-451a-b209-b7f818c8b2b4",
   "metadata": {},
   "outputs": [],
   "source": [
    "diabetes['Question'].value_counts()\n",
    "\n",
    "diabetes = diabetes[diabetes['Question']== 'Prevalence of diagnosed diabetes among adults aged >= 18 years']\n",
    "\n",
    "diabetes.shape"
   ]
  },
  {
   "cell_type": "code",
   "execution_count": null,
   "id": "72e3e500-568a-4960-9843-ba620096ea53",
   "metadata": {
    "tags": []
   },
   "outputs": [],
   "source": [
    "immun = pd.read_csv('Ignore/Immunization.csv')"
   ]
  },
  {
   "cell_type": "code",
   "execution_count": null,
   "id": "df6692c4-941c-457b-b943-03c62ade9219",
   "metadata": {
    "tags": []
   },
   "outputs": [],
   "source": [
    "kidney = pd.read_csv('Ignore/Kidney.csv')"
   ]
  },
  {
   "cell_type": "code",
   "execution_count": null,
   "id": "f2974e58-d014-4bac-b391-3134effee369",
   "metadata": {},
   "outputs": [],
   "source": [
    "kidney['Question'].value_counts()\n",
    "\n",
    "kidney = kidney[kidney['Question']== 'Prevalence of chronic kidney disease among adults aged >= 18 years']\n",
    "\n",
    "kidney.shape"
   ]
  },
  {
   "cell_type": "markdown",
   "id": "b8ce5e8a-438f-47e0-98d4-c00a5e683bdb",
   "metadata": {},
   "source": [
    "## Defining cleaning function:\n",
    "Following the steps used on the asthma csv as each dataset is structured the same"
   ]
  },
  {
   "cell_type": "code",
   "execution_count": null,
   "id": "d3f69c90-24f2-4d23-b03d-f7ab91c9d9ca",
   "metadata": {
    "tags": []
   },
   "outputs": [],
   "source": [
    "def cleaning(df):\n",
    "    print(df.shape)\n",
    "    df = df[df['YearStart'] == 2019]\n",
    "    print(df.shape)\n",
    "    df = df[['YearStart', 'LocationAbbr', 'LocationDesc', 'Question', 'DataValue', 'Stratification1', 'DataValueType']]\n",
    "    print(df.shape)\n",
    "    df = df[df['Stratification1'] == 'Overall']\n",
    "    return df  \n",
    "               "
   ]
  },
  {
   "cell_type": "code",
   "execution_count": null,
   "id": "78ad6ad0-13fb-4fbe-9418-232a38b14d5a",
   "metadata": {
    "tags": []
   },
   "outputs": [],
   "source": [
    "#cancer = cancer[cancer['YearStart'] >= 2016]\n",
    "#cancer = cancer[['YearStart', 'LocationAbbr', 'LocationDesc', 'Question', 'DataValue', 'Stratification1']]                 "
   ]
  },
  {
   "cell_type": "code",
   "execution_count": null,
   "id": "7beae3f0-c525-426b-a442-4dfb02e8a3da",
   "metadata": {
    "tags": []
   },
   "outputs": [],
   "source": [
    "cardiac_mortality = cleaning(cardiac_mortality)"
   ]
  },
  {
   "cell_type": "code",
   "execution_count": null,
   "id": "f5ab94de-0ad1-494e-863a-dda6db6de711",
   "metadata": {},
   "outputs": [],
   "source": [
    "high_blood_pressure = cleaning(high_blood_pressure)"
   ]
  },
  {
   "cell_type": "code",
   "execution_count": null,
   "id": "00eaa724-36d9-4721-bc69-da552da36c9a",
   "metadata": {
    "tags": []
   },
   "outputs": [],
   "source": [
    "copd = cleaning(copd)"
   ]
  },
  {
   "cell_type": "code",
   "execution_count": null,
   "id": "f07d6768-e457-42a8-89ad-8140bf724aea",
   "metadata": {
    "tags": []
   },
   "outputs": [],
   "source": [
    "diabetes = cleaning(diabetes)"
   ]
  },
  {
   "cell_type": "code",
   "execution_count": null,
   "id": "910617b0-62e3-4ed2-9d1f-ebec0e42f43d",
   "metadata": {
    "tags": []
   },
   "outputs": [],
   "source": [
    "immun = cleaning(immun)"
   ]
  },
  {
   "cell_type": "code",
   "execution_count": null,
   "id": "00df9474-23a0-4dc3-b644-006cbef9f9b8",
   "metadata": {
    "tags": []
   },
   "outputs": [],
   "source": [
    "kidney = cleaning(kidney)"
   ]
  },
  {
   "cell_type": "code",
   "execution_count": null,
   "id": "d0ce4a8a-7db2-4195-8002-a776456fcdff",
   "metadata": {
    "tags": []
   },
   "outputs": [],
   "source": [
    "# I now have 7 dataframes. Some of these need to be filtered by question\n",
    "# asthma, cancer, heart, copd, diabetes, immun, kidney\n",
    "# I have the overall rates as well as rates by gender & race"
   ]
  },
  {
   "cell_type": "code",
   "execution_count": null,
   "id": "cf929237-b284-44e3-a212-4c0b6ddff828",
   "metadata": {
    "tags": []
   },
   "outputs": [],
   "source": [
    "#Examining the size of each dataset to ensure cleaning function worked\n",
    "\n",
    "print(asthma.shape)\n",
    "#print(cancer.shape)\n",
    "print(cardiac_mortality.shape)\n",
    "print(high_blood_pressure.shape)\n",
    "print(copd.shape)\n",
    "print(diabetes.shape)\n",
    "print(immun.shape)\n",
    "print(kidney.shape)"
   ]
  },
  {
   "cell_type": "code",
   "execution_count": null,
   "id": "0bef2056-ef20-4a32-bbe9-e650a41564a9",
   "metadata": {
    "tags": []
   },
   "outputs": [],
   "source": [
    "# Cardiac_mortality is larger: ensuring there are no duplicate values\n",
    "cardiac_mortality.drop_duplicates(inplace=True)"
   ]
  },
  {
   "cell_type": "code",
   "execution_count": null,
   "id": "93a59380-020b-4585-b2f3-c3032af57ad9",
   "metadata": {
    "tags": []
   },
   "outputs": [],
   "source": [
    "cardiac_mortality.shape"
   ]
  },
  {
   "cell_type": "code",
   "execution_count": null,
   "id": "7e3177be-91c2-4d35-989a-62a45d6c4a3c",
   "metadata": {
    "tags": []
   },
   "outputs": [],
   "source": [
    "asthma.head()"
   ]
  },
  {
   "cell_type": "code",
   "execution_count": null,
   "id": "0944215d-3742-4283-b8f3-d5e3f75a6a74",
   "metadata": {},
   "outputs": [],
   "source": [
    "asthma['Stratification1'].value_counts()"
   ]
  },
  {
   "cell_type": "code",
   "execution_count": null,
   "id": "3015b3a8-d036-4cdd-9912-96a0dd36158a",
   "metadata": {
    "tags": []
   },
   "outputs": [],
   "source": [
    "asthma.DataValueType.value_counts()"
   ]
  },
  {
   "cell_type": "code",
   "execution_count": null,
   "id": "89f1c7ff-8c6c-42c1-91fa-fb5f23143b41",
   "metadata": {
    "tags": []
   },
   "outputs": [],
   "source": [
    "copd.DataValueType.value_counts()"
   ]
  },
  {
   "cell_type": "code",
   "execution_count": null,
   "id": "d0fe4f33-e063-4d18-a902-ce8978df5485",
   "metadata": {
    "tags": []
   },
   "outputs": [],
   "source": [
    "cardiac_mortality.DataValueType.value_counts()"
   ]
  },
  {
   "cell_type": "code",
   "execution_count": null,
   "id": "c3516f57-08d0-40f7-b1a3-7aafb7a70257",
   "metadata": {
    "tags": []
   },
   "outputs": [],
   "source": [
    "high_blood_pressure.head()"
   ]
  },
  {
   "cell_type": "code",
   "execution_count": null,
   "id": "e795324c-f152-4cb1-a1c1-1cfb41968844",
   "metadata": {
    "tags": []
   },
   "outputs": [],
   "source": [
    "cardiac_mortality.head()"
   ]
  },
  {
   "cell_type": "code",
   "execution_count": null,
   "id": "4bf349c3-9eac-41ed-88c7-85d1721b2606",
   "metadata": {
    "tags": []
   },
   "outputs": [],
   "source": [
    "def adj(df):\n",
    "    adj_df = df[df['DataValueType'] == 'Age-adjusted Prevalence'].copy()\n",
    "    adj_df.drop(columns=['LocationAbbr', 'DataValueType', 'Stratification1'], inplace=True)\n",
    "    return adj_df\n",
    "\n",
    "def crude(df):\n",
    "    crude_df = df[df['DataValueType'] == 'Prevalence'].copy()\n",
    "    crude_df.drop(columns=['LocationAbbr', 'DataValueType', 'Stratification1'], inplace=True)\n",
    "    return crude_df\n",
    "\n",
    "# Cardiac mortality is 'Age-adjusted Rate' and 'Crude Rate' not 'Prevalence'- fix this in final code"
   ]
  },
  {
   "cell_type": "code",
   "execution_count": null,
   "id": "5611c955-f94b-4169-95fd-8bcbf936525d",
   "metadata": {
    "tags": []
   },
   "outputs": [],
   "source": [
    "#adj_asthma = adj(asthma)\n",
    "#crude_asthma = crude(asthma)\n",
    "\n",
    "#adj_asthma.to_csv('Data/asthma_adj.csv')\n",
    "#crude_asthma.to_csv('Data/asthma_crude.csv')"
   ]
  },
  {
   "cell_type": "code",
   "execution_count": null,
   "id": "8b74f322-9ecd-4bb8-a846-d849d1be2c95",
   "metadata": {
    "tags": []
   },
   "outputs": [],
   "source": [
    "#Don't keep re-running this cell\n",
    "def process_dataframes(dataframe_list):\n",
    "    results = {} \n",
    "    for name, df in dataframe_list.items():\n",
    "        adj_result = adj(df)\n",
    "        crude_result = crude(df)\n",
    "        results[name] = {'adj': adj_result, 'crude': crude_result}\n",
    "    return results\n",
    "\n",
    "# Create a list of DataFrames \n",
    "dataframe_list = {\n",
    "    'copd': copd,\n",
    "    'asthma': asthma,\n",
    "    'high_blood_pressure': high_blood_pressure,\n",
    "    'cardiac_mortality': cardiac_mortality,\n",
    "    'diabetes': diabetes,\n",
    "    'immun': immun,\n",
    "    'kidney': kidney\n",
    "}\n",
    "# Process the list of DataFrames\n",
    "results = process_dataframes(dataframe_list)\n",
    "\n",
    "# Save the results to CSV\n",
    "for name, result in results.items():\n",
    "    result['adj'].to_csv(f'Data/Raw/{name}_adj.csv', index = False)\n",
    "    result['crude'].to_csv(f'Data/Raw/{name}_crude.csv', index = False)"
   ]
  },
  {
   "cell_type": "code",
   "execution_count": null,
   "id": "bdbd7387-9e6f-4e98-9e3a-d3d5f6a3ca98",
   "metadata": {},
   "outputs": [],
   "source": []
  },
  {
   "cell_type": "markdown",
   "id": "3e356dda-f5af-4ccf-9ac2-ab32ff75569e",
   "metadata": {},
   "source": [
    "# Data Cleaning"
   ]
  },
  {
   "cell_type": "markdown",
   "id": "34ed690f-2a96-4751-b395-32849586d51f",
   "metadata": {},
   "source": [
    "### Data Cleaning Goals:\n",
    "\n",
    "1. Identify any issues with each dataframe\n",
    "2. If any missing values- fill with an appropriate placeholder/ check documentation\n",
    "3. Rename variables appropriately\n",
    "    - Location\n",
    "    - variable of interest\n",
    "4. Drop uneccesary columns\n",
    "    - year\n",
    "    - variable descriptions\n",
    "    - demographics (initially)\n",
    "    - abbreviations\n",
    "5. Drop unecessary rows\n",
    "    - Keep 50 states\n",
    "    - keep total us\n",
    "    - Maybe keep PR or DC if present in all datasets\n",
    "5. Calculate any necessary values-> convert total numbers to rates per population\n",
    "6. Check datatypes\n",
    "7. Date/ Time variables?\n",
    "8. Reformat dataframes if necessary\n",
    "9. Concatenate/ merge as necessary"
   ]
  },
  {
   "cell_type": "markdown",
   "id": "6e689618-3c4c-4970-a00f-4d6bc6133156",
   "metadata": {
    "tags": []
   },
   "source": [
    "#### For 2 insurance datasets: \n",
    "- add year as prefix/ suffix to each column \n",
    "- drop year column"
   ]
  },
  {
   "cell_type": "code",
   "execution_count": 3,
   "id": "efd3451c-61af-49f5-88d4-a5cfeb86de30",
   "metadata": {
    "tags": []
   },
   "outputs": [
    {
     "ename": "FileNotFoundError",
     "evalue": "[Errno 2] No such file or directory: 'Data/Raw/2019_insurance.csv'",
     "output_type": "error",
     "traceback": [
      "\u001b[0;31m---------------------------------------------------------------------------\u001b[0m",
      "\u001b[0;31mFileNotFoundError\u001b[0m                         Traceback (most recent call last)",
      "Cell \u001b[0;32mIn[3], line 1\u001b[0m\n\u001b[0;32m----> 1\u001b[0m insur_2019 \u001b[38;5;241m=\u001b[39m pd\u001b[38;5;241m.\u001b[39mread_csv(\u001b[38;5;124m'\u001b[39m\u001b[38;5;124mData/Raw/2019_insurance.csv\u001b[39m\u001b[38;5;124m'\u001b[39m)\n",
      "File \u001b[0;32m/Users/anaconda3/lib/python3.11/site-packages/pandas/util/_decorators.py:211\u001b[0m, in \u001b[0;36mdeprecate_kwarg.<locals>._deprecate_kwarg.<locals>.wrapper\u001b[0;34m(*args, **kwargs)\u001b[0m\n\u001b[1;32m    209\u001b[0m     \u001b[38;5;28;01melse\u001b[39;00m:\n\u001b[1;32m    210\u001b[0m         kwargs[new_arg_name] \u001b[38;5;241m=\u001b[39m new_arg_value\n\u001b[0;32m--> 211\u001b[0m \u001b[38;5;28;01mreturn\u001b[39;00m func(\u001b[38;5;241m*\u001b[39margs, \u001b[38;5;241m*\u001b[39m\u001b[38;5;241m*\u001b[39mkwargs)\n",
      "File \u001b[0;32m/Users/anaconda3/lib/python3.11/site-packages/pandas/util/_decorators.py:331\u001b[0m, in \u001b[0;36mdeprecate_nonkeyword_arguments.<locals>.decorate.<locals>.wrapper\u001b[0;34m(*args, **kwargs)\u001b[0m\n\u001b[1;32m    325\u001b[0m \u001b[38;5;28;01mif\u001b[39;00m \u001b[38;5;28mlen\u001b[39m(args) \u001b[38;5;241m>\u001b[39m num_allow_args:\n\u001b[1;32m    326\u001b[0m     warnings\u001b[38;5;241m.\u001b[39mwarn(\n\u001b[1;32m    327\u001b[0m         msg\u001b[38;5;241m.\u001b[39mformat(arguments\u001b[38;5;241m=\u001b[39m_format_argument_list(allow_args)),\n\u001b[1;32m    328\u001b[0m         \u001b[38;5;167;01mFutureWarning\u001b[39;00m,\n\u001b[1;32m    329\u001b[0m         stacklevel\u001b[38;5;241m=\u001b[39mfind_stack_level(),\n\u001b[1;32m    330\u001b[0m     )\n\u001b[0;32m--> 331\u001b[0m \u001b[38;5;28;01mreturn\u001b[39;00m func(\u001b[38;5;241m*\u001b[39margs, \u001b[38;5;241m*\u001b[39m\u001b[38;5;241m*\u001b[39mkwargs)\n",
      "File \u001b[0;32m/Users/anaconda3/lib/python3.11/site-packages/pandas/io/parsers/readers.py:950\u001b[0m, in \u001b[0;36mread_csv\u001b[0;34m(filepath_or_buffer, sep, delimiter, header, names, index_col, usecols, squeeze, prefix, mangle_dupe_cols, dtype, engine, converters, true_values, false_values, skipinitialspace, skiprows, skipfooter, nrows, na_values, keep_default_na, na_filter, verbose, skip_blank_lines, parse_dates, infer_datetime_format, keep_date_col, date_parser, dayfirst, cache_dates, iterator, chunksize, compression, thousands, decimal, lineterminator, quotechar, quoting, doublequote, escapechar, comment, encoding, encoding_errors, dialect, error_bad_lines, warn_bad_lines, on_bad_lines, delim_whitespace, low_memory, memory_map, float_precision, storage_options)\u001b[0m\n\u001b[1;32m    935\u001b[0m kwds_defaults \u001b[38;5;241m=\u001b[39m _refine_defaults_read(\n\u001b[1;32m    936\u001b[0m     dialect,\n\u001b[1;32m    937\u001b[0m     delimiter,\n\u001b[0;32m   (...)\u001b[0m\n\u001b[1;32m    946\u001b[0m     defaults\u001b[38;5;241m=\u001b[39m{\u001b[38;5;124m\"\u001b[39m\u001b[38;5;124mdelimiter\u001b[39m\u001b[38;5;124m\"\u001b[39m: \u001b[38;5;124m\"\u001b[39m\u001b[38;5;124m,\u001b[39m\u001b[38;5;124m\"\u001b[39m},\n\u001b[1;32m    947\u001b[0m )\n\u001b[1;32m    948\u001b[0m kwds\u001b[38;5;241m.\u001b[39mupdate(kwds_defaults)\n\u001b[0;32m--> 950\u001b[0m \u001b[38;5;28;01mreturn\u001b[39;00m _read(filepath_or_buffer, kwds)\n",
      "File \u001b[0;32m/Users/anaconda3/lib/python3.11/site-packages/pandas/io/parsers/readers.py:605\u001b[0m, in \u001b[0;36m_read\u001b[0;34m(filepath_or_buffer, kwds)\u001b[0m\n\u001b[1;32m    602\u001b[0m _validate_names(kwds\u001b[38;5;241m.\u001b[39mget(\u001b[38;5;124m\"\u001b[39m\u001b[38;5;124mnames\u001b[39m\u001b[38;5;124m\"\u001b[39m, \u001b[38;5;28;01mNone\u001b[39;00m))\n\u001b[1;32m    604\u001b[0m \u001b[38;5;66;03m# Create the parser.\u001b[39;00m\n\u001b[0;32m--> 605\u001b[0m parser \u001b[38;5;241m=\u001b[39m TextFileReader(filepath_or_buffer, \u001b[38;5;241m*\u001b[39m\u001b[38;5;241m*\u001b[39mkwds)\n\u001b[1;32m    607\u001b[0m \u001b[38;5;28;01mif\u001b[39;00m chunksize \u001b[38;5;129;01mor\u001b[39;00m iterator:\n\u001b[1;32m    608\u001b[0m     \u001b[38;5;28;01mreturn\u001b[39;00m parser\n",
      "File \u001b[0;32m/Users/anaconda3/lib/python3.11/site-packages/pandas/io/parsers/readers.py:1442\u001b[0m, in \u001b[0;36mTextFileReader.__init__\u001b[0;34m(self, f, engine, **kwds)\u001b[0m\n\u001b[1;32m   1439\u001b[0m     \u001b[38;5;28mself\u001b[39m\u001b[38;5;241m.\u001b[39moptions[\u001b[38;5;124m\"\u001b[39m\u001b[38;5;124mhas_index_names\u001b[39m\u001b[38;5;124m\"\u001b[39m] \u001b[38;5;241m=\u001b[39m kwds[\u001b[38;5;124m\"\u001b[39m\u001b[38;5;124mhas_index_names\u001b[39m\u001b[38;5;124m\"\u001b[39m]\n\u001b[1;32m   1441\u001b[0m \u001b[38;5;28mself\u001b[39m\u001b[38;5;241m.\u001b[39mhandles: IOHandles \u001b[38;5;241m|\u001b[39m \u001b[38;5;28;01mNone\u001b[39;00m \u001b[38;5;241m=\u001b[39m \u001b[38;5;28;01mNone\u001b[39;00m\n\u001b[0;32m-> 1442\u001b[0m \u001b[38;5;28mself\u001b[39m\u001b[38;5;241m.\u001b[39m_engine \u001b[38;5;241m=\u001b[39m \u001b[38;5;28mself\u001b[39m\u001b[38;5;241m.\u001b[39m_make_engine(f, \u001b[38;5;28mself\u001b[39m\u001b[38;5;241m.\u001b[39mengine)\n",
      "File \u001b[0;32m/Users/anaconda3/lib/python3.11/site-packages/pandas/io/parsers/readers.py:1735\u001b[0m, in \u001b[0;36mTextFileReader._make_engine\u001b[0;34m(self, f, engine)\u001b[0m\n\u001b[1;32m   1733\u001b[0m     \u001b[38;5;28;01mif\u001b[39;00m \u001b[38;5;124m\"\u001b[39m\u001b[38;5;124mb\u001b[39m\u001b[38;5;124m\"\u001b[39m \u001b[38;5;129;01mnot\u001b[39;00m \u001b[38;5;129;01min\u001b[39;00m mode:\n\u001b[1;32m   1734\u001b[0m         mode \u001b[38;5;241m+\u001b[39m\u001b[38;5;241m=\u001b[39m \u001b[38;5;124m\"\u001b[39m\u001b[38;5;124mb\u001b[39m\u001b[38;5;124m\"\u001b[39m\n\u001b[0;32m-> 1735\u001b[0m \u001b[38;5;28mself\u001b[39m\u001b[38;5;241m.\u001b[39mhandles \u001b[38;5;241m=\u001b[39m get_handle(\n\u001b[1;32m   1736\u001b[0m     f,\n\u001b[1;32m   1737\u001b[0m     mode,\n\u001b[1;32m   1738\u001b[0m     encoding\u001b[38;5;241m=\u001b[39m\u001b[38;5;28mself\u001b[39m\u001b[38;5;241m.\u001b[39moptions\u001b[38;5;241m.\u001b[39mget(\u001b[38;5;124m\"\u001b[39m\u001b[38;5;124mencoding\u001b[39m\u001b[38;5;124m\"\u001b[39m, \u001b[38;5;28;01mNone\u001b[39;00m),\n\u001b[1;32m   1739\u001b[0m     compression\u001b[38;5;241m=\u001b[39m\u001b[38;5;28mself\u001b[39m\u001b[38;5;241m.\u001b[39moptions\u001b[38;5;241m.\u001b[39mget(\u001b[38;5;124m\"\u001b[39m\u001b[38;5;124mcompression\u001b[39m\u001b[38;5;124m\"\u001b[39m, \u001b[38;5;28;01mNone\u001b[39;00m),\n\u001b[1;32m   1740\u001b[0m     memory_map\u001b[38;5;241m=\u001b[39m\u001b[38;5;28mself\u001b[39m\u001b[38;5;241m.\u001b[39moptions\u001b[38;5;241m.\u001b[39mget(\u001b[38;5;124m\"\u001b[39m\u001b[38;5;124mmemory_map\u001b[39m\u001b[38;5;124m\"\u001b[39m, \u001b[38;5;28;01mFalse\u001b[39;00m),\n\u001b[1;32m   1741\u001b[0m     is_text\u001b[38;5;241m=\u001b[39mis_text,\n\u001b[1;32m   1742\u001b[0m     errors\u001b[38;5;241m=\u001b[39m\u001b[38;5;28mself\u001b[39m\u001b[38;5;241m.\u001b[39moptions\u001b[38;5;241m.\u001b[39mget(\u001b[38;5;124m\"\u001b[39m\u001b[38;5;124mencoding_errors\u001b[39m\u001b[38;5;124m\"\u001b[39m, \u001b[38;5;124m\"\u001b[39m\u001b[38;5;124mstrict\u001b[39m\u001b[38;5;124m\"\u001b[39m),\n\u001b[1;32m   1743\u001b[0m     storage_options\u001b[38;5;241m=\u001b[39m\u001b[38;5;28mself\u001b[39m\u001b[38;5;241m.\u001b[39moptions\u001b[38;5;241m.\u001b[39mget(\u001b[38;5;124m\"\u001b[39m\u001b[38;5;124mstorage_options\u001b[39m\u001b[38;5;124m\"\u001b[39m, \u001b[38;5;28;01mNone\u001b[39;00m),\n\u001b[1;32m   1744\u001b[0m )\n\u001b[1;32m   1745\u001b[0m \u001b[38;5;28;01massert\u001b[39;00m \u001b[38;5;28mself\u001b[39m\u001b[38;5;241m.\u001b[39mhandles \u001b[38;5;129;01mis\u001b[39;00m \u001b[38;5;129;01mnot\u001b[39;00m \u001b[38;5;28;01mNone\u001b[39;00m\n\u001b[1;32m   1746\u001b[0m f \u001b[38;5;241m=\u001b[39m \u001b[38;5;28mself\u001b[39m\u001b[38;5;241m.\u001b[39mhandles\u001b[38;5;241m.\u001b[39mhandle\n",
      "File \u001b[0;32m/Users/anaconda3/lib/python3.11/site-packages/pandas/io/common.py:856\u001b[0m, in \u001b[0;36mget_handle\u001b[0;34m(path_or_buf, mode, encoding, compression, memory_map, is_text, errors, storage_options)\u001b[0m\n\u001b[1;32m    851\u001b[0m \u001b[38;5;28;01melif\u001b[39;00m \u001b[38;5;28misinstance\u001b[39m(handle, \u001b[38;5;28mstr\u001b[39m):\n\u001b[1;32m    852\u001b[0m     \u001b[38;5;66;03m# Check whether the filename is to be opened in binary mode.\u001b[39;00m\n\u001b[1;32m    853\u001b[0m     \u001b[38;5;66;03m# Binary mode does not support 'encoding' and 'newline'.\u001b[39;00m\n\u001b[1;32m    854\u001b[0m     \u001b[38;5;28;01mif\u001b[39;00m ioargs\u001b[38;5;241m.\u001b[39mencoding \u001b[38;5;129;01mand\u001b[39;00m \u001b[38;5;124m\"\u001b[39m\u001b[38;5;124mb\u001b[39m\u001b[38;5;124m\"\u001b[39m \u001b[38;5;129;01mnot\u001b[39;00m \u001b[38;5;129;01min\u001b[39;00m ioargs\u001b[38;5;241m.\u001b[39mmode:\n\u001b[1;32m    855\u001b[0m         \u001b[38;5;66;03m# Encoding\u001b[39;00m\n\u001b[0;32m--> 856\u001b[0m         handle \u001b[38;5;241m=\u001b[39m \u001b[38;5;28mopen\u001b[39m(\n\u001b[1;32m    857\u001b[0m             handle,\n\u001b[1;32m    858\u001b[0m             ioargs\u001b[38;5;241m.\u001b[39mmode,\n\u001b[1;32m    859\u001b[0m             encoding\u001b[38;5;241m=\u001b[39mioargs\u001b[38;5;241m.\u001b[39mencoding,\n\u001b[1;32m    860\u001b[0m             errors\u001b[38;5;241m=\u001b[39merrors,\n\u001b[1;32m    861\u001b[0m             newline\u001b[38;5;241m=\u001b[39m\u001b[38;5;124m\"\u001b[39m\u001b[38;5;124m\"\u001b[39m,\n\u001b[1;32m    862\u001b[0m         )\n\u001b[1;32m    863\u001b[0m     \u001b[38;5;28;01melse\u001b[39;00m:\n\u001b[1;32m    864\u001b[0m         \u001b[38;5;66;03m# Binary mode\u001b[39;00m\n\u001b[1;32m    865\u001b[0m         handle \u001b[38;5;241m=\u001b[39m \u001b[38;5;28mopen\u001b[39m(handle, ioargs\u001b[38;5;241m.\u001b[39mmode)\n",
      "\u001b[0;31mFileNotFoundError\u001b[0m: [Errno 2] No such file or directory: 'Data/Raw/2019_insurance.csv'"
     ]
    }
   ],
   "source": [
    "insur_2019 = pd.read_csv('Data/Raw/2019_insurance.csv')"
   ]
  },
  {
   "cell_type": "code",
   "execution_count": null,
   "id": "ea0b36f9-5b4b-42bb-96ea-46c01764629e",
   "metadata": {
    "tags": []
   },
   "outputs": [],
   "source": [
    "insur_2019.head()"
   ]
  },
  {
   "cell_type": "code",
   "execution_count": null,
   "id": "86e557ab-13ed-46c9-973f-6827d896e243",
   "metadata": {
    "tags": []
   },
   "outputs": [],
   "source": [
    "insur_2021 = pd.read_csv('Data/Raw/2021_insurance.csv')"
   ]
  },
  {
   "cell_type": "code",
   "execution_count": null,
   "id": "d18b4c2a-b7c8-4581-b6ad-b0b19e21c10b",
   "metadata": {},
   "outputs": [],
   "source": [
    "insur = pd.merge(insur_2019, insur_2021, how ='inner', on ='Location', suffixes=('_2019', '_2021'))"
   ]
  },
  {
   "cell_type": "code",
   "execution_count": null,
   "id": "68cc1a72-1c23-4bd2-a8c9-525e738a77dd",
   "metadata": {
    "tags": []
   },
   "outputs": [],
   "source": [
    "insur.head()"
   ]
  },
  {
   "cell_type": "code",
   "execution_count": null,
   "id": "6443f969-3bf0-497f-a762-c0730e86ae45",
   "metadata": {
    "tags": []
   },
   "outputs": [],
   "source": [
    "insur.drop(columns =['Year_2019', 'Year_2021'], inplace=True)"
   ]
  },
  {
   "cell_type": "code",
   "execution_count": null,
   "id": "26c349de-849d-4b7b-ae4c-6102a8279ee3",
   "metadata": {
    "tags": []
   },
   "outputs": [],
   "source": [
    "insur.head()"
   ]
  },
  {
   "cell_type": "code",
   "execution_count": null,
   "id": "fbabe5ba-ec4d-4dd4-b9ee-b4d9dd276a19",
   "metadata": {
    "tags": []
   },
   "outputs": [],
   "source": [
    "insur.to_csv('Data/cleaned_insur.csv', index = False)"
   ]
  },
  {
   "cell_type": "markdown",
   "id": "106987b4-39d1-4938-b448-dabc371f9818",
   "metadata": {},
   "source": [
    "#### For pre-existing conditions & immunizations:\n",
    "1. choose crude or adj\n",
    "2. drop old index\n",
    "3. rename data value to question\n",
    "4. drop year and question columns\n",
    "5. For total number of incident data -> after concatening with population data, convert to rate"
   ]
  },
  {
   "cell_type": "markdown",
   "id": "9724a6fc-8022-4973-bc36-f2efdddc352a",
   "metadata": {},
   "source": [
    "*Crude are the raw numbers. Adj are these numbers adjusted/ standardized based on population's age distribution. We can retain the crude numbers however the age adjusted numbers will probably be better for cross comparison*"
   ]
  },
  {
   "cell_type": "code",
   "execution_count": null,
   "id": "aef158ef-5f5e-43ac-803b-8eb304e6e1ab",
   "metadata": {},
   "outputs": [],
   "source": [
    "asthma = pd.read_csv('Data/Raw/asthma_adj.csv')"
   ]
  },
  {
   "cell_type": "code",
   "execution_count": null,
   "id": "126f96d0-3b82-4a34-b142-b92d4b2ebbbb",
   "metadata": {
    "tags": []
   },
   "outputs": [],
   "source": [
    "asthma.head()"
   ]
  },
  {
   "cell_type": "code",
   "execution_count": null,
   "id": "7b9cb7fc-f6fd-4d15-a415-6ded3ddd6531",
   "metadata": {
    "tags": []
   },
   "outputs": [],
   "source": [
    "asthma.rename(columns={\n",
    "    'DataValue':'asthma_prevalence',\n",
    "    'LocationDesc':'Location'}, inplace=True)"
   ]
  },
  {
   "cell_type": "code",
   "execution_count": null,
   "id": "4030ad17-843e-4b47-b6dc-b186a76c14ec",
   "metadata": {
    "tags": []
   },
   "outputs": [],
   "source": [
    "asthma.drop(columns=['Unnamed: 0', 'YearStart', 'Question'], inplace=True)\n",
    "asthma.head()"
   ]
  },
  {
   "cell_type": "code",
   "execution_count": null,
   "id": "eda2f5b0-7b17-4b79-a7a1-2dfdd7bf28c3",
   "metadata": {
    "tags": []
   },
   "outputs": [],
   "source": [
    "high_bp = pd.read_csv('Data/Raw/high_blood_pressure_adj.csv')\n",
    "high_bp.head()"
   ]
  },
  {
   "cell_type": "code",
   "execution_count": null,
   "id": "aa483f99-8ad9-4ead-9394-d7aadcbba0eb",
   "metadata": {
    "tags": []
   },
   "outputs": [],
   "source": [
    "high_bp.rename(columns={\n",
    "    'DataValue':'high_bp_prevalence',\n",
    "    'LocationDesc':'Location'}, inplace=True)\n",
    "high_bp.drop(columns=['Unnamed: 0', 'YearStart', 'Question'], inplace=True)\n",
    "high_bp.head()"
   ]
  },
  {
   "cell_type": "code",
   "execution_count": null,
   "id": "8bd0e7d9-5614-4854-8f3f-48ff77b2c764",
   "metadata": {
    "tags": []
   },
   "outputs": [],
   "source": [
    "cardiac_mortality = pd.read_csv('Data/Raw/cardiac_mortality_adj.csv')"
   ]
  },
  {
   "cell_type": "code",
   "execution_count": null,
   "id": "01ab0ce9-ba8f-4e61-b718-f09a0f39305a",
   "metadata": {
    "tags": []
   },
   "outputs": [],
   "source": [
    "cardiac_mortality.rename(columns={\n",
    "    'DataValue':'cardiac_mortality_rate',\n",
    "    'LocationDesc':'Location'}, inplace=True)\n",
    "cardiac_mortality.drop(columns=['Unnamed: 0', 'YearStart', 'Question'], inplace=True)\n",
    "cardiac_mortality.head()"
   ]
  },
  {
   "cell_type": "code",
   "execution_count": null,
   "id": "31517443-25ea-45c6-a6a1-196829609d4c",
   "metadata": {
    "tags": []
   },
   "outputs": [],
   "source": [
    "diabetes = pd.read_csv('Data/Raw/diabetes_adj.csv')\n",
    "diabetes.head()"
   ]
  },
  {
   "cell_type": "code",
   "execution_count": null,
   "id": "c1c9b4f2-8ff9-421e-a6f3-71fd423efa26",
   "metadata": {
    "tags": []
   },
   "outputs": [],
   "source": [
    "diabetes.rename(columns={\n",
    "    'DataValue':'diabetes_prevalence',\n",
    "    'LocationDesc':'Location'}, inplace=True)"
   ]
  },
  {
   "cell_type": "code",
   "execution_count": null,
   "id": "c4e7ac3c-74fd-4ec1-bb7d-a7abb823abe2",
   "metadata": {
    "tags": []
   },
   "outputs": [],
   "source": [
    "diabetes.drop(columns=['Unnamed: 0', 'YearStart', 'Question'], inplace=True)\n",
    "diabetes.head()"
   ]
  },
  {
   "cell_type": "code",
   "execution_count": null,
   "id": "594e7b6b-7379-4ce2-8064-5989bc6e8ce6",
   "metadata": {
    "tags": []
   },
   "outputs": [],
   "source": [
    "kidney = pd.read_csv('Data/Raw/kidney_adj.csv')\n",
    "kidney.head()"
   ]
  },
  {
   "cell_type": "code",
   "execution_count": null,
   "id": "8b961f37-02a8-4c40-97f6-677535f0f5c2",
   "metadata": {
    "tags": []
   },
   "outputs": [],
   "source": [
    "kidney.rename(columns={\n",
    "    'DataValue':'kidney_disease_prevalence',\n",
    "    'LocationDesc':'Location'}, inplace=True)"
   ]
  },
  {
   "cell_type": "code",
   "execution_count": null,
   "id": "bcffac53-e8f7-4c7c-a150-58a6f1561bfe",
   "metadata": {
    "tags": []
   },
   "outputs": [],
   "source": [
    "kidney.drop(columns=['Unnamed: 0', 'YearStart', 'Question'], inplace=True)\n",
    "kidney.head()"
   ]
  },
  {
   "cell_type": "code",
   "execution_count": null,
   "id": "2fee3369-689a-4497-8479-e5894d01bb57",
   "metadata": {
    "tags": []
   },
   "outputs": [],
   "source": [
    "copd = pd.read_csv('Data/Raw/copd_adj.csv')\n",
    "copd.rename(columns={\n",
    "    'DataValue':'copd_prevalence',\n",
    "    'LocationDesc':'Location'}, inplace=True)\n",
    "copd.drop(columns=['Unnamed: 0', 'YearStart', 'Question'], inplace=True)\n",
    "copd.head()"
   ]
  },
  {
   "cell_type": "code",
   "execution_count": null,
   "id": "33f350e5-29ab-40bf-aed3-89e7b68d4462",
   "metadata": {
    "tags": []
   },
   "outputs": [],
   "source": [
    "immun = pd.read_csv('Data/Raw/immun_adj.csv')\n",
    "immun.rename(columns={\n",
    "    'DataValue':'flu_vaccination_rate_2019',\n",
    "    'LocationDesc':'Location'}, inplace=True)\n",
    "immun.drop(columns=['Unnamed: 0', 'YearStart', 'Question'], inplace=True)\n",
    "immun.head()"
   ]
  },
  {
   "cell_type": "code",
   "execution_count": null,
   "id": "2fca2bb7-764a-40ff-a443-827684dddde0",
   "metadata": {
    "tags": []
   },
   "outputs": [],
   "source": [
    "pre_con = pd.merge(immun, asthma, on='Location', how='inner')\n",
    "\n",
    "dataframes_to_merge = [cardiac_mortality, high_bp, copd, kidney, diabetes]\n",
    "\n",
    "for df in dataframes_to_merge:\n",
    "    pre_con = pd.merge(pre_con, df, on='Location', how='inner')"
   ]
  },
  {
   "cell_type": "code",
   "execution_count": null,
   "id": "be3b7364-d6af-4e5b-a8eb-e05f9d4d4eb9",
   "metadata": {
    "tags": []
   },
   "outputs": [],
   "source": [
    "pre_con.shape"
   ]
  },
  {
   "cell_type": "code",
   "execution_count": 4,
   "id": "5ca51362-476f-4f70-b3f7-fcd1597eceeb",
   "metadata": {
    "tags": []
   },
   "outputs": [
    {
     "ename": "NameError",
     "evalue": "name 'pre_con' is not defined",
     "output_type": "error",
     "traceback": [
      "\u001b[0;31m---------------------------------------------------------------------------\u001b[0m",
      "\u001b[0;31mNameError\u001b[0m                                 Traceback (most recent call last)",
      "Cell \u001b[0;32mIn[4], line 1\u001b[0m\n\u001b[0;32m----> 1\u001b[0m pre_con\u001b[38;5;241m.\u001b[39mto_csv(\u001b[38;5;124m'\u001b[39m\u001b[38;5;124mData/cleaned_pre_condtions.csv\u001b[39m\u001b[38;5;124m'\u001b[39m, inplace \u001b[38;5;241m=\u001b[39m \u001b[38;5;28;01mTrue\u001b[39;00m)\n",
      "\u001b[0;31mNameError\u001b[0m: name 'pre_con' is not defined"
     ]
    }
   ],
   "source": [
    "pre_con.to_csv('Data/cleaned_pre_condtions.csv', index = True)"
   ]
  },
  {
   "cell_type": "markdown",
   "id": "f15b301e-a804-4114-a0cf-f1644aac902c",
   "metadata": {
    "tags": []
   },
   "source": [
    "#### Income per capita: (Suli)\n",
    "1. Rename year columns\n",
    "2. Rename Geoname to Location\n",
    "3. Drop geofips column\n"
   ]
  },
  {
   "cell_type": "markdown",
   "id": "e7cfdb4b-6456-4e9d-9862-81826031b9dd",
   "metadata": {},
   "source": [
    "#### Life Expectancy: (Suli)\n",
    "1. Convert abbreviated state names to unabbreviated name (Rename column name to match and then merge with Mask Mandates on abbreviations and then drop abbreviations)\n",
    "2. Rename State to Location\n",
    "3. Rename rate to average life expectancy\n",
    "4. Drop url and year"
   ]
  },
  {
   "cell_type": "markdown",
   "id": "85a47f98-121c-413c-a0ee-d2a825628c07",
   "metadata": {
    "tags": []
   },
   "source": [
    "#### Mask Mandate: (Suli)\n",
    "1. After using abbreviation to match with states for life expectancy drop abbrev\n",
    "2. Rename state_name to Location\n",
    "3. Rename mandatory to mask_mandate"
   ]
  },
  {
   "cell_type": "code",
   "execution_count": null,
   "id": "c65d2d27-5eed-4f3c-bc21-65cb1f843105",
   "metadata": {
    "tags": []
   },
   "outputs": [],
   "source": [
    "mask = pd.read_csv('Data/Mask Mandate.csv')\n",
    "mask.head()"
   ]
  },
  {
   "cell_type": "code",
   "execution_count": null,
   "id": "019629d9-4176-4697-bf7a-4fd76058c8c0",
   "metadata": {
    "tags": []
   },
   "outputs": [],
   "source": [
    "mask.rename(columns = {'STATE_NAME': 'Location'},inplace=True)\n",
    "mask.drop(columns='State_Abrv', inplace=True)\n",
    "mask.head()"
   ]
  },
  {
   "cell_type": "code",
   "execution_count": null,
   "id": "a4360575-9e98-4a7f-a4ae-81435b06d566",
   "metadata": {
    "tags": []
   },
   "outputs": [],
   "source": [
    "mask.to_csv('Data/cleaned_mask.csv', index = False)"
   ]
  },
  {
   "cell_type": "markdown",
   "id": "e79ac80e-a046-40e4-bddd-2301290c0e36",
   "metadata": {},
   "source": [
    "#### Population Data:\n",
    "1. Drop index column\n",
    "2. Rename State to Location"
   ]
  },
  {
   "cell_type": "code",
   "execution_count": null,
   "id": "9d5e208d-8335-413b-83a4-51cc2a47ab5f",
   "metadata": {
    "tags": []
   },
   "outputs": [],
   "source": [
    "pop_size = pd.read_csv('Data/Population_data_2010_&_2020.csv')"
   ]
  },
  {
   "cell_type": "code",
   "execution_count": null,
   "id": "49c1a28a-6f75-4087-9c21-860bef3f64bb",
   "metadata": {
    "tags": []
   },
   "outputs": [],
   "source": [
    "pop_size['Location'] = pop_size['State']"
   ]
  },
  {
   "cell_type": "code",
   "execution_count": null,
   "id": "467870a2-e0d1-429e-b8fb-92cd87159aee",
   "metadata": {
    "tags": []
   },
   "outputs": [],
   "source": [
    "pop_size.head()"
   ]
  },
  {
   "cell_type": "code",
   "execution_count": null,
   "id": "d5dc4581-d7d8-4ac1-8077-a17001e2f1bf",
   "metadata": {
    "tags": []
   },
   "outputs": [],
   "source": [
    "pop_size.drop(columns = ['Unnamed: 0', 'State'], inplace=True)"
   ]
  },
  {
   "cell_type": "code",
   "execution_count": null,
   "id": "11c6c38a-5d43-455a-99ff-f9a7cb834cb4",
   "metadata": {
    "tags": []
   },
   "outputs": [],
   "source": [
    "pop_size.head()"
   ]
  },
  {
   "cell_type": "code",
   "execution_count": null,
   "id": "a7511d54-5f65-4882-b0fd-681f06a23e8c",
   "metadata": {
    "tags": []
   },
   "outputs": [],
   "source": [
    "pop_size.to_csv('Data/cleaned_pop_size.csv', index = False)"
   ]
  },
  {
   "cell_type": "markdown",
   "id": "3ee10bb3-201d-42ee-9f49-7f9c8c251737",
   "metadata": {
    "tags": []
   },
   "source": [
    "#### Population Density:\n",
    "1. Drop index column\n",
    "2. Rename State to Location"
   ]
  },
  {
   "cell_type": "code",
   "execution_count": null,
   "id": "fec0c48d-c163-4792-aaca-a86d799f7198",
   "metadata": {
    "tags": []
   },
   "outputs": [],
   "source": [
    "pop_dense = pd.read_csv('Data/Population_Density_data.csv')"
   ]
  },
  {
   "cell_type": "code",
   "execution_count": null,
   "id": "e02fd990-1fc1-419d-8de3-ccc7a4a262d2",
   "metadata": {
    "tags": []
   },
   "outputs": [],
   "source": [
    "pop_dense.head()"
   ]
  },
  {
   "cell_type": "code",
   "execution_count": null,
   "id": "b2a86edc-2a3a-4ab8-bdd4-6f0b78ae847e",
   "metadata": {
    "tags": []
   },
   "outputs": [],
   "source": [
    "pop_dense.rename(columns={'State': 'Location'}, inplace=True)\n",
    "pop_dense.drop(columns='Unnamed: 0', inplace=True)"
   ]
  },
  {
   "cell_type": "code",
   "execution_count": null,
   "id": "0420f33e-15f4-4511-b63a-49a59a534182",
   "metadata": {
    "tags": []
   },
   "outputs": [],
   "source": [
    "pop_dense.head()"
   ]
  },
  {
   "cell_type": "code",
   "execution_count": null,
   "id": "c7504351-5da5-47ab-8b1c-79dd15404706",
   "metadata": {
    "tags": []
   },
   "outputs": [],
   "source": [
    "pop_dense.to_csv('Data/cleaned_pop_dense.csv', index = False)"
   ]
  },
  {
   "cell_type": "markdown",
   "id": "6d2be518-4c75-41f6-8176-6f53433f2fc3",
   "metadata": {},
   "source": [
    "#### Total Employment:\n",
    "1. Rename columns with values of row 1\n",
    "2. Rename year columns to total_employment_year\n",
    "3. Rename GeoName to Location\n",
    "4. Drop GeoFips"
   ]
  },
  {
   "cell_type": "markdown",
   "id": "6ac2fe4c-da79-4179-b73a-887d60a2003b",
   "metadata": {},
   "source": [
    "#### Total Physicians:\n",
    "- "
   ]
  },
  {
   "cell_type": "markdown",
   "id": "aedf6c74-20c9-431c-b8f7-71cb3fcafa69",
   "metadata": {},
   "source": [
    "# Merging Cleaned Datasets"
   ]
  },
  {
   "cell_type": "code",
   "execution_count": null,
   "id": "cd2abe99-fb7e-4fef-b10c-525889d0b1ee",
   "metadata": {},
   "outputs": [],
   "source": []
  }
 ],
 "metadata": {
  "kernelspec": {
   "display_name": "Python 3 (ipykernel)",
   "language": "python",
   "name": "python3"
  },
  "language_info": {
   "codemirror_mode": {
    "name": "ipython",
    "version": 3
   },
   "file_extension": ".py",
   "mimetype": "text/x-python",
   "name": "python",
   "nbconvert_exporter": "python",
   "pygments_lexer": "ipython3",
   "version": "3.11.4"
  }
 },
 "nbformat": 4,
 "nbformat_minor": 5
}
