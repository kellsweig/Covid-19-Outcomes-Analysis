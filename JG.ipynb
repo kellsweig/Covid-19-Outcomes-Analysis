{
 "cells": [
  {
   "cell_type": "markdown",
   "id": "1db63af4-daaf-4f20-94ec-e4c629478f72",
   "metadata": {},
   "source": [
    "## JG Thoughts \n",
    "- Unemployment rate vs employment #s? Look at change in UE rate or total as of certain point in time\n",
    "- Inc_Per_CAp_2022 -> typo?\n",
    "- Population Density per mi² -> what yr? Also is string\n",
    "- NA values in NJ\n",
    "- Convert weeks into %?"
   ]
  },
  {
   "cell_type": "code",
   "execution_count": 85,
   "id": "fda83e27-4715-41f9-95a3-091a3a482f4a",
   "metadata": {},
   "outputs": [],
   "source": [
    "# Imports\n",
    "import pandas as pd\n",
    "import numpy as np\n",
    "import matplotlib.pyplot as plt\n",
    "import seaborn as sns\n",
    "from sklearn.linear_model import LinearRegression\n",
    "from sklearn.model_selection import train_test_split\n",
    "from sklearn import metrics\n",
    "import statsmodels.api as sm"
   ]
  },
  {
   "cell_type": "code",
   "execution_count": 54,
   "id": "cff9c0ba-1bdd-4e1a-91b4-1386b14bbadc",
   "metadata": {},
   "outputs": [],
   "source": [
    "df = pd.read_csv('Data/Merged_state_data.csv')"
   ]
  },
  {
   "cell_type": "code",
   "execution_count": 55,
   "id": "71fb6c11-f0bf-47af-8a46-3851df431d9f",
   "metadata": {
    "tags": []
   },
   "outputs": [
    {
     "data": {
      "text/html": [
       "<div>\n",
       "<style scoped>\n",
       "    .dataframe tbody tr th:only-of-type {\n",
       "        vertical-align: middle;\n",
       "    }\n",
       "\n",
       "    .dataframe tbody tr th {\n",
       "        vertical-align: top;\n",
       "    }\n",
       "\n",
       "    .dataframe thead th {\n",
       "        text-align: right;\n",
       "    }\n",
       "</style>\n",
       "<table border=\"1\" class=\"dataframe\">\n",
       "  <thead>\n",
       "    <tr style=\"text-align: right;\">\n",
       "      <th></th>\n",
       "      <th>Location</th>\n",
       "      <th>Employment_2020</th>\n",
       "      <th>Employment_2021</th>\n",
       "      <th>Employment_2022</th>\n",
       "      <th>Inc_Per_Cap_2020</th>\n",
       "      <th>Inc_Per_Cap_2021</th>\n",
       "      <th>Inc_Per_CAp_2022</th>\n",
       "      <th>Life_Exp_2020</th>\n",
       "      <th>Life_Exp_2019</th>\n",
       "      <th>Life_Exp_2018</th>\n",
       "      <th>...</th>\n",
       "      <th>Exc_deaths_2019</th>\n",
       "      <th>Exc_deaths_2020</th>\n",
       "      <th>Exc_deaths_2021</th>\n",
       "      <th>Exc_deaths_2022</th>\n",
       "      <th>Exc_count_2017</th>\n",
       "      <th>Exc_count_2018</th>\n",
       "      <th>Exc_count_2019</th>\n",
       "      <th>Exc_count_2020</th>\n",
       "      <th>Exc_count_2021</th>\n",
       "      <th>Exc_count_2022</th>\n",
       "    </tr>\n",
       "  </thead>\n",
       "  <tbody>\n",
       "    <tr>\n",
       "      <th>0</th>\n",
       "      <td>Alabama</td>\n",
       "      <td>2671005</td>\n",
       "      <td>2769464</td>\n",
       "      <td>2869931</td>\n",
       "      <td>45887</td>\n",
       "      <td>50059</td>\n",
       "      <td>50916</td>\n",
       "      <td>73.2</td>\n",
       "      <td>75.2</td>\n",
       "      <td>75.1</td>\n",
       "      <td>...</td>\n",
       "      <td>945</td>\n",
       "      <td>20726</td>\n",
       "      <td>29283</td>\n",
       "      <td>14805</td>\n",
       "      <td>3</td>\n",
       "      <td>15</td>\n",
       "      <td>0</td>\n",
       "      <td>99</td>\n",
       "      <td>106</td>\n",
       "      <td>87</td>\n",
       "    </tr>\n",
       "    <tr>\n",
       "      <th>1</th>\n",
       "      <td>Alaska</td>\n",
       "      <td>430840</td>\n",
       "      <td>443047</td>\n",
       "      <td>457687</td>\n",
       "      <td>61898</td>\n",
       "      <td>65662</td>\n",
       "      <td>68635</td>\n",
       "      <td>76.6</td>\n",
       "      <td>77.7</td>\n",
       "      <td>78.0</td>\n",
       "      <td>...</td>\n",
       "      <td>639</td>\n",
       "      <td>1422</td>\n",
       "      <td>3483</td>\n",
       "      <td>1783</td>\n",
       "      <td>6</td>\n",
       "      <td>6</td>\n",
       "      <td>3</td>\n",
       "      <td>34</td>\n",
       "      <td>75</td>\n",
       "      <td>42</td>\n",
       "    </tr>\n",
       "    <tr>\n",
       "      <th>2</th>\n",
       "      <td>Arizona</td>\n",
       "      <td>3920033</td>\n",
       "      <td>4086802</td>\n",
       "      <td>4287595</td>\n",
       "      <td>52133</td>\n",
       "      <td>56420</td>\n",
       "      <td>58442</td>\n",
       "      <td>76.3</td>\n",
       "      <td>78.8</td>\n",
       "      <td>78.7</td>\n",
       "      <td>...</td>\n",
       "      <td>1785</td>\n",
       "      <td>30955</td>\n",
       "      <td>40347</td>\n",
       "      <td>20653</td>\n",
       "      <td>9</td>\n",
       "      <td>15</td>\n",
       "      <td>0</td>\n",
       "      <td>89</td>\n",
       "      <td>114</td>\n",
       "      <td>77</td>\n",
       "    </tr>\n",
       "    <tr>\n",
       "      <th>3</th>\n",
       "      <td>Arkansas</td>\n",
       "      <td>1639829</td>\n",
       "      <td>1686444</td>\n",
       "      <td>1755536</td>\n",
       "      <td>47147</td>\n",
       "      <td>51636</td>\n",
       "      <td>52618</td>\n",
       "      <td>73.8</td>\n",
       "      <td>75.7</td>\n",
       "      <td>75.6</td>\n",
       "      <td>...</td>\n",
       "      <td>1434</td>\n",
       "      <td>11285</td>\n",
       "      <td>15391</td>\n",
       "      <td>8969</td>\n",
       "      <td>12</td>\n",
       "      <td>12</td>\n",
       "      <td>0</td>\n",
       "      <td>66</td>\n",
       "      <td>93</td>\n",
       "      <td>64</td>\n",
       "    </tr>\n",
       "    <tr>\n",
       "      <th>4</th>\n",
       "      <td>California</td>\n",
       "      <td>23154091</td>\n",
       "      <td>23934549</td>\n",
       "      <td>25300974</td>\n",
       "      <td>70061</td>\n",
       "      <td>76991</td>\n",
       "      <td>77036</td>\n",
       "      <td>79.0</td>\n",
       "      <td>80.9</td>\n",
       "      <td>80.8</td>\n",
       "      <td>...</td>\n",
       "      <td>1029</td>\n",
       "      <td>93875</td>\n",
       "      <td>133206</td>\n",
       "      <td>89195</td>\n",
       "      <td>18</td>\n",
       "      <td>12</td>\n",
       "      <td>0</td>\n",
       "      <td>94</td>\n",
       "      <td>104</td>\n",
       "      <td>106</td>\n",
       "    </tr>\n",
       "  </tbody>\n",
       "</table>\n",
       "<p>5 rows × 50 columns</p>\n",
       "</div>"
      ],
      "text/plain": [
       "     Location  Employment_2020  Employment_2021  Employment_2022  \\\n",
       "0     Alabama          2671005          2769464          2869931   \n",
       "1      Alaska           430840           443047           457687   \n",
       "2     Arizona          3920033          4086802          4287595   \n",
       "3    Arkansas          1639829          1686444          1755536   \n",
       "4  California         23154091         23934549         25300974   \n",
       "\n",
       "   Inc_Per_Cap_2020  Inc_Per_Cap_2021  Inc_Per_CAp_2022  Life_Exp_2020  \\\n",
       "0             45887             50059             50916           73.2   \n",
       "1             61898             65662             68635           76.6   \n",
       "2             52133             56420             58442           76.3   \n",
       "3             47147             51636             52618           73.8   \n",
       "4             70061             76991             77036           79.0   \n",
       "\n",
       "   Life_Exp_2019  Life_Exp_2018  ...  Exc_deaths_2019  Exc_deaths_2020  \\\n",
       "0           75.2           75.1  ...              945            20726   \n",
       "1           77.7           78.0  ...              639             1422   \n",
       "2           78.8           78.7  ...             1785            30955   \n",
       "3           75.7           75.6  ...             1434            11285   \n",
       "4           80.9           80.8  ...             1029            93875   \n",
       "\n",
       "   Exc_deaths_2021  Exc_deaths_2022  Exc_count_2017  Exc_count_2018  \\\n",
       "0            29283            14805               3              15   \n",
       "1             3483             1783               6               6   \n",
       "2            40347            20653               9              15   \n",
       "3            15391             8969              12              12   \n",
       "4           133206            89195              18              12   \n",
       "\n",
       "   Exc_count_2019  Exc_count_2020  Exc_count_2021  Exc_count_2022  \n",
       "0               0              99             106              87  \n",
       "1               3              34              75              42  \n",
       "2               0              89             114              77  \n",
       "3               0              66              93              64  \n",
       "4               0              94             104             106  \n",
       "\n",
       "[5 rows x 50 columns]"
      ]
     },
     "execution_count": 55,
     "metadata": {},
     "output_type": "execute_result"
    }
   ],
   "source": [
    "df.head()"
   ]
  },
  {
   "cell_type": "code",
   "execution_count": 56,
   "id": "1fae2d01-4852-4c43-88f3-5fcd34089ce6",
   "metadata": {
    "collapsed": true,
    "jupyter": {
     "outputs_hidden": true
    },
    "tags": []
   },
   "outputs": [
    {
     "data": {
      "text/plain": [
       "Location                       object\n",
       "Employment_2020                 int64\n",
       "Employment_2021                 int64\n",
       "Employment_2022                 int64\n",
       "Inc_Per_Cap_2020                int64\n",
       "Inc_Per_Cap_2021                int64\n",
       "Inc_Per_CAp_2022                int64\n",
       "Life_Exp_2020                 float64\n",
       "Life_Exp_2019                 float64\n",
       "Life_Exp_2018                 float64\n",
       "Employer_2019                 float64\n",
       "Non-Group_2019                float64\n",
       "Medicaid_2019                 float64\n",
       "Medicare_2019                 float64\n",
       "Military_2019                 float64\n",
       "Uninsured_2019                float64\n",
       "Employer_2021                 float64\n",
       "Non-Group_2021                float64\n",
       "Medicaid_2021                 float64\n",
       "Medicare_2021                 float64\n",
       "Military_2021                 float64\n",
       "Uninsured_2021                float64\n",
       "Population Density per mi²     object\n",
       "2010 Population                 int64\n",
       "2020 Population                 int64\n",
       "flu_vaccination_rate_2019     float64\n",
       "asthma_prevalence             float64\n",
       "cardiac_mortality_rate        float64\n",
       "high_bp_prevalence            float64\n",
       "copd_prevalence               float64\n",
       "kidney_disease_prevalence     float64\n",
       "diabetes_prevalence           float64\n",
       "Physicians                     object\n",
       "Physicians Rate               float64\n",
       "Active MO                      object\n",
       "Active MO Rate                float64\n",
       "Active DO                      object\n",
       "Active DO Rate                float64\n",
       "Exc_deaths_2017                 int64\n",
       "Exc_deaths_2018                 int64\n",
       "Exc_deaths_2019                 int64\n",
       "Exc_deaths_2020                 int64\n",
       "Exc_deaths_2021                 int64\n",
       "Exc_deaths_2022                 int64\n",
       "Exc_count_2017                  int64\n",
       "Exc_count_2018                  int64\n",
       "Exc_count_2019                  int64\n",
       "Exc_count_2020                  int64\n",
       "Exc_count_2021                  int64\n",
       "Exc_count_2022                  int64\n",
       "dtype: object"
      ]
     },
     "execution_count": 56,
     "metadata": {},
     "output_type": "execute_result"
    }
   ],
   "source": [
    "# df.columns\n",
    "df.dtypes"
   ]
  },
  {
   "cell_type": "code",
   "execution_count": 67,
   "id": "de36aa71-8224-44db-bfb9-c72291663c4d",
   "metadata": {
    "tags": []
   },
   "outputs": [],
   "source": [
    "df['excess_deaths_total_weeks'] =  df['Exc_count_2020'] + df['Exc_count_2021'] + df['Exc_count_2022']\n",
    "\n",
    "\n",
    "df = df[['Inc_Per_CAp_2022', 'Life_Exp_2020', 'Uninsured_2021', 'flu_vaccination_rate_2019', 'asthma_prevalence','excess_deaths_total_weeks',\n",
    "        'cardiac_mortality_rate', 'high_bp_prevalence', 'copd_prevalence', 'kidney_disease_prevalence', 'diabetes_prevalence', 'Active DO Rate']]"
   ]
  },
  {
   "cell_type": "code",
   "execution_count": 68,
   "id": "e9ae49e1-dc10-4b69-854b-c8532aa77d7f",
   "metadata": {
    "tags": []
   },
   "outputs": [],
   "source": [
    "# Drop NAs in df\n",
    "df.dropna(inplace=True)"
   ]
  },
  {
   "cell_type": "code",
   "execution_count": 69,
   "id": "bbb838b9-d764-416c-922a-073d7057d009",
   "metadata": {
    "tags": []
   },
   "outputs": [],
   "source": [
    "# y variable will be # of weeks with excess deaths in 2020, 2021 and 2022\n",
    "y = df['excess_deaths_total_weeks']"
   ]
  },
  {
   "cell_type": "code",
   "execution_count": 70,
   "id": "de0ec516-ad19-43b5-b6f8-1ea8f3733c55",
   "metadata": {
    "tags": []
   },
   "outputs": [],
   "source": [
    "# X variables\n",
    "X = df[['Inc_Per_CAp_2022', 'Life_Exp_2020', 'Uninsured_2021', 'flu_vaccination_rate_2019', 'asthma_prevalence',\n",
    "        'cardiac_mortality_rate', 'high_bp_prevalence', 'copd_prevalence', 'kidney_disease_prevalence', 'diabetes_prevalence', 'Active DO Rate']]"
   ]
  },
  {
   "cell_type": "code",
   "execution_count": 83,
   "id": "b8517a7b-6afb-4a47-9936-23300ab62c0e",
   "metadata": {
    "tags": []
   },
   "outputs": [],
   "source": [
    "# X.head()"
   ]
  },
  {
   "cell_type": "markdown",
   "id": "2c7954dd-2f8e-4da3-8d37-2f2b957cafa8",
   "metadata": {},
   "source": [
    "## Linear Regression (LR)"
   ]
  },
  {
   "cell_type": "code",
   "execution_count": 77,
   "id": "0ff03333-9d27-459f-a773-64c9fe48417b",
   "metadata": {
    "tags": []
   },
   "outputs": [],
   "source": [
    "X = sm.add_constant(X)\n",
    "ols = sm.OLS(y, X).fit()"
   ]
  },
  {
   "cell_type": "code",
   "execution_count": 78,
   "id": "d977aa91-7da2-4ca3-9a7d-9a9fa56dc435",
   "metadata": {
    "tags": []
   },
   "outputs": [
    {
     "data": {
      "text/html": [
       "<table class=\"simpletable\">\n",
       "<caption>OLS Regression Results</caption>\n",
       "<tr>\n",
       "  <th>Dep. Variable:</th>    <td>excess_deaths_total_weeks</td> <th>  R-squared:         </th> <td>   0.467</td>\n",
       "</tr>\n",
       "<tr>\n",
       "  <th>Model:</th>                       <td>OLS</td>            <th>  Adj. R-squared:    </th> <td>   0.309</td>\n",
       "</tr>\n",
       "<tr>\n",
       "  <th>Method:</th>                 <td>Least Squares</td>       <th>  F-statistic:       </th> <td>   2.948</td>\n",
       "</tr>\n",
       "<tr>\n",
       "  <th>Date:</th>                 <td>Tue, 31 Oct 2023</td>      <th>  Prob (F-statistic):</th>  <td>0.00672</td>\n",
       "</tr>\n",
       "<tr>\n",
       "  <th>Time:</th>                     <td>16:47:04</td>          <th>  Log-Likelihood:    </th> <td> -262.11</td>\n",
       "</tr>\n",
       "<tr>\n",
       "  <th>No. Observations:</th>          <td>    49</td>           <th>  AIC:               </th> <td>   548.2</td>\n",
       "</tr>\n",
       "<tr>\n",
       "  <th>Df Residuals:</th>              <td>    37</td>           <th>  BIC:               </th> <td>   570.9</td>\n",
       "</tr>\n",
       "<tr>\n",
       "  <th>Df Model:</th>                  <td>    11</td>           <th>                     </th>     <td> </td>   \n",
       "</tr>\n",
       "<tr>\n",
       "  <th>Covariance Type:</th>          <td>nonrobust</td>         <th>                     </th>     <td> </td>   \n",
       "</tr>\n",
       "</table>\n",
       "<table class=\"simpletable\">\n",
       "<tr>\n",
       "              <td></td>                 <th>coef</th>     <th>std err</th>      <th>t</th>      <th>P>|t|</th>  <th>[0.025</th>    <th>0.975]</th>  \n",
       "</tr>\n",
       "<tr>\n",
       "  <th>const</th>                     <td>  130.3773</td> <td> 1009.599</td> <td>    0.129</td> <td> 0.898</td> <td>-1915.265</td> <td> 2176.020</td>\n",
       "</tr>\n",
       "<tr>\n",
       "  <th>Inc_Per_CAp_2022</th>          <td>   -0.0001</td> <td>    0.002</td> <td>   -0.062</td> <td> 0.951</td> <td>   -0.003</td> <td>    0.003</td>\n",
       "</tr>\n",
       "<tr>\n",
       "  <th>Life_Exp_2020</th>             <td>    1.8377</td> <td>   11.606</td> <td>    0.158</td> <td> 0.875</td> <td>  -21.678</td> <td>   25.354</td>\n",
       "</tr>\n",
       "<tr>\n",
       "  <th>Uninsured_2021</th>            <td>  691.8334</td> <td>  414.346</td> <td>    1.670</td> <td> 0.103</td> <td> -147.712</td> <td> 1531.379</td>\n",
       "</tr>\n",
       "<tr>\n",
       "  <th>flu_vaccination_rate_2019</th> <td>   -3.6849</td> <td>    2.518</td> <td>   -1.464</td> <td> 0.152</td> <td>   -8.786</td> <td>    1.416</td>\n",
       "</tr>\n",
       "<tr>\n",
       "  <th>asthma_prevalence</th>         <td>   -2.2474</td> <td>   10.538</td> <td>   -0.213</td> <td> 0.832</td> <td>  -23.599</td> <td>   19.104</td>\n",
       "</tr>\n",
       "<tr>\n",
       "  <th>cardiac_mortality_rate</th>    <td>    0.0796</td> <td>    0.604</td> <td>    0.132</td> <td> 0.896</td> <td>   -1.144</td> <td>    1.303</td>\n",
       "</tr>\n",
       "<tr>\n",
       "  <th>high_bp_prevalence</th>        <td>   -3.8579</td> <td>    5.833</td> <td>   -0.661</td> <td> 0.512</td> <td>  -15.676</td> <td>    7.960</td>\n",
       "</tr>\n",
       "<tr>\n",
       "  <th>copd_prevalence</th>           <td>    4.1030</td> <td>   13.977</td> <td>    0.294</td> <td> 0.771</td> <td>  -24.218</td> <td>   32.424</td>\n",
       "</tr>\n",
       "<tr>\n",
       "  <th>kidney_disease_prevalence</th> <td>    9.6891</td> <td>   26.001</td> <td>    0.373</td> <td> 0.712</td> <td>  -42.993</td> <td>   62.371</td>\n",
       "</tr>\n",
       "<tr>\n",
       "  <th>diabetes_prevalence</th>       <td>   13.4773</td> <td>   12.278</td> <td>    1.098</td> <td> 0.279</td> <td>  -11.400</td> <td>   38.354</td>\n",
       "</tr>\n",
       "<tr>\n",
       "  <th>Active DO Rate</th>            <td>   -0.8568</td> <td>    0.863</td> <td>   -0.993</td> <td> 0.327</td> <td>   -2.605</td> <td>    0.892</td>\n",
       "</tr>\n",
       "</table>\n",
       "<table class=\"simpletable\">\n",
       "<tr>\n",
       "  <th>Omnibus:</th>       <td> 0.591</td> <th>  Durbin-Watson:     </th> <td>   1.877</td>\n",
       "</tr>\n",
       "<tr>\n",
       "  <th>Prob(Omnibus):</th> <td> 0.744</td> <th>  Jarque-Bera (JB):  </th> <td>   0.172</td>\n",
       "</tr>\n",
       "<tr>\n",
       "  <th>Skew:</th>          <td> 0.124</td> <th>  Prob(JB):          </th> <td>   0.917</td>\n",
       "</tr>\n",
       "<tr>\n",
       "  <th>Kurtosis:</th>      <td> 3.151</td> <th>  Cond. No.          </th> <td>7.77e+06</td>\n",
       "</tr>\n",
       "</table><br/><br/>Notes:<br/>[1] Standard Errors assume that the covariance matrix of the errors is correctly specified.<br/>[2] The condition number is large, 7.77e+06. This might indicate that there are<br/>strong multicollinearity or other numerical problems."
      ],
      "text/latex": [
       "\\begin{center}\n",
       "\\begin{tabular}{lclc}\n",
       "\\toprule\n",
       "\\textbf{Dep. Variable:}               & excess\\_deaths\\_total\\_weeks & \\textbf{  R-squared:         } &     0.467   \\\\\n",
       "\\textbf{Model:}                       &             OLS              & \\textbf{  Adj. R-squared:    } &     0.309   \\\\\n",
       "\\textbf{Method:}                      &        Least Squares         & \\textbf{  F-statistic:       } &     2.948   \\\\\n",
       "\\textbf{Date:}                        &       Tue, 31 Oct 2023       & \\textbf{  Prob (F-statistic):} &  0.00672    \\\\\n",
       "\\textbf{Time:}                        &           16:47:04           & \\textbf{  Log-Likelihood:    } &   -262.11   \\\\\n",
       "\\textbf{No. Observations:}            &                49            & \\textbf{  AIC:               } &     548.2   \\\\\n",
       "\\textbf{Df Residuals:}                &                37            & \\textbf{  BIC:               } &     570.9   \\\\\n",
       "\\textbf{Df Model:}                    &                11            & \\textbf{                     } &             \\\\\n",
       "\\textbf{Covariance Type:}             &          nonrobust           & \\textbf{                     } &             \\\\\n",
       "\\bottomrule\n",
       "\\end{tabular}\n",
       "\\begin{tabular}{lcccccc}\n",
       "                                      & \\textbf{coef} & \\textbf{std err} & \\textbf{t} & \\textbf{P$> |$t$|$} & \\textbf{[0.025} & \\textbf{0.975]}  \\\\\n",
       "\\midrule\n",
       "\\textbf{const}                        &     130.3773  &     1009.599     &     0.129  &         0.898        &    -1915.265    &     2176.020     \\\\\n",
       "\\textbf{Inc\\_Per\\_CAp\\_2022}          &      -0.0001  &        0.002     &    -0.062  &         0.951        &       -0.003    &        0.003     \\\\\n",
       "\\textbf{Life\\_Exp\\_2020}              &       1.8377  &       11.606     &     0.158  &         0.875        &      -21.678    &       25.354     \\\\\n",
       "\\textbf{Uninsured\\_2021}              &     691.8334  &      414.346     &     1.670  &         0.103        &     -147.712    &     1531.379     \\\\\n",
       "\\textbf{flu\\_vaccination\\_rate\\_2019} &      -3.6849  &        2.518     &    -1.464  &         0.152        &       -8.786    &        1.416     \\\\\n",
       "\\textbf{asthma\\_prevalence}           &      -2.2474  &       10.538     &    -0.213  &         0.832        &      -23.599    &       19.104     \\\\\n",
       "\\textbf{cardiac\\_mortality\\_rate}     &       0.0796  &        0.604     &     0.132  &         0.896        &       -1.144    &        1.303     \\\\\n",
       "\\textbf{high\\_bp\\_prevalence}         &      -3.8579  &        5.833     &    -0.661  &         0.512        &      -15.676    &        7.960     \\\\\n",
       "\\textbf{copd\\_prevalence}             &       4.1030  &       13.977     &     0.294  &         0.771        &      -24.218    &       32.424     \\\\\n",
       "\\textbf{kidney\\_disease\\_prevalence}  &       9.6891  &       26.001     &     0.373  &         0.712        &      -42.993    &       62.371     \\\\\n",
       "\\textbf{diabetes\\_prevalence}         &      13.4773  &       12.278     &     1.098  &         0.279        &      -11.400    &       38.354     \\\\\n",
       "\\textbf{Active DO Rate}               &      -0.8568  &        0.863     &    -0.993  &         0.327        &       -2.605    &        0.892     \\\\\n",
       "\\bottomrule\n",
       "\\end{tabular}\n",
       "\\begin{tabular}{lclc}\n",
       "\\textbf{Omnibus:}       &  0.591 & \\textbf{  Durbin-Watson:     } &    1.877  \\\\\n",
       "\\textbf{Prob(Omnibus):} &  0.744 & \\textbf{  Jarque-Bera (JB):  } &    0.172  \\\\\n",
       "\\textbf{Skew:}          &  0.124 & \\textbf{  Prob(JB):          } &    0.917  \\\\\n",
       "\\textbf{Kurtosis:}      &  3.151 & \\textbf{  Cond. No.          } & 7.77e+06  \\\\\n",
       "\\bottomrule\n",
       "\\end{tabular}\n",
       "%\\caption{OLS Regression Results}\n",
       "\\end{center}\n",
       "\n",
       "Notes: \\newline\n",
       " [1] Standard Errors assume that the covariance matrix of the errors is correctly specified. \\newline\n",
       " [2] The condition number is large, 7.77e+06. This might indicate that there are \\newline\n",
       " strong multicollinearity or other numerical problems."
      ],
      "text/plain": [
       "<class 'statsmodels.iolib.summary.Summary'>\n",
       "\"\"\"\n",
       "                                OLS Regression Results                               \n",
       "=====================================================================================\n",
       "Dep. Variable:     excess_deaths_total_weeks   R-squared:                       0.467\n",
       "Model:                                   OLS   Adj. R-squared:                  0.309\n",
       "Method:                        Least Squares   F-statistic:                     2.948\n",
       "Date:                       Tue, 31 Oct 2023   Prob (F-statistic):            0.00672\n",
       "Time:                               16:47:04   Log-Likelihood:                -262.11\n",
       "No. Observations:                         49   AIC:                             548.2\n",
       "Df Residuals:                             37   BIC:                             570.9\n",
       "Df Model:                                 11                                         \n",
       "Covariance Type:                   nonrobust                                         \n",
       "=============================================================================================\n",
       "                                coef    std err          t      P>|t|      [0.025      0.975]\n",
       "---------------------------------------------------------------------------------------------\n",
       "const                       130.3773   1009.599      0.129      0.898   -1915.265    2176.020\n",
       "Inc_Per_CAp_2022             -0.0001      0.002     -0.062      0.951      -0.003       0.003\n",
       "Life_Exp_2020                 1.8377     11.606      0.158      0.875     -21.678      25.354\n",
       "Uninsured_2021              691.8334    414.346      1.670      0.103    -147.712    1531.379\n",
       "flu_vaccination_rate_2019    -3.6849      2.518     -1.464      0.152      -8.786       1.416\n",
       "asthma_prevalence            -2.2474     10.538     -0.213      0.832     -23.599      19.104\n",
       "cardiac_mortality_rate        0.0796      0.604      0.132      0.896      -1.144       1.303\n",
       "high_bp_prevalence           -3.8579      5.833     -0.661      0.512     -15.676       7.960\n",
       "copd_prevalence               4.1030     13.977      0.294      0.771     -24.218      32.424\n",
       "kidney_disease_prevalence     9.6891     26.001      0.373      0.712     -42.993      62.371\n",
       "diabetes_prevalence          13.4773     12.278      1.098      0.279     -11.400      38.354\n",
       "Active DO Rate               -0.8568      0.863     -0.993      0.327      -2.605       0.892\n",
       "==============================================================================\n",
       "Omnibus:                        0.591   Durbin-Watson:                   1.877\n",
       "Prob(Omnibus):                  0.744   Jarque-Bera (JB):                0.172\n",
       "Skew:                           0.124   Prob(JB):                        0.917\n",
       "Kurtosis:                       3.151   Cond. No.                     7.77e+06\n",
       "==============================================================================\n",
       "\n",
       "Notes:\n",
       "[1] Standard Errors assume that the covariance matrix of the errors is correctly specified.\n",
       "[2] The condition number is large, 7.77e+06. This might indicate that there are\n",
       "strong multicollinearity or other numerical problems.\n",
       "\"\"\""
      ]
     },
     "execution_count": 78,
     "metadata": {},
     "output_type": "execute_result"
    }
   ],
   "source": [
    "ols.summary()"
   ]
  },
  {
   "cell_type": "code",
   "execution_count": null,
   "id": "129903a2-2ae2-4fc9-8583-eeffe828cb1c",
   "metadata": {},
   "outputs": [],
   "source": []
  },
  {
   "cell_type": "code",
   "execution_count": 88,
   "id": "7c6489a8-9063-4179-b628-67c411a438af",
   "metadata": {
    "tags": []
   },
   "outputs": [],
   "source": [
    "y = df['excess_deaths_total_weeks']\n",
    "X = df[['Inc_Per_CAp_2022', 'Life_Exp_2020', 'Uninsured_2021', 'flu_vaccination_rate_2019', 'asthma_prevalence',\n",
    "        'cardiac_mortality_rate', 'high_bp_prevalence', 'copd_prevalence', 'kidney_disease_prevalence', 'diabetes_prevalence', 'Active DO Rate']]"
   ]
  },
  {
   "cell_type": "code",
   "execution_count": 89,
   "id": "45fc135e-6d20-4a9a-b8b0-82317f3184d7",
   "metadata": {
    "tags": []
   },
   "outputs": [],
   "source": [
    "# TTS\n",
    "X_train, X_test, y_train, y_test = train_test_split(X, y, random_state = 42)"
   ]
  },
  {
   "cell_type": "code",
   "execution_count": 90,
   "id": "7c6215ed-230a-48fd-a677-a2ade039bafd",
   "metadata": {
    "tags": []
   },
   "outputs": [
    {
     "data": {
      "text/html": [
       "<style>#sk-container-id-2 {color: black;}#sk-container-id-2 pre{padding: 0;}#sk-container-id-2 div.sk-toggleable {background-color: white;}#sk-container-id-2 label.sk-toggleable__label {cursor: pointer;display: block;width: 100%;margin-bottom: 0;padding: 0.3em;box-sizing: border-box;text-align: center;}#sk-container-id-2 label.sk-toggleable__label-arrow:before {content: \"▸\";float: left;margin-right: 0.25em;color: #696969;}#sk-container-id-2 label.sk-toggleable__label-arrow:hover:before {color: black;}#sk-container-id-2 div.sk-estimator:hover label.sk-toggleable__label-arrow:before {color: black;}#sk-container-id-2 div.sk-toggleable__content {max-height: 0;max-width: 0;overflow: hidden;text-align: left;background-color: #f0f8ff;}#sk-container-id-2 div.sk-toggleable__content pre {margin: 0.2em;color: black;border-radius: 0.25em;background-color: #f0f8ff;}#sk-container-id-2 input.sk-toggleable__control:checked~div.sk-toggleable__content {max-height: 200px;max-width: 100%;overflow: auto;}#sk-container-id-2 input.sk-toggleable__control:checked~label.sk-toggleable__label-arrow:before {content: \"▾\";}#sk-container-id-2 div.sk-estimator input.sk-toggleable__control:checked~label.sk-toggleable__label {background-color: #d4ebff;}#sk-container-id-2 div.sk-label input.sk-toggleable__control:checked~label.sk-toggleable__label {background-color: #d4ebff;}#sk-container-id-2 input.sk-hidden--visually {border: 0;clip: rect(1px 1px 1px 1px);clip: rect(1px, 1px, 1px, 1px);height: 1px;margin: -1px;overflow: hidden;padding: 0;position: absolute;width: 1px;}#sk-container-id-2 div.sk-estimator {font-family: monospace;background-color: #f0f8ff;border: 1px dotted black;border-radius: 0.25em;box-sizing: border-box;margin-bottom: 0.5em;}#sk-container-id-2 div.sk-estimator:hover {background-color: #d4ebff;}#sk-container-id-2 div.sk-parallel-item::after {content: \"\";width: 100%;border-bottom: 1px solid gray;flex-grow: 1;}#sk-container-id-2 div.sk-label:hover label.sk-toggleable__label {background-color: #d4ebff;}#sk-container-id-2 div.sk-serial::before {content: \"\";position: absolute;border-left: 1px solid gray;box-sizing: border-box;top: 0;bottom: 0;left: 50%;z-index: 0;}#sk-container-id-2 div.sk-serial {display: flex;flex-direction: column;align-items: center;background-color: white;padding-right: 0.2em;padding-left: 0.2em;position: relative;}#sk-container-id-2 div.sk-item {position: relative;z-index: 1;}#sk-container-id-2 div.sk-parallel {display: flex;align-items: stretch;justify-content: center;background-color: white;position: relative;}#sk-container-id-2 div.sk-item::before, #sk-container-id-2 div.sk-parallel-item::before {content: \"\";position: absolute;border-left: 1px solid gray;box-sizing: border-box;top: 0;bottom: 0;left: 50%;z-index: -1;}#sk-container-id-2 div.sk-parallel-item {display: flex;flex-direction: column;z-index: 1;position: relative;background-color: white;}#sk-container-id-2 div.sk-parallel-item:first-child::after {align-self: flex-end;width: 50%;}#sk-container-id-2 div.sk-parallel-item:last-child::after {align-self: flex-start;width: 50%;}#sk-container-id-2 div.sk-parallel-item:only-child::after {width: 0;}#sk-container-id-2 div.sk-dashed-wrapped {border: 1px dashed gray;margin: 0 0.4em 0.5em 0.4em;box-sizing: border-box;padding-bottom: 0.4em;background-color: white;}#sk-container-id-2 div.sk-label label {font-family: monospace;font-weight: bold;display: inline-block;line-height: 1.2em;}#sk-container-id-2 div.sk-label-container {text-align: center;}#sk-container-id-2 div.sk-container {/* jupyter's `normalize.less` sets `[hidden] { display: none; }` but bootstrap.min.css set `[hidden] { display: none !important; }` so we also need the `!important` here to be able to override the default hidden behavior on the sphinx rendered scikit-learn.org. See: https://github.com/scikit-learn/scikit-learn/issues/21755 */display: inline-block !important;position: relative;}#sk-container-id-2 div.sk-text-repr-fallback {display: none;}</style><div id=\"sk-container-id-2\" class=\"sk-top-container\"><div class=\"sk-text-repr-fallback\"><pre>LinearRegression()</pre><b>In a Jupyter environment, please rerun this cell to show the HTML representation or trust the notebook. <br />On GitHub, the HTML representation is unable to render, please try loading this page with nbviewer.org.</b></div><div class=\"sk-container\" hidden><div class=\"sk-item\"><div class=\"sk-estimator sk-toggleable\"><input class=\"sk-toggleable__control sk-hidden--visually\" id=\"sk-estimator-id-2\" type=\"checkbox\" checked><label for=\"sk-estimator-id-2\" class=\"sk-toggleable__label sk-toggleable__label-arrow\">LinearRegression</label><div class=\"sk-toggleable__content\"><pre>LinearRegression()</pre></div></div></div></div></div>"
      ],
      "text/plain": [
       "LinearRegression()"
      ]
     },
     "execution_count": 90,
     "metadata": {},
     "output_type": "execute_result"
    }
   ],
   "source": [
    "lr = LinearRegression()\n",
    "lr.fit(X_train, y_train)"
   ]
  },
  {
   "cell_type": "code",
   "execution_count": 97,
   "id": "fb4032d2-201f-455e-9a59-09e7ef3288de",
   "metadata": {
    "tags": []
   },
   "outputs": [
    {
     "name": "stdout",
     "output_type": "stream",
     "text": [
      "Train Score: 0.619299773081303\n",
      "Train Score: -1.2180693891412502\n"
     ]
    }
   ],
   "source": [
    "print(f'Train Score: {lr.score(X_train, y_train)}')\n",
    "print(f'Train Score: {lr.score(X_test, y_test)}')"
   ]
  },
  {
   "cell_type": "code",
   "execution_count": null,
   "id": "edd289c9-962a-4d05-b329-001b75365b28",
   "metadata": {},
   "outputs": [],
   "source": []
  },
  {
   "cell_type": "code",
   "execution_count": 99,
   "id": "c024f6df-c247-42d0-bb88-c52fe09724b8",
   "metadata": {
    "tags": []
   },
   "outputs": [
    {
     "data": {
      "text/plain": [
       "0     292\n",
       "1     151\n",
       "2     280\n",
       "3     223\n",
       "4     304\n",
       "5     280\n",
       "6     136\n",
       "7     126\n",
       "8     274\n",
       "9     351\n",
       "10     81\n",
       "11    207\n",
       "12    285\n",
       "13    220\n",
       "14    152\n",
       "15    156\n",
       "16    235\n",
       "17    258\n",
       "18    136\n",
       "19    148\n",
       "20    113\n",
       "21    232\n",
       "22    144\n",
       "23    286\n",
       "24    194\n",
       "25    171\n",
       "26    136\n",
       "27    190\n",
       "28    101\n",
       "30    246\n",
       "31    177\n",
       "32    275\n",
       "33     86\n",
       "34    183\n",
       "35    231\n",
       "36    258\n",
       "37    176\n",
       "38     85\n",
       "39    284\n",
       "40     86\n",
       "41    250\n",
       "42    332\n",
       "43    193\n",
       "44    156\n",
       "45    284\n",
       "46    242\n",
       "47    213\n",
       "48    175\n",
       "49    143\n",
       "Name: excess_deaths_total_weeks, dtype: int64"
      ]
     },
     "execution_count": 99,
     "metadata": {},
     "output_type": "execute_result"
    }
   ],
   "source": [
    "df['excess_deaths_total_weeks']"
   ]
  },
  {
   "cell_type": "code",
   "execution_count": null,
   "id": "cae4b4d9-0738-4f03-ae07-badac4eb3337",
   "metadata": {},
   "outputs": [],
   "source": []
  }
 ],
 "metadata": {
  "kernelspec": {
   "display_name": "Python 3 (ipykernel)",
   "language": "python",
   "name": "python3"
  },
  "language_info": {
   "codemirror_mode": {
    "name": "ipython",
    "version": 3
   },
   "file_extension": ".py",
   "mimetype": "text/x-python",
   "name": "python",
   "nbconvert_exporter": "python",
   "pygments_lexer": "ipython3",
   "version": "3.11.5"
  }
 },
 "nbformat": 4,
 "nbformat_minor": 5
}
