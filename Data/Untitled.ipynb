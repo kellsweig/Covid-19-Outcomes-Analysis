{
 "cells": [
  {
   "cell_type": "code",
   "execution_count": 45,
   "id": "ed88ba4c-dd5a-4a31-a0ab-8f028126b3a9",
   "metadata": {
    "tags": []
   },
   "outputs": [],
   "source": [
    "def persistence(n):\n",
    "    if len(str(n)) == 1:\n",
    "        return 0\n",
    "    else:\n",
    "        print(n)\n",
    "    \n",
    "    \n",
    "    "
   ]
  },
  {
   "cell_type": "code",
   "execution_count": 67,
   "id": "c1f13321-0c4c-4587-aaf1-d93d365a4768",
   "metadata": {
    "tags": []
   },
   "outputs": [],
   "source": [
    "def persistence(n):\n",
    "    if len(str(n)) == 1:\n",
    "        return 0    \n",
    "\n",
    "    elif len(str(n)) == 2:\n",
    "    product1 = 1\n",
    "    for char in str(n):\n",
    "        product1 = product1*int(char)\n",
    "    print(product1)\n",
    "    \n",
    "    elif len(str(n)) == 3:\n",
    "    product1 = 1\n",
    "    for char in str(n):\n",
    "        product1 = product1*int(char)\n",
    "    print(product1)\n",
    "    \n",
    "    product2 = 1\n",
    "    for char in str(product1):\n",
    "        product2 = product2*int(char)\n",
    "    print(product2)\n",
    "    \n",
    "    product3 = 1\n",
    "    for char in str(product2):\n",
    "        product3 = product3*int(char)\n",
    "    print(product3)\n",
    "    \n",
    "    product4 = 1\n",
    "    for char in str(product3):\n",
    "        product4 = product4*int(char)\n",
    "    print(product4)\n",
    "    "
   ]
  },
  {
   "cell_type": "code",
   "execution_count": 66,
   "id": "04869c51-1072-445b-a2fa-3223dccb5b3c",
   "metadata": {
    "tags": []
   },
   "outputs": [
    {
     "name": "stdout",
     "output_type": "stream",
     "text": [
      "729\n",
      "126\n",
      "12\n"
     ]
    }
   ],
   "source": [
    "persistence(999)"
   ]
  }
 ],
 "metadata": {
  "kernelspec": {
   "display_name": "Python 3 (ipykernel)",
   "language": "python",
   "name": "python3"
  },
  "language_info": {
   "codemirror_mode": {
    "name": "ipython",
    "version": 3
   },
   "file_extension": ".py",
   "mimetype": "text/x-python",
   "name": "python",
   "nbconvert_exporter": "python",
   "pygments_lexer": "ipython3",
   "version": "3.11.5"
  }
 },
 "nbformat": 4,
 "nbformat_minor": 5
}
